{
 "cells": [
  {
   "cell_type": "markdown",
   "source": [
    "# iNaturalist status updates by state\n",
    "\n",
    "Using the file produced in the collate-status-taxa.ipynb: `inat-aust-status-taxa.csv` (statuses joined to taxa names), generate lists to update iNaturalist statuses\n",
    "\n",
    "## Prep - common to all states\n",
    "1. Read in the inaturalist statuses & filter out this state\n",
    "2. Read in the state conservation and sensitive lists\n",
    "3. Prep fields incl IUCN equivalent mappings and matching to iNat taxonomy  \n",
    "4. Merge and compare the state and inaturalist lists\n",
    "5. Create update/removals list\n",
    "6. Create additions list\n",
    "7. Save files\n",
    "\n",
    "## 1. Read in the inaturalist statuses & filter out ACT"
   ],
   "metadata": {
    "collapsed": false,
    "pycharm": {
     "name": "#%% md\n"
    }
   }
  },
  {
   "cell_type": "code",
   "execution_count": 1,
   "metadata": {
    "collapsed": true,
    "pycharm": {
     "name": "#%%\n"
    },
    "ExecuteTime": {
     "end_time": "2024-01-18T06:01:28.412444Z",
     "start_time": "2024-01-18T06:01:27.763320Z"
    }
   },
   "outputs": [
    {
     "data": {
      "text/plain": "inat_status\nCritically Endangered                 6\nEndangered                           18\nRegionally Conservation Dependent     1\nVulnerable                           22\nrare                                  3\nvulnerable                            2\ndtype: int64"
     },
     "execution_count": 1,
     "metadata": {},
     "output_type": "execute_result"
    }
   ],
   "source": [
    "import pandas as pd\n",
    "import sys\n",
    "import os\n",
    "projectdir = os.path.dirname(os.getcwd()) + \"/\" # parent dir of cwd\n",
    "sourcedir = projectdir + \"data/in/\"\n",
    "sys.path.append(os.path.abspath(projectdir + \"notebooks/includes/\"))\n",
    "import list_functions  as lf\n",
    "\n",
    "# read in the statuses file\n",
    "taxastatus = pd.read_csv(sourcedir + \"inat-aust-status-taxa.csv\", encoding='UTF-8',na_filter=False,dtype=str)\n",
    "\n",
    "# filter out ACT entries\n",
    "def filter_state_statuses(stateregex: str, urlregex: str):\n",
    "    authoritydf = taxastatus['authority'].drop_duplicates().sort_values()\n",
    "    authoritydf = authoritydf[pd.Series(authoritydf).str.contains(stateregex)]\n",
    "    urldf = taxastatus['url'].drop_duplicates().sort_values()\n",
    "    urldf = urldf[pd.Series(urldf).str.contains(urlregex)]\n",
    "    placedisplaydf = taxastatus['place_display_name'].drop_duplicates().sort_values()\n",
    "    placedisplaydf = placedisplaydf[pd.Series(placedisplaydf).str.contains(stateregex)]\n",
    "    placedf = taxastatus['place_name'].drop_duplicates().sort_values()\n",
    "    placedf = placedf[pd.Series(placedf).str.contains(stateregex)]\n",
    "    # concat all and remove duplicates\n",
    "    statedf = pd.concat([taxastatus.apply(lambda row: row[taxastatus['place_display_name'].isin(placedisplaydf)]),\n",
    "                         taxastatus.apply(lambda row: row[taxastatus['place_name'].isin(placedf)]),\n",
    "                         taxastatus.apply(lambda row: row[taxastatus['url'].isin(urldf)]),\n",
    "                         taxastatus.apply(\n",
    "                             lambda row: row[taxastatus['authority'].isin(authoritydf)])]).drop_duplicates()\n",
    "    return statedf.sort_values(['taxon_id', 'user_id'])\n",
    "\n",
    "inatstatuses = filter_state_statuses(\"ACT Government|Australian Capital Territory| ACT, AU\", \".act.gov\")\n",
    "inatstatuses = inatstatuses.add_prefix(\"inat_\")\n",
    "inatstatuses.groupby(['inat_status']).size()\n"
   ]
  },
  {
   "cell_type": "markdown",
   "source": [
    "## 2. Read in the State lists\n",
    "Read in the state lists \n",
    " * Set conservation list value `authority` = \"Nature Conservation Act 2014 (ACT)\"\n",
    " * Set sensitive list value: `geoprivacy` = `obscured`"
   ],
   "metadata": {
    "collapsed": false,
    "pycharm": {
     "name": "#%% md\n"
    }
   }
  },
  {
   "cell_type": "code",
   "execution_count": 2,
   "outputs": [],
   "source": [
    "# %%script echo skipping # comment this line to download dataset from lists.ala.org.au the web and save locally\n",
    "# Download lists data. Retrieve binomial and trinomial names from GBIF. Save locally to CSV\n",
    "\n",
    "sensitivelist = lf.download_ala_specieslist(\"https://lists.ala.org.au/ws/speciesListItems/dr2627?max=10000&includeKVP=true\")\n",
    "sensitivelist = lf.kvp_to_columns(sensitivelist)\n",
    "sensitivelist.to_csv(sourcedir + \"/state-lists/act-ala-sensitive.csv\", index=False)\n",
    "\n",
    "conservationlist = lf.download_ala_specieslist(\"https://lists.ala.org.au/ws/speciesListItems/dr649?max=10000&includeKVP=true\")\n",
    "conservationlist = lf.kvp_to_columns(conservationlist)\n",
    "conservationlist.to_csv(sourcedir + \"/state-lists/act-ala-conservation.csv\", index=False)"
   ],
   "metadata": {
    "collapsed": false,
    "ExecuteTime": {
     "end_time": "2024-01-18T06:01:29.383350Z",
     "start_time": "2024-01-18T06:01:28.412362Z"
    }
   }
  },
  {
   "cell_type": "code",
   "execution_count": 3,
   "outputs": [
    {
     "name": "stdout",
     "output_type": "stream",
     "text": [
      "Conservation list entries:65\n",
      "Sensitive list entries:211\n"
     ]
    },
    {
     "data": {
      "text/plain": "                        state_scientificName  \\\n0                        Anthochaera phrygia   \n1                      Aprasia parapulchella   \n2                         Bettongia gaimardi   \n3                          Bidyanus bidyanus   \n4                             Bossiaea grayi   \n..                                       ...   \n230                            Todea barbara   \n231                            Toxidia peron   \n232       Tympanocryptis lineata pinguicolla   \n233                       Varanus rosenbergi   \n234  Xanthorrhoea glauca subsp. angustifolia   \n\n                               state_lsid_conservation  \\\n0    https://biodiversity.org.au/afd/taxa/31869a0e-...   \n1    https://biodiversity.org.au/afd/taxa/0d74fa05-...   \n2    https://biodiversity.org.au/afd/taxa/19c9bfdf-...   \n3    https://biodiversity.org.au/afd/taxa/05866f31-...   \n4     https://id.biodiversity.org.au/node/apni/2910201   \n..                                                 ...   \n230                                                NaN   \n231                                                NaN   \n232                                                NaN   \n233                                                NaN   \n234                                                NaN   \n\n               state_status                     state_authority  \\\n0     Critically Endangered  Nature Conservation Act 2014 (ACT)   \n1                Vulnerable  Nature Conservation Act 2014 (ACT)   \n2    Conservation Dependent  Nature Conservation Act 2014 (ACT)   \n3                Endangered  Nature Conservation Act 2014 (ACT)   \n4                Endangered  Nature Conservation Act 2014 (ACT)   \n..                      ...                                 ...   \n230                     NaN                                 NaN   \n231                     NaN                                 NaN   \n232                     NaN                                 NaN   \n233                     NaN                                 NaN   \n234                     NaN                                 NaN   \n\n                                  state_lsid_sensitive state_geoprivacy  \n0    https://biodiversity.org.au/afd/taxa/31869a0e-...         obscured  \n1    https://biodiversity.org.au/afd/taxa/0d74fa05-...         obscured  \n2    https://biodiversity.org.au/afd/taxa/19c9bfdf-...         obscured  \n3                                                  NaN              NaN  \n4     https://id.biodiversity.org.au/node/apni/2910201         obscured  \n..                                                 ...              ...  \n230   https://id.biodiversity.org.au/node/apni/2916843         obscured  \n231  https://biodiversity.org.au/afd/taxa/724c2f19-...         obscured  \n232  https://biodiversity.org.au/afd/taxa/5bceebc1-...         obscured  \n233  https://biodiversity.org.au/afd/taxa/a01a6bb4-...         obscured  \n234   https://id.biodiversity.org.au/node/apni/2897807         obscured  \n\n[235 rows x 6 columns]",
      "text/html": "<div>\n<style scoped>\n    .dataframe tbody tr th:only-of-type {\n        vertical-align: middle;\n    }\n\n    .dataframe tbody tr th {\n        vertical-align: top;\n    }\n\n    .dataframe thead th {\n        text-align: right;\n    }\n</style>\n<table border=\"1\" class=\"dataframe\">\n  <thead>\n    <tr style=\"text-align: right;\">\n      <th></th>\n      <th>state_scientificName</th>\n      <th>state_lsid_conservation</th>\n      <th>state_status</th>\n      <th>state_authority</th>\n      <th>state_lsid_sensitive</th>\n      <th>state_geoprivacy</th>\n    </tr>\n  </thead>\n  <tbody>\n    <tr>\n      <th>0</th>\n      <td>Anthochaera phrygia</td>\n      <td>https://biodiversity.org.au/afd/taxa/31869a0e-...</td>\n      <td>Critically Endangered</td>\n      <td>Nature Conservation Act 2014 (ACT)</td>\n      <td>https://biodiversity.org.au/afd/taxa/31869a0e-...</td>\n      <td>obscured</td>\n    </tr>\n    <tr>\n      <th>1</th>\n      <td>Aprasia parapulchella</td>\n      <td>https://biodiversity.org.au/afd/taxa/0d74fa05-...</td>\n      <td>Vulnerable</td>\n      <td>Nature Conservation Act 2014 (ACT)</td>\n      <td>https://biodiversity.org.au/afd/taxa/0d74fa05-...</td>\n      <td>obscured</td>\n    </tr>\n    <tr>\n      <th>2</th>\n      <td>Bettongia gaimardi</td>\n      <td>https://biodiversity.org.au/afd/taxa/19c9bfdf-...</td>\n      <td>Conservation Dependent</td>\n      <td>Nature Conservation Act 2014 (ACT)</td>\n      <td>https://biodiversity.org.au/afd/taxa/19c9bfdf-...</td>\n      <td>obscured</td>\n    </tr>\n    <tr>\n      <th>3</th>\n      <td>Bidyanus bidyanus</td>\n      <td>https://biodiversity.org.au/afd/taxa/05866f31-...</td>\n      <td>Endangered</td>\n      <td>Nature Conservation Act 2014 (ACT)</td>\n      <td>NaN</td>\n      <td>NaN</td>\n    </tr>\n    <tr>\n      <th>4</th>\n      <td>Bossiaea grayi</td>\n      <td>https://id.biodiversity.org.au/node/apni/2910201</td>\n      <td>Endangered</td>\n      <td>Nature Conservation Act 2014 (ACT)</td>\n      <td>https://id.biodiversity.org.au/node/apni/2910201</td>\n      <td>obscured</td>\n    </tr>\n    <tr>\n      <th>...</th>\n      <td>...</td>\n      <td>...</td>\n      <td>...</td>\n      <td>...</td>\n      <td>...</td>\n      <td>...</td>\n    </tr>\n    <tr>\n      <th>230</th>\n      <td>Todea barbara</td>\n      <td>NaN</td>\n      <td>NaN</td>\n      <td>NaN</td>\n      <td>https://id.biodiversity.org.au/node/apni/2916843</td>\n      <td>obscured</td>\n    </tr>\n    <tr>\n      <th>231</th>\n      <td>Toxidia peron</td>\n      <td>NaN</td>\n      <td>NaN</td>\n      <td>NaN</td>\n      <td>https://biodiversity.org.au/afd/taxa/724c2f19-...</td>\n      <td>obscured</td>\n    </tr>\n    <tr>\n      <th>232</th>\n      <td>Tympanocryptis lineata pinguicolla</td>\n      <td>NaN</td>\n      <td>NaN</td>\n      <td>NaN</td>\n      <td>https://biodiversity.org.au/afd/taxa/5bceebc1-...</td>\n      <td>obscured</td>\n    </tr>\n    <tr>\n      <th>233</th>\n      <td>Varanus rosenbergi</td>\n      <td>NaN</td>\n      <td>NaN</td>\n      <td>NaN</td>\n      <td>https://biodiversity.org.au/afd/taxa/a01a6bb4-...</td>\n      <td>obscured</td>\n    </tr>\n    <tr>\n      <th>234</th>\n      <td>Xanthorrhoea glauca subsp. angustifolia</td>\n      <td>NaN</td>\n      <td>NaN</td>\n      <td>NaN</td>\n      <td>https://id.biodiversity.org.au/node/apni/2897807</td>\n      <td>obscured</td>\n    </tr>\n  </tbody>\n</table>\n<p>235 rows × 6 columns</p>\n</div>"
     },
     "execution_count": 3,
     "metadata": {},
     "output_type": "execute_result"
    }
   ],
   "source": [
    "# Read lists and merge\n",
    "sensitivelist = pd.read_csv(sourcedir + \"/state-lists/act-ala-sensitive.csv\", dtype=str)\n",
    "conservationlist = pd.read_csv(sourcedir + \"/state-lists/act-ala-conservation.csv\", dtype=str)\n",
    "\n",
    "sensitivelist['geoprivacy'] = 'obscured'\n",
    "conservationlist['authority'] = \"Nature Conservation Act 2014 (ACT)\"\n",
    "statelist = conservationlist[['name','lsid','status','authority']].merge(sensitivelist[['name','lsid','geoprivacy']], how=\"outer\",on='name',suffixes=('_conservation', '_sensitive'))\n",
    "statelist = statelist.rename(columns = {'name':'scientificName'})\n",
    "statelist = statelist.add_prefix(\"state_\")\n",
    "print(\"Conservation list entries:\" + str(len(conservationlist)))\n",
    "print(\"Sensitive list entries:\" + str(len(sensitivelist)))\n",
    "statelist"
   ],
   "metadata": {
    "collapsed": false,
    "pycharm": {
     "name": "#%%\n"
    },
    "ExecuteTime": {
     "end_time": "2024-01-18T06:01:29.416644Z",
     "start_time": "2024-01-18T06:01:29.384272Z"
    }
   }
  },
  {
   "cell_type": "code",
   "execution_count": 4,
   "outputs": [
    {
     "data": {
      "text/plain": "Empty DataFrame\nColumns: [state_scientificName, state_lsid_conservation, state_status, state_authority, state_lsid_sensitive, state_geoprivacy]\nIndex: []",
      "text/html": "<div>\n<style scoped>\n    .dataframe tbody tr th:only-of-type {\n        vertical-align: middle;\n    }\n\n    .dataframe tbody tr th {\n        vertical-align: top;\n    }\n\n    .dataframe thead th {\n        text-align: right;\n    }\n</style>\n<table border=\"1\" class=\"dataframe\">\n  <thead>\n    <tr style=\"text-align: right;\">\n      <th></th>\n      <th>state_scientificName</th>\n      <th>state_lsid_conservation</th>\n      <th>state_status</th>\n      <th>state_authority</th>\n      <th>state_lsid_sensitive</th>\n      <th>state_geoprivacy</th>\n    </tr>\n  </thead>\n  <tbody>\n  </tbody>\n</table>\n</div>"
     },
     "execution_count": 4,
     "metadata": {},
     "output_type": "execute_result"
    }
   ],
   "source": [
    "# check for duplicates with conflicting information\n",
    "#statelist = statelist.rename(columns={'name':'scientificName'})\n",
    "dupinformation = statelist.groupby('state_lsid_conservation').filter(lambda x: len(x) > 1)\n",
    "dupinformation"
   ],
   "metadata": {
    "collapsed": false,
    "pycharm": {
     "name": "#%%\n"
    },
    "ExecuteTime": {
     "end_time": "2024-01-18T06:01:29.417041Z",
     "start_time": "2024-01-18T06:01:29.407327Z"
    }
   }
  },
  {
   "cell_type": "code",
   "execution_count": 5,
   "outputs": [
    {
     "data": {
      "text/plain": "state_status\nConservation Dependent      1\nCritically Endangered       8\nEndangered                 24\nVulnerable                 32\nNaN                       170\ndtype: int64"
     },
     "execution_count": 5,
     "metadata": {},
     "output_type": "execute_result"
    }
   ],
   "source": [
    "\n",
    "statelist.groupby('state_status',dropna=False).size()"
   ],
   "metadata": {
    "collapsed": false,
    "pycharm": {
     "name": "#%%\n"
    },
    "ExecuteTime": {
     "end_time": "2024-01-18T06:01:29.418038Z",
     "start_time": "2024-01-18T06:01:29.412475Z"
    }
   }
  },
  {
   "cell_type": "markdown",
   "source": [
    "## 3. Prepare other fields: IUCN equivalent, place ID, userid \n",
    "* ensure the statuses from the state maps to an IUCN equivalent\n",
    "* ICUN statuses = {'Not Evaluated', 'Data Deficient', 'Least Concern', 'Near Threatened', 'Vulnerable', 'Endangered', 'Critically Endangered', 'Extinct in the Wild', 'Extinct'}"
   ],
   "metadata": {
    "collapsed": false
   }
  },
  {
   "cell_type": "code",
   "execution_count": 6,
   "outputs": [],
   "source": [
    "#(50:CE, 30:V, 40 E)\n",
    "iucnStatusMappings = {\n",
    "    'Critically Endangered':'50',\n",
    "    'Endangered':'40',\n",
    "    'Vulnerable':'30',\n",
    "    'Conservation Dependent':'30'\n",
    "}"
   ],
   "metadata": {
    "collapsed": false,
    "pycharm": {
     "name": "#%%\n"
    },
    "ExecuteTime": {
     "end_time": "2024-01-18T06:01:29.418384Z",
     "start_time": "2024-01-18T06:01:29.414639Z"
    }
   }
  },
  {
   "cell_type": "code",
   "execution_count": 7,
   "outputs": [
    {
     "data": {
      "text/plain": "inat_place_id  inat_place_name               inat_place_display_name         \n12986          Australian Capital Territory  Australian Capital Territory, AU    52\nName: inat_place_id, dtype: int64"
     },
     "execution_count": 7,
     "metadata": {},
     "output_type": "execute_result"
    }
   ],
   "source": [
    "inatstatuses.groupby(['inat_place_id','inat_place_name','inat_place_display_name'])['inat_place_id'].count()\n",
    "# looks like 12986 - set it\n"
   ],
   "metadata": {
    "collapsed": false,
    "pycharm": {
     "name": "#%%\n"
    },
    "ExecuteTime": {
     "end_time": "2024-01-18T06:01:29.422477Z",
     "start_time": "2024-01-18T06:01:29.416937Z"
    }
   }
  },
  {
   "cell_type": "code",
   "execution_count": 8,
   "outputs": [
    {
     "data": {
      "text/plain": "                        state_scientificName            state_status  \\\n0                        Anthochaera phrygia   Critically Endangered   \n1                      Aprasia parapulchella              Vulnerable   \n2                         Bettongia gaimardi  Conservation Dependent   \n3                          Bidyanus bidyanus              Endangered   \n4                             Bossiaea grayi              Endangered   \n..                                       ...                     ...   \n230                            Todea barbara                     NaN   \n231                            Toxidia peron                     NaN   \n232       Tympanocryptis lineata pinguicolla                     NaN   \n233                       Varanus rosenbergi                     NaN   \n234  Xanthorrhoea glauca subsp. angustifolia                     NaN   \n\n    state_geoprivacy                            state_lsid_conservation  \\\n0           obscured  https://biodiversity.org.au/afd/taxa/31869a0e-...   \n1           obscured  https://biodiversity.org.au/afd/taxa/0d74fa05-...   \n2           obscured  https://biodiversity.org.au/afd/taxa/19c9bfdf-...   \n3                NaN  https://biodiversity.org.au/afd/taxa/05866f31-...   \n4           obscured   https://id.biodiversity.org.au/node/apni/2910201   \n..               ...                                                ...   \n230         obscured                                                NaN   \n231         obscured                                                NaN   \n232         obscured                                                NaN   \n233         obscured                                                NaN   \n234         obscured                                                NaN   \n\n                                  state_lsid_sensitive  \\\n0    https://biodiversity.org.au/afd/taxa/31869a0e-...   \n1    https://biodiversity.org.au/afd/taxa/0d74fa05-...   \n2    https://biodiversity.org.au/afd/taxa/19c9bfdf-...   \n3                                                  NaN   \n4     https://id.biodiversity.org.au/node/apni/2910201   \n..                                                 ...   \n230   https://id.biodiversity.org.au/node/apni/2916843   \n231  https://biodiversity.org.au/afd/taxa/724c2f19-...   \n232  https://biodiversity.org.au/afd/taxa/5bceebc1-...   \n233  https://biodiversity.org.au/afd/taxa/a01a6bb4-...   \n234   https://id.biodiversity.org.au/node/apni/2897807   \n\n                        state_authority inat_taxon_id        inat_taxon_name  \\\n0    Nature Conservation Act 2014 (ACT)        144707    Anthochaera phrygia   \n1    Nature Conservation Act 2014 (ACT)         36957  Aprasia parapulchella   \n2    Nature Conservation Act 2014 (ACT)         42996     Bettongia gaimardi   \n3    Nature Conservation Act 2014 (ACT)         95759      Bidyanus bidyanus   \n4    Nature Conservation Act 2014 (ACT)        795624         Bossiaea grayi   \n..                                  ...           ...                    ...   \n230                                 NaN        323949          Todea barbara   \n231                                 NaN           NaN                    NaN   \n232                                 NaN           NaN                    NaN   \n233                                 NaN         39441     Varanus rosenbergi   \n234                                 NaN           NaN                    NaN   \n\n    inat_rank inat_observations_count inat_is_active  \n0     species                      83              t  \n1     species                      40              t  \n2     species                     198              t  \n3     species                      38              t  \n4     species                       3              t  \n..        ...                     ...            ...  \n230   species                    1630              t  \n231       NaN                     NaN            NaN  \n232       NaN                     NaN            NaN  \n233   species                     806              t  \n234       NaN                     NaN            NaN  \n\n[235 rows x 11 columns]",
      "text/html": "<div>\n<style scoped>\n    .dataframe tbody tr th:only-of-type {\n        vertical-align: middle;\n    }\n\n    .dataframe tbody tr th {\n        vertical-align: top;\n    }\n\n    .dataframe thead th {\n        text-align: right;\n    }\n</style>\n<table border=\"1\" class=\"dataframe\">\n  <thead>\n    <tr style=\"text-align: right;\">\n      <th></th>\n      <th>state_scientificName</th>\n      <th>state_status</th>\n      <th>state_geoprivacy</th>\n      <th>state_lsid_conservation</th>\n      <th>state_lsid_sensitive</th>\n      <th>state_authority</th>\n      <th>inat_taxon_id</th>\n      <th>inat_taxon_name</th>\n      <th>inat_rank</th>\n      <th>inat_observations_count</th>\n      <th>inat_is_active</th>\n    </tr>\n  </thead>\n  <tbody>\n    <tr>\n      <th>0</th>\n      <td>Anthochaera phrygia</td>\n      <td>Critically Endangered</td>\n      <td>obscured</td>\n      <td>https://biodiversity.org.au/afd/taxa/31869a0e-...</td>\n      <td>https://biodiversity.org.au/afd/taxa/31869a0e-...</td>\n      <td>Nature Conservation Act 2014 (ACT)</td>\n      <td>144707</td>\n      <td>Anthochaera phrygia</td>\n      <td>species</td>\n      <td>83</td>\n      <td>t</td>\n    </tr>\n    <tr>\n      <th>1</th>\n      <td>Aprasia parapulchella</td>\n      <td>Vulnerable</td>\n      <td>obscured</td>\n      <td>https://biodiversity.org.au/afd/taxa/0d74fa05-...</td>\n      <td>https://biodiversity.org.au/afd/taxa/0d74fa05-...</td>\n      <td>Nature Conservation Act 2014 (ACT)</td>\n      <td>36957</td>\n      <td>Aprasia parapulchella</td>\n      <td>species</td>\n      <td>40</td>\n      <td>t</td>\n    </tr>\n    <tr>\n      <th>2</th>\n      <td>Bettongia gaimardi</td>\n      <td>Conservation Dependent</td>\n      <td>obscured</td>\n      <td>https://biodiversity.org.au/afd/taxa/19c9bfdf-...</td>\n      <td>https://biodiversity.org.au/afd/taxa/19c9bfdf-...</td>\n      <td>Nature Conservation Act 2014 (ACT)</td>\n      <td>42996</td>\n      <td>Bettongia gaimardi</td>\n      <td>species</td>\n      <td>198</td>\n      <td>t</td>\n    </tr>\n    <tr>\n      <th>3</th>\n      <td>Bidyanus bidyanus</td>\n      <td>Endangered</td>\n      <td>NaN</td>\n      <td>https://biodiversity.org.au/afd/taxa/05866f31-...</td>\n      <td>NaN</td>\n      <td>Nature Conservation Act 2014 (ACT)</td>\n      <td>95759</td>\n      <td>Bidyanus bidyanus</td>\n      <td>species</td>\n      <td>38</td>\n      <td>t</td>\n    </tr>\n    <tr>\n      <th>4</th>\n      <td>Bossiaea grayi</td>\n      <td>Endangered</td>\n      <td>obscured</td>\n      <td>https://id.biodiversity.org.au/node/apni/2910201</td>\n      <td>https://id.biodiversity.org.au/node/apni/2910201</td>\n      <td>Nature Conservation Act 2014 (ACT)</td>\n      <td>795624</td>\n      <td>Bossiaea grayi</td>\n      <td>species</td>\n      <td>3</td>\n      <td>t</td>\n    </tr>\n    <tr>\n      <th>...</th>\n      <td>...</td>\n      <td>...</td>\n      <td>...</td>\n      <td>...</td>\n      <td>...</td>\n      <td>...</td>\n      <td>...</td>\n      <td>...</td>\n      <td>...</td>\n      <td>...</td>\n      <td>...</td>\n    </tr>\n    <tr>\n      <th>230</th>\n      <td>Todea barbara</td>\n      <td>NaN</td>\n      <td>obscured</td>\n      <td>NaN</td>\n      <td>https://id.biodiversity.org.au/node/apni/2916843</td>\n      <td>NaN</td>\n      <td>323949</td>\n      <td>Todea barbara</td>\n      <td>species</td>\n      <td>1630</td>\n      <td>t</td>\n    </tr>\n    <tr>\n      <th>231</th>\n      <td>Toxidia peron</td>\n      <td>NaN</td>\n      <td>obscured</td>\n      <td>NaN</td>\n      <td>https://biodiversity.org.au/afd/taxa/724c2f19-...</td>\n      <td>NaN</td>\n      <td>NaN</td>\n      <td>NaN</td>\n      <td>NaN</td>\n      <td>NaN</td>\n      <td>NaN</td>\n    </tr>\n    <tr>\n      <th>232</th>\n      <td>Tympanocryptis lineata pinguicolla</td>\n      <td>NaN</td>\n      <td>obscured</td>\n      <td>NaN</td>\n      <td>https://biodiversity.org.au/afd/taxa/5bceebc1-...</td>\n      <td>NaN</td>\n      <td>NaN</td>\n      <td>NaN</td>\n      <td>NaN</td>\n      <td>NaN</td>\n      <td>NaN</td>\n    </tr>\n    <tr>\n      <th>233</th>\n      <td>Varanus rosenbergi</td>\n      <td>NaN</td>\n      <td>obscured</td>\n      <td>NaN</td>\n      <td>https://biodiversity.org.au/afd/taxa/a01a6bb4-...</td>\n      <td>NaN</td>\n      <td>39441</td>\n      <td>Varanus rosenbergi</td>\n      <td>species</td>\n      <td>806</td>\n      <td>t</td>\n    </tr>\n    <tr>\n      <th>234</th>\n      <td>Xanthorrhoea glauca subsp. angustifolia</td>\n      <td>NaN</td>\n      <td>obscured</td>\n      <td>NaN</td>\n      <td>https://id.biodiversity.org.au/node/apni/2897807</td>\n      <td>NaN</td>\n      <td>NaN</td>\n      <td>NaN</td>\n      <td>NaN</td>\n      <td>NaN</td>\n      <td>NaN</td>\n    </tr>\n  </tbody>\n</table>\n<p>235 rows × 11 columns</p>\n</div>"
     },
     "execution_count": 8,
     "metadata": {},
     "output_type": "execute_result"
    }
   ],
   "source": [
    "# set placeid\n",
    "place_id = 12986\n",
    "# get the inaturalist taxonomy matches for additions \n",
    "inattaxa = pd.read_csv(sourcedir + \"inaturalist-australia-9/inaturalist-australia-9-taxa.csv\",dtype=str,usecols=['id','name','rank','observations_count','is_active'])\n",
    "inattaxa = inattaxa[inattaxa['is_active'] == 't']\n",
    "inattaxa = inattaxa.rename(columns = {'id':'taxon_id','name':'taxon_name'})\n",
    "inattaxa = inattaxa.add_prefix(\"inat_\")\n",
    "statelist = statelist[['state_scientificName','state_status','state_geoprivacy', 'state_lsid_conservation','state_lsid_sensitive','state_authority']].merge(inattaxa,how=\"left\",left_on='state_scientificName',right_on='inat_taxon_name',suffixes=(None,'_inat'))\n",
    "statelist"
   ],
   "metadata": {
    "collapsed": false,
    "ExecuteTime": {
     "end_time": "2024-01-18T06:01:31.499605Z",
     "start_time": "2024-01-18T06:01:29.422421Z"
    }
   }
  },
  {
   "cell_type": "markdown",
   "source": [
    "## 4. Merge and compare the state and inaturalist lists\n"
   ],
   "metadata": {
    "collapsed": false
   }
  },
  {
   "cell_type": "code",
   "execution_count": 9,
   "outputs": [],
   "source": [
    "mergedstatuses = statelist.merge(inatstatuses,how=\"outer\",left_on='state_scientificName',right_on='inat_scientificName')\n",
    "\n",
    "# add extra fields \n",
    "# add some extra fields\n",
    "mergedstatuses['place_id'] = str(place_id)\n",
    "mergedstatuses['username'] = 'peggydnew'\n",
    "mergedstatuses['description'] = \"Listed - Refer to https://www.environment.act.gov.au/nature-conservation/conservation-and-ecological-communities/threatened-species-factsheets\"\n",
    "mergedstatuses['state_url'] = \"https://bie.ala.org.au/species/\" + mergedstatuses['state_lsid_conservation'].fillna(mergedstatuses['state_lsid_sensitive'])\n",
    "mergedstatuses['state_iucn_equivalent'] = mergedstatuses['state_status'].map(iucnStatusMappings).fillna('30') # map to dictionary, Vulnerable default\n",
    "mergedstatuses['state_status'] = mergedstatuses['state_status'].fillna('Sensitive')\n",
    "mergedstatuses['state_geoprivacy'] = mergedstatuses['state_geoprivacy'].fillna('open')\n",
    "mergedstatuses['inat_taxon_id'] = mergedstatuses['inat_taxon_id_y'].fillna(mergedstatuses['inat_taxon_id_x'])\n",
    "mergedstatuses['inat_scientificName'] = mergedstatuses['inat_scientificName'].fillna(mergedstatuses['inat_taxon_name'])\n",
    "\n",
    "# UPDATE: inat status and state status both exist\n",
    "# REMOVE: inat status exists, state status does not\n",
    "# ADD: state status exists, inat status does not (matching taxon)\n",
    "# NO MATCH: state status exists, inat taxa not found\n",
    "mergedstatuses['action'] = 'na'\n",
    "mergedstatuses.loc[mergedstatuses['inat_id'].notnull() & mergedstatuses['state_scientificName'].notnull(), 'action'] = \"UPDATE\"\n",
    "mergedstatuses.loc[mergedstatuses['inat_id'].notnull() & mergedstatuses['state_scientificName'].isnull(), 'action'] = \"REMOVE\"\n",
    "mergedstatuses.loc[mergedstatuses['inat_id'].isnull() & mergedstatuses['inat_taxon_id'].notnull(), 'action'] = \"ADD\"\n",
    "mergedstatuses.loc[mergedstatuses['inat_id'].isnull() & mergedstatuses['inat_taxon_id'].isnull(), 'action'] = \"NO MATCH\"\n",
    "\n",
    "# only update those with different values \n",
    "mergedstatuses['action'] = mergedstatuses.apply(lambda x: \"NO CHANGE\" if (x['action'] == \"UPDATE\") & ((x['state_status'] == x['inat_status']) & (x['state_geoprivacy'] == x['inat_geoprivacy'] ) & (x['state_geoprivacy'] == x['inat_geoprivacy']) & (x['state_iucn_equivalent'] == x['inat_iucn'])) else x['action'], axis=1)\n",
    "\n",
    "\n",
    "# display\n",
    "mergedstatusesprintfriendly = mergedstatuses[['action','inat_id','inat_taxon_id','state_scientificName','inat_scientificName', 'state_status','inat_status','state_geoprivacy','inat_geoprivacy','state_iucn_equivalent','inat_iucn','state_authority','inat_authority','state_url','inat_url','inat_description','inat_place_display_name','inat_current_synonymous_taxon_ids']]\n"
   ],
   "metadata": {
    "collapsed": false,
    "ExecuteTime": {
     "end_time": "2024-01-18T06:01:31.525598Z",
     "start_time": "2024-01-18T06:01:31.512586Z"
    }
   }
  },
  {
   "cell_type": "markdown",
   "source": [],
   "metadata": {
    "collapsed": false
   }
  },
  {
   "cell_type": "code",
   "execution_count": 10,
   "outputs": [
    {
     "data": {
      "text/plain": "action\nADD          150\nNO CHANGE     24\nNO MATCH      35\nREMOVE         2\nUPDATE        26\ndtype: int64"
     },
     "execution_count": 10,
     "metadata": {},
     "output_type": "execute_result"
    }
   ],
   "source": [
    "mergedstatuses.groupby('action').size()"
   ],
   "metadata": {
    "collapsed": false,
    "ExecuteTime": {
     "end_time": "2024-01-18T06:01:31.553678Z",
     "start_time": "2024-01-18T06:01:31.515518Z"
    }
   }
  },
  {
   "cell_type": "markdown",
   "source": [
    "## Updates\n",
    "Updates match cleanly to an iNaturalist taxon and existing status. We'll only do an update if the status, geoprivacy or iucn values are different."
   ],
   "metadata": {
    "collapsed": false,
    "pycharm": {
     "name": "#%% md\n"
    }
   }
  },
  {
   "cell_type": "code",
   "execution_count": 11,
   "outputs": [
    {
     "data": {
      "text/plain": "     action                       taxon_name      id taxon_id  \\\n0    UPDATE              Anthochaera phrygia  270185   144707   \n2    UPDATE               Bettongia gaimardi  270186    42996   \n5    UPDATE           Botaurus poiciloptilus  270188     5032   \n9    UPDATE  Calyptorhynchus lathami lathami  270190   720267   \n11   UPDATE   Climacteris picumnus victoriae  270191   713108   \n23   UPDATE           Hieraaetus morphnoides  270196     5150   \n26   UPDATE        Isoodon obesulus obesulus  270198   355856   \n27   UPDATE                  Keyacris scurra  152225   761022   \n29   UPDATE                Lathamus discolor  270200    19284   \n33   UPDATE                 Litoria castanea  270201    23609   \n35   UPDATE        Litoria verreauxii alpina  270202   501209   \n36   UPDATE     Maccullochella macquariensis  152226    85287   \n37   UPDATE           Macquaria australasica  152235    51333   \n38   UPDATE                Mastacomys fuscus  152223    74547   \n41   UPDATE  Melanodryas cucullata cucullata  270203   726052   \n43   UPDATE                 Perunga ochracea  152229   762250   \n44   UPDATE               Petauroides volans  270205    42783   \n46   UPDATE            Petrogale penicillata  270206    42937   \n48   UPDATE           Phascolarctos cinereus  267488    42983   \n49   UPDATE             Polytelis swainsonii  270208    19252   \n52   UPDATE                 Pseudomys fumeus  152224    45210   \n59   UPDATE       Rutidosis leptorhynchoides  168034   634763   \n61   UPDATE                    Synemon plana  270214   417379   \n62   UPDATE                 Thesium australe  270215   967153   \n63   UPDATE           Tympanocryptis lineata  270216   114697   \n233  UPDATE               Varanus rosenbergi  152230    39441   \n235  REMOVE                              NaN  152232   568018   \n236  REMOVE                              NaN  152231   781565   \n\n                     status iucn_equivalent  \\\n0     Critically Endangered              50   \n2    Conservation Dependent              30   \n5                Endangered              40   \n9                Vulnerable              30   \n11               Vulnerable              30   \n23               Vulnerable              30   \n26               Endangered              40   \n27               Endangered              40   \n29    Critically Endangered              50   \n33    Critically Endangered              50   \n35               Vulnerable              30   \n36               Endangered              40   \n37               Endangered              40   \n38               Vulnerable              30   \n41               Endangered              40   \n43               Vulnerable              30   \n44               Endangered              40   \n46               Endangered              40   \n48               Endangered              40   \n49               Vulnerable              30   \n52               Endangered              40   \n59               Endangered              40   \n61               Vulnerable              30   \n62               Vulnerable              30   \n63    Critically Endangered              50   \n233               Sensitive              30   \n235               Sensitive              30   \n236               Sensitive              30   \n\n                              authority  \\\n0    Nature Conservation Act 2014 (ACT)   \n2    Nature Conservation Act 2014 (ACT)   \n5    Nature Conservation Act 2014 (ACT)   \n9    Nature Conservation Act 2014 (ACT)   \n11   Nature Conservation Act 2014 (ACT)   \n23   Nature Conservation Act 2014 (ACT)   \n26   Nature Conservation Act 2014 (ACT)   \n27   Nature Conservation Act 2014 (ACT)   \n29   Nature Conservation Act 2014 (ACT)   \n33   Nature Conservation Act 2014 (ACT)   \n35   Nature Conservation Act 2014 (ACT)   \n36   Nature Conservation Act 2014 (ACT)   \n37   Nature Conservation Act 2014 (ACT)   \n38   Nature Conservation Act 2014 (ACT)   \n41   Nature Conservation Act 2014 (ACT)   \n43   Nature Conservation Act 2014 (ACT)   \n44   Nature Conservation Act 2014 (ACT)   \n46   Nature Conservation Act 2014 (ACT)   \n48   Nature Conservation Act 2014 (ACT)   \n49   Nature Conservation Act 2014 (ACT)   \n52   Nature Conservation Act 2014 (ACT)   \n59   Nature Conservation Act 2014 (ACT)   \n61   Nature Conservation Act 2014 (ACT)   \n62   Nature Conservation Act 2014 (ACT)   \n63   Nature Conservation Act 2014 (ACT)   \n233                                 NaN   \n235                                 NaN   \n236                                 NaN   \n\n                                                   url geoprivacy place_id  \\\n0    https://bie.ala.org.au/species/https://biodive...   obscured    12986   \n2    https://bie.ala.org.au/species/https://biodive...   obscured    12986   \n5    https://bie.ala.org.au/species/https://biodive...   obscured    12986   \n9    https://bie.ala.org.au/species/https://biodive...   obscured    12986   \n11   https://bie.ala.org.au/species/https://biodive...   obscured    12986   \n23   https://bie.ala.org.au/species/https://biodive...   obscured    12986   \n26   https://bie.ala.org.au/species/https://biodive...   obscured    12986   \n27   https://bie.ala.org.au/species/https://biodive...       open    12986   \n29   https://bie.ala.org.au/species/https://biodive...   obscured    12986   \n33   https://bie.ala.org.au/species/https://biodive...   obscured    12986   \n35   https://bie.ala.org.au/species/https://biodive...   obscured    12986   \n36   https://bie.ala.org.au/species/https://biodive...       open    12986   \n37   https://bie.ala.org.au/species/https://biodive...       open    12986   \n38   https://bie.ala.org.au/species/https://biodive...   obscured    12986   \n41   https://bie.ala.org.au/species/https://biodive...   obscured    12986   \n43   https://bie.ala.org.au/species/https://biodive...       open    12986   \n44   https://bie.ala.org.au/species/https://biodive...       open    12986   \n46   https://bie.ala.org.au/species/https://biodive...   obscured    12986   \n48   https://bie.ala.org.au/species/https://biodive...   obscured    12986   \n49   https://bie.ala.org.au/species/https://biodive...   obscured    12986   \n52   https://bie.ala.org.au/species/https://biodive...       open    12986   \n59   https://bie.ala.org.au/species/https://id.biod...       open    12986   \n61   https://bie.ala.org.au/species/https://biodive...       open    12986   \n62   https://bie.ala.org.au/species/https://id.biod...   obscured    12986   \n63   https://bie.ala.org.au/species/https://biodive...   obscured    12986   \n233  https://bie.ala.org.au/species/https://biodive...   obscured    12986   \n235                                                NaN       open    12986   \n236                                                NaN       open    12986   \n\n      username                                        description  \n0    peggydnew  Listed - Refer to https://www.environment.act....  \n2    peggydnew  Listed - Refer to https://www.environment.act....  \n5    peggydnew  Listed - Refer to https://www.environment.act....  \n9    peggydnew  Listed - Refer to https://www.environment.act....  \n11   peggydnew  Listed - Refer to https://www.environment.act....  \n23   peggydnew  Listed - Refer to https://www.environment.act....  \n26   peggydnew  Listed - Refer to https://www.environment.act....  \n27   peggydnew  Listed - Refer to https://www.environment.act....  \n29   peggydnew  Listed - Refer to https://www.environment.act....  \n33   peggydnew  Listed - Refer to https://www.environment.act....  \n35   peggydnew  Listed - Refer to https://www.environment.act....  \n36   peggydnew  Listed - Refer to https://www.environment.act....  \n37   peggydnew  Listed - Refer to https://www.environment.act....  \n38   peggydnew  Listed - Refer to https://www.environment.act....  \n41   peggydnew  Listed - Refer to https://www.environment.act....  \n43   peggydnew  Listed - Refer to https://www.environment.act....  \n44   peggydnew  Listed - Refer to https://www.environment.act....  \n46   peggydnew  Listed - Refer to https://www.environment.act....  \n48   peggydnew  Listed - Refer to https://www.environment.act....  \n49   peggydnew  Listed - Refer to https://www.environment.act....  \n52   peggydnew  Listed - Refer to https://www.environment.act....  \n59   peggydnew  Listed - Refer to https://www.environment.act....  \n61   peggydnew  Listed - Refer to https://www.environment.act....  \n62   peggydnew  Listed - Refer to https://www.environment.act....  \n63   peggydnew  Listed - Refer to https://www.environment.act....  \n233  peggydnew  Listed - Refer to https://www.environment.act....  \n235  peggydnew  Listed - Refer to https://www.environment.act....  \n236  peggydnew  Listed - Refer to https://www.environment.act....  ",
      "text/html": "<div>\n<style scoped>\n    .dataframe tbody tr th:only-of-type {\n        vertical-align: middle;\n    }\n\n    .dataframe tbody tr th {\n        vertical-align: top;\n    }\n\n    .dataframe thead th {\n        text-align: right;\n    }\n</style>\n<table border=\"1\" class=\"dataframe\">\n  <thead>\n    <tr style=\"text-align: right;\">\n      <th></th>\n      <th>action</th>\n      <th>taxon_name</th>\n      <th>id</th>\n      <th>taxon_id</th>\n      <th>status</th>\n      <th>iucn_equivalent</th>\n      <th>authority</th>\n      <th>url</th>\n      <th>geoprivacy</th>\n      <th>place_id</th>\n      <th>username</th>\n      <th>description</th>\n    </tr>\n  </thead>\n  <tbody>\n    <tr>\n      <th>0</th>\n      <td>UPDATE</td>\n      <td>Anthochaera phrygia</td>\n      <td>270185</td>\n      <td>144707</td>\n      <td>Critically Endangered</td>\n      <td>50</td>\n      <td>Nature Conservation Act 2014 (ACT)</td>\n      <td>https://bie.ala.org.au/species/https://biodive...</td>\n      <td>obscured</td>\n      <td>12986</td>\n      <td>peggydnew</td>\n      <td>Listed - Refer to https://www.environment.act....</td>\n    </tr>\n    <tr>\n      <th>2</th>\n      <td>UPDATE</td>\n      <td>Bettongia gaimardi</td>\n      <td>270186</td>\n      <td>42996</td>\n      <td>Conservation Dependent</td>\n      <td>30</td>\n      <td>Nature Conservation Act 2014 (ACT)</td>\n      <td>https://bie.ala.org.au/species/https://biodive...</td>\n      <td>obscured</td>\n      <td>12986</td>\n      <td>peggydnew</td>\n      <td>Listed - Refer to https://www.environment.act....</td>\n    </tr>\n    <tr>\n      <th>5</th>\n      <td>UPDATE</td>\n      <td>Botaurus poiciloptilus</td>\n      <td>270188</td>\n      <td>5032</td>\n      <td>Endangered</td>\n      <td>40</td>\n      <td>Nature Conservation Act 2014 (ACT)</td>\n      <td>https://bie.ala.org.au/species/https://biodive...</td>\n      <td>obscured</td>\n      <td>12986</td>\n      <td>peggydnew</td>\n      <td>Listed - Refer to https://www.environment.act....</td>\n    </tr>\n    <tr>\n      <th>9</th>\n      <td>UPDATE</td>\n      <td>Calyptorhynchus lathami lathami</td>\n      <td>270190</td>\n      <td>720267</td>\n      <td>Vulnerable</td>\n      <td>30</td>\n      <td>Nature Conservation Act 2014 (ACT)</td>\n      <td>https://bie.ala.org.au/species/https://biodive...</td>\n      <td>obscured</td>\n      <td>12986</td>\n      <td>peggydnew</td>\n      <td>Listed - Refer to https://www.environment.act....</td>\n    </tr>\n    <tr>\n      <th>11</th>\n      <td>UPDATE</td>\n      <td>Climacteris picumnus victoriae</td>\n      <td>270191</td>\n      <td>713108</td>\n      <td>Vulnerable</td>\n      <td>30</td>\n      <td>Nature Conservation Act 2014 (ACT)</td>\n      <td>https://bie.ala.org.au/species/https://biodive...</td>\n      <td>obscured</td>\n      <td>12986</td>\n      <td>peggydnew</td>\n      <td>Listed - Refer to https://www.environment.act....</td>\n    </tr>\n    <tr>\n      <th>23</th>\n      <td>UPDATE</td>\n      <td>Hieraaetus morphnoides</td>\n      <td>270196</td>\n      <td>5150</td>\n      <td>Vulnerable</td>\n      <td>30</td>\n      <td>Nature Conservation Act 2014 (ACT)</td>\n      <td>https://bie.ala.org.au/species/https://biodive...</td>\n      <td>obscured</td>\n      <td>12986</td>\n      <td>peggydnew</td>\n      <td>Listed - Refer to https://www.environment.act....</td>\n    </tr>\n    <tr>\n      <th>26</th>\n      <td>UPDATE</td>\n      <td>Isoodon obesulus obesulus</td>\n      <td>270198</td>\n      <td>355856</td>\n      <td>Endangered</td>\n      <td>40</td>\n      <td>Nature Conservation Act 2014 (ACT)</td>\n      <td>https://bie.ala.org.au/species/https://biodive...</td>\n      <td>obscured</td>\n      <td>12986</td>\n      <td>peggydnew</td>\n      <td>Listed - Refer to https://www.environment.act....</td>\n    </tr>\n    <tr>\n      <th>27</th>\n      <td>UPDATE</td>\n      <td>Keyacris scurra</td>\n      <td>152225</td>\n      <td>761022</td>\n      <td>Endangered</td>\n      <td>40</td>\n      <td>Nature Conservation Act 2014 (ACT)</td>\n      <td>https://bie.ala.org.au/species/https://biodive...</td>\n      <td>open</td>\n      <td>12986</td>\n      <td>peggydnew</td>\n      <td>Listed - Refer to https://www.environment.act....</td>\n    </tr>\n    <tr>\n      <th>29</th>\n      <td>UPDATE</td>\n      <td>Lathamus discolor</td>\n      <td>270200</td>\n      <td>19284</td>\n      <td>Critically Endangered</td>\n      <td>50</td>\n      <td>Nature Conservation Act 2014 (ACT)</td>\n      <td>https://bie.ala.org.au/species/https://biodive...</td>\n      <td>obscured</td>\n      <td>12986</td>\n      <td>peggydnew</td>\n      <td>Listed - Refer to https://www.environment.act....</td>\n    </tr>\n    <tr>\n      <th>33</th>\n      <td>UPDATE</td>\n      <td>Litoria castanea</td>\n      <td>270201</td>\n      <td>23609</td>\n      <td>Critically Endangered</td>\n      <td>50</td>\n      <td>Nature Conservation Act 2014 (ACT)</td>\n      <td>https://bie.ala.org.au/species/https://biodive...</td>\n      <td>obscured</td>\n      <td>12986</td>\n      <td>peggydnew</td>\n      <td>Listed - Refer to https://www.environment.act....</td>\n    </tr>\n    <tr>\n      <th>35</th>\n      <td>UPDATE</td>\n      <td>Litoria verreauxii alpina</td>\n      <td>270202</td>\n      <td>501209</td>\n      <td>Vulnerable</td>\n      <td>30</td>\n      <td>Nature Conservation Act 2014 (ACT)</td>\n      <td>https://bie.ala.org.au/species/https://biodive...</td>\n      <td>obscured</td>\n      <td>12986</td>\n      <td>peggydnew</td>\n      <td>Listed - Refer to https://www.environment.act....</td>\n    </tr>\n    <tr>\n      <th>36</th>\n      <td>UPDATE</td>\n      <td>Maccullochella macquariensis</td>\n      <td>152226</td>\n      <td>85287</td>\n      <td>Endangered</td>\n      <td>40</td>\n      <td>Nature Conservation Act 2014 (ACT)</td>\n      <td>https://bie.ala.org.au/species/https://biodive...</td>\n      <td>open</td>\n      <td>12986</td>\n      <td>peggydnew</td>\n      <td>Listed - Refer to https://www.environment.act....</td>\n    </tr>\n    <tr>\n      <th>37</th>\n      <td>UPDATE</td>\n      <td>Macquaria australasica</td>\n      <td>152235</td>\n      <td>51333</td>\n      <td>Endangered</td>\n      <td>40</td>\n      <td>Nature Conservation Act 2014 (ACT)</td>\n      <td>https://bie.ala.org.au/species/https://biodive...</td>\n      <td>open</td>\n      <td>12986</td>\n      <td>peggydnew</td>\n      <td>Listed - Refer to https://www.environment.act....</td>\n    </tr>\n    <tr>\n      <th>38</th>\n      <td>UPDATE</td>\n      <td>Mastacomys fuscus</td>\n      <td>152223</td>\n      <td>74547</td>\n      <td>Vulnerable</td>\n      <td>30</td>\n      <td>Nature Conservation Act 2014 (ACT)</td>\n      <td>https://bie.ala.org.au/species/https://biodive...</td>\n      <td>obscured</td>\n      <td>12986</td>\n      <td>peggydnew</td>\n      <td>Listed - Refer to https://www.environment.act....</td>\n    </tr>\n    <tr>\n      <th>41</th>\n      <td>UPDATE</td>\n      <td>Melanodryas cucullata cucullata</td>\n      <td>270203</td>\n      <td>726052</td>\n      <td>Endangered</td>\n      <td>40</td>\n      <td>Nature Conservation Act 2014 (ACT)</td>\n      <td>https://bie.ala.org.au/species/https://biodive...</td>\n      <td>obscured</td>\n      <td>12986</td>\n      <td>peggydnew</td>\n      <td>Listed - Refer to https://www.environment.act....</td>\n    </tr>\n    <tr>\n      <th>43</th>\n      <td>UPDATE</td>\n      <td>Perunga ochracea</td>\n      <td>152229</td>\n      <td>762250</td>\n      <td>Vulnerable</td>\n      <td>30</td>\n      <td>Nature Conservation Act 2014 (ACT)</td>\n      <td>https://bie.ala.org.au/species/https://biodive...</td>\n      <td>open</td>\n      <td>12986</td>\n      <td>peggydnew</td>\n      <td>Listed - Refer to https://www.environment.act....</td>\n    </tr>\n    <tr>\n      <th>44</th>\n      <td>UPDATE</td>\n      <td>Petauroides volans</td>\n      <td>270205</td>\n      <td>42783</td>\n      <td>Endangered</td>\n      <td>40</td>\n      <td>Nature Conservation Act 2014 (ACT)</td>\n      <td>https://bie.ala.org.au/species/https://biodive...</td>\n      <td>open</td>\n      <td>12986</td>\n      <td>peggydnew</td>\n      <td>Listed - Refer to https://www.environment.act....</td>\n    </tr>\n    <tr>\n      <th>46</th>\n      <td>UPDATE</td>\n      <td>Petrogale penicillata</td>\n      <td>270206</td>\n      <td>42937</td>\n      <td>Endangered</td>\n      <td>40</td>\n      <td>Nature Conservation Act 2014 (ACT)</td>\n      <td>https://bie.ala.org.au/species/https://biodive...</td>\n      <td>obscured</td>\n      <td>12986</td>\n      <td>peggydnew</td>\n      <td>Listed - Refer to https://www.environment.act....</td>\n    </tr>\n    <tr>\n      <th>48</th>\n      <td>UPDATE</td>\n      <td>Phascolarctos cinereus</td>\n      <td>267488</td>\n      <td>42983</td>\n      <td>Endangered</td>\n      <td>40</td>\n      <td>Nature Conservation Act 2014 (ACT)</td>\n      <td>https://bie.ala.org.au/species/https://biodive...</td>\n      <td>obscured</td>\n      <td>12986</td>\n      <td>peggydnew</td>\n      <td>Listed - Refer to https://www.environment.act....</td>\n    </tr>\n    <tr>\n      <th>49</th>\n      <td>UPDATE</td>\n      <td>Polytelis swainsonii</td>\n      <td>270208</td>\n      <td>19252</td>\n      <td>Vulnerable</td>\n      <td>30</td>\n      <td>Nature Conservation Act 2014 (ACT)</td>\n      <td>https://bie.ala.org.au/species/https://biodive...</td>\n      <td>obscured</td>\n      <td>12986</td>\n      <td>peggydnew</td>\n      <td>Listed - Refer to https://www.environment.act....</td>\n    </tr>\n    <tr>\n      <th>52</th>\n      <td>UPDATE</td>\n      <td>Pseudomys fumeus</td>\n      <td>152224</td>\n      <td>45210</td>\n      <td>Endangered</td>\n      <td>40</td>\n      <td>Nature Conservation Act 2014 (ACT)</td>\n      <td>https://bie.ala.org.au/species/https://biodive...</td>\n      <td>open</td>\n      <td>12986</td>\n      <td>peggydnew</td>\n      <td>Listed - Refer to https://www.environment.act....</td>\n    </tr>\n    <tr>\n      <th>59</th>\n      <td>UPDATE</td>\n      <td>Rutidosis leptorhynchoides</td>\n      <td>168034</td>\n      <td>634763</td>\n      <td>Endangered</td>\n      <td>40</td>\n      <td>Nature Conservation Act 2014 (ACT)</td>\n      <td>https://bie.ala.org.au/species/https://id.biod...</td>\n      <td>open</td>\n      <td>12986</td>\n      <td>peggydnew</td>\n      <td>Listed - Refer to https://www.environment.act....</td>\n    </tr>\n    <tr>\n      <th>61</th>\n      <td>UPDATE</td>\n      <td>Synemon plana</td>\n      <td>270214</td>\n      <td>417379</td>\n      <td>Vulnerable</td>\n      <td>30</td>\n      <td>Nature Conservation Act 2014 (ACT)</td>\n      <td>https://bie.ala.org.au/species/https://biodive...</td>\n      <td>open</td>\n      <td>12986</td>\n      <td>peggydnew</td>\n      <td>Listed - Refer to https://www.environment.act....</td>\n    </tr>\n    <tr>\n      <th>62</th>\n      <td>UPDATE</td>\n      <td>Thesium australe</td>\n      <td>270215</td>\n      <td>967153</td>\n      <td>Vulnerable</td>\n      <td>30</td>\n      <td>Nature Conservation Act 2014 (ACT)</td>\n      <td>https://bie.ala.org.au/species/https://id.biod...</td>\n      <td>obscured</td>\n      <td>12986</td>\n      <td>peggydnew</td>\n      <td>Listed - Refer to https://www.environment.act....</td>\n    </tr>\n    <tr>\n      <th>63</th>\n      <td>UPDATE</td>\n      <td>Tympanocryptis lineata</td>\n      <td>270216</td>\n      <td>114697</td>\n      <td>Critically Endangered</td>\n      <td>50</td>\n      <td>Nature Conservation Act 2014 (ACT)</td>\n      <td>https://bie.ala.org.au/species/https://biodive...</td>\n      <td>obscured</td>\n      <td>12986</td>\n      <td>peggydnew</td>\n      <td>Listed - Refer to https://www.environment.act....</td>\n    </tr>\n    <tr>\n      <th>233</th>\n      <td>UPDATE</td>\n      <td>Varanus rosenbergi</td>\n      <td>152230</td>\n      <td>39441</td>\n      <td>Sensitive</td>\n      <td>30</td>\n      <td>NaN</td>\n      <td>https://bie.ala.org.au/species/https://biodive...</td>\n      <td>obscured</td>\n      <td>12986</td>\n      <td>peggydnew</td>\n      <td>Listed - Refer to https://www.environment.act....</td>\n    </tr>\n    <tr>\n      <th>235</th>\n      <td>REMOVE</td>\n      <td>NaN</td>\n      <td>152232</td>\n      <td>568018</td>\n      <td>Sensitive</td>\n      <td>30</td>\n      <td>NaN</td>\n      <td>NaN</td>\n      <td>open</td>\n      <td>12986</td>\n      <td>peggydnew</td>\n      <td>Listed - Refer to https://www.environment.act....</td>\n    </tr>\n    <tr>\n      <th>236</th>\n      <td>REMOVE</td>\n      <td>NaN</td>\n      <td>152231</td>\n      <td>781565</td>\n      <td>Sensitive</td>\n      <td>30</td>\n      <td>NaN</td>\n      <td>NaN</td>\n      <td>open</td>\n      <td>12986</td>\n      <td>peggydnew</td>\n      <td>Listed - Refer to https://www.environment.act....</td>\n    </tr>\n  </tbody>\n</table>\n</div>"
     },
     "execution_count": 11,
     "metadata": {},
     "output_type": "execute_result"
    }
   ],
   "source": [
    "# Headers:\n",
    "# action,taxon_name,id,taxon_id,status,iucn_equivalent,authority,url,geoprivacy,place_id,username,description\n",
    "updates = pd.DataFrame(mergedstatuses[mergedstatuses['action'].isin(['UPDATE','REMOVE'])])\n",
    "updates = updates[['action','state_scientificName','inat_id','inat_taxon_id','state_status','state_iucn_equivalent','state_authority','state_url','state_geoprivacy','place_id','username','description']]\n",
    "updates.columns = updates.columns.str.replace(\"state_\", \"\", regex=True)\n",
    "updates.columns = updates.columns.str.replace(\"inat_\", \"\", regex=True)\n",
    "updates = updates.rename(columns={'scientificName':'taxon_name'})\n",
    "updates"
   ],
   "metadata": {
    "collapsed": false,
    "ExecuteTime": {
     "end_time": "2024-01-18T06:01:31.560465Z",
     "start_time": "2024-01-18T06:01:31.519451Z"
    }
   }
  },
  {
   "cell_type": "markdown",
   "source": [
    "## Additions\n",
    "Match to an inat taxon and have a new sensitive or conservation status \n"
   ],
   "metadata": {
    "collapsed": false
   }
  },
  {
   "cell_type": "code",
   "execution_count": 12,
   "outputs": [
    {
     "data": {
      "text/plain": "    action                Taxon_Name inat_id taxon_id      Status  \\\n7      ADD  Callocephalon fimbriatum     NaN   116842  Endangered   \n8      ADD   Calyptorhynchus lathami     NaN   116846  Vulnerable   \n10     ADD      Climacteris picumnus     NaN     7802  Vulnerable   \n14     ADD        Dasyurus maculatus     NaN    40166  Vulnerable   \n21     ADD      Gentiana baeuerlenii     NaN  1444037  Endangered   \n..     ...                       ...     ...      ...         ...   \n225    ADD     Thelymitra pauciflora     NaN   406514   Sensitive   \n226    ADD     Thelymitra peniculata     NaN   790420   Sensitive   \n227    ADD          Thelymitra rubra     NaN   516247   Sensitive   \n228    ADD       Thelymitra simulata     NaN   908180   Sensitive   \n230    ADD             Todea barbara     NaN   323949   Sensitive   \n\n    IUCN_equivalent                           Authority  \\\n7                40  Nature Conservation Act 2014 (ACT)   \n8                30  Nature Conservation Act 2014 (ACT)   \n10               30  Nature Conservation Act 2014 (ACT)   \n14               30  Nature Conservation Act 2014 (ACT)   \n21               40  Nature Conservation Act 2014 (ACT)   \n..              ...                                 ...   \n225              30                                 NaN   \n226              30                                 NaN   \n227              30                                 NaN   \n228              30                                 NaN   \n230              30                                 NaN   \n\n                                                   url taxon_Geoprivacy  \\\n7    https://bie.ala.org.au/species/https://biodive...         obscured   \n8    https://bie.ala.org.au/species/https://biodive...         obscured   \n10   https://bie.ala.org.au/species/https://biodive...         obscured   \n14   https://bie.ala.org.au/species/https://biodive...         obscured   \n21   https://bie.ala.org.au/species/https://id.biod...         obscured   \n..                                                 ...              ...   \n225  https://bie.ala.org.au/species/https://id.biod...         obscured   \n226  https://bie.ala.org.au/species/https://id.biod...         obscured   \n227  https://bie.ala.org.au/species/https://id.biod...         obscured   \n228  https://bie.ala.org.au/species/https://id.biod...         obscured   \n230  https://bie.ala.org.au/species/https://id.biod...         obscured   \n\n    iNaturalst_Place_ID   username  \\\n7                 12986  peggydnew   \n8                 12986  peggydnew   \n10                12986  peggydnew   \n14                12986  peggydnew   \n21                12986  peggydnew   \n..                  ...        ...   \n225               12986  peggydnew   \n226               12986  peggydnew   \n227               12986  peggydnew   \n228               12986  peggydnew   \n230               12986  peggydnew   \n\n                                           Description  \n7    Listed - Refer to https://www.environment.act....  \n8    Listed - Refer to https://www.environment.act....  \n10   Listed - Refer to https://www.environment.act....  \n14   Listed - Refer to https://www.environment.act....  \n21   Listed - Refer to https://www.environment.act....  \n..                                                 ...  \n225  Listed - Refer to https://www.environment.act....  \n226  Listed - Refer to https://www.environment.act....  \n227  Listed - Refer to https://www.environment.act....  \n228  Listed - Refer to https://www.environment.act....  \n230  Listed - Refer to https://www.environment.act....  \n\n[150 rows x 12 columns]",
      "text/html": "<div>\n<style scoped>\n    .dataframe tbody tr th:only-of-type {\n        vertical-align: middle;\n    }\n\n    .dataframe tbody tr th {\n        vertical-align: top;\n    }\n\n    .dataframe thead th {\n        text-align: right;\n    }\n</style>\n<table border=\"1\" class=\"dataframe\">\n  <thead>\n    <tr style=\"text-align: right;\">\n      <th></th>\n      <th>action</th>\n      <th>Taxon_Name</th>\n      <th>inat_id</th>\n      <th>taxon_id</th>\n      <th>Status</th>\n      <th>IUCN_equivalent</th>\n      <th>Authority</th>\n      <th>url</th>\n      <th>taxon_Geoprivacy</th>\n      <th>iNaturalst_Place_ID</th>\n      <th>username</th>\n      <th>Description</th>\n    </tr>\n  </thead>\n  <tbody>\n    <tr>\n      <th>7</th>\n      <td>ADD</td>\n      <td>Callocephalon fimbriatum</td>\n      <td>NaN</td>\n      <td>116842</td>\n      <td>Endangered</td>\n      <td>40</td>\n      <td>Nature Conservation Act 2014 (ACT)</td>\n      <td>https://bie.ala.org.au/species/https://biodive...</td>\n      <td>obscured</td>\n      <td>12986</td>\n      <td>peggydnew</td>\n      <td>Listed - Refer to https://www.environment.act....</td>\n    </tr>\n    <tr>\n      <th>8</th>\n      <td>ADD</td>\n      <td>Calyptorhynchus lathami</td>\n      <td>NaN</td>\n      <td>116846</td>\n      <td>Vulnerable</td>\n      <td>30</td>\n      <td>Nature Conservation Act 2014 (ACT)</td>\n      <td>https://bie.ala.org.au/species/https://biodive...</td>\n      <td>obscured</td>\n      <td>12986</td>\n      <td>peggydnew</td>\n      <td>Listed - Refer to https://www.environment.act....</td>\n    </tr>\n    <tr>\n      <th>10</th>\n      <td>ADD</td>\n      <td>Climacteris picumnus</td>\n      <td>NaN</td>\n      <td>7802</td>\n      <td>Vulnerable</td>\n      <td>30</td>\n      <td>Nature Conservation Act 2014 (ACT)</td>\n      <td>https://bie.ala.org.au/species/https://biodive...</td>\n      <td>obscured</td>\n      <td>12986</td>\n      <td>peggydnew</td>\n      <td>Listed - Refer to https://www.environment.act....</td>\n    </tr>\n    <tr>\n      <th>14</th>\n      <td>ADD</td>\n      <td>Dasyurus maculatus</td>\n      <td>NaN</td>\n      <td>40166</td>\n      <td>Vulnerable</td>\n      <td>30</td>\n      <td>Nature Conservation Act 2014 (ACT)</td>\n      <td>https://bie.ala.org.au/species/https://biodive...</td>\n      <td>obscured</td>\n      <td>12986</td>\n      <td>peggydnew</td>\n      <td>Listed - Refer to https://www.environment.act....</td>\n    </tr>\n    <tr>\n      <th>21</th>\n      <td>ADD</td>\n      <td>Gentiana baeuerlenii</td>\n      <td>NaN</td>\n      <td>1444037</td>\n      <td>Endangered</td>\n      <td>40</td>\n      <td>Nature Conservation Act 2014 (ACT)</td>\n      <td>https://bie.ala.org.au/species/https://id.biod...</td>\n      <td>obscured</td>\n      <td>12986</td>\n      <td>peggydnew</td>\n      <td>Listed - Refer to https://www.environment.act....</td>\n    </tr>\n    <tr>\n      <th>...</th>\n      <td>...</td>\n      <td>...</td>\n      <td>...</td>\n      <td>...</td>\n      <td>...</td>\n      <td>...</td>\n      <td>...</td>\n      <td>...</td>\n      <td>...</td>\n      <td>...</td>\n      <td>...</td>\n      <td>...</td>\n    </tr>\n    <tr>\n      <th>225</th>\n      <td>ADD</td>\n      <td>Thelymitra pauciflora</td>\n      <td>NaN</td>\n      <td>406514</td>\n      <td>Sensitive</td>\n      <td>30</td>\n      <td>NaN</td>\n      <td>https://bie.ala.org.au/species/https://id.biod...</td>\n      <td>obscured</td>\n      <td>12986</td>\n      <td>peggydnew</td>\n      <td>Listed - Refer to https://www.environment.act....</td>\n    </tr>\n    <tr>\n      <th>226</th>\n      <td>ADD</td>\n      <td>Thelymitra peniculata</td>\n      <td>NaN</td>\n      <td>790420</td>\n      <td>Sensitive</td>\n      <td>30</td>\n      <td>NaN</td>\n      <td>https://bie.ala.org.au/species/https://id.biod...</td>\n      <td>obscured</td>\n      <td>12986</td>\n      <td>peggydnew</td>\n      <td>Listed - Refer to https://www.environment.act....</td>\n    </tr>\n    <tr>\n      <th>227</th>\n      <td>ADD</td>\n      <td>Thelymitra rubra</td>\n      <td>NaN</td>\n      <td>516247</td>\n      <td>Sensitive</td>\n      <td>30</td>\n      <td>NaN</td>\n      <td>https://bie.ala.org.au/species/https://id.biod...</td>\n      <td>obscured</td>\n      <td>12986</td>\n      <td>peggydnew</td>\n      <td>Listed - Refer to https://www.environment.act....</td>\n    </tr>\n    <tr>\n      <th>228</th>\n      <td>ADD</td>\n      <td>Thelymitra simulata</td>\n      <td>NaN</td>\n      <td>908180</td>\n      <td>Sensitive</td>\n      <td>30</td>\n      <td>NaN</td>\n      <td>https://bie.ala.org.au/species/https://id.biod...</td>\n      <td>obscured</td>\n      <td>12986</td>\n      <td>peggydnew</td>\n      <td>Listed - Refer to https://www.environment.act....</td>\n    </tr>\n    <tr>\n      <th>230</th>\n      <td>ADD</td>\n      <td>Todea barbara</td>\n      <td>NaN</td>\n      <td>323949</td>\n      <td>Sensitive</td>\n      <td>30</td>\n      <td>NaN</td>\n      <td>https://bie.ala.org.au/species/https://id.biod...</td>\n      <td>obscured</td>\n      <td>12986</td>\n      <td>peggydnew</td>\n      <td>Listed - Refer to https://www.environment.act....</td>\n    </tr>\n  </tbody>\n</table>\n<p>150 rows × 12 columns</p>\n</div>"
     },
     "execution_count": 12,
     "metadata": {},
     "output_type": "execute_result"
    }
   ],
   "source": [
    "# Headers:\n",
    "# Taxon_Name,Status,Authority,IUCN_equivalent,Description,iNaturalist_Place_ID,url,Taxon_Geoprivacy,Username,taxon_id\n",
    "\n",
    "additions = pd.DataFrame(mergedstatuses[mergedstatuses['action'] == \"ADD\"])\n",
    "additions = additions[['action','state_scientificName','inat_id','inat_taxon_id','state_status','state_iucn_equivalent','state_authority','state_url','state_geoprivacy','place_id','username','description']]\n",
    "additions = additions.rename(columns={'state_scientificName':'Taxon_Name',\n",
    "                                      'state_status':'Status',\n",
    "                                      'state_authority':'Authority',\n",
    "                                      'state_iucn_equivalent':'IUCN_equivalent',\n",
    "                                      'description':'Description',\n",
    "                                      'place_id':'iNaturalst_Place_ID',\n",
    "                                      'state_url':'url',\n",
    "                                      'state_geoprivacy':'taxon_Geoprivacy',\n",
    "                                      'inat_taxon_id':'taxon_id'})\n",
    "additions"
   ],
   "metadata": {
    "collapsed": false,
    "pycharm": {
     "name": "#%%\n"
    },
    "ExecuteTime": {
     "end_time": "2024-01-18T06:01:31.572831Z",
     "start_time": "2024-01-18T06:01:31.527052Z"
    }
   }
  },
  {
   "cell_type": "code",
   "execution_count": 13,
   "outputs": [],
   "source": [
    "# write these to output files\n",
    "mergedstatusesprintfriendly.to_csv(projectdir + \"data/out/summaries/act.csv\",index=False)\n",
    "updates.to_csv(projectdir + \"data/out/updates-act.csv\", index=False)\n",
    "additions.to_csv(projectdir + \"data/out/additions-act.csv\", index=False)\n"
   ],
   "metadata": {
    "collapsed": false,
    "pycharm": {
     "name": "#%%\n"
    },
    "ExecuteTime": {
     "end_time": "2024-01-18T06:01:31.573270Z",
     "start_time": "2024-01-18T06:01:31.541335Z"
    }
   }
  },
  {
   "cell_type": "markdown",
   "source": [],
   "metadata": {
    "collapsed": false,
    "pycharm": {
     "name": "#%% md\n"
    }
   }
  }
 ],
 "metadata": {
  "kernelspec": {
   "display_name": "Python 3",
   "language": "python",
   "name": "python3"
  },
  "language_info": {
   "codemirror_mode": {
    "name": "ipython",
    "version": 2
   },
   "file_extension": ".py",
   "mimetype": "text/x-python",
   "name": "python",
   "nbconvert_exporter": "python",
   "pygments_lexer": "ipython2",
   "version": "2.7.6"
  }
 },
 "nbformat": 4,
 "nbformat_minor": 0
}
