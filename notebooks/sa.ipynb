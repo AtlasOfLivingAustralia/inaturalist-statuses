{
 "cells": [
  {
   "cell_type": "markdown",
   "source": [
    "# iNaturalist status updates by state - SA\n",
    "\n",
    "Using the file produced in the collate-status-taxa.ipynb: `inat-aust-status-taxa.csv` (statuses joined to taxa names), generate lists to update iNaturalist statuses\n",
    "\n",
    "## Prep - common to all states\n",
    "1. Read in the inaturalist statuses & filter out this state\n",
    "2. Read in the state conservation and sensitive lists\n",
    "3. Prep fields incl IUCN equivalent mappings and matching to iNat taxonomy  \n",
    "4. Merge and compare the state and inaturalist lists\n",
    "5. Create update/removals list\n",
    "6. Create additions list\n",
    "7. Save files\n",
    "\n",
    "## 1. Read in the inaturalist statuses & filter out SA"
   ],
   "metadata": {
    "collapsed": false,
    "pycharm": {
     "name": "#%% md\n"
    }
   }
  },
  {
   "cell_type": "code",
   "execution_count": 1,
   "metadata": {
    "collapsed": true,
    "pycharm": {
     "name": "#%%\n"
    },
    "ExecuteTime": {
     "end_time": "2024-01-19T07:08:50.349372Z",
     "start_time": "2024-01-19T07:08:49.830808Z"
    }
   },
   "outputs": [
    {
     "data": {
      "text/plain": "inat_status\nEN              2\nEndangered    265\nNT              2\nProtected       4\nRare          532\nVulnerable    213\nendangered     20\ndtype: int64"
     },
     "execution_count": 1,
     "metadata": {},
     "output_type": "execute_result"
    }
   ],
   "source": [
    "import pandas as pd\n",
    "import sys\n",
    "import os\n",
    "projectdir = os.path.dirname(os.getcwd()) + \"/\" # parent dir of cwd\n",
    "sourcedir = projectdir + \"data/in/\"\n",
    "sys.path.append(os.path.abspath(projectdir + \"notebooks/includes/\"))\n",
    "import list_functions  as lf\n",
    "\n",
    "# read in the statuses file\n",
    "taxastatus = pd.read_csv(sourcedir + \"inat-aust-status-taxa.csv\", encoding='UTF-8',na_filter=False,dtype=str)\n",
    "\n",
    "# filter out ACT entries\n",
    "def filter_state_statuses(stateregex: str, urlregex: str):\n",
    "    authoritydf = taxastatus['authority'].drop_duplicates().sort_values()\n",
    "    authoritydf = authoritydf[pd.Series(authoritydf).str.contains(stateregex)]\n",
    "    urldf = taxastatus['url'].drop_duplicates().sort_values()\n",
    "    urldf = urldf[pd.Series(urldf).str.contains(urlregex)]\n",
    "    placedisplaydf = taxastatus['place_display_name'].drop_duplicates().sort_values()\n",
    "    placedisplaydf = placedisplaydf[pd.Series(placedisplaydf).str.contains(stateregex)]\n",
    "    placedf = taxastatus['place_name'].drop_duplicates().sort_values()\n",
    "    placedf = placedf[pd.Series(placedf).str.contains(stateregex)]\n",
    "    # concat all and remove duplicates\n",
    "    statedf = pd.concat([taxastatus.apply(lambda row: row[taxastatus['place_display_name'].isin(placedisplaydf)]),\n",
    "                         taxastatus.apply(lambda row: row[taxastatus['place_name'].isin(placedf)]),\n",
    "                         taxastatus.apply(lambda row: row[taxastatus['url'].isin(urldf)]),\n",
    "                         taxastatus.apply(\n",
    "                             lambda row: row[taxastatus['authority'].isin(authoritydf)])]).drop_duplicates()\n",
    "    return statedf.sort_values(['taxon_id', 'user_id'])\n",
    "\n",
    "inatstatuses = filter_state_statuses(\" SA |South Australia|SOUTH AUSTRALIA\",\"sa.gov.au\")\n",
    "inatstatuses = inatstatuses.add_prefix(\"inat_\")\n",
    "inatstatuses.groupby(['inat_status']).size()\n"
   ]
  },
  {
   "cell_type": "markdown",
   "source": [
    "## 2. Read in the State lists\n",
    "Read in the state lists "
   ],
   "metadata": {
    "collapsed": false,
    "pycharm": {
     "name": "#%% md\n"
    }
   }
  },
  {
   "cell_type": "code",
   "execution_count": 5,
   "outputs": [],
   "source": [
    "# %%script echo skipping # comment this line to download dataset from lists.ala.org.au the web and save locally\n",
    "\n",
    "sensitivelist = lf.download_ala_specieslist(\"https://lists.ala.org.au/ws/speciesListItems/dr884?max=10000&includeKVP=true\")\n",
    "sensitivelist = lf.kvp_to_columns(sensitivelist)\n",
    "sensitivelist.to_csv(sourcedir + \"state-lists/sa-ala-sensitive.csv\", index=False)\n",
    "\n",
    "conservationlist = lf.download_ala_specieslist(\"https://lists.ala.org.au/ws/speciesListItems/dr653?max=10000&includeKVP=true\")\n",
    "conservationlist = lf.kvp_to_columns(conservationlist)\n",
    "conservationlist.to_csv(sourcedir + \"sa-ala-conservation.csv\", index=False)\n"
   ],
   "metadata": {
    "collapsed": false,
    "pycharm": {
     "name": "#%%\n"
    },
    "ExecuteTime": {
     "end_time": "2024-01-19T07:13:48.239404Z",
     "start_time": "2024-01-19T07:13:45.323807Z"
    }
   }
  },
  {
   "cell_type": "code",
   "execution_count": 8,
   "outputs": [
    {
     "name": "stdout",
     "output_type": "stream",
     "text": [
      "Conservation list entries:1120\n",
      "Sensitive list entries:238\n"
     ]
    },
    {
     "data": {
      "text/plain": "     state_id_conservation                   state_scientificName  \\\n0                  4378829               Ornithorhynchus anatinus   \n1                  4379705  Tachyglossus aculeatus multiaculeatus   \n2                  4379443                  Myrmecobius fasciatus   \n3                  4378670                      Dasycercus blythi   \n4                  4378800                     Dasyuroides byrnei   \n...                    ...                                    ...   \n1176                   NaN      Diuris behrii subsp. multilineata   \n1177                   NaN  Ixodia achillaeoides subsp. arenicola   \n1178                   NaN    Montia fontana subsp. chondrosperma   \n1179                   NaN                         Montia fontana   \n1180                   NaN                Rhodanthe oppositifolia   \n\n                                state_lsid_conservation  \\\n0     https://biodiversity.org.au/afd/taxa/ac61fd14-...   \n1     https://biodiversity.org.au/afd/taxa/e9289876-...   \n2     https://biodiversity.org.au/afd/taxa/6c72d199-...   \n3     https://biodiversity.org.au/afd/taxa/926b1c33-...   \n4     https://biodiversity.org.au/afd/taxa/c342ff42-...   \n...                                                 ...   \n1176                                                NaN   \n1177                                                NaN   \n1178                                                NaN   \n1179                                                NaN   \n1180                                                NaN   \n\n     state_status_conservation state_geoprivacy_conservation  \\\n0                   Endangered                          open   \n1                   Endangered                          open   \n2                   Endangered                          open   \n3                   Endangered                          open   \n4                   Endangered                          open   \n...                        ...                           ...   \n1176                       NaN                           NaN   \n1177                       NaN                           NaN   \n1178                       NaN                           NaN   \n1179                       NaN                           NaN   \n1180                       NaN                           NaN   \n\n                           state_authority_conservation state_id_sensitive  \\\n0     South Australia Department for Environment and...                NaN   \n1     South Australia Department for Environment and...                NaN   \n2     South Australia Department for Environment and...                NaN   \n3     South Australia Department for Environment and...                NaN   \n4     South Australia Department for Environment and...                NaN   \n...                                                 ...                ...   \n1176                                                NaN            4925012   \n1177                                                NaN            4925013   \n1178                                                NaN            4925046   \n1179                                                NaN            4925047   \n1180                                                NaN            4925048   \n\n                                  state_lsid_sensitive  \\\n0                                                  NaN   \n1                                                  NaN   \n2                                                  NaN   \n3                                                  NaN   \n4                                                  NaN   \n...                                                ...   \n1176  https://id.biodiversity.org.au/name/apni/9732363   \n1177  https://id.biodiversity.org.au/node/apni/2916083   \n1178  https://id.biodiversity.org.au/node/apni/2903260   \n1179  https://id.biodiversity.org.au/node/apni/2891942   \n1180  https://id.biodiversity.org.au/node/apni/2886377   \n\n     state_geoprivacy_sensitive state_status_sensitive  \\\n0                           NaN                    NaN   \n1                           NaN                    NaN   \n2                           NaN                    NaN   \n3                           NaN                    NaN   \n4                           NaN                    NaN   \n...                         ...                    ...   \n1176                   obscured              Sensitive   \n1177                   obscured              Sensitive   \n1178                   obscured              Sensitive   \n1179                   obscured              Sensitive   \n1180                   obscured              Sensitive   \n\n                              state_authority_sensitive state_status  \\\n0                                                   NaN   Endangered   \n1                                                   NaN   Endangered   \n2                                                   NaN   Endangered   \n3                                                   NaN   Endangered   \n4                                                   NaN   Endangered   \n...                                                 ...          ...   \n1176  South Australia Department for Environment and...    Sensitive   \n1177  South Australia Department for Environment and...    Sensitive   \n1178  South Australia Department for Environment and...    Sensitive   \n1179  South Australia Department for Environment and...    Sensitive   \n1180  South Australia Department for Environment and...    Sensitive   \n\n                                        state_authority state_geoprivacy  \n0     South Australia Department for Environment and...             open  \n1     South Australia Department for Environment and...             open  \n2     South Australia Department for Environment and...             open  \n3     South Australia Department for Environment and...             open  \n4     South Australia Department for Environment and...             open  \n...                                                 ...              ...  \n1176  South Australia Department for Environment and...         obscured  \n1177  South Australia Department for Environment and...         obscured  \n1178  South Australia Department for Environment and...         obscured  \n1179  South Australia Department for Environment and...         obscured  \n1180  South Australia Department for Environment and...         obscured  \n\n[1181 rows x 14 columns]",
      "text/html": "<div>\n<style scoped>\n    .dataframe tbody tr th:only-of-type {\n        vertical-align: middle;\n    }\n\n    .dataframe tbody tr th {\n        vertical-align: top;\n    }\n\n    .dataframe thead th {\n        text-align: right;\n    }\n</style>\n<table border=\"1\" class=\"dataframe\">\n  <thead>\n    <tr style=\"text-align: right;\">\n      <th></th>\n      <th>state_id_conservation</th>\n      <th>state_scientificName</th>\n      <th>state_lsid_conservation</th>\n      <th>state_status_conservation</th>\n      <th>state_geoprivacy_conservation</th>\n      <th>state_authority_conservation</th>\n      <th>state_id_sensitive</th>\n      <th>state_lsid_sensitive</th>\n      <th>state_geoprivacy_sensitive</th>\n      <th>state_status_sensitive</th>\n      <th>state_authority_sensitive</th>\n      <th>state_status</th>\n      <th>state_authority</th>\n      <th>state_geoprivacy</th>\n    </tr>\n  </thead>\n  <tbody>\n    <tr>\n      <th>0</th>\n      <td>4378829</td>\n      <td>Ornithorhynchus anatinus</td>\n      <td>https://biodiversity.org.au/afd/taxa/ac61fd14-...</td>\n      <td>Endangered</td>\n      <td>open</td>\n      <td>South Australia Department for Environment and...</td>\n      <td>NaN</td>\n      <td>NaN</td>\n      <td>NaN</td>\n      <td>NaN</td>\n      <td>NaN</td>\n      <td>Endangered</td>\n      <td>South Australia Department for Environment and...</td>\n      <td>open</td>\n    </tr>\n    <tr>\n      <th>1</th>\n      <td>4379705</td>\n      <td>Tachyglossus aculeatus multiaculeatus</td>\n      <td>https://biodiversity.org.au/afd/taxa/e9289876-...</td>\n      <td>Endangered</td>\n      <td>open</td>\n      <td>South Australia Department for Environment and...</td>\n      <td>NaN</td>\n      <td>NaN</td>\n      <td>NaN</td>\n      <td>NaN</td>\n      <td>NaN</td>\n      <td>Endangered</td>\n      <td>South Australia Department for Environment and...</td>\n      <td>open</td>\n    </tr>\n    <tr>\n      <th>2</th>\n      <td>4379443</td>\n      <td>Myrmecobius fasciatus</td>\n      <td>https://biodiversity.org.au/afd/taxa/6c72d199-...</td>\n      <td>Endangered</td>\n      <td>open</td>\n      <td>South Australia Department for Environment and...</td>\n      <td>NaN</td>\n      <td>NaN</td>\n      <td>NaN</td>\n      <td>NaN</td>\n      <td>NaN</td>\n      <td>Endangered</td>\n      <td>South Australia Department for Environment and...</td>\n      <td>open</td>\n    </tr>\n    <tr>\n      <th>3</th>\n      <td>4378670</td>\n      <td>Dasycercus blythi</td>\n      <td>https://biodiversity.org.au/afd/taxa/926b1c33-...</td>\n      <td>Endangered</td>\n      <td>open</td>\n      <td>South Australia Department for Environment and...</td>\n      <td>NaN</td>\n      <td>NaN</td>\n      <td>NaN</td>\n      <td>NaN</td>\n      <td>NaN</td>\n      <td>Endangered</td>\n      <td>South Australia Department for Environment and...</td>\n      <td>open</td>\n    </tr>\n    <tr>\n      <th>4</th>\n      <td>4378800</td>\n      <td>Dasyuroides byrnei</td>\n      <td>https://biodiversity.org.au/afd/taxa/c342ff42-...</td>\n      <td>Endangered</td>\n      <td>open</td>\n      <td>South Australia Department for Environment and...</td>\n      <td>NaN</td>\n      <td>NaN</td>\n      <td>NaN</td>\n      <td>NaN</td>\n      <td>NaN</td>\n      <td>Endangered</td>\n      <td>South Australia Department for Environment and...</td>\n      <td>open</td>\n    </tr>\n    <tr>\n      <th>...</th>\n      <td>...</td>\n      <td>...</td>\n      <td>...</td>\n      <td>...</td>\n      <td>...</td>\n      <td>...</td>\n      <td>...</td>\n      <td>...</td>\n      <td>...</td>\n      <td>...</td>\n      <td>...</td>\n      <td>...</td>\n      <td>...</td>\n      <td>...</td>\n    </tr>\n    <tr>\n      <th>1176</th>\n      <td>NaN</td>\n      <td>Diuris behrii subsp. multilineata</td>\n      <td>NaN</td>\n      <td>NaN</td>\n      <td>NaN</td>\n      <td>NaN</td>\n      <td>4925012</td>\n      <td>https://id.biodiversity.org.au/name/apni/9732363</td>\n      <td>obscured</td>\n      <td>Sensitive</td>\n      <td>South Australia Department for Environment and...</td>\n      <td>Sensitive</td>\n      <td>South Australia Department for Environment and...</td>\n      <td>obscured</td>\n    </tr>\n    <tr>\n      <th>1177</th>\n      <td>NaN</td>\n      <td>Ixodia achillaeoides subsp. arenicola</td>\n      <td>NaN</td>\n      <td>NaN</td>\n      <td>NaN</td>\n      <td>NaN</td>\n      <td>4925013</td>\n      <td>https://id.biodiversity.org.au/node/apni/2916083</td>\n      <td>obscured</td>\n      <td>Sensitive</td>\n      <td>South Australia Department for Environment and...</td>\n      <td>Sensitive</td>\n      <td>South Australia Department for Environment and...</td>\n      <td>obscured</td>\n    </tr>\n    <tr>\n      <th>1178</th>\n      <td>NaN</td>\n      <td>Montia fontana subsp. chondrosperma</td>\n      <td>NaN</td>\n      <td>NaN</td>\n      <td>NaN</td>\n      <td>NaN</td>\n      <td>4925046</td>\n      <td>https://id.biodiversity.org.au/node/apni/2903260</td>\n      <td>obscured</td>\n      <td>Sensitive</td>\n      <td>South Australia Department for Environment and...</td>\n      <td>Sensitive</td>\n      <td>South Australia Department for Environment and...</td>\n      <td>obscured</td>\n    </tr>\n    <tr>\n      <th>1179</th>\n      <td>NaN</td>\n      <td>Montia fontana</td>\n      <td>NaN</td>\n      <td>NaN</td>\n      <td>NaN</td>\n      <td>NaN</td>\n      <td>4925047</td>\n      <td>https://id.biodiversity.org.au/node/apni/2891942</td>\n      <td>obscured</td>\n      <td>Sensitive</td>\n      <td>South Australia Department for Environment and...</td>\n      <td>Sensitive</td>\n      <td>South Australia Department for Environment and...</td>\n      <td>obscured</td>\n    </tr>\n    <tr>\n      <th>1180</th>\n      <td>NaN</td>\n      <td>Rhodanthe oppositifolia</td>\n      <td>NaN</td>\n      <td>NaN</td>\n      <td>NaN</td>\n      <td>NaN</td>\n      <td>4925048</td>\n      <td>https://id.biodiversity.org.au/node/apni/2886377</td>\n      <td>obscured</td>\n      <td>Sensitive</td>\n      <td>South Australia Department for Environment and...</td>\n      <td>Sensitive</td>\n      <td>South Australia Department for Environment and...</td>\n      <td>obscured</td>\n    </tr>\n  </tbody>\n</table>\n<p>1181 rows × 14 columns</p>\n</div>"
     },
     "execution_count": 8,
     "metadata": {},
     "output_type": "execute_result"
    }
   ],
   "source": [
    "# Read sensitive list data\n",
    "sensitivelist = pd.read_csv(sourcedir + \"state-lists/sa-ala-sensitive.csv\", dtype=str)\n",
    "sensitivelist['geoprivacy'] = 'obscured'\n",
    "sensitivelist['status'] = 'Sensitive'\n",
    "sensitivelist['authority'] = \"South Australia Department for Environment and Water\" \n",
    "conservationlist = pd.read_csv(sourcedir + \"sa-ala-conservation.csv\", dtype=str)\n",
    "conservationlist['geoprivacy'] = 'open'\n",
    "conservationlist['authority'] = \"South Australia Department for Environment and Water\"\n",
    "statelist = conservationlist[['id','name','lsid','status','geoprivacy','authority']].merge(sensitivelist[['id','name','lsid','geoprivacy','status','authority']], how=\"outer\",on='name',suffixes=('_conservation', '_sensitive'))\n",
    "statelist['status'] = statelist['status_conservation'].fillna(statelist['status_sensitive'])\n",
    "statelist['authority'] = statelist['authority_conservation'].fillna(statelist['authority_sensitive'])\n",
    "statelist['geoprivacy'] = statelist['geoprivacy_sensitive'].fillna(statelist['geoprivacy_conservation'])\n",
    "statelist = statelist.rename(columns = {'name':'scientificName'})\n",
    "statelist = statelist.add_prefix(\"state_\")\n",
    "print(\"Conservation list entries:\" + str(len(conservationlist)))\n",
    "print(\"Sensitive list entries:\" + str(len(sensitivelist)))\n",
    "statelist"
   ],
   "metadata": {
    "collapsed": false,
    "pycharm": {
     "name": "#%%\n"
    },
    "ExecuteTime": {
     "end_time": "2024-01-19T07:23:11.727353Z",
     "start_time": "2024-01-19T07:23:11.701594Z"
    }
   }
  },
  {
   "cell_type": "code",
   "execution_count": 9,
   "outputs": [
    {
     "data": {
      "text/plain": "state_status\nEndangered    276\nRare          594\nSensitive      61\nVulnerable    250\ndtype: int64"
     },
     "execution_count": 9,
     "metadata": {},
     "output_type": "execute_result"
    }
   ],
   "source": [
    "statelist.groupby('state_status',dropna=False).size()"
   ],
   "metadata": {
    "collapsed": false,
    "ExecuteTime": {
     "end_time": "2024-01-19T07:24:10.748087Z",
     "start_time": "2024-01-19T07:24:10.733416Z"
    }
   }
  },
  {
   "cell_type": "markdown",
   "source": [
    "### 4. Equivalent IUCN statuses"
   ],
   "metadata": {
    "collapsed": false,
    "pycharm": {
     "name": "#%% md\n"
    }
   }
  },
  {
   "cell_type": "code",
   "execution_count": 14,
   "outputs": [],
   "source": [
    "iucnStatusMappings = {\n",
    "    'Least concern':'10',\n",
    "    'Special least concern':'10',\n",
    "    'Critically Endangered':'50',\n",
    "    'Endangered':'40',\n",
    "    'Vulnerable':'30',\n",
    "    'Extinct':'70',\n",
    "    'Extinct in the wild':'70',\n",
    "    'Near Threatened':'20',\n",
    "    'Sensitive':'30',\n",
    "    'Rare':'30'\n",
    "}"
   ],
   "metadata": {
    "collapsed": false,
    "pycharm": {
     "name": "#%%\n"
    },
    "ExecuteTime": {
     "end_time": "2024-01-19T07:33:53.644631Z",
     "start_time": "2024-01-19T07:33:53.640746Z"
    }
   }
  },
  {
   "cell_type": "markdown",
   "source": [
    "### 5. Determine best place ID to use"
   ],
   "metadata": {
    "collapsed": false,
    "pycharm": {
     "name": "#%% md\n"
    }
   }
  },
  {
   "cell_type": "code",
   "execution_count": 10,
   "outputs": [
    {
     "data": {
      "text/plain": "inat_place_id  inat_place_name                 inat_place_display_name       \n124968         South Australia, marine waters  South Australia, marine waters       2\n6899           South Australia                 South Australia, AU               1036\nName: inat_place_id, dtype: int64"
     },
     "execution_count": 10,
     "metadata": {},
     "output_type": "execute_result"
    }
   ],
   "source": [
    "inatstatuses.groupby(['inat_place_id','inat_place_name','inat_place_display_name'])['inat_place_id'].count()\n",
    "# looks like 6899 - note for extract\n"
   ],
   "metadata": {
    "collapsed": false,
    "pycharm": {
     "name": "#%%\n"
    },
    "ExecuteTime": {
     "end_time": "2024-01-19T07:25:36.383678Z",
     "start_time": "2024-01-19T07:25:36.375915Z"
    }
   }
  },
  {
   "cell_type": "markdown",
   "source": [
    "## Merge iNaturalist statuses with State lists on scientificName\n"
   ],
   "metadata": {
    "collapsed": false,
    "pycharm": {
     "name": "#%% md\n"
    }
   }
  },
  {
   "cell_type": "code",
   "execution_count": 11,
   "outputs": [
    {
     "data": {
      "text/plain": "                       state_scientificName state_status state_geoprivacy  \\\n0                  Ornithorhynchus anatinus   Endangered             open   \n1     Tachyglossus aculeatus multiaculeatus   Endangered             open   \n2                     Myrmecobius fasciatus   Endangered             open   \n3                         Dasycercus blythi   Endangered             open   \n4                        Dasyuroides byrnei   Endangered             open   \n...                                     ...          ...              ...   \n1177      Diuris behrii subsp. multilineata    Sensitive         obscured   \n1178  Ixodia achillaeoides subsp. arenicola    Sensitive         obscured   \n1179    Montia fontana subsp. chondrosperma    Sensitive         obscured   \n1180                         Montia fontana    Sensitive         obscured   \n1181                Rhodanthe oppositifolia    Sensitive         obscured   \n\n                                state_lsid_conservation  \\\n0     https://biodiversity.org.au/afd/taxa/ac61fd14-...   \n1     https://biodiversity.org.au/afd/taxa/e9289876-...   \n2     https://biodiversity.org.au/afd/taxa/6c72d199-...   \n3     https://biodiversity.org.au/afd/taxa/926b1c33-...   \n4     https://biodiversity.org.au/afd/taxa/c342ff42-...   \n...                                                 ...   \n1177                                                NaN   \n1178                                                NaN   \n1179                                                NaN   \n1180                                                NaN   \n1181                                                NaN   \n\n                                  state_lsid_sensitive  \\\n0                                                  NaN   \n1                                                  NaN   \n2                                                  NaN   \n3                                                  NaN   \n4                                                  NaN   \n...                                                ...   \n1177  https://id.biodiversity.org.au/name/apni/9732363   \n1178  https://id.biodiversity.org.au/node/apni/2916083   \n1179  https://id.biodiversity.org.au/node/apni/2903260   \n1180  https://id.biodiversity.org.au/node/apni/2891942   \n1181  https://id.biodiversity.org.au/node/apni/2886377   \n\n                                        state_authority inat_taxon_id  \\\n0     South Australia Department for Environment and...         43236   \n1     South Australia Department for Environment and...        520695   \n2     South Australia Department for Environment and...         40262   \n3     South Australia Department for Environment and...         74270   \n4     South Australia Department for Environment and...         40249   \n...                                                 ...           ...   \n1177  South Australia Department for Environment and...           NaN   \n1178  South Australia Department for Environment and...           NaN   \n1179  South Australia Department for Environment and...           NaN   \n1180  South Australia Department for Environment and...         58990   \n1181  South Australia Department for Environment and...       1242863   \n\n                            inat_taxon_name   inat_rank  \\\n0                  Ornithorhynchus anatinus     species   \n1     Tachyglossus aculeatus multiaculeatus  subspecies   \n2                     Myrmecobius fasciatus     species   \n3                         Dasycercus blythi     species   \n4                        Dasyuroides byrnei     species   \n...                                     ...         ...   \n1177                                    NaN         NaN   \n1178                                    NaN         NaN   \n1179                                    NaN         NaN   \n1180                         Montia fontana     species   \n1181                Rhodanthe oppositifolia     species   \n\n     inat_observations_count inat_is_active  \n0                       1837              t  \n1                        112              t  \n2                        151              t  \n3                          2              t  \n4                          9              t  \n...                      ...            ...  \n1177                     NaN            NaN  \n1178                     NaN            NaN  \n1179                     NaN            NaN  \n1180                    1433              t  \n1181                       1              t  \n\n[1182 rows x 11 columns]",
      "text/html": "<div>\n<style scoped>\n    .dataframe tbody tr th:only-of-type {\n        vertical-align: middle;\n    }\n\n    .dataframe tbody tr th {\n        vertical-align: top;\n    }\n\n    .dataframe thead th {\n        text-align: right;\n    }\n</style>\n<table border=\"1\" class=\"dataframe\">\n  <thead>\n    <tr style=\"text-align: right;\">\n      <th></th>\n      <th>state_scientificName</th>\n      <th>state_status</th>\n      <th>state_geoprivacy</th>\n      <th>state_lsid_conservation</th>\n      <th>state_lsid_sensitive</th>\n      <th>state_authority</th>\n      <th>inat_taxon_id</th>\n      <th>inat_taxon_name</th>\n      <th>inat_rank</th>\n      <th>inat_observations_count</th>\n      <th>inat_is_active</th>\n    </tr>\n  </thead>\n  <tbody>\n    <tr>\n      <th>0</th>\n      <td>Ornithorhynchus anatinus</td>\n      <td>Endangered</td>\n      <td>open</td>\n      <td>https://biodiversity.org.au/afd/taxa/ac61fd14-...</td>\n      <td>NaN</td>\n      <td>South Australia Department for Environment and...</td>\n      <td>43236</td>\n      <td>Ornithorhynchus anatinus</td>\n      <td>species</td>\n      <td>1837</td>\n      <td>t</td>\n    </tr>\n    <tr>\n      <th>1</th>\n      <td>Tachyglossus aculeatus multiaculeatus</td>\n      <td>Endangered</td>\n      <td>open</td>\n      <td>https://biodiversity.org.au/afd/taxa/e9289876-...</td>\n      <td>NaN</td>\n      <td>South Australia Department for Environment and...</td>\n      <td>520695</td>\n      <td>Tachyglossus aculeatus multiaculeatus</td>\n      <td>subspecies</td>\n      <td>112</td>\n      <td>t</td>\n    </tr>\n    <tr>\n      <th>2</th>\n      <td>Myrmecobius fasciatus</td>\n      <td>Endangered</td>\n      <td>open</td>\n      <td>https://biodiversity.org.au/afd/taxa/6c72d199-...</td>\n      <td>NaN</td>\n      <td>South Australia Department for Environment and...</td>\n      <td>40262</td>\n      <td>Myrmecobius fasciatus</td>\n      <td>species</td>\n      <td>151</td>\n      <td>t</td>\n    </tr>\n    <tr>\n      <th>3</th>\n      <td>Dasycercus blythi</td>\n      <td>Endangered</td>\n      <td>open</td>\n      <td>https://biodiversity.org.au/afd/taxa/926b1c33-...</td>\n      <td>NaN</td>\n      <td>South Australia Department for Environment and...</td>\n      <td>74270</td>\n      <td>Dasycercus blythi</td>\n      <td>species</td>\n      <td>2</td>\n      <td>t</td>\n    </tr>\n    <tr>\n      <th>4</th>\n      <td>Dasyuroides byrnei</td>\n      <td>Endangered</td>\n      <td>open</td>\n      <td>https://biodiversity.org.au/afd/taxa/c342ff42-...</td>\n      <td>NaN</td>\n      <td>South Australia Department for Environment and...</td>\n      <td>40249</td>\n      <td>Dasyuroides byrnei</td>\n      <td>species</td>\n      <td>9</td>\n      <td>t</td>\n    </tr>\n    <tr>\n      <th>...</th>\n      <td>...</td>\n      <td>...</td>\n      <td>...</td>\n      <td>...</td>\n      <td>...</td>\n      <td>...</td>\n      <td>...</td>\n      <td>...</td>\n      <td>...</td>\n      <td>...</td>\n      <td>...</td>\n    </tr>\n    <tr>\n      <th>1177</th>\n      <td>Diuris behrii subsp. multilineata</td>\n      <td>Sensitive</td>\n      <td>obscured</td>\n      <td>NaN</td>\n      <td>https://id.biodiversity.org.au/name/apni/9732363</td>\n      <td>South Australia Department for Environment and...</td>\n      <td>NaN</td>\n      <td>NaN</td>\n      <td>NaN</td>\n      <td>NaN</td>\n      <td>NaN</td>\n    </tr>\n    <tr>\n      <th>1178</th>\n      <td>Ixodia achillaeoides subsp. arenicola</td>\n      <td>Sensitive</td>\n      <td>obscured</td>\n      <td>NaN</td>\n      <td>https://id.biodiversity.org.au/node/apni/2916083</td>\n      <td>South Australia Department for Environment and...</td>\n      <td>NaN</td>\n      <td>NaN</td>\n      <td>NaN</td>\n      <td>NaN</td>\n      <td>NaN</td>\n    </tr>\n    <tr>\n      <th>1179</th>\n      <td>Montia fontana subsp. chondrosperma</td>\n      <td>Sensitive</td>\n      <td>obscured</td>\n      <td>NaN</td>\n      <td>https://id.biodiversity.org.au/node/apni/2903260</td>\n      <td>South Australia Department for Environment and...</td>\n      <td>NaN</td>\n      <td>NaN</td>\n      <td>NaN</td>\n      <td>NaN</td>\n      <td>NaN</td>\n    </tr>\n    <tr>\n      <th>1180</th>\n      <td>Montia fontana</td>\n      <td>Sensitive</td>\n      <td>obscured</td>\n      <td>NaN</td>\n      <td>https://id.biodiversity.org.au/node/apni/2891942</td>\n      <td>South Australia Department for Environment and...</td>\n      <td>58990</td>\n      <td>Montia fontana</td>\n      <td>species</td>\n      <td>1433</td>\n      <td>t</td>\n    </tr>\n    <tr>\n      <th>1181</th>\n      <td>Rhodanthe oppositifolia</td>\n      <td>Sensitive</td>\n      <td>obscured</td>\n      <td>NaN</td>\n      <td>https://id.biodiversity.org.au/node/apni/2886377</td>\n      <td>South Australia Department for Environment and...</td>\n      <td>1242863</td>\n      <td>Rhodanthe oppositifolia</td>\n      <td>species</td>\n      <td>1</td>\n      <td>t</td>\n    </tr>\n  </tbody>\n</table>\n<p>1182 rows × 11 columns</p>\n</div>"
     },
     "execution_count": 11,
     "metadata": {},
     "output_type": "execute_result"
    }
   ],
   "source": [
    "# set placeid\n",
    "place_id = 6899\n",
    "# get the inaturalist taxonomy matches for additions \n",
    "inattaxa = pd.read_csv(sourcedir + \"inaturalist-australia-9/inaturalist-australia-9-taxa.csv\",dtype=str,usecols=['id','name','rank','observations_count','is_active'])\n",
    "inattaxa = inattaxa[inattaxa['is_active'] == 't']\n",
    "inattaxa = inattaxa.rename(columns = {'id':'taxon_id','name':'taxon_name'})\n",
    "inattaxa = inattaxa.add_prefix(\"inat_\")\n",
    "statelist = statelist[['state_scientificName','state_status','state_geoprivacy', 'state_lsid_conservation','state_lsid_sensitive','state_authority']].merge(inattaxa,how=\"left\",left_on='state_scientificName',right_on='inat_taxon_name',suffixes=(None,'_inat'))\n",
    "statelist"
   ],
   "metadata": {
    "collapsed": false,
    "pycharm": {
     "name": "#%%\n"
    },
    "ExecuteTime": {
     "end_time": "2024-01-19T07:26:18.576037Z",
     "start_time": "2024-01-19T07:26:16.454366Z"
    }
   }
  },
  {
   "cell_type": "code",
   "execution_count": 29,
   "outputs": [
    {
     "data": {
      "text/plain": "action\nADD           37\nNO CHANGE    863\nNO MATCH     250\nREMOVE       143\nUPDATE        33\ndtype: int64"
     },
     "execution_count": 29,
     "metadata": {},
     "output_type": "execute_result"
    }
   ],
   "source": [
    "# prepare the export fields, common to New template and Update template\n",
    "mergedstatuses = statelist.merge(inatstatuses,how=\"outer\",left_on='state_scientificName',right_on='inat_scientificName')\n",
    "\n",
    "# add extra fields \n",
    "# add some extra fields\n",
    "mergedstatuses['place_id'] = str(place_id)\n",
    "mergedstatuses['username'] = 'peggydnew'\n",
    "mergedstatuses['description'] = \"Listed - refer to https://www.environment.sa.gov.au/topics/plants-and-animals/threatened-species-and-ecological-communities/threatened-species\"\n",
    "mergedstatuses['state_lsid_conservation'].fillna(mergedstatuses['state_lsid_sensitive'])\n",
    "mergedstatuses['state_url'] = \"https://bie.ala.org.au/species/\" + mergedstatuses['state_lsid_conservation']\n",
    "mergedstatuses['state_iucn_equivalent'] = mergedstatuses['state_status'].map(iucnStatusMappings)\n",
    "#mergedstatuses['state_status'] = mergedstatuses['state_status'].fillna('Sensitive')\n",
    "#mergedstatuses['state_geoprivacy'] = mergedstatuses['state_geoprivacy'].fillna('open')\n",
    "mergedstatuses['inat_taxon_id'] = mergedstatuses['inat_taxon_id_y'].fillna(mergedstatuses['inat_taxon_id_x'])\n",
    "mergedstatuses['inat_scientificName'] = mergedstatuses['inat_scientificName'].fillna(mergedstatuses['inat_taxon_name'])\n",
    "\n",
    "# UPDATE: inat status and state status both exist\n",
    "# REMOVE: inat status exists, state status does not\n",
    "# ADD: state status exists, inat status does not (matching taxon)\n",
    "# NO MATCH: state status exists, inat taxa not found\n",
    "mergedstatuses['action'] = 'na'\n",
    "mergedstatuses.loc[mergedstatuses['inat_id'].notnull() & mergedstatuses['state_scientificName'].notnull(), 'action'] = \"UPDATE\"\n",
    "mergedstatuses.loc[mergedstatuses['inat_id'].notnull() & mergedstatuses['state_scientificName'].isnull(), 'action'] = \"REMOVE\"\n",
    "mergedstatuses.loc[mergedstatuses['inat_id'].isnull() & mergedstatuses['inat_taxon_id'].notnull(), 'action'] = \"ADD\"\n",
    "mergedstatuses.loc[mergedstatuses['inat_id'].isnull() & mergedstatuses['inat_taxon_id'].isnull(), 'action'] = \"NO MATCH\"\n",
    "\n",
    "# only update those with different values \n",
    "mergedstatuses['action'] = mergedstatuses.apply(lambda x: \"NO CHANGE\" if (x['action'] == \"UPDATE\") & ((x['state_status'] == x['inat_status']) & (x['state_geoprivacy'] == x['inat_geoprivacy'] ) & (x['state_geoprivacy'] == x['inat_geoprivacy']) & (x['state_iucn_equivalent'] == x['inat_iucn'])) else x['action'], axis=1)\n",
    "\n",
    "# display\n",
    "mergedstatusesprintfriendly = mergedstatuses[['action','inat_id','inat_taxon_id','state_scientificName','inat_scientificName', 'state_status','inat_status','state_geoprivacy','inat_geoprivacy','state_iucn_equivalent','inat_iucn','state_authority','inat_authority','state_url','inat_url','inat_description','inat_place_display_name','inat_current_synonymous_taxon_ids']]\n",
    "mergedstatuses.groupby('action').size()\n",
    "\n",
    "\n"
   ],
   "metadata": {
    "collapsed": false,
    "pycharm": {
     "name": "#%%\n"
    },
    "ExecuteTime": {
     "end_time": "2024-01-19T07:47:26.860789Z",
     "start_time": "2024-01-19T07:47:26.771274Z"
    }
   }
  },
  {
   "cell_type": "code",
   "execution_count": 17,
   "outputs": [
    {
     "data": {
      "text/plain": "                       state_scientificName state_status state_geoprivacy  \\\n0                  Ornithorhynchus anatinus   Endangered             open   \n1     Tachyglossus aculeatus multiaculeatus   Endangered             open   \n2                     Myrmecobius fasciatus   Endangered             open   \n3                         Dasycercus blythi   Endangered             open   \n4                        Dasyuroides byrnei   Endangered             open   \n...                                     ...          ...              ...   \n1321                                    NaN    Sensitive             open   \n1322                                    NaN    Sensitive             open   \n1323                                    NaN    Sensitive             open   \n1324                                    NaN    Sensitive             open   \n1325                                    NaN    Sensitive             open   \n\n                                state_lsid_conservation state_lsid_sensitive  \\\n0     https://biodiversity.org.au/afd/taxa/ac61fd14-...                  NaN   \n1     https://biodiversity.org.au/afd/taxa/e9289876-...                  NaN   \n2     https://biodiversity.org.au/afd/taxa/6c72d199-...                  NaN   \n3     https://biodiversity.org.au/afd/taxa/926b1c33-...                  NaN   \n4     https://biodiversity.org.au/afd/taxa/c342ff42-...                  NaN   \n...                                                 ...                  ...   \n1321                                                NaN                  NaN   \n1322                                                NaN                  NaN   \n1323                                                NaN                  NaN   \n1324                                                NaN                  NaN   \n1325                                                NaN                  NaN   \n\n                                        state_authority inat_taxon_id_x  \\\n0     South Australia Department for Environment and...           43236   \n1     South Australia Department for Environment and...          520695   \n2     South Australia Department for Environment and...           40262   \n3     South Australia Department for Environment and...           74270   \n4     South Australia Department for Environment and...           40249   \n...                                                 ...             ...   \n1321                                                NaN             NaN   \n1322                                                NaN             NaN   \n1323                                                NaN             NaN   \n1324                                                NaN             NaN   \n1325                                                NaN             NaN   \n\n                            inat_taxon_name   inat_rank  \\\n0                  Ornithorhynchus anatinus     species   \n1     Tachyglossus aculeatus multiaculeatus  subspecies   \n2                     Myrmecobius fasciatus     species   \n3                         Dasycercus blythi     species   \n4                        Dasyuroides byrnei     species   \n...                                     ...         ...   \n1321                                    NaN         NaN   \n1322                                    NaN         NaN   \n1323                                    NaN         NaN   \n1324                                    NaN         NaN   \n1325                                    NaN         NaN   \n\n     inat_observations_count  ... inat_preferred_common_name inat_is_active_y  \\\n0                       1837  ...                                               \n1                        112  ...                                               \n2                        151  ...                                               \n3                          2  ...                                               \n4                          9  ...                                               \n...                      ...  ...                        ...              ...   \n1321                     NaN  ...                                               \n1322                     NaN  ...                                               \n1323                     NaN  ...                                               \n1324                     NaN  ...                                               \n1325                     NaN  ...                                               \n\n     inat_current_synonymous_taxon_ids place_id   username  \\\n0                                          6899  peggydnew   \n1                                          6899  peggydnew   \n2                                          6899  peggydnew   \n3                                          6899  peggydnew   \n4                                          6899  peggydnew   \n...                                ...      ...        ...   \n1321                                       6899  peggydnew   \n1322                                       6899  peggydnew   \n1323                                       6899  peggydnew   \n1324                                       6899  peggydnew   \n1325                                       6899  peggydnew   \n\n                                            description  \\\n0     Listed - refer to https://www.environment.sa.g...   \n1     Listed - refer to https://www.environment.sa.g...   \n2     Listed - refer to https://www.environment.sa.g...   \n3     Listed - refer to https://www.environment.sa.g...   \n4     Listed - refer to https://www.environment.sa.g...   \n...                                                 ...   \n1321  Listed - refer to https://www.environment.sa.g...   \n1322  Listed - refer to https://www.environment.sa.g...   \n1323  Listed - refer to https://www.environment.sa.g...   \n1324  Listed - refer to https://www.environment.sa.g...   \n1325  Listed - refer to https://www.environment.sa.g...   \n\n                                              state_url state_iucn_equivalent  \\\n0     https://bie.ala.org.au/species/https://biodive...                    40   \n1     https://bie.ala.org.au/species/https://biodive...                    40   \n2     https://bie.ala.org.au/species/https://biodive...                    40   \n3     https://bie.ala.org.au/species/https://biodive...                    40   \n4     https://bie.ala.org.au/species/https://biodive...                    40   \n...                                                 ...                   ...   \n1321                                                NaN                    30   \n1322                                                NaN                    30   \n1323                                                NaN                    30   \n1324                                                NaN                    30   \n1325                                                NaN                    30   \n\n     inat_taxon_id     action  \n0            43236     UPDATE  \n1           520695  NO CHANGE  \n2            40262  NO CHANGE  \n3            74270  NO CHANGE  \n4            40249  NO CHANGE  \n...            ...        ...  \n1321        953460     REMOVE  \n1322        966855     REMOVE  \n1323        973888     REMOVE  \n1324        985265     REMOVE  \n1325        985279     REMOVE  \n\n[1326 rows x 52 columns]",
      "text/html": "<div>\n<style scoped>\n    .dataframe tbody tr th:only-of-type {\n        vertical-align: middle;\n    }\n\n    .dataframe tbody tr th {\n        vertical-align: top;\n    }\n\n    .dataframe thead th {\n        text-align: right;\n    }\n</style>\n<table border=\"1\" class=\"dataframe\">\n  <thead>\n    <tr style=\"text-align: right;\">\n      <th></th>\n      <th>state_scientificName</th>\n      <th>state_status</th>\n      <th>state_geoprivacy</th>\n      <th>state_lsid_conservation</th>\n      <th>state_lsid_sensitive</th>\n      <th>state_authority</th>\n      <th>inat_taxon_id_x</th>\n      <th>inat_taxon_name</th>\n      <th>inat_rank</th>\n      <th>inat_observations_count</th>\n      <th>...</th>\n      <th>inat_preferred_common_name</th>\n      <th>inat_is_active_y</th>\n      <th>inat_current_synonymous_taxon_ids</th>\n      <th>place_id</th>\n      <th>username</th>\n      <th>description</th>\n      <th>state_url</th>\n      <th>state_iucn_equivalent</th>\n      <th>inat_taxon_id</th>\n      <th>action</th>\n    </tr>\n  </thead>\n  <tbody>\n    <tr>\n      <th>0</th>\n      <td>Ornithorhynchus anatinus</td>\n      <td>Endangered</td>\n      <td>open</td>\n      <td>https://biodiversity.org.au/afd/taxa/ac61fd14-...</td>\n      <td>NaN</td>\n      <td>South Australia Department for Environment and...</td>\n      <td>43236</td>\n      <td>Ornithorhynchus anatinus</td>\n      <td>species</td>\n      <td>1837</td>\n      <td>...</td>\n      <td></td>\n      <td></td>\n      <td></td>\n      <td>6899</td>\n      <td>peggydnew</td>\n      <td>Listed - refer to https://www.environment.sa.g...</td>\n      <td>https://bie.ala.org.au/species/https://biodive...</td>\n      <td>40</td>\n      <td>43236</td>\n      <td>UPDATE</td>\n    </tr>\n    <tr>\n      <th>1</th>\n      <td>Tachyglossus aculeatus multiaculeatus</td>\n      <td>Endangered</td>\n      <td>open</td>\n      <td>https://biodiversity.org.au/afd/taxa/e9289876-...</td>\n      <td>NaN</td>\n      <td>South Australia Department for Environment and...</td>\n      <td>520695</td>\n      <td>Tachyglossus aculeatus multiaculeatus</td>\n      <td>subspecies</td>\n      <td>112</td>\n      <td>...</td>\n      <td></td>\n      <td></td>\n      <td></td>\n      <td>6899</td>\n      <td>peggydnew</td>\n      <td>Listed - refer to https://www.environment.sa.g...</td>\n      <td>https://bie.ala.org.au/species/https://biodive...</td>\n      <td>40</td>\n      <td>520695</td>\n      <td>NO CHANGE</td>\n    </tr>\n    <tr>\n      <th>2</th>\n      <td>Myrmecobius fasciatus</td>\n      <td>Endangered</td>\n      <td>open</td>\n      <td>https://biodiversity.org.au/afd/taxa/6c72d199-...</td>\n      <td>NaN</td>\n      <td>South Australia Department for Environment and...</td>\n      <td>40262</td>\n      <td>Myrmecobius fasciatus</td>\n      <td>species</td>\n      <td>151</td>\n      <td>...</td>\n      <td></td>\n      <td></td>\n      <td></td>\n      <td>6899</td>\n      <td>peggydnew</td>\n      <td>Listed - refer to https://www.environment.sa.g...</td>\n      <td>https://bie.ala.org.au/species/https://biodive...</td>\n      <td>40</td>\n      <td>40262</td>\n      <td>NO CHANGE</td>\n    </tr>\n    <tr>\n      <th>3</th>\n      <td>Dasycercus blythi</td>\n      <td>Endangered</td>\n      <td>open</td>\n      <td>https://biodiversity.org.au/afd/taxa/926b1c33-...</td>\n      <td>NaN</td>\n      <td>South Australia Department for Environment and...</td>\n      <td>74270</td>\n      <td>Dasycercus blythi</td>\n      <td>species</td>\n      <td>2</td>\n      <td>...</td>\n      <td></td>\n      <td></td>\n      <td></td>\n      <td>6899</td>\n      <td>peggydnew</td>\n      <td>Listed - refer to https://www.environment.sa.g...</td>\n      <td>https://bie.ala.org.au/species/https://biodive...</td>\n      <td>40</td>\n      <td>74270</td>\n      <td>NO CHANGE</td>\n    </tr>\n    <tr>\n      <th>4</th>\n      <td>Dasyuroides byrnei</td>\n      <td>Endangered</td>\n      <td>open</td>\n      <td>https://biodiversity.org.au/afd/taxa/c342ff42-...</td>\n      <td>NaN</td>\n      <td>South Australia Department for Environment and...</td>\n      <td>40249</td>\n      <td>Dasyuroides byrnei</td>\n      <td>species</td>\n      <td>9</td>\n      <td>...</td>\n      <td></td>\n      <td></td>\n      <td></td>\n      <td>6899</td>\n      <td>peggydnew</td>\n      <td>Listed - refer to https://www.environment.sa.g...</td>\n      <td>https://bie.ala.org.au/species/https://biodive...</td>\n      <td>40</td>\n      <td>40249</td>\n      <td>NO CHANGE</td>\n    </tr>\n    <tr>\n      <th>...</th>\n      <td>...</td>\n      <td>...</td>\n      <td>...</td>\n      <td>...</td>\n      <td>...</td>\n      <td>...</td>\n      <td>...</td>\n      <td>...</td>\n      <td>...</td>\n      <td>...</td>\n      <td>...</td>\n      <td>...</td>\n      <td>...</td>\n      <td>...</td>\n      <td>...</td>\n      <td>...</td>\n      <td>...</td>\n      <td>...</td>\n      <td>...</td>\n      <td>...</td>\n      <td>...</td>\n    </tr>\n    <tr>\n      <th>1321</th>\n      <td>NaN</td>\n      <td>Sensitive</td>\n      <td>open</td>\n      <td>NaN</td>\n      <td>NaN</td>\n      <td>NaN</td>\n      <td>NaN</td>\n      <td>NaN</td>\n      <td>NaN</td>\n      <td>NaN</td>\n      <td>...</td>\n      <td></td>\n      <td></td>\n      <td></td>\n      <td>6899</td>\n      <td>peggydnew</td>\n      <td>Listed - refer to https://www.environment.sa.g...</td>\n      <td>NaN</td>\n      <td>30</td>\n      <td>953460</td>\n      <td>REMOVE</td>\n    </tr>\n    <tr>\n      <th>1322</th>\n      <td>NaN</td>\n      <td>Sensitive</td>\n      <td>open</td>\n      <td>NaN</td>\n      <td>NaN</td>\n      <td>NaN</td>\n      <td>NaN</td>\n      <td>NaN</td>\n      <td>NaN</td>\n      <td>NaN</td>\n      <td>...</td>\n      <td></td>\n      <td></td>\n      <td></td>\n      <td>6899</td>\n      <td>peggydnew</td>\n      <td>Listed - refer to https://www.environment.sa.g...</td>\n      <td>NaN</td>\n      <td>30</td>\n      <td>966855</td>\n      <td>REMOVE</td>\n    </tr>\n    <tr>\n      <th>1323</th>\n      <td>NaN</td>\n      <td>Sensitive</td>\n      <td>open</td>\n      <td>NaN</td>\n      <td>NaN</td>\n      <td>NaN</td>\n      <td>NaN</td>\n      <td>NaN</td>\n      <td>NaN</td>\n      <td>NaN</td>\n      <td>...</td>\n      <td></td>\n      <td></td>\n      <td></td>\n      <td>6899</td>\n      <td>peggydnew</td>\n      <td>Listed - refer to https://www.environment.sa.g...</td>\n      <td>NaN</td>\n      <td>30</td>\n      <td>973888</td>\n      <td>REMOVE</td>\n    </tr>\n    <tr>\n      <th>1324</th>\n      <td>NaN</td>\n      <td>Sensitive</td>\n      <td>open</td>\n      <td>NaN</td>\n      <td>NaN</td>\n      <td>NaN</td>\n      <td>NaN</td>\n      <td>NaN</td>\n      <td>NaN</td>\n      <td>NaN</td>\n      <td>...</td>\n      <td></td>\n      <td></td>\n      <td></td>\n      <td>6899</td>\n      <td>peggydnew</td>\n      <td>Listed - refer to https://www.environment.sa.g...</td>\n      <td>NaN</td>\n      <td>30</td>\n      <td>985265</td>\n      <td>REMOVE</td>\n    </tr>\n    <tr>\n      <th>1325</th>\n      <td>NaN</td>\n      <td>Sensitive</td>\n      <td>open</td>\n      <td>NaN</td>\n      <td>NaN</td>\n      <td>NaN</td>\n      <td>NaN</td>\n      <td>NaN</td>\n      <td>NaN</td>\n      <td>NaN</td>\n      <td>...</td>\n      <td></td>\n      <td></td>\n      <td></td>\n      <td>6899</td>\n      <td>peggydnew</td>\n      <td>Listed - refer to https://www.environment.sa.g...</td>\n      <td>NaN</td>\n      <td>30</td>\n      <td>985279</td>\n      <td>REMOVE</td>\n    </tr>\n  </tbody>\n</table>\n<p>1326 rows × 52 columns</p>\n</div>"
     },
     "execution_count": 17,
     "metadata": {},
     "output_type": "execute_result"
    }
   ],
   "source": [
    "mergedstatuses"
   ],
   "metadata": {
    "collapsed": false,
    "ExecuteTime": {
     "end_time": "2024-01-19T07:34:49.083851Z",
     "start_time": "2024-01-19T07:34:49.040518Z"
    }
   }
  },
  {
   "cell_type": "markdown",
   "source": [
    "## Create output files"
   ],
   "metadata": {
    "collapsed": false,
    "pycharm": {
     "name": "#%% md\n"
    }
   }
  },
  {
   "cell_type": "code",
   "execution_count": 30,
   "outputs": [],
   "source": [
    "# UPDATES\n",
    "# Headers: action,taxon_name,id,taxon_id,status,iucn_equivalent,authority,url,geoprivacy,place_id,username,description\n",
    "updates = pd.DataFrame(mergedstatuses[mergedstatuses['action'].isin(['UPDATE','REMOVE'])])\n",
    "updates = updates[['action','state_scientificName','inat_id','inat_taxon_id','state_status','state_iucn_equivalent','state_authority','state_url','state_geoprivacy','place_id','username','description']]\n",
    "updates.columns = updates.columns.str.replace(\"state_\", \"\", regex=True)\n",
    "updates.columns = updates.columns.str.replace(\"inat_\", \"\", regex=True)\n",
    "updates = updates.rename(columns={'scientificName':'taxon_name'})\n",
    "\n",
    "# ADDITIONS\n",
    "# Headers: Taxon_Name,Status,Authority,IUCN_equivalent,Description,iNaturalist_Place_ID,url,Taxon_Geoprivacy,Username,taxon_id\n",
    "additions = pd.DataFrame(mergedstatuses[mergedstatuses['action'] == \"ADD\"])\n",
    "additions = additions[['action','state_scientificName','inat_id','inat_taxon_id','state_status','state_iucn_equivalent','state_authority','state_url','state_geoprivacy','place_id','username','description']]\n",
    "additions = additions.rename(columns={'state_scientificName':'Taxon_Name',\n",
    "                                      'state_status':'Status',\n",
    "                                      'state_authority':'Authority',\n",
    "                                      'state_iucn_equivalent':'IUCN_equivalent',\n",
    "                                      'description':'Description',\n",
    "                                      'place_id':'iNaturalst_Place_ID',\n",
    "                                      'state_url':'url',\n",
    "                                      'state_geoprivacy':'taxon_Geoprivacy',\n",
    "                                      'inat_taxon_id':'taxon_id'})\n",
    "\n",
    "# WRITE TO FILE\n",
    "mergedstatusesprintfriendly.to_csv(projectdir + \"data/out/summaries/sa.csv\",index=False)\n",
    "updates.to_csv(projectdir + \"data/out/updates-sa.csv\", index=False)\n",
    "additions.to_csv(projectdir + \"data/out/additions-sa.csv\", index=False)"
   ],
   "metadata": {
    "collapsed": false,
    "pycharm": {
     "name": "#%%\n"
    },
    "ExecuteTime": {
     "end_time": "2024-01-19T07:48:54.791029Z",
     "start_time": "2024-01-19T07:48:54.741642Z"
    }
   }
  }
 ],
 "metadata": {
  "kernelspec": {
   "display_name": "Python 3",
   "language": "python",
   "name": "python3"
  },
  "language_info": {
   "codemirror_mode": {
    "name": "ipython",
    "version": 2
   },
   "file_extension": ".py",
   "mimetype": "text/x-python",
   "name": "python",
   "nbconvert_exporter": "python",
   "pygments_lexer": "ipython2",
   "version": "2.7.6"
  }
 },
 "nbformat": 4,
 "nbformat_minor": 0
}
