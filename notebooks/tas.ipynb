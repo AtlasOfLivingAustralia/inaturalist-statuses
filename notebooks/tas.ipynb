{
 "cells": [
  {
   "cell_type": "markdown",
   "source": [
    "# iNaturalist status updates by state\n",
    "\n",
    "Using the file produced in the collate-status-taxa.ipynb: `inat-aust-status-taxa.csv`, generate lists to update iNaturalist statuses\n",
    "\n",
    "**Next steps:**\n",
    "State by state establish the changes that need to be made:\n",
    "    a. new - any new species that appear in the state lists but do not have a status in inaturalist (new template)\n",
    "    b. updates - any changes to information which was added by us previously (user_id = 708886) (update template, action='UPDATE')\n",
    "    c. removals - any statuses which were added by us previously (user_id = 708886) list which are incorrect (update template, action='REMOVE')\n",
    "    d. flags - are there any statuses by other users that need to be flagged?\n",
    "\n",
    "## Prep - common to all states\n",
    "1. Read in the inaturalist statuses & filter out this state\n",
    "2. Read in the inaturalist taxa list\n",
    "3. Read in the state sensitive list\n",
    "4. Attempt to match the state statuses to an IUCN equivalent\n",
    "\n",
    "\n",
    "### 1. iNaturalist statuses"
   ],
   "metadata": {
    "collapsed": false,
    "pycharm": {
     "name": "#%% md\n"
    }
   }
  },
  {
   "cell_type": "code",
   "execution_count": 1,
   "metadata": {
    "collapsed": true,
    "pycharm": {
     "name": "#%%\n"
    }
   },
   "outputs": [
    {
     "data": {
      "text/plain": "       id taxon_id  user_id place_id source_id  \\\n0  166449    38493  1138587     7830             \n1  234788   918383   702203     9994             \n2  234789   918383   702203     7308             \n\n                            authority status  \\\n0  Flora and Fauna Guarantee Act 1988     CR   \n1           Atlas of Living Australia    NT    \n2           Atlas of Living Australia     LC   \n\n                                                 url description geoprivacy  \\\n0                                                                  obscured   \n1  https://bie.ala.org.au/species/https://id.biod...                          \n2  https://bie.ala.org.au/species/https://id.biod...                          \n\n   ...         genus specificEpithet infraspecificEpithet  \\\n0  ...     Eulamprus      kosciuskoi                        \n1  ...  Chiloschista     phyllorhiza                        \n2  ...  Chiloschista     phyllorhiza                        \n\n               modified            scientificName taxonRank  \\\n0  2021-03-01T10:35:01Z      Eulamprus kosciuskoi   species   \n1  2022-01-08T03:30:36Z  Chiloschista phyllorhiza   species   \n2  2022-01-08T03:30:36Z  Chiloschista phyllorhiza   species   \n\n                                          references preferred_common_name  \\\n0  http://reptile-database.reptarium.cz/search.ph...                         \n1  http://www.catalogueoflife.org/annual-checklis...                         \n2  http://www.catalogueoflife.org/annual-checklis...                         \n\n  is_active current_synonymous_taxon_ids  \n0                                         \n1                                         \n2                                         \n\n[3 rows x 34 columns]",
      "text/html": "<div>\n<style scoped>\n    .dataframe tbody tr th:only-of-type {\n        vertical-align: middle;\n    }\n\n    .dataframe tbody tr th {\n        vertical-align: top;\n    }\n\n    .dataframe thead th {\n        text-align: right;\n    }\n</style>\n<table border=\"1\" class=\"dataframe\">\n  <thead>\n    <tr style=\"text-align: right;\">\n      <th></th>\n      <th>id</th>\n      <th>taxon_id</th>\n      <th>user_id</th>\n      <th>place_id</th>\n      <th>source_id</th>\n      <th>authority</th>\n      <th>status</th>\n      <th>url</th>\n      <th>description</th>\n      <th>geoprivacy</th>\n      <th>...</th>\n      <th>genus</th>\n      <th>specificEpithet</th>\n      <th>infraspecificEpithet</th>\n      <th>modified</th>\n      <th>scientificName</th>\n      <th>taxonRank</th>\n      <th>references</th>\n      <th>preferred_common_name</th>\n      <th>is_active</th>\n      <th>current_synonymous_taxon_ids</th>\n    </tr>\n  </thead>\n  <tbody>\n    <tr>\n      <th>0</th>\n      <td>166449</td>\n      <td>38493</td>\n      <td>1138587</td>\n      <td>7830</td>\n      <td></td>\n      <td>Flora and Fauna Guarantee Act 1988</td>\n      <td>CR</td>\n      <td></td>\n      <td></td>\n      <td>obscured</td>\n      <td>...</td>\n      <td>Eulamprus</td>\n      <td>kosciuskoi</td>\n      <td></td>\n      <td>2021-03-01T10:35:01Z</td>\n      <td>Eulamprus kosciuskoi</td>\n      <td>species</td>\n      <td>http://reptile-database.reptarium.cz/search.ph...</td>\n      <td></td>\n      <td></td>\n      <td></td>\n    </tr>\n    <tr>\n      <th>1</th>\n      <td>234788</td>\n      <td>918383</td>\n      <td>702203</td>\n      <td>9994</td>\n      <td></td>\n      <td>Atlas of Living Australia</td>\n      <td>NT</td>\n      <td>https://bie.ala.org.au/species/https://id.biod...</td>\n      <td></td>\n      <td></td>\n      <td>...</td>\n      <td>Chiloschista</td>\n      <td>phyllorhiza</td>\n      <td></td>\n      <td>2022-01-08T03:30:36Z</td>\n      <td>Chiloschista phyllorhiza</td>\n      <td>species</td>\n      <td>http://www.catalogueoflife.org/annual-checklis...</td>\n      <td></td>\n      <td></td>\n      <td></td>\n    </tr>\n    <tr>\n      <th>2</th>\n      <td>234789</td>\n      <td>918383</td>\n      <td>702203</td>\n      <td>7308</td>\n      <td></td>\n      <td>Atlas of Living Australia</td>\n      <td>LC</td>\n      <td>https://bie.ala.org.au/species/https://id.biod...</td>\n      <td></td>\n      <td></td>\n      <td>...</td>\n      <td>Chiloschista</td>\n      <td>phyllorhiza</td>\n      <td></td>\n      <td>2022-01-08T03:30:36Z</td>\n      <td>Chiloschista phyllorhiza</td>\n      <td>species</td>\n      <td>http://www.catalogueoflife.org/annual-checklis...</td>\n      <td></td>\n      <td></td>\n      <td></td>\n    </tr>\n  </tbody>\n</table>\n<p>3 rows × 34 columns</p>\n</div>"
     },
     "execution_count": 1,
     "metadata": {},
     "output_type": "execute_result"
    }
   ],
   "source": [
    "import sys\n",
    "import os\n",
    "projectdir = \"/Users/new330/IdeaProjects/authoritative-lists/\" # basedir for this gh project\n",
    "#projectdir = \"/Users/oco115/PycharmProjects/authoritative-lists/\" # basedir for this gh project\n",
    "sys.path.append(os.path.abspath(projectdir + \"source-code/includes\"))\n",
    "import list_functions as lf\n",
    "\n",
    "import pandas as pd\n",
    "# projectdir = \"/Users/new330/IdeaProjects/authoritative-lists/\" # basedir for this gh project\n",
    "sourcedir = projectdir + \"source-data/inaturalist-statuses/\"\n",
    "listdir = projectdir + \"current-lists/\"\n",
    "\n",
    "\n",
    "# read in the statuses\n",
    "taxastatus = pd.read_csv(sourcedir + \"inat-aust-status-taxa.csv\", encoding='UTF-8',na_filter=False,dtype=str) ## Read inaturalist conservation statuses file\n",
    "taxastatus.head(3)"
   ]
  },
  {
   "cell_type": "code",
   "execution_count": 2,
   "outputs": [
    {
     "data": {
      "text/plain": "     status_id taxon_id  user_id place_id source_id  \\\n212     170159  1007040   702203     6829             \n2558    160921  1038747   717122     6829             \n2547    160910  1038906   717122     6829             \n933     160738  1038964   717122     6829             \n2557    160920  1038976   717122     6829             \n...        ...      ...      ...      ...       ...   \n2586    160759   958863   717122     6829             \n2594    161103   960004   717122     6829             \n3380    268029   993886  1116633     6829             \n813     160748   993902   717122     6829             \n1008    160745   993922   717122     6829             \n\n                                            authority      status  \\\n212            Threatened Species Protection Act 1995          EN   \n2558           Threatened Species Protection Act 1995  Endangered   \n2547           Threatened Species Protection Act 1995  Endangered   \n933            Threatened Species Protection Act 1995  Endangered   \n2557           Threatened Species Protection Act 1995  Endangered   \n...                                               ...         ...   \n2586           Threatened Species Protection Act 1995  Endangered   \n2594           Threatened Species Protection Act 1995  Endangered   \n3380  TASMANIAN THREATENED SPECIES LISTING STATEMENT           EN   \n813            Threatened Species Protection Act 1995  Endangered   \n1008           Threatened Species Protection Act 1995  Endangered   \n\n                                                    url  \\\n212   https://www.threatenedspecieslink.tas.gov.au/P...   \n2558  https://dpipwe.tas.gov.au/Documents/Ranunculus...   \n2547  https://dpipwe.tas.gov.au/Documents/Myosurus-a...   \n933   https://dpipwe.tas.gov.au/Documents/Boronia%20...   \n2557  https://dpipwe.tas.gov.au/Documents/Pimelea-ax...   \n...                                                 ...   \n2586  https://dpipwe.tas.gov.au/Documents/Corunastyl...   \n2594  https://dpipwe.tas.gov.au/Documents/Thelymitra...   \n3380  https://nre.tas.gov.au/Documents/Prasophyllum%...   \n813   https://dpipwe.tas.gov.au/Documents/Caladenia-...   \n1008  https://dpipwe.tas.gov.au/Documents/Caladenia-...   \n\n                                            description geoprivacy  ...  \\\n212                                                                 ...   \n2558                                                      obscured  ...   \n2547                                                      obscured  ...   \n933                                                       obscured  ...   \n2557                                                      obscured  ...   \n...                                                 ...        ...  ...   \n2586                                                                ...   \n2594                                                      obscured  ...   \n3380  1. total population estimated to number fewer ...   obscured  ...   \n813                                                                 ...   \n1008                                                                ...   \n\n             genus specificEpithet infraspecificEpithet              modified  \\\n212       Dianella          amoena                       2021-07-27T17:12:17Z   \n2558    Ranunculus       diminutus                       2022-06-13T17:38:59Z   \n2547      Myosurus       australis                       2020-08-19T03:33:32Z   \n933        Boronia      hemichiton                       2020-08-17T05:51:50Z   \n2557       Pimelea        axiflora             axiflora  2020-12-02T04:00:26Z   \n...            ...             ...                  ...                   ...   \n2586   Genoplesium      nudiscapum                       2022-10-26T09:34:12Z   \n2594    Thelymitra       bracteata                       2022-07-14T00:09:44Z   \n3380  Prasophyllum    abblittiorum                       2020-02-18T23:45:10Z   \n813      Caladenia         dienema                       2020-12-15T00:50:01Z   \n1008     Caladenia      campbellii                       2020-12-15T00:48:44Z   \n\n                 scientificName   taxonRank  \\\n212             Dianella amoena     species   \n2558       Ranunculus diminutus     species   \n2547         Myosurus australis     species   \n933          Boronia hemichiton     species   \n2557  Pimelea axiflora axiflora  subspecies   \n...                         ...         ...   \n2586     Genoplesium nudiscapum     species   \n2594       Thelymitra bracteata     species   \n3380  Prasophyllum abblittiorum     species   \n813           Caladenia dienema     species   \n1008       Caladenia campbellii     species   \n\n                                             references preferred_common_name  \\\n212   http://www.catalogueoflife.org/annual-checklis...                         \n2558                                                                            \n2547                                                                            \n933                                                                             \n2557                                                                            \n...                                                 ...                   ...   \n2586                      https://eol.org/pages/1099120                         \n2594  http://www.catalogueoflife.org/annual-checklis...                         \n3380                     https://eol.org/pages/51504614                         \n813   http://www.catalogueoflife.org/annual-checklis...                         \n1008  http://www.catalogueoflife.org/annual-checklis...                         \n\n     is_active current_synonymous_taxon_ids  \n212                                          \n2558                                         \n2547                                         \n933                                          \n2557                                         \n...        ...                          ...  \n2586                                         \n2594                                         \n3380                                         \n813                                          \n1008                                         \n\n[85 rows x 34 columns]",
      "text/html": "<div>\n<style scoped>\n    .dataframe tbody tr th:only-of-type {\n        vertical-align: middle;\n    }\n\n    .dataframe tbody tr th {\n        vertical-align: top;\n    }\n\n    .dataframe thead th {\n        text-align: right;\n    }\n</style>\n<table border=\"1\" class=\"dataframe\">\n  <thead>\n    <tr style=\"text-align: right;\">\n      <th></th>\n      <th>status_id</th>\n      <th>taxon_id</th>\n      <th>user_id</th>\n      <th>place_id</th>\n      <th>source_id</th>\n      <th>authority</th>\n      <th>status</th>\n      <th>url</th>\n      <th>description</th>\n      <th>geoprivacy</th>\n      <th>...</th>\n      <th>genus</th>\n      <th>specificEpithet</th>\n      <th>infraspecificEpithet</th>\n      <th>modified</th>\n      <th>scientificName</th>\n      <th>taxonRank</th>\n      <th>references</th>\n      <th>preferred_common_name</th>\n      <th>is_active</th>\n      <th>current_synonymous_taxon_ids</th>\n    </tr>\n  </thead>\n  <tbody>\n    <tr>\n      <th>212</th>\n      <td>170159</td>\n      <td>1007040</td>\n      <td>702203</td>\n      <td>6829</td>\n      <td></td>\n      <td>Threatened Species Protection Act 1995</td>\n      <td>EN</td>\n      <td>https://www.threatenedspecieslink.tas.gov.au/P...</td>\n      <td></td>\n      <td></td>\n      <td>...</td>\n      <td>Dianella</td>\n      <td>amoena</td>\n      <td></td>\n      <td>2021-07-27T17:12:17Z</td>\n      <td>Dianella amoena</td>\n      <td>species</td>\n      <td>http://www.catalogueoflife.org/annual-checklis...</td>\n      <td></td>\n      <td></td>\n      <td></td>\n    </tr>\n    <tr>\n      <th>2558</th>\n      <td>160921</td>\n      <td>1038747</td>\n      <td>717122</td>\n      <td>6829</td>\n      <td></td>\n      <td>Threatened Species Protection Act 1995</td>\n      <td>Endangered</td>\n      <td>https://dpipwe.tas.gov.au/Documents/Ranunculus...</td>\n      <td></td>\n      <td>obscured</td>\n      <td>...</td>\n      <td>Ranunculus</td>\n      <td>diminutus</td>\n      <td></td>\n      <td>2022-06-13T17:38:59Z</td>\n      <td>Ranunculus diminutus</td>\n      <td>species</td>\n      <td></td>\n      <td></td>\n      <td></td>\n      <td></td>\n    </tr>\n    <tr>\n      <th>2547</th>\n      <td>160910</td>\n      <td>1038906</td>\n      <td>717122</td>\n      <td>6829</td>\n      <td></td>\n      <td>Threatened Species Protection Act 1995</td>\n      <td>Endangered</td>\n      <td>https://dpipwe.tas.gov.au/Documents/Myosurus-a...</td>\n      <td></td>\n      <td>obscured</td>\n      <td>...</td>\n      <td>Myosurus</td>\n      <td>australis</td>\n      <td></td>\n      <td>2020-08-19T03:33:32Z</td>\n      <td>Myosurus australis</td>\n      <td>species</td>\n      <td></td>\n      <td></td>\n      <td></td>\n      <td></td>\n    </tr>\n    <tr>\n      <th>933</th>\n      <td>160738</td>\n      <td>1038964</td>\n      <td>717122</td>\n      <td>6829</td>\n      <td></td>\n      <td>Threatened Species Protection Act 1995</td>\n      <td>Endangered</td>\n      <td>https://dpipwe.tas.gov.au/Documents/Boronia%20...</td>\n      <td></td>\n      <td>obscured</td>\n      <td>...</td>\n      <td>Boronia</td>\n      <td>hemichiton</td>\n      <td></td>\n      <td>2020-08-17T05:51:50Z</td>\n      <td>Boronia hemichiton</td>\n      <td>species</td>\n      <td></td>\n      <td></td>\n      <td></td>\n      <td></td>\n    </tr>\n    <tr>\n      <th>2557</th>\n      <td>160920</td>\n      <td>1038976</td>\n      <td>717122</td>\n      <td>6829</td>\n      <td></td>\n      <td>Threatened Species Protection Act 1995</td>\n      <td>Endangered</td>\n      <td>https://dpipwe.tas.gov.au/Documents/Pimelea-ax...</td>\n      <td></td>\n      <td>obscured</td>\n      <td>...</td>\n      <td>Pimelea</td>\n      <td>axiflora</td>\n      <td>axiflora</td>\n      <td>2020-12-02T04:00:26Z</td>\n      <td>Pimelea axiflora axiflora</td>\n      <td>subspecies</td>\n      <td></td>\n      <td></td>\n      <td></td>\n      <td></td>\n    </tr>\n    <tr>\n      <th>...</th>\n      <td>...</td>\n      <td>...</td>\n      <td>...</td>\n      <td>...</td>\n      <td>...</td>\n      <td>...</td>\n      <td>...</td>\n      <td>...</td>\n      <td>...</td>\n      <td>...</td>\n      <td>...</td>\n      <td>...</td>\n      <td>...</td>\n      <td>...</td>\n      <td>...</td>\n      <td>...</td>\n      <td>...</td>\n      <td>...</td>\n      <td>...</td>\n      <td>...</td>\n      <td>...</td>\n    </tr>\n    <tr>\n      <th>2586</th>\n      <td>160759</td>\n      <td>958863</td>\n      <td>717122</td>\n      <td>6829</td>\n      <td></td>\n      <td>Threatened Species Protection Act 1995</td>\n      <td>Endangered</td>\n      <td>https://dpipwe.tas.gov.au/Documents/Corunastyl...</td>\n      <td></td>\n      <td></td>\n      <td>...</td>\n      <td>Genoplesium</td>\n      <td>nudiscapum</td>\n      <td></td>\n      <td>2022-10-26T09:34:12Z</td>\n      <td>Genoplesium nudiscapum</td>\n      <td>species</td>\n      <td>https://eol.org/pages/1099120</td>\n      <td></td>\n      <td></td>\n      <td></td>\n    </tr>\n    <tr>\n      <th>2594</th>\n      <td>161103</td>\n      <td>960004</td>\n      <td>717122</td>\n      <td>6829</td>\n      <td></td>\n      <td>Threatened Species Protection Act 1995</td>\n      <td>Endangered</td>\n      <td>https://dpipwe.tas.gov.au/Documents/Thelymitra...</td>\n      <td></td>\n      <td>obscured</td>\n      <td>...</td>\n      <td>Thelymitra</td>\n      <td>bracteata</td>\n      <td></td>\n      <td>2022-07-14T00:09:44Z</td>\n      <td>Thelymitra bracteata</td>\n      <td>species</td>\n      <td>http://www.catalogueoflife.org/annual-checklis...</td>\n      <td></td>\n      <td></td>\n      <td></td>\n    </tr>\n    <tr>\n      <th>3380</th>\n      <td>268029</td>\n      <td>993886</td>\n      <td>1116633</td>\n      <td>6829</td>\n      <td></td>\n      <td>TASMANIAN THREATENED SPECIES LISTING STATEMENT</td>\n      <td>EN</td>\n      <td>https://nre.tas.gov.au/Documents/Prasophyllum%...</td>\n      <td>1. total population estimated to number fewer ...</td>\n      <td>obscured</td>\n      <td>...</td>\n      <td>Prasophyllum</td>\n      <td>abblittiorum</td>\n      <td></td>\n      <td>2020-02-18T23:45:10Z</td>\n      <td>Prasophyllum abblittiorum</td>\n      <td>species</td>\n      <td>https://eol.org/pages/51504614</td>\n      <td></td>\n      <td></td>\n      <td></td>\n    </tr>\n    <tr>\n      <th>813</th>\n      <td>160748</td>\n      <td>993902</td>\n      <td>717122</td>\n      <td>6829</td>\n      <td></td>\n      <td>Threatened Species Protection Act 1995</td>\n      <td>Endangered</td>\n      <td>https://dpipwe.tas.gov.au/Documents/Caladenia-...</td>\n      <td></td>\n      <td></td>\n      <td>...</td>\n      <td>Caladenia</td>\n      <td>dienema</td>\n      <td></td>\n      <td>2020-12-15T00:50:01Z</td>\n      <td>Caladenia dienema</td>\n      <td>species</td>\n      <td>http://www.catalogueoflife.org/annual-checklis...</td>\n      <td></td>\n      <td></td>\n      <td></td>\n    </tr>\n    <tr>\n      <th>1008</th>\n      <td>160745</td>\n      <td>993922</td>\n      <td>717122</td>\n      <td>6829</td>\n      <td></td>\n      <td>Threatened Species Protection Act 1995</td>\n      <td>Endangered</td>\n      <td>https://dpipwe.tas.gov.au/Documents/Caladenia-...</td>\n      <td></td>\n      <td></td>\n      <td>...</td>\n      <td>Caladenia</td>\n      <td>campbellii</td>\n      <td></td>\n      <td>2020-12-15T00:48:44Z</td>\n      <td>Caladenia campbellii</td>\n      <td>species</td>\n      <td>http://www.catalogueoflife.org/annual-checklis...</td>\n      <td></td>\n      <td></td>\n      <td></td>\n    </tr>\n  </tbody>\n</table>\n<p>85 rows × 34 columns</p>\n</div>"
     },
     "execution_count": 2,
     "metadata": {},
     "output_type": "execute_result"
    }
   ],
   "source": [
    "def filter_state_statuses(stateregex: str, urlregex: str):\n",
    "    authoritydf = taxastatus['authority'].drop_duplicates().sort_values()\n",
    "    authoritydf = authoritydf[pd.Series(authoritydf).str.contains(stateregex)]\n",
    "    urldf = taxastatus['url'].drop_duplicates().sort_values()\n",
    "    urldf = urldf[pd.Series(urldf).str.contains(urlregex)]\n",
    "    placedisplaydf = taxastatus['place_display_name'].drop_duplicates().sort_values()\n",
    "    placedisplaydf = placedisplaydf[pd.Series(placedisplaydf).str.contains(stateregex)]\n",
    "    placedf = taxastatus['place_name'].drop_duplicates().sort_values()\n",
    "    placedf = placedf[pd.Series(placedf).str.contains(stateregex)]\n",
    "    # concat all and remove duplicates\n",
    "    statedf = pd.concat([taxastatus.apply(lambda row: row[taxastatus['place_display_name'].isin(placedisplaydf)]),\n",
    "                         taxastatus.apply(lambda row: row[taxastatus['place_name'].isin(placedf)]),\n",
    "                         taxastatus.apply(lambda row: row[taxastatus['url'].isin(urldf)]),\n",
    "                         taxastatus.apply(\n",
    "                             lambda row: row[taxastatus['authority'].isin(authoritydf)])]).drop_duplicates()\n",
    "    return statedf.sort_values(['taxon_id', 'user_id'])\n",
    "inatstatuses = filter_state_statuses(\"Tasmania|TAS\", \".tas.gov\")\n",
    "inatstatuses.rename(columns={'id':'status_id','id_y':'taxon_id_y'},inplace=True)\n",
    "inatstatuses"
   ],
   "metadata": {
    "collapsed": false,
    "pycharm": {
     "name": "#%%\n"
    }
   }
  },
  {
   "cell_type": "markdown",
   "source": [
    "### 2. iNaturalist taxonomy"
   ],
   "metadata": {
    "collapsed": false,
    "pycharm": {
     "name": "#%% md\n"
    }
   }
  },
  {
   "cell_type": "code",
   "execution_count": 3,
   "outputs": [
    {
     "data": {
      "text/plain": "  id                             taxonID                          identifier  \\\n0  1  https://www.inaturalist.org/taxa/1  https://www.inaturalist.org/taxa/1   \n1  2  https://www.inaturalist.org/taxa/2  https://www.inaturalist.org/taxa/2   \n2  3  https://www.inaturalist.org/taxa/3  https://www.inaturalist.org/taxa/3   \n\n                         parentNameUsageID   kingdom    phylum class order  \\\n0   https://www.inaturalist.org/taxa/48460  Animalia       NaN   NaN   NaN   \n1       https://www.inaturalist.org/taxa/1  Animalia  Chordata   NaN   NaN   \n2  https://www.inaturalist.org/taxa/355675  Animalia  Chordata  Aves   NaN   \n\n  family genus specificEpithet infraspecificEpithet              modified  \\\n0    NaN   NaN             NaN                  NaN  2021-11-02T06:05:44Z   \n1    NaN   NaN             NaN                  NaN  2021-11-23T00:40:18Z   \n2    NaN   NaN             NaN                  NaN  2022-12-27T07:33:16Z   \n\n  scientificName taxonRank                                         references  \n0       Animalia   kingdom  http://www.catalogueoflife.org/annual-checklis...  \n1       Chordata    phylum  http://www.catalogueoflife.org/annual-checklis...  \n2           Aves     class  http://www.catalogueoflife.org/annual-checklis...  ",
      "text/html": "<div>\n<style scoped>\n    .dataframe tbody tr th:only-of-type {\n        vertical-align: middle;\n    }\n\n    .dataframe tbody tr th {\n        vertical-align: top;\n    }\n\n    .dataframe thead th {\n        text-align: right;\n    }\n</style>\n<table border=\"1\" class=\"dataframe\">\n  <thead>\n    <tr style=\"text-align: right;\">\n      <th></th>\n      <th>id</th>\n      <th>taxonID</th>\n      <th>identifier</th>\n      <th>parentNameUsageID</th>\n      <th>kingdom</th>\n      <th>phylum</th>\n      <th>class</th>\n      <th>order</th>\n      <th>family</th>\n      <th>genus</th>\n      <th>specificEpithet</th>\n      <th>infraspecificEpithet</th>\n      <th>modified</th>\n      <th>scientificName</th>\n      <th>taxonRank</th>\n      <th>references</th>\n    </tr>\n  </thead>\n  <tbody>\n    <tr>\n      <th>0</th>\n      <td>1</td>\n      <td>https://www.inaturalist.org/taxa/1</td>\n      <td>https://www.inaturalist.org/taxa/1</td>\n      <td>https://www.inaturalist.org/taxa/48460</td>\n      <td>Animalia</td>\n      <td>NaN</td>\n      <td>NaN</td>\n      <td>NaN</td>\n      <td>NaN</td>\n      <td>NaN</td>\n      <td>NaN</td>\n      <td>NaN</td>\n      <td>2021-11-02T06:05:44Z</td>\n      <td>Animalia</td>\n      <td>kingdom</td>\n      <td>http://www.catalogueoflife.org/annual-checklis...</td>\n    </tr>\n    <tr>\n      <th>1</th>\n      <td>2</td>\n      <td>https://www.inaturalist.org/taxa/2</td>\n      <td>https://www.inaturalist.org/taxa/2</td>\n      <td>https://www.inaturalist.org/taxa/1</td>\n      <td>Animalia</td>\n      <td>Chordata</td>\n      <td>NaN</td>\n      <td>NaN</td>\n      <td>NaN</td>\n      <td>NaN</td>\n      <td>NaN</td>\n      <td>NaN</td>\n      <td>2021-11-23T00:40:18Z</td>\n      <td>Chordata</td>\n      <td>phylum</td>\n      <td>http://www.catalogueoflife.org/annual-checklis...</td>\n    </tr>\n    <tr>\n      <th>2</th>\n      <td>3</td>\n      <td>https://www.inaturalist.org/taxa/3</td>\n      <td>https://www.inaturalist.org/taxa/3</td>\n      <td>https://www.inaturalist.org/taxa/355675</td>\n      <td>Animalia</td>\n      <td>Chordata</td>\n      <td>Aves</td>\n      <td>NaN</td>\n      <td>NaN</td>\n      <td>NaN</td>\n      <td>NaN</td>\n      <td>NaN</td>\n      <td>2022-12-27T07:33:16Z</td>\n      <td>Aves</td>\n      <td>class</td>\n      <td>http://www.catalogueoflife.org/annual-checklis...</td>\n    </tr>\n  </tbody>\n</table>\n</div>"
     },
     "execution_count": 3,
     "metadata": {},
     "output_type": "execute_result"
    }
   ],
   "source": [
    "# Output files contain these fields\n",
    "# Taxon_Name,Status,Authority,IUCN_equivalent,Description,iNaturalist_Place_ID,url,Taxon_Geoprivacy,Username,taxon_id\n",
    "# so we need to match species from the state lists to the inat taxa to get the taxon_id\n",
    "\n",
    "import zipfile\n",
    "url = \"https://www.inaturalist.org/taxa/inaturalist-taxonomy.dwca.zip\"\n",
    "filename = url.split(\"/\")[-1]\n",
    "\n",
    "z=zipfile.ZipFile(sourcedir + filename)\n",
    "\n",
    "with z.open('taxa.csv') as from_archive:\n",
    "    inattaxa = pd.read_csv(from_archive,dtype=str)\n",
    "z.close()\n",
    "inattaxa.head(3)\n"
   ],
   "metadata": {
    "collapsed": false,
    "pycharm": {
     "name": "#%%\n"
    }
   }
  },
  {
   "cell_type": "markdown",
   "source": [
    "### 3. State lists\n",
    "Sensitive list: `geoprivacy` = `obscured`\n",
    "overrides"
   ],
   "metadata": {
    "collapsed": false,
    "pycharm": {
     "name": "#%% md\n"
    }
   }
  },
  {
   "cell_type": "code",
   "execution_count": 4,
   "outputs": [],
   "source": [
    "# %%script echo skipping # comment this line to download dataset from lists.ala.org.au the web and save locally\n",
    "# Download lists data. Retrieve binomial and trinomial names from GBIF. Save locally to CSV\n",
    "\n",
    "sensitivelist = lf.download_ala_list(\"https://lists.ala.org.au/ws/speciesListItems/dr491?max=10000&includeKVP=true\")\n",
    "# sensitivelist = lf.kvp_to_columns(sensitivelist)   # kvp values null\n",
    "sensitivelist.to_csv(sourcedir + \"tas-ala-sensitive.csv\", index=False)"
   ],
   "metadata": {
    "collapsed": false,
    "pycharm": {
     "name": "#%%\n"
    }
   }
  },
  {
   "cell_type": "code",
   "execution_count": 5,
   "outputs": [],
   "source": [
    "conservationlist = lf.download_ala_list(\"https://lists.ala.org.au/ws/speciesListItems/dr654?max=10000&includeKVP=true\")\n",
    "conservationlist = lf.kvp_to_columns(conservationlist)\n",
    "conservationlist.to_csv(sourcedir + \"tas-ala-conservation.csv\", index=False)"
   ],
   "metadata": {
    "collapsed": false,
    "pycharm": {
     "name": "#%%\n"
    }
   }
  },
  {
   "cell_type": "code",
   "execution_count": 19,
   "outputs": [
    {
     "data": {
      "text/plain": "      id               name      commonName     scientificName  \\\n0  24386  Lomatia tasmanica  King's Lomatia  Lomatia tasmanica   \n\n                                               lsid dataResourceUid kvpValues  \\\n0  https://id.biodiversity.org.au/node/apni/2903191           dr491        []   \n\n       status tas_geoprivacy  \n0  Endangered        private  ",
      "text/html": "<div>\n<style scoped>\n    .dataframe tbody tr th:only-of-type {\n        vertical-align: middle;\n    }\n\n    .dataframe tbody tr th {\n        vertical-align: top;\n    }\n\n    .dataframe thead th {\n        text-align: right;\n    }\n</style>\n<table border=\"1\" class=\"dataframe\">\n  <thead>\n    <tr style=\"text-align: right;\">\n      <th></th>\n      <th>id</th>\n      <th>name</th>\n      <th>commonName</th>\n      <th>scientificName</th>\n      <th>lsid</th>\n      <th>dataResourceUid</th>\n      <th>kvpValues</th>\n      <th>status</th>\n      <th>tas_geoprivacy</th>\n    </tr>\n  </thead>\n  <tbody>\n    <tr>\n      <th>0</th>\n      <td>24386</td>\n      <td>Lomatia tasmanica</td>\n      <td>King's Lomatia</td>\n      <td>Lomatia tasmanica</td>\n      <td>https://id.biodiversity.org.au/node/apni/2903191</td>\n      <td>dr491</td>\n      <td>[]</td>\n      <td>Endangered</td>\n      <td>private</td>\n    </tr>\n  </tbody>\n</table>\n</div>"
     },
     "execution_count": 19,
     "metadata": {},
     "output_type": "execute_result"
    }
   ],
   "source": [
    "# Read sensitive list data\n",
    "sensitivelist = pd.read_csv(sourcedir + \"tas-ala-sensitive.csv\", dtype=str)\n",
    "# Tasmania has only 1 sensitive species in list so set status to Conservation list status for the species\n",
    "sensitivelist['status'] = 'Endangered'\n",
    "sensitivelist['tas_geoprivacy'] = 'private'\n",
    "sensitivelist"
   ],
   "metadata": {
    "collapsed": false,
    "pycharm": {
     "name": "#%%\n"
    }
   }
  },
  {
   "cell_type": "code",
   "execution_count": 8,
   "outputs": [
    {
     "data": {
      "text/plain": "          id                                    name  \\\n0    4033150                           Costora iena    \n1    4033128                  Hadronyche pulvinator    \n2    4033378                 Hypolimnus pedderensis    \n3    4033234                Thylacinus cynocephalus    \n4    4033416  Gallirallus philippensis macquariensis   \n..       ...                                     ...   \n678  4033369                    Erioderma sorediatum   \n679  4033419              Xanthoparmelia amphixantha   \n680  4033291              Xanthoparmelia molliuscula   \n681  4033236             Xanthoparmelia subloxodella   \n682  4033313                 Xanthoparmelia willisii   \n\n                    commonName                          scientificName  \\\n0     Caddis Fly (great Lakes)                            Costora iena   \n1    Cascade Funnel-web Spider                   Hadronyche pulvinator   \n2        Lake Pedder Earthworm                  Hypolimnus pedderensis   \n3                    Thylacine                 Thylacinus cynocephalus   \n4                          NaN  Gallirallus philippensis macquariensis   \n..                         ...                                     ...   \n678                        NaN                    Erioderma sorediatum   \n679                        NaN              Xanthoparmelia amphixantha   \n680                        NaN              Xanthoparmelia molliuscula   \n681                        NaN             Xanthoparmelia subloxodella   \n682                        NaN                 Xanthoparmelia willisii   \n\n                                                  lsid dataResourceUid  \\\n0    https://biodiversity.org.au/afd/taxa/7de808fb-...           dr654   \n1    https://biodiversity.org.au/afd/taxa/2acd0df1-...           dr654   \n2    https://biodiversity.org.au/afd/taxa/7db09aa3-...           dr654   \n3    https://biodiversity.org.au/afd/taxa/97764bed-...           dr654   \n4                                        NZOR-6-101588           dr654   \n..                                                 ...             ...   \n678                                      ALA_DR654_679           dr654   \n679                                      ALA_DR654_680           dr654   \n680                                      ALA_DR654_681           dr654   \n681                                      ALA_DR654_682           dr654   \n682                                      ALA_DR654_683           dr654   \n\n                                             kvpValues  \\\n0    [{'key': 'scientificNameAuthorship', 'value': ...   \n1    [{'key': 'scientificNameAuthorship', 'value': ...   \n2    [{'key': 'scientificNameAuthorship', 'value': ...   \n3    [{'key': 'scientificNameAuthorship', 'value': ...   \n4    [{'key': 'scientificNameAuthorship', 'value': ...   \n..                                                 ...   \n678  [{'key': 'scientificNameAuthorship', 'value': ...   \n679  [{'key': 'scientificNameAuthorship', 'value': ...   \n680  [{'key': 'scientificNameAuthorship', 'value': ...   \n681  [{'key': 'scientificNameAuthorship', 'value': ...   \n682  [{'key': 'scientificNameAuthorship', 'value': ...   \n\n                              scientificNameAuthorship  \\\n0                                               Mosely   \n1                                              Hickman   \n2                                           (Jamieson)   \n3                                               Harris   \n4                                               Hutton   \n..                                                 ...   \n678                           D.J.Galloway & P.M.Jørg.   \n679                                   (Müll.Arg.) Hale   \n680                                        (Ach.) Hale   \n681  (Elix & Kantvilas) O.Blanco, A.Crespo, Elix, D...   \n682                 (Kurok. & Filson) Elix & J.Johnst.   \n\n               vernacular name        family          class sourceStatus  \\\n0     Caddis Fly (Great Lakes)   Trichoptera  Invertebrates            x   \n1    Cascade Funnel-web Spider       Araneae  Invertebrates            x   \n2        Lake Pedder Earthworm   Haplotaxida  Invertebrates            x   \n3                    Thylacine       Mammals    Vertebrates            x   \n4        Macquarie Island Rail         Birds    Vertebrates            x   \n..                         ...           ...            ...          ...   \n678                        NaN  Pannariaceae         Lichen            e   \n679                        NaN  Parmeliaceae         Lichen            e   \n680                        NaN  Parmeliaceae         Lichen            e   \n681                        NaN  Parmeliaceae         Lichen            e   \n682                        NaN  Parmeliaceae         Lichen            e   \n\n               status sourceKingdom   kingdom  speciesGroup sourceOrigin  \\\n0    Presumed Extinct         Fauna  Animalia  invertebrate          end   \n1    Presumed Extinct         Fauna  Animalia  invertebrate          end   \n2    Presumed Extinct         Fauna  Animalia  invertebrate          end   \n3    Presumed Extinct         Fauna  Animalia    vertebrate          end   \n4    Presumed Extinct         Fauna  Animalia    vertebrate          eMI   \n..                ...           ...       ...           ...          ...   \n678        Endangered         Flora   Plantae  non-vascular          NaN   \n679        Endangered         Flora   Plantae  non-vascular          NaN   \n680        Endangered         Flora   Plantae  non-vascular          NaN   \n681        Endangered         Flora   Plantae  non-vascular          NaN   \n682        Endangered         Flora   Plantae  non-vascular          NaN   \n\n              higherGeography E P B C A_status tas_geoprivacy  \n0            endemic Tasmania              NaN           open  \n1            endemic Tasmania              NaN           open  \n2            endemic Tasmania               EX           open  \n3            endemic Tasmania               EX           open  \n4    endemic Macquarie Island               EX           open  \n..                        ...              ...            ...  \n678                       NaN              NaN           open  \n679                       NaN              NaN           open  \n680                       NaN              NaN           open  \n681                       NaN              NaN           open  \n682                       NaN              NaN           open  \n\n[683 rows x 20 columns]",
      "text/html": "<div>\n<style scoped>\n    .dataframe tbody tr th:only-of-type {\n        vertical-align: middle;\n    }\n\n    .dataframe tbody tr th {\n        vertical-align: top;\n    }\n\n    .dataframe thead th {\n        text-align: right;\n    }\n</style>\n<table border=\"1\" class=\"dataframe\">\n  <thead>\n    <tr style=\"text-align: right;\">\n      <th></th>\n      <th>id</th>\n      <th>name</th>\n      <th>commonName</th>\n      <th>scientificName</th>\n      <th>lsid</th>\n      <th>dataResourceUid</th>\n      <th>kvpValues</th>\n      <th>scientificNameAuthorship</th>\n      <th>vernacular name</th>\n      <th>family</th>\n      <th>class</th>\n      <th>sourceStatus</th>\n      <th>status</th>\n      <th>sourceKingdom</th>\n      <th>kingdom</th>\n      <th>speciesGroup</th>\n      <th>sourceOrigin</th>\n      <th>higherGeography</th>\n      <th>E P B C A_status</th>\n      <th>tas_geoprivacy</th>\n    </tr>\n  </thead>\n  <tbody>\n    <tr>\n      <th>0</th>\n      <td>4033150</td>\n      <td>Costora iena</td>\n      <td>Caddis Fly (great Lakes)</td>\n      <td>Costora iena</td>\n      <td>https://biodiversity.org.au/afd/taxa/7de808fb-...</td>\n      <td>dr654</td>\n      <td>[{'key': 'scientificNameAuthorship', 'value': ...</td>\n      <td>Mosely</td>\n      <td>Caddis Fly (Great Lakes)</td>\n      <td>Trichoptera</td>\n      <td>Invertebrates</td>\n      <td>x</td>\n      <td>Presumed Extinct</td>\n      <td>Fauna</td>\n      <td>Animalia</td>\n      <td>invertebrate</td>\n      <td>end</td>\n      <td>endemic Tasmania</td>\n      <td>NaN</td>\n      <td>open</td>\n    </tr>\n    <tr>\n      <th>1</th>\n      <td>4033128</td>\n      <td>Hadronyche pulvinator</td>\n      <td>Cascade Funnel-web Spider</td>\n      <td>Hadronyche pulvinator</td>\n      <td>https://biodiversity.org.au/afd/taxa/2acd0df1-...</td>\n      <td>dr654</td>\n      <td>[{'key': 'scientificNameAuthorship', 'value': ...</td>\n      <td>Hickman</td>\n      <td>Cascade Funnel-web Spider</td>\n      <td>Araneae</td>\n      <td>Invertebrates</td>\n      <td>x</td>\n      <td>Presumed Extinct</td>\n      <td>Fauna</td>\n      <td>Animalia</td>\n      <td>invertebrate</td>\n      <td>end</td>\n      <td>endemic Tasmania</td>\n      <td>NaN</td>\n      <td>open</td>\n    </tr>\n    <tr>\n      <th>2</th>\n      <td>4033378</td>\n      <td>Hypolimnus pedderensis</td>\n      <td>Lake Pedder Earthworm</td>\n      <td>Hypolimnus pedderensis</td>\n      <td>https://biodiversity.org.au/afd/taxa/7db09aa3-...</td>\n      <td>dr654</td>\n      <td>[{'key': 'scientificNameAuthorship', 'value': ...</td>\n      <td>(Jamieson)</td>\n      <td>Lake Pedder Earthworm</td>\n      <td>Haplotaxida</td>\n      <td>Invertebrates</td>\n      <td>x</td>\n      <td>Presumed Extinct</td>\n      <td>Fauna</td>\n      <td>Animalia</td>\n      <td>invertebrate</td>\n      <td>end</td>\n      <td>endemic Tasmania</td>\n      <td>EX</td>\n      <td>open</td>\n    </tr>\n    <tr>\n      <th>3</th>\n      <td>4033234</td>\n      <td>Thylacinus cynocephalus</td>\n      <td>Thylacine</td>\n      <td>Thylacinus cynocephalus</td>\n      <td>https://biodiversity.org.au/afd/taxa/97764bed-...</td>\n      <td>dr654</td>\n      <td>[{'key': 'scientificNameAuthorship', 'value': ...</td>\n      <td>Harris</td>\n      <td>Thylacine</td>\n      <td>Mammals</td>\n      <td>Vertebrates</td>\n      <td>x</td>\n      <td>Presumed Extinct</td>\n      <td>Fauna</td>\n      <td>Animalia</td>\n      <td>vertebrate</td>\n      <td>end</td>\n      <td>endemic Tasmania</td>\n      <td>EX</td>\n      <td>open</td>\n    </tr>\n    <tr>\n      <th>4</th>\n      <td>4033416</td>\n      <td>Gallirallus philippensis macquariensis</td>\n      <td>NaN</td>\n      <td>Gallirallus philippensis macquariensis</td>\n      <td>NZOR-6-101588</td>\n      <td>dr654</td>\n      <td>[{'key': 'scientificNameAuthorship', 'value': ...</td>\n      <td>Hutton</td>\n      <td>Macquarie Island Rail</td>\n      <td>Birds</td>\n      <td>Vertebrates</td>\n      <td>x</td>\n      <td>Presumed Extinct</td>\n      <td>Fauna</td>\n      <td>Animalia</td>\n      <td>vertebrate</td>\n      <td>eMI</td>\n      <td>endemic Macquarie Island</td>\n      <td>EX</td>\n      <td>open</td>\n    </tr>\n    <tr>\n      <th>...</th>\n      <td>...</td>\n      <td>...</td>\n      <td>...</td>\n      <td>...</td>\n      <td>...</td>\n      <td>...</td>\n      <td>...</td>\n      <td>...</td>\n      <td>...</td>\n      <td>...</td>\n      <td>...</td>\n      <td>...</td>\n      <td>...</td>\n      <td>...</td>\n      <td>...</td>\n      <td>...</td>\n      <td>...</td>\n      <td>...</td>\n      <td>...</td>\n      <td>...</td>\n    </tr>\n    <tr>\n      <th>678</th>\n      <td>4033369</td>\n      <td>Erioderma sorediatum</td>\n      <td>NaN</td>\n      <td>Erioderma sorediatum</td>\n      <td>ALA_DR654_679</td>\n      <td>dr654</td>\n      <td>[{'key': 'scientificNameAuthorship', 'value': ...</td>\n      <td>D.J.Galloway &amp; P.M.Jørg.</td>\n      <td>NaN</td>\n      <td>Pannariaceae</td>\n      <td>Lichen</td>\n      <td>e</td>\n      <td>Endangered</td>\n      <td>Flora</td>\n      <td>Plantae</td>\n      <td>non-vascular</td>\n      <td>NaN</td>\n      <td>NaN</td>\n      <td>NaN</td>\n      <td>open</td>\n    </tr>\n    <tr>\n      <th>679</th>\n      <td>4033419</td>\n      <td>Xanthoparmelia amphixantha</td>\n      <td>NaN</td>\n      <td>Xanthoparmelia amphixantha</td>\n      <td>ALA_DR654_680</td>\n      <td>dr654</td>\n      <td>[{'key': 'scientificNameAuthorship', 'value': ...</td>\n      <td>(Müll.Arg.) Hale</td>\n      <td>NaN</td>\n      <td>Parmeliaceae</td>\n      <td>Lichen</td>\n      <td>e</td>\n      <td>Endangered</td>\n      <td>Flora</td>\n      <td>Plantae</td>\n      <td>non-vascular</td>\n      <td>NaN</td>\n      <td>NaN</td>\n      <td>NaN</td>\n      <td>open</td>\n    </tr>\n    <tr>\n      <th>680</th>\n      <td>4033291</td>\n      <td>Xanthoparmelia molliuscula</td>\n      <td>NaN</td>\n      <td>Xanthoparmelia molliuscula</td>\n      <td>ALA_DR654_681</td>\n      <td>dr654</td>\n      <td>[{'key': 'scientificNameAuthorship', 'value': ...</td>\n      <td>(Ach.) Hale</td>\n      <td>NaN</td>\n      <td>Parmeliaceae</td>\n      <td>Lichen</td>\n      <td>e</td>\n      <td>Endangered</td>\n      <td>Flora</td>\n      <td>Plantae</td>\n      <td>non-vascular</td>\n      <td>NaN</td>\n      <td>NaN</td>\n      <td>NaN</td>\n      <td>open</td>\n    </tr>\n    <tr>\n      <th>681</th>\n      <td>4033236</td>\n      <td>Xanthoparmelia subloxodella</td>\n      <td>NaN</td>\n      <td>Xanthoparmelia subloxodella</td>\n      <td>ALA_DR654_682</td>\n      <td>dr654</td>\n      <td>[{'key': 'scientificNameAuthorship', 'value': ...</td>\n      <td>(Elix &amp; Kantvilas) O.Blanco, A.Crespo, Elix, D...</td>\n      <td>NaN</td>\n      <td>Parmeliaceae</td>\n      <td>Lichen</td>\n      <td>e</td>\n      <td>Endangered</td>\n      <td>Flora</td>\n      <td>Plantae</td>\n      <td>non-vascular</td>\n      <td>NaN</td>\n      <td>NaN</td>\n      <td>NaN</td>\n      <td>open</td>\n    </tr>\n    <tr>\n      <th>682</th>\n      <td>4033313</td>\n      <td>Xanthoparmelia willisii</td>\n      <td>NaN</td>\n      <td>Xanthoparmelia willisii</td>\n      <td>ALA_DR654_683</td>\n      <td>dr654</td>\n      <td>[{'key': 'scientificNameAuthorship', 'value': ...</td>\n      <td>(Kurok. &amp; Filson) Elix &amp; J.Johnst.</td>\n      <td>NaN</td>\n      <td>Parmeliaceae</td>\n      <td>Lichen</td>\n      <td>e</td>\n      <td>Endangered</td>\n      <td>Flora</td>\n      <td>Plantae</td>\n      <td>non-vascular</td>\n      <td>NaN</td>\n      <td>NaN</td>\n      <td>NaN</td>\n      <td>open</td>\n    </tr>\n  </tbody>\n</table>\n<p>683 rows × 20 columns</p>\n</div>"
     },
     "execution_count": 8,
     "metadata": {},
     "output_type": "execute_result"
    }
   ],
   "source": [
    "# Read conservation list data\n",
    "conservationlist = pd.read_csv(sourcedir + \"tas-ala-conservation.csv\", dtype=str)\n",
    "conservationlist['tas_geoprivacy'] = 'open'\n",
    "conservationlist['tas_geoprivacy'] = conservationlist['name'].apply(lambda x: 'private' if x == \"Lomatia tasmanica\" else 'open')\n",
    "conservationlist"
   ],
   "metadata": {
    "collapsed": false,
    "pycharm": {
     "name": "#%%\n"
    }
   }
  },
  {
   "cell_type": "code",
   "execution_count": 20,
   "outputs": [],
   "source": [
    "# join them in a way that works for inat (eg sensitive list, geoprivacy = 'obscured'\n",
    "statelist = pd.concat([sensitivelist[['name','tas_geoprivacy', 'status', 'lsid']],\n",
    "                    conservationlist[['name','tas_geoprivacy', 'status', 'lsid']]]).drop_duplicates()"
   ],
   "metadata": {
    "collapsed": false,
    "pycharm": {
     "name": "#%%\n"
    }
   }
  },
  {
   "cell_type": "code",
   "execution_count": 11,
   "outputs": [],
   "source": [
    "# retrieve binomial and trinomial names from GBIF\n",
    "parsednames = lf.gbifparse(statelist)\n",
    "parsednames.to_csv(sourcedir + \"tas-gbif.csv\", index=False)"
   ],
   "metadata": {
    "collapsed": false,
    "pycharm": {
     "name": "#%%\n"
    }
   }
  },
  {
   "cell_type": "code",
   "execution_count": 21,
   "outputs": [
    {
     "data": {
      "text/plain": "                            name tas_geoprivacy            status  \\\n0              Lomatia tasmanica        private        Endangered   \n1              Lomatia tasmanica        private        Endangered   \n2                  Costora iena            open  Presumed Extinct   \n3         Hadronyche pulvinator            open  Presumed Extinct   \n4        Hypolimnus pedderensis            open  Presumed Extinct   \n..                           ...            ...               ...   \n679         Erioderma sorediatum           open        Endangered   \n680   Xanthoparmelia amphixantha           open        Endangered   \n681   Xanthoparmelia molliuscula           open        Endangered   \n682  Xanthoparmelia subloxodella           open        Endangered   \n683      Xanthoparmelia willisii           open        Endangered   \n\n                                                  lsid  \\\n0     https://id.biodiversity.org.au/node/apni/2903191   \n1     https://id.biodiversity.org.au/node/apni/2903191   \n2    https://biodiversity.org.au/afd/taxa/7de808fb-...   \n3    https://biodiversity.org.au/afd/taxa/2acd0df1-...   \n4    https://biodiversity.org.au/afd/taxa/7db09aa3-...   \n..                                                 ...   \n679                                      ALA_DR654_679   \n680                                      ALA_DR654_680   \n681                                      ALA_DR654_681   \n682                                      ALA_DR654_682   \n683                                      ALA_DR654_683   \n\n                  scientificName                canonicalName  \\\n0              Lomatia tasmanica            Lomatia tasmanica   \n1              Lomatia tasmanica            Lomatia tasmanica   \n2                   Costora iena                 Costora iena   \n3          Hadronyche pulvinator        Hadronyche pulvinator   \n4         Hypolimnus pedderensis       Hypolimnus pedderensis   \n..                           ...                          ...   \n679         Erioderma sorediatum         Erioderma sorediatum   \n680   Xanthoparmelia amphixantha   Xanthoparmelia amphixantha   \n681   Xanthoparmelia molliuscula   Xanthoparmelia molliuscula   \n682  Xanthoparmelia subloxodella  Xanthoparmelia subloxodella   \n683      Xanthoparmelia willisii      Xanthoparmelia willisii   \n\n           canonicalNameComplete        type rankMarker  \n0              Lomatia tasmanica  SCIENTIFIC        sp.  \n1              Lomatia tasmanica  SCIENTIFIC        sp.  \n2                   Costora iena  SCIENTIFIC        sp.  \n3          Hadronyche pulvinator  SCIENTIFIC        sp.  \n4         Hypolimnus pedderensis  SCIENTIFIC        sp.  \n..                           ...         ...        ...  \n679         Erioderma sorediatum  SCIENTIFIC        sp.  \n680   Xanthoparmelia amphixantha  SCIENTIFIC        sp.  \n681   Xanthoparmelia molliuscula  SCIENTIFIC        sp.  \n682  Xanthoparmelia subloxodella  SCIENTIFIC        sp.  \n683      Xanthoparmelia willisii  SCIENTIFIC        sp.  \n\n[684 rows x 9 columns]",
      "text/html": "<div>\n<style scoped>\n    .dataframe tbody tr th:only-of-type {\n        vertical-align: middle;\n    }\n\n    .dataframe tbody tr th {\n        vertical-align: top;\n    }\n\n    .dataframe thead th {\n        text-align: right;\n    }\n</style>\n<table border=\"1\" class=\"dataframe\">\n  <thead>\n    <tr style=\"text-align: right;\">\n      <th></th>\n      <th>name</th>\n      <th>tas_geoprivacy</th>\n      <th>status</th>\n      <th>lsid</th>\n      <th>scientificName</th>\n      <th>canonicalName</th>\n      <th>canonicalNameComplete</th>\n      <th>type</th>\n      <th>rankMarker</th>\n    </tr>\n  </thead>\n  <tbody>\n    <tr>\n      <th>0</th>\n      <td>Lomatia tasmanica</td>\n      <td>private</td>\n      <td>Endangered</td>\n      <td>https://id.biodiversity.org.au/node/apni/2903191</td>\n      <td>Lomatia tasmanica</td>\n      <td>Lomatia tasmanica</td>\n      <td>Lomatia tasmanica</td>\n      <td>SCIENTIFIC</td>\n      <td>sp.</td>\n    </tr>\n    <tr>\n      <th>1</th>\n      <td>Lomatia tasmanica</td>\n      <td>private</td>\n      <td>Endangered</td>\n      <td>https://id.biodiversity.org.au/node/apni/2903191</td>\n      <td>Lomatia tasmanica</td>\n      <td>Lomatia tasmanica</td>\n      <td>Lomatia tasmanica</td>\n      <td>SCIENTIFIC</td>\n      <td>sp.</td>\n    </tr>\n    <tr>\n      <th>2</th>\n      <td>Costora iena</td>\n      <td>open</td>\n      <td>Presumed Extinct</td>\n      <td>https://biodiversity.org.au/afd/taxa/7de808fb-...</td>\n      <td>Costora iena</td>\n      <td>Costora iena</td>\n      <td>Costora iena</td>\n      <td>SCIENTIFIC</td>\n      <td>sp.</td>\n    </tr>\n    <tr>\n      <th>3</th>\n      <td>Hadronyche pulvinator</td>\n      <td>open</td>\n      <td>Presumed Extinct</td>\n      <td>https://biodiversity.org.au/afd/taxa/2acd0df1-...</td>\n      <td>Hadronyche pulvinator</td>\n      <td>Hadronyche pulvinator</td>\n      <td>Hadronyche pulvinator</td>\n      <td>SCIENTIFIC</td>\n      <td>sp.</td>\n    </tr>\n    <tr>\n      <th>4</th>\n      <td>Hypolimnus pedderensis</td>\n      <td>open</td>\n      <td>Presumed Extinct</td>\n      <td>https://biodiversity.org.au/afd/taxa/7db09aa3-...</td>\n      <td>Hypolimnus pedderensis</td>\n      <td>Hypolimnus pedderensis</td>\n      <td>Hypolimnus pedderensis</td>\n      <td>SCIENTIFIC</td>\n      <td>sp.</td>\n    </tr>\n    <tr>\n      <th>...</th>\n      <td>...</td>\n      <td>...</td>\n      <td>...</td>\n      <td>...</td>\n      <td>...</td>\n      <td>...</td>\n      <td>...</td>\n      <td>...</td>\n      <td>...</td>\n    </tr>\n    <tr>\n      <th>679</th>\n      <td>Erioderma sorediatum</td>\n      <td>open</td>\n      <td>Endangered</td>\n      <td>ALA_DR654_679</td>\n      <td>Erioderma sorediatum</td>\n      <td>Erioderma sorediatum</td>\n      <td>Erioderma sorediatum</td>\n      <td>SCIENTIFIC</td>\n      <td>sp.</td>\n    </tr>\n    <tr>\n      <th>680</th>\n      <td>Xanthoparmelia amphixantha</td>\n      <td>open</td>\n      <td>Endangered</td>\n      <td>ALA_DR654_680</td>\n      <td>Xanthoparmelia amphixantha</td>\n      <td>Xanthoparmelia amphixantha</td>\n      <td>Xanthoparmelia amphixantha</td>\n      <td>SCIENTIFIC</td>\n      <td>sp.</td>\n    </tr>\n    <tr>\n      <th>681</th>\n      <td>Xanthoparmelia molliuscula</td>\n      <td>open</td>\n      <td>Endangered</td>\n      <td>ALA_DR654_681</td>\n      <td>Xanthoparmelia molliuscula</td>\n      <td>Xanthoparmelia molliuscula</td>\n      <td>Xanthoparmelia molliuscula</td>\n      <td>SCIENTIFIC</td>\n      <td>sp.</td>\n    </tr>\n    <tr>\n      <th>682</th>\n      <td>Xanthoparmelia subloxodella</td>\n      <td>open</td>\n      <td>Endangered</td>\n      <td>ALA_DR654_682</td>\n      <td>Xanthoparmelia subloxodella</td>\n      <td>Xanthoparmelia subloxodella</td>\n      <td>Xanthoparmelia subloxodella</td>\n      <td>SCIENTIFIC</td>\n      <td>sp.</td>\n    </tr>\n    <tr>\n      <th>683</th>\n      <td>Xanthoparmelia willisii</td>\n      <td>open</td>\n      <td>Endangered</td>\n      <td>ALA_DR654_683</td>\n      <td>Xanthoparmelia willisii</td>\n      <td>Xanthoparmelia willisii</td>\n      <td>Xanthoparmelia willisii</td>\n      <td>SCIENTIFIC</td>\n      <td>sp.</td>\n    </tr>\n  </tbody>\n</table>\n<p>684 rows × 9 columns</p>\n</div>"
     },
     "execution_count": 21,
     "metadata": {},
     "output_type": "execute_result"
    }
   ],
   "source": [
    "parsednames = pd.read_csv(sourcedir + \"tas-gbif.csv\")\n",
    "statelist = statelist.merge(parsednames[['scientificName','canonicalName','canonicalNameComplete','type','rankMarker']],how=\"left\",left_on=\"name\",right_on=\"scientificName\")\n",
    "numfullstatelist = len(statelist.index)\n",
    "statelist['scientificName'] = statelist['canonicalName']\n",
    "statelist"
   ],
   "metadata": {
    "collapsed": false,
    "pycharm": {
     "name": "#%%\n"
    }
   }
  },
  {
   "cell_type": "code",
   "execution_count": 22,
   "outputs": [
    {
     "data": {
      "text/plain": "                              name tas_geoprivacy      status           lsid  \\\n79             Charopidae \"Skemps\"           open        Rare   ALA_DR654_78   \n83              Enchymus sp. nov.            open        Rare   ALA_DR654_82   \n324      Isoetes sp. Maxwell River           open        Rare  ALA_DR654_323   \n569      Euphrasia sp. Bivouac Bay           open  Endangered  ALA_DR654_568   \n587  Prasophyllum sp. Arthurs Lake           open  Endangered  ALA_DR654_587   \n647          Pimelea sp. Tunbridge           open  Endangered  ALA_DR654_647   \n649  Polyscias sp. Douglas-Denison           open  Endangered  ALA_DR654_649   \n\n                   scientificName                 canonicalName  \\\n79                 Charopidae cv.                Charopidae cv.   \n83                 Enchymus spec.                Enchymus spec.   \n324            Isoetes sp.Maxwell            Isoetes sp.Maxwell   \n569          Euphrasia sp.Bivouac          Euphrasia sp.Bivouac   \n587       Prasophyllum sp.Arthurs       Prasophyllum sp.Arthurs   \n647          Pimelea sp.Tunbridge          Pimelea sp.Tunbridge   \n649  Polyscias sp.Douglas-Denison  Polyscias sp.Douglas-Denison   \n\n            canonicalNameComplete      type rankMarker  \n79        Charopidae cv. 'Skemps'  CULTIVAR        cv.  \n83                 Enchymus spec.  INFORMAL        sp.  \n324            Isoetes sp.Maxwell  INFORMAL        sp.  \n569          Euphrasia sp.Bivouac  INFORMAL        sp.  \n587       Prasophyllum sp.Arthurs  INFORMAL        sp.  \n647          Pimelea sp.Tunbridge  INFORMAL        sp.  \n649  Polyscias sp.Douglas-Denison  INFORMAL        sp.  ",
      "text/html": "<div>\n<style scoped>\n    .dataframe tbody tr th:only-of-type {\n        vertical-align: middle;\n    }\n\n    .dataframe tbody tr th {\n        vertical-align: top;\n    }\n\n    .dataframe thead th {\n        text-align: right;\n    }\n</style>\n<table border=\"1\" class=\"dataframe\">\n  <thead>\n    <tr style=\"text-align: right;\">\n      <th></th>\n      <th>name</th>\n      <th>tas_geoprivacy</th>\n      <th>status</th>\n      <th>lsid</th>\n      <th>scientificName</th>\n      <th>canonicalName</th>\n      <th>canonicalNameComplete</th>\n      <th>type</th>\n      <th>rankMarker</th>\n    </tr>\n  </thead>\n  <tbody>\n    <tr>\n      <th>79</th>\n      <td>Charopidae \"Skemps\"</td>\n      <td>open</td>\n      <td>Rare</td>\n      <td>ALA_DR654_78</td>\n      <td>Charopidae cv.</td>\n      <td>Charopidae cv.</td>\n      <td>Charopidae cv. 'Skemps'</td>\n      <td>CULTIVAR</td>\n      <td>cv.</td>\n    </tr>\n    <tr>\n      <th>83</th>\n      <td>Enchymus sp. nov.</td>\n      <td>open</td>\n      <td>Rare</td>\n      <td>ALA_DR654_82</td>\n      <td>Enchymus spec.</td>\n      <td>Enchymus spec.</td>\n      <td>Enchymus spec.</td>\n      <td>INFORMAL</td>\n      <td>sp.</td>\n    </tr>\n    <tr>\n      <th>324</th>\n      <td>Isoetes sp. Maxwell River</td>\n      <td>open</td>\n      <td>Rare</td>\n      <td>ALA_DR654_323</td>\n      <td>Isoetes sp.Maxwell</td>\n      <td>Isoetes sp.Maxwell</td>\n      <td>Isoetes sp.Maxwell</td>\n      <td>INFORMAL</td>\n      <td>sp.</td>\n    </tr>\n    <tr>\n      <th>569</th>\n      <td>Euphrasia sp. Bivouac Bay</td>\n      <td>open</td>\n      <td>Endangered</td>\n      <td>ALA_DR654_568</td>\n      <td>Euphrasia sp.Bivouac</td>\n      <td>Euphrasia sp.Bivouac</td>\n      <td>Euphrasia sp.Bivouac</td>\n      <td>INFORMAL</td>\n      <td>sp.</td>\n    </tr>\n    <tr>\n      <th>587</th>\n      <td>Prasophyllum sp. Arthurs Lake</td>\n      <td>open</td>\n      <td>Endangered</td>\n      <td>ALA_DR654_587</td>\n      <td>Prasophyllum sp.Arthurs</td>\n      <td>Prasophyllum sp.Arthurs</td>\n      <td>Prasophyllum sp.Arthurs</td>\n      <td>INFORMAL</td>\n      <td>sp.</td>\n    </tr>\n    <tr>\n      <th>647</th>\n      <td>Pimelea sp. Tunbridge</td>\n      <td>open</td>\n      <td>Endangered</td>\n      <td>ALA_DR654_647</td>\n      <td>Pimelea sp.Tunbridge</td>\n      <td>Pimelea sp.Tunbridge</td>\n      <td>Pimelea sp.Tunbridge</td>\n      <td>INFORMAL</td>\n      <td>sp.</td>\n    </tr>\n    <tr>\n      <th>649</th>\n      <td>Polyscias sp. Douglas-Denison</td>\n      <td>open</td>\n      <td>Endangered</td>\n      <td>ALA_DR654_649</td>\n      <td>Polyscias sp.Douglas-Denison</td>\n      <td>Polyscias sp.Douglas-Denison</td>\n      <td>Polyscias sp.Douglas-Denison</td>\n      <td>INFORMAL</td>\n      <td>sp.</td>\n    </tr>\n  </tbody>\n</table>\n</div>"
     },
     "execution_count": 22,
     "metadata": {},
     "output_type": "execute_result"
    }
   ],
   "source": [
    "# Identify records that won't comply with iNaturalist species names\n",
    "noncomply = statelist[statelist['type'].isin(['INFORMAL','CULTIVAR','HYBRID']) ]\n",
    "noncomply"
   ],
   "metadata": {
    "collapsed": false,
    "pycharm": {
     "name": "#%%\n"
    }
   }
  },
  {
   "cell_type": "code",
   "execution_count": 23,
   "outputs": [
    {
     "data": {
      "text/plain": "                  scientificName            status tas_geoprivacy  \\\n0              Lomatia tasmanica        Endangered        private   \n2                   Costora iena  Presumed Extinct           open   \n3          Hadronyche pulvinator  Presumed Extinct           open   \n4         Hypolimnus pedderensis  Presumed Extinct           open   \n5        Thylacinus cynocephalus  Presumed Extinct           open   \n..                           ...               ...            ...   \n679         Erioderma sorediatum        Endangered           open   \n680   Xanthoparmelia amphixantha        Endangered           open   \n681   Xanthoparmelia molliuscula        Endangered           open   \n682  Xanthoparmelia subloxodella        Endangered           open   \n683      Xanthoparmelia willisii        Endangered           open   \n\n                                                  lsid  \n0     https://id.biodiversity.org.au/node/apni/2903191  \n2    https://biodiversity.org.au/afd/taxa/7de808fb-...  \n3    https://biodiversity.org.au/afd/taxa/2acd0df1-...  \n4    https://biodiversity.org.au/afd/taxa/7db09aa3-...  \n5    https://biodiversity.org.au/afd/taxa/97764bed-...  \n..                                                 ...  \n679                                      ALA_DR654_679  \n680                                      ALA_DR654_680  \n681                                      ALA_DR654_681  \n682                                      ALA_DR654_682  \n683                                      ALA_DR654_683  \n\n[676 rows x 4 columns]",
      "text/html": "<div>\n<style scoped>\n    .dataframe tbody tr th:only-of-type {\n        vertical-align: middle;\n    }\n\n    .dataframe tbody tr th {\n        vertical-align: top;\n    }\n\n    .dataframe thead th {\n        text-align: right;\n    }\n</style>\n<table border=\"1\" class=\"dataframe\">\n  <thead>\n    <tr style=\"text-align: right;\">\n      <th></th>\n      <th>scientificName</th>\n      <th>status</th>\n      <th>tas_geoprivacy</th>\n      <th>lsid</th>\n    </tr>\n  </thead>\n  <tbody>\n    <tr>\n      <th>0</th>\n      <td>Lomatia tasmanica</td>\n      <td>Endangered</td>\n      <td>private</td>\n      <td>https://id.biodiversity.org.au/node/apni/2903191</td>\n    </tr>\n    <tr>\n      <th>2</th>\n      <td>Costora iena</td>\n      <td>Presumed Extinct</td>\n      <td>open</td>\n      <td>https://biodiversity.org.au/afd/taxa/7de808fb-...</td>\n    </tr>\n    <tr>\n      <th>3</th>\n      <td>Hadronyche pulvinator</td>\n      <td>Presumed Extinct</td>\n      <td>open</td>\n      <td>https://biodiversity.org.au/afd/taxa/2acd0df1-...</td>\n    </tr>\n    <tr>\n      <th>4</th>\n      <td>Hypolimnus pedderensis</td>\n      <td>Presumed Extinct</td>\n      <td>open</td>\n      <td>https://biodiversity.org.au/afd/taxa/7db09aa3-...</td>\n    </tr>\n    <tr>\n      <th>5</th>\n      <td>Thylacinus cynocephalus</td>\n      <td>Presumed Extinct</td>\n      <td>open</td>\n      <td>https://biodiversity.org.au/afd/taxa/97764bed-...</td>\n    </tr>\n    <tr>\n      <th>...</th>\n      <td>...</td>\n      <td>...</td>\n      <td>...</td>\n      <td>...</td>\n    </tr>\n    <tr>\n      <th>679</th>\n      <td>Erioderma sorediatum</td>\n      <td>Endangered</td>\n      <td>open</td>\n      <td>ALA_DR654_679</td>\n    </tr>\n    <tr>\n      <th>680</th>\n      <td>Xanthoparmelia amphixantha</td>\n      <td>Endangered</td>\n      <td>open</td>\n      <td>ALA_DR654_680</td>\n    </tr>\n    <tr>\n      <th>681</th>\n      <td>Xanthoparmelia molliuscula</td>\n      <td>Endangered</td>\n      <td>open</td>\n      <td>ALA_DR654_681</td>\n    </tr>\n    <tr>\n      <th>682</th>\n      <td>Xanthoparmelia subloxodella</td>\n      <td>Endangered</td>\n      <td>open</td>\n      <td>ALA_DR654_682</td>\n    </tr>\n    <tr>\n      <th>683</th>\n      <td>Xanthoparmelia willisii</td>\n      <td>Endangered</td>\n      <td>open</td>\n      <td>ALA_DR654_683</td>\n    </tr>\n  </tbody>\n</table>\n<p>676 rows × 4 columns</p>\n</div>"
     },
     "execution_count": 23,
     "metadata": {},
     "output_type": "execute_result"
    }
   ],
   "source": [
    "# remove records that do not comply\n",
    "statelist = statelist[~statelist['type'].isin(['INFORMAL','CULTIVAR','HYBRID']) ]\n",
    "statelist = pd.DataFrame(statelist[['scientificName','status','tas_geoprivacy','lsid']]).drop_duplicates()\n",
    "statelist"
   ],
   "metadata": {
    "collapsed": false,
    "pycharm": {
     "name": "#%%\n"
    }
   }
  },
  {
   "cell_type": "code",
   "execution_count": 16,
   "outputs": [
    {
     "data": {
      "text/plain": "array(['SCIENTIFIC', 'CULTIVAR', 'INFORMAL'], dtype=object)"
     },
     "execution_count": 16,
     "metadata": {},
     "output_type": "execute_result"
    }
   ],
   "source": [
    "parsednames['type'].unique()"
   ],
   "metadata": {
    "collapsed": false,
    "pycharm": {
     "name": "#%%\n"
    }
   }
  },
  {
   "cell_type": "code",
   "execution_count": 24,
   "outputs": [
    {
     "data": {
      "text/plain": "                  scientificName            status tas_geoprivacy  \\\n0              Lomatia tasmanica        Endangered        private   \n2                   Costora iena  Presumed Extinct           open   \n3          Hadronyche pulvinator  Presumed Extinct           open   \n4         Hypolimnus pedderensis  Presumed Extinct           open   \n5        Thylacinus cynocephalus  Presumed Extinct           open   \n..                           ...               ...            ...   \n679         Erioderma sorediatum        Endangered           open   \n680   Xanthoparmelia amphixantha        Endangered           open   \n681   Xanthoparmelia molliuscula        Endangered           open   \n682  Xanthoparmelia subloxodella        Endangered           open   \n683      Xanthoparmelia willisii        Endangered           open   \n\n                                                  lsid  \n0     https://id.biodiversity.org.au/node/apni/2903191  \n2    https://biodiversity.org.au/afd/taxa/7de808fb-...  \n3    https://biodiversity.org.au/afd/taxa/2acd0df1-...  \n4    https://biodiversity.org.au/afd/taxa/7db09aa3-...  \n5    https://biodiversity.org.au/afd/taxa/97764bed-...  \n..                                                 ...  \n679                                      ALA_DR654_679  \n680                                      ALA_DR654_680  \n681                                      ALA_DR654_681  \n682                                      ALA_DR654_682  \n683                                      ALA_DR654_683  \n\n[676 rows x 4 columns]",
      "text/html": "<div>\n<style scoped>\n    .dataframe tbody tr th:only-of-type {\n        vertical-align: middle;\n    }\n\n    .dataframe tbody tr th {\n        vertical-align: top;\n    }\n\n    .dataframe thead th {\n        text-align: right;\n    }\n</style>\n<table border=\"1\" class=\"dataframe\">\n  <thead>\n    <tr style=\"text-align: right;\">\n      <th></th>\n      <th>scientificName</th>\n      <th>status</th>\n      <th>tas_geoprivacy</th>\n      <th>lsid</th>\n    </tr>\n  </thead>\n  <tbody>\n    <tr>\n      <th>0</th>\n      <td>Lomatia tasmanica</td>\n      <td>Endangered</td>\n      <td>private</td>\n      <td>https://id.biodiversity.org.au/node/apni/2903191</td>\n    </tr>\n    <tr>\n      <th>2</th>\n      <td>Costora iena</td>\n      <td>Presumed Extinct</td>\n      <td>open</td>\n      <td>https://biodiversity.org.au/afd/taxa/7de808fb-...</td>\n    </tr>\n    <tr>\n      <th>3</th>\n      <td>Hadronyche pulvinator</td>\n      <td>Presumed Extinct</td>\n      <td>open</td>\n      <td>https://biodiversity.org.au/afd/taxa/2acd0df1-...</td>\n    </tr>\n    <tr>\n      <th>4</th>\n      <td>Hypolimnus pedderensis</td>\n      <td>Presumed Extinct</td>\n      <td>open</td>\n      <td>https://biodiversity.org.au/afd/taxa/7db09aa3-...</td>\n    </tr>\n    <tr>\n      <th>5</th>\n      <td>Thylacinus cynocephalus</td>\n      <td>Presumed Extinct</td>\n      <td>open</td>\n      <td>https://biodiversity.org.au/afd/taxa/97764bed-...</td>\n    </tr>\n    <tr>\n      <th>...</th>\n      <td>...</td>\n      <td>...</td>\n      <td>...</td>\n      <td>...</td>\n    </tr>\n    <tr>\n      <th>679</th>\n      <td>Erioderma sorediatum</td>\n      <td>Endangered</td>\n      <td>open</td>\n      <td>ALA_DR654_679</td>\n    </tr>\n    <tr>\n      <th>680</th>\n      <td>Xanthoparmelia amphixantha</td>\n      <td>Endangered</td>\n      <td>open</td>\n      <td>ALA_DR654_680</td>\n    </tr>\n    <tr>\n      <th>681</th>\n      <td>Xanthoparmelia molliuscula</td>\n      <td>Endangered</td>\n      <td>open</td>\n      <td>ALA_DR654_681</td>\n    </tr>\n    <tr>\n      <th>682</th>\n      <td>Xanthoparmelia subloxodella</td>\n      <td>Endangered</td>\n      <td>open</td>\n      <td>ALA_DR654_682</td>\n    </tr>\n    <tr>\n      <th>683</th>\n      <td>Xanthoparmelia willisii</td>\n      <td>Endangered</td>\n      <td>open</td>\n      <td>ALA_DR654_683</td>\n    </tr>\n  </tbody>\n</table>\n<p>676 rows × 4 columns</p>\n</div>"
     },
     "execution_count": 24,
     "metadata": {},
     "output_type": "execute_result"
    }
   ],
   "source": [
    "## Testing to update duplicates\n",
    "statelist"
   ],
   "metadata": {
    "collapsed": false,
    "pycharm": {
     "name": "#%%\n"
    }
   }
  },
  {
   "cell_type": "code",
   "execution_count": 25,
   "outputs": [
    {
     "data": {
      "text/plain": "Empty DataFrame\nColumns: [scientificName, status, tas_geoprivacy, lsid]\nIndex: []",
      "text/html": "<div>\n<style scoped>\n    .dataframe tbody tr th:only-of-type {\n        vertical-align: middle;\n    }\n\n    .dataframe tbody tr th {\n        vertical-align: top;\n    }\n\n    .dataframe thead th {\n        text-align: right;\n    }\n</style>\n<table border=\"1\" class=\"dataframe\">\n  <thead>\n    <tr style=\"text-align: right;\">\n      <th></th>\n      <th>scientificName</th>\n      <th>status</th>\n      <th>tas_geoprivacy</th>\n      <th>lsid</th>\n    </tr>\n  </thead>\n  <tbody>\n  </tbody>\n</table>\n</div>"
     },
     "execution_count": 25,
     "metadata": {},
     "output_type": "execute_result"
    }
   ],
   "source": [
    "# check for duplicates with conflicting information\n",
    "dupinformation = statelist.groupby('scientificName').filter(lambda x: len(x) > 1)#.sort('size',ascending=False)\n",
    "dupinformation"
   ],
   "metadata": {
    "collapsed": false,
    "pycharm": {
     "name": "#%%\n"
    }
   }
  },
  {
   "cell_type": "markdown",
   "source": [
    "### 4. Equivalent IUCN statuses"
   ],
   "metadata": {
    "collapsed": false,
    "pycharm": {
     "name": "#%% md\n"
    }
   }
  },
  {
   "cell_type": "code",
   "execution_count": 26,
   "outputs": [
    {
     "data": {
      "text/plain": "status\nEndangered          218\nPresumed Extinct     28\nRare                308\nVulnerable          122\nName: status, dtype: int64"
     },
     "execution_count": 26,
     "metadata": {},
     "output_type": "execute_result"
    }
   ],
   "source": [
    "# iucn_statuses = {'Not Evaluated', 'Data Deficient', 'Least Concern', 'Near Threatened', 'Vulnerable', 'Endangered', 'Critically Endangered', 'Extinct in the Wild', 'Extinct'}\n",
    "statelist.groupby(['status'])['status'].count()"
   ],
   "metadata": {
    "collapsed": false,
    "pycharm": {
     "name": "#%%\n"
    }
   }
  },
  {
   "cell_type": "code",
   "execution_count": 27,
   "outputs": [],
   "source": [
    "iucnStatusMappings = {\n",
    "    'presumed extinct':'Extinct',\n",
    "    'rare':'Vulnerable',\n",
    "    'sensitive':'Vulnerable',\n",
    "    'endangered': 'Endangered',\n",
    "    'vulnerable': 'Vulnerable'\n",
    "}"
   ],
   "metadata": {
    "collapsed": false,
    "pycharm": {
     "name": "#%%\n"
    }
   }
  },
  {
   "cell_type": "markdown",
   "source": [
    "### 5. Determine best place ID to use"
   ],
   "metadata": {
    "collapsed": false,
    "pycharm": {
     "name": "#%% md\n"
    }
   }
  },
  {
   "cell_type": "code",
   "execution_count": 28,
   "outputs": [
    {
     "data": {
      "text/plain": "place_id  place_name          place_display_name    \n6744      Australia           Australia                  2\n6829      Tasmania            Tasmania, AU              77\n9994      Northern Territory  Northern Territory, AU     6\nName: place_id, dtype: int64"
     },
     "execution_count": 28,
     "metadata": {},
     "output_type": "execute_result"
    }
   ],
   "source": [
    "inatstatuses.groupby(['place_id','place_name','place_display_name'])['place_id'].count()\n",
    "# looks like 6829"
   ],
   "metadata": {
    "collapsed": false,
    "pycharm": {
     "name": "#%%\n"
    }
   }
  },
  {
   "cell_type": "markdown",
   "source": [
    "## Merge iNaturalist statuses with State sensitive list on scientificName\n",
    "\n",
    "1. Match - updates, even if the statuses are the same we'll update the links and values anyway\n",
    "2. No match - statuses to be added (additions)\n",
    "   1.1 No match and no taxnomy - search for synonyms\n",
    "   1.2 No match\n",
    "3. Merge the other direction to see if there are deletes?\n"
   ],
   "metadata": {
    "collapsed": false,
    "pycharm": {
     "name": "#%% md\n"
    }
   }
  },
  {
   "cell_type": "code",
   "execution_count": 40,
   "outputs": [
    {
     "data": {
      "text/plain": "                 scientificName      status tas_geoprivacy  \\\n214            Acacia axillaris  Vulnerable           open   \n298           Acacia pataczekii        Rare           open   \n352         Acacia siculiformis        Rare           open   \n353           Acacia ulicifolia        Rare           open   \n354            Acacia uncifolia        Rare           open   \n..                          ...         ...            ...   \n285        Xerochrysum palustre  Vulnerable           open   \n171            Zearaja maugeana  Endangered           open   \n519           Zieria littoralis        Rare           open   \n670  Zieria veronicea veronicea  Endangered           open   \n520    Zygophyllum billardierei        Rare           open   \n\n                                                  lsid status_id taxon_id  \\\n214   https://id.biodiversity.org.au/node/apni/2911902    160726   775192   \n298   https://id.biodiversity.org.au/node/apni/2913609       NaN      NaN   \n352   https://id.biodiversity.org.au/node/apni/2888960       NaN      NaN   \n353   https://id.biodiversity.org.au/node/apni/2907350       NaN      NaN   \n354   https://id.biodiversity.org.au/node/apni/2916270       NaN      NaN   \n..                                                 ...       ...      ...   \n285   https://id.biodiversity.org.au/node/apni/2890165       NaN      NaN   \n171  https://biodiversity.org.au/afd/taxa/0d9d194f-...       NaN      NaN   \n519   https://id.biodiversity.org.au/node/apni/2888662       NaN      NaN   \n670   https://id.biodiversity.org.au/node/apni/2911634    161108   323791   \n520  https://id.biodiversity.org.au/taxon/apni/5131...       NaN      NaN   \n\n    user_id description iucn  \\\n214  717122               30   \n298     NaN         NaN  NaN   \n352     NaN         NaN  NaN   \n353     NaN         NaN  NaN   \n354     NaN         NaN  NaN   \n..      ...         ...  ...   \n285     NaN         NaN  NaN   \n171     NaN         NaN  NaN   \n519     NaN         NaN  NaN   \n670  717122               40   \n520     NaN         NaN  NaN   \n\n                                             authority status_inat geoprivacy  \\\n214  Environment Protection and Biodiversity Conser...          VU   obscured   \n298                                                NaN         NaN        NaN   \n352                                                NaN         NaN        NaN   \n353                                                NaN         NaN        NaN   \n354                                                NaN         NaN        NaN   \n..                                                 ...         ...        ...   \n285                                                NaN         NaN        NaN   \n171                                                NaN         NaN        NaN   \n519                                                NaN         NaN        NaN   \n670             Threatened Species Protection Act 1995  Endangered   obscured   \n520                                                NaN         NaN        NaN   \n\n    place_id place_display_name  \n214     6744          Australia  \n298      NaN                NaN  \n352      NaN                NaN  \n353      NaN                NaN  \n354      NaN                NaN  \n..       ...                ...  \n285      NaN                NaN  \n171      NaN                NaN  \n519      NaN                NaN  \n670     6829       Tasmania, AU  \n520      NaN                NaN  \n\n[676 rows x 14 columns]",
      "text/html": "<div>\n<style scoped>\n    .dataframe tbody tr th:only-of-type {\n        vertical-align: middle;\n    }\n\n    .dataframe tbody tr th {\n        vertical-align: top;\n    }\n\n    .dataframe thead th {\n        text-align: right;\n    }\n</style>\n<table border=\"1\" class=\"dataframe\">\n  <thead>\n    <tr style=\"text-align: right;\">\n      <th></th>\n      <th>scientificName</th>\n      <th>status</th>\n      <th>tas_geoprivacy</th>\n      <th>lsid</th>\n      <th>status_id</th>\n      <th>taxon_id</th>\n      <th>user_id</th>\n      <th>description</th>\n      <th>iucn</th>\n      <th>authority</th>\n      <th>status_inat</th>\n      <th>geoprivacy</th>\n      <th>place_id</th>\n      <th>place_display_name</th>\n    </tr>\n  </thead>\n  <tbody>\n    <tr>\n      <th>214</th>\n      <td>Acacia axillaris</td>\n      <td>Vulnerable</td>\n      <td>open</td>\n      <td>https://id.biodiversity.org.au/node/apni/2911902</td>\n      <td>160726</td>\n      <td>775192</td>\n      <td>717122</td>\n      <td></td>\n      <td>30</td>\n      <td>Environment Protection and Biodiversity Conser...</td>\n      <td>VU</td>\n      <td>obscured</td>\n      <td>6744</td>\n      <td>Australia</td>\n    </tr>\n    <tr>\n      <th>298</th>\n      <td>Acacia pataczekii</td>\n      <td>Rare</td>\n      <td>open</td>\n      <td>https://id.biodiversity.org.au/node/apni/2913609</td>\n      <td>NaN</td>\n      <td>NaN</td>\n      <td>NaN</td>\n      <td>NaN</td>\n      <td>NaN</td>\n      <td>NaN</td>\n      <td>NaN</td>\n      <td>NaN</td>\n      <td>NaN</td>\n      <td>NaN</td>\n    </tr>\n    <tr>\n      <th>352</th>\n      <td>Acacia siculiformis</td>\n      <td>Rare</td>\n      <td>open</td>\n      <td>https://id.biodiversity.org.au/node/apni/2888960</td>\n      <td>NaN</td>\n      <td>NaN</td>\n      <td>NaN</td>\n      <td>NaN</td>\n      <td>NaN</td>\n      <td>NaN</td>\n      <td>NaN</td>\n      <td>NaN</td>\n      <td>NaN</td>\n      <td>NaN</td>\n    </tr>\n    <tr>\n      <th>353</th>\n      <td>Acacia ulicifolia</td>\n      <td>Rare</td>\n      <td>open</td>\n      <td>https://id.biodiversity.org.au/node/apni/2907350</td>\n      <td>NaN</td>\n      <td>NaN</td>\n      <td>NaN</td>\n      <td>NaN</td>\n      <td>NaN</td>\n      <td>NaN</td>\n      <td>NaN</td>\n      <td>NaN</td>\n      <td>NaN</td>\n      <td>NaN</td>\n    </tr>\n    <tr>\n      <th>354</th>\n      <td>Acacia uncifolia</td>\n      <td>Rare</td>\n      <td>open</td>\n      <td>https://id.biodiversity.org.au/node/apni/2916270</td>\n      <td>NaN</td>\n      <td>NaN</td>\n      <td>NaN</td>\n      <td>NaN</td>\n      <td>NaN</td>\n      <td>NaN</td>\n      <td>NaN</td>\n      <td>NaN</td>\n      <td>NaN</td>\n      <td>NaN</td>\n    </tr>\n    <tr>\n      <th>...</th>\n      <td>...</td>\n      <td>...</td>\n      <td>...</td>\n      <td>...</td>\n      <td>...</td>\n      <td>...</td>\n      <td>...</td>\n      <td>...</td>\n      <td>...</td>\n      <td>...</td>\n      <td>...</td>\n      <td>...</td>\n      <td>...</td>\n      <td>...</td>\n    </tr>\n    <tr>\n      <th>285</th>\n      <td>Xerochrysum palustre</td>\n      <td>Vulnerable</td>\n      <td>open</td>\n      <td>https://id.biodiversity.org.au/node/apni/2890165</td>\n      <td>NaN</td>\n      <td>NaN</td>\n      <td>NaN</td>\n      <td>NaN</td>\n      <td>NaN</td>\n      <td>NaN</td>\n      <td>NaN</td>\n      <td>NaN</td>\n      <td>NaN</td>\n      <td>NaN</td>\n    </tr>\n    <tr>\n      <th>171</th>\n      <td>Zearaja maugeana</td>\n      <td>Endangered</td>\n      <td>open</td>\n      <td>https://biodiversity.org.au/afd/taxa/0d9d194f-...</td>\n      <td>NaN</td>\n      <td>NaN</td>\n      <td>NaN</td>\n      <td>NaN</td>\n      <td>NaN</td>\n      <td>NaN</td>\n      <td>NaN</td>\n      <td>NaN</td>\n      <td>NaN</td>\n      <td>NaN</td>\n    </tr>\n    <tr>\n      <th>519</th>\n      <td>Zieria littoralis</td>\n      <td>Rare</td>\n      <td>open</td>\n      <td>https://id.biodiversity.org.au/node/apni/2888662</td>\n      <td>NaN</td>\n      <td>NaN</td>\n      <td>NaN</td>\n      <td>NaN</td>\n      <td>NaN</td>\n      <td>NaN</td>\n      <td>NaN</td>\n      <td>NaN</td>\n      <td>NaN</td>\n      <td>NaN</td>\n    </tr>\n    <tr>\n      <th>670</th>\n      <td>Zieria veronicea veronicea</td>\n      <td>Endangered</td>\n      <td>open</td>\n      <td>https://id.biodiversity.org.au/node/apni/2911634</td>\n      <td>161108</td>\n      <td>323791</td>\n      <td>717122</td>\n      <td></td>\n      <td>40</td>\n      <td>Threatened Species Protection Act 1995</td>\n      <td>Endangered</td>\n      <td>obscured</td>\n      <td>6829</td>\n      <td>Tasmania, AU</td>\n    </tr>\n    <tr>\n      <th>520</th>\n      <td>Zygophyllum billardierei</td>\n      <td>Rare</td>\n      <td>open</td>\n      <td>https://id.biodiversity.org.au/taxon/apni/5131...</td>\n      <td>NaN</td>\n      <td>NaN</td>\n      <td>NaN</td>\n      <td>NaN</td>\n      <td>NaN</td>\n      <td>NaN</td>\n      <td>NaN</td>\n      <td>NaN</td>\n      <td>NaN</td>\n      <td>NaN</td>\n    </tr>\n  </tbody>\n</table>\n<p>676 rows × 14 columns</p>\n</div>"
     },
     "execution_count": 40,
     "metadata": {},
     "output_type": "execute_result"
    }
   ],
   "source": [
    "# join to see which lists already have a status in inaturalist based on scientificName\n",
    "mergedstatuses = statelist[['scientificName', 'status','tas_geoprivacy', 'lsid']].merge(inatstatuses[['status_id','scientificName','taxon_id','user_id','description','iucn','authority','status','geoprivacy','place_id','place_display_name']],how=\"left\",left_on='scientificName',right_on='scientificName',suffixes=(None,'_inat')).sort_values(['scientificName'])\n",
    "mergedstatuses\n"
   ],
   "metadata": {
    "collapsed": false,
    "pycharm": {
     "name": "#%%\n"
    }
   }
  },
  {
   "cell_type": "code",
   "execution_count": 41,
   "outputs": [
    {
     "data": {
      "text/plain": "                 scientificName      status tas_geoprivacy  \\\n214            Acacia axillaris  Vulnerable           open   \n298           Acacia pataczekii        Rare           open   \n352         Acacia siculiformis        Rare           open   \n353           Acacia ulicifolia        Rare           open   \n354            Acacia uncifolia        Rare           open   \n..                          ...         ...            ...   \n285        Xerochrysum palustre  Vulnerable           open   \n171            Zearaja maugeana  Endangered           open   \n519           Zieria littoralis        Rare           open   \n670  Zieria veronicea veronicea  Endangered           open   \n520    Zygophyllum billardierei        Rare           open   \n\n                                                  lsid status_id taxon_id  \\\n214   https://id.biodiversity.org.au/node/apni/2911902    160726   775192   \n298   https://id.biodiversity.org.au/node/apni/2913609       NaN      NaN   \n352   https://id.biodiversity.org.au/node/apni/2888960       NaN      NaN   \n353   https://id.biodiversity.org.au/node/apni/2907350       NaN      NaN   \n354   https://id.biodiversity.org.au/node/apni/2916270       NaN      NaN   \n..                                                 ...       ...      ...   \n285   https://id.biodiversity.org.au/node/apni/2890165       NaN      NaN   \n171  https://biodiversity.org.au/afd/taxa/0d9d194f-...       NaN      NaN   \n519   https://id.biodiversity.org.au/node/apni/2888662       NaN      NaN   \n670   https://id.biodiversity.org.au/node/apni/2911634    161108   323791   \n520  https://id.biodiversity.org.au/taxon/apni/5131...       NaN      NaN   \n\n    user_id description iucn  \\\n214  717122               30   \n298     NaN         NaN  NaN   \n352     NaN         NaN  NaN   \n353     NaN         NaN  NaN   \n354     NaN         NaN  NaN   \n..      ...         ...  ...   \n285     NaN         NaN  NaN   \n171     NaN         NaN  NaN   \n519     NaN         NaN  NaN   \n670  717122               40   \n520     NaN         NaN  NaN   \n\n                                             authority  ... place_id  \\\n214  Environment Protection and Biodiversity Conser...  ...     6744   \n298                                                NaN  ...      NaN   \n352                                                NaN  ...      NaN   \n353                                                NaN  ...      NaN   \n354                                                NaN  ...      NaN   \n..                                                 ...  ...      ...   \n285                                                NaN  ...      NaN   \n171                                                NaN  ...      NaN   \n519                                                NaN  ...      NaN   \n670             Threatened Species Protection Act 1995  ...     6829   \n520                                                NaN  ...      NaN   \n\n    place_display_name                           new_authority  \\\n214          Australia  Threatened Species Protection Act 1995   \n298                NaN  Threatened Species Protection Act 1995   \n352                NaN  Threatened Species Protection Act 1995   \n353                NaN  Threatened Species Protection Act 1995   \n354                NaN  Threatened Species Protection Act 1995   \n..                 ...                                     ...   \n285                NaN  Threatened Species Protection Act 1995   \n171                NaN  Threatened Species Protection Act 1995   \n519                NaN  Threatened Species Protection Act 1995   \n670       Tasmania, AU  Threatened Species Protection Act 1995   \n520                NaN  Threatened Species Protection Act 1995   \n\n                                       new_description  \\\n214  Listed as Threatened - refer to https://www.th...   \n298  Listed as Threatened - refer to https://www.th...   \n352  Listed as Threatened - refer to https://www.th...   \n353  Listed as Threatened - refer to https://www.th...   \n354  Listed as Threatened - refer to https://www.th...   \n..                                                 ...   \n285  Listed as Threatened - refer to https://www.th...   \n171  Listed as Threatened - refer to https://www.th...   \n519  Listed as Threatened - refer to https://www.th...   \n670  Listed as Threatened - refer to https://www.th...   \n520  Listed as Threatened - refer to https://www.th...   \n\n                                               new_url new_geoprivacy  \\\n214  https://bie.ala.org.au/species/https://id.biod...       obscured   \n298  https://bie.ala.org.au/species/https://id.biod...       obscured   \n352  https://bie.ala.org.au/species/https://id.biod...       obscured   \n353  https://bie.ala.org.au/species/https://id.biod...       obscured   \n354  https://bie.ala.org.au/species/https://id.biod...       obscured   \n..                                                 ...            ...   \n285  https://bie.ala.org.au/species/https://id.biod...       obscured   \n171  https://bie.ala.org.au/species/https://biodive...       obscured   \n519  https://bie.ala.org.au/species/https://id.biod...       obscured   \n670  https://bie.ala.org.au/species/https://id.biod...       obscured   \n520  https://bie.ala.org.au/species/https://id.biod...       obscured   \n\n    new_place_id new_username new_iucn_equivalent  new_status  \n214         6829    peggydnew          Vulnerable  Vulnerable  \n298         6829    peggydnew          Vulnerable        Rare  \n352         6829    peggydnew          Vulnerable        Rare  \n353         6829    peggydnew          Vulnerable        Rare  \n354         6829    peggydnew          Vulnerable        Rare  \n..           ...          ...                 ...         ...  \n285         6829    peggydnew          Vulnerable  Vulnerable  \n171         6829    peggydnew          Endangered  Endangered  \n519         6829    peggydnew          Vulnerable        Rare  \n670         6829    peggydnew          Endangered  Endangered  \n520         6829    peggydnew          Vulnerable        Rare  \n\n[676 rows x 22 columns]",
      "text/html": "<div>\n<style scoped>\n    .dataframe tbody tr th:only-of-type {\n        vertical-align: middle;\n    }\n\n    .dataframe tbody tr th {\n        vertical-align: top;\n    }\n\n    .dataframe thead th {\n        text-align: right;\n    }\n</style>\n<table border=\"1\" class=\"dataframe\">\n  <thead>\n    <tr style=\"text-align: right;\">\n      <th></th>\n      <th>scientificName</th>\n      <th>status</th>\n      <th>tas_geoprivacy</th>\n      <th>lsid</th>\n      <th>status_id</th>\n      <th>taxon_id</th>\n      <th>user_id</th>\n      <th>description</th>\n      <th>iucn</th>\n      <th>authority</th>\n      <th>...</th>\n      <th>place_id</th>\n      <th>place_display_name</th>\n      <th>new_authority</th>\n      <th>new_description</th>\n      <th>new_url</th>\n      <th>new_geoprivacy</th>\n      <th>new_place_id</th>\n      <th>new_username</th>\n      <th>new_iucn_equivalent</th>\n      <th>new_status</th>\n    </tr>\n  </thead>\n  <tbody>\n    <tr>\n      <th>214</th>\n      <td>Acacia axillaris</td>\n      <td>Vulnerable</td>\n      <td>open</td>\n      <td>https://id.biodiversity.org.au/node/apni/2911902</td>\n      <td>160726</td>\n      <td>775192</td>\n      <td>717122</td>\n      <td></td>\n      <td>30</td>\n      <td>Environment Protection and Biodiversity Conser...</td>\n      <td>...</td>\n      <td>6744</td>\n      <td>Australia</td>\n      <td>Threatened Species Protection Act 1995</td>\n      <td>Listed as Threatened - refer to https://www.th...</td>\n      <td>https://bie.ala.org.au/species/https://id.biod...</td>\n      <td>obscured</td>\n      <td>6829</td>\n      <td>peggydnew</td>\n      <td>Vulnerable</td>\n      <td>Vulnerable</td>\n    </tr>\n    <tr>\n      <th>298</th>\n      <td>Acacia pataczekii</td>\n      <td>Rare</td>\n      <td>open</td>\n      <td>https://id.biodiversity.org.au/node/apni/2913609</td>\n      <td>NaN</td>\n      <td>NaN</td>\n      <td>NaN</td>\n      <td>NaN</td>\n      <td>NaN</td>\n      <td>NaN</td>\n      <td>...</td>\n      <td>NaN</td>\n      <td>NaN</td>\n      <td>Threatened Species Protection Act 1995</td>\n      <td>Listed as Threatened - refer to https://www.th...</td>\n      <td>https://bie.ala.org.au/species/https://id.biod...</td>\n      <td>obscured</td>\n      <td>6829</td>\n      <td>peggydnew</td>\n      <td>Vulnerable</td>\n      <td>Rare</td>\n    </tr>\n    <tr>\n      <th>352</th>\n      <td>Acacia siculiformis</td>\n      <td>Rare</td>\n      <td>open</td>\n      <td>https://id.biodiversity.org.au/node/apni/2888960</td>\n      <td>NaN</td>\n      <td>NaN</td>\n      <td>NaN</td>\n      <td>NaN</td>\n      <td>NaN</td>\n      <td>NaN</td>\n      <td>...</td>\n      <td>NaN</td>\n      <td>NaN</td>\n      <td>Threatened Species Protection Act 1995</td>\n      <td>Listed as Threatened - refer to https://www.th...</td>\n      <td>https://bie.ala.org.au/species/https://id.biod...</td>\n      <td>obscured</td>\n      <td>6829</td>\n      <td>peggydnew</td>\n      <td>Vulnerable</td>\n      <td>Rare</td>\n    </tr>\n    <tr>\n      <th>353</th>\n      <td>Acacia ulicifolia</td>\n      <td>Rare</td>\n      <td>open</td>\n      <td>https://id.biodiversity.org.au/node/apni/2907350</td>\n      <td>NaN</td>\n      <td>NaN</td>\n      <td>NaN</td>\n      <td>NaN</td>\n      <td>NaN</td>\n      <td>NaN</td>\n      <td>...</td>\n      <td>NaN</td>\n      <td>NaN</td>\n      <td>Threatened Species Protection Act 1995</td>\n      <td>Listed as Threatened - refer to https://www.th...</td>\n      <td>https://bie.ala.org.au/species/https://id.biod...</td>\n      <td>obscured</td>\n      <td>6829</td>\n      <td>peggydnew</td>\n      <td>Vulnerable</td>\n      <td>Rare</td>\n    </tr>\n    <tr>\n      <th>354</th>\n      <td>Acacia uncifolia</td>\n      <td>Rare</td>\n      <td>open</td>\n      <td>https://id.biodiversity.org.au/node/apni/2916270</td>\n      <td>NaN</td>\n      <td>NaN</td>\n      <td>NaN</td>\n      <td>NaN</td>\n      <td>NaN</td>\n      <td>NaN</td>\n      <td>...</td>\n      <td>NaN</td>\n      <td>NaN</td>\n      <td>Threatened Species Protection Act 1995</td>\n      <td>Listed as Threatened - refer to https://www.th...</td>\n      <td>https://bie.ala.org.au/species/https://id.biod...</td>\n      <td>obscured</td>\n      <td>6829</td>\n      <td>peggydnew</td>\n      <td>Vulnerable</td>\n      <td>Rare</td>\n    </tr>\n    <tr>\n      <th>...</th>\n      <td>...</td>\n      <td>...</td>\n      <td>...</td>\n      <td>...</td>\n      <td>...</td>\n      <td>...</td>\n      <td>...</td>\n      <td>...</td>\n      <td>...</td>\n      <td>...</td>\n      <td>...</td>\n      <td>...</td>\n      <td>...</td>\n      <td>...</td>\n      <td>...</td>\n      <td>...</td>\n      <td>...</td>\n      <td>...</td>\n      <td>...</td>\n      <td>...</td>\n      <td>...</td>\n    </tr>\n    <tr>\n      <th>285</th>\n      <td>Xerochrysum palustre</td>\n      <td>Vulnerable</td>\n      <td>open</td>\n      <td>https://id.biodiversity.org.au/node/apni/2890165</td>\n      <td>NaN</td>\n      <td>NaN</td>\n      <td>NaN</td>\n      <td>NaN</td>\n      <td>NaN</td>\n      <td>NaN</td>\n      <td>...</td>\n      <td>NaN</td>\n      <td>NaN</td>\n      <td>Threatened Species Protection Act 1995</td>\n      <td>Listed as Threatened - refer to https://www.th...</td>\n      <td>https://bie.ala.org.au/species/https://id.biod...</td>\n      <td>obscured</td>\n      <td>6829</td>\n      <td>peggydnew</td>\n      <td>Vulnerable</td>\n      <td>Vulnerable</td>\n    </tr>\n    <tr>\n      <th>171</th>\n      <td>Zearaja maugeana</td>\n      <td>Endangered</td>\n      <td>open</td>\n      <td>https://biodiversity.org.au/afd/taxa/0d9d194f-...</td>\n      <td>NaN</td>\n      <td>NaN</td>\n      <td>NaN</td>\n      <td>NaN</td>\n      <td>NaN</td>\n      <td>NaN</td>\n      <td>...</td>\n      <td>NaN</td>\n      <td>NaN</td>\n      <td>Threatened Species Protection Act 1995</td>\n      <td>Listed as Threatened - refer to https://www.th...</td>\n      <td>https://bie.ala.org.au/species/https://biodive...</td>\n      <td>obscured</td>\n      <td>6829</td>\n      <td>peggydnew</td>\n      <td>Endangered</td>\n      <td>Endangered</td>\n    </tr>\n    <tr>\n      <th>519</th>\n      <td>Zieria littoralis</td>\n      <td>Rare</td>\n      <td>open</td>\n      <td>https://id.biodiversity.org.au/node/apni/2888662</td>\n      <td>NaN</td>\n      <td>NaN</td>\n      <td>NaN</td>\n      <td>NaN</td>\n      <td>NaN</td>\n      <td>NaN</td>\n      <td>...</td>\n      <td>NaN</td>\n      <td>NaN</td>\n      <td>Threatened Species Protection Act 1995</td>\n      <td>Listed as Threatened - refer to https://www.th...</td>\n      <td>https://bie.ala.org.au/species/https://id.biod...</td>\n      <td>obscured</td>\n      <td>6829</td>\n      <td>peggydnew</td>\n      <td>Vulnerable</td>\n      <td>Rare</td>\n    </tr>\n    <tr>\n      <th>670</th>\n      <td>Zieria veronicea veronicea</td>\n      <td>Endangered</td>\n      <td>open</td>\n      <td>https://id.biodiversity.org.au/node/apni/2911634</td>\n      <td>161108</td>\n      <td>323791</td>\n      <td>717122</td>\n      <td></td>\n      <td>40</td>\n      <td>Threatened Species Protection Act 1995</td>\n      <td>...</td>\n      <td>6829</td>\n      <td>Tasmania, AU</td>\n      <td>Threatened Species Protection Act 1995</td>\n      <td>Listed as Threatened - refer to https://www.th...</td>\n      <td>https://bie.ala.org.au/species/https://id.biod...</td>\n      <td>obscured</td>\n      <td>6829</td>\n      <td>peggydnew</td>\n      <td>Endangered</td>\n      <td>Endangered</td>\n    </tr>\n    <tr>\n      <th>520</th>\n      <td>Zygophyllum billardierei</td>\n      <td>Rare</td>\n      <td>open</td>\n      <td>https://id.biodiversity.org.au/taxon/apni/5131...</td>\n      <td>NaN</td>\n      <td>NaN</td>\n      <td>NaN</td>\n      <td>NaN</td>\n      <td>NaN</td>\n      <td>NaN</td>\n      <td>...</td>\n      <td>NaN</td>\n      <td>NaN</td>\n      <td>Threatened Species Protection Act 1995</td>\n      <td>Listed as Threatened - refer to https://www.th...</td>\n      <td>https://bie.ala.org.au/species/https://id.biod...</td>\n      <td>obscured</td>\n      <td>6829</td>\n      <td>peggydnew</td>\n      <td>Vulnerable</td>\n      <td>Rare</td>\n    </tr>\n  </tbody>\n</table>\n<p>676 rows × 22 columns</p>\n</div>"
     },
     "execution_count": 41,
     "metadata": {},
     "output_type": "execute_result"
    }
   ],
   "source": [
    "# prepare the export fields, common to New template and Update template\n",
    "# new statuses\n",
    "# Taxon_Name,Status,Authority,IUCN_equivalent,Description,iNaturalist_Place_ID,url,Taxon_Geoprivacy,Username,taxon_id\n",
    "# updates\n",
    "# action,taxon_name,id,taxon_id,status,iucn_equivalent,authority,url,geoprivacy,place_id,username\n",
    "mergedstatuses['new_authority'] = \"Threatened Species Protection Act 1995\"\n",
    "mergedstatuses['new_description'] = \"Listed as Threatened - refer to https://www.threatenedspecieslink.tas.gov.au\"\n",
    "biesearchurl = \"https://bie.ala.org.au/species/\" # eg + \"https://id.biodiversity.org.au/node/apni/2894366\"\n",
    "mergedstatuses['new_url'] =  biesearchurl + mergedstatuses['lsid']\n",
    "mergedstatuses['new_geoprivacy'] = \"obscured\"\n",
    "mergedstatuses['new_place_id'] = '6829'  # Tasmania\n",
    "mergedstatuses['new_username'] = 'peggydnew'\n",
    "mergedstatuses['new_iucn_equivalent'] = mergedstatuses['status'].str.lower().str.strip().map(iucnStatusMappings).fillna('Vulnerable') # map to dictionary\n",
    "mergedstatuses['new_status'] = mergedstatuses['status'].fillna('Threatened')\n",
    "mergedstatuses"
   ],
   "metadata": {
    "collapsed": false,
    "pycharm": {
     "name": "#%%\n"
    }
   }
  },
  {
   "cell_type": "markdown",
   "source": [
    "## Updates"
   ],
   "metadata": {
    "collapsed": false,
    "pycharm": {
     "name": "#%% md\n"
    }
   }
  },
  {
   "cell_type": "code",
   "execution_count": 42,
   "outputs": [
    {
     "data": {
      "text/plain": "     action                  taxon_name      id taxon_id      status  \\\n214  UPDATE            Acacia axillaris  160726   775192  Vulnerable   \n598  UPDATE   Alternanthera denticulata  160727   369665  Endangered   \n599  UPDATE     Amphibromus macrorhinus  160728  1121410  Endangered   \n241  UPDATE       Anogramma leptophylla  162081   180646  Vulnerable   \n357  UPDATE            Aphelia gracilis  163877  1143399        Rare   \n..      ...                         ...     ...      ...         ...   \n663  UPDATE          Thelymitra malvina  161104   406524  Endangered   \n666  UPDATE          Veronica notabilis  161105   791936  Endangered   \n667  UPDATE            Viminaria juncea  161106   353911  Endangered   \n669  UPDATE  Wurmbea latifolia vanessae  161107   790432  Endangered   \n670  UPDATE  Zieria veronicea veronicea  161108   323791  Endangered   \n\n    iucn_equivalent                               authority  \\\n214      Vulnerable  Threatened Species Protection Act 1995   \n598      Endangered  Threatened Species Protection Act 1995   \n599      Endangered  Threatened Species Protection Act 1995   \n241      Vulnerable  Threatened Species Protection Act 1995   \n357      Vulnerable  Threatened Species Protection Act 1995   \n..              ...                                     ...   \n663      Endangered  Threatened Species Protection Act 1995   \n666      Endangered  Threatened Species Protection Act 1995   \n667      Endangered  Threatened Species Protection Act 1995   \n669      Endangered  Threatened Species Protection Act 1995   \n670      Endangered  Threatened Species Protection Act 1995   \n\n                                                   url geoprivacy place_id  \\\n214  https://bie.ala.org.au/species/https://id.biod...   obscured     6829   \n598  https://bie.ala.org.au/species/https://id.biod...   obscured     6829   \n599  https://bie.ala.org.au/species/https://id.biod...   obscured     6829   \n241  https://bie.ala.org.au/species/https://id.biod...   obscured     6829   \n357  https://bie.ala.org.au/species/https://id.biod...   obscured     6829   \n..                                                 ...        ...      ...   \n663  https://bie.ala.org.au/species/https://id.biod...   obscured     6829   \n666  https://bie.ala.org.au/species/https://id.biod...   obscured     6829   \n667  https://bie.ala.org.au/species/https://id.biod...   obscured     6829   \n669  https://bie.ala.org.au/species/https://id.biod...   obscured     6829   \n670  https://bie.ala.org.au/species/https://id.biod...   obscured     6829   \n\n      username                                        description  \n214  peggydnew  Listed as Threatened - refer to https://www.th...  \n598  peggydnew  Listed as Threatened - refer to https://www.th...  \n599  peggydnew  Listed as Threatened - refer to https://www.th...  \n241  peggydnew  Listed as Threatened - refer to https://www.th...  \n357  peggydnew  Listed as Threatened - refer to https://www.th...  \n..         ...                                                ...  \n663  peggydnew  Listed as Threatened - refer to https://www.th...  \n666  peggydnew  Listed as Threatened - refer to https://www.th...  \n667  peggydnew  Listed as Threatened - refer to https://www.th...  \n669  peggydnew  Listed as Threatened - refer to https://www.th...  \n670  peggydnew  Listed as Threatened - refer to https://www.th...  \n\n[73 rows x 12 columns]",
      "text/html": "<div>\n<style scoped>\n    .dataframe tbody tr th:only-of-type {\n        vertical-align: middle;\n    }\n\n    .dataframe tbody tr th {\n        vertical-align: top;\n    }\n\n    .dataframe thead th {\n        text-align: right;\n    }\n</style>\n<table border=\"1\" class=\"dataframe\">\n  <thead>\n    <tr style=\"text-align: right;\">\n      <th></th>\n      <th>action</th>\n      <th>taxon_name</th>\n      <th>id</th>\n      <th>taxon_id</th>\n      <th>status</th>\n      <th>iucn_equivalent</th>\n      <th>authority</th>\n      <th>url</th>\n      <th>geoprivacy</th>\n      <th>place_id</th>\n      <th>username</th>\n      <th>description</th>\n    </tr>\n  </thead>\n  <tbody>\n    <tr>\n      <th>214</th>\n      <td>UPDATE</td>\n      <td>Acacia axillaris</td>\n      <td>160726</td>\n      <td>775192</td>\n      <td>Vulnerable</td>\n      <td>Vulnerable</td>\n      <td>Threatened Species Protection Act 1995</td>\n      <td>https://bie.ala.org.au/species/https://id.biod...</td>\n      <td>obscured</td>\n      <td>6829</td>\n      <td>peggydnew</td>\n      <td>Listed as Threatened - refer to https://www.th...</td>\n    </tr>\n    <tr>\n      <th>598</th>\n      <td>UPDATE</td>\n      <td>Alternanthera denticulata</td>\n      <td>160727</td>\n      <td>369665</td>\n      <td>Endangered</td>\n      <td>Endangered</td>\n      <td>Threatened Species Protection Act 1995</td>\n      <td>https://bie.ala.org.au/species/https://id.biod...</td>\n      <td>obscured</td>\n      <td>6829</td>\n      <td>peggydnew</td>\n      <td>Listed as Threatened - refer to https://www.th...</td>\n    </tr>\n    <tr>\n      <th>599</th>\n      <td>UPDATE</td>\n      <td>Amphibromus macrorhinus</td>\n      <td>160728</td>\n      <td>1121410</td>\n      <td>Endangered</td>\n      <td>Endangered</td>\n      <td>Threatened Species Protection Act 1995</td>\n      <td>https://bie.ala.org.au/species/https://id.biod...</td>\n      <td>obscured</td>\n      <td>6829</td>\n      <td>peggydnew</td>\n      <td>Listed as Threatened - refer to https://www.th...</td>\n    </tr>\n    <tr>\n      <th>241</th>\n      <td>UPDATE</td>\n      <td>Anogramma leptophylla</td>\n      <td>162081</td>\n      <td>180646</td>\n      <td>Vulnerable</td>\n      <td>Vulnerable</td>\n      <td>Threatened Species Protection Act 1995</td>\n      <td>https://bie.ala.org.au/species/https://id.biod...</td>\n      <td>obscured</td>\n      <td>6829</td>\n      <td>peggydnew</td>\n      <td>Listed as Threatened - refer to https://www.th...</td>\n    </tr>\n    <tr>\n      <th>357</th>\n      <td>UPDATE</td>\n      <td>Aphelia gracilis</td>\n      <td>163877</td>\n      <td>1143399</td>\n      <td>Rare</td>\n      <td>Vulnerable</td>\n      <td>Threatened Species Protection Act 1995</td>\n      <td>https://bie.ala.org.au/species/https://id.biod...</td>\n      <td>obscured</td>\n      <td>6829</td>\n      <td>peggydnew</td>\n      <td>Listed as Threatened - refer to https://www.th...</td>\n    </tr>\n    <tr>\n      <th>...</th>\n      <td>...</td>\n      <td>...</td>\n      <td>...</td>\n      <td>...</td>\n      <td>...</td>\n      <td>...</td>\n      <td>...</td>\n      <td>...</td>\n      <td>...</td>\n      <td>...</td>\n      <td>...</td>\n      <td>...</td>\n    </tr>\n    <tr>\n      <th>663</th>\n      <td>UPDATE</td>\n      <td>Thelymitra malvina</td>\n      <td>161104</td>\n      <td>406524</td>\n      <td>Endangered</td>\n      <td>Endangered</td>\n      <td>Threatened Species Protection Act 1995</td>\n      <td>https://bie.ala.org.au/species/https://id.biod...</td>\n      <td>obscured</td>\n      <td>6829</td>\n      <td>peggydnew</td>\n      <td>Listed as Threatened - refer to https://www.th...</td>\n    </tr>\n    <tr>\n      <th>666</th>\n      <td>UPDATE</td>\n      <td>Veronica notabilis</td>\n      <td>161105</td>\n      <td>791936</td>\n      <td>Endangered</td>\n      <td>Endangered</td>\n      <td>Threatened Species Protection Act 1995</td>\n      <td>https://bie.ala.org.au/species/https://id.biod...</td>\n      <td>obscured</td>\n      <td>6829</td>\n      <td>peggydnew</td>\n      <td>Listed as Threatened - refer to https://www.th...</td>\n    </tr>\n    <tr>\n      <th>667</th>\n      <td>UPDATE</td>\n      <td>Viminaria juncea</td>\n      <td>161106</td>\n      <td>353911</td>\n      <td>Endangered</td>\n      <td>Endangered</td>\n      <td>Threatened Species Protection Act 1995</td>\n      <td>https://bie.ala.org.au/species/https://id.biod...</td>\n      <td>obscured</td>\n      <td>6829</td>\n      <td>peggydnew</td>\n      <td>Listed as Threatened - refer to https://www.th...</td>\n    </tr>\n    <tr>\n      <th>669</th>\n      <td>UPDATE</td>\n      <td>Wurmbea latifolia vanessae</td>\n      <td>161107</td>\n      <td>790432</td>\n      <td>Endangered</td>\n      <td>Endangered</td>\n      <td>Threatened Species Protection Act 1995</td>\n      <td>https://bie.ala.org.au/species/https://id.biod...</td>\n      <td>obscured</td>\n      <td>6829</td>\n      <td>peggydnew</td>\n      <td>Listed as Threatened - refer to https://www.th...</td>\n    </tr>\n    <tr>\n      <th>670</th>\n      <td>UPDATE</td>\n      <td>Zieria veronicea veronicea</td>\n      <td>161108</td>\n      <td>323791</td>\n      <td>Endangered</td>\n      <td>Endangered</td>\n      <td>Threatened Species Protection Act 1995</td>\n      <td>https://bie.ala.org.au/species/https://id.biod...</td>\n      <td>obscured</td>\n      <td>6829</td>\n      <td>peggydnew</td>\n      <td>Listed as Threatened - refer to https://www.th...</td>\n    </tr>\n  </tbody>\n</table>\n<p>73 rows × 12 columns</p>\n</div>"
     },
     "execution_count": 42,
     "metadata": {},
     "output_type": "execute_result"
    }
   ],
   "source": [
    "# updates\n",
    "# action,taxon_name,id,taxon_id,status,iucn_equivalent,authority,url,geoprivacy,place_id,username,description\n",
    "updates = pd.DataFrame(mergedstatuses[mergedstatuses['status_id'].notnull()])\n",
    "updates.sort_values('scientificName')\n",
    "updates['action'] = 'UPDATE'\n",
    "#updates.loc[:,'action'] = 'UPDATE'\n",
    "updates = updates[['action','scientificName','status_id','taxon_id','new_status','new_iucn_equivalent','new_authority','new_url','new_geoprivacy','new_place_id','new_username','new_description']]\n",
    "updates.columns = updates.columns.str.replace(\"new_\", \"\", regex=True)\n",
    "updates = updates.rename(columns={'scientificName':'taxon_name',\n",
    "                                  'status_id':'id'})\n",
    "updates"
   ],
   "metadata": {
    "collapsed": false,
    "pycharm": {
     "name": "#%%\n"
    }
   }
  },
  {
   "cell_type": "markdown",
   "source": [
    "## No status in iNaturalist via straight scientificName match\n",
    "The ACT records that didn't match up to a status in iNaturalist"
   ],
   "metadata": {
    "collapsed": false,
    "pycharm": {
     "name": "#%% md\n"
    }
   }
  },
  {
   "cell_type": "code",
   "execution_count": 43,
   "outputs": [
    {
     "data": {
      "text/plain": "                   scientificName      status tas_geoprivacy  \\\n0               Acacia pataczekii        Rare           open   \n1             Acacia siculiformis        Rare           open   \n2               Acacia ulicifolia        Rare           open   \n3                Acacia uncifolia        Rare           open   \n4    Acanthiza pusilla archibaldi  Endangered           open   \n..                            ...         ...            ...   \n598           Xerochrysum bicolor        Rare           open   \n599          Xerochrysum palustre  Vulnerable           open   \n600              Zearaja maugeana  Endangered           open   \n601             Zieria littoralis        Rare           open   \n602      Zygophyllum billardierei        Rare           open   \n\n                                                  lsid status_id taxon_id  \\\n0     https://id.biodiversity.org.au/node/apni/2913609       NaN      NaN   \n1     https://id.biodiversity.org.au/node/apni/2888960       NaN      NaN   \n2     https://id.biodiversity.org.au/node/apni/2907350       NaN      NaN   \n3     https://id.biodiversity.org.au/node/apni/2916270       NaN      NaN   \n4                                        ALA_DR654_159       NaN      NaN   \n..                                                 ...       ...      ...   \n598   https://id.biodiversity.org.au/node/apni/2902500       NaN      NaN   \n599   https://id.biodiversity.org.au/node/apni/2890165       NaN      NaN   \n600  https://biodiversity.org.au/afd/taxa/0d9d194f-...       NaN      NaN   \n601   https://id.biodiversity.org.au/node/apni/2888662       NaN      NaN   \n602  https://id.biodiversity.org.au/taxon/apni/5131...       NaN      NaN   \n\n    user_id description iucn authority  ...        phylum          class  \\\n0       NaN         NaN  NaN       NaN  ...  Tracheophyta  Magnoliopsida   \n1       NaN         NaN  NaN       NaN  ...  Tracheophyta  Magnoliopsida   \n2       NaN         NaN  NaN       NaN  ...  Tracheophyta  Magnoliopsida   \n3       NaN         NaN  NaN       NaN  ...  Tracheophyta  Magnoliopsida   \n4       NaN         NaN  NaN       NaN  ...      Chordata           Aves   \n..      ...         ...  ...       ...  ...           ...            ...   \n598     NaN         NaN  NaN       NaN  ...  Tracheophyta  Magnoliopsida   \n599     NaN         NaN  NaN       NaN  ...  Tracheophyta  Magnoliopsida   \n600     NaN         NaN  NaN       NaN  ...           NaN            NaN   \n601     NaN         NaN  NaN       NaN  ...  Tracheophyta  Magnoliopsida   \n602     NaN         NaN  NaN       NaN  ...           NaN            NaN   \n\n             order        family        genus specificEpithet  \\\n0          Fabales      Fabaceae       Acacia      pataczekii   \n1          Fabales      Fabaceae       Acacia    siculiformis   \n2          Fabales      Fabaceae       Acacia      ulicifolia   \n3          Fabales      Fabaceae       Acacia       uncifolia   \n4    Passeriformes  Acanthizidae    Acanthiza         pusilla   \n..             ...           ...          ...             ...   \n598      Asterales    Asteraceae  Xerochrysum         bicolor   \n599      Asterales    Asteraceae  Xerochrysum        palustre   \n600            NaN           NaN          NaN             NaN   \n601     Sapindales      Rutaceae       Zieria      littoralis   \n602            NaN           NaN          NaN             NaN   \n\n    infraspecificEpithet              modified   taxonRank  \\\n0                    NaN  2022-04-06T23:48:02Z     species   \n1                    NaN  2022-04-07T00:40:40Z     species   \n2                    NaN  2022-06-18T06:33:18Z     species   \n3                    NaN  2022-06-10T10:52:23Z     species   \n4             archibaldi  2018-12-19T06:16:34Z  subspecies   \n..                   ...                   ...         ...   \n598                  NaN  2020-02-19T08:20:14Z     species   \n599                  NaN  2022-06-08T17:48:57Z     species   \n600                  NaN                   NaN         NaN   \n601                  NaN  2022-06-08T17:54:24Z     species   \n602                  NaN                   NaN         NaN   \n\n                                            references  \n0    http://www.catalogueoflife.org/annual-checklis...  \n1    http://www.catalogueoflife.org/annual-checklis...  \n2    http://www.catalogueoflife.org/annual-checklis...  \n3                        http://eol.org/pages/26965172  \n4    http://www.birds.cornell.edu/clementschecklist...  \n..                                                 ...  \n598  http://www.catalogueoflife.org/annual-checklis...  \n599                       http://eol.org/pages/5127428  \n600                                                NaN  \n601                     https://eol.org/pages/52379143  \n602                                                NaN  \n\n[603 rows x 37 columns]",
      "text/html": "<div>\n<style scoped>\n    .dataframe tbody tr th:only-of-type {\n        vertical-align: middle;\n    }\n\n    .dataframe tbody tr th {\n        vertical-align: top;\n    }\n\n    .dataframe thead th {\n        text-align: right;\n    }\n</style>\n<table border=\"1\" class=\"dataframe\">\n  <thead>\n    <tr style=\"text-align: right;\">\n      <th></th>\n      <th>scientificName</th>\n      <th>status</th>\n      <th>tas_geoprivacy</th>\n      <th>lsid</th>\n      <th>status_id</th>\n      <th>taxon_id</th>\n      <th>user_id</th>\n      <th>description</th>\n      <th>iucn</th>\n      <th>authority</th>\n      <th>...</th>\n      <th>phylum</th>\n      <th>class</th>\n      <th>order</th>\n      <th>family</th>\n      <th>genus</th>\n      <th>specificEpithet</th>\n      <th>infraspecificEpithet</th>\n      <th>modified</th>\n      <th>taxonRank</th>\n      <th>references</th>\n    </tr>\n  </thead>\n  <tbody>\n    <tr>\n      <th>0</th>\n      <td>Acacia pataczekii</td>\n      <td>Rare</td>\n      <td>open</td>\n      <td>https://id.biodiversity.org.au/node/apni/2913609</td>\n      <td>NaN</td>\n      <td>NaN</td>\n      <td>NaN</td>\n      <td>NaN</td>\n      <td>NaN</td>\n      <td>NaN</td>\n      <td>...</td>\n      <td>Tracheophyta</td>\n      <td>Magnoliopsida</td>\n      <td>Fabales</td>\n      <td>Fabaceae</td>\n      <td>Acacia</td>\n      <td>pataczekii</td>\n      <td>NaN</td>\n      <td>2022-04-06T23:48:02Z</td>\n      <td>species</td>\n      <td>http://www.catalogueoflife.org/annual-checklis...</td>\n    </tr>\n    <tr>\n      <th>1</th>\n      <td>Acacia siculiformis</td>\n      <td>Rare</td>\n      <td>open</td>\n      <td>https://id.biodiversity.org.au/node/apni/2888960</td>\n      <td>NaN</td>\n      <td>NaN</td>\n      <td>NaN</td>\n      <td>NaN</td>\n      <td>NaN</td>\n      <td>NaN</td>\n      <td>...</td>\n      <td>Tracheophyta</td>\n      <td>Magnoliopsida</td>\n      <td>Fabales</td>\n      <td>Fabaceae</td>\n      <td>Acacia</td>\n      <td>siculiformis</td>\n      <td>NaN</td>\n      <td>2022-04-07T00:40:40Z</td>\n      <td>species</td>\n      <td>http://www.catalogueoflife.org/annual-checklis...</td>\n    </tr>\n    <tr>\n      <th>2</th>\n      <td>Acacia ulicifolia</td>\n      <td>Rare</td>\n      <td>open</td>\n      <td>https://id.biodiversity.org.au/node/apni/2907350</td>\n      <td>NaN</td>\n      <td>NaN</td>\n      <td>NaN</td>\n      <td>NaN</td>\n      <td>NaN</td>\n      <td>NaN</td>\n      <td>...</td>\n      <td>Tracheophyta</td>\n      <td>Magnoliopsida</td>\n      <td>Fabales</td>\n      <td>Fabaceae</td>\n      <td>Acacia</td>\n      <td>ulicifolia</td>\n      <td>NaN</td>\n      <td>2022-06-18T06:33:18Z</td>\n      <td>species</td>\n      <td>http://www.catalogueoflife.org/annual-checklis...</td>\n    </tr>\n    <tr>\n      <th>3</th>\n      <td>Acacia uncifolia</td>\n      <td>Rare</td>\n      <td>open</td>\n      <td>https://id.biodiversity.org.au/node/apni/2916270</td>\n      <td>NaN</td>\n      <td>NaN</td>\n      <td>NaN</td>\n      <td>NaN</td>\n      <td>NaN</td>\n      <td>NaN</td>\n      <td>...</td>\n      <td>Tracheophyta</td>\n      <td>Magnoliopsida</td>\n      <td>Fabales</td>\n      <td>Fabaceae</td>\n      <td>Acacia</td>\n      <td>uncifolia</td>\n      <td>NaN</td>\n      <td>2022-06-10T10:52:23Z</td>\n      <td>species</td>\n      <td>http://eol.org/pages/26965172</td>\n    </tr>\n    <tr>\n      <th>4</th>\n      <td>Acanthiza pusilla archibaldi</td>\n      <td>Endangered</td>\n      <td>open</td>\n      <td>ALA_DR654_159</td>\n      <td>NaN</td>\n      <td>NaN</td>\n      <td>NaN</td>\n      <td>NaN</td>\n      <td>NaN</td>\n      <td>NaN</td>\n      <td>...</td>\n      <td>Chordata</td>\n      <td>Aves</td>\n      <td>Passeriformes</td>\n      <td>Acanthizidae</td>\n      <td>Acanthiza</td>\n      <td>pusilla</td>\n      <td>archibaldi</td>\n      <td>2018-12-19T06:16:34Z</td>\n      <td>subspecies</td>\n      <td>http://www.birds.cornell.edu/clementschecklist...</td>\n    </tr>\n    <tr>\n      <th>...</th>\n      <td>...</td>\n      <td>...</td>\n      <td>...</td>\n      <td>...</td>\n      <td>...</td>\n      <td>...</td>\n      <td>...</td>\n      <td>...</td>\n      <td>...</td>\n      <td>...</td>\n      <td>...</td>\n      <td>...</td>\n      <td>...</td>\n      <td>...</td>\n      <td>...</td>\n      <td>...</td>\n      <td>...</td>\n      <td>...</td>\n      <td>...</td>\n      <td>...</td>\n      <td>...</td>\n    </tr>\n    <tr>\n      <th>598</th>\n      <td>Xerochrysum bicolor</td>\n      <td>Rare</td>\n      <td>open</td>\n      <td>https://id.biodiversity.org.au/node/apni/2902500</td>\n      <td>NaN</td>\n      <td>NaN</td>\n      <td>NaN</td>\n      <td>NaN</td>\n      <td>NaN</td>\n      <td>NaN</td>\n      <td>...</td>\n      <td>Tracheophyta</td>\n      <td>Magnoliopsida</td>\n      <td>Asterales</td>\n      <td>Asteraceae</td>\n      <td>Xerochrysum</td>\n      <td>bicolor</td>\n      <td>NaN</td>\n      <td>2020-02-19T08:20:14Z</td>\n      <td>species</td>\n      <td>http://www.catalogueoflife.org/annual-checklis...</td>\n    </tr>\n    <tr>\n      <th>599</th>\n      <td>Xerochrysum palustre</td>\n      <td>Vulnerable</td>\n      <td>open</td>\n      <td>https://id.biodiversity.org.au/node/apni/2890165</td>\n      <td>NaN</td>\n      <td>NaN</td>\n      <td>NaN</td>\n      <td>NaN</td>\n      <td>NaN</td>\n      <td>NaN</td>\n      <td>...</td>\n      <td>Tracheophyta</td>\n      <td>Magnoliopsida</td>\n      <td>Asterales</td>\n      <td>Asteraceae</td>\n      <td>Xerochrysum</td>\n      <td>palustre</td>\n      <td>NaN</td>\n      <td>2022-06-08T17:48:57Z</td>\n      <td>species</td>\n      <td>http://eol.org/pages/5127428</td>\n    </tr>\n    <tr>\n      <th>600</th>\n      <td>Zearaja maugeana</td>\n      <td>Endangered</td>\n      <td>open</td>\n      <td>https://biodiversity.org.au/afd/taxa/0d9d194f-...</td>\n      <td>NaN</td>\n      <td>NaN</td>\n      <td>NaN</td>\n      <td>NaN</td>\n      <td>NaN</td>\n      <td>NaN</td>\n      <td>...</td>\n      <td>NaN</td>\n      <td>NaN</td>\n      <td>NaN</td>\n      <td>NaN</td>\n      <td>NaN</td>\n      <td>NaN</td>\n      <td>NaN</td>\n      <td>NaN</td>\n      <td>NaN</td>\n      <td>NaN</td>\n    </tr>\n    <tr>\n      <th>601</th>\n      <td>Zieria littoralis</td>\n      <td>Rare</td>\n      <td>open</td>\n      <td>https://id.biodiversity.org.au/node/apni/2888662</td>\n      <td>NaN</td>\n      <td>NaN</td>\n      <td>NaN</td>\n      <td>NaN</td>\n      <td>NaN</td>\n      <td>NaN</td>\n      <td>...</td>\n      <td>Tracheophyta</td>\n      <td>Magnoliopsida</td>\n      <td>Sapindales</td>\n      <td>Rutaceae</td>\n      <td>Zieria</td>\n      <td>littoralis</td>\n      <td>NaN</td>\n      <td>2022-06-08T17:54:24Z</td>\n      <td>species</td>\n      <td>https://eol.org/pages/52379143</td>\n    </tr>\n    <tr>\n      <th>602</th>\n      <td>Zygophyllum billardierei</td>\n      <td>Rare</td>\n      <td>open</td>\n      <td>https://id.biodiversity.org.au/taxon/apni/5131...</td>\n      <td>NaN</td>\n      <td>NaN</td>\n      <td>NaN</td>\n      <td>NaN</td>\n      <td>NaN</td>\n      <td>NaN</td>\n      <td>...</td>\n      <td>NaN</td>\n      <td>NaN</td>\n      <td>NaN</td>\n      <td>NaN</td>\n      <td>NaN</td>\n      <td>NaN</td>\n      <td>NaN</td>\n      <td>NaN</td>\n      <td>NaN</td>\n      <td>NaN</td>\n    </tr>\n  </tbody>\n</table>\n<p>603 rows × 37 columns</p>\n</div>"
     },
     "execution_count": 43,
     "metadata": {},
     "output_type": "execute_result"
    }
   ],
   "source": [
    "# to add: those that have no inaturalist status - 532!!\n",
    "noinatstatus = mergedstatuses[mergedstatuses['status_id'].isnull()]\n",
    "# try to match the taxon name to something in inaturalist\n",
    "noinatstatus = noinatstatus.merge(inattaxa, how=\"left\", left_on=\"scientificName\",right_on=\"scientificName\")\n",
    "noinatstatus"
   ],
   "metadata": {
    "collapsed": false,
    "pycharm": {
     "name": "#%%\n"
    }
   }
  },
  {
   "cell_type": "code",
   "execution_count": 44,
   "outputs": [
    {
     "data": {
      "text/plain": "                   scientificName      status tas_geoprivacy  \\\n0               Acacia pataczekii        Rare           open   \n1             Acacia siculiformis        Rare           open   \n2               Acacia ulicifolia        Rare           open   \n3                Acacia uncifolia        Rare           open   \n4    Acanthiza pusilla archibaldi  Endangered           open   \n..                            ...         ...            ...   \n596         Xanthorrhoea arenaria  Vulnerable           open   \n597        Xanthorrhoea bracteata  Vulnerable           open   \n598           Xerochrysum bicolor        Rare           open   \n599          Xerochrysum palustre  Vulnerable           open   \n601             Zieria littoralis        Rare           open   \n\n                                                 lsid status_id taxon_id  \\\n0    https://id.biodiversity.org.au/node/apni/2913609       NaN      NaN   \n1    https://id.biodiversity.org.au/node/apni/2888960       NaN      NaN   \n2    https://id.biodiversity.org.au/node/apni/2907350       NaN      NaN   \n3    https://id.biodiversity.org.au/node/apni/2916270       NaN      NaN   \n4                                       ALA_DR654_159       NaN      NaN   \n..                                                ...       ...      ...   \n596  https://id.biodiversity.org.au/node/apni/2918552       NaN      NaN   \n597  https://id.biodiversity.org.au/node/apni/2911139       NaN      NaN   \n598  https://id.biodiversity.org.au/node/apni/2902500       NaN      NaN   \n599  https://id.biodiversity.org.au/node/apni/2890165       NaN      NaN   \n601  https://id.biodiversity.org.au/node/apni/2888662       NaN      NaN   \n\n    user_id description iucn authority  ...        phylum          class  \\\n0       NaN         NaN  NaN       NaN  ...  Tracheophyta  Magnoliopsida   \n1       NaN         NaN  NaN       NaN  ...  Tracheophyta  Magnoliopsida   \n2       NaN         NaN  NaN       NaN  ...  Tracheophyta  Magnoliopsida   \n3       NaN         NaN  NaN       NaN  ...  Tracheophyta  Magnoliopsida   \n4       NaN         NaN  NaN       NaN  ...      Chordata           Aves   \n..      ...         ...  ...       ...  ...           ...            ...   \n596     NaN         NaN  NaN       NaN  ...  Tracheophyta     Liliopsida   \n597     NaN         NaN  NaN       NaN  ...  Tracheophyta     Liliopsida   \n598     NaN         NaN  NaN       NaN  ...  Tracheophyta  Magnoliopsida   \n599     NaN         NaN  NaN       NaN  ...  Tracheophyta  Magnoliopsida   \n601     NaN         NaN  NaN       NaN  ...  Tracheophyta  Magnoliopsida   \n\n             order         family         genus specificEpithet  \\\n0          Fabales       Fabaceae        Acacia      pataczekii   \n1          Fabales       Fabaceae        Acacia    siculiformis   \n2          Fabales       Fabaceae        Acacia      ulicifolia   \n3          Fabales       Fabaceae        Acacia       uncifolia   \n4    Passeriformes   Acanthizidae     Acanthiza         pusilla   \n..             ...            ...           ...             ...   \n596    Asparagales  Asphodelaceae  Xanthorrhoea        arenaria   \n597    Asparagales  Asphodelaceae  Xanthorrhoea       bracteata   \n598      Asterales     Asteraceae   Xerochrysum         bicolor   \n599      Asterales     Asteraceae   Xerochrysum        palustre   \n601     Sapindales       Rutaceae        Zieria      littoralis   \n\n    infraspecificEpithet              modified   taxonRank  \\\n0                    NaN  2022-04-06T23:48:02Z     species   \n1                    NaN  2022-04-07T00:40:40Z     species   \n2                    NaN  2022-06-18T06:33:18Z     species   \n3                    NaN  2022-06-10T10:52:23Z     species   \n4             archibaldi  2018-12-19T06:16:34Z  subspecies   \n..                   ...                   ...         ...   \n596                  NaN  2019-02-15T07:38:04Z     species   \n597                  NaN  2022-08-25T07:03:45Z     species   \n598                  NaN  2020-02-19T08:20:14Z     species   \n599                  NaN  2022-06-08T17:48:57Z     species   \n601                  NaN  2022-06-08T17:54:24Z     species   \n\n                                            references  \n0    http://www.catalogueoflife.org/annual-checklis...  \n1    http://www.catalogueoflife.org/annual-checklis...  \n2    http://www.catalogueoflife.org/annual-checklis...  \n3                        http://eol.org/pages/26965172  \n4    http://www.birds.cornell.edu/clementschecklist...  \n..                                                 ...  \n596  http://www.ubio.org/browser/details.php?nameba...  \n597                       http://powo.science.kew.org/  \n598  http://www.catalogueoflife.org/annual-checklis...  \n599                       http://eol.org/pages/5127428  \n601                     https://eol.org/pages/52379143  \n\n[500 rows x 37 columns]",
      "text/html": "<div>\n<style scoped>\n    .dataframe tbody tr th:only-of-type {\n        vertical-align: middle;\n    }\n\n    .dataframe tbody tr th {\n        vertical-align: top;\n    }\n\n    .dataframe thead th {\n        text-align: right;\n    }\n</style>\n<table border=\"1\" class=\"dataframe\">\n  <thead>\n    <tr style=\"text-align: right;\">\n      <th></th>\n      <th>scientificName</th>\n      <th>status</th>\n      <th>tas_geoprivacy</th>\n      <th>lsid</th>\n      <th>status_id</th>\n      <th>taxon_id</th>\n      <th>user_id</th>\n      <th>description</th>\n      <th>iucn</th>\n      <th>authority</th>\n      <th>...</th>\n      <th>phylum</th>\n      <th>class</th>\n      <th>order</th>\n      <th>family</th>\n      <th>genus</th>\n      <th>specificEpithet</th>\n      <th>infraspecificEpithet</th>\n      <th>modified</th>\n      <th>taxonRank</th>\n      <th>references</th>\n    </tr>\n  </thead>\n  <tbody>\n    <tr>\n      <th>0</th>\n      <td>Acacia pataczekii</td>\n      <td>Rare</td>\n      <td>open</td>\n      <td>https://id.biodiversity.org.au/node/apni/2913609</td>\n      <td>NaN</td>\n      <td>NaN</td>\n      <td>NaN</td>\n      <td>NaN</td>\n      <td>NaN</td>\n      <td>NaN</td>\n      <td>...</td>\n      <td>Tracheophyta</td>\n      <td>Magnoliopsida</td>\n      <td>Fabales</td>\n      <td>Fabaceae</td>\n      <td>Acacia</td>\n      <td>pataczekii</td>\n      <td>NaN</td>\n      <td>2022-04-06T23:48:02Z</td>\n      <td>species</td>\n      <td>http://www.catalogueoflife.org/annual-checklis...</td>\n    </tr>\n    <tr>\n      <th>1</th>\n      <td>Acacia siculiformis</td>\n      <td>Rare</td>\n      <td>open</td>\n      <td>https://id.biodiversity.org.au/node/apni/2888960</td>\n      <td>NaN</td>\n      <td>NaN</td>\n      <td>NaN</td>\n      <td>NaN</td>\n      <td>NaN</td>\n      <td>NaN</td>\n      <td>...</td>\n      <td>Tracheophyta</td>\n      <td>Magnoliopsida</td>\n      <td>Fabales</td>\n      <td>Fabaceae</td>\n      <td>Acacia</td>\n      <td>siculiformis</td>\n      <td>NaN</td>\n      <td>2022-04-07T00:40:40Z</td>\n      <td>species</td>\n      <td>http://www.catalogueoflife.org/annual-checklis...</td>\n    </tr>\n    <tr>\n      <th>2</th>\n      <td>Acacia ulicifolia</td>\n      <td>Rare</td>\n      <td>open</td>\n      <td>https://id.biodiversity.org.au/node/apni/2907350</td>\n      <td>NaN</td>\n      <td>NaN</td>\n      <td>NaN</td>\n      <td>NaN</td>\n      <td>NaN</td>\n      <td>NaN</td>\n      <td>...</td>\n      <td>Tracheophyta</td>\n      <td>Magnoliopsida</td>\n      <td>Fabales</td>\n      <td>Fabaceae</td>\n      <td>Acacia</td>\n      <td>ulicifolia</td>\n      <td>NaN</td>\n      <td>2022-06-18T06:33:18Z</td>\n      <td>species</td>\n      <td>http://www.catalogueoflife.org/annual-checklis...</td>\n    </tr>\n    <tr>\n      <th>3</th>\n      <td>Acacia uncifolia</td>\n      <td>Rare</td>\n      <td>open</td>\n      <td>https://id.biodiversity.org.au/node/apni/2916270</td>\n      <td>NaN</td>\n      <td>NaN</td>\n      <td>NaN</td>\n      <td>NaN</td>\n      <td>NaN</td>\n      <td>NaN</td>\n      <td>...</td>\n      <td>Tracheophyta</td>\n      <td>Magnoliopsida</td>\n      <td>Fabales</td>\n      <td>Fabaceae</td>\n      <td>Acacia</td>\n      <td>uncifolia</td>\n      <td>NaN</td>\n      <td>2022-06-10T10:52:23Z</td>\n      <td>species</td>\n      <td>http://eol.org/pages/26965172</td>\n    </tr>\n    <tr>\n      <th>4</th>\n      <td>Acanthiza pusilla archibaldi</td>\n      <td>Endangered</td>\n      <td>open</td>\n      <td>ALA_DR654_159</td>\n      <td>NaN</td>\n      <td>NaN</td>\n      <td>NaN</td>\n      <td>NaN</td>\n      <td>NaN</td>\n      <td>NaN</td>\n      <td>...</td>\n      <td>Chordata</td>\n      <td>Aves</td>\n      <td>Passeriformes</td>\n      <td>Acanthizidae</td>\n      <td>Acanthiza</td>\n      <td>pusilla</td>\n      <td>archibaldi</td>\n      <td>2018-12-19T06:16:34Z</td>\n      <td>subspecies</td>\n      <td>http://www.birds.cornell.edu/clementschecklist...</td>\n    </tr>\n    <tr>\n      <th>...</th>\n      <td>...</td>\n      <td>...</td>\n      <td>...</td>\n      <td>...</td>\n      <td>...</td>\n      <td>...</td>\n      <td>...</td>\n      <td>...</td>\n      <td>...</td>\n      <td>...</td>\n      <td>...</td>\n      <td>...</td>\n      <td>...</td>\n      <td>...</td>\n      <td>...</td>\n      <td>...</td>\n      <td>...</td>\n      <td>...</td>\n      <td>...</td>\n      <td>...</td>\n      <td>...</td>\n    </tr>\n    <tr>\n      <th>596</th>\n      <td>Xanthorrhoea arenaria</td>\n      <td>Vulnerable</td>\n      <td>open</td>\n      <td>https://id.biodiversity.org.au/node/apni/2918552</td>\n      <td>NaN</td>\n      <td>NaN</td>\n      <td>NaN</td>\n      <td>NaN</td>\n      <td>NaN</td>\n      <td>NaN</td>\n      <td>...</td>\n      <td>Tracheophyta</td>\n      <td>Liliopsida</td>\n      <td>Asparagales</td>\n      <td>Asphodelaceae</td>\n      <td>Xanthorrhoea</td>\n      <td>arenaria</td>\n      <td>NaN</td>\n      <td>2019-02-15T07:38:04Z</td>\n      <td>species</td>\n      <td>http://www.ubio.org/browser/details.php?nameba...</td>\n    </tr>\n    <tr>\n      <th>597</th>\n      <td>Xanthorrhoea bracteata</td>\n      <td>Vulnerable</td>\n      <td>open</td>\n      <td>https://id.biodiversity.org.au/node/apni/2911139</td>\n      <td>NaN</td>\n      <td>NaN</td>\n      <td>NaN</td>\n      <td>NaN</td>\n      <td>NaN</td>\n      <td>NaN</td>\n      <td>...</td>\n      <td>Tracheophyta</td>\n      <td>Liliopsida</td>\n      <td>Asparagales</td>\n      <td>Asphodelaceae</td>\n      <td>Xanthorrhoea</td>\n      <td>bracteata</td>\n      <td>NaN</td>\n      <td>2022-08-25T07:03:45Z</td>\n      <td>species</td>\n      <td>http://powo.science.kew.org/</td>\n    </tr>\n    <tr>\n      <th>598</th>\n      <td>Xerochrysum bicolor</td>\n      <td>Rare</td>\n      <td>open</td>\n      <td>https://id.biodiversity.org.au/node/apni/2902500</td>\n      <td>NaN</td>\n      <td>NaN</td>\n      <td>NaN</td>\n      <td>NaN</td>\n      <td>NaN</td>\n      <td>NaN</td>\n      <td>...</td>\n      <td>Tracheophyta</td>\n      <td>Magnoliopsida</td>\n      <td>Asterales</td>\n      <td>Asteraceae</td>\n      <td>Xerochrysum</td>\n      <td>bicolor</td>\n      <td>NaN</td>\n      <td>2020-02-19T08:20:14Z</td>\n      <td>species</td>\n      <td>http://www.catalogueoflife.org/annual-checklis...</td>\n    </tr>\n    <tr>\n      <th>599</th>\n      <td>Xerochrysum palustre</td>\n      <td>Vulnerable</td>\n      <td>open</td>\n      <td>https://id.biodiversity.org.au/node/apni/2890165</td>\n      <td>NaN</td>\n      <td>NaN</td>\n      <td>NaN</td>\n      <td>NaN</td>\n      <td>NaN</td>\n      <td>NaN</td>\n      <td>...</td>\n      <td>Tracheophyta</td>\n      <td>Magnoliopsida</td>\n      <td>Asterales</td>\n      <td>Asteraceae</td>\n      <td>Xerochrysum</td>\n      <td>palustre</td>\n      <td>NaN</td>\n      <td>2022-06-08T17:48:57Z</td>\n      <td>species</td>\n      <td>http://eol.org/pages/5127428</td>\n    </tr>\n    <tr>\n      <th>601</th>\n      <td>Zieria littoralis</td>\n      <td>Rare</td>\n      <td>open</td>\n      <td>https://id.biodiversity.org.au/node/apni/2888662</td>\n      <td>NaN</td>\n      <td>NaN</td>\n      <td>NaN</td>\n      <td>NaN</td>\n      <td>NaN</td>\n      <td>NaN</td>\n      <td>...</td>\n      <td>Tracheophyta</td>\n      <td>Magnoliopsida</td>\n      <td>Sapindales</td>\n      <td>Rutaceae</td>\n      <td>Zieria</td>\n      <td>littoralis</td>\n      <td>NaN</td>\n      <td>2022-06-08T17:54:24Z</td>\n      <td>species</td>\n      <td>https://eol.org/pages/52379143</td>\n    </tr>\n  </tbody>\n</table>\n<p>500 rows × 37 columns</p>\n</div>"
     },
     "execution_count": 44,
     "metadata": {},
     "output_type": "execute_result"
    }
   ],
   "source": [
    "additions = pd.DataFrame(noinatstatus[noinatstatus['id'].notna()])\n",
    "additions"
   ],
   "metadata": {
    "collapsed": false,
    "pycharm": {
     "name": "#%%\n"
    }
   }
  },
  {
   "cell_type": "code",
   "execution_count": 45,
   "outputs": [
    {
     "data": {
      "text/plain": "    action                    taxon_name   id taxon_id      status  \\\n0      ADD             Acacia pataczekii  NaN  1254534        Rare   \n1      ADD           Acacia siculiformis  NaN   567724        Rare   \n2      ADD             Acacia ulicifolia  NaN   139880        Rare   \n3      ADD              Acacia uncifolia  NaN   560392        Rare   \n4      ADD  Acanthiza pusilla archibaldi  NaN   629326  Endangered   \n..     ...                           ...  ...      ...         ...   \n596    ADD         Xanthorrhoea arenaria  NaN   125126  Vulnerable   \n597    ADD        Xanthorrhoea bracteata  NaN   895045  Vulnerable   \n598    ADD           Xerochrysum bicolor  NaN   147469        Rare   \n599    ADD          Xerochrysum palustre  NaN   634811  Vulnerable   \n601    ADD             Zieria littoralis  NaN   896657        Rare   \n\n    iucn_equivalent                               authority  \\\n0        Vulnerable  Threatened Species Protection Act 1995   \n1        Vulnerable  Threatened Species Protection Act 1995   \n2        Vulnerable  Threatened Species Protection Act 1995   \n3        Vulnerable  Threatened Species Protection Act 1995   \n4        Endangered  Threatened Species Protection Act 1995   \n..              ...                                     ...   \n596      Vulnerable  Threatened Species Protection Act 1995   \n597      Vulnerable  Threatened Species Protection Act 1995   \n598      Vulnerable  Threatened Species Protection Act 1995   \n599      Vulnerable  Threatened Species Protection Act 1995   \n601      Vulnerable  Threatened Species Protection Act 1995   \n\n                                                   url geoprivacy place_id  \\\n0    https://bie.ala.org.au/species/https://id.biod...   obscured     6829   \n1    https://bie.ala.org.au/species/https://id.biod...   obscured     6829   \n2    https://bie.ala.org.au/species/https://id.biod...   obscured     6829   \n3    https://bie.ala.org.au/species/https://id.biod...   obscured     6829   \n4         https://bie.ala.org.au/species/ALA_DR654_159   obscured     6829   \n..                                                 ...        ...      ...   \n596  https://bie.ala.org.au/species/https://id.biod...   obscured     6829   \n597  https://bie.ala.org.au/species/https://id.biod...   obscured     6829   \n598  https://bie.ala.org.au/species/https://id.biod...   obscured     6829   \n599  https://bie.ala.org.au/species/https://id.biod...   obscured     6829   \n601  https://bie.ala.org.au/species/https://id.biod...   obscured     6829   \n\n      username                                        description  \n0    peggydnew  Listed as Threatened - refer to https://www.th...  \n1    peggydnew  Listed as Threatened - refer to https://www.th...  \n2    peggydnew  Listed as Threatened - refer to https://www.th...  \n3    peggydnew  Listed as Threatened - refer to https://www.th...  \n4    peggydnew  Listed as Threatened - refer to https://www.th...  \n..         ...                                                ...  \n596  peggydnew  Listed as Threatened - refer to https://www.th...  \n597  peggydnew  Listed as Threatened - refer to https://www.th...  \n598  peggydnew  Listed as Threatened - refer to https://www.th...  \n599  peggydnew  Listed as Threatened - refer to https://www.th...  \n601  peggydnew  Listed as Threatened - refer to https://www.th...  \n\n[500 rows x 12 columns]",
      "text/html": "<div>\n<style scoped>\n    .dataframe tbody tr th:only-of-type {\n        vertical-align: middle;\n    }\n\n    .dataframe tbody tr th {\n        vertical-align: top;\n    }\n\n    .dataframe thead th {\n        text-align: right;\n    }\n</style>\n<table border=\"1\" class=\"dataframe\">\n  <thead>\n    <tr style=\"text-align: right;\">\n      <th></th>\n      <th>action</th>\n      <th>taxon_name</th>\n      <th>id</th>\n      <th>taxon_id</th>\n      <th>status</th>\n      <th>iucn_equivalent</th>\n      <th>authority</th>\n      <th>url</th>\n      <th>geoprivacy</th>\n      <th>place_id</th>\n      <th>username</th>\n      <th>description</th>\n    </tr>\n  </thead>\n  <tbody>\n    <tr>\n      <th>0</th>\n      <td>ADD</td>\n      <td>Acacia pataczekii</td>\n      <td>NaN</td>\n      <td>1254534</td>\n      <td>Rare</td>\n      <td>Vulnerable</td>\n      <td>Threatened Species Protection Act 1995</td>\n      <td>https://bie.ala.org.au/species/https://id.biod...</td>\n      <td>obscured</td>\n      <td>6829</td>\n      <td>peggydnew</td>\n      <td>Listed as Threatened - refer to https://www.th...</td>\n    </tr>\n    <tr>\n      <th>1</th>\n      <td>ADD</td>\n      <td>Acacia siculiformis</td>\n      <td>NaN</td>\n      <td>567724</td>\n      <td>Rare</td>\n      <td>Vulnerable</td>\n      <td>Threatened Species Protection Act 1995</td>\n      <td>https://bie.ala.org.au/species/https://id.biod...</td>\n      <td>obscured</td>\n      <td>6829</td>\n      <td>peggydnew</td>\n      <td>Listed as Threatened - refer to https://www.th...</td>\n    </tr>\n    <tr>\n      <th>2</th>\n      <td>ADD</td>\n      <td>Acacia ulicifolia</td>\n      <td>NaN</td>\n      <td>139880</td>\n      <td>Rare</td>\n      <td>Vulnerable</td>\n      <td>Threatened Species Protection Act 1995</td>\n      <td>https://bie.ala.org.au/species/https://id.biod...</td>\n      <td>obscured</td>\n      <td>6829</td>\n      <td>peggydnew</td>\n      <td>Listed as Threatened - refer to https://www.th...</td>\n    </tr>\n    <tr>\n      <th>3</th>\n      <td>ADD</td>\n      <td>Acacia uncifolia</td>\n      <td>NaN</td>\n      <td>560392</td>\n      <td>Rare</td>\n      <td>Vulnerable</td>\n      <td>Threatened Species Protection Act 1995</td>\n      <td>https://bie.ala.org.au/species/https://id.biod...</td>\n      <td>obscured</td>\n      <td>6829</td>\n      <td>peggydnew</td>\n      <td>Listed as Threatened - refer to https://www.th...</td>\n    </tr>\n    <tr>\n      <th>4</th>\n      <td>ADD</td>\n      <td>Acanthiza pusilla archibaldi</td>\n      <td>NaN</td>\n      <td>629326</td>\n      <td>Endangered</td>\n      <td>Endangered</td>\n      <td>Threatened Species Protection Act 1995</td>\n      <td>https://bie.ala.org.au/species/ALA_DR654_159</td>\n      <td>obscured</td>\n      <td>6829</td>\n      <td>peggydnew</td>\n      <td>Listed as Threatened - refer to https://www.th...</td>\n    </tr>\n    <tr>\n      <th>...</th>\n      <td>...</td>\n      <td>...</td>\n      <td>...</td>\n      <td>...</td>\n      <td>...</td>\n      <td>...</td>\n      <td>...</td>\n      <td>...</td>\n      <td>...</td>\n      <td>...</td>\n      <td>...</td>\n      <td>...</td>\n    </tr>\n    <tr>\n      <th>596</th>\n      <td>ADD</td>\n      <td>Xanthorrhoea arenaria</td>\n      <td>NaN</td>\n      <td>125126</td>\n      <td>Vulnerable</td>\n      <td>Vulnerable</td>\n      <td>Threatened Species Protection Act 1995</td>\n      <td>https://bie.ala.org.au/species/https://id.biod...</td>\n      <td>obscured</td>\n      <td>6829</td>\n      <td>peggydnew</td>\n      <td>Listed as Threatened - refer to https://www.th...</td>\n    </tr>\n    <tr>\n      <th>597</th>\n      <td>ADD</td>\n      <td>Xanthorrhoea bracteata</td>\n      <td>NaN</td>\n      <td>895045</td>\n      <td>Vulnerable</td>\n      <td>Vulnerable</td>\n      <td>Threatened Species Protection Act 1995</td>\n      <td>https://bie.ala.org.au/species/https://id.biod...</td>\n      <td>obscured</td>\n      <td>6829</td>\n      <td>peggydnew</td>\n      <td>Listed as Threatened - refer to https://www.th...</td>\n    </tr>\n    <tr>\n      <th>598</th>\n      <td>ADD</td>\n      <td>Xerochrysum bicolor</td>\n      <td>NaN</td>\n      <td>147469</td>\n      <td>Rare</td>\n      <td>Vulnerable</td>\n      <td>Threatened Species Protection Act 1995</td>\n      <td>https://bie.ala.org.au/species/https://id.biod...</td>\n      <td>obscured</td>\n      <td>6829</td>\n      <td>peggydnew</td>\n      <td>Listed as Threatened - refer to https://www.th...</td>\n    </tr>\n    <tr>\n      <th>599</th>\n      <td>ADD</td>\n      <td>Xerochrysum palustre</td>\n      <td>NaN</td>\n      <td>634811</td>\n      <td>Vulnerable</td>\n      <td>Vulnerable</td>\n      <td>Threatened Species Protection Act 1995</td>\n      <td>https://bie.ala.org.au/species/https://id.biod...</td>\n      <td>obscured</td>\n      <td>6829</td>\n      <td>peggydnew</td>\n      <td>Listed as Threatened - refer to https://www.th...</td>\n    </tr>\n    <tr>\n      <th>601</th>\n      <td>ADD</td>\n      <td>Zieria littoralis</td>\n      <td>NaN</td>\n      <td>896657</td>\n      <td>Rare</td>\n      <td>Vulnerable</td>\n      <td>Threatened Species Protection Act 1995</td>\n      <td>https://bie.ala.org.au/species/https://id.biod...</td>\n      <td>obscured</td>\n      <td>6829</td>\n      <td>peggydnew</td>\n      <td>Listed as Threatened - refer to https://www.th...</td>\n    </tr>\n  </tbody>\n</table>\n<p>500 rows × 12 columns</p>\n</div>"
     },
     "execution_count": 45,
     "metadata": {},
     "output_type": "execute_result"
    }
   ],
   "source": [
    "# there's no status but there is a matching inat taxon (id is the taxon id)\n",
    "additions = pd.DataFrame(noinatstatus[noinatstatus['id'].notna()])\n",
    "additions.sort_values(['scientificName'])\n",
    "additions['action'] = 'ADD'\n",
    "additions = additions[['action','scientificName','status_id','id','new_status','new_iucn_equivalent','new_authority','new_url','new_geoprivacy','new_place_id','new_username','new_description']]\n",
    "additions.columns = additions.columns.str.replace(\"new_\", \"\", regex=True)\n",
    "additions = additions.rename(columns={'scientificName':'taxon_name',\n",
    "                                      'id':'taxon_id',\n",
    "                                  'status_id':'id'})\n",
    "additions"
   ],
   "metadata": {
    "collapsed": false,
    "pycharm": {
     "name": "#%%\n"
    }
   }
  },
  {
   "cell_type": "code",
   "execution_count": 46,
   "outputs": [],
   "source": [
    "# write these to the file\n",
    "pd.concat([updates,additions]).to_csv(sourcedir + \"tas.csv\", index=False)"
   ],
   "metadata": {
    "collapsed": false,
    "pycharm": {
     "name": "#%%\n"
    }
   }
  },
  {
   "cell_type": "code",
   "execution_count": 47,
   "outputs": [
    {
     "data": {
      "text/plain": "                     scientificName      status tas_geoprivacy  \\\n8            Agrostis australiensis        Rare           open   \n9                Agrostis diemenica        Rare           open   \n34    Austromelanelixia piliferella  Vulnerable           open   \n35          Austroparmelina pallida  Endangered           open   \n36         Austroparmelina whinrayi        Rare           open   \n..                              ...         ...            ...   \n589  Xanthoparmelia microphyllizans        Rare           open   \n593          Xanthoparmelia vicaria        Rare           open   \n594       Xanthoparmelia vicariella        Rare           open   \n600                Zearaja maugeana  Endangered           open   \n602        Zygophyllum billardierei        Rare           open   \n\n                                                  lsid status_id taxon_id  \\\n8     https://id.biodiversity.org.au/node/apni/2907094       NaN      NaN   \n9     https://id.biodiversity.org.au/node/apni/2905826       NaN      NaN   \n34                                       ALA_DR654_288       NaN      NaN   \n35                                       ALA_DR654_600       NaN      NaN   \n36                                       ALA_DR654_351       NaN      NaN   \n..                                                 ...       ...      ...   \n589                                      ALA_DR654_530       NaN      NaN   \n593                                      ALA_DR654_353       NaN      NaN   \n594                                      ALA_DR654_354       NaN      NaN   \n600  https://biodiversity.org.au/afd/taxa/0d9d194f-...       NaN      NaN   \n602  https://id.biodiversity.org.au/taxon/apni/5131...       NaN      NaN   \n\n    user_id description iucn authority  ... phylum class order family genus  \\\n8       NaN         NaN  NaN       NaN  ...    NaN   NaN   NaN    NaN   NaN   \n9       NaN         NaN  NaN       NaN  ...    NaN   NaN   NaN    NaN   NaN   \n34      NaN         NaN  NaN       NaN  ...    NaN   NaN   NaN    NaN   NaN   \n35      NaN         NaN  NaN       NaN  ...    NaN   NaN   NaN    NaN   NaN   \n36      NaN         NaN  NaN       NaN  ...    NaN   NaN   NaN    NaN   NaN   \n..      ...         ...  ...       ...  ...    ...   ...   ...    ...   ...   \n589     NaN         NaN  NaN       NaN  ...    NaN   NaN   NaN    NaN   NaN   \n593     NaN         NaN  NaN       NaN  ...    NaN   NaN   NaN    NaN   NaN   \n594     NaN         NaN  NaN       NaN  ...    NaN   NaN   NaN    NaN   NaN   \n600     NaN         NaN  NaN       NaN  ...    NaN   NaN   NaN    NaN   NaN   \n602     NaN         NaN  NaN       NaN  ...    NaN   NaN   NaN    NaN   NaN   \n\n    specificEpithet infraspecificEpithet modified taxonRank references  \n8               NaN                  NaN      NaN       NaN        NaN  \n9               NaN                  NaN      NaN       NaN        NaN  \n34              NaN                  NaN      NaN       NaN        NaN  \n35              NaN                  NaN      NaN       NaN        NaN  \n36              NaN                  NaN      NaN       NaN        NaN  \n..              ...                  ...      ...       ...        ...  \n589             NaN                  NaN      NaN       NaN        NaN  \n593             NaN                  NaN      NaN       NaN        NaN  \n594             NaN                  NaN      NaN       NaN        NaN  \n600             NaN                  NaN      NaN       NaN        NaN  \n602             NaN                  NaN      NaN       NaN        NaN  \n\n[103 rows x 37 columns]",
      "text/html": "<div>\n<style scoped>\n    .dataframe tbody tr th:only-of-type {\n        vertical-align: middle;\n    }\n\n    .dataframe tbody tr th {\n        vertical-align: top;\n    }\n\n    .dataframe thead th {\n        text-align: right;\n    }\n</style>\n<table border=\"1\" class=\"dataframe\">\n  <thead>\n    <tr style=\"text-align: right;\">\n      <th></th>\n      <th>scientificName</th>\n      <th>status</th>\n      <th>tas_geoprivacy</th>\n      <th>lsid</th>\n      <th>status_id</th>\n      <th>taxon_id</th>\n      <th>user_id</th>\n      <th>description</th>\n      <th>iucn</th>\n      <th>authority</th>\n      <th>...</th>\n      <th>phylum</th>\n      <th>class</th>\n      <th>order</th>\n      <th>family</th>\n      <th>genus</th>\n      <th>specificEpithet</th>\n      <th>infraspecificEpithet</th>\n      <th>modified</th>\n      <th>taxonRank</th>\n      <th>references</th>\n    </tr>\n  </thead>\n  <tbody>\n    <tr>\n      <th>8</th>\n      <td>Agrostis australiensis</td>\n      <td>Rare</td>\n      <td>open</td>\n      <td>https://id.biodiversity.org.au/node/apni/2907094</td>\n      <td>NaN</td>\n      <td>NaN</td>\n      <td>NaN</td>\n      <td>NaN</td>\n      <td>NaN</td>\n      <td>NaN</td>\n      <td>...</td>\n      <td>NaN</td>\n      <td>NaN</td>\n      <td>NaN</td>\n      <td>NaN</td>\n      <td>NaN</td>\n      <td>NaN</td>\n      <td>NaN</td>\n      <td>NaN</td>\n      <td>NaN</td>\n      <td>NaN</td>\n    </tr>\n    <tr>\n      <th>9</th>\n      <td>Agrostis diemenica</td>\n      <td>Rare</td>\n      <td>open</td>\n      <td>https://id.biodiversity.org.au/node/apni/2905826</td>\n      <td>NaN</td>\n      <td>NaN</td>\n      <td>NaN</td>\n      <td>NaN</td>\n      <td>NaN</td>\n      <td>NaN</td>\n      <td>...</td>\n      <td>NaN</td>\n      <td>NaN</td>\n      <td>NaN</td>\n      <td>NaN</td>\n      <td>NaN</td>\n      <td>NaN</td>\n      <td>NaN</td>\n      <td>NaN</td>\n      <td>NaN</td>\n      <td>NaN</td>\n    </tr>\n    <tr>\n      <th>34</th>\n      <td>Austromelanelixia piliferella</td>\n      <td>Vulnerable</td>\n      <td>open</td>\n      <td>ALA_DR654_288</td>\n      <td>NaN</td>\n      <td>NaN</td>\n      <td>NaN</td>\n      <td>NaN</td>\n      <td>NaN</td>\n      <td>NaN</td>\n      <td>...</td>\n      <td>NaN</td>\n      <td>NaN</td>\n      <td>NaN</td>\n      <td>NaN</td>\n      <td>NaN</td>\n      <td>NaN</td>\n      <td>NaN</td>\n      <td>NaN</td>\n      <td>NaN</td>\n      <td>NaN</td>\n    </tr>\n    <tr>\n      <th>35</th>\n      <td>Austroparmelina pallida</td>\n      <td>Endangered</td>\n      <td>open</td>\n      <td>ALA_DR654_600</td>\n      <td>NaN</td>\n      <td>NaN</td>\n      <td>NaN</td>\n      <td>NaN</td>\n      <td>NaN</td>\n      <td>NaN</td>\n      <td>...</td>\n      <td>NaN</td>\n      <td>NaN</td>\n      <td>NaN</td>\n      <td>NaN</td>\n      <td>NaN</td>\n      <td>NaN</td>\n      <td>NaN</td>\n      <td>NaN</td>\n      <td>NaN</td>\n      <td>NaN</td>\n    </tr>\n    <tr>\n      <th>36</th>\n      <td>Austroparmelina whinrayi</td>\n      <td>Rare</td>\n      <td>open</td>\n      <td>ALA_DR654_351</td>\n      <td>NaN</td>\n      <td>NaN</td>\n      <td>NaN</td>\n      <td>NaN</td>\n      <td>NaN</td>\n      <td>NaN</td>\n      <td>...</td>\n      <td>NaN</td>\n      <td>NaN</td>\n      <td>NaN</td>\n      <td>NaN</td>\n      <td>NaN</td>\n      <td>NaN</td>\n      <td>NaN</td>\n      <td>NaN</td>\n      <td>NaN</td>\n      <td>NaN</td>\n    </tr>\n    <tr>\n      <th>...</th>\n      <td>...</td>\n      <td>...</td>\n      <td>...</td>\n      <td>...</td>\n      <td>...</td>\n      <td>...</td>\n      <td>...</td>\n      <td>...</td>\n      <td>...</td>\n      <td>...</td>\n      <td>...</td>\n      <td>...</td>\n      <td>...</td>\n      <td>...</td>\n      <td>...</td>\n      <td>...</td>\n      <td>...</td>\n      <td>...</td>\n      <td>...</td>\n      <td>...</td>\n      <td>...</td>\n    </tr>\n    <tr>\n      <th>589</th>\n      <td>Xanthoparmelia microphyllizans</td>\n      <td>Rare</td>\n      <td>open</td>\n      <td>ALA_DR654_530</td>\n      <td>NaN</td>\n      <td>NaN</td>\n      <td>NaN</td>\n      <td>NaN</td>\n      <td>NaN</td>\n      <td>NaN</td>\n      <td>...</td>\n      <td>NaN</td>\n      <td>NaN</td>\n      <td>NaN</td>\n      <td>NaN</td>\n      <td>NaN</td>\n      <td>NaN</td>\n      <td>NaN</td>\n      <td>NaN</td>\n      <td>NaN</td>\n      <td>NaN</td>\n    </tr>\n    <tr>\n      <th>593</th>\n      <td>Xanthoparmelia vicaria</td>\n      <td>Rare</td>\n      <td>open</td>\n      <td>ALA_DR654_353</td>\n      <td>NaN</td>\n      <td>NaN</td>\n      <td>NaN</td>\n      <td>NaN</td>\n      <td>NaN</td>\n      <td>NaN</td>\n      <td>...</td>\n      <td>NaN</td>\n      <td>NaN</td>\n      <td>NaN</td>\n      <td>NaN</td>\n      <td>NaN</td>\n      <td>NaN</td>\n      <td>NaN</td>\n      <td>NaN</td>\n      <td>NaN</td>\n      <td>NaN</td>\n    </tr>\n    <tr>\n      <th>594</th>\n      <td>Xanthoparmelia vicariella</td>\n      <td>Rare</td>\n      <td>open</td>\n      <td>ALA_DR654_354</td>\n      <td>NaN</td>\n      <td>NaN</td>\n      <td>NaN</td>\n      <td>NaN</td>\n      <td>NaN</td>\n      <td>NaN</td>\n      <td>...</td>\n      <td>NaN</td>\n      <td>NaN</td>\n      <td>NaN</td>\n      <td>NaN</td>\n      <td>NaN</td>\n      <td>NaN</td>\n      <td>NaN</td>\n      <td>NaN</td>\n      <td>NaN</td>\n      <td>NaN</td>\n    </tr>\n    <tr>\n      <th>600</th>\n      <td>Zearaja maugeana</td>\n      <td>Endangered</td>\n      <td>open</td>\n      <td>https://biodiversity.org.au/afd/taxa/0d9d194f-...</td>\n      <td>NaN</td>\n      <td>NaN</td>\n      <td>NaN</td>\n      <td>NaN</td>\n      <td>NaN</td>\n      <td>NaN</td>\n      <td>...</td>\n      <td>NaN</td>\n      <td>NaN</td>\n      <td>NaN</td>\n      <td>NaN</td>\n      <td>NaN</td>\n      <td>NaN</td>\n      <td>NaN</td>\n      <td>NaN</td>\n      <td>NaN</td>\n      <td>NaN</td>\n    </tr>\n    <tr>\n      <th>602</th>\n      <td>Zygophyllum billardierei</td>\n      <td>Rare</td>\n      <td>open</td>\n      <td>https://id.biodiversity.org.au/taxon/apni/5131...</td>\n      <td>NaN</td>\n      <td>NaN</td>\n      <td>NaN</td>\n      <td>NaN</td>\n      <td>NaN</td>\n      <td>NaN</td>\n      <td>...</td>\n      <td>NaN</td>\n      <td>NaN</td>\n      <td>NaN</td>\n      <td>NaN</td>\n      <td>NaN</td>\n      <td>NaN</td>\n      <td>NaN</td>\n      <td>NaN</td>\n      <td>NaN</td>\n      <td>NaN</td>\n    </tr>\n  </tbody>\n</table>\n<p>103 rows × 37 columns</p>\n</div>"
     },
     "execution_count": 47,
     "metadata": {},
     "output_type": "execute_result"
    }
   ],
   "source": [
    "# what didnt match to a taxon?\n",
    "unknownToInat = noinatstatus[noinatstatus['id'].isna()]\n",
    "unknownToInat"
   ],
   "metadata": {
    "collapsed": false,
    "pycharm": {
     "name": "#%%\n"
    }
   }
  },
  {
   "cell_type": "markdown",
   "source": [],
   "metadata": {
    "collapsed": false,
    "pycharm": {
     "name": "#%% md\n"
    }
   }
  },
  {
   "cell_type": "markdown",
   "source": [
    "### are there any that need to be removed?\n",
    "TAS sensitive list count: 1\n",
    "TAS conservation list count: 683\n",
    "TAS inat statuses count: 0\n",
    "\n",
    "updates to inat status: 67\n",
    "additional inat status: 0\n",
    "TAS statuses we can't find a taxon match for in iNaturalist: 617\n",
    "total: (explainable via the various genus/section entries that we matched to in the taxonomy)\n",
    "\n",
    "inat statuses left over:  that may need checking"
   ],
   "metadata": {
    "collapsed": false,
    "pycharm": {
     "name": "#%% md\n"
    }
   }
  },
  {
   "cell_type": "code",
   "execution_count": 48,
   "outputs": [
    {
     "data": {
      "text/plain": "     status_id taxon_id user_id place_id source_id  \\\n3353    267438  1413424  717122     6829             \n1251    152435    19250  708886     9994     16652   \n904     160736   353835  717122     6829             \n1249    152433    38633  708886     9994     16652   \n932     160737   401378  717122     6829             \n959     160741   405825  717122     6829             \n1252    152436    40743  708886     9994     16652   \n1248    152432    41326  708886     9994     16652   \n2588    160758   446738  717122     6829             \n1247    152431    73180  708886     9994     16652   \n1250    152434    74425  708886     9994     16652   \n2586    160759   958863  717122     6829             \n\n                                   authority            status  \\\n3353  Threatened Species Protection Act 1995        Endangered   \n1251                               NT NRETAS        endangered   \n904   Threatened Species Protection Act 1995        Endangered   \n1249                               NT NRETAS        endangered   \n932   Threatened Species Protection Act 1995        Endangered   \n959   Threatened Species Protection Act 1995  Presumed extinct   \n1252                               NT NRETAS        endangered   \n1248                               NT NRETAS        endangered   \n2588  Threatened Species Protection Act 1995        Endangered   \n1247                               NT NRETAS        endangered   \n1250                               NT NRETAS        endangered   \n2586  Threatened Species Protection Act 1995        Endangered   \n\n                                                    url description  \\\n3353  https://dpipwe.tas.gov.au/Documents/Pneumatopt...               \n1251  https://lists.ala.org.au/speciesListItem/list/...               \n904   https://dpipwe.tas.gov.au/Documents/Blechnum-n...               \n1249  https://lists.ala.org.au/speciesListItem/list/...               \n932   https://dpipwe.tas.gov.au/Documents/Blechnum%2...               \n959   https://dpipwe.tas.gov.au/Documents/Botrychium...               \n1252  https://lists.ala.org.au/speciesListItem/list/...               \n1248  https://lists.ala.org.au/speciesListItem/list/...               \n2588  https://dpipwe.tas.gov.au/Documents/Corunastyl...               \n1247  https://lists.ala.org.au/speciesListItem/list/...               \n1250  https://lists.ala.org.au/speciesListItem/list/...               \n2586  https://dpipwe.tas.gov.au/Documents/Corunastyl...               \n\n     geoprivacy  ...         genus specificEpithet infraspecificEpithet  \\\n3353   obscured  ...         Pakau       pennigera                        \n1251   obscured  ...     Polytelis      alexandrae                        \n904    obscured  ...        Doodia          aspera                        \n1249   obscured  ...   Bellatorias           obiri                        \n932    obscured  ...        Doodia         caudata                        \n959    obscured  ...                                                      \n1252   obscured  ...                                                      \n1248   obscured  ...    Macroderma           gigas                        \n2588   obscured  ...   Genoplesium        morrisii                        \n1247    private  ...     Pezoporus    occidentalis                        \n1250   obscured  ...  Hipposideros       inornatus                        \n2586             ...   Genoplesium      nudiscapum                        \n\n                  modified          scientificName taxonRank  \\\n3353  2022-09-25T23:02:37Z         Pakau pennigera   species   \n1251  2019-08-27T01:09:01Z    Polytelis alexandrae   species   \n904   2021-02-22T18:52:06Z           Doodia aspera   species   \n1249  2019-04-30T15:19:21Z       Bellatorias obiri   species   \n932   2021-02-15T17:49:20Z          Doodia caudata   species   \n959                           Sceptridium australe             \n1252                         Hipposideros stenotis             \n1248  2019-08-27T01:58:05Z        Macroderma gigas   species   \n2588  2020-08-17T06:18:44Z    Genoplesium morrisii   species   \n1247  2019-08-27T01:09:27Z  Pezoporus occidentalis   species   \n1250  2019-01-05T10:25:06Z  Hipposideros inornatus   species   \n2586  2022-10-26T09:34:12Z  Genoplesium nudiscapum   species   \n\n                                             references  \\\n3353  https://shop.brit.org/A-Generic-Classification...   \n1251  http://www.birdlife.org/datazone/speciesfactsh...   \n904   http://www.ubio.org/browser/details.php?nameba...   \n1249  http://reptile-database.reptarium.cz/search.ph...   \n932                                                       \n959                                                       \n1252                                                      \n1248  http://www.catalogueoflife.org/annual-checklis...   \n2588  http://www.catalogueoflife.org/annual-checklis...   \n1247  http://www.birdlife.org/datazone/speciesfactsh...   \n1250        http://www.iucnredlist.org/details/136739/0   \n2586                      https://eol.org/pages/1099120   \n\n           preferred_common_name is_active current_synonymous_taxon_ids  \n3353                                                                     \n1251                                                                     \n904                                                                      \n1249                                                                     \n932                                                                      \n959                 parsley fern     False                     [400050]  \n1252  Narrow-eared Roundleaf Bat     False                    [1431118]  \n1248                                                                     \n2588                                                                     \n1247                                                                     \n1250                                                                     \n2586                                                                     \n\n[12 rows x 34 columns]",
      "text/html": "<div>\n<style scoped>\n    .dataframe tbody tr th:only-of-type {\n        vertical-align: middle;\n    }\n\n    .dataframe tbody tr th {\n        vertical-align: top;\n    }\n\n    .dataframe thead th {\n        text-align: right;\n    }\n</style>\n<table border=\"1\" class=\"dataframe\">\n  <thead>\n    <tr style=\"text-align: right;\">\n      <th></th>\n      <th>status_id</th>\n      <th>taxon_id</th>\n      <th>user_id</th>\n      <th>place_id</th>\n      <th>source_id</th>\n      <th>authority</th>\n      <th>status</th>\n      <th>url</th>\n      <th>description</th>\n      <th>geoprivacy</th>\n      <th>...</th>\n      <th>genus</th>\n      <th>specificEpithet</th>\n      <th>infraspecificEpithet</th>\n      <th>modified</th>\n      <th>scientificName</th>\n      <th>taxonRank</th>\n      <th>references</th>\n      <th>preferred_common_name</th>\n      <th>is_active</th>\n      <th>current_synonymous_taxon_ids</th>\n    </tr>\n  </thead>\n  <tbody>\n    <tr>\n      <th>3353</th>\n      <td>267438</td>\n      <td>1413424</td>\n      <td>717122</td>\n      <td>6829</td>\n      <td></td>\n      <td>Threatened Species Protection Act 1995</td>\n      <td>Endangered</td>\n      <td>https://dpipwe.tas.gov.au/Documents/Pneumatopt...</td>\n      <td></td>\n      <td>obscured</td>\n      <td>...</td>\n      <td>Pakau</td>\n      <td>pennigera</td>\n      <td></td>\n      <td>2022-09-25T23:02:37Z</td>\n      <td>Pakau pennigera</td>\n      <td>species</td>\n      <td>https://shop.brit.org/A-Generic-Classification...</td>\n      <td></td>\n      <td></td>\n      <td></td>\n    </tr>\n    <tr>\n      <th>1251</th>\n      <td>152435</td>\n      <td>19250</td>\n      <td>708886</td>\n      <td>9994</td>\n      <td>16652</td>\n      <td>NT NRETAS</td>\n      <td>endangered</td>\n      <td>https://lists.ala.org.au/speciesListItem/list/...</td>\n      <td></td>\n      <td>obscured</td>\n      <td>...</td>\n      <td>Polytelis</td>\n      <td>alexandrae</td>\n      <td></td>\n      <td>2019-08-27T01:09:01Z</td>\n      <td>Polytelis alexandrae</td>\n      <td>species</td>\n      <td>http://www.birdlife.org/datazone/speciesfactsh...</td>\n      <td></td>\n      <td></td>\n      <td></td>\n    </tr>\n    <tr>\n      <th>904</th>\n      <td>160736</td>\n      <td>353835</td>\n      <td>717122</td>\n      <td>6829</td>\n      <td></td>\n      <td>Threatened Species Protection Act 1995</td>\n      <td>Endangered</td>\n      <td>https://dpipwe.tas.gov.au/Documents/Blechnum-n...</td>\n      <td></td>\n      <td>obscured</td>\n      <td>...</td>\n      <td>Doodia</td>\n      <td>aspera</td>\n      <td></td>\n      <td>2021-02-22T18:52:06Z</td>\n      <td>Doodia aspera</td>\n      <td>species</td>\n      <td>http://www.ubio.org/browser/details.php?nameba...</td>\n      <td></td>\n      <td></td>\n      <td></td>\n    </tr>\n    <tr>\n      <th>1249</th>\n      <td>152433</td>\n      <td>38633</td>\n      <td>708886</td>\n      <td>9994</td>\n      <td>16652</td>\n      <td>NT NRETAS</td>\n      <td>endangered</td>\n      <td>https://lists.ala.org.au/speciesListItem/list/...</td>\n      <td></td>\n      <td>obscured</td>\n      <td>...</td>\n      <td>Bellatorias</td>\n      <td>obiri</td>\n      <td></td>\n      <td>2019-04-30T15:19:21Z</td>\n      <td>Bellatorias obiri</td>\n      <td>species</td>\n      <td>http://reptile-database.reptarium.cz/search.ph...</td>\n      <td></td>\n      <td></td>\n      <td></td>\n    </tr>\n    <tr>\n      <th>932</th>\n      <td>160737</td>\n      <td>401378</td>\n      <td>717122</td>\n      <td>6829</td>\n      <td></td>\n      <td>Threatened Species Protection Act 1995</td>\n      <td>Endangered</td>\n      <td>https://dpipwe.tas.gov.au/Documents/Blechnum%2...</td>\n      <td></td>\n      <td>obscured</td>\n      <td>...</td>\n      <td>Doodia</td>\n      <td>caudata</td>\n      <td></td>\n      <td>2021-02-15T17:49:20Z</td>\n      <td>Doodia caudata</td>\n      <td>species</td>\n      <td></td>\n      <td></td>\n      <td></td>\n      <td></td>\n    </tr>\n    <tr>\n      <th>959</th>\n      <td>160741</td>\n      <td>405825</td>\n      <td>717122</td>\n      <td>6829</td>\n      <td></td>\n      <td>Threatened Species Protection Act 1995</td>\n      <td>Presumed extinct</td>\n      <td>https://dpipwe.tas.gov.au/Documents/Botrychium...</td>\n      <td></td>\n      <td>obscured</td>\n      <td>...</td>\n      <td></td>\n      <td></td>\n      <td></td>\n      <td></td>\n      <td>Sceptridium australe</td>\n      <td></td>\n      <td></td>\n      <td>parsley fern</td>\n      <td>False</td>\n      <td>[400050]</td>\n    </tr>\n    <tr>\n      <th>1252</th>\n      <td>152436</td>\n      <td>40743</td>\n      <td>708886</td>\n      <td>9994</td>\n      <td>16652</td>\n      <td>NT NRETAS</td>\n      <td>endangered</td>\n      <td>https://lists.ala.org.au/speciesListItem/list/...</td>\n      <td></td>\n      <td>obscured</td>\n      <td>...</td>\n      <td></td>\n      <td></td>\n      <td></td>\n      <td></td>\n      <td>Hipposideros stenotis</td>\n      <td></td>\n      <td></td>\n      <td>Narrow-eared Roundleaf Bat</td>\n      <td>False</td>\n      <td>[1431118]</td>\n    </tr>\n    <tr>\n      <th>1248</th>\n      <td>152432</td>\n      <td>41326</td>\n      <td>708886</td>\n      <td>9994</td>\n      <td>16652</td>\n      <td>NT NRETAS</td>\n      <td>endangered</td>\n      <td>https://lists.ala.org.au/speciesListItem/list/...</td>\n      <td></td>\n      <td>obscured</td>\n      <td>...</td>\n      <td>Macroderma</td>\n      <td>gigas</td>\n      <td></td>\n      <td>2019-08-27T01:58:05Z</td>\n      <td>Macroderma gigas</td>\n      <td>species</td>\n      <td>http://www.catalogueoflife.org/annual-checklis...</td>\n      <td></td>\n      <td></td>\n      <td></td>\n    </tr>\n    <tr>\n      <th>2588</th>\n      <td>160758</td>\n      <td>446738</td>\n      <td>717122</td>\n      <td>6829</td>\n      <td></td>\n      <td>Threatened Species Protection Act 1995</td>\n      <td>Endangered</td>\n      <td>https://dpipwe.tas.gov.au/Documents/Corunastyl...</td>\n      <td></td>\n      <td>obscured</td>\n      <td>...</td>\n      <td>Genoplesium</td>\n      <td>morrisii</td>\n      <td></td>\n      <td>2020-08-17T06:18:44Z</td>\n      <td>Genoplesium morrisii</td>\n      <td>species</td>\n      <td>http://www.catalogueoflife.org/annual-checklis...</td>\n      <td></td>\n      <td></td>\n      <td></td>\n    </tr>\n    <tr>\n      <th>1247</th>\n      <td>152431</td>\n      <td>73180</td>\n      <td>708886</td>\n      <td>9994</td>\n      <td>16652</td>\n      <td>NT NRETAS</td>\n      <td>endangered</td>\n      <td>https://lists.ala.org.au/speciesListItem/list/...</td>\n      <td></td>\n      <td>private</td>\n      <td>...</td>\n      <td>Pezoporus</td>\n      <td>occidentalis</td>\n      <td></td>\n      <td>2019-08-27T01:09:27Z</td>\n      <td>Pezoporus occidentalis</td>\n      <td>species</td>\n      <td>http://www.birdlife.org/datazone/speciesfactsh...</td>\n      <td></td>\n      <td></td>\n      <td></td>\n    </tr>\n    <tr>\n      <th>1250</th>\n      <td>152434</td>\n      <td>74425</td>\n      <td>708886</td>\n      <td>9994</td>\n      <td>16652</td>\n      <td>NT NRETAS</td>\n      <td>endangered</td>\n      <td>https://lists.ala.org.au/speciesListItem/list/...</td>\n      <td></td>\n      <td>obscured</td>\n      <td>...</td>\n      <td>Hipposideros</td>\n      <td>inornatus</td>\n      <td></td>\n      <td>2019-01-05T10:25:06Z</td>\n      <td>Hipposideros inornatus</td>\n      <td>species</td>\n      <td>http://www.iucnredlist.org/details/136739/0</td>\n      <td></td>\n      <td></td>\n      <td></td>\n    </tr>\n    <tr>\n      <th>2586</th>\n      <td>160759</td>\n      <td>958863</td>\n      <td>717122</td>\n      <td>6829</td>\n      <td></td>\n      <td>Threatened Species Protection Act 1995</td>\n      <td>Endangered</td>\n      <td>https://dpipwe.tas.gov.au/Documents/Corunastyl...</td>\n      <td></td>\n      <td></td>\n      <td>...</td>\n      <td>Genoplesium</td>\n      <td>nudiscapum</td>\n      <td></td>\n      <td>2022-10-26T09:34:12Z</td>\n      <td>Genoplesium nudiscapum</td>\n      <td>species</td>\n      <td>https://eol.org/pages/1099120</td>\n      <td></td>\n      <td></td>\n      <td></td>\n    </tr>\n  </tbody>\n</table>\n<p>12 rows × 34 columns</p>\n</div>"
     },
     "execution_count": 48,
     "metadata": {},
     "output_type": "execute_result"
    }
   ],
   "source": [
    "# inat statuses that aren't in added or updated\n",
    "notaddedupdated = inatstatuses[~inatstatuses['taxon_id'].isin(updates['taxon_id'])]\n",
    "notaddedupdated"
   ],
   "metadata": {
    "collapsed": false,
    "pycharm": {
     "name": "#%%\n"
    }
   }
  },
  {
   "cell_type": "code",
   "execution_count": 49,
   "outputs": [
    {
     "data": {
      "text/plain": "   Sensitive  Conservation  Statelist merge  Species iNat Comply  \\\n0          1           683              684                  676   \n\n   Species iNat non-Comply  Duplicate Information  Updates  Additions  \\\n0                        7                      0       73        500   \n\n   Not added updated  No Inat Status  Unknown to Inat  \n0                 12             603              103  ",
      "text/html": "<div>\n<style scoped>\n    .dataframe tbody tr th:only-of-type {\n        vertical-align: middle;\n    }\n\n    .dataframe tbody tr th {\n        vertical-align: top;\n    }\n\n    .dataframe thead th {\n        text-align: right;\n    }\n</style>\n<table border=\"1\" class=\"dataframe\">\n  <thead>\n    <tr style=\"text-align: right;\">\n      <th></th>\n      <th>Sensitive</th>\n      <th>Conservation</th>\n      <th>Statelist merge</th>\n      <th>Species iNat Comply</th>\n      <th>Species iNat non-Comply</th>\n      <th>Duplicate Information</th>\n      <th>Updates</th>\n      <th>Additions</th>\n      <th>Not added updated</th>\n      <th>No Inat Status</th>\n      <th>Unknown to Inat</th>\n    </tr>\n  </thead>\n  <tbody>\n    <tr>\n      <th>0</th>\n      <td>1</td>\n      <td>683</td>\n      <td>684</td>\n      <td>676</td>\n      <td>7</td>\n      <td>0</td>\n      <td>73</td>\n      <td>500</td>\n      <td>12</td>\n      <td>603</td>\n      <td>103</td>\n    </tr>\n  </tbody>\n</table>\n</div>"
     },
     "execution_count": 49,
     "metadata": {},
     "output_type": "execute_result"
    }
   ],
   "source": [
    "# Stats\n",
    "numsensitive = len(sensitivelist.index)\n",
    "numconservation = len(conservationlist.index)\n",
    "numupdates  = len(updates.index)\n",
    "numadditions  = len(additions.index)\n",
    "numnoinatstatus = len(noinatstatus.index)\n",
    "numunknownToInat = len(unknownToInat.index)\n",
    "numnotaddedupdated = len(notaddedupdated.index)\n",
    "numnoncomply = len(noncomply.index)\n",
    "numcomply = len(statelist.index)\n",
    "numdupinfo = len(dupinformation.index)\n",
    "d = {'Sensitive': [numsensitive],\n",
    "    'Conservation': [numconservation],\n",
    "    'Statelist merge': [numfullstatelist],\n",
    "    'Species iNat Comply' : [numcomply],\n",
    "    'Species iNat non-Comply': [numnoncomply],\n",
    "    'Duplicate Information': [numdupinfo],\n",
    "    'Updates': [numupdates],\n",
    "    'Additions': [numadditions],\n",
    "    'Not added updated': [numnotaddedupdated],\n",
    "    'No Inat Status': [numnoinatstatus],\n",
    "    'Unknown to Inat': [numunknownToInat]}\n",
    "\n",
    "statsdf = pd.DataFrame(data=d)\n",
    "statsdf"
   ],
   "metadata": {
    "collapsed": false,
    "pycharm": {
     "name": "#%%\n"
    }
   }
  }
 ],
 "metadata": {
  "kernelspec": {
   "display_name": "Python 3",
   "language": "python",
   "name": "python3"
  },
  "language_info": {
   "codemirror_mode": {
    "name": "ipython",
    "version": 2
   },
   "file_extension": ".py",
   "mimetype": "text/x-python",
   "name": "python",
   "nbconvert_exporter": "python",
   "pygments_lexer": "ipython2",
   "version": "2.7.6"
  }
 },
 "nbformat": 4,
 "nbformat_minor": 0
}