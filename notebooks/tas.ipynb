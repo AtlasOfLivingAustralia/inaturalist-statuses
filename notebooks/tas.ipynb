{
 "cells": [
  {
   "cell_type": "markdown",
   "source": [
    "# iNaturalist status updates by state - TAS\n",
    "\n",
    "Using the file produced in the collate-status-taxa.ipynb: `inat-aust-status-taxa.csv` (statuses joined to taxa names), generate lists to update iNaturalist statuses\n",
    "\n",
    "## Prep - common to all states\n",
    "1. Read in the inaturalist statuses & filter out this state\n",
    "2. Read in the state conservation and sensitive lists\n",
    "3. Prep fields incl IUCN equivalent mappings and matching to iNat taxonomy  \n",
    "4. Merge and compare the state and inaturalist lists\n",
    "5. Create update/removals list\n",
    "6. Create additions list\n",
    "7. Save files\n",
    "\n",
    "## 1. Read in the inaturalist statuses & filter out TAS"
   ],
   "metadata": {
    "collapsed": false,
    "pycharm": {
     "name": "#%% md\n"
    }
   }
  },
  {
   "cell_type": "code",
   "execution_count": 1,
   "metadata": {
    "collapsed": true,
    "pycharm": {
     "name": "#%%\n"
    },
    "ExecuteTime": {
     "end_time": "2024-01-20T03:36:09.253596Z",
     "start_time": "2024-01-20T03:36:08.711828Z"
    }
   },
   "outputs": [
    {
     "data": {
      "text/plain": "inat_status\nEndangered          197\nPresumed Extinct     19\nPresumed extinct      1\nRare                255\nVulnerable          108\nendangered            1\ndtype: int64"
     },
     "execution_count": 1,
     "metadata": {},
     "output_type": "execute_result"
    }
   ],
   "source": [
    "import pandas as pd\n",
    "import sys\n",
    "import os\n",
    "projectdir = os.path.dirname(os.getcwd()) + \"/\" # parent dir of cwd\n",
    "sourcedir = projectdir + \"data/in/\"\n",
    "sys.path.append(os.path.abspath(projectdir + \"notebooks/includes/\"))\n",
    "import list_functions  as lf\n",
    "\n",
    "# read in the statuses file\n",
    "taxastatus = pd.read_csv(sourcedir + \"inat-aust-status-taxa.csv\", encoding='UTF-8',na_filter=False,dtype=str)\n",
    "\n",
    "# filter out ACT entries\n",
    "def filter_state_statuses(stateregex: str, urlregex: str):\n",
    "    authoritydf = taxastatus['authority'].drop_duplicates().sort_values()\n",
    "    authoritydf = authoritydf[pd.Series(authoritydf).str.contains(stateregex)]\n",
    "    urldf = taxastatus['url'].drop_duplicates().sort_values()\n",
    "    urldf = urldf[pd.Series(urldf).str.contains(urlregex)]\n",
    "    placedisplaydf = taxastatus['place_display_name'].drop_duplicates().sort_values()\n",
    "    placedisplaydf = placedisplaydf[pd.Series(placedisplaydf).str.contains(stateregex)]\n",
    "    placedf = taxastatus['place_name'].drop_duplicates().sort_values()\n",
    "    placedf = placedf[pd.Series(placedf).str.contains(stateregex)]\n",
    "    # concat all and remove duplicates\n",
    "    statedf = pd.concat([taxastatus.apply(lambda row: row[taxastatus['place_display_name'].isin(placedisplaydf)]),\n",
    "                         taxastatus.apply(lambda row: row[taxastatus['place_name'].isin(placedf)]),\n",
    "                         taxastatus.apply(lambda row: row[taxastatus['url'].isin(urldf)]),\n",
    "                         taxastatus.apply(\n",
    "                             lambda row: row[taxastatus['authority'].isin(authoritydf)])]).drop_duplicates()\n",
    "    return statedf.sort_values(['taxon_id', 'user_id'])\n",
    "\n",
    "inatstatuses = filter_state_statuses(\"Tasmania|TAS\", \".tas.gov\")\n",
    "inatstatuses = inatstatuses.add_prefix(\"inat_\")\n",
    "inatstatuses.groupby(['inat_status']).size()"
   ]
  },
  {
   "cell_type": "markdown",
   "source": [
    "### 3. State lists"
   ],
   "metadata": {
    "collapsed": false,
    "pycharm": {
     "name": "#%% md\n"
    }
   }
  },
  {
   "cell_type": "code",
   "execution_count": 4,
   "outputs": [],
   "source": [
    "# %%script echo skipping # comment this line to download dataset from lists.ala.org.au the web and save locally\n",
    "\n",
    "sensitivelist = lf.download_ala_specieslist(\"https://lists.ala.org.au/ws/speciesListItems/dr491?max=10000&includeKVP=true\")\n",
    "# sensitivelist = lf.kvp_to_columns(sensitivelist)   # kvp values null\n",
    "sensitivelist.to_csv(sourcedir + \"state-lists/tas-ala-sensitive.csv\", index=False)\n",
    "conservationlist = lf.download_ala_specieslist(\"https://lists.ala.org.au/ws/speciesListItems/dr654?max=10000&includeKVP=true\")\n",
    "conservationlist = lf.kvp_to_columns(conservationlist)\n",
    "conservationlist.to_csv(sourcedir + \"state-lists/tas-ala-conservation.csv\", index=False)"
   ],
   "metadata": {
    "collapsed": false,
    "pycharm": {
     "name": "#%%\n"
    },
    "ExecuteTime": {
     "end_time": "2024-01-20T03:41:01.717141Z",
     "start_time": "2024-01-20T03:40:59.533913Z"
    }
   }
  },
  {
   "cell_type": "code",
   "execution_count": 15,
   "outputs": [
    {
     "name": "stdout",
     "output_type": "stream",
     "text": [
      "Conservation list entries:685\n",
      "Sensitive list entries:3\n"
     ]
    },
    {
     "data": {
      "text/plain": "    state_id_conservation            state_scientificName  \\\n0                 4380224                Acacia axillaris   \n1                 4379763               Acacia pataczekii   \n2                 4380367             Acacia siculiformis   \n3                 4380388               Acacia ulicifolia   \n4                 4380283                Acacia uncifolia   \n..                    ...                             ...   \n681               4380076        Thylacinus cynocephalus    \n682               4380182             Thymichthys politus   \n683               4379921  Tyto novaehollandiae castanops   \n684               4380426                Zearaja maugeana   \n685                   NaN              Caladenia vulgaris   \n\n                               state_lsid_conservation  \\\n0     https://id.biodiversity.org.au/node/apni/2911902   \n1     https://id.biodiversity.org.au/node/apni/2913609   \n2     https://id.biodiversity.org.au/node/apni/2888960   \n3     https://id.biodiversity.org.au/node/apni/2907350   \n4     https://id.biodiversity.org.au/node/apni/2916270   \n..                                                 ...   \n681  https://biodiversity.org.au/afd/taxa/97764bed-...   \n682  https://biodiversity.org.au/afd/taxa/14e659fa-...   \n683  https://biodiversity.org.au/afd/taxa/2c30d58b-...   \n684  https://biodiversity.org.au/afd/taxa/0d9d194f-...   \n685                                                NaN   \n\n    state_status_conservation state_geoprivacy_conservation  \\\n0                  Vulnerable                          open   \n1                        Rare                          open   \n2                        Rare                          open   \n3                        Rare                          open   \n4                        Rare                          open   \n..                        ...                           ...   \n681                   Extinct                          open   \n682                Endangered                          open   \n683                Endangered                          open   \n684                Endangered                          open   \n685                       NaN                           NaN   \n\n               state_authority_conservation state_id_sensitive  \\\n0    Threatened Species Protection Act 1995                NaN   \n1    Threatened Species Protection Act 1995                NaN   \n2    Threatened Species Protection Act 1995                NaN   \n3    Threatened Species Protection Act 1995                NaN   \n4    Threatened Species Protection Act 1995                NaN   \n..                                      ...                ...   \n681  Threatened Species Protection Act 1995                NaN   \n682  Threatened Species Protection Act 1995                NaN   \n683  Threatened Species Protection Act 1995                NaN   \n684  Threatened Species Protection Act 1995                NaN   \n685                                     NaN            4402225   \n\n                                  state_lsid_sensitive  \\\n0                                                  NaN   \n1                                                  NaN   \n2                                                  NaN   \n3                                                  NaN   \n4                                                  NaN   \n..                                                 ...   \n681                                                NaN   \n682                                                NaN   \n683                                                NaN   \n684                                                NaN   \n685  https://id.biodiversity.org.au/taxon/apni/5139...   \n\n    state_geoprivacy_sensitive state_status_sensitive  \\\n0                          NaN                    NaN   \n1                          NaN                    NaN   \n2                          NaN                    NaN   \n3                          NaN                    NaN   \n4                          NaN                    NaN   \n..                         ...                    ...   \n681                        NaN                    NaN   \n682                        NaN                    NaN   \n683                        NaN                    NaN   \n684                        NaN                    NaN   \n685                   obscured              Sensitive   \n\n    state_authority_sensitive state_status  \\\n0                         NaN   Vulnerable   \n1                         NaN         Rare   \n2                         NaN         Rare   \n3                         NaN         Rare   \n4                         NaN         Rare   \n..                        ...          ...   \n681                       NaN      Extinct   \n682                       NaN   Endangered   \n683                       NaN   Endangered   \n684                       NaN   Endangered   \n685                      todo    Sensitive   \n\n                            state_authority state_geoprivacy  \n0    Threatened Species Protection Act 1995             open  \n1    Threatened Species Protection Act 1995             open  \n2    Threatened Species Protection Act 1995             open  \n3    Threatened Species Protection Act 1995             open  \n4    Threatened Species Protection Act 1995             open  \n..                                      ...              ...  \n681  Threatened Species Protection Act 1995             open  \n682  Threatened Species Protection Act 1995             open  \n683  Threatened Species Protection Act 1995             open  \n684  Threatened Species Protection Act 1995             open  \n685                                    todo         obscured  \n\n[686 rows x 14 columns]",
      "text/html": "<div>\n<style scoped>\n    .dataframe tbody tr th:only-of-type {\n        vertical-align: middle;\n    }\n\n    .dataframe tbody tr th {\n        vertical-align: top;\n    }\n\n    .dataframe thead th {\n        text-align: right;\n    }\n</style>\n<table border=\"1\" class=\"dataframe\">\n  <thead>\n    <tr style=\"text-align: right;\">\n      <th></th>\n      <th>state_id_conservation</th>\n      <th>state_scientificName</th>\n      <th>state_lsid_conservation</th>\n      <th>state_status_conservation</th>\n      <th>state_geoprivacy_conservation</th>\n      <th>state_authority_conservation</th>\n      <th>state_id_sensitive</th>\n      <th>state_lsid_sensitive</th>\n      <th>state_geoprivacy_sensitive</th>\n      <th>state_status_sensitive</th>\n      <th>state_authority_sensitive</th>\n      <th>state_status</th>\n      <th>state_authority</th>\n      <th>state_geoprivacy</th>\n    </tr>\n  </thead>\n  <tbody>\n    <tr>\n      <th>0</th>\n      <td>4380224</td>\n      <td>Acacia axillaris</td>\n      <td>https://id.biodiversity.org.au/node/apni/2911902</td>\n      <td>Vulnerable</td>\n      <td>open</td>\n      <td>Threatened Species Protection Act 1995</td>\n      <td>NaN</td>\n      <td>NaN</td>\n      <td>NaN</td>\n      <td>NaN</td>\n      <td>NaN</td>\n      <td>Vulnerable</td>\n      <td>Threatened Species Protection Act 1995</td>\n      <td>open</td>\n    </tr>\n    <tr>\n      <th>1</th>\n      <td>4379763</td>\n      <td>Acacia pataczekii</td>\n      <td>https://id.biodiversity.org.au/node/apni/2913609</td>\n      <td>Rare</td>\n      <td>open</td>\n      <td>Threatened Species Protection Act 1995</td>\n      <td>NaN</td>\n      <td>NaN</td>\n      <td>NaN</td>\n      <td>NaN</td>\n      <td>NaN</td>\n      <td>Rare</td>\n      <td>Threatened Species Protection Act 1995</td>\n      <td>open</td>\n    </tr>\n    <tr>\n      <th>2</th>\n      <td>4380367</td>\n      <td>Acacia siculiformis</td>\n      <td>https://id.biodiversity.org.au/node/apni/2888960</td>\n      <td>Rare</td>\n      <td>open</td>\n      <td>Threatened Species Protection Act 1995</td>\n      <td>NaN</td>\n      <td>NaN</td>\n      <td>NaN</td>\n      <td>NaN</td>\n      <td>NaN</td>\n      <td>Rare</td>\n      <td>Threatened Species Protection Act 1995</td>\n      <td>open</td>\n    </tr>\n    <tr>\n      <th>3</th>\n      <td>4380388</td>\n      <td>Acacia ulicifolia</td>\n      <td>https://id.biodiversity.org.au/node/apni/2907350</td>\n      <td>Rare</td>\n      <td>open</td>\n      <td>Threatened Species Protection Act 1995</td>\n      <td>NaN</td>\n      <td>NaN</td>\n      <td>NaN</td>\n      <td>NaN</td>\n      <td>NaN</td>\n      <td>Rare</td>\n      <td>Threatened Species Protection Act 1995</td>\n      <td>open</td>\n    </tr>\n    <tr>\n      <th>4</th>\n      <td>4380283</td>\n      <td>Acacia uncifolia</td>\n      <td>https://id.biodiversity.org.au/node/apni/2916270</td>\n      <td>Rare</td>\n      <td>open</td>\n      <td>Threatened Species Protection Act 1995</td>\n      <td>NaN</td>\n      <td>NaN</td>\n      <td>NaN</td>\n      <td>NaN</td>\n      <td>NaN</td>\n      <td>Rare</td>\n      <td>Threatened Species Protection Act 1995</td>\n      <td>open</td>\n    </tr>\n    <tr>\n      <th>...</th>\n      <td>...</td>\n      <td>...</td>\n      <td>...</td>\n      <td>...</td>\n      <td>...</td>\n      <td>...</td>\n      <td>...</td>\n      <td>...</td>\n      <td>...</td>\n      <td>...</td>\n      <td>...</td>\n      <td>...</td>\n      <td>...</td>\n      <td>...</td>\n    </tr>\n    <tr>\n      <th>681</th>\n      <td>4380076</td>\n      <td>Thylacinus cynocephalus</td>\n      <td>https://biodiversity.org.au/afd/taxa/97764bed-...</td>\n      <td>Extinct</td>\n      <td>open</td>\n      <td>Threatened Species Protection Act 1995</td>\n      <td>NaN</td>\n      <td>NaN</td>\n      <td>NaN</td>\n      <td>NaN</td>\n      <td>NaN</td>\n      <td>Extinct</td>\n      <td>Threatened Species Protection Act 1995</td>\n      <td>open</td>\n    </tr>\n    <tr>\n      <th>682</th>\n      <td>4380182</td>\n      <td>Thymichthys politus</td>\n      <td>https://biodiversity.org.au/afd/taxa/14e659fa-...</td>\n      <td>Endangered</td>\n      <td>open</td>\n      <td>Threatened Species Protection Act 1995</td>\n      <td>NaN</td>\n      <td>NaN</td>\n      <td>NaN</td>\n      <td>NaN</td>\n      <td>NaN</td>\n      <td>Endangered</td>\n      <td>Threatened Species Protection Act 1995</td>\n      <td>open</td>\n    </tr>\n    <tr>\n      <th>683</th>\n      <td>4379921</td>\n      <td>Tyto novaehollandiae castanops</td>\n      <td>https://biodiversity.org.au/afd/taxa/2c30d58b-...</td>\n      <td>Endangered</td>\n      <td>open</td>\n      <td>Threatened Species Protection Act 1995</td>\n      <td>NaN</td>\n      <td>NaN</td>\n      <td>NaN</td>\n      <td>NaN</td>\n      <td>NaN</td>\n      <td>Endangered</td>\n      <td>Threatened Species Protection Act 1995</td>\n      <td>open</td>\n    </tr>\n    <tr>\n      <th>684</th>\n      <td>4380426</td>\n      <td>Zearaja maugeana</td>\n      <td>https://biodiversity.org.au/afd/taxa/0d9d194f-...</td>\n      <td>Endangered</td>\n      <td>open</td>\n      <td>Threatened Species Protection Act 1995</td>\n      <td>NaN</td>\n      <td>NaN</td>\n      <td>NaN</td>\n      <td>NaN</td>\n      <td>NaN</td>\n      <td>Endangered</td>\n      <td>Threatened Species Protection Act 1995</td>\n      <td>open</td>\n    </tr>\n    <tr>\n      <th>685</th>\n      <td>NaN</td>\n      <td>Caladenia vulgaris</td>\n      <td>NaN</td>\n      <td>NaN</td>\n      <td>NaN</td>\n      <td>NaN</td>\n      <td>4402225</td>\n      <td>https://id.biodiversity.org.au/taxon/apni/5139...</td>\n      <td>obscured</td>\n      <td>Sensitive</td>\n      <td>todo</td>\n      <td>Sensitive</td>\n      <td>todo</td>\n      <td>obscured</td>\n    </tr>\n  </tbody>\n</table>\n<p>686 rows × 14 columns</p>\n</div>"
     },
     "execution_count": 15,
     "metadata": {},
     "output_type": "execute_result"
    }
   ],
   "source": [
    "# Read list data\n",
    "sensitivelist = pd.read_csv(sourcedir + \"state-lists/tas-ala-sensitive.csv\", dtype=str)\n",
    "sensitivelist['geoprivacy'] = 'obscured'\n",
    "sensitivelist['status'] = 'Sensitive'\n",
    "sensitivelist['authority'] = \"todo\"\n",
    "conservationlist = pd.read_csv(sourcedir + \"state-lists/tas-ala-conservation.csv\", dtype=str)\n",
    "conservationlist['geoprivacy'] = 'open'\n",
    "conservationlist['authority'] = \"Threatened Species Protection Act 1995\"\n",
    "\n",
    "statelist = conservationlist[['id','name','lsid','status','geoprivacy','authority']].merge(sensitivelist[['id','name','lsid','geoprivacy','status','authority']], how=\"outer\",on='name',suffixes=('_conservation', '_sensitive'))\n",
    "statelist['status'] = statelist['status_conservation'].fillna(statelist['status_sensitive'])\n",
    "statelist['authority'] = statelist['authority_conservation'].fillna(statelist['authority_sensitive'])\n",
    "statelist['geoprivacy'] = statelist['geoprivacy_sensitive'].fillna(statelist['geoprivacy_conservation'])\n",
    "statelist = statelist.rename(columns = {'name':'scientificName'})\n",
    "statelist = statelist.add_prefix(\"state_\")\n",
    "print(\"Conservation list entries:\" + str(len(conservationlist)))\n",
    "print(\"Sensitive list entries:\" + str(len(sensitivelist)))\n",
    "statelist"
   ],
   "metadata": {
    "collapsed": false,
    "pycharm": {
     "name": "#%%\n"
    },
    "ExecuteTime": {
     "end_time": "2024-01-20T03:57:25.098492Z",
     "start_time": "2024-01-20T03:57:25.081646Z"
    }
   }
  },
  {
   "cell_type": "code",
   "execution_count": 16,
   "outputs": [
    {
     "data": {
      "text/plain": "state_status\nEndangered    226\nExtinct        28\nRare          310\nSensitive       1\nVulnerable    121\ndtype: int64"
     },
     "execution_count": 16,
     "metadata": {},
     "output_type": "execute_result"
    }
   ],
   "source": [
    "statelist.groupby('state_status',dropna=False).size()"
   ],
   "metadata": {
    "collapsed": false,
    "pycharm": {
     "name": "#%%\n"
    },
    "ExecuteTime": {
     "end_time": "2024-01-20T03:57:29.635469Z",
     "start_time": "2024-01-20T03:57:29.626146Z"
    }
   }
  },
  {
   "cell_type": "markdown",
   "source": [
    "### 4. Equivalent IUCN statuses\n",
    "Ensure these match up to the `state_status` values"
   ],
   "metadata": {
    "collapsed": false,
    "pycharm": {
     "name": "#%% md\n"
    }
   }
  },
  {
   "cell_type": "code",
   "execution_count": 7,
   "outputs": [],
   "source": [
    "iucnStatusMappings = {\n",
    "    'Least concern':'10',\n",
    "    'Special least concern':'10',\n",
    "    'Critically Endangered':'50',\n",
    "    'Endangered':'40',\n",
    "    'Vulnerable':'30',\n",
    "    'Extinct':'70',\n",
    "    'Extinct in the wild':'70',\n",
    "    'Near Threatened':'20',\n",
    "    'Sensitive':'30',\n",
    "    'Rare':'30'\n",
    "}"
   ],
   "metadata": {
    "collapsed": false,
    "pycharm": {
     "name": "#%%\n"
    },
    "ExecuteTime": {
     "end_time": "2024-01-20T03:42:49.303135Z",
     "start_time": "2024-01-20T03:42:49.298750Z"
    }
   }
  },
  {
   "cell_type": "markdown",
   "source": [
    "### 5. Determine best place ID to use"
   ],
   "metadata": {
    "collapsed": false,
    "pycharm": {
     "name": "#%% md\n"
    }
   }
  },
  {
   "cell_type": "code",
   "execution_count": 8,
   "outputs": [
    {
     "data": {
      "text/plain": "inat_place_id  inat_place_name     inat_place_display_name\n6829           Tasmania            Tasmania, AU               580\n9994           Northern Territory  Northern Territory, AU       1\nName: inat_place_id, dtype: int64"
     },
     "execution_count": 8,
     "metadata": {},
     "output_type": "execute_result"
    }
   ],
   "source": [
    "inatstatuses.groupby(['inat_place_id','inat_place_name','inat_place_display_name'])['inat_place_id'].count()\n",
    "# looks like 6829"
   ],
   "metadata": {
    "collapsed": false,
    "pycharm": {
     "name": "#%%\n"
    },
    "ExecuteTime": {
     "end_time": "2024-01-20T03:43:41.390997Z",
     "start_time": "2024-01-20T03:43:41.383331Z"
    }
   }
  },
  {
   "cell_type": "markdown",
   "source": [
    "## Merge iNaturalist statuses with State sensitive list on scientificName"
   ],
   "metadata": {
    "collapsed": false,
    "pycharm": {
     "name": "#%% md\n"
    }
   }
  },
  {
   "cell_type": "code",
   "execution_count": 17,
   "outputs": [
    {
     "data": {
      "text/plain": "               state_scientificName state_status state_geoprivacy  \\\n0                  Acacia axillaris   Vulnerable             open   \n1                 Acacia pataczekii         Rare             open   \n2               Acacia siculiformis         Rare             open   \n3                 Acacia ulicifolia         Rare             open   \n4                  Acacia uncifolia         Rare             open   \n..                              ...          ...              ...   \n681        Thylacinus cynocephalus       Extinct             open   \n682             Thymichthys politus   Endangered             open   \n683  Tyto novaehollandiae castanops   Endangered             open   \n684                Zearaja maugeana   Endangered             open   \n685              Caladenia vulgaris    Sensitive         obscured   \n\n                               state_lsid_conservation  \\\n0     https://id.biodiversity.org.au/node/apni/2911902   \n1     https://id.biodiversity.org.au/node/apni/2913609   \n2     https://id.biodiversity.org.au/node/apni/2888960   \n3     https://id.biodiversity.org.au/node/apni/2907350   \n4     https://id.biodiversity.org.au/node/apni/2916270   \n..                                                 ...   \n681  https://biodiversity.org.au/afd/taxa/97764bed-...   \n682  https://biodiversity.org.au/afd/taxa/14e659fa-...   \n683  https://biodiversity.org.au/afd/taxa/2c30d58b-...   \n684  https://biodiversity.org.au/afd/taxa/0d9d194f-...   \n685                                                NaN   \n\n                                  state_lsid_sensitive  \\\n0                                                  NaN   \n1                                                  NaN   \n2                                                  NaN   \n3                                                  NaN   \n4                                                  NaN   \n..                                                 ...   \n681                                                NaN   \n682                                                NaN   \n683                                                NaN   \n684                                                NaN   \n685  https://id.biodiversity.org.au/taxon/apni/5139...   \n\n                            state_authority inat_taxon_id  \\\n0    Threatened Species Protection Act 1995        775192   \n1    Threatened Species Protection Act 1995       1254534   \n2    Threatened Species Protection Act 1995        567724   \n3    Threatened Species Protection Act 1995        139880   \n4    Threatened Species Protection Act 1995        560392   \n..                                      ...           ...   \n681  Threatened Species Protection Act 1995           NaN   \n682  Threatened Species Protection Act 1995       1316897   \n683  Threatened Species Protection Act 1995        627135   \n684  Threatened Species Protection Act 1995        115239   \n685                                    todo        516248   \n\n                    inat_taxon_name   inat_rank inat_observations_count  \\\n0                  Acacia axillaris     species                       2   \n1                 Acacia pataczekii     species                       1   \n2               Acacia siculiformis     species                      39   \n3                 Acacia ulicifolia     species                    2249   \n4                  Acacia uncifolia     species                     170   \n..                              ...         ...                     ...   \n681                             NaN         NaN                     NaN   \n682             Thymichthys politus     species                      15   \n683  Tyto novaehollandiae castanops  subspecies                      17   \n684                Zearaja maugeana     species                       1   \n685              Caladenia vulgaris     species                     122   \n\n    inat_is_active  \n0                t  \n1                t  \n2                t  \n3                t  \n4                t  \n..             ...  \n681            NaN  \n682              t  \n683              t  \n684              t  \n685              t  \n\n[686 rows x 11 columns]",
      "text/html": "<div>\n<style scoped>\n    .dataframe tbody tr th:only-of-type {\n        vertical-align: middle;\n    }\n\n    .dataframe tbody tr th {\n        vertical-align: top;\n    }\n\n    .dataframe thead th {\n        text-align: right;\n    }\n</style>\n<table border=\"1\" class=\"dataframe\">\n  <thead>\n    <tr style=\"text-align: right;\">\n      <th></th>\n      <th>state_scientificName</th>\n      <th>state_status</th>\n      <th>state_geoprivacy</th>\n      <th>state_lsid_conservation</th>\n      <th>state_lsid_sensitive</th>\n      <th>state_authority</th>\n      <th>inat_taxon_id</th>\n      <th>inat_taxon_name</th>\n      <th>inat_rank</th>\n      <th>inat_observations_count</th>\n      <th>inat_is_active</th>\n    </tr>\n  </thead>\n  <tbody>\n    <tr>\n      <th>0</th>\n      <td>Acacia axillaris</td>\n      <td>Vulnerable</td>\n      <td>open</td>\n      <td>https://id.biodiversity.org.au/node/apni/2911902</td>\n      <td>NaN</td>\n      <td>Threatened Species Protection Act 1995</td>\n      <td>775192</td>\n      <td>Acacia axillaris</td>\n      <td>species</td>\n      <td>2</td>\n      <td>t</td>\n    </tr>\n    <tr>\n      <th>1</th>\n      <td>Acacia pataczekii</td>\n      <td>Rare</td>\n      <td>open</td>\n      <td>https://id.biodiversity.org.au/node/apni/2913609</td>\n      <td>NaN</td>\n      <td>Threatened Species Protection Act 1995</td>\n      <td>1254534</td>\n      <td>Acacia pataczekii</td>\n      <td>species</td>\n      <td>1</td>\n      <td>t</td>\n    </tr>\n    <tr>\n      <th>2</th>\n      <td>Acacia siculiformis</td>\n      <td>Rare</td>\n      <td>open</td>\n      <td>https://id.biodiversity.org.au/node/apni/2888960</td>\n      <td>NaN</td>\n      <td>Threatened Species Protection Act 1995</td>\n      <td>567724</td>\n      <td>Acacia siculiformis</td>\n      <td>species</td>\n      <td>39</td>\n      <td>t</td>\n    </tr>\n    <tr>\n      <th>3</th>\n      <td>Acacia ulicifolia</td>\n      <td>Rare</td>\n      <td>open</td>\n      <td>https://id.biodiversity.org.au/node/apni/2907350</td>\n      <td>NaN</td>\n      <td>Threatened Species Protection Act 1995</td>\n      <td>139880</td>\n      <td>Acacia ulicifolia</td>\n      <td>species</td>\n      <td>2249</td>\n      <td>t</td>\n    </tr>\n    <tr>\n      <th>4</th>\n      <td>Acacia uncifolia</td>\n      <td>Rare</td>\n      <td>open</td>\n      <td>https://id.biodiversity.org.au/node/apni/2916270</td>\n      <td>NaN</td>\n      <td>Threatened Species Protection Act 1995</td>\n      <td>560392</td>\n      <td>Acacia uncifolia</td>\n      <td>species</td>\n      <td>170</td>\n      <td>t</td>\n    </tr>\n    <tr>\n      <th>...</th>\n      <td>...</td>\n      <td>...</td>\n      <td>...</td>\n      <td>...</td>\n      <td>...</td>\n      <td>...</td>\n      <td>...</td>\n      <td>...</td>\n      <td>...</td>\n      <td>...</td>\n      <td>...</td>\n    </tr>\n    <tr>\n      <th>681</th>\n      <td>Thylacinus cynocephalus</td>\n      <td>Extinct</td>\n      <td>open</td>\n      <td>https://biodiversity.org.au/afd/taxa/97764bed-...</td>\n      <td>NaN</td>\n      <td>Threatened Species Protection Act 1995</td>\n      <td>NaN</td>\n      <td>NaN</td>\n      <td>NaN</td>\n      <td>NaN</td>\n      <td>NaN</td>\n    </tr>\n    <tr>\n      <th>682</th>\n      <td>Thymichthys politus</td>\n      <td>Endangered</td>\n      <td>open</td>\n      <td>https://biodiversity.org.au/afd/taxa/14e659fa-...</td>\n      <td>NaN</td>\n      <td>Threatened Species Protection Act 1995</td>\n      <td>1316897</td>\n      <td>Thymichthys politus</td>\n      <td>species</td>\n      <td>15</td>\n      <td>t</td>\n    </tr>\n    <tr>\n      <th>683</th>\n      <td>Tyto novaehollandiae castanops</td>\n      <td>Endangered</td>\n      <td>open</td>\n      <td>https://biodiversity.org.au/afd/taxa/2c30d58b-...</td>\n      <td>NaN</td>\n      <td>Threatened Species Protection Act 1995</td>\n      <td>627135</td>\n      <td>Tyto novaehollandiae castanops</td>\n      <td>subspecies</td>\n      <td>17</td>\n      <td>t</td>\n    </tr>\n    <tr>\n      <th>684</th>\n      <td>Zearaja maugeana</td>\n      <td>Endangered</td>\n      <td>open</td>\n      <td>https://biodiversity.org.au/afd/taxa/0d9d194f-...</td>\n      <td>NaN</td>\n      <td>Threatened Species Protection Act 1995</td>\n      <td>115239</td>\n      <td>Zearaja maugeana</td>\n      <td>species</td>\n      <td>1</td>\n      <td>t</td>\n    </tr>\n    <tr>\n      <th>685</th>\n      <td>Caladenia vulgaris</td>\n      <td>Sensitive</td>\n      <td>obscured</td>\n      <td>NaN</td>\n      <td>https://id.biodiversity.org.au/taxon/apni/5139...</td>\n      <td>todo</td>\n      <td>516248</td>\n      <td>Caladenia vulgaris</td>\n      <td>species</td>\n      <td>122</td>\n      <td>t</td>\n    </tr>\n  </tbody>\n</table>\n<p>686 rows × 11 columns</p>\n</div>"
     },
     "execution_count": 17,
     "metadata": {},
     "output_type": "execute_result"
    }
   ],
   "source": [
    "# set placeid\n",
    "place_id = 6829\n",
    "# get the inaturalist taxonomy matches for additions \n",
    "inattaxa = pd.read_csv(sourcedir + \"inaturalist-australia-9/inaturalist-australia-9-taxa.csv\",dtype=str,usecols=['id','name','rank','observations_count','is_active'])\n",
    "inattaxa = inattaxa[inattaxa['is_active'] == 't']\n",
    "inattaxa = inattaxa.rename(columns = {'id':'taxon_id','name':'taxon_name'})\n",
    "inattaxa = inattaxa.add_prefix(\"inat_\")\n",
    "statelist = statelist[['state_scientificName','state_status','state_geoprivacy', 'state_lsid_conservation','state_lsid_sensitive','state_authority']].merge(inattaxa,how=\"left\",left_on='state_scientificName',right_on='inat_taxon_name',suffixes=(None,'_inat'))\n",
    "statelist\n"
   ],
   "metadata": {
    "collapsed": false,
    "pycharm": {
     "name": "#%%\n"
    },
    "ExecuteTime": {
     "end_time": "2024-01-20T03:57:36.815788Z",
     "start_time": "2024-01-20T03:57:34.858062Z"
    }
   }
  },
  {
   "cell_type": "code",
   "execution_count": 18,
   "outputs": [
    {
     "data": {
      "text/plain": "action\nADD           10\nNO CHANGE    411\nNO MATCH     249\nREMOVE       154\nUPDATE        16\ndtype: int64"
     },
     "execution_count": 18,
     "metadata": {},
     "output_type": "execute_result"
    }
   ],
   "source": [
    "# prepare the export fields, common to New template and Update template\n",
    "mergedstatuses = statelist.merge(inatstatuses,how=\"outer\",left_on='state_scientificName',right_on='inat_scientificName')\n",
    "\n",
    "# add extra fields \n",
    "# add some extra fields\n",
    "mergedstatuses['place_id'] = str(place_id)\n",
    "mergedstatuses['username'] = 'peggydnew'\n",
    "mergedstatuses['description'] = \"Listed - refer to https://www.environment.sa.gov.au/topics/plants-and-animals/threatened-species-and-ecological-communities/threatened-species\"\n",
    "mergedstatuses['state_lsid_conservation'].fillna(mergedstatuses['state_lsid_sensitive'])\n",
    "mergedstatuses['state_url'] = \"https://bie.ala.org.au/species/\" + mergedstatuses['state_lsid_conservation']\n",
    "mergedstatuses['state_iucn_equivalent'] = mergedstatuses['state_status'].map(iucnStatusMappings)\n",
    "#mergedstatuses['state_status'] = mergedstatuses['state_status'].fillna('Sensitive')\n",
    "#mergedstatuses['state_geoprivacy'] = mergedstatuses['state_geoprivacy'].fillna('open')\n",
    "mergedstatuses['inat_taxon_id'] = mergedstatuses['inat_taxon_id_y'].fillna(mergedstatuses['inat_taxon_id_x'])\n",
    "mergedstatuses['inat_scientificName'] = mergedstatuses['inat_scientificName'].fillna(mergedstatuses['inat_taxon_name'])\n",
    "\n",
    "# UPDATE: inat status and state status both exist\n",
    "# REMOVE: inat status exists, state status does not\n",
    "# ADD: state status exists, inat status does not (matching taxon)\n",
    "# NO MATCH: state status exists, inat taxa not found\n",
    "mergedstatuses['action'] = 'na'\n",
    "mergedstatuses.loc[mergedstatuses['inat_id'].notnull() & mergedstatuses['state_scientificName'].notnull(), 'action'] = \"UPDATE\"\n",
    "mergedstatuses.loc[mergedstatuses['inat_id'].notnull() & mergedstatuses['state_scientificName'].isnull(), 'action'] = \"REMOVE\"\n",
    "mergedstatuses.loc[mergedstatuses['inat_id'].isnull() & mergedstatuses['inat_taxon_id'].notnull(), 'action'] = \"ADD\"\n",
    "mergedstatuses.loc[mergedstatuses['inat_id'].isnull() & mergedstatuses['inat_taxon_id'].isnull(), 'action'] = \"NO MATCH\"\n",
    "\n",
    "# only update those with different values \n",
    "mergedstatuses['action'] = mergedstatuses.apply(lambda x: \"NO CHANGE\" if (x['action'] == \"UPDATE\") & ((x['state_status'] == x['inat_status']) & (x['state_geoprivacy'] == x['inat_geoprivacy'] ) & (x['state_geoprivacy'] == x['inat_geoprivacy']) & (x['state_iucn_equivalent'] == x['inat_iucn'])) else x['action'], axis=1)\n",
    "\n",
    "# display\n",
    "mergedstatusesprintfriendly = mergedstatuses[['action','inat_id','inat_taxon_id','state_scientificName','inat_scientificName', 'state_status','inat_status','state_geoprivacy','inat_geoprivacy','state_iucn_equivalent','inat_iucn','state_authority','inat_authority','state_url','inat_url','inat_description','inat_place_display_name','inat_current_synonymous_taxon_ids']]\n",
    "mergedstatuses.groupby('action').size()\n"
   ],
   "metadata": {
    "collapsed": false,
    "pycharm": {
     "name": "#%%\n"
    },
    "ExecuteTime": {
     "end_time": "2024-01-20T03:57:39.381651Z",
     "start_time": "2024-01-20T03:57:39.357611Z"
    }
   }
  },
  {
   "cell_type": "markdown",
   "source": [
    "### Output files"
   ],
   "metadata": {
    "collapsed": false
   }
  },
  {
   "cell_type": "code",
   "execution_count": 19,
   "outputs": [],
   "source": [
    "# UPDATES\n",
    "# Headers: action,taxon_name,id,taxon_id,status,iucn_equivalent,authority,url,geoprivacy,place_id,username,description\n",
    "updates = pd.DataFrame(mergedstatuses[mergedstatuses['action'].isin(['UPDATE','REMOVE'])])\n",
    "updates = updates[['action','state_scientificName','inat_id','inat_taxon_id','state_status','state_iucn_equivalent','state_authority','state_url','state_geoprivacy','place_id','username','description']]\n",
    "updates.columns = updates.columns.str.replace(\"state_\", \"\", regex=True)\n",
    "updates.columns = updates.columns.str.replace(\"inat_\", \"\", regex=True)\n",
    "updates = updates.rename(columns={'scientificName':'taxon_name'})\n",
    "\n",
    "# ADDITIONS\n",
    "# Headers: Taxon_Name,Status,Authority,IUCN_equivalent,Description,iNaturalist_Place_ID,url,Taxon_Geoprivacy,Username,taxon_id\n",
    "additions = pd.DataFrame(mergedstatuses[mergedstatuses['action'] == \"ADD\"])\n",
    "additions = additions[['action','state_scientificName','inat_id','inat_taxon_id','state_status','state_iucn_equivalent','state_authority','state_url','state_geoprivacy','place_id','username','description']]\n",
    "additions = additions.rename(columns={'state_scientificName':'Taxon_Name',\n",
    "                                      'state_status':'Status',\n",
    "                                      'state_authority':'Authority',\n",
    "                                      'state_iucn_equivalent':'IUCN_equivalent',\n",
    "                                      'description':'Description',\n",
    "                                      'place_id':'iNaturalst_Place_ID',\n",
    "                                      'state_url':'url',\n",
    "                                      'state_geoprivacy':'taxon_Geoprivacy',\n",
    "                                      'inat_taxon_id':'taxon_id'})\n",
    "\n",
    "# WRITE TO FILE\n",
    "mergedstatusesprintfriendly.to_csv(projectdir + \"data/out/summaries/tas.csv\",index=False)\n",
    "updates.to_csv(projectdir + \"data/out/updates-tas.csv\", index=False)\n",
    "additions.to_csv(projectdir + \"data/out/additions-tas.csv\", index=False)"
   ],
   "metadata": {
    "collapsed": false,
    "ExecuteTime": {
     "end_time": "2024-01-20T03:57:46.691253Z",
     "start_time": "2024-01-20T03:57:46.681394Z"
    }
   }
  }
 ],
 "metadata": {
  "kernelspec": {
   "display_name": "Python 3",
   "language": "python",
   "name": "python3"
  },
  "language_info": {
   "codemirror_mode": {
    "name": "ipython",
    "version": 2
   },
   "file_extension": ".py",
   "mimetype": "text/x-python",
   "name": "python",
   "nbconvert_exporter": "python",
   "pygments_lexer": "ipython2",
   "version": "2.7.6"
  }
 },
 "nbformat": 4,
 "nbformat_minor": 0
}
