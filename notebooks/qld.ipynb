{
 "cells": [
  {
   "cell_type": "markdown",
   "source": [
    "# iNaturalist status updates by state - QLD\n",
    "\n",
    "Using the file produced in the collate-status-taxa.ipynb: `inat-aust-status-taxa.csv` (statuses joined to taxa names), generate lists to update iNaturalist statuses\n",
    "\n",
    "## Prep - common to all states\n",
    "1. Read in the inaturalist statuses & filter out this state\n",
    "2. Read in the state conservation and sensitive lists\n",
    "3. Prep fields incl IUCN equivalent mappings and matching to iNat taxonomy  \n",
    "4. Merge and compare the state and inaturalist lists\n",
    "5. Create update/removals list\n",
    "6. Create additions list\n",
    "7. Save files\n",
    "\n",
    "## 1. Read in the inaturalist statuses & filter out QLD\n"
   ],
   "metadata": {
    "collapsed": false,
    "pycharm": {
     "name": "#%% md\n"
    }
   }
  },
  {
   "cell_type": "markdown",
   "source": [
    "# iNaturalist statuses"
   ],
   "metadata": {
    "collapsed": false,
    "pycharm": {
     "name": "#%% md\n"
    }
   }
  },
  {
   "cell_type": "code",
   "execution_count": 1,
   "outputs": [
    {
     "data": {
      "text/plain": "inat_status\nConfidential              35\nCritically Endangered     96\nEN                         7\nEndangered               230\nExtinct                    3\nExtinct in the wild       17\nLC                        20\nLeast Concern              1\nLeast concern             44\nNE                         4\nNT                         5\nNear Threatened          212\nNear threatened            2\nNot evaluated              1\nSL                         1\nSignificant                1\nSpecial least concern    781\nVU                        10\nVulnerable               464\nendangered                35\ndtype: int64"
     },
     "execution_count": 1,
     "metadata": {},
     "output_type": "execute_result"
    }
   ],
   "source": [
    "import pandas as pd\n",
    "import sys\n",
    "import os\n",
    "projectdir = os.path.dirname(os.getcwd()) + \"/\" # parent dir of cwd\n",
    "sourcedir = projectdir + \"data/in/\"\n",
    "sys.path.append(os.path.abspath(projectdir + \"notebooks/includes/\"))\n",
    "import list_functions  as lf\n",
    "\n",
    "# read in the statuses file\n",
    "taxastatus = pd.read_csv(sourcedir + \"inat-aust-status-taxa.csv\", encoding='UTF-8',na_filter=False,dtype=str)\n",
    "\n",
    "# filter out ACT entries\n",
    "def filter_state_statuses(stateregex: str, urlregex: str):\n",
    "    authoritydf = taxastatus['authority'].drop_duplicates().sort_values()\n",
    "    authoritydf = authoritydf[pd.Series(authoritydf).str.contains(stateregex)]\n",
    "    urldf = taxastatus['url'].drop_duplicates().sort_values()\n",
    "    urldf = urldf[pd.Series(urldf).str.contains(urlregex)]\n",
    "    placedisplaydf = taxastatus['place_display_name'].drop_duplicates().sort_values()\n",
    "    placedisplaydf = placedisplaydf[pd.Series(placedisplaydf).str.contains(stateregex)]\n",
    "    placedf = taxastatus['place_name'].drop_duplicates().sort_values()\n",
    "    placedf = placedf[pd.Series(placedf).str.contains(stateregex)]\n",
    "    # concat all and remove duplicates\n",
    "    statedf = pd.concat([taxastatus.apply(lambda row: row[taxastatus['place_display_name'].isin(placedisplaydf)]),\n",
    "                         taxastatus.apply(lambda row: row[taxastatus['place_name'].isin(placedf)]),\n",
    "                         taxastatus.apply(lambda row: row[taxastatus['url'].isin(urldf)]),\n",
    "                         taxastatus.apply(\n",
    "                             lambda row: row[taxastatus['authority'].isin(authoritydf)])]).drop_duplicates()\n",
    "    return statedf.sort_values(['taxon_id', 'user_id'])\n",
    "\n",
    "inatstatuses = filter_state_statuses(\"Qld|QLD|Queensland|QUEENSLAND|QL\", \".qld.\")\n",
    "inatstatuses = inatstatuses.add_prefix(\"inat_\")\n",
    "inatstatuses.groupby(['inat_status']).size()\n"
   ],
   "metadata": {
    "collapsed": false,
    "ExecuteTime": {
     "end_time": "2024-01-22T08:38:51.002590Z",
     "start_time": "2024-01-22T08:38:50.328789Z"
    }
   }
  },
  {
   "cell_type": "markdown",
   "source": [
    "## 2. Read in the State lists\n",
    "Read in the state lists \n",
    " * Set conservation list value `authority` = \"Queensland Nature Conservation Act 1992\"\n",
    " * Set sensitive list value: `geoprivacy` = `obscured`\n"
   ],
   "metadata": {
    "collapsed": false,
    "pycharm": {
     "name": "#%% md\n"
    }
   }
  },
  {
   "cell_type": "code",
   "execution_count": 2,
   "outputs": [
    {
     "name": "stdout",
     "output_type": "stream",
     "text": [
      "skipping # comment this line to download dataset from lists.ala.org.au the web and save locally\n"
     ]
    }
   ],
   "source": [
    "%%script echo skipping # comment this line to download dataset from lists.ala.org.au the web and save locally\n",
    "# Download lists data. Retrieve binomial and trinomial names from GBIF. Save locally to CSV\n",
    "\n",
    "sensitivelist = lf.download_ala_specieslist(\"https://lists.ala.org.au/ws/speciesListItems/dr493?max=10000&includeKVP=true\") ### TO DO: THIS IS dr493 in PROD\n",
    "sensitivelist = lf.kvp_to_columns(sensitivelist)\n",
    "sensitivelist.to_csv(sourcedir + \"/state-lists/qld-ala-sensitive.csv\", index=False)\n",
    "\n",
    "conservationlist = lf.download_ala_specieslist(\"https://lists.ala.org.au/ws/speciesListItems/dr652?max=10000&includeKVP=true\")\n",
    "conservationlist = lf.kvp_to_columns(conservationlist)\n",
    "conservationlist.to_csv(sourcedir + \"/state-lists/qld-ala-conservation.csv\", index=False)\n"
   ],
   "metadata": {
    "collapsed": false,
    "ExecuteTime": {
     "end_time": "2024-01-22T08:38:51.015217Z",
     "start_time": "2024-01-22T08:38:51.001467Z"
    }
   }
  },
  {
   "cell_type": "code",
   "execution_count": 3,
   "outputs": [
    {
     "name": "stdout",
     "output_type": "stream",
     "text": [
      "Conservation list entries:1351\n",
      "Sensitive list entries:960\n"
     ]
    },
    {
     "data": {
      "text/plain": "     state_name_conservation state_WildNetTaxonID state_status_conservation  \\\n0            Adelotus brevis                  706                Vulnerable   \n1          Philoria knowlesi                36765                Endangered   \n2       Philoria kundagungan                  687                Endangered   \n3           Assa darlingtoni                  693                Vulnerable   \n4             Crinia tinnula                  686                Vulnerable   \n...                      ...                  ...                       ...   \n1987                     NaN                34778                       NaN   \n1988                     NaN                40557                       NaN   \n1989                     NaN                12057                       NaN   \n1990                     NaN                39465                       NaN   \n1991                     NaN                11700                       NaN   \n\n                 state_authority_conservation            state_name_sensitive  \\\n0     Queensland Nature Conservation Act 1992                             NaN   \n1     Queensland Nature Conservation Act 1992               Philoria knowlesi   \n2     Queensland Nature Conservation Act 1992            Philoria kundagungan   \n3     Queensland Nature Conservation Act 1992                             NaN   \n4     Queensland Nature Conservation Act 1992                             NaN   \n...                                       ...                             ...   \n1987                                      NaN        Phlegmariurus phlegmaria   \n1988                                      NaN        Phlegmariurus proliferus   \n1989                                      NaN  Lindsaea pulchella var. blanda   \n1990                                      NaN                 Tectaria devexa   \n1991                                      NaN        Pneumatopteris pennigera   \n\n     state_geoprivacy state_status_sensitive  \\\n0                 NaN                    NaN   \n1            obscured             Endangered   \n2            obscured             Endangered   \n3                 NaN                    NaN   \n4                 NaN                    NaN   \n...               ...                    ...   \n1987         obscured          Least concern   \n1988         obscured                    NaN   \n1989         obscured                    NaN   \n1990         obscured          Least concern   \n1991         obscured                    NaN   \n\n                      state_authority_sensitive  \\\n0                                           NaN   \n1     Qld Department of Environment and Science   \n2     Qld Department of Environment and Science   \n3                                           NaN   \n4                                           NaN   \n...                                         ...   \n1987  Qld Department of Environment and Science   \n1988  Qld Department of Environment and Science   \n1989  Qld Department of Environment and Science   \n1990  Qld Department of Environment and Science   \n1991  Qld Department of Environment and Science   \n\n                state_scientificName   state_status  \\\n0                    Adelotus brevis     Vulnerable   \n1                  Philoria knowlesi     Endangered   \n2               Philoria kundagungan     Endangered   \n3                   Assa darlingtoni     Vulnerable   \n4                     Crinia tinnula     Vulnerable   \n...                              ...            ...   \n1987        Phlegmariurus phlegmaria  Least concern   \n1988        Phlegmariurus proliferus            NaN   \n1989  Lindsaea pulchella var. blanda            NaN   \n1990                 Tectaria devexa  Least concern   \n1991        Pneumatopteris pennigera            NaN   \n\n                                state_authority  \n0       Queensland Nature Conservation Act 1992  \n1     Qld Department of Environment and Science  \n2     Qld Department of Environment and Science  \n3       Queensland Nature Conservation Act 1992  \n4       Queensland Nature Conservation Act 1992  \n...                                         ...  \n1987  Qld Department of Environment and Science  \n1988  Qld Department of Environment and Science  \n1989  Qld Department of Environment and Science  \n1990  Qld Department of Environment and Science  \n1991  Qld Department of Environment and Science  \n\n[1992 rows x 11 columns]",
      "text/html": "<div>\n<style scoped>\n    .dataframe tbody tr th:only-of-type {\n        vertical-align: middle;\n    }\n\n    .dataframe tbody tr th {\n        vertical-align: top;\n    }\n\n    .dataframe thead th {\n        text-align: right;\n    }\n</style>\n<table border=\"1\" class=\"dataframe\">\n  <thead>\n    <tr style=\"text-align: right;\">\n      <th></th>\n      <th>state_name_conservation</th>\n      <th>state_WildNetTaxonID</th>\n      <th>state_status_conservation</th>\n      <th>state_authority_conservation</th>\n      <th>state_name_sensitive</th>\n      <th>state_geoprivacy</th>\n      <th>state_status_sensitive</th>\n      <th>state_authority_sensitive</th>\n      <th>state_scientificName</th>\n      <th>state_status</th>\n      <th>state_authority</th>\n    </tr>\n  </thead>\n  <tbody>\n    <tr>\n      <th>0</th>\n      <td>Adelotus brevis</td>\n      <td>706</td>\n      <td>Vulnerable</td>\n      <td>Queensland Nature Conservation Act 1992</td>\n      <td>NaN</td>\n      <td>NaN</td>\n      <td>NaN</td>\n      <td>NaN</td>\n      <td>Adelotus brevis</td>\n      <td>Vulnerable</td>\n      <td>Queensland Nature Conservation Act 1992</td>\n    </tr>\n    <tr>\n      <th>1</th>\n      <td>Philoria knowlesi</td>\n      <td>36765</td>\n      <td>Endangered</td>\n      <td>Queensland Nature Conservation Act 1992</td>\n      <td>Philoria knowlesi</td>\n      <td>obscured</td>\n      <td>Endangered</td>\n      <td>Qld Department of Environment and Science</td>\n      <td>Philoria knowlesi</td>\n      <td>Endangered</td>\n      <td>Qld Department of Environment and Science</td>\n    </tr>\n    <tr>\n      <th>2</th>\n      <td>Philoria kundagungan</td>\n      <td>687</td>\n      <td>Endangered</td>\n      <td>Queensland Nature Conservation Act 1992</td>\n      <td>Philoria kundagungan</td>\n      <td>obscured</td>\n      <td>Endangered</td>\n      <td>Qld Department of Environment and Science</td>\n      <td>Philoria kundagungan</td>\n      <td>Endangered</td>\n      <td>Qld Department of Environment and Science</td>\n    </tr>\n    <tr>\n      <th>3</th>\n      <td>Assa darlingtoni</td>\n      <td>693</td>\n      <td>Vulnerable</td>\n      <td>Queensland Nature Conservation Act 1992</td>\n      <td>NaN</td>\n      <td>NaN</td>\n      <td>NaN</td>\n      <td>NaN</td>\n      <td>Assa darlingtoni</td>\n      <td>Vulnerable</td>\n      <td>Queensland Nature Conservation Act 1992</td>\n    </tr>\n    <tr>\n      <th>4</th>\n      <td>Crinia tinnula</td>\n      <td>686</td>\n      <td>Vulnerable</td>\n      <td>Queensland Nature Conservation Act 1992</td>\n      <td>NaN</td>\n      <td>NaN</td>\n      <td>NaN</td>\n      <td>NaN</td>\n      <td>Crinia tinnula</td>\n      <td>Vulnerable</td>\n      <td>Queensland Nature Conservation Act 1992</td>\n    </tr>\n    <tr>\n      <th>...</th>\n      <td>...</td>\n      <td>...</td>\n      <td>...</td>\n      <td>...</td>\n      <td>...</td>\n      <td>...</td>\n      <td>...</td>\n      <td>...</td>\n      <td>...</td>\n      <td>...</td>\n      <td>...</td>\n    </tr>\n    <tr>\n      <th>1987</th>\n      <td>NaN</td>\n      <td>34778</td>\n      <td>NaN</td>\n      <td>NaN</td>\n      <td>Phlegmariurus phlegmaria</td>\n      <td>obscured</td>\n      <td>Least concern</td>\n      <td>Qld Department of Environment and Science</td>\n      <td>Phlegmariurus phlegmaria</td>\n      <td>Least concern</td>\n      <td>Qld Department of Environment and Science</td>\n    </tr>\n    <tr>\n      <th>1988</th>\n      <td>NaN</td>\n      <td>40557</td>\n      <td>NaN</td>\n      <td>NaN</td>\n      <td>Phlegmariurus proliferus</td>\n      <td>obscured</td>\n      <td>NaN</td>\n      <td>Qld Department of Environment and Science</td>\n      <td>Phlegmariurus proliferus</td>\n      <td>NaN</td>\n      <td>Qld Department of Environment and Science</td>\n    </tr>\n    <tr>\n      <th>1989</th>\n      <td>NaN</td>\n      <td>12057</td>\n      <td>NaN</td>\n      <td>NaN</td>\n      <td>Lindsaea pulchella var. blanda</td>\n      <td>obscured</td>\n      <td>NaN</td>\n      <td>Qld Department of Environment and Science</td>\n      <td>Lindsaea pulchella var. blanda</td>\n      <td>NaN</td>\n      <td>Qld Department of Environment and Science</td>\n    </tr>\n    <tr>\n      <th>1990</th>\n      <td>NaN</td>\n      <td>39465</td>\n      <td>NaN</td>\n      <td>NaN</td>\n      <td>Tectaria devexa</td>\n      <td>obscured</td>\n      <td>Least concern</td>\n      <td>Qld Department of Environment and Science</td>\n      <td>Tectaria devexa</td>\n      <td>Least concern</td>\n      <td>Qld Department of Environment and Science</td>\n    </tr>\n    <tr>\n      <th>1991</th>\n      <td>NaN</td>\n      <td>11700</td>\n      <td>NaN</td>\n      <td>NaN</td>\n      <td>Pneumatopteris pennigera</td>\n      <td>obscured</td>\n      <td>NaN</td>\n      <td>Qld Department of Environment and Science</td>\n      <td>Pneumatopteris pennigera</td>\n      <td>NaN</td>\n      <td>Qld Department of Environment and Science</td>\n    </tr>\n  </tbody>\n</table>\n<p>1992 rows × 11 columns</p>\n</div>"
     },
     "execution_count": 3,
     "metadata": {},
     "output_type": "execute_result"
    }
   ],
   "source": [
    "# Read lists and merge\n",
    "sensitivelist = pd.read_csv(sourcedir + \"/state-lists/qld-ala-sensitive.csv\", dtype=str)\n",
    "conservationlist = pd.read_csv(sourcedir + \"/state-lists/qld-ala-conservation.csv\", dtype=str)\n",
    "sensitivelist['geoprivacy'] = 'obscured'\n",
    "sensitivelist['authority'] = \"Qld Department of Environment and Science\"\n",
    "conservationlist['authority'] = \"Queensland Nature Conservation Act 1992\"\n",
    "conservationlist = conservationlist.rename(columns={'Wild Net Taxon ID': 'WildNetTaxonID'})\n",
    "statelist = conservationlist[['name','WildNetTaxonID','status','authority']].merge(sensitivelist[['name','WildNetTaxonID','geoprivacy','status','authority']], how=\"outer\",on='WildNetTaxonID',suffixes=('_conservation', '_sensitive'))\n",
    "statelist['scientificName'] = statelist.apply(lambda x: x['name_conservation'] if pd.isnull(x['name_sensitive']) else x['name_sensitive'], axis=1)\n",
    "statelist['status'] = statelist.apply(lambda x: x['status_conservation'] if pd.isnull(x['status_sensitive']) else x['status_sensitive'], axis=1)\n",
    "statelist['authority'] = statelist.apply(lambda x: x['authority_conservation'] if pd.isnull(x['authority_sensitive']) else x['authority_sensitive'], axis=1)\n",
    "statelist = statelist.add_prefix(\"state_\")\n",
    "print(\"Conservation list entries:\" + str(len(conservationlist)))\n",
    "print(\"Sensitive list entries:\" + str(len(sensitivelist)))\n",
    "statelist"
   ],
   "metadata": {
    "collapsed": false,
    "pycharm": {
     "name": "#%%\n"
    },
    "ExecuteTime": {
     "end_time": "2024-01-22T08:38:51.055639Z",
     "start_time": "2024-01-22T08:38:51.016039Z"
    }
   }
  },
  {
   "cell_type": "markdown",
   "source": [
    "### 4. Equivalent IUCN statuses"
   ],
   "metadata": {
    "collapsed": false,
    "pycharm": {
     "name": "#%% md\n"
    }
   }
  },
  {
   "cell_type": "code",
   "execution_count": 4,
   "outputs": [
    {
     "data": {
      "text/plain": "                                                  state_name_conservation  \\\nstate_status_conservation state_status_sensitive                            \nCritically Endangered     Critically Endangered                        35   \n                          NaN                                         111   \nEndangered                Endangered                                   82   \n                          NaN                                         230   \nExtinct                   NaN                                           6   \nExtinct in the wild       Extinct in the wild                           7   \n                          NaN                                          19   \nNear Threatened           Near Threatened                              61   \n                          NaN                                         219   \nVulnerable                Vulnerable                                  134   \n                          NaN                                         447   \nNaN                       Least concern                                 0   \n                          Near Threatened                               0   \n                          Special least concern                         0   \n                          NaN                                           0   \n\n                                                  state_WildNetTaxonID  \\\nstate_status_conservation state_status_sensitive                         \nCritically Endangered     Critically Endangered                     35   \n                          NaN                                      111   \nEndangered                Endangered                                82   \n                          NaN                                      230   \nExtinct                   NaN                                        6   \nExtinct in the wild       Extinct in the wild                        7   \n                          NaN                                       19   \nNear Threatened           Near Threatened                           61   \n                          NaN                                      219   \nVulnerable                Vulnerable                               134   \n                          NaN                                      447   \nNaN                       Least concern                            147   \n                          Near Threatened                            1   \n                          Special least concern                    363   \n                          NaN                                      130   \n\n                                                  state_authority_conservation  \\\nstate_status_conservation state_status_sensitive                                 \nCritically Endangered     Critically Endangered                             35   \n                          NaN                                              111   \nEndangered                Endangered                                        82   \n                          NaN                                              230   \nExtinct                   NaN                                                6   \nExtinct in the wild       Extinct in the wild                                7   \n                          NaN                                               19   \nNear Threatened           Near Threatened                                   61   \n                          NaN                                              219   \nVulnerable                Vulnerable                                       134   \n                          NaN                                              447   \nNaN                       Least concern                                      0   \n                          Near Threatened                                    0   \n                          Special least concern                              0   \n                          NaN                                                0   \n\n                                                  state_name_sensitive  \\\nstate_status_conservation state_status_sensitive                         \nCritically Endangered     Critically Endangered                     35   \n                          NaN                                        0   \nEndangered                Endangered                                82   \n                          NaN                                        0   \nExtinct                   NaN                                        0   \nExtinct in the wild       Extinct in the wild                        7   \n                          NaN                                        0   \nNear Threatened           Near Threatened                           61   \n                          NaN                                        0   \nVulnerable                Vulnerable                               134   \n                          NaN                                        0   \nNaN                       Least concern                            147   \n                          Near Threatened                            1   \n                          Special least concern                    363   \n                          NaN                                      130   \n\n                                                  state_geoprivacy  \\\nstate_status_conservation state_status_sensitive                     \nCritically Endangered     Critically Endangered                 35   \n                          NaN                                    0   \nEndangered                Endangered                            82   \n                          NaN                                    0   \nExtinct                   NaN                                    0   \nExtinct in the wild       Extinct in the wild                    7   \n                          NaN                                    0   \nNear Threatened           Near Threatened                       61   \n                          NaN                                    0   \nVulnerable                Vulnerable                           134   \n                          NaN                                    0   \nNaN                       Least concern                        147   \n                          Near Threatened                        1   \n                          Special least concern                363   \n                          NaN                                  130   \n\n                                                  state_authority_sensitive  \\\nstate_status_conservation state_status_sensitive                              \nCritically Endangered     Critically Endangered                          35   \n                          NaN                                             0   \nEndangered                Endangered                                     82   \n                          NaN                                             0   \nExtinct                   NaN                                             0   \nExtinct in the wild       Extinct in the wild                             7   \n                          NaN                                             0   \nNear Threatened           Near Threatened                                61   \n                          NaN                                             0   \nVulnerable                Vulnerable                                    134   \n                          NaN                                             0   \nNaN                       Least concern                                 147   \n                          Near Threatened                                 1   \n                          Special least concern                         363   \n                          NaN                                           130   \n\n                                                  state_scientificName  \\\nstate_status_conservation state_status_sensitive                         \nCritically Endangered     Critically Endangered                     35   \n                          NaN                                      111   \nEndangered                Endangered                                82   \n                          NaN                                      230   \nExtinct                   NaN                                        6   \nExtinct in the wild       Extinct in the wild                        7   \n                          NaN                                       19   \nNear Threatened           Near Threatened                           61   \n                          NaN                                      219   \nVulnerable                Vulnerable                               134   \n                          NaN                                      447   \nNaN                       Least concern                            147   \n                          Near Threatened                            1   \n                          Special least concern                    363   \n                          NaN                                      130   \n\n                                                  state_status  \\\nstate_status_conservation state_status_sensitive                 \nCritically Endangered     Critically Endangered             35   \n                          NaN                              111   \nEndangered                Endangered                        82   \n                          NaN                              230   \nExtinct                   NaN                                6   \nExtinct in the wild       Extinct in the wild                7   \n                          NaN                               19   \nNear Threatened           Near Threatened                   61   \n                          NaN                              219   \nVulnerable                Vulnerable                       134   \n                          NaN                              447   \nNaN                       Least concern                    147   \n                          Near Threatened                    1   \n                          Special least concern            363   \n                          NaN                                0   \n\n                                                  state_authority  \nstate_status_conservation state_status_sensitive                   \nCritically Endangered     Critically Endangered                35  \n                          NaN                                 111  \nEndangered                Endangered                           82  \n                          NaN                                 230  \nExtinct                   NaN                                   6  \nExtinct in the wild       Extinct in the wild                   7  \n                          NaN                                  19  \nNear Threatened           Near Threatened                      61  \n                          NaN                                 219  \nVulnerable                Vulnerable                          134  \n                          NaN                                 447  \nNaN                       Least concern                       147  \n                          Near Threatened                       1  \n                          Special least concern               363  \n                          NaN                                 130  ",
      "text/html": "<div>\n<style scoped>\n    .dataframe tbody tr th:only-of-type {\n        vertical-align: middle;\n    }\n\n    .dataframe tbody tr th {\n        vertical-align: top;\n    }\n\n    .dataframe thead th {\n        text-align: right;\n    }\n</style>\n<table border=\"1\" class=\"dataframe\">\n  <thead>\n    <tr style=\"text-align: right;\">\n      <th></th>\n      <th></th>\n      <th>state_name_conservation</th>\n      <th>state_WildNetTaxonID</th>\n      <th>state_authority_conservation</th>\n      <th>state_name_sensitive</th>\n      <th>state_geoprivacy</th>\n      <th>state_authority_sensitive</th>\n      <th>state_scientificName</th>\n      <th>state_status</th>\n      <th>state_authority</th>\n    </tr>\n    <tr>\n      <th>state_status_conservation</th>\n      <th>state_status_sensitive</th>\n      <th></th>\n      <th></th>\n      <th></th>\n      <th></th>\n      <th></th>\n      <th></th>\n      <th></th>\n      <th></th>\n      <th></th>\n    </tr>\n  </thead>\n  <tbody>\n    <tr>\n      <th rowspan=\"2\" valign=\"top\">Critically Endangered</th>\n      <th>Critically Endangered</th>\n      <td>35</td>\n      <td>35</td>\n      <td>35</td>\n      <td>35</td>\n      <td>35</td>\n      <td>35</td>\n      <td>35</td>\n      <td>35</td>\n      <td>35</td>\n    </tr>\n    <tr>\n      <th>NaN</th>\n      <td>111</td>\n      <td>111</td>\n      <td>111</td>\n      <td>0</td>\n      <td>0</td>\n      <td>0</td>\n      <td>111</td>\n      <td>111</td>\n      <td>111</td>\n    </tr>\n    <tr>\n      <th rowspan=\"2\" valign=\"top\">Endangered</th>\n      <th>Endangered</th>\n      <td>82</td>\n      <td>82</td>\n      <td>82</td>\n      <td>82</td>\n      <td>82</td>\n      <td>82</td>\n      <td>82</td>\n      <td>82</td>\n      <td>82</td>\n    </tr>\n    <tr>\n      <th>NaN</th>\n      <td>230</td>\n      <td>230</td>\n      <td>230</td>\n      <td>0</td>\n      <td>0</td>\n      <td>0</td>\n      <td>230</td>\n      <td>230</td>\n      <td>230</td>\n    </tr>\n    <tr>\n      <th>Extinct</th>\n      <th>NaN</th>\n      <td>6</td>\n      <td>6</td>\n      <td>6</td>\n      <td>0</td>\n      <td>0</td>\n      <td>0</td>\n      <td>6</td>\n      <td>6</td>\n      <td>6</td>\n    </tr>\n    <tr>\n      <th rowspan=\"2\" valign=\"top\">Extinct in the wild</th>\n      <th>Extinct in the wild</th>\n      <td>7</td>\n      <td>7</td>\n      <td>7</td>\n      <td>7</td>\n      <td>7</td>\n      <td>7</td>\n      <td>7</td>\n      <td>7</td>\n      <td>7</td>\n    </tr>\n    <tr>\n      <th>NaN</th>\n      <td>19</td>\n      <td>19</td>\n      <td>19</td>\n      <td>0</td>\n      <td>0</td>\n      <td>0</td>\n      <td>19</td>\n      <td>19</td>\n      <td>19</td>\n    </tr>\n    <tr>\n      <th rowspan=\"2\" valign=\"top\">Near Threatened</th>\n      <th>Near Threatened</th>\n      <td>61</td>\n      <td>61</td>\n      <td>61</td>\n      <td>61</td>\n      <td>61</td>\n      <td>61</td>\n      <td>61</td>\n      <td>61</td>\n      <td>61</td>\n    </tr>\n    <tr>\n      <th>NaN</th>\n      <td>219</td>\n      <td>219</td>\n      <td>219</td>\n      <td>0</td>\n      <td>0</td>\n      <td>0</td>\n      <td>219</td>\n      <td>219</td>\n      <td>219</td>\n    </tr>\n    <tr>\n      <th rowspan=\"2\" valign=\"top\">Vulnerable</th>\n      <th>Vulnerable</th>\n      <td>134</td>\n      <td>134</td>\n      <td>134</td>\n      <td>134</td>\n      <td>134</td>\n      <td>134</td>\n      <td>134</td>\n      <td>134</td>\n      <td>134</td>\n    </tr>\n    <tr>\n      <th>NaN</th>\n      <td>447</td>\n      <td>447</td>\n      <td>447</td>\n      <td>0</td>\n      <td>0</td>\n      <td>0</td>\n      <td>447</td>\n      <td>447</td>\n      <td>447</td>\n    </tr>\n    <tr>\n      <th rowspan=\"4\" valign=\"top\">NaN</th>\n      <th>Least concern</th>\n      <td>0</td>\n      <td>147</td>\n      <td>0</td>\n      <td>147</td>\n      <td>147</td>\n      <td>147</td>\n      <td>147</td>\n      <td>147</td>\n      <td>147</td>\n    </tr>\n    <tr>\n      <th>Near Threatened</th>\n      <td>0</td>\n      <td>1</td>\n      <td>0</td>\n      <td>1</td>\n      <td>1</td>\n      <td>1</td>\n      <td>1</td>\n      <td>1</td>\n      <td>1</td>\n    </tr>\n    <tr>\n      <th>Special least concern</th>\n      <td>0</td>\n      <td>363</td>\n      <td>0</td>\n      <td>363</td>\n      <td>363</td>\n      <td>363</td>\n      <td>363</td>\n      <td>363</td>\n      <td>363</td>\n    </tr>\n    <tr>\n      <th>NaN</th>\n      <td>0</td>\n      <td>130</td>\n      <td>0</td>\n      <td>130</td>\n      <td>130</td>\n      <td>130</td>\n      <td>130</td>\n      <td>0</td>\n      <td>130</td>\n    </tr>\n  </tbody>\n</table>\n</div>"
     },
     "execution_count": 4,
     "metadata": {},
     "output_type": "execute_result"
    }
   ],
   "source": [
    "# iucn_statuses = {'Not Evaluated', 'Data Deficient', 'Least Concern', 'Near Threatened', 'Vulnerable', 'Endangered', 'Critically Endangered', 'Extinct in the Wild','Extinct'}\n",
    "statelist.groupby(['state_status_conservation','state_status_sensitive'],dropna=False).count()"
   ],
   "metadata": {
    "collapsed": false,
    "pycharm": {
     "name": "#%%\n"
    },
    "ExecuteTime": {
     "end_time": "2024-01-22T08:38:51.059884Z",
     "start_time": "2024-01-22T08:38:51.053770Z"
    }
   }
  },
  {
   "cell_type": "code",
   "execution_count": 5,
   "outputs": [],
   "source": [
    "#(50:CE, 30:V, 40:E, 20:NT, EX:70)\n",
    "iucnStatusMappings = {\n",
    "    'Least concern':'10',\n",
    "    'Special least concern':'10',\n",
    "    'Critically Endangered':'50',\n",
    "    'Endangered':'40',\n",
    "    'Vulnerable':'30',\n",
    "    'Extinct':'70',\n",
    "    'Extinct in the wild':'70',\n",
    "    'Near Threatened':'20'\n",
    "}"
   ],
   "metadata": {
    "collapsed": false,
    "pycharm": {
     "name": "#%%\n"
    },
    "ExecuteTime": {
     "end_time": "2024-01-22T08:38:51.063503Z",
     "start_time": "2024-01-22T08:38:51.061201Z"
    }
   }
  },
  {
   "cell_type": "markdown",
   "source": [
    "### 5. Determine best place ID to use"
   ],
   "metadata": {
    "collapsed": false,
    "pycharm": {
     "name": "#%% md\n"
    }
   }
  },
  {
   "cell_type": "code",
   "execution_count": 6,
   "outputs": [
    {
     "data": {
      "text/plain": "inat_place_id  inat_place_name        inat_place_display_name      \n                                                                          5\n144315         Brisbane City          Brisbane City                       2\n153119         South East Queensland  South East Queensland, QL, AU       1\n18870          Cairns - Pt B          Cairns - Pt B, QL, AU               1\n19232          Yarrabah               Yarrabah, QL, AU                    1\n6744           Australia              Australia                          13\n7308           Queensland             Queensland, AU                   1946\nName: inat_place_id, dtype: int64"
     },
     "execution_count": 6,
     "metadata": {},
     "output_type": "execute_result"
    }
   ],
   "source": [
    "inatstatuses.groupby(['inat_place_id','inat_place_name','inat_place_display_name'])['inat_place_id'].count()\n",
    "# looks like 7308"
   ],
   "metadata": {
    "collapsed": false,
    "pycharm": {
     "name": "#%%\n"
    },
    "ExecuteTime": {
     "end_time": "2024-01-22T08:38:51.067433Z",
     "start_time": "2024-01-22T08:38:51.063754Z"
    }
   }
  },
  {
   "cell_type": "code",
   "execution_count": 16,
   "outputs": [
    {
     "data": {
      "text/plain": "                state_scientificName   state_status state_geoprivacy  \\\n0                    Adelotus brevis     Vulnerable              NaN   \n1                  Philoria knowlesi     Endangered         obscured   \n2               Philoria kundagungan     Endangered         obscured   \n3                   Assa darlingtoni     Vulnerable              NaN   \n4                     Crinia tinnula     Vulnerable              NaN   \n...                              ...            ...              ...   \n2027        Phlegmariurus phlegmaria  Least concern         obscured   \n2028        Phlegmariurus proliferus            NaN         obscured   \n2029  Lindsaea pulchella var. blanda            NaN         obscured   \n2030                 Tectaria devexa  Least concern         obscured   \n2031        Pneumatopteris pennigera            NaN         obscured   \n\n     state_WildNetTaxonID                            state_authority  \\\n0                     706    Queensland Nature Conservation Act 1992   \n1                   36765  Qld Department of Environment and Science   \n2                     687  Qld Department of Environment and Science   \n3                     693    Queensland Nature Conservation Act 1992   \n4                     686    Queensland Nature Conservation Act 1992   \n...                   ...                                        ...   \n2027                34778  Qld Department of Environment and Science   \n2028                40557  Qld Department of Environment and Science   \n2029                12057  Qld Department of Environment and Science   \n2030                39465  Qld Department of Environment and Science   \n2031                11700  Qld Department of Environment and Science   \n\n     inat_taxon_id           inat_taxon_name inat_rank  \\\n0            22084           Adelotus brevis   species   \n1          1363722         Philoria knowlesi   species   \n2            22055      Philoria kundagungan   species   \n3            25240          Assa darlingtoni   species   \n4            25234            Crinia tinnula   species   \n...            ...                       ...       ...   \n2027        559037  Phlegmariurus phlegmaria   species   \n2028        956571  Phlegmariurus proliferus   species   \n2029           NaN                       NaN       NaN   \n2030        778248           Tectaria devexa   species   \n2031           NaN                       NaN       NaN   \n\n     inat_observations_count inat_is_active  \n0                        523              t  \n1                          0              t  \n2                          1              t  \n3                         38              t  \n4                         80              t  \n...                      ...            ...  \n2027                     226              t  \n2028                       2              t  \n2029                     NaN            NaN  \n2030                     537              t  \n2031                     NaN            NaN  \n\n[2032 rows x 10 columns]",
      "text/html": "<div>\n<style scoped>\n    .dataframe tbody tr th:only-of-type {\n        vertical-align: middle;\n    }\n\n    .dataframe tbody tr th {\n        vertical-align: top;\n    }\n\n    .dataframe thead th {\n        text-align: right;\n    }\n</style>\n<table border=\"1\" class=\"dataframe\">\n  <thead>\n    <tr style=\"text-align: right;\">\n      <th></th>\n      <th>state_scientificName</th>\n      <th>state_status</th>\n      <th>state_geoprivacy</th>\n      <th>state_WildNetTaxonID</th>\n      <th>state_authority</th>\n      <th>inat_taxon_id</th>\n      <th>inat_taxon_name</th>\n      <th>inat_rank</th>\n      <th>inat_observations_count</th>\n      <th>inat_is_active</th>\n    </tr>\n  </thead>\n  <tbody>\n    <tr>\n      <th>0</th>\n      <td>Adelotus brevis</td>\n      <td>Vulnerable</td>\n      <td>NaN</td>\n      <td>706</td>\n      <td>Queensland Nature Conservation Act 1992</td>\n      <td>22084</td>\n      <td>Adelotus brevis</td>\n      <td>species</td>\n      <td>523</td>\n      <td>t</td>\n    </tr>\n    <tr>\n      <th>1</th>\n      <td>Philoria knowlesi</td>\n      <td>Endangered</td>\n      <td>obscured</td>\n      <td>36765</td>\n      <td>Qld Department of Environment and Science</td>\n      <td>1363722</td>\n      <td>Philoria knowlesi</td>\n      <td>species</td>\n      <td>0</td>\n      <td>t</td>\n    </tr>\n    <tr>\n      <th>2</th>\n      <td>Philoria kundagungan</td>\n      <td>Endangered</td>\n      <td>obscured</td>\n      <td>687</td>\n      <td>Qld Department of Environment and Science</td>\n      <td>22055</td>\n      <td>Philoria kundagungan</td>\n      <td>species</td>\n      <td>1</td>\n      <td>t</td>\n    </tr>\n    <tr>\n      <th>3</th>\n      <td>Assa darlingtoni</td>\n      <td>Vulnerable</td>\n      <td>NaN</td>\n      <td>693</td>\n      <td>Queensland Nature Conservation Act 1992</td>\n      <td>25240</td>\n      <td>Assa darlingtoni</td>\n      <td>species</td>\n      <td>38</td>\n      <td>t</td>\n    </tr>\n    <tr>\n      <th>4</th>\n      <td>Crinia tinnula</td>\n      <td>Vulnerable</td>\n      <td>NaN</td>\n      <td>686</td>\n      <td>Queensland Nature Conservation Act 1992</td>\n      <td>25234</td>\n      <td>Crinia tinnula</td>\n      <td>species</td>\n      <td>80</td>\n      <td>t</td>\n    </tr>\n    <tr>\n      <th>...</th>\n      <td>...</td>\n      <td>...</td>\n      <td>...</td>\n      <td>...</td>\n      <td>...</td>\n      <td>...</td>\n      <td>...</td>\n      <td>...</td>\n      <td>...</td>\n      <td>...</td>\n    </tr>\n    <tr>\n      <th>2027</th>\n      <td>Phlegmariurus phlegmaria</td>\n      <td>Least concern</td>\n      <td>obscured</td>\n      <td>34778</td>\n      <td>Qld Department of Environment and Science</td>\n      <td>559037</td>\n      <td>Phlegmariurus phlegmaria</td>\n      <td>species</td>\n      <td>226</td>\n      <td>t</td>\n    </tr>\n    <tr>\n      <th>2028</th>\n      <td>Phlegmariurus proliferus</td>\n      <td>NaN</td>\n      <td>obscured</td>\n      <td>40557</td>\n      <td>Qld Department of Environment and Science</td>\n      <td>956571</td>\n      <td>Phlegmariurus proliferus</td>\n      <td>species</td>\n      <td>2</td>\n      <td>t</td>\n    </tr>\n    <tr>\n      <th>2029</th>\n      <td>Lindsaea pulchella var. blanda</td>\n      <td>NaN</td>\n      <td>obscured</td>\n      <td>12057</td>\n      <td>Qld Department of Environment and Science</td>\n      <td>NaN</td>\n      <td>NaN</td>\n      <td>NaN</td>\n      <td>NaN</td>\n      <td>NaN</td>\n    </tr>\n    <tr>\n      <th>2030</th>\n      <td>Tectaria devexa</td>\n      <td>Least concern</td>\n      <td>obscured</td>\n      <td>39465</td>\n      <td>Qld Department of Environment and Science</td>\n      <td>778248</td>\n      <td>Tectaria devexa</td>\n      <td>species</td>\n      <td>537</td>\n      <td>t</td>\n    </tr>\n    <tr>\n      <th>2031</th>\n      <td>Pneumatopteris pennigera</td>\n      <td>NaN</td>\n      <td>obscured</td>\n      <td>11700</td>\n      <td>Qld Department of Environment and Science</td>\n      <td>NaN</td>\n      <td>NaN</td>\n      <td>NaN</td>\n      <td>NaN</td>\n      <td>NaN</td>\n    </tr>\n  </tbody>\n</table>\n<p>2032 rows × 10 columns</p>\n</div>"
     },
     "execution_count": 16,
     "metadata": {},
     "output_type": "execute_result"
    }
   ],
   "source": [
    "# set placeid\n",
    "place_id = 7308\n",
    "# get the inaturalist taxonomy matches for additions \n",
    "inattaxa = pd.read_csv(sourcedir + \"inaturalist-australia-9/inaturalist-australia-9-taxa.csv\",dtype=str,usecols=['id','name','rank','observations_count','is_active'])\n",
    "inattaxa = inattaxa[inattaxa['is_active'] == 't']\n",
    "inattaxa = inattaxa.rename(columns = {'id':'taxon_id','name':'taxon_name'})\n",
    "inattaxa = inattaxa.add_prefix(\"inat_\")\n",
    "statelist = statelist[['state_scientificName','state_status','state_geoprivacy', 'state_WildNetTaxonID','state_authority']].merge(inattaxa,how=\"left\",left_on='state_scientificName',right_on='inat_taxon_name',suffixes=(None,'_inat'))\n",
    "statelist"
   ],
   "metadata": {
    "collapsed": false,
    "ExecuteTime": {
     "end_time": "2024-01-22T08:40:14.666354Z",
     "start_time": "2024-01-22T08:40:12.596753Z"
    }
   }
  },
  {
   "cell_type": "code",
   "execution_count": 17,
   "outputs": [
    {
     "data": {
      "text/plain": "             state_scientificName state_status state_geoprivacy  \\\n48  Diomedea antipodensis gibsoni   Vulnerable              NaN   \n\n   state_WildNetTaxonID                          state_authority  \\\n48                27768  Queensland Nature Conservation Act 1992   \n\n   inat_taxon_id inat_taxon_name inat_rank inat_observations_count  \\\n48           NaN             NaN       NaN                     NaN   \n\n   inat_is_active  \n48            NaN  ",
      "text/html": "<div>\n<style scoped>\n    .dataframe tbody tr th:only-of-type {\n        vertical-align: middle;\n    }\n\n    .dataframe tbody tr th {\n        vertical-align: top;\n    }\n\n    .dataframe thead th {\n        text-align: right;\n    }\n</style>\n<table border=\"1\" class=\"dataframe\">\n  <thead>\n    <tr style=\"text-align: right;\">\n      <th></th>\n      <th>state_scientificName</th>\n      <th>state_status</th>\n      <th>state_geoprivacy</th>\n      <th>state_WildNetTaxonID</th>\n      <th>state_authority</th>\n      <th>inat_taxon_id</th>\n      <th>inat_taxon_name</th>\n      <th>inat_rank</th>\n      <th>inat_observations_count</th>\n      <th>inat_is_active</th>\n    </tr>\n  </thead>\n  <tbody>\n    <tr>\n      <th>48</th>\n      <td>Diomedea antipodensis gibsoni</td>\n      <td>Vulnerable</td>\n      <td>NaN</td>\n      <td>27768</td>\n      <td>Queensland Nature Conservation Act 1992</td>\n      <td>NaN</td>\n      <td>NaN</td>\n      <td>NaN</td>\n      <td>NaN</td>\n      <td>NaN</td>\n    </tr>\n  </tbody>\n</table>\n</div>"
     },
     "execution_count": 17,
     "metadata": {},
     "output_type": "execute_result"
    }
   ],
   "source": [
    "statelist[statelist['state_scientificName'] == 'Diomedea antipodensis gibsoni']"
   ],
   "metadata": {
    "collapsed": false,
    "ExecuteTime": {
     "end_time": "2024-01-22T08:40:50.573599Z",
     "start_time": "2024-01-22T08:40:50.563Z"
    }
   }
  },
  {
   "cell_type": "code",
   "execution_count": 8,
   "outputs": [],
   "source": [
    "mergedstatuses = statelist.merge(inatstatuses,how=\"outer\",left_on='state_scientificName',right_on='inat_scientificName')"
   ],
   "metadata": {
    "collapsed": false,
    "ExecuteTime": {
     "end_time": "2024-01-22T08:38:53.143202Z",
     "start_time": "2024-01-22T08:38:53.138038Z"
    }
   }
  },
  {
   "cell_type": "code",
   "execution_count": 9,
   "outputs": [],
   "source": [
    "\n",
    "# add extra fields \n",
    "# add some extra fields\n",
    "mergedstatuses['place_id'] = str(place_id)\n",
    "mergedstatuses['username'] = 'peggydnew'\n",
    "mergedstatuses['description'] = \"Todo\"\n",
    "mergedstatuses['state_url'] = \"https://apps.des.qld.gov.au/species-search/details/?id=\" + mergedstatuses['state_WildNetTaxonID'].astype(str)\n",
    "mergedstatuses['state_iucn_equivalent'] = mergedstatuses['state_status'].map(iucnStatusMappings).fillna('30') # map to dictionary, Vulnerable default\n",
    "mergedstatuses['state_status'] = mergedstatuses['state_status'].fillna('Confidential')\n",
    "mergedstatuses['state_geoprivacy'] = mergedstatuses['state_geoprivacy'].fillna('open')\n",
    "mergedstatuses['inat_taxon_id'] = mergedstatuses['inat_taxon_id_y'].fillna(mergedstatuses['inat_taxon_id_x'])\n",
    "mergedstatuses['inat_scientificName'] = mergedstatuses['inat_scientificName'].fillna(mergedstatuses['inat_taxon_name'])\n",
    "confidentialmsg = \"Listed as Confidential - refer to https://www.data.qld.gov.au/dataset/queensland-confidential-species\"\n",
    "mergedstatuses['description'] = mergedstatuses.apply(lambda x: confidentialmsg if x['state_geoprivacy'] == \"obscured\" else \"\", axis=1)\n",
    "\n",
    "# UPDATE: inat status and state status both exist\n",
    "# REMOVE: inat status exists, state status does not\n",
    "# ADD: state status exists, inat status does not (matching taxon)\n",
    "# NO MATCH: state status exists, inat taxa not found\n",
    "mergedstatuses['action'] = 'na'\n",
    "mergedstatuses.loc[mergedstatuses['inat_id'].notnull() & mergedstatuses['state_scientificName'].notnull(), 'action'] = \"UPDATE\"\n",
    "mergedstatuses.loc[mergedstatuses['inat_id'].notnull() & mergedstatuses['state_scientificName'].isnull(), 'action'] = \"REMOVE\"\n",
    "mergedstatuses.loc[mergedstatuses['inat_id'].isnull() & mergedstatuses['inat_taxon_id'].notnull(), 'action'] = \"ADD\"\n",
    "mergedstatuses.loc[mergedstatuses['inat_id'].isnull() & mergedstatuses['inat_taxon_id'].isnull(), 'action'] = \"NO MATCH\"\n",
    "\n",
    "# only update those with different values \n",
    "mergedstatuses['action'] = mergedstatuses.apply(lambda x: \"NO CHANGE\" if (x['action'] == \"UPDATE\") & ((x['state_status'] == x['inat_status']) & (x['state_geoprivacy'] == x['inat_geoprivacy'] ) & (x['state_geoprivacy'] == x['inat_geoprivacy']) & (x['state_iucn_equivalent'] == x['inat_iucn'])) else x['action'], axis=1)\n",
    "\n",
    "# display\n",
    "mergedstatusesprintfriendly = mergedstatuses[['action','inat_id','inat_taxon_id','state_scientificName','inat_scientificName', 'state_status','inat_status','state_geoprivacy','inat_geoprivacy','state_iucn_equivalent','inat_iucn','state_authority','inat_authority','state_url','inat_url','inat_description','inat_place_display_name','inat_current_synonymous_taxon_ids']]\n",
    "\n",
    "#mergedstatuses['new_iucn_equivalent'] = mergedstatuses['status'].str.lower().str.strip().map(iucnStatusMappings).fillna('Vulnerable') # map to dictionary\n",
    "#mergedstatuses['new_status'] = mergedstatuses['status'].fillna('Confidential')\n",
    "#mergedstatuses['new_description'] = \"Listed as Confidential - refer to https://www.data.qld.gov.au/dataset/queensland-confidential-species\"\n"
   ],
   "metadata": {
    "collapsed": false,
    "ExecuteTime": {
     "end_time": "2024-01-22T08:38:53.188806Z",
     "start_time": "2024-01-22T08:38:53.147566Z"
    }
   }
  },
  {
   "cell_type": "code",
   "execution_count": 10,
   "outputs": [
    {
     "data": {
      "text/plain": "         action inat_id inat_taxon_id  state_scientificName  \\\n0     NO CHANGE  267024         22084       Adelotus brevis   \n1           ADD     NaN       1363722     Philoria knowlesi   \n2        UPDATE  152550         22055  Philoria kundagungan   \n3           ADD     NaN         25240      Assa darlingtoni   \n4     NO CHANGE  271456         25234        Crinia tinnula   \n...         ...     ...           ...                   ...   \n2654     REMOVE  271792        984977                   NaN   \n2655     REMOVE  271794        986296                   NaN   \n2656     REMOVE  272007        986405                   NaN   \n2657     REMOVE  272057        987744                   NaN   \n2658     REMOVE  167723        993605                   NaN   \n\n              inat_scientificName  state_status            inat_status  \\\n0                 Adelotus brevis    Vulnerable             Vulnerable   \n1               Philoria knowlesi    Endangered                    NaN   \n2            Philoria kundagungan    Endangered             Endangered   \n3                Assa darlingtoni    Vulnerable                    NaN   \n4                  Crinia tinnula    Vulnerable             Vulnerable   \n...                           ...           ...                    ...   \n2654       Lastreopsis tripinnata  Confidential  Special least concern   \n2655        Lastreopsis wurunuran  Confidential  Special least concern   \n2656  Parapolystichum windsorense  Confidential  Special least concern   \n2657           Platycerium hillii  Confidential  Special least concern   \n2658      Acianthus amplexicaulis  Confidential                     NT   \n\n     state_geoprivacy inat_geoprivacy state_iucn_equivalent inat_iucn  \\\n0                open            open                    30        30   \n1            obscured             NaN                    40       NaN   \n2            obscured        obscured                    40        30   \n3                open             NaN                    30       NaN   \n4                open            open                    30        30   \n...               ...             ...                   ...       ...   \n2654             open            open                    30        30   \n2655             open            open                    30        30   \n2656             open            open                    30        30   \n2657             open            open                    30        30   \n2658             open        obscured                    30        20   \n\n                                state_authority  \\\n0       Queensland Nature Conservation Act 1992   \n1     Qld Department of Environment and Science   \n2     Qld Department of Environment and Science   \n3       Queensland Nature Conservation Act 1992   \n4       Queensland Nature Conservation Act 1992   \n...                                         ...   \n2654                                        NaN   \n2655                                        NaN   \n2656                                        NaN   \n2657                                        NaN   \n2658                                        NaN   \n\n                                 inat_authority  \\\n0     Qld Department of Environment and Science   \n1                                           NaN   \n2     Qld Department of Environment and Science   \n3                                           NaN   \n4     Qld Department of Environment and Science   \n...                                         ...   \n2654  Qld Department of Environment and Science   \n2655  Qld Department of Environment and Science   \n2656  Qld Department of Environment and Science   \n2657  Qld Department of Environment and Science   \n2658                                   QLD DEHP   \n\n                                              state_url  \\\n0     https://apps.des.qld.gov.au/species-search/det...   \n1     https://apps.des.qld.gov.au/species-search/det...   \n2     https://apps.des.qld.gov.au/species-search/det...   \n3     https://apps.des.qld.gov.au/species-search/det...   \n4     https://apps.des.qld.gov.au/species-search/det...   \n...                                                 ...   \n2654  https://apps.des.qld.gov.au/species-search/det...   \n2655  https://apps.des.qld.gov.au/species-search/det...   \n2656  https://apps.des.qld.gov.au/species-search/det...   \n2657  https://apps.des.qld.gov.au/species-search/det...   \n2658  https://apps.des.qld.gov.au/species-search/det...   \n\n                                               inat_url inat_description  \\\n0     https://apps.des.qld.gov.au/species-search/det...       vulnerable   \n1                                                   NaN              NaN   \n2     https://apps.des.qld.gov.au/species-search/det...                    \n3                                                   NaN              NaN   \n4     https://apps.des.qld.gov.au/species-search/det...                    \n...                                                 ...              ...   \n2654  https://apps.des.qld.gov.au/species-search/det...                    \n2655  https://apps.des.qld.gov.au/species-search/det...                    \n2656  https://apps.des.qld.gov.au/species-search/det...                    \n2657  https://apps.des.qld.gov.au/species-search/det...                    \n2658  https://www.data.qld.gov.au/dataset/conservati...                    \n\n     inat_place_display_name inat_current_synonymous_taxon_ids  \n0             Queensland, AU                                    \n1                        NaN                               NaN  \n2             Queensland, AU                                    \n3                        NaN                               NaN  \n4             Queensland, AU                                    \n...                      ...                               ...  \n2654          Queensland, AU                                    \n2655          Queensland, AU                                    \n2656          Queensland, AU                                    \n2657          Queensland, AU                                    \n2658          Queensland, AU                                    \n\n[2659 rows x 18 columns]",
      "text/html": "<div>\n<style scoped>\n    .dataframe tbody tr th:only-of-type {\n        vertical-align: middle;\n    }\n\n    .dataframe tbody tr th {\n        vertical-align: top;\n    }\n\n    .dataframe thead th {\n        text-align: right;\n    }\n</style>\n<table border=\"1\" class=\"dataframe\">\n  <thead>\n    <tr style=\"text-align: right;\">\n      <th></th>\n      <th>action</th>\n      <th>inat_id</th>\n      <th>inat_taxon_id</th>\n      <th>state_scientificName</th>\n      <th>inat_scientificName</th>\n      <th>state_status</th>\n      <th>inat_status</th>\n      <th>state_geoprivacy</th>\n      <th>inat_geoprivacy</th>\n      <th>state_iucn_equivalent</th>\n      <th>inat_iucn</th>\n      <th>state_authority</th>\n      <th>inat_authority</th>\n      <th>state_url</th>\n      <th>inat_url</th>\n      <th>inat_description</th>\n      <th>inat_place_display_name</th>\n      <th>inat_current_synonymous_taxon_ids</th>\n    </tr>\n  </thead>\n  <tbody>\n    <tr>\n      <th>0</th>\n      <td>NO CHANGE</td>\n      <td>267024</td>\n      <td>22084</td>\n      <td>Adelotus brevis</td>\n      <td>Adelotus brevis</td>\n      <td>Vulnerable</td>\n      <td>Vulnerable</td>\n      <td>open</td>\n      <td>open</td>\n      <td>30</td>\n      <td>30</td>\n      <td>Queensland Nature Conservation Act 1992</td>\n      <td>Qld Department of Environment and Science</td>\n      <td>https://apps.des.qld.gov.au/species-search/det...</td>\n      <td>https://apps.des.qld.gov.au/species-search/det...</td>\n      <td>vulnerable</td>\n      <td>Queensland, AU</td>\n      <td></td>\n    </tr>\n    <tr>\n      <th>1</th>\n      <td>ADD</td>\n      <td>NaN</td>\n      <td>1363722</td>\n      <td>Philoria knowlesi</td>\n      <td>Philoria knowlesi</td>\n      <td>Endangered</td>\n      <td>NaN</td>\n      <td>obscured</td>\n      <td>NaN</td>\n      <td>40</td>\n      <td>NaN</td>\n      <td>Qld Department of Environment and Science</td>\n      <td>NaN</td>\n      <td>https://apps.des.qld.gov.au/species-search/det...</td>\n      <td>NaN</td>\n      <td>NaN</td>\n      <td>NaN</td>\n      <td>NaN</td>\n    </tr>\n    <tr>\n      <th>2</th>\n      <td>UPDATE</td>\n      <td>152550</td>\n      <td>22055</td>\n      <td>Philoria kundagungan</td>\n      <td>Philoria kundagungan</td>\n      <td>Endangered</td>\n      <td>Endangered</td>\n      <td>obscured</td>\n      <td>obscured</td>\n      <td>40</td>\n      <td>30</td>\n      <td>Qld Department of Environment and Science</td>\n      <td>Qld Department of Environment and Science</td>\n      <td>https://apps.des.qld.gov.au/species-search/det...</td>\n      <td>https://apps.des.qld.gov.au/species-search/det...</td>\n      <td></td>\n      <td>Queensland, AU</td>\n      <td></td>\n    </tr>\n    <tr>\n      <th>3</th>\n      <td>ADD</td>\n      <td>NaN</td>\n      <td>25240</td>\n      <td>Assa darlingtoni</td>\n      <td>Assa darlingtoni</td>\n      <td>Vulnerable</td>\n      <td>NaN</td>\n      <td>open</td>\n      <td>NaN</td>\n      <td>30</td>\n      <td>NaN</td>\n      <td>Queensland Nature Conservation Act 1992</td>\n      <td>NaN</td>\n      <td>https://apps.des.qld.gov.au/species-search/det...</td>\n      <td>NaN</td>\n      <td>NaN</td>\n      <td>NaN</td>\n      <td>NaN</td>\n    </tr>\n    <tr>\n      <th>4</th>\n      <td>NO CHANGE</td>\n      <td>271456</td>\n      <td>25234</td>\n      <td>Crinia tinnula</td>\n      <td>Crinia tinnula</td>\n      <td>Vulnerable</td>\n      <td>Vulnerable</td>\n      <td>open</td>\n      <td>open</td>\n      <td>30</td>\n      <td>30</td>\n      <td>Queensland Nature Conservation Act 1992</td>\n      <td>Qld Department of Environment and Science</td>\n      <td>https://apps.des.qld.gov.au/species-search/det...</td>\n      <td>https://apps.des.qld.gov.au/species-search/det...</td>\n      <td></td>\n      <td>Queensland, AU</td>\n      <td></td>\n    </tr>\n    <tr>\n      <th>...</th>\n      <td>...</td>\n      <td>...</td>\n      <td>...</td>\n      <td>...</td>\n      <td>...</td>\n      <td>...</td>\n      <td>...</td>\n      <td>...</td>\n      <td>...</td>\n      <td>...</td>\n      <td>...</td>\n      <td>...</td>\n      <td>...</td>\n      <td>...</td>\n      <td>...</td>\n      <td>...</td>\n      <td>...</td>\n      <td>...</td>\n    </tr>\n    <tr>\n      <th>2654</th>\n      <td>REMOVE</td>\n      <td>271792</td>\n      <td>984977</td>\n      <td>NaN</td>\n      <td>Lastreopsis tripinnata</td>\n      <td>Confidential</td>\n      <td>Special least concern</td>\n      <td>open</td>\n      <td>open</td>\n      <td>30</td>\n      <td>30</td>\n      <td>NaN</td>\n      <td>Qld Department of Environment and Science</td>\n      <td>https://apps.des.qld.gov.au/species-search/det...</td>\n      <td>https://apps.des.qld.gov.au/species-search/det...</td>\n      <td></td>\n      <td>Queensland, AU</td>\n      <td></td>\n    </tr>\n    <tr>\n      <th>2655</th>\n      <td>REMOVE</td>\n      <td>271794</td>\n      <td>986296</td>\n      <td>NaN</td>\n      <td>Lastreopsis wurunuran</td>\n      <td>Confidential</td>\n      <td>Special least concern</td>\n      <td>open</td>\n      <td>open</td>\n      <td>30</td>\n      <td>30</td>\n      <td>NaN</td>\n      <td>Qld Department of Environment and Science</td>\n      <td>https://apps.des.qld.gov.au/species-search/det...</td>\n      <td>https://apps.des.qld.gov.au/species-search/det...</td>\n      <td></td>\n      <td>Queensland, AU</td>\n      <td></td>\n    </tr>\n    <tr>\n      <th>2656</th>\n      <td>REMOVE</td>\n      <td>272007</td>\n      <td>986405</td>\n      <td>NaN</td>\n      <td>Parapolystichum windsorense</td>\n      <td>Confidential</td>\n      <td>Special least concern</td>\n      <td>open</td>\n      <td>open</td>\n      <td>30</td>\n      <td>30</td>\n      <td>NaN</td>\n      <td>Qld Department of Environment and Science</td>\n      <td>https://apps.des.qld.gov.au/species-search/det...</td>\n      <td>https://apps.des.qld.gov.au/species-search/det...</td>\n      <td></td>\n      <td>Queensland, AU</td>\n      <td></td>\n    </tr>\n    <tr>\n      <th>2657</th>\n      <td>REMOVE</td>\n      <td>272057</td>\n      <td>987744</td>\n      <td>NaN</td>\n      <td>Platycerium hillii</td>\n      <td>Confidential</td>\n      <td>Special least concern</td>\n      <td>open</td>\n      <td>open</td>\n      <td>30</td>\n      <td>30</td>\n      <td>NaN</td>\n      <td>Qld Department of Environment and Science</td>\n      <td>https://apps.des.qld.gov.au/species-search/det...</td>\n      <td>https://apps.des.qld.gov.au/species-search/det...</td>\n      <td></td>\n      <td>Queensland, AU</td>\n      <td></td>\n    </tr>\n    <tr>\n      <th>2658</th>\n      <td>REMOVE</td>\n      <td>167723</td>\n      <td>993605</td>\n      <td>NaN</td>\n      <td>Acianthus amplexicaulis</td>\n      <td>Confidential</td>\n      <td>NT</td>\n      <td>open</td>\n      <td>obscured</td>\n      <td>30</td>\n      <td>20</td>\n      <td>NaN</td>\n      <td>QLD DEHP</td>\n      <td>https://apps.des.qld.gov.au/species-search/det...</td>\n      <td>https://www.data.qld.gov.au/dataset/conservati...</td>\n      <td></td>\n      <td>Queensland, AU</td>\n      <td></td>\n    </tr>\n  </tbody>\n</table>\n<p>2659 rows × 18 columns</p>\n</div>"
     },
     "execution_count": 10,
     "metadata": {},
     "output_type": "execute_result"
    }
   ],
   "source": [
    "mergedstatusesprintfriendly"
   ],
   "metadata": {
    "collapsed": false,
    "ExecuteTime": {
     "end_time": "2024-01-22T08:38:53.190941Z",
     "start_time": "2024-01-22T08:38:53.187185Z"
    }
   }
  },
  {
   "cell_type": "code",
   "execution_count": 11,
   "outputs": [
    {
     "data": {
      "text/plain": "action\nADD          186\nNO CHANGE    451\nNO MATCH     504\nREMOVE       641\nUPDATE       877\ndtype: int64"
     },
     "execution_count": 11,
     "metadata": {},
     "output_type": "execute_result"
    }
   ],
   "source": [
    "mergedstatuses.groupby('action').size()"
   ],
   "metadata": {
    "collapsed": false,
    "ExecuteTime": {
     "end_time": "2024-01-22T08:38:53.193898Z",
     "start_time": "2024-01-22T08:38:53.189971Z"
    }
   }
  },
  {
   "cell_type": "markdown",
   "source": [
    "## Updates\n",
    "Updates match cleanly to an iNaturalist taxon and existing status. We'll only do an update if the status, geoprivacy or iucn values are different."
   ],
   "metadata": {
    "collapsed": false,
    "pycharm": {
     "name": "#%% md\n"
    }
   }
  },
  {
   "cell_type": "code",
   "execution_count": 12,
   "outputs": [
    {
     "data": {
      "text/plain": "      action                taxon_name      id taxon_id               status  \\\n2     UPDATE      Philoria kundagungan  152550    22055           Endangered   \n5     UPDATE          Mixophyes fleayi  152612    22064           Endangered   \n8     UPDATE       Rheobatrachus silus  272167    26674  Extinct in the wild   \n9     UPDATE  Rheobatrachus vitellinus  272168    26672              Extinct   \n10    UPDATE  Taudactylus acutirostris  272311    25294  Extinct in the wild   \n...      ...                       ...     ...      ...                  ...   \n2654  REMOVE                       NaN  271792   984977         Confidential   \n2655  REMOVE                       NaN  271794   986296         Confidential   \n2656  REMOVE                       NaN  272007   986405         Confidential   \n2657  REMOVE                       NaN  272057   987744         Confidential   \n2658  REMOVE                       NaN  167723   993605         Confidential   \n\n     iucn_equivalent                                  authority  \\\n2                 40  Qld Department of Environment and Science   \n5                 40  Qld Department of Environment and Science   \n8                 70    Queensland Nature Conservation Act 1992   \n9                 70    Queensland Nature Conservation Act 1992   \n10                70    Queensland Nature Conservation Act 1992   \n...              ...                                        ...   \n2654              30                                        NaN   \n2655              30                                        NaN   \n2656              30                                        NaN   \n2657              30                                        NaN   \n2658              30                                        NaN   \n\n                                                    url geoprivacy place_id  \\\n2     https://apps.des.qld.gov.au/species-search/det...   obscured     7308   \n5     https://apps.des.qld.gov.au/species-search/det...   obscured     7308   \n8     https://apps.des.qld.gov.au/species-search/det...       open     7308   \n9     https://apps.des.qld.gov.au/species-search/det...       open     7308   \n10    https://apps.des.qld.gov.au/species-search/det...       open     7308   \n...                                                 ...        ...      ...   \n2654  https://apps.des.qld.gov.au/species-search/det...       open     7308   \n2655  https://apps.des.qld.gov.au/species-search/det...       open     7308   \n2656  https://apps.des.qld.gov.au/species-search/det...       open     7308   \n2657  https://apps.des.qld.gov.au/species-search/det...       open     7308   \n2658  https://apps.des.qld.gov.au/species-search/det...       open     7308   \n\n       username                                        description  \n2     peggydnew  Listed as Confidential - refer to https://www....  \n5     peggydnew  Listed as Confidential - refer to https://www....  \n8     peggydnew                                                     \n9     peggydnew                                                     \n10    peggydnew                                                     \n...         ...                                                ...  \n2654  peggydnew                                                     \n2655  peggydnew                                                     \n2656  peggydnew                                                     \n2657  peggydnew                                                     \n2658  peggydnew                                                     \n\n[1518 rows x 12 columns]",
      "text/html": "<div>\n<style scoped>\n    .dataframe tbody tr th:only-of-type {\n        vertical-align: middle;\n    }\n\n    .dataframe tbody tr th {\n        vertical-align: top;\n    }\n\n    .dataframe thead th {\n        text-align: right;\n    }\n</style>\n<table border=\"1\" class=\"dataframe\">\n  <thead>\n    <tr style=\"text-align: right;\">\n      <th></th>\n      <th>action</th>\n      <th>taxon_name</th>\n      <th>id</th>\n      <th>taxon_id</th>\n      <th>status</th>\n      <th>iucn_equivalent</th>\n      <th>authority</th>\n      <th>url</th>\n      <th>geoprivacy</th>\n      <th>place_id</th>\n      <th>username</th>\n      <th>description</th>\n    </tr>\n  </thead>\n  <tbody>\n    <tr>\n      <th>2</th>\n      <td>UPDATE</td>\n      <td>Philoria kundagungan</td>\n      <td>152550</td>\n      <td>22055</td>\n      <td>Endangered</td>\n      <td>40</td>\n      <td>Qld Department of Environment and Science</td>\n      <td>https://apps.des.qld.gov.au/species-search/det...</td>\n      <td>obscured</td>\n      <td>7308</td>\n      <td>peggydnew</td>\n      <td>Listed as Confidential - refer to https://www....</td>\n    </tr>\n    <tr>\n      <th>5</th>\n      <td>UPDATE</td>\n      <td>Mixophyes fleayi</td>\n      <td>152612</td>\n      <td>22064</td>\n      <td>Endangered</td>\n      <td>40</td>\n      <td>Qld Department of Environment and Science</td>\n      <td>https://apps.des.qld.gov.au/species-search/det...</td>\n      <td>obscured</td>\n      <td>7308</td>\n      <td>peggydnew</td>\n      <td>Listed as Confidential - refer to https://www....</td>\n    </tr>\n    <tr>\n      <th>8</th>\n      <td>UPDATE</td>\n      <td>Rheobatrachus silus</td>\n      <td>272167</td>\n      <td>26674</td>\n      <td>Extinct in the wild</td>\n      <td>70</td>\n      <td>Queensland Nature Conservation Act 1992</td>\n      <td>https://apps.des.qld.gov.au/species-search/det...</td>\n      <td>open</td>\n      <td>7308</td>\n      <td>peggydnew</td>\n      <td></td>\n    </tr>\n    <tr>\n      <th>9</th>\n      <td>UPDATE</td>\n      <td>Rheobatrachus vitellinus</td>\n      <td>272168</td>\n      <td>26672</td>\n      <td>Extinct</td>\n      <td>70</td>\n      <td>Queensland Nature Conservation Act 1992</td>\n      <td>https://apps.des.qld.gov.au/species-search/det...</td>\n      <td>open</td>\n      <td>7308</td>\n      <td>peggydnew</td>\n      <td></td>\n    </tr>\n    <tr>\n      <th>10</th>\n      <td>UPDATE</td>\n      <td>Taudactylus acutirostris</td>\n      <td>272311</td>\n      <td>25294</td>\n      <td>Extinct in the wild</td>\n      <td>70</td>\n      <td>Queensland Nature Conservation Act 1992</td>\n      <td>https://apps.des.qld.gov.au/species-search/det...</td>\n      <td>open</td>\n      <td>7308</td>\n      <td>peggydnew</td>\n      <td></td>\n    </tr>\n    <tr>\n      <th>...</th>\n      <td>...</td>\n      <td>...</td>\n      <td>...</td>\n      <td>...</td>\n      <td>...</td>\n      <td>...</td>\n      <td>...</td>\n      <td>...</td>\n      <td>...</td>\n      <td>...</td>\n      <td>...</td>\n      <td>...</td>\n    </tr>\n    <tr>\n      <th>2654</th>\n      <td>REMOVE</td>\n      <td>NaN</td>\n      <td>271792</td>\n      <td>984977</td>\n      <td>Confidential</td>\n      <td>30</td>\n      <td>NaN</td>\n      <td>https://apps.des.qld.gov.au/species-search/det...</td>\n      <td>open</td>\n      <td>7308</td>\n      <td>peggydnew</td>\n      <td></td>\n    </tr>\n    <tr>\n      <th>2655</th>\n      <td>REMOVE</td>\n      <td>NaN</td>\n      <td>271794</td>\n      <td>986296</td>\n      <td>Confidential</td>\n      <td>30</td>\n      <td>NaN</td>\n      <td>https://apps.des.qld.gov.au/species-search/det...</td>\n      <td>open</td>\n      <td>7308</td>\n      <td>peggydnew</td>\n      <td></td>\n    </tr>\n    <tr>\n      <th>2656</th>\n      <td>REMOVE</td>\n      <td>NaN</td>\n      <td>272007</td>\n      <td>986405</td>\n      <td>Confidential</td>\n      <td>30</td>\n      <td>NaN</td>\n      <td>https://apps.des.qld.gov.au/species-search/det...</td>\n      <td>open</td>\n      <td>7308</td>\n      <td>peggydnew</td>\n      <td></td>\n    </tr>\n    <tr>\n      <th>2657</th>\n      <td>REMOVE</td>\n      <td>NaN</td>\n      <td>272057</td>\n      <td>987744</td>\n      <td>Confidential</td>\n      <td>30</td>\n      <td>NaN</td>\n      <td>https://apps.des.qld.gov.au/species-search/det...</td>\n      <td>open</td>\n      <td>7308</td>\n      <td>peggydnew</td>\n      <td></td>\n    </tr>\n    <tr>\n      <th>2658</th>\n      <td>REMOVE</td>\n      <td>NaN</td>\n      <td>167723</td>\n      <td>993605</td>\n      <td>Confidential</td>\n      <td>30</td>\n      <td>NaN</td>\n      <td>https://apps.des.qld.gov.au/species-search/det...</td>\n      <td>open</td>\n      <td>7308</td>\n      <td>peggydnew</td>\n      <td></td>\n    </tr>\n  </tbody>\n</table>\n<p>1518 rows × 12 columns</p>\n</div>"
     },
     "execution_count": 12,
     "metadata": {},
     "output_type": "execute_result"
    }
   ],
   "source": [
    "# Headers:\n",
    "# action,taxon_name,id,taxon_id,status,iucn_equivalent,authority,url,geoprivacy,place_id,username,description\n",
    "updates = pd.DataFrame(mergedstatuses[mergedstatuses['action'].isin(['UPDATE','REMOVE'])])\n",
    "updates = updates[['action','state_scientificName','inat_id','inat_taxon_id','state_status','state_iucn_equivalent','state_authority','state_url','state_geoprivacy','place_id','username','description']]\n",
    "updates.columns = updates.columns.str.replace(\"state_\", \"\", regex=True)\n",
    "updates.columns = updates.columns.str.replace(\"inat_\", \"\", regex=True)\n",
    "updates = updates.rename(columns={'scientificName':'taxon_name'})\n",
    "updates"
   ],
   "metadata": {
    "collapsed": false,
    "ExecuteTime": {
     "end_time": "2024-01-22T08:38:53.205640Z",
     "start_time": "2024-01-22T08:38:53.194158Z"
    }
   }
  },
  {
   "cell_type": "markdown",
   "source": [
    "Notes on these, which should all be manually handled:\n",
    "https://www.inaturalist.org/taxa/1357800 _Eulophia pulchra_ search on ALA returns _Oeceoclades pelorica_ (or Eulophia pelorica) Vulnerable in Qld\n",
    "https://www.inaturalist.org/taxa/369238 _Dendrobium mortii_ is known in Qld as _Dockrillia mortii_ with a status of SLC.\n",
    "https://www.inaturalist.org/taxa/631112 _Trichomanes endlicherianum_ is known as _Polyphlebium endlicherianum_ and on the list with a status of Vulnerable in Qld\n",
    "... etc"
   ],
   "metadata": {
    "collapsed": false,
    "pycharm": {
     "name": "#%% md\n"
    }
   }
  },
  {
   "cell_type": "markdown",
   "source": [
    "## Additions\n",
    "Match to an inat taxon and have a new sensitive or conservation status"
   ],
   "metadata": {
    "collapsed": false
   }
  },
  {
   "cell_type": "code",
   "execution_count": 13,
   "outputs": [
    {
     "data": {
      "text/plain": "     action                          Taxon_Name inat_id taxon_id  \\\n1       ADD                   Philoria knowlesi     NaN  1363722   \n3       ADD                    Assa darlingtoni     NaN    25240   \n48      ADD  Diomedea antipodensis antipodensis     NaN  1506785   \n53      ADD                Thalassarche carteri     NaN   113965   \n81      ADD                 Cacatua leadbeateri     NaN   116835   \n...     ...                                 ...     ...      ...   \n1988    ADD                          Macrozamia     NaN   129824   \n2002    ADD                         Hydnophytum     NaN   425697   \n2004    ADD                          Myrmecodia     NaN   347765   \n2009    ADD                            Huperzia     NaN    49144   \n2010    ADD                       Phlegmariurus     NaN   180575   \n\n            Status IUCN_equivalent                                  Authority  \\\n1       Endangered              40  Qld Department of Environment and Science   \n3       Vulnerable              30    Queensland Nature Conservation Act 1992   \n48      Vulnerable              30    Queensland Nature Conservation Act 1992   \n53      Vulnerable              30    Queensland Nature Conservation Act 1992   \n81      Endangered              40    Queensland Nature Conservation Act 1992   \n...            ...             ...                                        ...   \n1988  Confidential              30  Qld Department of Environment and Science   \n2002  Confidential              30  Qld Department of Environment and Science   \n2004  Confidential              30  Qld Department of Environment and Science   \n2009  Confidential              30  Qld Department of Environment and Science   \n2010  Confidential              30  Qld Department of Environment and Science   \n\n                                                    url taxon_Geoprivacy  \\\n1     https://apps.des.qld.gov.au/species-search/det...         obscured   \n3     https://apps.des.qld.gov.au/species-search/det...             open   \n48    https://apps.des.qld.gov.au/species-search/det...             open   \n53    https://apps.des.qld.gov.au/species-search/det...             open   \n81    https://apps.des.qld.gov.au/species-search/det...             open   \n...                                                 ...              ...   \n1988  https://apps.des.qld.gov.au/species-search/det...         obscured   \n2002  https://apps.des.qld.gov.au/species-search/det...         obscured   \n2004  https://apps.des.qld.gov.au/species-search/det...         obscured   \n2009  https://apps.des.qld.gov.au/species-search/det...         obscured   \n2010  https://apps.des.qld.gov.au/species-search/det...         obscured   \n\n     iNaturalst_Place_ID   username  \\\n1                   7308  peggydnew   \n3                   7308  peggydnew   \n48                  7308  peggydnew   \n53                  7308  peggydnew   \n81                  7308  peggydnew   \n...                  ...        ...   \n1988                7308  peggydnew   \n2002                7308  peggydnew   \n2004                7308  peggydnew   \n2009                7308  peggydnew   \n2010                7308  peggydnew   \n\n                                            Description  \n1     Listed as Confidential - refer to https://www....  \n3                                                        \n48                                                       \n53                                                       \n81                                                       \n...                                                 ...  \n1988  Listed as Confidential - refer to https://www....  \n2002  Listed as Confidential - refer to https://www....  \n2004  Listed as Confidential - refer to https://www....  \n2009  Listed as Confidential - refer to https://www....  \n2010  Listed as Confidential - refer to https://www....  \n\n[186 rows x 12 columns]",
      "text/html": "<div>\n<style scoped>\n    .dataframe tbody tr th:only-of-type {\n        vertical-align: middle;\n    }\n\n    .dataframe tbody tr th {\n        vertical-align: top;\n    }\n\n    .dataframe thead th {\n        text-align: right;\n    }\n</style>\n<table border=\"1\" class=\"dataframe\">\n  <thead>\n    <tr style=\"text-align: right;\">\n      <th></th>\n      <th>action</th>\n      <th>Taxon_Name</th>\n      <th>inat_id</th>\n      <th>taxon_id</th>\n      <th>Status</th>\n      <th>IUCN_equivalent</th>\n      <th>Authority</th>\n      <th>url</th>\n      <th>taxon_Geoprivacy</th>\n      <th>iNaturalst_Place_ID</th>\n      <th>username</th>\n      <th>Description</th>\n    </tr>\n  </thead>\n  <tbody>\n    <tr>\n      <th>1</th>\n      <td>ADD</td>\n      <td>Philoria knowlesi</td>\n      <td>NaN</td>\n      <td>1363722</td>\n      <td>Endangered</td>\n      <td>40</td>\n      <td>Qld Department of Environment and Science</td>\n      <td>https://apps.des.qld.gov.au/species-search/det...</td>\n      <td>obscured</td>\n      <td>7308</td>\n      <td>peggydnew</td>\n      <td>Listed as Confidential - refer to https://www....</td>\n    </tr>\n    <tr>\n      <th>3</th>\n      <td>ADD</td>\n      <td>Assa darlingtoni</td>\n      <td>NaN</td>\n      <td>25240</td>\n      <td>Vulnerable</td>\n      <td>30</td>\n      <td>Queensland Nature Conservation Act 1992</td>\n      <td>https://apps.des.qld.gov.au/species-search/det...</td>\n      <td>open</td>\n      <td>7308</td>\n      <td>peggydnew</td>\n      <td></td>\n    </tr>\n    <tr>\n      <th>48</th>\n      <td>ADD</td>\n      <td>Diomedea antipodensis antipodensis</td>\n      <td>NaN</td>\n      <td>1506785</td>\n      <td>Vulnerable</td>\n      <td>30</td>\n      <td>Queensland Nature Conservation Act 1992</td>\n      <td>https://apps.des.qld.gov.au/species-search/det...</td>\n      <td>open</td>\n      <td>7308</td>\n      <td>peggydnew</td>\n      <td></td>\n    </tr>\n    <tr>\n      <th>53</th>\n      <td>ADD</td>\n      <td>Thalassarche carteri</td>\n      <td>NaN</td>\n      <td>113965</td>\n      <td>Vulnerable</td>\n      <td>30</td>\n      <td>Queensland Nature Conservation Act 1992</td>\n      <td>https://apps.des.qld.gov.au/species-search/det...</td>\n      <td>open</td>\n      <td>7308</td>\n      <td>peggydnew</td>\n      <td></td>\n    </tr>\n    <tr>\n      <th>81</th>\n      <td>ADD</td>\n      <td>Cacatua leadbeateri</td>\n      <td>NaN</td>\n      <td>116835</td>\n      <td>Endangered</td>\n      <td>40</td>\n      <td>Queensland Nature Conservation Act 1992</td>\n      <td>https://apps.des.qld.gov.au/species-search/det...</td>\n      <td>open</td>\n      <td>7308</td>\n      <td>peggydnew</td>\n      <td></td>\n    </tr>\n    <tr>\n      <th>...</th>\n      <td>...</td>\n      <td>...</td>\n      <td>...</td>\n      <td>...</td>\n      <td>...</td>\n      <td>...</td>\n      <td>...</td>\n      <td>...</td>\n      <td>...</td>\n      <td>...</td>\n      <td>...</td>\n      <td>...</td>\n    </tr>\n    <tr>\n      <th>1988</th>\n      <td>ADD</td>\n      <td>Macrozamia</td>\n      <td>NaN</td>\n      <td>129824</td>\n      <td>Confidential</td>\n      <td>30</td>\n      <td>Qld Department of Environment and Science</td>\n      <td>https://apps.des.qld.gov.au/species-search/det...</td>\n      <td>obscured</td>\n      <td>7308</td>\n      <td>peggydnew</td>\n      <td>Listed as Confidential - refer to https://www....</td>\n    </tr>\n    <tr>\n      <th>2002</th>\n      <td>ADD</td>\n      <td>Hydnophytum</td>\n      <td>NaN</td>\n      <td>425697</td>\n      <td>Confidential</td>\n      <td>30</td>\n      <td>Qld Department of Environment and Science</td>\n      <td>https://apps.des.qld.gov.au/species-search/det...</td>\n      <td>obscured</td>\n      <td>7308</td>\n      <td>peggydnew</td>\n      <td>Listed as Confidential - refer to https://www....</td>\n    </tr>\n    <tr>\n      <th>2004</th>\n      <td>ADD</td>\n      <td>Myrmecodia</td>\n      <td>NaN</td>\n      <td>347765</td>\n      <td>Confidential</td>\n      <td>30</td>\n      <td>Qld Department of Environment and Science</td>\n      <td>https://apps.des.qld.gov.au/species-search/det...</td>\n      <td>obscured</td>\n      <td>7308</td>\n      <td>peggydnew</td>\n      <td>Listed as Confidential - refer to https://www....</td>\n    </tr>\n    <tr>\n      <th>2009</th>\n      <td>ADD</td>\n      <td>Huperzia</td>\n      <td>NaN</td>\n      <td>49144</td>\n      <td>Confidential</td>\n      <td>30</td>\n      <td>Qld Department of Environment and Science</td>\n      <td>https://apps.des.qld.gov.au/species-search/det...</td>\n      <td>obscured</td>\n      <td>7308</td>\n      <td>peggydnew</td>\n      <td>Listed as Confidential - refer to https://www....</td>\n    </tr>\n    <tr>\n      <th>2010</th>\n      <td>ADD</td>\n      <td>Phlegmariurus</td>\n      <td>NaN</td>\n      <td>180575</td>\n      <td>Confidential</td>\n      <td>30</td>\n      <td>Qld Department of Environment and Science</td>\n      <td>https://apps.des.qld.gov.au/species-search/det...</td>\n      <td>obscured</td>\n      <td>7308</td>\n      <td>peggydnew</td>\n      <td>Listed as Confidential - refer to https://www....</td>\n    </tr>\n  </tbody>\n</table>\n<p>186 rows × 12 columns</p>\n</div>"
     },
     "execution_count": 13,
     "metadata": {},
     "output_type": "execute_result"
    }
   ],
   "source": [
    "# Headers:\n",
    "# Taxon_Name,Status,Authority,IUCN_equivalent,Description,iNaturalist_Place_ID,url,Taxon_Geoprivacy,Username,taxon_id\n",
    "\n",
    "additions = pd.DataFrame(mergedstatuses[mergedstatuses['action'] == \"ADD\"])\n",
    "additions = additions[['action','state_scientificName','inat_id','inat_taxon_id','state_status','state_iucn_equivalent','state_authority','state_url','state_geoprivacy','place_id','username','description']]\n",
    "additions = additions.rename(columns={'state_scientificName':'Taxon_Name',\n",
    "                                      'state_status':'Status',\n",
    "                                      'state_authority':'Authority',\n",
    "                                      'state_iucn_equivalent':'IUCN_equivalent',\n",
    "                                      'description':'Description',\n",
    "                                      'place_id':'iNaturalst_Place_ID',\n",
    "                                      'state_url':'url',\n",
    "                                      'state_geoprivacy':'taxon_Geoprivacy',\n",
    "                                      'inat_taxon_id':'taxon_id'})\n",
    "additions"
   ],
   "metadata": {
    "collapsed": false,
    "ExecuteTime": {
     "end_time": "2024-01-22T08:38:53.238142Z",
     "start_time": "2024-01-22T08:38:53.202284Z"
    }
   }
  },
  {
   "cell_type": "code",
   "execution_count": 14,
   "outputs": [],
   "source": [
    "# write these to output files\n",
    "mergedstatusesprintfriendly.to_csv(projectdir + \"data/out/summaries/qld.csv\",index=False)\n",
    "updates.to_csv(projectdir + \"data/out/updates-qld.csv\", index=False)\n",
    "additions.to_csv(projectdir + \"data/out/additions-qld.csv\", index=False)\n"
   ],
   "metadata": {
    "collapsed": false,
    "ExecuteTime": {
     "end_time": "2024-01-22T08:38:53.333147Z",
     "start_time": "2024-01-22T08:38:53.227376Z"
    }
   }
  },
  {
   "cell_type": "markdown",
   "source": [
    "# Stats"
   ],
   "metadata": {
    "collapsed": false,
    "pycharm": {
     "name": "#%% md\n"
    }
   }
  },
  {
   "cell_type": "code",
   "execution_count": 15,
   "outputs": [
    {
     "ename": "KeyError",
     "evalue": "'scientificName'",
     "output_type": "error",
     "traceback": [
      "\u001B[0;31m---------------------------------------------------------------------------\u001B[0m",
      "\u001B[0;31mKeyError\u001B[0m                                  Traceback (most recent call last)",
      "File \u001B[0;32m~/IdeaProjects/inaturalist-statuses/venv/lib/python3.11/site-packages/pandas/core/indexes/base.py:3791\u001B[0m, in \u001B[0;36mIndex.get_loc\u001B[0;34m(self, key)\u001B[0m\n\u001B[1;32m   3790\u001B[0m \u001B[38;5;28;01mtry\u001B[39;00m:\n\u001B[0;32m-> 3791\u001B[0m     \u001B[38;5;28;01mreturn\u001B[39;00m \u001B[38;5;28;43mself\u001B[39;49m\u001B[38;5;241;43m.\u001B[39;49m\u001B[43m_engine\u001B[49m\u001B[38;5;241;43m.\u001B[39;49m\u001B[43mget_loc\u001B[49m\u001B[43m(\u001B[49m\u001B[43mcasted_key\u001B[49m\u001B[43m)\u001B[49m\n\u001B[1;32m   3792\u001B[0m \u001B[38;5;28;01mexcept\u001B[39;00m \u001B[38;5;167;01mKeyError\u001B[39;00m \u001B[38;5;28;01mas\u001B[39;00m err:\n",
      "File \u001B[0;32mindex.pyx:152\u001B[0m, in \u001B[0;36mpandas._libs.index.IndexEngine.get_loc\u001B[0;34m()\u001B[0m\n",
      "File \u001B[0;32mindex.pyx:181\u001B[0m, in \u001B[0;36mpandas._libs.index.IndexEngine.get_loc\u001B[0;34m()\u001B[0m\n",
      "File \u001B[0;32mpandas/_libs/hashtable_class_helper.pxi:7080\u001B[0m, in \u001B[0;36mpandas._libs.hashtable.PyObjectHashTable.get_item\u001B[0;34m()\u001B[0m\n",
      "File \u001B[0;32mpandas/_libs/hashtable_class_helper.pxi:7088\u001B[0m, in \u001B[0;36mpandas._libs.hashtable.PyObjectHashTable.get_item\u001B[0;34m()\u001B[0m\n",
      "\u001B[0;31mKeyError\u001B[0m: 'scientificName'",
      "\nThe above exception was the direct cause of the following exception:\n",
      "\u001B[0;31mKeyError\u001B[0m                                  Traceback (most recent call last)",
      "Cell \u001B[0;32mIn[15], line 3\u001B[0m\n\u001B[1;32m      1\u001B[0m \u001B[38;5;66;03m# should we search for synonyms?\u001B[39;00m\n\u001B[1;32m      2\u001B[0m \u001B[38;5;66;03m#Litoria lorica\u001B[39;00m\n\u001B[0;32m----> 3\u001B[0m inattaxa[\u001B[43minattaxa\u001B[49m\u001B[43m[\u001B[49m\u001B[38;5;124;43m'\u001B[39;49m\u001B[38;5;124;43mscientificName\u001B[39;49m\u001B[38;5;124;43m'\u001B[39;49m\u001B[43m]\u001B[49m\u001B[38;5;241m==\u001B[39m\u001B[38;5;124m'\u001B[39m\u001B[38;5;124mRanoidea lorica\u001B[39m\u001B[38;5;124m'\u001B[39m]\n",
      "File \u001B[0;32m~/IdeaProjects/inaturalist-statuses/venv/lib/python3.11/site-packages/pandas/core/frame.py:3893\u001B[0m, in \u001B[0;36mDataFrame.__getitem__\u001B[0;34m(self, key)\u001B[0m\n\u001B[1;32m   3891\u001B[0m \u001B[38;5;28;01mif\u001B[39;00m \u001B[38;5;28mself\u001B[39m\u001B[38;5;241m.\u001B[39mcolumns\u001B[38;5;241m.\u001B[39mnlevels \u001B[38;5;241m>\u001B[39m \u001B[38;5;241m1\u001B[39m:\n\u001B[1;32m   3892\u001B[0m     \u001B[38;5;28;01mreturn\u001B[39;00m \u001B[38;5;28mself\u001B[39m\u001B[38;5;241m.\u001B[39m_getitem_multilevel(key)\n\u001B[0;32m-> 3893\u001B[0m indexer \u001B[38;5;241m=\u001B[39m \u001B[38;5;28;43mself\u001B[39;49m\u001B[38;5;241;43m.\u001B[39;49m\u001B[43mcolumns\u001B[49m\u001B[38;5;241;43m.\u001B[39;49m\u001B[43mget_loc\u001B[49m\u001B[43m(\u001B[49m\u001B[43mkey\u001B[49m\u001B[43m)\u001B[49m\n\u001B[1;32m   3894\u001B[0m \u001B[38;5;28;01mif\u001B[39;00m is_integer(indexer):\n\u001B[1;32m   3895\u001B[0m     indexer \u001B[38;5;241m=\u001B[39m [indexer]\n",
      "File \u001B[0;32m~/IdeaProjects/inaturalist-statuses/venv/lib/python3.11/site-packages/pandas/core/indexes/base.py:3798\u001B[0m, in \u001B[0;36mIndex.get_loc\u001B[0;34m(self, key)\u001B[0m\n\u001B[1;32m   3793\u001B[0m     \u001B[38;5;28;01mif\u001B[39;00m \u001B[38;5;28misinstance\u001B[39m(casted_key, \u001B[38;5;28mslice\u001B[39m) \u001B[38;5;129;01mor\u001B[39;00m (\n\u001B[1;32m   3794\u001B[0m         \u001B[38;5;28misinstance\u001B[39m(casted_key, abc\u001B[38;5;241m.\u001B[39mIterable)\n\u001B[1;32m   3795\u001B[0m         \u001B[38;5;129;01mand\u001B[39;00m \u001B[38;5;28many\u001B[39m(\u001B[38;5;28misinstance\u001B[39m(x, \u001B[38;5;28mslice\u001B[39m) \u001B[38;5;28;01mfor\u001B[39;00m x \u001B[38;5;129;01min\u001B[39;00m casted_key)\n\u001B[1;32m   3796\u001B[0m     ):\n\u001B[1;32m   3797\u001B[0m         \u001B[38;5;28;01mraise\u001B[39;00m InvalidIndexError(key)\n\u001B[0;32m-> 3798\u001B[0m     \u001B[38;5;28;01mraise\u001B[39;00m \u001B[38;5;167;01mKeyError\u001B[39;00m(key) \u001B[38;5;28;01mfrom\u001B[39;00m \u001B[38;5;21;01merr\u001B[39;00m\n\u001B[1;32m   3799\u001B[0m \u001B[38;5;28;01mexcept\u001B[39;00m \u001B[38;5;167;01mTypeError\u001B[39;00m:\n\u001B[1;32m   3800\u001B[0m     \u001B[38;5;66;03m# If we have a listlike key, _check_indexing_error will raise\u001B[39;00m\n\u001B[1;32m   3801\u001B[0m     \u001B[38;5;66;03m#  InvalidIndexError. Otherwise we fall through and re-raise\u001B[39;00m\n\u001B[1;32m   3802\u001B[0m     \u001B[38;5;66;03m#  the TypeError.\u001B[39;00m\n\u001B[1;32m   3803\u001B[0m     \u001B[38;5;28mself\u001B[39m\u001B[38;5;241m.\u001B[39m_check_indexing_error(key)\n",
      "\u001B[0;31mKeyError\u001B[0m: 'scientificName'"
     ]
    }
   ],
   "source": [
    "# should we search for synonyms?\n",
    "#Litoria lorica\n",
    "inattaxa[inattaxa['scientificName']=='Ranoidea lorica']\n"
   ],
   "metadata": {
    "collapsed": false,
    "pycharm": {
     "name": "#%%\n"
    },
    "ExecuteTime": {
     "end_time": "2024-01-22T08:38:53.888011Z",
     "start_time": "2024-01-22T08:38:53.264856Z"
    }
   }
  }
 ],
 "metadata": {
  "kernelspec": {
   "display_name": "Python 3",
   "language": "python",
   "name": "python3"
  },
  "language_info": {
   "codemirror_mode": {
    "name": "ipython",
    "version": 2
   },
   "file_extension": ".py",
   "mimetype": "text/x-python",
   "name": "python",
   "nbconvert_exporter": "python",
   "pygments_lexer": "ipython2",
   "version": "2.7.6"
  }
 },
 "nbformat": 4,
 "nbformat_minor": 0
}
