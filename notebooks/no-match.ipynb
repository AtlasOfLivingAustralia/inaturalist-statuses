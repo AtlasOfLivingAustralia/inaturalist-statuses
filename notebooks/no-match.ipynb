{
 "cells": [
  {
   "cell_type": "code",
   "execution_count": null,
   "id": "initial_id",
   "metadata": {
    "collapsed": true
   },
   "outputs": [],
   "source": [
    "unmatchedtaxonids = [\"113967\",\"\"]\n",
    "# to go the API to retrieve taxon names\n",
    "import requests\n",
    "import json\n",
    "from time import sleep\n",
    "\n",
    "apiurlbase = \"https://api.inaturalist.org/v1/taxa/\"\n",
    "taxonlist = []\n",
    "i = 1\n",
    "for unmatchedid in unmatchedtaxonids:\n",
    "    print(str(i) + \" \" + unmatchedid)\n",
    "    apiurl = apiurlbase + str(unmatchedid)\n",
    "    response = requests.request(\"GET\", apiurl)\n",
    "    payload = json.loads(response.text)\n",
    "    if (payload['total_results'] == 1):\n",
    "        r = payload['results'][0]\n",
    "        try:\n",
    "            common_name = r['preferred_common_name']\n",
    "        except KeyError:\n",
    "            common_name = \"\"\n",
    "        taxonlist.append({'taxon_id': unmatchedid,\n",
    "                          'name':r['name'],\n",
    "                          'preferred_common_name':common_name,\n",
    "                          'is_active':r['is_active'],\n",
    "                          'observation_count':r['observations_count'],'current_synonymous_taxon_ids':r['current_synonymous_taxon_ids']})\n",
    "    else:\n",
    "        print(\"Warning: taxon_id \" + unmatchedid + \"returns more than one result from inaturalist\")\n",
    "    sleep(1)\n",
    "    i+=1\n"
   ]
  }
 ],
 "metadata": {
  "kernelspec": {
   "display_name": "Python 3",
   "language": "python",
   "name": "python3"
  },
  "language_info": {
   "codemirror_mode": {
    "name": "ipython",
    "version": 2
   },
   "file_extension": ".py",
   "mimetype": "text/x-python",
   "name": "python",
   "nbconvert_exporter": "python",
   "pygments_lexer": "ipython2",
   "version": "2.7.6"
  }
 },
 "nbformat": 4,
 "nbformat_minor": 5
}
