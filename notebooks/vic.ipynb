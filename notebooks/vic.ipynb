{
 "cells": [
  {
   "cell_type": "markdown",
   "source": [
    "# iNaturalist status updates by state - SA\n",
    "\n",
    "Using the file produced in the collate-status-taxa.ipynb: `inat-aust-status-taxa.csv` (statuses joined to taxa names), generate lists to update iNaturalist statuses\n",
    "\n",
    "## Prep - common to all states\n",
    "1. Read in the inaturalist statuses & filter out this state\n",
    "2. Read in the state conservation and sensitive lists\n",
    "3. Prep fields incl IUCN equivalent mappings and matching to iNat taxonomy  \n",
    "4. Merge and compare the state and inaturalist lists\n",
    "5. Create update/removals list\n",
    "6. Create additions list\n",
    "7. Save files\n",
    "\n",
    "## 1. Read in the inaturalist statuses & filter out VIC"
   ],
   "metadata": {
    "collapsed": false,
    "pycharm": {
     "name": "#%% md\n"
    }
   }
  },
  {
   "cell_type": "code",
   "execution_count": 1,
   "metadata": {
    "collapsed": true,
    "pycharm": {
     "name": "#%%\n"
    },
    "ExecuteTime": {
     "end_time": "2024-01-20T02:31:05.780779Z",
     "start_time": "2024-01-20T02:31:05.170259Z"
    }
   },
   "outputs": [
    {
     "data": {
      "text/plain": "inat_status\nCR                                    2\nConservation Dependent                2\nCritically Endangered               479\nCritically Endangered                 1\nEN                                    4\nEndangered                          924\nEndangered (Extinct in Victoria)      1\nExtinct                              44\nNT                                    1\nPoorly known                          1\nSensitive                             8\nThreatened                            4\nVulnerable                          260\nendangered                            1\ndtype: int64"
     },
     "execution_count": 1,
     "metadata": {},
     "output_type": "execute_result"
    }
   ],
   "source": [
    "import pandas as pd\n",
    "import sys\n",
    "import os\n",
    "projectdir = os.path.dirname(os.getcwd()) + \"/\" # parent dir of cwd\n",
    "sourcedir = projectdir + \"data/in/\"\n",
    "sys.path.append(os.path.abspath(projectdir + \"notebooks/includes/\"))\n",
    "import list_functions  as lf\n",
    "\n",
    "# read in the statuses file\n",
    "taxastatus = pd.read_csv(sourcedir + \"inat-aust-status-taxa.csv\", encoding='UTF-8',na_filter=False,dtype=str)\n",
    "\n",
    "# filter out ACT entries\n",
    "def filter_state_statuses(stateregex: str, urlregex: str):\n",
    "    authoritydf = taxastatus['authority'].drop_duplicates().sort_values()\n",
    "    authoritydf = authoritydf[pd.Series(authoritydf).str.contains(stateregex)]\n",
    "    urldf = taxastatus['url'].drop_duplicates().sort_values()\n",
    "    urldf = urldf[pd.Series(urldf).str.contains(urlregex)]\n",
    "    placedisplaydf = taxastatus['place_display_name'].drop_duplicates().sort_values()\n",
    "    placedisplaydf = placedisplaydf[pd.Series(placedisplaydf).str.contains(stateregex)]\n",
    "    placedf = taxastatus['place_name'].drop_duplicates().sort_values()\n",
    "    placedf = placedf[pd.Series(placedf).str.contains(stateregex)]\n",
    "    # concat all and remove duplicates\n",
    "    statedf = pd.concat([taxastatus.apply(lambda row: row[taxastatus['place_display_name'].isin(placedisplaydf)]),\n",
    "                         taxastatus.apply(lambda row: row[taxastatus['place_name'].isin(placedf)]),\n",
    "                         taxastatus.apply(lambda row: row[taxastatus['url'].isin(urldf)]),\n",
    "                         taxastatus.apply(\n",
    "                             lambda row: row[taxastatus['authority'].isin(authoritydf)])]).drop_duplicates()\n",
    "    return statedf.sort_values(['taxon_id', 'user_id'])\n",
    "\n",
    "inatstatuses = filter_state_statuses(\" VIC |Victoria|VICTORIA|Vic\",\"vic.gov.au\")\n",
    "inatstatuses = inatstatuses.add_prefix(\"inat_\")\n",
    "inatstatuses.groupby(['inat_status']).size()\n"
   ]
  },
  {
   "cell_type": "markdown",
   "source": [
    "### 2. iNaturalist taxonomy"
   ],
   "metadata": {
    "collapsed": false,
    "pycharm": {
     "name": "#%% md\n"
    }
   }
  },
  {
   "cell_type": "markdown",
   "source": [
    "### 3. State lists\n",
    "\n",
    "Get the ALA Conservation and Sensitive lists\n"
   ],
   "metadata": {
    "collapsed": false,
    "pycharm": {
     "name": "#%% md\n"
    }
   }
  },
  {
   "cell_type": "code",
   "execution_count": 4,
   "outputs": [],
   "source": [
    "#  %%script echo skipping # comment this line to download dataset from lists.ala.org.au the web and save locally\n",
    "\n",
    "sensitivelist = lf.download_ala_specieslist(\"https://lists.ala.org.au/ws/speciesListItems/dr490?max=10000&includeKVP=true\")\n",
    "sensitivelist = lf.kvp_to_columns(sensitivelist)\n",
    "sensitivelist.to_csv(sourcedir + \"state-lists/vic-ala-sensitive.csv\", index=False)\n",
    "\n",
    "conservationlist = lf.download_ala_specieslist(\"https://lists.ala.org.au/ws/speciesListItems/dr655?max=10000&includeKVP=true\")\n",
    "conservationlist = lf.kvp_to_columns(conservationlist)\n",
    "conservationlist.to_csv(sourcedir + \"state-lists/vic-ala-conservation.csv\", index=False)"
   ],
   "metadata": {
    "collapsed": false,
    "pycharm": {
     "name": "#%%\n"
    },
    "ExecuteTime": {
     "end_time": "2024-01-20T02:49:25.601615Z",
     "start_time": "2024-01-20T02:49:20.879012Z"
    }
   }
  },
  {
   "cell_type": "code",
   "execution_count": 14,
   "outputs": [
    {
     "name": "stdout",
     "output_type": "stream",
     "text": [
      "Conservation list entries:1999\n",
      "Sensitive list entries:136\n"
     ]
    },
    {
     "data": {
      "text/plain": "state_status\nConservation Dependent       3\nCritically Endangered      559\nEndangered                1074\nExtinct                     54\nRestricted                  12\nThreatened                   5\nVulnerable                 304\ndtype: int64"
     },
     "execution_count": 14,
     "metadata": {},
     "output_type": "execute_result"
    }
   ],
   "source": [
    "# Read sensitive list data\n",
    "sensitivelist = pd.read_csv(sourcedir + \"state-lists/vic-ala-sensitive.csv\", dtype=str)\n",
    "sensitivelist['geoprivacy'] = 'obscured'\n",
    "sensitivelist['authority'] = 'Victorian Biodiversity Atlas'\n",
    "sensitivelist['status'] = 'Restricted'\n",
    "conservationlist = pd.read_csv(sourcedir + \"state-lists/vic-ala-conservation.csv\", dtype=str)\n",
    "conservationlist['geoprivacy'] = \"\"\n",
    "conservationlist['authority'] = 'Victorian Department of Energy, Environment and Climate Action'\n",
    "\n",
    "statelist = conservationlist[['id','name','lsid','status','geoprivacy','authority']].merge(sensitivelist[['id','name','lsid','geoprivacy','status','authority']], how=\"outer\",on='name',suffixes=('_conservation', '_sensitive'))\n",
    "statelist['status'] = statelist['status_conservation'].fillna(statelist['status_sensitive'])\n",
    "statelist['authority'] = statelist['authority_conservation'].fillna(statelist['authority_sensitive'])\n",
    "statelist['geoprivacy'] = statelist['geoprivacy_sensitive'].fillna('open')\n",
    "statelist = statelist.rename(columns = {'name':'scientificName'})\n",
    "statelist = statelist.add_prefix(\"state_\")\n",
    "print(\"Conservation list entries:\" + str(len(conservationlist)))\n",
    "print(\"Sensitive list entries:\" + str(len(sensitivelist)))\n",
    "statelist.groupby('state_status',dropna=False).size()\n",
    "#statelist.groupby('state_geoprivacy',dropna=False).size()"
   ],
   "metadata": {
    "collapsed": false,
    "pycharm": {
     "name": "#%%\n"
    },
    "ExecuteTime": {
     "end_time": "2024-01-20T03:04:29.076343Z",
     "start_time": "2024-01-20T03:04:29.032317Z"
    }
   }
  },
  {
   "cell_type": "markdown",
   "source": [
    "### 4. Equivalent IUCN statuses"
   ],
   "metadata": {
    "collapsed": false,
    "pycharm": {
     "name": "#%% md\n"
    }
   }
  },
  {
   "cell_type": "code",
   "execution_count": 21,
   "outputs": [],
   "source": [
    "iucnStatusMappings = {\n",
    "    'Least concern':'10',\n",
    "    'Special least concern':'10',\n",
    "    'Near Threatened':'20',\n",
    "    'Conservation Dependent':'20',\n",
    "    'Vulnerable':'30',\n",
    "    'Threatened':'30',\n",
    "    'Restricted':'30',\n",
    "    'Sensitive':'30',\n",
    "    'Rare':'30',\n",
    "    'Endangered':'40',\n",
    "    'Critically Endangered':'50',\n",
    "    'Extinct':'70',\n",
    "    'Extinct in the wild':'70',\n",
    "}"
   ],
   "metadata": {
    "collapsed": false,
    "pycharm": {
     "name": "#%%\n"
    },
    "ExecuteTime": {
     "end_time": "2024-01-20T03:15:51.672998Z",
     "start_time": "2024-01-20T03:15:51.647605Z"
    }
   }
  },
  {
   "cell_type": "markdown",
   "source": [
    "### 5. Determine best place ID to use"
   ],
   "metadata": {
    "collapsed": false,
    "pycharm": {
     "name": "#%% md\n"
    }
   }
  },
  {
   "cell_type": "code",
   "execution_count": 17,
   "outputs": [
    {
     "data": {
      "text/plain": "inat_place_id  inat_place_name  inat_place_display_name\n6744           Australia        Australia                     2\n7830           Victoria         Victoria, AU               1730\nName: inat_place_id, dtype: int64"
     },
     "execution_count": 17,
     "metadata": {},
     "output_type": "execute_result"
    }
   ],
   "source": [
    "inatstatuses.groupby(['inat_place_id','inat_place_name','inat_place_display_name'])['inat_place_id'].count()\n",
    "# looks like 7830 - note for extract\n"
   ],
   "metadata": {
    "collapsed": false,
    "pycharm": {
     "name": "#%%\n"
    },
    "ExecuteTime": {
     "end_time": "2024-01-20T03:09:31.044689Z",
     "start_time": "2024-01-20T03:09:31.011599Z"
    }
   }
  },
  {
   "cell_type": "markdown",
   "source": [
    "## Merge iNaturalist statuses with State lists on scientificName\n"
   ],
   "metadata": {
    "collapsed": false,
    "pycharm": {
     "name": "#%% md\n"
    }
   }
  },
  {
   "cell_type": "code",
   "execution_count": 22,
   "outputs": [
    {
     "data": {
      "text/plain": "             state_scientificName           state_status state_geoprivacy  \\\n0              Ambassis agassizii                Extinct             open   \n1               Bidyanus bidyanus             Endangered             open   \n2               Chelodina expansa             Endangered             open   \n3     Craterocephalus fluviatilis  Critically Endangered             open   \n4               Emydura macquarii  Critically Endangered             open   \n...                           ...                    ...              ...   \n2009     Prasophyllum retroflexum             Restricted         obscured   \n2010       Pterostylis tenuissima             Restricted         obscured   \n2011     Callocephalon fimbriatum             Restricted         obscured   \n2012             Oecetis quadrula             Restricted         obscured   \n2013       Pseudocloeon hypodelum             Restricted         obscured   \n\n                                state_lsid_conservation  \\\n0     https://biodiversity.org.au/afd/taxa/b0ff773c-...   \n1     https://biodiversity.org.au/afd/taxa/05866f31-...   \n2     https://biodiversity.org.au/afd/taxa/fc7d0724-...   \n3     https://biodiversity.org.au/afd/taxa/50568ccf-...   \n4     https://biodiversity.org.au/afd/taxa/39c22a1e-...   \n...                                                 ...   \n2009                                                NaN   \n2010                                                NaN   \n2011                                                NaN   \n2012                                                NaN   \n2013                                                NaN   \n\n                                   state_lsid_sensitive  \\\n0                                                   NaN   \n1                                                   NaN   \n2                                                   NaN   \n3                                                   NaN   \n4                                                   NaN   \n...                                                 ...   \n2009  https://id.biodiversity.org.au/taxon/apni/5140...   \n2010  https://id.biodiversity.org.au/taxon/apni/5141...   \n2011  https://biodiversity.org.au/afd/taxa/6c646af8-...   \n2012  https://biodiversity.org.au/afd/taxa/1b3ac25a-...   \n2013  https://biodiversity.org.au/afd/taxa/3fabe575-...   \n\n                                        state_authority inat_taxon_id  \\\n0     Victorian Department of Energy, Environment an...         93797   \n1     Victorian Department of Energy, Environment an...         95759   \n2     Victorian Department of Energy, Environment an...         39599   \n3     Victorian Department of Energy, Environment an...         98614   \n4     Victorian Department of Energy, Environment an...         99882   \n...                                                 ...           ...   \n2009                       Victorian Biodiversity Atlas           NaN   \n2010                       Victorian Biodiversity Atlas        553266   \n2011                       Victorian Biodiversity Atlas        116842   \n2012                       Victorian Biodiversity Atlas           NaN   \n2013                       Victorian Biodiversity Atlas           NaN   \n\n                  inat_taxon_name inat_rank inat_observations_count  \\\n0              Ambassis agassizii   species                      34   \n1               Bidyanus bidyanus   species                      38   \n2               Chelodina expansa   species                     189   \n3     Craterocephalus fluviatilis   species                       0   \n4               Emydura macquarii   species                    2934   \n...                           ...       ...                     ...   \n2009                          NaN       NaN                     NaN   \n2010       Pterostylis tenuissima   species                       6   \n2011     Callocephalon fimbriatum   species                    4448   \n2012                          NaN       NaN                     NaN   \n2013                          NaN       NaN                     NaN   \n\n     inat_is_active  \n0                 t  \n1                 t  \n2                 t  \n3                 t  \n4                 t  \n...             ...  \n2009            NaN  \n2010              t  \n2011              t  \n2012            NaN  \n2013            NaN  \n\n[2014 rows x 11 columns]",
      "text/html": "<div>\n<style scoped>\n    .dataframe tbody tr th:only-of-type {\n        vertical-align: middle;\n    }\n\n    .dataframe tbody tr th {\n        vertical-align: top;\n    }\n\n    .dataframe thead th {\n        text-align: right;\n    }\n</style>\n<table border=\"1\" class=\"dataframe\">\n  <thead>\n    <tr style=\"text-align: right;\">\n      <th></th>\n      <th>state_scientificName</th>\n      <th>state_status</th>\n      <th>state_geoprivacy</th>\n      <th>state_lsid_conservation</th>\n      <th>state_lsid_sensitive</th>\n      <th>state_authority</th>\n      <th>inat_taxon_id</th>\n      <th>inat_taxon_name</th>\n      <th>inat_rank</th>\n      <th>inat_observations_count</th>\n      <th>inat_is_active</th>\n    </tr>\n  </thead>\n  <tbody>\n    <tr>\n      <th>0</th>\n      <td>Ambassis agassizii</td>\n      <td>Extinct</td>\n      <td>open</td>\n      <td>https://biodiversity.org.au/afd/taxa/b0ff773c-...</td>\n      <td>NaN</td>\n      <td>Victorian Department of Energy, Environment an...</td>\n      <td>93797</td>\n      <td>Ambassis agassizii</td>\n      <td>species</td>\n      <td>34</td>\n      <td>t</td>\n    </tr>\n    <tr>\n      <th>1</th>\n      <td>Bidyanus bidyanus</td>\n      <td>Endangered</td>\n      <td>open</td>\n      <td>https://biodiversity.org.au/afd/taxa/05866f31-...</td>\n      <td>NaN</td>\n      <td>Victorian Department of Energy, Environment an...</td>\n      <td>95759</td>\n      <td>Bidyanus bidyanus</td>\n      <td>species</td>\n      <td>38</td>\n      <td>t</td>\n    </tr>\n    <tr>\n      <th>2</th>\n      <td>Chelodina expansa</td>\n      <td>Endangered</td>\n      <td>open</td>\n      <td>https://biodiversity.org.au/afd/taxa/fc7d0724-...</td>\n      <td>NaN</td>\n      <td>Victorian Department of Energy, Environment an...</td>\n      <td>39599</td>\n      <td>Chelodina expansa</td>\n      <td>species</td>\n      <td>189</td>\n      <td>t</td>\n    </tr>\n    <tr>\n      <th>3</th>\n      <td>Craterocephalus fluviatilis</td>\n      <td>Critically Endangered</td>\n      <td>open</td>\n      <td>https://biodiversity.org.au/afd/taxa/50568ccf-...</td>\n      <td>NaN</td>\n      <td>Victorian Department of Energy, Environment an...</td>\n      <td>98614</td>\n      <td>Craterocephalus fluviatilis</td>\n      <td>species</td>\n      <td>0</td>\n      <td>t</td>\n    </tr>\n    <tr>\n      <th>4</th>\n      <td>Emydura macquarii</td>\n      <td>Critically Endangered</td>\n      <td>open</td>\n      <td>https://biodiversity.org.au/afd/taxa/39c22a1e-...</td>\n      <td>NaN</td>\n      <td>Victorian Department of Energy, Environment an...</td>\n      <td>99882</td>\n      <td>Emydura macquarii</td>\n      <td>species</td>\n      <td>2934</td>\n      <td>t</td>\n    </tr>\n    <tr>\n      <th>...</th>\n      <td>...</td>\n      <td>...</td>\n      <td>...</td>\n      <td>...</td>\n      <td>...</td>\n      <td>...</td>\n      <td>...</td>\n      <td>...</td>\n      <td>...</td>\n      <td>...</td>\n      <td>...</td>\n    </tr>\n    <tr>\n      <th>2009</th>\n      <td>Prasophyllum retroflexum</td>\n      <td>Restricted</td>\n      <td>obscured</td>\n      <td>NaN</td>\n      <td>https://id.biodiversity.org.au/taxon/apni/5140...</td>\n      <td>Victorian Biodiversity Atlas</td>\n      <td>NaN</td>\n      <td>NaN</td>\n      <td>NaN</td>\n      <td>NaN</td>\n      <td>NaN</td>\n    </tr>\n    <tr>\n      <th>2010</th>\n      <td>Pterostylis tenuissima</td>\n      <td>Restricted</td>\n      <td>obscured</td>\n      <td>NaN</td>\n      <td>https://id.biodiversity.org.au/taxon/apni/5141...</td>\n      <td>Victorian Biodiversity Atlas</td>\n      <td>553266</td>\n      <td>Pterostylis tenuissima</td>\n      <td>species</td>\n      <td>6</td>\n      <td>t</td>\n    </tr>\n    <tr>\n      <th>2011</th>\n      <td>Callocephalon fimbriatum</td>\n      <td>Restricted</td>\n      <td>obscured</td>\n      <td>NaN</td>\n      <td>https://biodiversity.org.au/afd/taxa/6c646af8-...</td>\n      <td>Victorian Biodiversity Atlas</td>\n      <td>116842</td>\n      <td>Callocephalon fimbriatum</td>\n      <td>species</td>\n      <td>4448</td>\n      <td>t</td>\n    </tr>\n    <tr>\n      <th>2012</th>\n      <td>Oecetis quadrula</td>\n      <td>Restricted</td>\n      <td>obscured</td>\n      <td>NaN</td>\n      <td>https://biodiversity.org.au/afd/taxa/1b3ac25a-...</td>\n      <td>Victorian Biodiversity Atlas</td>\n      <td>NaN</td>\n      <td>NaN</td>\n      <td>NaN</td>\n      <td>NaN</td>\n      <td>NaN</td>\n    </tr>\n    <tr>\n      <th>2013</th>\n      <td>Pseudocloeon hypodelum</td>\n      <td>Restricted</td>\n      <td>obscured</td>\n      <td>NaN</td>\n      <td>https://biodiversity.org.au/afd/taxa/3fabe575-...</td>\n      <td>Victorian Biodiversity Atlas</td>\n      <td>NaN</td>\n      <td>NaN</td>\n      <td>NaN</td>\n      <td>NaN</td>\n      <td>NaN</td>\n    </tr>\n  </tbody>\n</table>\n<p>2014 rows × 11 columns</p>\n</div>"
     },
     "execution_count": 22,
     "metadata": {},
     "output_type": "execute_result"
    }
   ],
   "source": [
    "# set placeid\n",
    "place_id = 7830\n",
    "# get the inaturalist taxonomy matches for additions \n",
    "inattaxa = pd.read_csv(sourcedir + \"inaturalist-australia-9/inaturalist-australia-9-taxa.csv\",dtype=str,usecols=['id','name','rank','observations_count','is_active'])\n",
    "inattaxa = inattaxa[inattaxa['is_active'] == 't']\n",
    "inattaxa = inattaxa.rename(columns = {'id':'taxon_id','name':'taxon_name'})\n",
    "inattaxa = inattaxa.add_prefix(\"inat_\")\n",
    "statelist = statelist[['state_scientificName','state_status','state_geoprivacy', 'state_lsid_conservation','state_lsid_sensitive','state_authority']].merge(inattaxa,how=\"left\",left_on='state_scientificName',right_on='inat_taxon_name',suffixes=(None,'_inat'))\n",
    "statelist"
   ],
   "metadata": {
    "collapsed": false,
    "pycharm": {
     "name": "#%%\n"
    },
    "ExecuteTime": {
     "end_time": "2024-01-20T03:15:58.043866Z",
     "start_time": "2024-01-20T03:15:56.002729Z"
    }
   }
  },
  {
   "cell_type": "code",
   "execution_count": 23,
   "outputs": [
    {
     "data": {
      "text/plain": "action\nADD            32\nNO CHANGE    1062\nNO MATCH      513\nREMOVE        265\nUPDATE        408\ndtype: int64"
     },
     "execution_count": 23,
     "metadata": {},
     "output_type": "execute_result"
    }
   ],
   "source": [
    "# prepare the export fields, common to New template and Update template\n",
    "mergedstatuses = statelist.merge(inatstatuses,how=\"outer\",left_on='state_scientificName',right_on='inat_scientificName')\n",
    "\n",
    "# add extra fields \n",
    "# add some extra fields\n",
    "mergedstatuses['place_id'] = str(place_id)\n",
    "mergedstatuses['username'] = 'peggydnew'\n",
    "mergedstatuses['description'] = \"Listed - refer to https://www.environment.sa.gov.au/topics/plants-and-animals/threatened-species-and-ecological-communities/threatened-species\"\n",
    "mergedstatuses['state_lsid_conservation'].fillna(mergedstatuses['state_lsid_sensitive'])\n",
    "mergedstatuses['state_url'] = \"https://bie.ala.org.au/species/\" + mergedstatuses['state_lsid_conservation']\n",
    "mergedstatuses['state_iucn_equivalent'] = mergedstatuses['state_status'].map(iucnStatusMappings)\n",
    "#mergedstatuses['state_status'] = mergedstatuses['state_status'].fillna('Sensitive')\n",
    "#mergedstatuses['state_geoprivacy'] = mergedstatuses['state_geoprivacy'].fillna('open')\n",
    "mergedstatuses['inat_taxon_id'] = mergedstatuses['inat_taxon_id_y'].fillna(mergedstatuses['inat_taxon_id_x'])\n",
    "mergedstatuses['inat_scientificName'] = mergedstatuses['inat_scientificName'].fillna(mergedstatuses['inat_taxon_name'])\n",
    "\n",
    "# UPDATE: inat status and state status both exist\n",
    "# REMOVE: inat status exists, state status does not\n",
    "# ADD: state status exists, inat status does not (matching taxon)\n",
    "# NO MATCH: state status exists, inat taxa not found\n",
    "mergedstatuses['action'] = 'na'\n",
    "mergedstatuses.loc[mergedstatuses['inat_id'].notnull() & mergedstatuses['state_scientificName'].notnull(), 'action'] = \"UPDATE\"\n",
    "mergedstatuses.loc[mergedstatuses['inat_id'].notnull() & mergedstatuses['state_scientificName'].isnull(), 'action'] = \"REMOVE\"\n",
    "mergedstatuses.loc[mergedstatuses['inat_id'].isnull() & mergedstatuses['inat_taxon_id'].notnull(), 'action'] = \"ADD\"\n",
    "mergedstatuses.loc[mergedstatuses['inat_id'].isnull() & mergedstatuses['inat_taxon_id'].isnull(), 'action'] = \"NO MATCH\"\n",
    "\n",
    "# only update those with different values \n",
    "mergedstatuses['action'] = mergedstatuses.apply(lambda x: \"NO CHANGE\" if (x['action'] == \"UPDATE\") & ((x['state_status'] == x['inat_status']) & (x['state_geoprivacy'] == x['inat_geoprivacy'] ) & (x['state_geoprivacy'] == x['inat_geoprivacy']) & (x['state_iucn_equivalent'] == x['inat_iucn'])) else x['action'], axis=1)\n",
    "\n",
    "# display\n",
    "mergedstatusesprintfriendly = mergedstatuses[['action','inat_id','inat_taxon_id','state_scientificName','inat_scientificName', 'state_status','inat_status','state_geoprivacy','inat_geoprivacy','state_iucn_equivalent','inat_iucn','state_authority','inat_authority','state_url','inat_url','inat_description','inat_place_display_name','inat_current_synonymous_taxon_ids']]\n",
    "mergedstatuses.groupby('action').size()\n"
   ],
   "metadata": {
    "collapsed": false,
    "pycharm": {
     "name": "#%%\n"
    },
    "ExecuteTime": {
     "end_time": "2024-01-20T03:16:00.942493Z",
     "start_time": "2024-01-20T03:16:00.911182Z"
    }
   }
  },
  {
   "cell_type": "markdown",
   "source": [
    "## Updates"
   ],
   "metadata": {
    "collapsed": false,
    "pycharm": {
     "name": "#%% md\n"
    }
   }
  },
  {
   "cell_type": "code",
   "execution_count": 24,
   "outputs": [],
   "source": [
    "# UPDATES\n",
    "# Headers: action,taxon_name,id,taxon_id,status,iucn_equivalent,authority,url,geoprivacy,place_id,username,description\n",
    "updates = pd.DataFrame(mergedstatuses[mergedstatuses['action'].isin(['UPDATE','REMOVE'])])\n",
    "updates = updates[['action','state_scientificName','inat_id','inat_taxon_id','state_status','state_iucn_equivalent','state_authority','state_url','state_geoprivacy','place_id','username','description']]\n",
    "updates.columns = updates.columns.str.replace(\"state_\", \"\", regex=True)\n",
    "updates.columns = updates.columns.str.replace(\"inat_\", \"\", regex=True)\n",
    "updates = updates.rename(columns={'scientificName':'taxon_name'})\n",
    "\n",
    "# ADDITIONS\n",
    "# Headers: Taxon_Name,Status,Authority,IUCN_equivalent,Description,iNaturalist_Place_ID,url,Taxon_Geoprivacy,Username,taxon_id\n",
    "additions = pd.DataFrame(mergedstatuses[mergedstatuses['action'] == \"ADD\"])\n",
    "additions = additions[['action','state_scientificName','inat_id','inat_taxon_id','state_status','state_iucn_equivalent','state_authority','state_url','state_geoprivacy','place_id','username','description']]\n",
    "additions = additions.rename(columns={'state_scientificName':'Taxon_Name',\n",
    "                                      'state_status':'Status',\n",
    "                                      'state_authority':'Authority',\n",
    "                                      'state_iucn_equivalent':'IUCN_equivalent',\n",
    "                                      'description':'Description',\n",
    "                                      'place_id':'iNaturalst_Place_ID',\n",
    "                                      'state_url':'url',\n",
    "                                      'state_geoprivacy':'taxon_Geoprivacy',\n",
    "                                      'inat_taxon_id':'taxon_id'})\n",
    "\n",
    "# WRITE TO FILE\n",
    "mergedstatusesprintfriendly.to_csv(projectdir + \"data/out/summaries/vic.csv\",index=False)\n",
    "updates.to_csv(projectdir + \"data/out/updates-vic.csv\", index=False)\n",
    "additions.to_csv(projectdir + \"data/out/additions-vic.csv\", index=False)"
   ],
   "metadata": {
    "collapsed": false,
    "pycharm": {
     "name": "#%%\n"
    },
    "ExecuteTime": {
     "end_time": "2024-01-20T03:16:05.999288Z",
     "start_time": "2024-01-20T03:16:05.973300Z"
    }
   }
  }
 ],
 "metadata": {
  "kernelspec": {
   "display_name": "Python 3",
   "language": "python",
   "name": "python3"
  },
  "language_info": {
   "codemirror_mode": {
    "name": "ipython",
    "version": 2
   },
   "file_extension": ".py",
   "mimetype": "text/x-python",
   "name": "python",
   "nbconvert_exporter": "python",
   "pygments_lexer": "ipython2",
   "version": "2.7.6"
  }
 },
 "nbformat": 4,
 "nbformat_minor": 0
}
