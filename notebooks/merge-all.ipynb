{
 "cells": [
  {
   "cell_type": "markdown",
   "source": [
    "# Merge all files to send to inat"
   ],
   "metadata": {
    "collapsed": false
   }
  },
  {
   "cell_type": "code",
   "execution_count": 1,
   "metadata": {
    "collapsed": true
   },
   "outputs": [
    {
     "name": "stdout",
     "output_type": "stream",
     "text": [
      "/Users/new330/IdeaProjects/authoritative-lists/source-data/inaturalist-statuses/act.csv\n",
      "Index(['action', 'taxon_name', 'id', 'taxon_id', 'status', 'iucn_equivalent',\n",
      "       'authority', 'url', 'geoprivacy', 'place_id', 'username',\n",
      "       'description'],\n",
      "      dtype='object')\n",
      "/Users/new330/IdeaProjects/authoritative-lists/source-data/inaturalist-statuses/nsw.csv\n",
      "Index(['action', 'taxon_name', 'id', 'taxon_id', 'status', 'iucn_equivalent',\n",
      "       'authority', 'url', 'geoprivacy', 'place_id', 'username',\n",
      "       'description'],\n",
      "      dtype='object')\n",
      "/Users/new330/IdeaProjects/authoritative-lists/source-data/inaturalist-statuses/nt.csv\n",
      "Index(['action', 'taxon_name', 'id', 'taxon_id', 'status', 'iucn_equivalent',\n",
      "       'authority', 'url', 'geoprivacy', 'place_id', 'username',\n",
      "       'description'],\n",
      "      dtype='object')\n",
      "/Users/new330/IdeaProjects/authoritative-lists/source-data/inaturalist-statuses/qld.csv\n",
      "Index(['action', 'taxon_name', 'id', 'taxon_id', 'status', 'iucn_equivalent',\n",
      "       'authority', 'url', 'geoprivacy', 'place_id', 'username',\n",
      "       'description'],\n",
      "      dtype='object')\n",
      "/Users/new330/IdeaProjects/authoritative-lists/source-data/inaturalist-statuses/sa.csv\n",
      "Index(['action', 'taxon_name', 'id', 'taxon_id', 'status', 'iucn_equivalent',\n",
      "       'authority', 'url', 'geoprivacy', 'place_id', 'username',\n",
      "       'description'],\n",
      "      dtype='object')\n",
      "/Users/new330/IdeaProjects/authoritative-lists/source-data/inaturalist-statuses/tas.csv\n",
      "Index(['action', 'taxon_name', 'id', 'taxon_id', 'status', 'iucn_equivalent',\n",
      "       'authority', 'url', 'geoprivacy', 'place_id', 'username',\n",
      "       'description'],\n",
      "      dtype='object')\n",
      "/Users/new330/IdeaProjects/authoritative-lists/source-data/inaturalist-statuses/vic.csv\n",
      "Index(['action', 'taxon_name', 'id', 'taxon_id', 'status', 'iucn_equivalent',\n",
      "       'authority', 'url', 'geoprivacy', 'place_id', 'username',\n",
      "       'description'],\n",
      "      dtype='object')\n",
      "/Users/new330/IdeaProjects/authoritative-lists/source-data/inaturalist-statuses/wa.csv\n",
      "Index(['action', 'taxon_name', 'id', 'taxon_id', 'status', 'iucn_equivalent',\n",
      "       'authority', 'url', 'geoprivacy', 'place_id', 'username',\n",
      "       'description'],\n",
      "      dtype='object')\n"
     ]
    }
   ],
   "source": [
    "import pandas as pd\n",
    "\n",
    "#projectdir = \"/Users/oco115/PycharmProjects/authoritative-lists/\" # basedir for this gh project\n",
    "projectdir = \"/Users/new330/IdeaProjects/authoritative-lists/\" # basedir for this gh project\n",
    "sourcedir = projectdir + \"source-data/inaturalist-statuses/\"\n",
    "listdir = projectdir + \"current-lists/\"\n",
    "\n",
    "filelist = ['act','nsw','nt','qld','sa','tas','vic','wa']\n",
    "\n",
    "dfs = list()\n",
    "for f in filelist:\n",
    "    filename = sourcedir + f + \".csv\"\n",
    "    print(filename)\n",
    "    df = pd.read_csv(filename)\n",
    "    print(df.columns)\n",
    "    dfs.append(df)\n",
    "\n",
    "all = pd.concat(dfs,ignore_index=True)\n",
    "all\n",
    "all.to_csv(sourcedir + \"all.csv\", index=False)"
   ]
  }
 ],
 "metadata": {
  "kernelspec": {
   "display_name": "Python 3",
   "language": "python",
   "name": "python3"
  },
  "language_info": {
   "codemirror_mode": {
    "name": "ipython",
    "version": 2
   },
   "file_extension": ".py",
   "mimetype": "text/x-python",
   "name": "python",
   "nbconvert_exporter": "python",
   "pygments_lexer": "ipython2",
   "version": "2.7.6"
  }
 },
 "nbformat": 4,
 "nbformat_minor": 0
}