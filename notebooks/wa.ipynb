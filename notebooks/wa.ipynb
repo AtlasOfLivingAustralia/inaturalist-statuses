{
 "cells": [
  {
   "cell_type": "markdown",
   "source": [
    "# iNaturalist status updates by state - WA\n",
    "\n",
    "\n",
    "Using the file produced in the collate-status-taxa.ipynb: `inat-aust-status-taxa.csv`, generate lists to update iNaturalist statuses\n",
    "\n",
    "## Prep - common to all states\n",
    "1. Read in the inaturalist statuses & filter out this state\n",
    "2. Read in the inaturalist [taxa list](#inaturalist-taxonomy)\n",
    "3. Read in the state sensitive and conservation list, concatenate them into a single list\n",
    "4. Wash the names in the state list through the gbif name parser\n",
    "5. Attempt to match the state statuses to an IUCN equivalent\n",
    "6. Determine the best placeID to use for this state\n",
    "\n",
    "## Next steps:\n",
    "7. Find Updates and Additions\n",
    "7.1 Left join the state list with the iNaturalist statuses on scientificName\n",
    "  * **Match** UPDATE the status (new details, new dept name or url)\n",
    "  * **No Match** Left join the remainder (noinatstatus) to the inat taxonomy\n",
    "     * Yes - ADD new status record\n",
    "     * No - REPORT. Seek synonyms for the taxon, or create species in iNat for critical species\n",
    "\n",
    "8. Find [Removals](##removals) - Left join the inaturalist statuses with the update list. Report on the remainder.\n"
   ],
   "metadata": {
    "collapsed": false,
    "pycharm": {
     "name": "#%% md\n"
    }
   }
  },
  {
   "cell_type": "code",
   "execution_count": 1,
   "metadata": {
    "collapsed": true,
    "pycharm": {
     "name": "#%%\n"
    }
   },
   "outputs": [
    {
     "data": {
      "text/plain": "       id taxon_id  user_id place_id source_id  \\\n0  166449    38493  1138587     7830             \n1  234788   918383   702203     9994             \n2  234789   918383   702203     7308             \n\n                            authority status  \\\n0  Flora and Fauna Guarantee Act 1988     CR   \n1           Atlas of Living Australia    NT    \n2           Atlas of Living Australia     LC   \n\n                                                 url description geoprivacy  \\\n0                                                                  obscured   \n1  https://bie.ala.org.au/species/https://id.biod...                          \n2  https://bie.ala.org.au/species/https://id.biod...                          \n\n   ...         genus specificEpithet infraspecificEpithet  \\\n0  ...     Eulamprus      kosciuskoi                        \n1  ...  Chiloschista     phyllorhiza                        \n2  ...  Chiloschista     phyllorhiza                        \n\n               modified            scientificName taxonRank  \\\n0  2021-03-01T10:35:01Z      Eulamprus kosciuskoi   species   \n1  2022-01-08T03:30:36Z  Chiloschista phyllorhiza   species   \n2  2022-01-08T03:30:36Z  Chiloschista phyllorhiza   species   \n\n                                          references preferred_common_name  \\\n0  http://reptile-database.reptarium.cz/search.ph...                         \n1  http://www.catalogueoflife.org/annual-checklis...                         \n2  http://www.catalogueoflife.org/annual-checklis...                         \n\n  is_active current_synonymous_taxon_ids  \n0                                         \n1                                         \n2                                         \n\n[3 rows x 34 columns]",
      "text/html": "<div>\n<style scoped>\n    .dataframe tbody tr th:only-of-type {\n        vertical-align: middle;\n    }\n\n    .dataframe tbody tr th {\n        vertical-align: top;\n    }\n\n    .dataframe thead th {\n        text-align: right;\n    }\n</style>\n<table border=\"1\" class=\"dataframe\">\n  <thead>\n    <tr style=\"text-align: right;\">\n      <th></th>\n      <th>id</th>\n      <th>taxon_id</th>\n      <th>user_id</th>\n      <th>place_id</th>\n      <th>source_id</th>\n      <th>authority</th>\n      <th>status</th>\n      <th>url</th>\n      <th>description</th>\n      <th>geoprivacy</th>\n      <th>...</th>\n      <th>genus</th>\n      <th>specificEpithet</th>\n      <th>infraspecificEpithet</th>\n      <th>modified</th>\n      <th>scientificName</th>\n      <th>taxonRank</th>\n      <th>references</th>\n      <th>preferred_common_name</th>\n      <th>is_active</th>\n      <th>current_synonymous_taxon_ids</th>\n    </tr>\n  </thead>\n  <tbody>\n    <tr>\n      <th>0</th>\n      <td>166449</td>\n      <td>38493</td>\n      <td>1138587</td>\n      <td>7830</td>\n      <td></td>\n      <td>Flora and Fauna Guarantee Act 1988</td>\n      <td>CR</td>\n      <td></td>\n      <td></td>\n      <td>obscured</td>\n      <td>...</td>\n      <td>Eulamprus</td>\n      <td>kosciuskoi</td>\n      <td></td>\n      <td>2021-03-01T10:35:01Z</td>\n      <td>Eulamprus kosciuskoi</td>\n      <td>species</td>\n      <td>http://reptile-database.reptarium.cz/search.ph...</td>\n      <td></td>\n      <td></td>\n      <td></td>\n    </tr>\n    <tr>\n      <th>1</th>\n      <td>234788</td>\n      <td>918383</td>\n      <td>702203</td>\n      <td>9994</td>\n      <td></td>\n      <td>Atlas of Living Australia</td>\n      <td>NT</td>\n      <td>https://bie.ala.org.au/species/https://id.biod...</td>\n      <td></td>\n      <td></td>\n      <td>...</td>\n      <td>Chiloschista</td>\n      <td>phyllorhiza</td>\n      <td></td>\n      <td>2022-01-08T03:30:36Z</td>\n      <td>Chiloschista phyllorhiza</td>\n      <td>species</td>\n      <td>http://www.catalogueoflife.org/annual-checklis...</td>\n      <td></td>\n      <td></td>\n      <td></td>\n    </tr>\n    <tr>\n      <th>2</th>\n      <td>234789</td>\n      <td>918383</td>\n      <td>702203</td>\n      <td>7308</td>\n      <td></td>\n      <td>Atlas of Living Australia</td>\n      <td>LC</td>\n      <td>https://bie.ala.org.au/species/https://id.biod...</td>\n      <td></td>\n      <td></td>\n      <td>...</td>\n      <td>Chiloschista</td>\n      <td>phyllorhiza</td>\n      <td></td>\n      <td>2022-01-08T03:30:36Z</td>\n      <td>Chiloschista phyllorhiza</td>\n      <td>species</td>\n      <td>http://www.catalogueoflife.org/annual-checklis...</td>\n      <td></td>\n      <td></td>\n      <td></td>\n    </tr>\n  </tbody>\n</table>\n<p>3 rows × 34 columns</p>\n</div>"
     },
     "execution_count": 1,
     "metadata": {},
     "output_type": "execute_result"
    }
   ],
   "source": [
    "import pandas as pd\n",
    "\n",
    "#projectdir = \"/Users/oco115/PycharmProjects/authoritative-lists/\" # basedir for this gh project\n",
    "projectdir = \"/Users/new330/IdeaProjects/authoritative-lists/\" # basedir for this gh project\n",
    "sourcedir = projectdir + \"source-data/inaturalist-statuses/\"\n",
    "listdir = projectdir + \"current-lists/\"\n",
    "\n",
    "\n",
    "# read in the statuses\n",
    "taxastatus = pd.read_csv(sourcedir + \"inat-aust-status-taxa.csv\", encoding='UTF-8',na_filter=False,dtype=str) ## Read inaturalist conservation statuses file\n",
    "taxastatus.head(3)"
   ]
  },
  {
   "cell_type": "code",
   "execution_count": 2,
   "outputs": [
    {
     "data": {
      "text/plain": "     status_id taxon_id user_id place_id source_id  \\\n1990    153386   100948  708886     6827     16654   \n2158    153585   101164  708886     6827     16654   \n1982    153373   101165  708886     6827     16654   \n2346    153802   101474  708886     6827     16654   \n2019    153420   101509  708886     6827     16654   \n...        ...      ...     ...      ...       ...   \n2311    153762    99344  708886     6827     16654   \n2039    153443    99634  708886     6827     16654   \n2185    153613    99973  708886     6827     16654   \n2293    153742    99974  708886     6827     16654   \n2171    153597    99977  708886     6827     16654   \n\n                                           authority                 status  \\\n1990  WA Department of Environment and Convservation             endangered   \n2158  WA Department of Environment and Convservation             vulnerable   \n1982  WA Department of Environment and Convservation             endangered   \n2346  WA Department of Environment and Convservation             endangered   \n2019  WA Department of Environment and Convservation             endangered   \n...                                              ...                    ...   \n2311  WA Department of Environment and Convservation             endangered   \n2039  WA Department of Environment and Convservation             endangered   \n2185  WA Department of Environment and Convservation  critically endangered   \n2293  WA Department of Environment and Convservation             endangered   \n2171  WA Department of Environment and Convservation             endangered   \n\n                                                    url description  \\\n1990  https://lists.ala.org.au/speciesListItem/list/...               \n2158  https://lists.ala.org.au/speciesListItem/list/...               \n1982  https://lists.ala.org.au/speciesListItem/list/...               \n2346  https://lists.ala.org.au/speciesListItem/list/...               \n2019  https://lists.ala.org.au/speciesListItem/list/...               \n...                                                 ...         ...   \n2311  https://lists.ala.org.au/speciesListItem/list/...               \n2039  https://lists.ala.org.au/speciesListItem/list/...               \n2185  https://lists.ala.org.au/speciesListItem/list/...               \n2293  https://lists.ala.org.au/speciesListItem/list/...               \n2171  https://lists.ala.org.au/speciesListItem/list/...               \n\n     geoprivacy  ...          genus specificEpithet infraspecificEpithet  \\\n1990   obscured  ...  Fibulacamptus       bisetosus                        \n2158   obscured  ...     Galaxiella           munda                        \n1982   obscured  ...     Galaxiella    nigrostriata                        \n2346   obscured  ...    Glacidorbis    occidentalis                        \n2019   obscured  ...        Glyphis        garricki                        \n...         ...  ...            ...             ...                  ...   \n2311   obscured  ...  Diplodactylus        capensis                        \n2039   obscured  ...    Dupucharopa    millestriata                        \n2185   obscured  ...                                                       \n2293   obscured  ...        Engaewa         reducta                        \n2171   obscured  ...        Engaewa        walpolea                        \n\n                  modified            scientificName taxonRank  \\\n1990  2021-10-28T19:35:25Z   Fibulacamptus bisetosus   species   \n2158  2019-11-23T07:13:44Z          Galaxiella munda   species   \n1982  2019-11-23T07:13:25Z   Galaxiella nigrostriata   species   \n2346  2021-10-29T17:47:10Z  Glacidorbis occidentalis   species   \n2019  2019-04-18T19:04:37Z          Glyphis garricki   species   \n...                    ...                       ...       ...   \n2311  2018-11-17T23:47:54Z    Diplodactylus capensis   species   \n2039  2021-10-29T15:16:07Z  Dupucharopa millestriata   species   \n2185                           Engaewa pseudoreducta             \n2293  2020-05-28T04:59:18Z           Engaewa reducta   species   \n2171  2020-05-28T05:02:12Z          Engaewa walpolea   species   \n\n                                             references preferred_common_name  \\\n1990    http://www.iucnredlist.org/apps/redlist/details                         \n2158                            http://www.fishbase.org                         \n1982                            http://www.fishbase.org                         \n2346  http://www.catalogueoflife.org/annual-checklis...                         \n2019                            http://www.fishbase.org                         \n...                                                 ...                   ...   \n2311  http://reptile-database.reptarium.cz/search.ph...                         \n2039  http://www.catalogueoflife.org/annual-checklis...                         \n2185                                                                            \n2293    http://www.iucnredlist.org/apps/redlist/details                         \n2171    http://www.iucnredlist.org/apps/redlist/details                         \n\n     is_active current_synonymous_taxon_ids  \n1990                                         \n2158                                         \n1982                                         \n2346                                         \n2019                                         \n...        ...                          ...  \n2311                                         \n2039                                         \n2185     False                           []  \n2293                                         \n2171                                         \n\n[984 rows x 34 columns]",
      "text/html": "<div>\n<style scoped>\n    .dataframe tbody tr th:only-of-type {\n        vertical-align: middle;\n    }\n\n    .dataframe tbody tr th {\n        vertical-align: top;\n    }\n\n    .dataframe thead th {\n        text-align: right;\n    }\n</style>\n<table border=\"1\" class=\"dataframe\">\n  <thead>\n    <tr style=\"text-align: right;\">\n      <th></th>\n      <th>status_id</th>\n      <th>taxon_id</th>\n      <th>user_id</th>\n      <th>place_id</th>\n      <th>source_id</th>\n      <th>authority</th>\n      <th>status</th>\n      <th>url</th>\n      <th>description</th>\n      <th>geoprivacy</th>\n      <th>...</th>\n      <th>genus</th>\n      <th>specificEpithet</th>\n      <th>infraspecificEpithet</th>\n      <th>modified</th>\n      <th>scientificName</th>\n      <th>taxonRank</th>\n      <th>references</th>\n      <th>preferred_common_name</th>\n      <th>is_active</th>\n      <th>current_synonymous_taxon_ids</th>\n    </tr>\n  </thead>\n  <tbody>\n    <tr>\n      <th>1990</th>\n      <td>153386</td>\n      <td>100948</td>\n      <td>708886</td>\n      <td>6827</td>\n      <td>16654</td>\n      <td>WA Department of Environment and Convservation</td>\n      <td>endangered</td>\n      <td>https://lists.ala.org.au/speciesListItem/list/...</td>\n      <td></td>\n      <td>obscured</td>\n      <td>...</td>\n      <td>Fibulacamptus</td>\n      <td>bisetosus</td>\n      <td></td>\n      <td>2021-10-28T19:35:25Z</td>\n      <td>Fibulacamptus bisetosus</td>\n      <td>species</td>\n      <td>http://www.iucnredlist.org/apps/redlist/details</td>\n      <td></td>\n      <td></td>\n      <td></td>\n    </tr>\n    <tr>\n      <th>2158</th>\n      <td>153585</td>\n      <td>101164</td>\n      <td>708886</td>\n      <td>6827</td>\n      <td>16654</td>\n      <td>WA Department of Environment and Convservation</td>\n      <td>vulnerable</td>\n      <td>https://lists.ala.org.au/speciesListItem/list/...</td>\n      <td></td>\n      <td>obscured</td>\n      <td>...</td>\n      <td>Galaxiella</td>\n      <td>munda</td>\n      <td></td>\n      <td>2019-11-23T07:13:44Z</td>\n      <td>Galaxiella munda</td>\n      <td>species</td>\n      <td>http://www.fishbase.org</td>\n      <td></td>\n      <td></td>\n      <td></td>\n    </tr>\n    <tr>\n      <th>1982</th>\n      <td>153373</td>\n      <td>101165</td>\n      <td>708886</td>\n      <td>6827</td>\n      <td>16654</td>\n      <td>WA Department of Environment and Convservation</td>\n      <td>endangered</td>\n      <td>https://lists.ala.org.au/speciesListItem/list/...</td>\n      <td></td>\n      <td>obscured</td>\n      <td>...</td>\n      <td>Galaxiella</td>\n      <td>nigrostriata</td>\n      <td></td>\n      <td>2019-11-23T07:13:25Z</td>\n      <td>Galaxiella nigrostriata</td>\n      <td>species</td>\n      <td>http://www.fishbase.org</td>\n      <td></td>\n      <td></td>\n      <td></td>\n    </tr>\n    <tr>\n      <th>2346</th>\n      <td>153802</td>\n      <td>101474</td>\n      <td>708886</td>\n      <td>6827</td>\n      <td>16654</td>\n      <td>WA Department of Environment and Convservation</td>\n      <td>endangered</td>\n      <td>https://lists.ala.org.au/speciesListItem/list/...</td>\n      <td></td>\n      <td>obscured</td>\n      <td>...</td>\n      <td>Glacidorbis</td>\n      <td>occidentalis</td>\n      <td></td>\n      <td>2021-10-29T17:47:10Z</td>\n      <td>Glacidorbis occidentalis</td>\n      <td>species</td>\n      <td>http://www.catalogueoflife.org/annual-checklis...</td>\n      <td></td>\n      <td></td>\n      <td></td>\n    </tr>\n    <tr>\n      <th>2019</th>\n      <td>153420</td>\n      <td>101509</td>\n      <td>708886</td>\n      <td>6827</td>\n      <td>16654</td>\n      <td>WA Department of Environment and Convservation</td>\n      <td>endangered</td>\n      <td>https://lists.ala.org.au/speciesListItem/list/...</td>\n      <td></td>\n      <td>obscured</td>\n      <td>...</td>\n      <td>Glyphis</td>\n      <td>garricki</td>\n      <td></td>\n      <td>2019-04-18T19:04:37Z</td>\n      <td>Glyphis garricki</td>\n      <td>species</td>\n      <td>http://www.fishbase.org</td>\n      <td></td>\n      <td></td>\n      <td></td>\n    </tr>\n    <tr>\n      <th>...</th>\n      <td>...</td>\n      <td>...</td>\n      <td>...</td>\n      <td>...</td>\n      <td>...</td>\n      <td>...</td>\n      <td>...</td>\n      <td>...</td>\n      <td>...</td>\n      <td>...</td>\n      <td>...</td>\n      <td>...</td>\n      <td>...</td>\n      <td>...</td>\n      <td>...</td>\n      <td>...</td>\n      <td>...</td>\n      <td>...</td>\n      <td>...</td>\n      <td>...</td>\n      <td>...</td>\n    </tr>\n    <tr>\n      <th>2311</th>\n      <td>153762</td>\n      <td>99344</td>\n      <td>708886</td>\n      <td>6827</td>\n      <td>16654</td>\n      <td>WA Department of Environment and Convservation</td>\n      <td>endangered</td>\n      <td>https://lists.ala.org.au/speciesListItem/list/...</td>\n      <td></td>\n      <td>obscured</td>\n      <td>...</td>\n      <td>Diplodactylus</td>\n      <td>capensis</td>\n      <td></td>\n      <td>2018-11-17T23:47:54Z</td>\n      <td>Diplodactylus capensis</td>\n      <td>species</td>\n      <td>http://reptile-database.reptarium.cz/search.ph...</td>\n      <td></td>\n      <td></td>\n      <td></td>\n    </tr>\n    <tr>\n      <th>2039</th>\n      <td>153443</td>\n      <td>99634</td>\n      <td>708886</td>\n      <td>6827</td>\n      <td>16654</td>\n      <td>WA Department of Environment and Convservation</td>\n      <td>endangered</td>\n      <td>https://lists.ala.org.au/speciesListItem/list/...</td>\n      <td></td>\n      <td>obscured</td>\n      <td>...</td>\n      <td>Dupucharopa</td>\n      <td>millestriata</td>\n      <td></td>\n      <td>2021-10-29T15:16:07Z</td>\n      <td>Dupucharopa millestriata</td>\n      <td>species</td>\n      <td>http://www.catalogueoflife.org/annual-checklis...</td>\n      <td></td>\n      <td></td>\n      <td></td>\n    </tr>\n    <tr>\n      <th>2185</th>\n      <td>153613</td>\n      <td>99973</td>\n      <td>708886</td>\n      <td>6827</td>\n      <td>16654</td>\n      <td>WA Department of Environment and Convservation</td>\n      <td>critically endangered</td>\n      <td>https://lists.ala.org.au/speciesListItem/list/...</td>\n      <td></td>\n      <td>obscured</td>\n      <td>...</td>\n      <td></td>\n      <td></td>\n      <td></td>\n      <td></td>\n      <td>Engaewa pseudoreducta</td>\n      <td></td>\n      <td></td>\n      <td></td>\n      <td>False</td>\n      <td>[]</td>\n    </tr>\n    <tr>\n      <th>2293</th>\n      <td>153742</td>\n      <td>99974</td>\n      <td>708886</td>\n      <td>6827</td>\n      <td>16654</td>\n      <td>WA Department of Environment and Convservation</td>\n      <td>endangered</td>\n      <td>https://lists.ala.org.au/speciesListItem/list/...</td>\n      <td></td>\n      <td>obscured</td>\n      <td>...</td>\n      <td>Engaewa</td>\n      <td>reducta</td>\n      <td></td>\n      <td>2020-05-28T04:59:18Z</td>\n      <td>Engaewa reducta</td>\n      <td>species</td>\n      <td>http://www.iucnredlist.org/apps/redlist/details</td>\n      <td></td>\n      <td></td>\n      <td></td>\n    </tr>\n    <tr>\n      <th>2171</th>\n      <td>153597</td>\n      <td>99977</td>\n      <td>708886</td>\n      <td>6827</td>\n      <td>16654</td>\n      <td>WA Department of Environment and Convservation</td>\n      <td>endangered</td>\n      <td>https://lists.ala.org.au/speciesListItem/list/...</td>\n      <td></td>\n      <td>obscured</td>\n      <td>...</td>\n      <td>Engaewa</td>\n      <td>walpolea</td>\n      <td></td>\n      <td>2020-05-28T05:02:12Z</td>\n      <td>Engaewa walpolea</td>\n      <td>species</td>\n      <td>http://www.iucnredlist.org/apps/redlist/details</td>\n      <td></td>\n      <td></td>\n      <td></td>\n    </tr>\n  </tbody>\n</table>\n<p>984 rows × 34 columns</p>\n</div>"
     },
     "execution_count": 2,
     "metadata": {},
     "output_type": "execute_result"
    }
   ],
   "source": [
    "def filter_state_statuses(stateregex: str, urlregex: str):\n",
    "    authoritydf = taxastatus['authority'].drop_duplicates().sort_values()\n",
    "    authoritydf = authoritydf[pd.Series(authoritydf).str.contains(stateregex)]\n",
    "    urldf = taxastatus['url'].drop_duplicates().sort_values()\n",
    "    urldf = urldf[pd.Series(urldf).str.contains(urlregex)]\n",
    "    placedisplaydf = taxastatus['place_display_name'].drop_duplicates().sort_values()\n",
    "    placedisplaydf = placedisplaydf[pd.Series(placedisplaydf).str.contains(stateregex)]\n",
    "    placedf = taxastatus['place_name'].drop_duplicates().sort_values()\n",
    "    placedf = placedf[pd.Series(placedf).str.contains(stateregex)]\n",
    "    # concat all and remove duplicates\n",
    "    statedf = pd.concat([taxastatus.apply(lambda row: row[taxastatus['place_display_name'].isin(placedisplaydf)]),\n",
    "                         taxastatus.apply(lambda row: row[taxastatus['place_name'].isin(placedf)]),\n",
    "                         taxastatus.apply(lambda row: row[taxastatus['url'].isin(urldf)]),\n",
    "                         taxastatus.apply(\n",
    "                             lambda row: row[taxastatus['authority'].isin(authoritydf)])]).drop_duplicates()\n",
    "    return statedf.sort_values(['taxon_id', 'user_id'])\n",
    "\n",
    "\n",
    "inatstatuses = filter_state_statuses(\" WA |WEST AUST|West Aust|WESTERN AUSTRALIA|Western Australia\", \".wa.gov.au\")\n",
    "inatstatuses.rename(columns={'id':'status_id','id_y':'taxon_id_y'},inplace=True)\n",
    "inatstatuses"
   ],
   "metadata": {
    "collapsed": false,
    "pycharm": {
     "name": "#%%\n"
    }
   }
  },
  {
   "cell_type": "markdown",
   "source": [
    "### 2. iNaturalist taxonomy"
   ],
   "metadata": {
    "collapsed": false,
    "pycharm": {
     "name": "#%% md\n"
    }
   }
  },
  {
   "cell_type": "code",
   "execution_count": 3,
   "outputs": [
    {
     "data": {
      "text/plain": "  id                             taxonID                          identifier  \\\n0  1  https://www.inaturalist.org/taxa/1  https://www.inaturalist.org/taxa/1   \n1  2  https://www.inaturalist.org/taxa/2  https://www.inaturalist.org/taxa/2   \n2  3  https://www.inaturalist.org/taxa/3  https://www.inaturalist.org/taxa/3   \n\n                         parentNameUsageID   kingdom    phylum class order  \\\n0   https://www.inaturalist.org/taxa/48460  Animalia       NaN   NaN   NaN   \n1       https://www.inaturalist.org/taxa/1  Animalia  Chordata   NaN   NaN   \n2  https://www.inaturalist.org/taxa/355675  Animalia  Chordata  Aves   NaN   \n\n  family genus specificEpithet infraspecificEpithet              modified  \\\n0    NaN   NaN             NaN                  NaN  2021-11-02T06:05:44Z   \n1    NaN   NaN             NaN                  NaN  2021-11-23T00:40:18Z   \n2    NaN   NaN             NaN                  NaN  2022-12-27T07:33:16Z   \n\n  scientificName taxonRank                                         references  \n0       Animalia   kingdom  http://www.catalogueoflife.org/annual-checklis...  \n1       Chordata    phylum  http://www.catalogueoflife.org/annual-checklis...  \n2           Aves     class  http://www.catalogueoflife.org/annual-checklis...  ",
      "text/html": "<div>\n<style scoped>\n    .dataframe tbody tr th:only-of-type {\n        vertical-align: middle;\n    }\n\n    .dataframe tbody tr th {\n        vertical-align: top;\n    }\n\n    .dataframe thead th {\n        text-align: right;\n    }\n</style>\n<table border=\"1\" class=\"dataframe\">\n  <thead>\n    <tr style=\"text-align: right;\">\n      <th></th>\n      <th>id</th>\n      <th>taxonID</th>\n      <th>identifier</th>\n      <th>parentNameUsageID</th>\n      <th>kingdom</th>\n      <th>phylum</th>\n      <th>class</th>\n      <th>order</th>\n      <th>family</th>\n      <th>genus</th>\n      <th>specificEpithet</th>\n      <th>infraspecificEpithet</th>\n      <th>modified</th>\n      <th>scientificName</th>\n      <th>taxonRank</th>\n      <th>references</th>\n    </tr>\n  </thead>\n  <tbody>\n    <tr>\n      <th>0</th>\n      <td>1</td>\n      <td>https://www.inaturalist.org/taxa/1</td>\n      <td>https://www.inaturalist.org/taxa/1</td>\n      <td>https://www.inaturalist.org/taxa/48460</td>\n      <td>Animalia</td>\n      <td>NaN</td>\n      <td>NaN</td>\n      <td>NaN</td>\n      <td>NaN</td>\n      <td>NaN</td>\n      <td>NaN</td>\n      <td>NaN</td>\n      <td>2021-11-02T06:05:44Z</td>\n      <td>Animalia</td>\n      <td>kingdom</td>\n      <td>http://www.catalogueoflife.org/annual-checklis...</td>\n    </tr>\n    <tr>\n      <th>1</th>\n      <td>2</td>\n      <td>https://www.inaturalist.org/taxa/2</td>\n      <td>https://www.inaturalist.org/taxa/2</td>\n      <td>https://www.inaturalist.org/taxa/1</td>\n      <td>Animalia</td>\n      <td>Chordata</td>\n      <td>NaN</td>\n      <td>NaN</td>\n      <td>NaN</td>\n      <td>NaN</td>\n      <td>NaN</td>\n      <td>NaN</td>\n      <td>2021-11-23T00:40:18Z</td>\n      <td>Chordata</td>\n      <td>phylum</td>\n      <td>http://www.catalogueoflife.org/annual-checklis...</td>\n    </tr>\n    <tr>\n      <th>2</th>\n      <td>3</td>\n      <td>https://www.inaturalist.org/taxa/3</td>\n      <td>https://www.inaturalist.org/taxa/3</td>\n      <td>https://www.inaturalist.org/taxa/355675</td>\n      <td>Animalia</td>\n      <td>Chordata</td>\n      <td>Aves</td>\n      <td>NaN</td>\n      <td>NaN</td>\n      <td>NaN</td>\n      <td>NaN</td>\n      <td>NaN</td>\n      <td>2022-12-27T07:33:16Z</td>\n      <td>Aves</td>\n      <td>class</td>\n      <td>http://www.catalogueoflife.org/annual-checklis...</td>\n    </tr>\n  </tbody>\n</table>\n</div>"
     },
     "execution_count": 3,
     "metadata": {},
     "output_type": "execute_result"
    }
   ],
   "source": [
    "# Output files contain these fields\n",
    "# Taxon_Name,Status,Authority,IUCN_equivalent,Description,iNaturalist_Place_ID,url,Taxon_Geoprivacy,Username,taxon_id\n",
    "# so we need to match species from the state lists to the inat taxa to get the taxon_id\n",
    "\n",
    "import zipfile\n",
    "url = \"https://www.inaturalist.org/taxa/inaturalist-taxonomy.dwca.zip\"\n",
    "filename = url.split(\"/\")[-1]\n",
    "\n",
    "z=zipfile.ZipFile(sourcedir + filename)\n",
    "\n",
    "with z.open('taxa.csv') as from_archive:\n",
    "    inattaxa = pd.read_csv(from_archive,dtype=str)\n",
    "z.close()\n",
    "inattaxa.head(3)\n"
   ],
   "metadata": {
    "collapsed": false,
    "pycharm": {
     "name": "#%%\n"
    }
   }
  },
  {
   "cell_type": "markdown",
   "source": [
    "### 3. State lists\n",
    "\n",
    "Get the ALA Sensitive list: `geoprivacy` = `obscured`\n",
    "Everything on the WA list is sensitive\n"
   ],
   "metadata": {
    "collapsed": false,
    "pycharm": {
     "name": "#%% md\n"
    }
   }
  },
  {
   "cell_type": "code",
   "execution_count": 4,
   "outputs": [
    {
     "name": "stdout",
     "output_type": "stream",
     "text": [
      "skipping # comment this line to download dataset from lists.ala.org.au the web and save locally\n"
     ]
    }
   ],
   "source": [
    "%%script echo skipping # comment this line to download dataset from lists.ala.org.au the web and save locally\n",
    "\n",
    "import sys\n",
    "import os\n",
    "sys.path.append(os.path.abspath(projectdir + \"source-code/includes\"))\n",
    "import list_functions as lf\n",
    "alasensitivelist = lf.download_ala_list(\"https://lists-test.ala.org.au/ws/speciesListItems/dr18406?max=10000&includeKVP=true\")\n",
    "alasensitivelist = lf.kvp_to_columns(alasensitivelist)\n",
    "alasensitivelist.to_csv(sourcedir + \"wa-ala.csv\", index=False)"
   ],
   "metadata": {
    "collapsed": false,
    "pycharm": {
     "name": "#%%\n"
    }
   }
  },
  {
   "cell_type": "markdown",
   "source": [
    "Use the GBIF names parser to clean up the names"
   ],
   "metadata": {
    "collapsed": false,
    "pycharm": {
     "name": "#%% md\n"
    }
   }
  },
  {
   "cell_type": "code",
   "execution_count": 5,
   "outputs": [
    {
     "name": "stdout",
     "output_type": "stream",
     "text": [
      "skipping # comment this line to run the gbif parser again the web and save a file locally\n"
     ]
    }
   ],
   "source": [
    "%%script echo skipping # comment this line to run the gbif parser again the web and save a file locally\n",
    "\n",
    "import requests\n",
    "\n",
    "namesonly = alasensitivelist['name']\n",
    "url = \"https://api.gbif.org/v1/parser/name\"\n",
    "headers = {'content-type' : 'application/json'}\n",
    "data = namesonly.to_json(orient=\"values\")\n",
    "params = {'name':data}\n",
    "r = requests.post(url=url,data=data,headers=headers)\n",
    "results = pd.read_json(r.text)\n",
    "results.to_csv(sourcedir + \"wa-gbif.csv\",index=False)\n",
    "results"
   ],
   "metadata": {
    "collapsed": false,
    "pycharm": {
     "name": "#%%\n"
    }
   }
  },
  {
   "cell_type": "code",
   "execution_count": 6,
   "outputs": [
    {
     "name": "stdout",
     "output_type": "stream",
     "text": [
      "skipping single gbif parser test\n"
     ]
    }
   ],
   "source": [
    "%%script echo skipping single gbif parser test\n",
    "import requests\n",
    "t = requests.get(url=\"https://api.gbif.org/v1/parser/name?name=Calandrinia sp. Berry Springs (M.O. Parker 855) PN)\")\n",
    "t.text"
   ],
   "metadata": {
    "collapsed": false,
    "pycharm": {
     "name": "#%%\n"
    }
   }
  },
  {
   "cell_type": "markdown",
   "source": [
    "Merge the parsed names back into the dataset"
   ],
   "metadata": {
    "collapsed": false,
    "pycharm": {
     "name": "#%% md\n"
    }
   }
  },
  {
   "cell_type": "code",
   "execution_count": 7,
   "outputs": [],
   "source": [
    "alasensitivelist = pd.read_csv(sourcedir + \"wa-ala.csv\", dtype=str)\n",
    "parsednames = pd.read_csv(sourcedir + \"wa-gbif.csv\", dtype=str)\n",
    "alasensitivelist = alasensitivelist.merge(parsednames[['scientificName','canonicalName','canonicalNameComplete','type','rankMarker']],how=\"left\",left_on=\"name\",right_on=\"scientificName\")"
   ],
   "metadata": {
    "collapsed": false,
    "pycharm": {
     "name": "#%%\n"
    }
   }
  },
  {
   "cell_type": "markdown",
   "source": [
    "***Report - unsuccessful parsed names with important statuses*** - iNaturalist won't accept names containing punctuation"
   ],
   "metadata": {
    "collapsed": false,
    "pycharm": {
     "name": "#%% md\n"
    }
   }
  },
  {
   "cell_type": "code",
   "execution_count": 8,
   "outputs": [
    {
     "data": {
      "text/plain": "     Unnamed: 0       id                                              name  \\\n1             0  2818496            Abutilon sp. Hamelin (A.M. Ashby 2196)   \n2             0  2821218       Abutilon sp. Onslow (F. Smith s.n. 10/9/61)   \n3             0  2819452   Abutilon sp. Pritzelianum (S. van Leeuwen 5095)   \n4             0  2820137              Abutilon sp. Quobba (H. Demarz 3858)   \n5             0  2819481         Abutilon sp. Warburton (A.S. George 8164)   \n...         ...      ...                                               ...   \n4119          0  2819432            Ideoblothrus sp. 'Mesa A' (WAM T81374)   \n4162          0  2820631  Lagorchestes hirsutus subsp. (Central Australia)   \n4355          0  2821842                        Rhytidid sp. (WAM 2295-69)   \n4397          0  2820000                                 Teyl sp. (MYG693)   \n4430          0  2821723        Tyrannochthonius sp. 'Mesa A' (WAM T81480)   \n\n                                     commonName  \\\n1                                           NaN   \n2                                           NaN   \n3                                           NaN   \n4                                           NaN   \n5                                           NaN   \n...                                         ...   \n4119    An Ideoblothrus Pseudoscorpion (mesa A)   \n4162    Rufous Hare-wallaby (central Australia)   \n4355              Stirling Range Rhytidid Snail   \n4397                                        NaN   \n4430  A Tyrannochtonius Pseudoscorpion (mesa A)   \n\n                                      scientificName_x  \\\n1                Abutilon sp. Hamelin (A.M.Ashby 2196)   \n2          Abutilon sp. Onslow (F. Smith s.n. 10/9/61)   \n3       Abutilon sp. Pritzelianum (S.van Leeuwen 5095)   \n4                  Abutilon sp. Quobba (H.Demarz 3858)   \n5             Abutilon sp. Warburton (A.S.George 8164)   \n...                                                ...   \n4119            Ideoblothrus sp. 'Mesa A' (WAM T81374)   \n4162  Lagorchestes hirsutus subsp. (Central Australia)   \n4355                        Rhytidid sp. (WAM 2295-69)   \n4397                                              Teyl   \n4430        Tyrannochthonius sp. 'Mesa A' (WAM T81480)   \n\n                                                   lsid dataResourceUid  \\\n1      https://id.biodiversity.org.au/node/apni/2898729         dr18406   \n2                                       ALA_DR2201_3101         dr18406   \n3      https://id.biodiversity.org.au/node/apni/2905152         dr18406   \n4      https://id.biodiversity.org.au/node/apni/2920532         dr18406   \n5      https://id.biodiversity.org.au/node/apni/2890423         dr18406   \n...                                                 ...             ...   \n4119                                    ALA_DR2201_3612         dr18406   \n4162                                    ALA_DR2201_3947         dr18406   \n4355                                    ALA_DR2201_4164         dr18406   \n4397  https://biodiversity.org.au/afd/taxa/7cdbd74b-...         dr18406   \n4430                                    ALA_DR2201_3623         dr18406   \n\n                                              kvpValues taxonId W A  Status  \\\n1     [{'key': 'taxonId', 'value': '14112'}, {'key':...   14112           2   \n2     [{'key': 'taxonId', 'value': '14110'}, {'key':...   14110           3   \n3     [{'key': 'taxonId', 'value': '43021'}, {'key':...   43021           3   \n4     [{'key': 'taxonId', 'value': '14114'}, {'key':...   14114           2   \n5     [{'key': 'taxonId', 'value': '14155'}, {'key':...   14155           1   \n...                                                 ...     ...         ...   \n4119  [{'key': 'status', 'value': 'Priority 1: Poorl...     NaN         NaN   \n4162  [{'key': 'status', 'value': 'Endangered'}, {'k...     NaN         NaN   \n4355  [{'key': 'status', 'value': 'Critically Endang...     NaN         NaN   \n4397  [{'key': 'taxonRemarks', 'value': '30/09/2022 ...     NaN         NaN   \n4430  [{'key': 'status', 'value': 'Priority 1: Poorl...     NaN         NaN   \n\n      ...                                 status description category  \\\n1     ...  Priority 2: Poorly-known species - known from ...       P2   \n2     ...  Priority 3: Poorly-known species - known from ...       P3   \n3     ...  Priority 3: Poorly-known species - known from ...       P3   \n4     ...  Priority 2: Poorly-known species - known from ...       P2   \n5     ...  Priority 1: Poorly-known species - known from ...       P1   \n...   ...                                                ...      ...   \n4119  ...  Priority 1: Poorly-known species - known from ...       P1   \n4162  ...                                         Endangered       EN   \n4355  ...                              Critically Endangered       CR   \n4397  ...                              Critically Endangered       CR   \n4430  ...  Priority 1: Poorly-known species - known from ...       P1   \n\n     sensitivityZoneId W A  Rank  \\\n1                   WA       NaN   \n2                   WA       NaN   \n3                   WA       NaN   \n4                   WA       NaN   \n5                   WA       NaN   \n...                ...       ...   \n4119                WA       NaN   \n4162                WA       NaN   \n4355                WA       NaN   \n4397                WA       NaN   \n4430                WA       NaN   \n\n                                           taxonRemarks  \\\n1                                                   NaN   \n2                                                   NaN   \n3                                                   NaN   \n4                                                   NaN   \n5                                                   NaN   \n...                                                 ...   \n4119                                                NaN   \n4162                                                NaN   \n4355                                                NaN   \n4397  30/09/2022 Museum specimen reference number ch...   \n4430                                                NaN   \n\n                                      scientificName_y  \\\n1               Abutilon sp. Hamelin (A.M. Ashby 2196)   \n2          Abutilon sp. Onslow (F. Smith s.n. 10/9/61)   \n3      Abutilon sp. Pritzelianum (S. van Leeuwen 5095)   \n4                 Abutilon sp. Quobba (H. Demarz 3858)   \n5            Abutilon sp. Warburton (A.S. George 8164)   \n...                                                ...   \n4119            Ideoblothrus sp. 'Mesa A' (WAM T81374)   \n4162  Lagorchestes hirsutus subsp. (Central Australia)   \n4355                        Rhytidid sp. (WAM 2295-69)   \n4397                                 Teyl sp. (MYG693)   \n4430        Tyrannochthonius sp. 'Mesa A' (WAM T81480)   \n\n                     canonicalName          canonicalNameComplete      type  \\\n1                   Abutilon spec.         Abutilon spec. Hamelin  INFORMAL   \n2                   Abutilon spec.          Abutilon spec. Onslow  INFORMAL   \n3                   Abutilon spec.    Abutilon spec. Pritzelianum  INFORMAL   \n4                   Abutilon spec.          Abutilon spec. Quobba  INFORMAL   \n5                   Abutilon spec.       Abutilon spec. Warburton  INFORMAL   \n...                            ...                            ...       ...   \n4119            Ideoblothrus spec.      Ideoblothrus spec. Mesa A  INFORMAL   \n4162  Lagorchestes hirsutus subsp.   Lagorchestes hirsutus subsp.  INFORMAL   \n4355                Rhytidid spec.                 Rhytidid spec.  INFORMAL   \n4397                    Teyl spec.                     Teyl spec.  INFORMAL   \n4430        Tyrannochthonius spec.  Tyrannochthonius spec. Mesa A  INFORMAL   \n\n     rankMarker  \n1           sp.  \n2           sp.  \n3           sp.  \n4           sp.  \n5           sp.  \n...         ...  \n4119        sp.  \n4162     subsp.  \n4355        sp.  \n4397        sp.  \n4430        sp.  \n\n[560 rows x 24 columns]",
      "text/html": "<div>\n<style scoped>\n    .dataframe tbody tr th:only-of-type {\n        vertical-align: middle;\n    }\n\n    .dataframe tbody tr th {\n        vertical-align: top;\n    }\n\n    .dataframe thead th {\n        text-align: right;\n    }\n</style>\n<table border=\"1\" class=\"dataframe\">\n  <thead>\n    <tr style=\"text-align: right;\">\n      <th></th>\n      <th>Unnamed: 0</th>\n      <th>id</th>\n      <th>name</th>\n      <th>commonName</th>\n      <th>scientificName_x</th>\n      <th>lsid</th>\n      <th>dataResourceUid</th>\n      <th>kvpValues</th>\n      <th>taxonId</th>\n      <th>W A  Status</th>\n      <th>...</th>\n      <th>status description</th>\n      <th>category</th>\n      <th>sensitivityZoneId</th>\n      <th>W A  Rank</th>\n      <th>taxonRemarks</th>\n      <th>scientificName_y</th>\n      <th>canonicalName</th>\n      <th>canonicalNameComplete</th>\n      <th>type</th>\n      <th>rankMarker</th>\n    </tr>\n  </thead>\n  <tbody>\n    <tr>\n      <th>1</th>\n      <td>0</td>\n      <td>2818496</td>\n      <td>Abutilon sp. Hamelin (A.M. Ashby 2196)</td>\n      <td>NaN</td>\n      <td>Abutilon sp. Hamelin (A.M.Ashby 2196)</td>\n      <td>https://id.biodiversity.org.au/node/apni/2898729</td>\n      <td>dr18406</td>\n      <td>[{'key': 'taxonId', 'value': '14112'}, {'key':...</td>\n      <td>14112</td>\n      <td>2</td>\n      <td>...</td>\n      <td>Priority 2: Poorly-known species - known from ...</td>\n      <td>P2</td>\n      <td>WA</td>\n      <td>NaN</td>\n      <td>NaN</td>\n      <td>Abutilon sp. Hamelin (A.M. Ashby 2196)</td>\n      <td>Abutilon spec.</td>\n      <td>Abutilon spec. Hamelin</td>\n      <td>INFORMAL</td>\n      <td>sp.</td>\n    </tr>\n    <tr>\n      <th>2</th>\n      <td>0</td>\n      <td>2821218</td>\n      <td>Abutilon sp. Onslow (F. Smith s.n. 10/9/61)</td>\n      <td>NaN</td>\n      <td>Abutilon sp. Onslow (F. Smith s.n. 10/9/61)</td>\n      <td>ALA_DR2201_3101</td>\n      <td>dr18406</td>\n      <td>[{'key': 'taxonId', 'value': '14110'}, {'key':...</td>\n      <td>14110</td>\n      <td>3</td>\n      <td>...</td>\n      <td>Priority 3: Poorly-known species - known from ...</td>\n      <td>P3</td>\n      <td>WA</td>\n      <td>NaN</td>\n      <td>NaN</td>\n      <td>Abutilon sp. Onslow (F. Smith s.n. 10/9/61)</td>\n      <td>Abutilon spec.</td>\n      <td>Abutilon spec. Onslow</td>\n      <td>INFORMAL</td>\n      <td>sp.</td>\n    </tr>\n    <tr>\n      <th>3</th>\n      <td>0</td>\n      <td>2819452</td>\n      <td>Abutilon sp. Pritzelianum (S. van Leeuwen 5095)</td>\n      <td>NaN</td>\n      <td>Abutilon sp. Pritzelianum (S.van Leeuwen 5095)</td>\n      <td>https://id.biodiversity.org.au/node/apni/2905152</td>\n      <td>dr18406</td>\n      <td>[{'key': 'taxonId', 'value': '43021'}, {'key':...</td>\n      <td>43021</td>\n      <td>3</td>\n      <td>...</td>\n      <td>Priority 3: Poorly-known species - known from ...</td>\n      <td>P3</td>\n      <td>WA</td>\n      <td>NaN</td>\n      <td>NaN</td>\n      <td>Abutilon sp. Pritzelianum (S. van Leeuwen 5095)</td>\n      <td>Abutilon spec.</td>\n      <td>Abutilon spec. Pritzelianum</td>\n      <td>INFORMAL</td>\n      <td>sp.</td>\n    </tr>\n    <tr>\n      <th>4</th>\n      <td>0</td>\n      <td>2820137</td>\n      <td>Abutilon sp. Quobba (H. Demarz 3858)</td>\n      <td>NaN</td>\n      <td>Abutilon sp. Quobba (H.Demarz 3858)</td>\n      <td>https://id.biodiversity.org.au/node/apni/2920532</td>\n      <td>dr18406</td>\n      <td>[{'key': 'taxonId', 'value': '14114'}, {'key':...</td>\n      <td>14114</td>\n      <td>2</td>\n      <td>...</td>\n      <td>Priority 2: Poorly-known species - known from ...</td>\n      <td>P2</td>\n      <td>WA</td>\n      <td>NaN</td>\n      <td>NaN</td>\n      <td>Abutilon sp. Quobba (H. Demarz 3858)</td>\n      <td>Abutilon spec.</td>\n      <td>Abutilon spec. Quobba</td>\n      <td>INFORMAL</td>\n      <td>sp.</td>\n    </tr>\n    <tr>\n      <th>5</th>\n      <td>0</td>\n      <td>2819481</td>\n      <td>Abutilon sp. Warburton (A.S. George 8164)</td>\n      <td>NaN</td>\n      <td>Abutilon sp. Warburton (A.S.George 8164)</td>\n      <td>https://id.biodiversity.org.au/node/apni/2890423</td>\n      <td>dr18406</td>\n      <td>[{'key': 'taxonId', 'value': '14155'}, {'key':...</td>\n      <td>14155</td>\n      <td>1</td>\n      <td>...</td>\n      <td>Priority 1: Poorly-known species - known from ...</td>\n      <td>P1</td>\n      <td>WA</td>\n      <td>NaN</td>\n      <td>NaN</td>\n      <td>Abutilon sp. Warburton (A.S. George 8164)</td>\n      <td>Abutilon spec.</td>\n      <td>Abutilon spec. Warburton</td>\n      <td>INFORMAL</td>\n      <td>sp.</td>\n    </tr>\n    <tr>\n      <th>...</th>\n      <td>...</td>\n      <td>...</td>\n      <td>...</td>\n      <td>...</td>\n      <td>...</td>\n      <td>...</td>\n      <td>...</td>\n      <td>...</td>\n      <td>...</td>\n      <td>...</td>\n      <td>...</td>\n      <td>...</td>\n      <td>...</td>\n      <td>...</td>\n      <td>...</td>\n      <td>...</td>\n      <td>...</td>\n      <td>...</td>\n      <td>...</td>\n      <td>...</td>\n      <td>...</td>\n    </tr>\n    <tr>\n      <th>4119</th>\n      <td>0</td>\n      <td>2819432</td>\n      <td>Ideoblothrus sp. 'Mesa A' (WAM T81374)</td>\n      <td>An Ideoblothrus Pseudoscorpion (mesa A)</td>\n      <td>Ideoblothrus sp. 'Mesa A' (WAM T81374)</td>\n      <td>ALA_DR2201_3612</td>\n      <td>dr18406</td>\n      <td>[{'key': 'status', 'value': 'Priority 1: Poorl...</td>\n      <td>NaN</td>\n      <td>NaN</td>\n      <td>...</td>\n      <td>Priority 1: Poorly-known species - known from ...</td>\n      <td>P1</td>\n      <td>WA</td>\n      <td>NaN</td>\n      <td>NaN</td>\n      <td>Ideoblothrus sp. 'Mesa A' (WAM T81374)</td>\n      <td>Ideoblothrus spec.</td>\n      <td>Ideoblothrus spec. Mesa A</td>\n      <td>INFORMAL</td>\n      <td>sp.</td>\n    </tr>\n    <tr>\n      <th>4162</th>\n      <td>0</td>\n      <td>2820631</td>\n      <td>Lagorchestes hirsutus subsp. (Central Australia)</td>\n      <td>Rufous Hare-wallaby (central Australia)</td>\n      <td>Lagorchestes hirsutus subsp. (Central Australia)</td>\n      <td>ALA_DR2201_3947</td>\n      <td>dr18406</td>\n      <td>[{'key': 'status', 'value': 'Endangered'}, {'k...</td>\n      <td>NaN</td>\n      <td>NaN</td>\n      <td>...</td>\n      <td>Endangered</td>\n      <td>EN</td>\n      <td>WA</td>\n      <td>NaN</td>\n      <td>NaN</td>\n      <td>Lagorchestes hirsutus subsp. (Central Australia)</td>\n      <td>Lagorchestes hirsutus subsp.</td>\n      <td>Lagorchestes hirsutus subsp.</td>\n      <td>INFORMAL</td>\n      <td>subsp.</td>\n    </tr>\n    <tr>\n      <th>4355</th>\n      <td>0</td>\n      <td>2821842</td>\n      <td>Rhytidid sp. (WAM 2295-69)</td>\n      <td>Stirling Range Rhytidid Snail</td>\n      <td>Rhytidid sp. (WAM 2295-69)</td>\n      <td>ALA_DR2201_4164</td>\n      <td>dr18406</td>\n      <td>[{'key': 'status', 'value': 'Critically Endang...</td>\n      <td>NaN</td>\n      <td>NaN</td>\n      <td>...</td>\n      <td>Critically Endangered</td>\n      <td>CR</td>\n      <td>WA</td>\n      <td>NaN</td>\n      <td>NaN</td>\n      <td>Rhytidid sp. (WAM 2295-69)</td>\n      <td>Rhytidid spec.</td>\n      <td>Rhytidid spec.</td>\n      <td>INFORMAL</td>\n      <td>sp.</td>\n    </tr>\n    <tr>\n      <th>4397</th>\n      <td>0</td>\n      <td>2820000</td>\n      <td>Teyl sp. (MYG693)</td>\n      <td>NaN</td>\n      <td>Teyl</td>\n      <td>https://biodiversity.org.au/afd/taxa/7cdbd74b-...</td>\n      <td>dr18406</td>\n      <td>[{'key': 'taxonRemarks', 'value': '30/09/2022 ...</td>\n      <td>NaN</td>\n      <td>NaN</td>\n      <td>...</td>\n      <td>Critically Endangered</td>\n      <td>CR</td>\n      <td>WA</td>\n      <td>NaN</td>\n      <td>30/09/2022 Museum specimen reference number ch...</td>\n      <td>Teyl sp. (MYG693)</td>\n      <td>Teyl spec.</td>\n      <td>Teyl spec.</td>\n      <td>INFORMAL</td>\n      <td>sp.</td>\n    </tr>\n    <tr>\n      <th>4430</th>\n      <td>0</td>\n      <td>2821723</td>\n      <td>Tyrannochthonius sp. 'Mesa A' (WAM T81480)</td>\n      <td>A Tyrannochtonius Pseudoscorpion (mesa A)</td>\n      <td>Tyrannochthonius sp. 'Mesa A' (WAM T81480)</td>\n      <td>ALA_DR2201_3623</td>\n      <td>dr18406</td>\n      <td>[{'key': 'status', 'value': 'Priority 1: Poorl...</td>\n      <td>NaN</td>\n      <td>NaN</td>\n      <td>...</td>\n      <td>Priority 1: Poorly-known species - known from ...</td>\n      <td>P1</td>\n      <td>WA</td>\n      <td>NaN</td>\n      <td>NaN</td>\n      <td>Tyrannochthonius sp. 'Mesa A' (WAM T81480)</td>\n      <td>Tyrannochthonius spec.</td>\n      <td>Tyrannochthonius spec. Mesa A</td>\n      <td>INFORMAL</td>\n      <td>sp.</td>\n    </tr>\n  </tbody>\n</table>\n<p>560 rows × 24 columns</p>\n</div>"
     },
     "execution_count": 8,
     "metadata": {},
     "output_type": "execute_result"
    }
   ],
   "source": [
    "noncomply = alasensitivelist[alasensitivelist['type'].isin(['INFORMAL','CULTIVAR','HYBRID'])]\n",
    "#[['name','scientificName_x','scientificName_y','lsid','canonicalName','canonicalNameComplete','type','rankMarker','status']]\n",
    "#noncomply = alasensitivelist[(alasensitivelist['type'].isin(['INFORMAL','CULTIVAR','HYBRID']) & (alasensitivelist['sourceStatus'].isin(['CD','CR','EN','VU'])))][['name','scientificName_x','scientificName_y','lsid','canonicalName','canonicalNameComplete','type','rankMarker']]\n",
    "noncomply\n",
    "#cols for debugging\n",
    "#alasensitivelist[['name','scientificName_x','scientificName_y','lsid','canonicalName','canonicalNameComplete','type','rankMarker']]\n"
   ],
   "metadata": {
    "collapsed": false,
    "pycharm": {
     "name": "#%%\n"
    }
   }
  },
  {
   "cell_type": "markdown",
   "source": [
    "Prepare final list for matching to inaturalist names"
   ],
   "metadata": {
    "collapsed": false,
    "pycharm": {
     "name": "#%% md\n"
    }
   }
  },
  {
   "cell_type": "code",
   "execution_count": 9,
   "outputs": [
    {
     "data": {
      "text/plain": "     wa_taxonID        wa_scientificName                          wa_status  \\\n0         50593  Abildgaardia pachyptera   Priority 1: Poorly-known species   \n6         14044       Acacia adinophylla   Priority 1: Poorly-known species   \n7         44442        Acacia adjutrices   Priority 3: Poorly-known species   \n8         16110  Acacia alata platyptera  Priority 4: Rare, Near Threatened   \n9         13074         Acacia alexandri   Priority 3: Poorly-known species   \n...         ...                      ...                                ...   \n4450        NaN     Zephyrarchaea mainae                         Vulnerable   \n4451        NaN      Zephyrarchaea marki                         Vulnerable   \n4452        NaN   Zephyrarchaea melindae                         Vulnerable   \n4453        NaN    Zephyrarchaea robinsi                         Vulnerable   \n4454        NaN     Zyzomys pedunculatus              Critically Endangered   \n\n     wa_geoprivacy                                               lsid  \n0         obscured  https://id.biodiversity.org.au/name/apni/51389644  \n6         obscured   https://id.biodiversity.org.au/node/apni/2898130  \n7         obscured  https://id.biodiversity.org.au/taxon/apni/5128...  \n8         obscured   https://id.biodiversity.org.au/node/apni/2904348  \n9         obscured   https://id.biodiversity.org.au/node/apni/2904701  \n...            ...                                                ...  \n4450      obscured  https://biodiversity.org.au/afd/taxa/61b8777b-...  \n4451      obscured  https://biodiversity.org.au/afd/taxa/c135a409-...  \n4452      obscured  https://biodiversity.org.au/afd/taxa/df8d4917-...  \n4453      obscured  https://biodiversity.org.au/afd/taxa/038e56d8-...  \n4454      obscured  https://biodiversity.org.au/afd/taxa/33ab483d-...  \n\n[3895 rows x 5 columns]",
      "text/html": "<div>\n<style scoped>\n    .dataframe tbody tr th:only-of-type {\n        vertical-align: middle;\n    }\n\n    .dataframe tbody tr th {\n        vertical-align: top;\n    }\n\n    .dataframe thead th {\n        text-align: right;\n    }\n</style>\n<table border=\"1\" class=\"dataframe\">\n  <thead>\n    <tr style=\"text-align: right;\">\n      <th></th>\n      <th>wa_taxonID</th>\n      <th>wa_scientificName</th>\n      <th>wa_status</th>\n      <th>wa_geoprivacy</th>\n      <th>lsid</th>\n    </tr>\n  </thead>\n  <tbody>\n    <tr>\n      <th>0</th>\n      <td>50593</td>\n      <td>Abildgaardia pachyptera</td>\n      <td>Priority 1: Poorly-known species</td>\n      <td>obscured</td>\n      <td>https://id.biodiversity.org.au/name/apni/51389644</td>\n    </tr>\n    <tr>\n      <th>6</th>\n      <td>14044</td>\n      <td>Acacia adinophylla</td>\n      <td>Priority 1: Poorly-known species</td>\n      <td>obscured</td>\n      <td>https://id.biodiversity.org.au/node/apni/2898130</td>\n    </tr>\n    <tr>\n      <th>7</th>\n      <td>44442</td>\n      <td>Acacia adjutrices</td>\n      <td>Priority 3: Poorly-known species</td>\n      <td>obscured</td>\n      <td>https://id.biodiversity.org.au/taxon/apni/5128...</td>\n    </tr>\n    <tr>\n      <th>8</th>\n      <td>16110</td>\n      <td>Acacia alata platyptera</td>\n      <td>Priority 4: Rare, Near Threatened</td>\n      <td>obscured</td>\n      <td>https://id.biodiversity.org.au/node/apni/2904348</td>\n    </tr>\n    <tr>\n      <th>9</th>\n      <td>13074</td>\n      <td>Acacia alexandri</td>\n      <td>Priority 3: Poorly-known species</td>\n      <td>obscured</td>\n      <td>https://id.biodiversity.org.au/node/apni/2904701</td>\n    </tr>\n    <tr>\n      <th>...</th>\n      <td>...</td>\n      <td>...</td>\n      <td>...</td>\n      <td>...</td>\n      <td>...</td>\n    </tr>\n    <tr>\n      <th>4450</th>\n      <td>NaN</td>\n      <td>Zephyrarchaea mainae</td>\n      <td>Vulnerable</td>\n      <td>obscured</td>\n      <td>https://biodiversity.org.au/afd/taxa/61b8777b-...</td>\n    </tr>\n    <tr>\n      <th>4451</th>\n      <td>NaN</td>\n      <td>Zephyrarchaea marki</td>\n      <td>Vulnerable</td>\n      <td>obscured</td>\n      <td>https://biodiversity.org.au/afd/taxa/c135a409-...</td>\n    </tr>\n    <tr>\n      <th>4452</th>\n      <td>NaN</td>\n      <td>Zephyrarchaea melindae</td>\n      <td>Vulnerable</td>\n      <td>obscured</td>\n      <td>https://biodiversity.org.au/afd/taxa/df8d4917-...</td>\n    </tr>\n    <tr>\n      <th>4453</th>\n      <td>NaN</td>\n      <td>Zephyrarchaea robinsi</td>\n      <td>Vulnerable</td>\n      <td>obscured</td>\n      <td>https://biodiversity.org.au/afd/taxa/038e56d8-...</td>\n    </tr>\n    <tr>\n      <th>4454</th>\n      <td>NaN</td>\n      <td>Zyzomys pedunculatus</td>\n      <td>Critically Endangered</td>\n      <td>obscured</td>\n      <td>https://biodiversity.org.au/afd/taxa/33ab483d-...</td>\n    </tr>\n  </tbody>\n</table>\n<p>3895 rows × 5 columns</p>\n</div>"
     },
     "execution_count": 9,
     "metadata": {},
     "output_type": "execute_result"
    }
   ],
   "source": [
    "alasensitivelist = alasensitivelist[~alasensitivelist['type'].isin(['INFORMAL','CULTIVAR','HYBRID']) ] # remove 543 INFORMAL, 3 CULTIVAR, 14 HYBRID\n",
    "# Identify records that won't comply with iNaturalist species names\n",
    "alasensitivelist['wa_geoprivacy'] = 'obscured'\n",
    "alasensitivelist['wa_taxonID'] = alasensitivelist['taxonId']#.apply(lambda x: int(float(x)))\n",
    "alasensitivelist['wa_scientificName'] = alasensitivelist['canonicalName']\n",
    "alasensitivelist['wa_status'] = alasensitivelist['status']\n",
    "statelist = pd.DataFrame(alasensitivelist[['wa_taxonID','wa_scientificName','wa_status','wa_geoprivacy','lsid']])\n",
    "numfullstatelist = len(statelist.index)\n",
    "statelist"
   ],
   "metadata": {
    "collapsed": false,
    "pycharm": {
     "name": "#%%\n"
    }
   }
  },
  {
   "cell_type": "code",
   "execution_count": 10,
   "outputs": [
    {
     "data": {
      "text/plain": "Empty DataFrame\nColumns: [wa_taxonID, wa_scientificName, wa_status, wa_geoprivacy, lsid]\nIndex: []",
      "text/html": "<div>\n<style scoped>\n    .dataframe tbody tr th:only-of-type {\n        vertical-align: middle;\n    }\n\n    .dataframe tbody tr th {\n        vertical-align: top;\n    }\n\n    .dataframe thead th {\n        text-align: right;\n    }\n</style>\n<table border=\"1\" class=\"dataframe\">\n  <thead>\n    <tr style=\"text-align: right;\">\n      <th></th>\n      <th>wa_taxonID</th>\n      <th>wa_scientificName</th>\n      <th>wa_status</th>\n      <th>wa_geoprivacy</th>\n      <th>lsid</th>\n    </tr>\n  </thead>\n  <tbody>\n  </tbody>\n</table>\n</div>"
     },
     "execution_count": 10,
     "metadata": {},
     "output_type": "execute_result"
    }
   ],
   "source": [
    "# check for duplicates with conflicting information\n",
    "dupinformation = statelist.groupby('wa_taxonID').filter(lambda x: len(x) > 1)#.sort('size',ascending=False)\n",
    "dupinformation"
   ],
   "metadata": {
    "collapsed": false,
    "pycharm": {
     "name": "#%%\n"
    }
   }
  },
  {
   "cell_type": "markdown",
   "source": [
    "### 4. Equivalent IUCN statuses"
   ],
   "metadata": {
    "collapsed": false,
    "pycharm": {
     "name": "#%% md\n"
    }
   }
  },
  {
   "cell_type": "code",
   "execution_count": 11,
   "outputs": [
    {
     "data": {
      "text/plain": "wa_status\nConservation Dependent                 6\nCritically Endangered                210\nEndangered                           194\nExtinct                               37\nMigratory                             94\nOther Specially Protected              4\nPriority 1: Poorly-known species     885\nPriority 2: Poorly-known species     827\nPriority 3: Poorly-known species     981\nPriority 4: Rare, Near Threatened    397\nVulnerable                           260\nName: wa_status, dtype: int64"
     },
     "execution_count": 11,
     "metadata": {},
     "output_type": "execute_result"
    }
   ],
   "source": [
    "iucn_statuses = {'Not Evaluated', 'Data Deficient', 'Least Concern', 'Near Threatened', 'Vulnerable', 'Endangered', 'Critically Endangered', 'Extinct in the Wild','Extinct'}\n",
    "statelist.groupby(['wa_status'])['wa_status'].count()"
   ],
   "metadata": {
    "collapsed": false,
    "pycharm": {
     "name": "#%%\n"
    }
   }
  },
  {
   "cell_type": "code",
   "execution_count": 12,
   "outputs": [],
   "source": [
    "# these will be used to populate the iucn_equivalent field\n",
    "iucnStatusMappings = {\n",
    "    'conservation dependent': 'Vulnerable',\n",
    "    'critically endangered': 'Critically Endangered',\n",
    "    'endangered':'Endangered',\n",
    "    'extinct':'Extinct',\n",
    "    'migratory':'Vulnerable',\n",
    "    'other specially protencted':'Vulnerable',\n",
    "    'priority 1: poorly-known species':'Data Deficient',\n",
    "    'priority 2: poorly-known species':'Data Deficient',\n",
    "    'priority 3: poorly-known species':'Data Deficient',\n",
    "    'priority 4: rare, near threatened':'Vulnerable',\n",
    "    'vulnerable':'Vulnerable',\n",
    "    'not evaluated':'Not Evaluated',\n",
    "    'data deficient':'Data Deficient',\n",
    "    'least concern':'Least Concern',\n",
    "    'special least concern':'Least Concern',\n",
    "    'near threatened':'Near Threatened',\n",
    "    'extinct in the wild':'Extinct in the Wild',\n",
    "}"
   ],
   "metadata": {
    "collapsed": false,
    "pycharm": {
     "name": "#%%\n"
    }
   }
  },
  {
   "cell_type": "markdown",
   "source": [
    "### 5. Determine best place ID to use"
   ],
   "metadata": {
    "collapsed": false,
    "pycharm": {
     "name": "#%% md\n"
    }
   }
  },
  {
   "cell_type": "code",
   "execution_count": 13,
   "outputs": [
    {
     "data": {
      "text/plain": "place_id  place_name         place_display_name   \n                                                        1\n6744      Australia          Australia                  1\n6827      Western Australia  Western Australia, AU    982\nName: place_id, dtype: int64"
     },
     "execution_count": 13,
     "metadata": {},
     "output_type": "execute_result"
    }
   ],
   "source": [
    "inatstatuses.groupby(['place_id','place_name','place_display_name'])['place_id'].count()\n",
    "# looks like 6827 - note for extract\n"
   ],
   "metadata": {
    "collapsed": false,
    "pycharm": {
     "name": "#%%\n"
    }
   }
  },
  {
   "cell_type": "markdown",
   "source": [
    "## Merge iNaturalist statuses with State lists on scientificName\n",
    "\n",
    "1. Match - updates, even if the statuses are the same we'll update the links and values anyway\n",
    "2. No match - statuses to be added (additions)\n",
    "   1.1 No match and no taxnomy - search for synonyms\n",
    "   1.2 No match\n",
    "3. Merge the other direction to see if there are deletes?\n"
   ],
   "metadata": {
    "collapsed": false,
    "pycharm": {
     "name": "#%% md\n"
    }
   }
  },
  {
   "cell_type": "code",
   "execution_count": 14,
   "outputs": [
    {
     "data": {
      "text/plain": "     wa_taxonID                     wa_scientificName  \\\n1         14044                    Acacia adinophylla   \n2         44442                     Acacia adjutrices   \n4         13074                      Acacia alexandri   \n5         14046                       Acacia ampliata   \n6         14047                       Acacia amyctica   \n...         ...                                   ...   \n3871        NaN             Turnix varius scintillans   \n3872        NaN                      Tursiops aduncus   \n3873        NaN         Tyto novaehollandiae kimberli   \n3874        NaN  Tyto novaehollandiae novaehollandiae   \n3880        NaN                   Welesina kornickeri   \n\n                             wa_status wa_geoprivacy  \\\n1     Priority 1: Poorly-known species      obscured   \n2     Priority 3: Poorly-known species      obscured   \n4     Priority 3: Poorly-known species      obscured   \n5     Priority 1: Poorly-known species      obscured   \n6     Priority 2: Poorly-known species      obscured   \n...                                ...           ...   \n3871                        Endangered      obscured   \n3872                         Migratory      obscured   \n3873  Priority 1: Poorly-known species      obscured   \n3874  Priority 3: Poorly-known species      obscured   \n3880             Critically Endangered      obscured   \n\n                                                   lsid status_id  \\\n1      https://id.biodiversity.org.au/node/apni/2898130    152923   \n2     https://id.biodiversity.org.au/taxon/apni/5128...    153375   \n4      https://id.biodiversity.org.au/node/apni/2904701    153652   \n5      https://id.biodiversity.org.au/node/apni/2919087    153206   \n6      https://id.biodiversity.org.au/node/apni/2902736    153042   \n...                                                 ...       ...   \n3871  https://biodiversity.org.au/afd/taxa/a5f510c9-...       NaN   \n3872  https://biodiversity.org.au/afd/taxa/0cfe42e3-...       NaN   \n3873  https://biodiversity.org.au/afd/taxa/d1a27333-...       NaN   \n3874  https://biodiversity.org.au/afd/taxa/44488be2-...       NaN   \n3880  https://biodiversity.org.au/afd/taxa/d3f16f11-...       NaN   \n\n          scientificName taxon_id user_id description iucn  \\\n1     Acacia adinophylla   898581  708886               40   \n2      Acacia adjutrices   898583  708886               40   \n4       Acacia alexandri   898592  708886               40   \n5        Acacia ampliata   827789  708886               40   \n6        Acacia amyctica   898602  708886               40   \n...                  ...      ...     ...         ...  ...   \n3871                 NaN      NaN     NaN         NaN  NaN   \n3872                 NaN      NaN     NaN         NaN  NaN   \n3873                 NaN      NaN     NaN         NaN  NaN   \n3874                 NaN      NaN     NaN         NaN  NaN   \n3880                 NaN      NaN     NaN         NaN  NaN   \n\n                                           authority      status geoprivacy  \\\n1     WA Department of Environment and Convservation  endangered   obscured   \n2     WA Department of Environment and Convservation  endangered   obscured   \n4     WA Department of Environment and Convservation  endangered   obscured   \n5     WA Department of Environment and Convservation  endangered   obscured   \n6     WA Department of Environment and Convservation  endangered   obscured   \n...                                              ...         ...        ...   \n3871                                             NaN         NaN        NaN   \n3872                                             NaN         NaN        NaN   \n3873                                             NaN         NaN        NaN   \n3874                                             NaN         NaN        NaN   \n3880                                             NaN         NaN        NaN   \n\n     place_id     place_display_name  \n1        6827  Western Australia, AU  \n2        6827  Western Australia, AU  \n4        6827  Western Australia, AU  \n5        6827  Western Australia, AU  \n6        6827  Western Australia, AU  \n...       ...                    ...  \n3871      NaN                    NaN  \n3872      NaN                    NaN  \n3873      NaN                    NaN  \n3874      NaN                    NaN  \n3880      NaN                    NaN  \n\n[3897 rows x 16 columns]",
      "text/html": "<div>\n<style scoped>\n    .dataframe tbody tr th:only-of-type {\n        vertical-align: middle;\n    }\n\n    .dataframe tbody tr th {\n        vertical-align: top;\n    }\n\n    .dataframe thead th {\n        text-align: right;\n    }\n</style>\n<table border=\"1\" class=\"dataframe\">\n  <thead>\n    <tr style=\"text-align: right;\">\n      <th></th>\n      <th>wa_taxonID</th>\n      <th>wa_scientificName</th>\n      <th>wa_status</th>\n      <th>wa_geoprivacy</th>\n      <th>lsid</th>\n      <th>status_id</th>\n      <th>scientificName</th>\n      <th>taxon_id</th>\n      <th>user_id</th>\n      <th>description</th>\n      <th>iucn</th>\n      <th>authority</th>\n      <th>status</th>\n      <th>geoprivacy</th>\n      <th>place_id</th>\n      <th>place_display_name</th>\n    </tr>\n  </thead>\n  <tbody>\n    <tr>\n      <th>1</th>\n      <td>14044</td>\n      <td>Acacia adinophylla</td>\n      <td>Priority 1: Poorly-known species</td>\n      <td>obscured</td>\n      <td>https://id.biodiversity.org.au/node/apni/2898130</td>\n      <td>152923</td>\n      <td>Acacia adinophylla</td>\n      <td>898581</td>\n      <td>708886</td>\n      <td></td>\n      <td>40</td>\n      <td>WA Department of Environment and Convservation</td>\n      <td>endangered</td>\n      <td>obscured</td>\n      <td>6827</td>\n      <td>Western Australia, AU</td>\n    </tr>\n    <tr>\n      <th>2</th>\n      <td>44442</td>\n      <td>Acacia adjutrices</td>\n      <td>Priority 3: Poorly-known species</td>\n      <td>obscured</td>\n      <td>https://id.biodiversity.org.au/taxon/apni/5128...</td>\n      <td>153375</td>\n      <td>Acacia adjutrices</td>\n      <td>898583</td>\n      <td>708886</td>\n      <td></td>\n      <td>40</td>\n      <td>WA Department of Environment and Convservation</td>\n      <td>endangered</td>\n      <td>obscured</td>\n      <td>6827</td>\n      <td>Western Australia, AU</td>\n    </tr>\n    <tr>\n      <th>4</th>\n      <td>13074</td>\n      <td>Acacia alexandri</td>\n      <td>Priority 3: Poorly-known species</td>\n      <td>obscured</td>\n      <td>https://id.biodiversity.org.au/node/apni/2904701</td>\n      <td>153652</td>\n      <td>Acacia alexandri</td>\n      <td>898592</td>\n      <td>708886</td>\n      <td></td>\n      <td>40</td>\n      <td>WA Department of Environment and Convservation</td>\n      <td>endangered</td>\n      <td>obscured</td>\n      <td>6827</td>\n      <td>Western Australia, AU</td>\n    </tr>\n    <tr>\n      <th>5</th>\n      <td>14046</td>\n      <td>Acacia ampliata</td>\n      <td>Priority 1: Poorly-known species</td>\n      <td>obscured</td>\n      <td>https://id.biodiversity.org.au/node/apni/2919087</td>\n      <td>153206</td>\n      <td>Acacia ampliata</td>\n      <td>827789</td>\n      <td>708886</td>\n      <td></td>\n      <td>40</td>\n      <td>WA Department of Environment and Convservation</td>\n      <td>endangered</td>\n      <td>obscured</td>\n      <td>6827</td>\n      <td>Western Australia, AU</td>\n    </tr>\n    <tr>\n      <th>6</th>\n      <td>14047</td>\n      <td>Acacia amyctica</td>\n      <td>Priority 2: Poorly-known species</td>\n      <td>obscured</td>\n      <td>https://id.biodiversity.org.au/node/apni/2902736</td>\n      <td>153042</td>\n      <td>Acacia amyctica</td>\n      <td>898602</td>\n      <td>708886</td>\n      <td></td>\n      <td>40</td>\n      <td>WA Department of Environment and Convservation</td>\n      <td>endangered</td>\n      <td>obscured</td>\n      <td>6827</td>\n      <td>Western Australia, AU</td>\n    </tr>\n    <tr>\n      <th>...</th>\n      <td>...</td>\n      <td>...</td>\n      <td>...</td>\n      <td>...</td>\n      <td>...</td>\n      <td>...</td>\n      <td>...</td>\n      <td>...</td>\n      <td>...</td>\n      <td>...</td>\n      <td>...</td>\n      <td>...</td>\n      <td>...</td>\n      <td>...</td>\n      <td>...</td>\n      <td>...</td>\n    </tr>\n    <tr>\n      <th>3871</th>\n      <td>NaN</td>\n      <td>Turnix varius scintillans</td>\n      <td>Endangered</td>\n      <td>obscured</td>\n      <td>https://biodiversity.org.au/afd/taxa/a5f510c9-...</td>\n      <td>NaN</td>\n      <td>NaN</td>\n      <td>NaN</td>\n      <td>NaN</td>\n      <td>NaN</td>\n      <td>NaN</td>\n      <td>NaN</td>\n      <td>NaN</td>\n      <td>NaN</td>\n      <td>NaN</td>\n      <td>NaN</td>\n    </tr>\n    <tr>\n      <th>3872</th>\n      <td>NaN</td>\n      <td>Tursiops aduncus</td>\n      <td>Migratory</td>\n      <td>obscured</td>\n      <td>https://biodiversity.org.au/afd/taxa/0cfe42e3-...</td>\n      <td>NaN</td>\n      <td>NaN</td>\n      <td>NaN</td>\n      <td>NaN</td>\n      <td>NaN</td>\n      <td>NaN</td>\n      <td>NaN</td>\n      <td>NaN</td>\n      <td>NaN</td>\n      <td>NaN</td>\n      <td>NaN</td>\n    </tr>\n    <tr>\n      <th>3873</th>\n      <td>NaN</td>\n      <td>Tyto novaehollandiae kimberli</td>\n      <td>Priority 1: Poorly-known species</td>\n      <td>obscured</td>\n      <td>https://biodiversity.org.au/afd/taxa/d1a27333-...</td>\n      <td>NaN</td>\n      <td>NaN</td>\n      <td>NaN</td>\n      <td>NaN</td>\n      <td>NaN</td>\n      <td>NaN</td>\n      <td>NaN</td>\n      <td>NaN</td>\n      <td>NaN</td>\n      <td>NaN</td>\n      <td>NaN</td>\n    </tr>\n    <tr>\n      <th>3874</th>\n      <td>NaN</td>\n      <td>Tyto novaehollandiae novaehollandiae</td>\n      <td>Priority 3: Poorly-known species</td>\n      <td>obscured</td>\n      <td>https://biodiversity.org.au/afd/taxa/44488be2-...</td>\n      <td>NaN</td>\n      <td>NaN</td>\n      <td>NaN</td>\n      <td>NaN</td>\n      <td>NaN</td>\n      <td>NaN</td>\n      <td>NaN</td>\n      <td>NaN</td>\n      <td>NaN</td>\n      <td>NaN</td>\n      <td>NaN</td>\n    </tr>\n    <tr>\n      <th>3880</th>\n      <td>NaN</td>\n      <td>Welesina kornickeri</td>\n      <td>Critically Endangered</td>\n      <td>obscured</td>\n      <td>https://biodiversity.org.au/afd/taxa/d3f16f11-...</td>\n      <td>NaN</td>\n      <td>NaN</td>\n      <td>NaN</td>\n      <td>NaN</td>\n      <td>NaN</td>\n      <td>NaN</td>\n      <td>NaN</td>\n      <td>NaN</td>\n      <td>NaN</td>\n      <td>NaN</td>\n      <td>NaN</td>\n    </tr>\n  </tbody>\n</table>\n<p>3897 rows × 16 columns</p>\n</div>"
     },
     "execution_count": 14,
     "metadata": {},
     "output_type": "execute_result"
    }
   ],
   "source": [
    "# join to see which lists already have a status in inaturalist based on scientificName\n",
    "mergedstatuses = statelist[['wa_taxonID','wa_scientificName','wa_status','wa_geoprivacy','lsid']].merge(inatstatuses[['status_id','scientificName','taxon_id','user_id','description','iucn','authority','status','geoprivacy','place_id','place_display_name']],how=\"left\",left_on='wa_scientificName',right_on='scientificName',suffixes=(None,'_inat')).sort_values(['scientificName'])\n",
    "mergedstatuses\n"
   ],
   "metadata": {
    "collapsed": false,
    "pycharm": {
     "name": "#%%\n"
    }
   }
  },
  {
   "cell_type": "code",
   "execution_count": 15,
   "outputs": [
    {
     "data": {
      "text/plain": "     wa_taxonID                     wa_scientificName  \\\n1         14044                    Acacia adinophylla   \n2         44442                     Acacia adjutrices   \n4         13074                      Acacia alexandri   \n5         14046                       Acacia ampliata   \n6         14047                       Acacia amyctica   \n...         ...                                   ...   \n3871        NaN             Turnix varius scintillans   \n3872        NaN                      Tursiops aduncus   \n3873        NaN         Tyto novaehollandiae kimberli   \n3874        NaN  Tyto novaehollandiae novaehollandiae   \n3880        NaN                   Welesina kornickeri   \n\n                             wa_status new_geoprivacy  \\\n1     Priority 1: Poorly-known species       obscured   \n2     Priority 3: Poorly-known species       obscured   \n4     Priority 3: Poorly-known species       obscured   \n5     Priority 1: Poorly-known species       obscured   \n6     Priority 2: Poorly-known species       obscured   \n...                                ...            ...   \n3871                        Endangered       obscured   \n3872                         Migratory       obscured   \n3873  Priority 1: Poorly-known species       obscured   \n3874  Priority 3: Poorly-known species       obscured   \n3880             Critically Endangered       obscured   \n\n                                                   lsid status_id  \\\n1      https://id.biodiversity.org.au/node/apni/2898130    152923   \n2     https://id.biodiversity.org.au/taxon/apni/5128...    153375   \n4      https://id.biodiversity.org.au/node/apni/2904701    153652   \n5      https://id.biodiversity.org.au/node/apni/2919087    153206   \n6      https://id.biodiversity.org.au/node/apni/2902736    153042   \n...                                                 ...       ...   \n3871  https://biodiversity.org.au/afd/taxa/a5f510c9-...       NaN   \n3872  https://biodiversity.org.au/afd/taxa/0cfe42e3-...       NaN   \n3873  https://biodiversity.org.au/afd/taxa/d1a27333-...       NaN   \n3874  https://biodiversity.org.au/afd/taxa/44488be2-...       NaN   \n3880  https://biodiversity.org.au/afd/taxa/d3f16f11-...       NaN   \n\n          scientificName taxon_id user_id description  ... geoprivacy  \\\n1     Acacia adinophylla   898581  708886              ...   obscured   \n2      Acacia adjutrices   898583  708886              ...   obscured   \n4       Acacia alexandri   898592  708886              ...   obscured   \n5        Acacia ampliata   827789  708886              ...   obscured   \n6        Acacia amyctica   898602  708886              ...   obscured   \n...                  ...      ...     ...         ...  ...        ...   \n3871                 NaN      NaN     NaN         NaN  ...        NaN   \n3872                 NaN      NaN     NaN         NaN  ...        NaN   \n3873                 NaN      NaN     NaN         NaN  ...        NaN   \n3874                 NaN      NaN     NaN         NaN  ...        NaN   \n3880                 NaN      NaN     NaN         NaN  ...        NaN   \n\n     place_id     place_display_name  \\\n1        6827  Western Australia, AU   \n2        6827  Western Australia, AU   \n4        6827  Western Australia, AU   \n5        6827  Western Australia, AU   \n6        6827  Western Australia, AU   \n...       ...                    ...   \n3871      NaN                    NaN   \n3872      NaN                    NaN   \n3873      NaN                    NaN   \n3874      NaN                    NaN   \n3880      NaN                    NaN   \n\n                                                new_url  \\\n1     https://florabase.dpaw.wa.gov.au/browse/profil...   \n2     https://florabase.dpaw.wa.gov.au/browse/profil...   \n4     https://florabase.dpaw.wa.gov.au/browse/profil...   \n5     https://florabase.dpaw.wa.gov.au/browse/profil...   \n6     https://florabase.dpaw.wa.gov.au/browse/profil...   \n...                                                 ...   \n3871  https://bie.ala.org.au/species/https://biodive...   \n3872  https://bie.ala.org.au/species/https://biodive...   \n3873  https://bie.ala.org.au/species/https://biodive...   \n3874  https://bie.ala.org.au/species/https://biodive...   \n3880  https://bie.ala.org.au/species/https://biodive...   \n\n                                        new_description  \\\n1     Listed as Confidential - refer to https://www....   \n2     Listed as Confidential - refer to https://www....   \n4     Listed as Confidential - refer to https://www....   \n5     Listed as Confidential - refer to https://www....   \n6     Listed as Confidential - refer to https://www....   \n...                                                 ...   \n3871  Listed as Confidential - refer to https://www....   \n3872  Listed as Confidential - refer to https://www....   \n3873  Listed as Confidential - refer to https://www....   \n3874  Listed as Confidential - refer to https://www....   \n3880  Listed as Confidential - refer to https://www....   \n\n                                          new_authority new_place_id  \\\n1     WA Deparment of Biodiversity, Conservation and...         6827   \n2     WA Deparment of Biodiversity, Conservation and...         6827   \n4     WA Deparment of Biodiversity, Conservation and...         6827   \n5     WA Deparment of Biodiversity, Conservation and...         6827   \n6     WA Deparment of Biodiversity, Conservation and...         6827   \n...                                                 ...          ...   \n3871  WA Deparment of Biodiversity, Conservation and...         6827   \n3872  WA Deparment of Biodiversity, Conservation and...         6827   \n3873  WA Deparment of Biodiversity, Conservation and...         6827   \n3874  WA Deparment of Biodiversity, Conservation and...         6827   \n3880  WA Deparment of Biodiversity, Conservation and...         6827   \n\n     new_username new_iucn_equivalent                        new_status  \n1       peggydnew          Endangered  Priority 1: Poorly-known species  \n2       peggydnew          Endangered  Priority 3: Poorly-known species  \n4       peggydnew          Endangered  Priority 3: Poorly-known species  \n5       peggydnew          Endangered  Priority 1: Poorly-known species  \n6       peggydnew          Endangered  Priority 2: Poorly-known species  \n...           ...                 ...                               ...  \n3871    peggydnew          Vulnerable                        Endangered  \n3872    peggydnew          Vulnerable                         Migratory  \n3873    peggydnew          Vulnerable  Priority 1: Poorly-known species  \n3874    peggydnew          Vulnerable  Priority 3: Poorly-known species  \n3880    peggydnew          Vulnerable             Critically Endangered  \n\n[3897 rows x 23 columns]",
      "text/html": "<div>\n<style scoped>\n    .dataframe tbody tr th:only-of-type {\n        vertical-align: middle;\n    }\n\n    .dataframe tbody tr th {\n        vertical-align: top;\n    }\n\n    .dataframe thead th {\n        text-align: right;\n    }\n</style>\n<table border=\"1\" class=\"dataframe\">\n  <thead>\n    <tr style=\"text-align: right;\">\n      <th></th>\n      <th>wa_taxonID</th>\n      <th>wa_scientificName</th>\n      <th>wa_status</th>\n      <th>new_geoprivacy</th>\n      <th>lsid</th>\n      <th>status_id</th>\n      <th>scientificName</th>\n      <th>taxon_id</th>\n      <th>user_id</th>\n      <th>description</th>\n      <th>...</th>\n      <th>geoprivacy</th>\n      <th>place_id</th>\n      <th>place_display_name</th>\n      <th>new_url</th>\n      <th>new_description</th>\n      <th>new_authority</th>\n      <th>new_place_id</th>\n      <th>new_username</th>\n      <th>new_iucn_equivalent</th>\n      <th>new_status</th>\n    </tr>\n  </thead>\n  <tbody>\n    <tr>\n      <th>1</th>\n      <td>14044</td>\n      <td>Acacia adinophylla</td>\n      <td>Priority 1: Poorly-known species</td>\n      <td>obscured</td>\n      <td>https://id.biodiversity.org.au/node/apni/2898130</td>\n      <td>152923</td>\n      <td>Acacia adinophylla</td>\n      <td>898581</td>\n      <td>708886</td>\n      <td></td>\n      <td>...</td>\n      <td>obscured</td>\n      <td>6827</td>\n      <td>Western Australia, AU</td>\n      <td>https://florabase.dpaw.wa.gov.au/browse/profil...</td>\n      <td>Listed as Confidential - refer to https://www....</td>\n      <td>WA Deparment of Biodiversity, Conservation and...</td>\n      <td>6827</td>\n      <td>peggydnew</td>\n      <td>Endangered</td>\n      <td>Priority 1: Poorly-known species</td>\n    </tr>\n    <tr>\n      <th>2</th>\n      <td>44442</td>\n      <td>Acacia adjutrices</td>\n      <td>Priority 3: Poorly-known species</td>\n      <td>obscured</td>\n      <td>https://id.biodiversity.org.au/taxon/apni/5128...</td>\n      <td>153375</td>\n      <td>Acacia adjutrices</td>\n      <td>898583</td>\n      <td>708886</td>\n      <td></td>\n      <td>...</td>\n      <td>obscured</td>\n      <td>6827</td>\n      <td>Western Australia, AU</td>\n      <td>https://florabase.dpaw.wa.gov.au/browse/profil...</td>\n      <td>Listed as Confidential - refer to https://www....</td>\n      <td>WA Deparment of Biodiversity, Conservation and...</td>\n      <td>6827</td>\n      <td>peggydnew</td>\n      <td>Endangered</td>\n      <td>Priority 3: Poorly-known species</td>\n    </tr>\n    <tr>\n      <th>4</th>\n      <td>13074</td>\n      <td>Acacia alexandri</td>\n      <td>Priority 3: Poorly-known species</td>\n      <td>obscured</td>\n      <td>https://id.biodiversity.org.au/node/apni/2904701</td>\n      <td>153652</td>\n      <td>Acacia alexandri</td>\n      <td>898592</td>\n      <td>708886</td>\n      <td></td>\n      <td>...</td>\n      <td>obscured</td>\n      <td>6827</td>\n      <td>Western Australia, AU</td>\n      <td>https://florabase.dpaw.wa.gov.au/browse/profil...</td>\n      <td>Listed as Confidential - refer to https://www....</td>\n      <td>WA Deparment of Biodiversity, Conservation and...</td>\n      <td>6827</td>\n      <td>peggydnew</td>\n      <td>Endangered</td>\n      <td>Priority 3: Poorly-known species</td>\n    </tr>\n    <tr>\n      <th>5</th>\n      <td>14046</td>\n      <td>Acacia ampliata</td>\n      <td>Priority 1: Poorly-known species</td>\n      <td>obscured</td>\n      <td>https://id.biodiversity.org.au/node/apni/2919087</td>\n      <td>153206</td>\n      <td>Acacia ampliata</td>\n      <td>827789</td>\n      <td>708886</td>\n      <td></td>\n      <td>...</td>\n      <td>obscured</td>\n      <td>6827</td>\n      <td>Western Australia, AU</td>\n      <td>https://florabase.dpaw.wa.gov.au/browse/profil...</td>\n      <td>Listed as Confidential - refer to https://www....</td>\n      <td>WA Deparment of Biodiversity, Conservation and...</td>\n      <td>6827</td>\n      <td>peggydnew</td>\n      <td>Endangered</td>\n      <td>Priority 1: Poorly-known species</td>\n    </tr>\n    <tr>\n      <th>6</th>\n      <td>14047</td>\n      <td>Acacia amyctica</td>\n      <td>Priority 2: Poorly-known species</td>\n      <td>obscured</td>\n      <td>https://id.biodiversity.org.au/node/apni/2902736</td>\n      <td>153042</td>\n      <td>Acacia amyctica</td>\n      <td>898602</td>\n      <td>708886</td>\n      <td></td>\n      <td>...</td>\n      <td>obscured</td>\n      <td>6827</td>\n      <td>Western Australia, AU</td>\n      <td>https://florabase.dpaw.wa.gov.au/browse/profil...</td>\n      <td>Listed as Confidential - refer to https://www....</td>\n      <td>WA Deparment of Biodiversity, Conservation and...</td>\n      <td>6827</td>\n      <td>peggydnew</td>\n      <td>Endangered</td>\n      <td>Priority 2: Poorly-known species</td>\n    </tr>\n    <tr>\n      <th>...</th>\n      <td>...</td>\n      <td>...</td>\n      <td>...</td>\n      <td>...</td>\n      <td>...</td>\n      <td>...</td>\n      <td>...</td>\n      <td>...</td>\n      <td>...</td>\n      <td>...</td>\n      <td>...</td>\n      <td>...</td>\n      <td>...</td>\n      <td>...</td>\n      <td>...</td>\n      <td>...</td>\n      <td>...</td>\n      <td>...</td>\n      <td>...</td>\n      <td>...</td>\n      <td>...</td>\n    </tr>\n    <tr>\n      <th>3871</th>\n      <td>NaN</td>\n      <td>Turnix varius scintillans</td>\n      <td>Endangered</td>\n      <td>obscured</td>\n      <td>https://biodiversity.org.au/afd/taxa/a5f510c9-...</td>\n      <td>NaN</td>\n      <td>NaN</td>\n      <td>NaN</td>\n      <td>NaN</td>\n      <td>NaN</td>\n      <td>...</td>\n      <td>NaN</td>\n      <td>NaN</td>\n      <td>NaN</td>\n      <td>https://bie.ala.org.au/species/https://biodive...</td>\n      <td>Listed as Confidential - refer to https://www....</td>\n      <td>WA Deparment of Biodiversity, Conservation and...</td>\n      <td>6827</td>\n      <td>peggydnew</td>\n      <td>Vulnerable</td>\n      <td>Endangered</td>\n    </tr>\n    <tr>\n      <th>3872</th>\n      <td>NaN</td>\n      <td>Tursiops aduncus</td>\n      <td>Migratory</td>\n      <td>obscured</td>\n      <td>https://biodiversity.org.au/afd/taxa/0cfe42e3-...</td>\n      <td>NaN</td>\n      <td>NaN</td>\n      <td>NaN</td>\n      <td>NaN</td>\n      <td>NaN</td>\n      <td>...</td>\n      <td>NaN</td>\n      <td>NaN</td>\n      <td>NaN</td>\n      <td>https://bie.ala.org.au/species/https://biodive...</td>\n      <td>Listed as Confidential - refer to https://www....</td>\n      <td>WA Deparment of Biodiversity, Conservation and...</td>\n      <td>6827</td>\n      <td>peggydnew</td>\n      <td>Vulnerable</td>\n      <td>Migratory</td>\n    </tr>\n    <tr>\n      <th>3873</th>\n      <td>NaN</td>\n      <td>Tyto novaehollandiae kimberli</td>\n      <td>Priority 1: Poorly-known species</td>\n      <td>obscured</td>\n      <td>https://biodiversity.org.au/afd/taxa/d1a27333-...</td>\n      <td>NaN</td>\n      <td>NaN</td>\n      <td>NaN</td>\n      <td>NaN</td>\n      <td>NaN</td>\n      <td>...</td>\n      <td>NaN</td>\n      <td>NaN</td>\n      <td>NaN</td>\n      <td>https://bie.ala.org.au/species/https://biodive...</td>\n      <td>Listed as Confidential - refer to https://www....</td>\n      <td>WA Deparment of Biodiversity, Conservation and...</td>\n      <td>6827</td>\n      <td>peggydnew</td>\n      <td>Vulnerable</td>\n      <td>Priority 1: Poorly-known species</td>\n    </tr>\n    <tr>\n      <th>3874</th>\n      <td>NaN</td>\n      <td>Tyto novaehollandiae novaehollandiae</td>\n      <td>Priority 3: Poorly-known species</td>\n      <td>obscured</td>\n      <td>https://biodiversity.org.au/afd/taxa/44488be2-...</td>\n      <td>NaN</td>\n      <td>NaN</td>\n      <td>NaN</td>\n      <td>NaN</td>\n      <td>NaN</td>\n      <td>...</td>\n      <td>NaN</td>\n      <td>NaN</td>\n      <td>NaN</td>\n      <td>https://bie.ala.org.au/species/https://biodive...</td>\n      <td>Listed as Confidential - refer to https://www....</td>\n      <td>WA Deparment of Biodiversity, Conservation and...</td>\n      <td>6827</td>\n      <td>peggydnew</td>\n      <td>Vulnerable</td>\n      <td>Priority 3: Poorly-known species</td>\n    </tr>\n    <tr>\n      <th>3880</th>\n      <td>NaN</td>\n      <td>Welesina kornickeri</td>\n      <td>Critically Endangered</td>\n      <td>obscured</td>\n      <td>https://biodiversity.org.au/afd/taxa/d3f16f11-...</td>\n      <td>NaN</td>\n      <td>NaN</td>\n      <td>NaN</td>\n      <td>NaN</td>\n      <td>NaN</td>\n      <td>...</td>\n      <td>NaN</td>\n      <td>NaN</td>\n      <td>NaN</td>\n      <td>https://bie.ala.org.au/species/https://biodive...</td>\n      <td>Listed as Confidential - refer to https://www....</td>\n      <td>WA Deparment of Biodiversity, Conservation and...</td>\n      <td>6827</td>\n      <td>peggydnew</td>\n      <td>Vulnerable</td>\n      <td>Critically Endangered</td>\n    </tr>\n  </tbody>\n</table>\n<p>3897 rows × 23 columns</p>\n</div>"
     },
     "execution_count": 15,
     "metadata": {},
     "output_type": "execute_result"
    }
   ],
   "source": [
    "# prepare the export fields, common to New template and Update template\n",
    "# new statuses\n",
    "# Taxon_Name,Status,Authority,IUCN_equivalent,Description,iNaturalist_Place_ID,url,Taxon_Geoprivacy,Username,taxon_id\n",
    "# updates\n",
    "# action,taxon_name,id,taxon_id,status,iucn_equivalent,authority,url,geoprivacy,place_id,username\n",
    "#mergedstatuses['new_description'] = \"Listed as sensitive - refer to https://www.dpaw.wa.gov.au/plants-and-animals/threatened-species-and-communities\"\n",
    "# url is either a florabase url or bie page\n",
    "florabaseurl = \"https://florabase.dpaw.wa.gov.au/browse/profile/\"\n",
    "biesearchurl = \"https://bie.ala.org.au/species/\" # eg + \"https://id.biodiversity.org.au/node/apni/2894366\"\n",
    "mergedstatuses['new_url'] = mergedstatuses.apply(lambda x: biesearchurl + x['lsid'] if pd.isna(x['wa_taxonID']) else florabaseurl + x['wa_taxonID'],axis=1)\n",
    "floradescrurl = \"Listed as Confidential - refer to https://www.dpaw.wa.gov.au/plants-and-animals/threatened-species-and-communities/threatened-plants\"\n",
    "faunadescrurl = \"Listed as Confidential - refer to https://www.dpaw.wa.gov.au/plants-and-animals/threatened-species-and-communities/threatened-animals\"\n",
    "mergedstatuses['new_description'] = mergedstatuses.apply(lambda x: faunadescrurl if pd.isna(x['wa_taxonID']) else floradescrurl,axis=1)\n",
    "mergedstatuses['new_authority'] = \"WA Deparment of Biodiversity, Conservation and Attractions\"\n",
    "mergedstatuses.rename(columns={'wa_geoprivacy':'new_geoprivacy'},inplace=True)\n",
    "mergedstatuses['new_place_id'] = '6827'  # Queensland, AU\n",
    "mergedstatuses['new_username'] = 'peggydnew'\n",
    "mergedstatuses['new_iucn_equivalent'] = mergedstatuses['status'].str.lower().str.strip().map(iucnStatusMappings).fillna('Vulnerable') # map to dictionary\n",
    "mergedstatuses['new_status'] = mergedstatuses['wa_status'].fillna('Sensitive')\n",
    "mergedstatuses"
   ],
   "metadata": {
    "collapsed": false,
    "pycharm": {
     "name": "#%%\n"
    }
   }
  },
  {
   "cell_type": "markdown",
   "source": [
    "## Updates"
   ],
   "metadata": {
    "collapsed": false,
    "pycharm": {
     "name": "#%% md\n"
    }
   }
  },
  {
   "cell_type": "code",
   "execution_count": 16,
   "outputs": [
    {
     "data": {
      "text/plain": "           wa_scientificName                         wa_status status_id  \\\n1         Acacia adinophylla  Priority 1: Poorly-known species    152923   \n2          Acacia adjutrices  Priority 3: Poorly-known species    153375   \n4           Acacia alexandri  Priority 3: Poorly-known species    153652   \n5            Acacia ampliata  Priority 1: Poorly-known species    153206   \n6            Acacia amyctica  Priority 2: Poorly-known species    153042   \n...                      ...                               ...       ...   \n3894  Zephyrarchaea melindae                        Vulnerable    153596   \n3895   Zephyrarchaea robinsi                        Vulnerable    153176   \n3314         Zeuxine oblonga  Priority 2: Poorly-known species    169907   \n3315         Zeuxine oblonga  Priority 2: Poorly-known species    153758   \n3896    Zyzomys pedunculatus             Critically Endangered    152903   \n\n     taxon_id                 status new_geoprivacy geoprivacy  \\\n1      898581             endangered       obscured   obscured   \n2      898583             endangered       obscured   obscured   \n4      898592             endangered       obscured   obscured   \n5      827789             endangered       obscured   obscured   \n6      898602             endangered       obscured   obscured   \n...       ...                    ...            ...        ...   \n3894   828667             vulnerable       obscured   obscured   \n3895   828668             vulnerable       obscured   obscured   \n3314   369267                     NT       obscured              \n3315   369267                     NT       obscured   obscured   \n3896    45374  critically endangered       obscured   obscured   \n\n                                           authority user_id  \n1     WA Department of Environment and Convservation  708886  \n2     WA Department of Environment and Convservation  708886  \n4     WA Department of Environment and Convservation  708886  \n5     WA Department of Environment and Convservation  708886  \n6     WA Department of Environment and Convservation  708886  \n...                                              ...     ...  \n3894  WA Department of Environment and Convservation  708886  \n3895  WA Department of Environment and Convservation  708886  \n3314                       Atlas of Living Australia  702203  \n3315  WA Department of Environment and Convservation  708886  \n3896  WA Department of Environment and Convservation  708886  \n\n[873 rows x 9 columns]",
      "text/html": "<div>\n<style scoped>\n    .dataframe tbody tr th:only-of-type {\n        vertical-align: middle;\n    }\n\n    .dataframe tbody tr th {\n        vertical-align: top;\n    }\n\n    .dataframe thead th {\n        text-align: right;\n    }\n</style>\n<table border=\"1\" class=\"dataframe\">\n  <thead>\n    <tr style=\"text-align: right;\">\n      <th></th>\n      <th>wa_scientificName</th>\n      <th>wa_status</th>\n      <th>status_id</th>\n      <th>taxon_id</th>\n      <th>status</th>\n      <th>new_geoprivacy</th>\n      <th>geoprivacy</th>\n      <th>authority</th>\n      <th>user_id</th>\n    </tr>\n  </thead>\n  <tbody>\n    <tr>\n      <th>1</th>\n      <td>Acacia adinophylla</td>\n      <td>Priority 1: Poorly-known species</td>\n      <td>152923</td>\n      <td>898581</td>\n      <td>endangered</td>\n      <td>obscured</td>\n      <td>obscured</td>\n      <td>WA Department of Environment and Convservation</td>\n      <td>708886</td>\n    </tr>\n    <tr>\n      <th>2</th>\n      <td>Acacia adjutrices</td>\n      <td>Priority 3: Poorly-known species</td>\n      <td>153375</td>\n      <td>898583</td>\n      <td>endangered</td>\n      <td>obscured</td>\n      <td>obscured</td>\n      <td>WA Department of Environment and Convservation</td>\n      <td>708886</td>\n    </tr>\n    <tr>\n      <th>4</th>\n      <td>Acacia alexandri</td>\n      <td>Priority 3: Poorly-known species</td>\n      <td>153652</td>\n      <td>898592</td>\n      <td>endangered</td>\n      <td>obscured</td>\n      <td>obscured</td>\n      <td>WA Department of Environment and Convservation</td>\n      <td>708886</td>\n    </tr>\n    <tr>\n      <th>5</th>\n      <td>Acacia ampliata</td>\n      <td>Priority 1: Poorly-known species</td>\n      <td>153206</td>\n      <td>827789</td>\n      <td>endangered</td>\n      <td>obscured</td>\n      <td>obscured</td>\n      <td>WA Department of Environment and Convservation</td>\n      <td>708886</td>\n    </tr>\n    <tr>\n      <th>6</th>\n      <td>Acacia amyctica</td>\n      <td>Priority 2: Poorly-known species</td>\n      <td>153042</td>\n      <td>898602</td>\n      <td>endangered</td>\n      <td>obscured</td>\n      <td>obscured</td>\n      <td>WA Department of Environment and Convservation</td>\n      <td>708886</td>\n    </tr>\n    <tr>\n      <th>...</th>\n      <td>...</td>\n      <td>...</td>\n      <td>...</td>\n      <td>...</td>\n      <td>...</td>\n      <td>...</td>\n      <td>...</td>\n      <td>...</td>\n      <td>...</td>\n    </tr>\n    <tr>\n      <th>3894</th>\n      <td>Zephyrarchaea melindae</td>\n      <td>Vulnerable</td>\n      <td>153596</td>\n      <td>828667</td>\n      <td>vulnerable</td>\n      <td>obscured</td>\n      <td>obscured</td>\n      <td>WA Department of Environment and Convservation</td>\n      <td>708886</td>\n    </tr>\n    <tr>\n      <th>3895</th>\n      <td>Zephyrarchaea robinsi</td>\n      <td>Vulnerable</td>\n      <td>153176</td>\n      <td>828668</td>\n      <td>vulnerable</td>\n      <td>obscured</td>\n      <td>obscured</td>\n      <td>WA Department of Environment and Convservation</td>\n      <td>708886</td>\n    </tr>\n    <tr>\n      <th>3314</th>\n      <td>Zeuxine oblonga</td>\n      <td>Priority 2: Poorly-known species</td>\n      <td>169907</td>\n      <td>369267</td>\n      <td>NT</td>\n      <td>obscured</td>\n      <td></td>\n      <td>Atlas of Living Australia</td>\n      <td>702203</td>\n    </tr>\n    <tr>\n      <th>3315</th>\n      <td>Zeuxine oblonga</td>\n      <td>Priority 2: Poorly-known species</td>\n      <td>153758</td>\n      <td>369267</td>\n      <td>NT</td>\n      <td>obscured</td>\n      <td>obscured</td>\n      <td>WA Department of Environment and Convservation</td>\n      <td>708886</td>\n    </tr>\n    <tr>\n      <th>3896</th>\n      <td>Zyzomys pedunculatus</td>\n      <td>Critically Endangered</td>\n      <td>152903</td>\n      <td>45374</td>\n      <td>critically endangered</td>\n      <td>obscured</td>\n      <td>obscured</td>\n      <td>WA Department of Environment and Convservation</td>\n      <td>708886</td>\n    </tr>\n  </tbody>\n</table>\n<p>873 rows × 9 columns</p>\n</div>"
     },
     "execution_count": 16,
     "metadata": {},
     "output_type": "execute_result"
    }
   ],
   "source": [
    "# those that need to be updated - we found a status\n",
    "mergedstatuses[mergedstatuses['status_id'].notnull()][['wa_scientificName','wa_status','status_id','taxon_id','status','new_geoprivacy','geoprivacy','authority','user_id']]"
   ],
   "metadata": {
    "collapsed": false,
    "pycharm": {
     "name": "#%%\n"
    }
   }
  },
  {
   "cell_type": "code",
   "execution_count": 17,
   "outputs": [
    {
     "data": {
      "text/plain": "      action              taxon_name      id taxon_id  \\\n1     UPDATE      Acacia adinophylla  152923   898581   \n2     UPDATE       Acacia adjutrices  153375   898583   \n4     UPDATE        Acacia alexandri  153652   898592   \n5     UPDATE         Acacia ampliata  153206   827789   \n6     UPDATE         Acacia amyctica  153042   898602   \n...      ...                     ...     ...      ...   \n3894  UPDATE  Zephyrarchaea melindae  153596   828667   \n3895  UPDATE   Zephyrarchaea robinsi  153176   828668   \n3314  UPDATE         Zeuxine oblonga  169907   369267   \n3315  UPDATE         Zeuxine oblonga  153758   369267   \n3896  UPDATE    Zyzomys pedunculatus  152903    45374   \n\n                                status        iucn_equivalent  \\\n1     Priority 1: Poorly-known species             Endangered   \n2     Priority 3: Poorly-known species             Endangered   \n4     Priority 3: Poorly-known species             Endangered   \n5     Priority 1: Poorly-known species             Endangered   \n6     Priority 2: Poorly-known species             Endangered   \n...                                ...                    ...   \n3894                        Vulnerable             Vulnerable   \n3895                        Vulnerable             Vulnerable   \n3314  Priority 2: Poorly-known species             Vulnerable   \n3315  Priority 2: Poorly-known species             Vulnerable   \n3896             Critically Endangered  Critically Endangered   \n\n                                              authority  \\\n1     WA Deparment of Biodiversity, Conservation and...   \n2     WA Deparment of Biodiversity, Conservation and...   \n4     WA Deparment of Biodiversity, Conservation and...   \n5     WA Deparment of Biodiversity, Conservation and...   \n6     WA Deparment of Biodiversity, Conservation and...   \n...                                                 ...   \n3894  WA Deparment of Biodiversity, Conservation and...   \n3895  WA Deparment of Biodiversity, Conservation and...   \n3314  WA Deparment of Biodiversity, Conservation and...   \n3315  WA Deparment of Biodiversity, Conservation and...   \n3896  WA Deparment of Biodiversity, Conservation and...   \n\n                                                    url geoprivacy place_id  \\\n1     https://florabase.dpaw.wa.gov.au/browse/profil...   obscured     6827   \n2     https://florabase.dpaw.wa.gov.au/browse/profil...   obscured     6827   \n4     https://florabase.dpaw.wa.gov.au/browse/profil...   obscured     6827   \n5     https://florabase.dpaw.wa.gov.au/browse/profil...   obscured     6827   \n6     https://florabase.dpaw.wa.gov.au/browse/profil...   obscured     6827   \n...                                                 ...        ...      ...   \n3894  https://bie.ala.org.au/species/https://biodive...   obscured     6827   \n3895  https://bie.ala.org.au/species/https://biodive...   obscured     6827   \n3314  https://florabase.dpaw.wa.gov.au/browse/profil...   obscured     6827   \n3315  https://florabase.dpaw.wa.gov.au/browse/profil...   obscured     6827   \n3896  https://bie.ala.org.au/species/https://biodive...   obscured     6827   \n\n       username                                        description  \n1     peggydnew  Listed as Confidential - refer to https://www....  \n2     peggydnew  Listed as Confidential - refer to https://www....  \n4     peggydnew  Listed as Confidential - refer to https://www....  \n5     peggydnew  Listed as Confidential - refer to https://www....  \n6     peggydnew  Listed as Confidential - refer to https://www....  \n...         ...                                                ...  \n3894  peggydnew  Listed as Confidential - refer to https://www....  \n3895  peggydnew  Listed as Confidential - refer to https://www....  \n3314  peggydnew  Listed as Confidential - refer to https://www....  \n3315  peggydnew  Listed as Confidential - refer to https://www....  \n3896  peggydnew  Listed as Confidential - refer to https://www....  \n\n[873 rows x 12 columns]",
      "text/html": "<div>\n<style scoped>\n    .dataframe tbody tr th:only-of-type {\n        vertical-align: middle;\n    }\n\n    .dataframe tbody tr th {\n        vertical-align: top;\n    }\n\n    .dataframe thead th {\n        text-align: right;\n    }\n</style>\n<table border=\"1\" class=\"dataframe\">\n  <thead>\n    <tr style=\"text-align: right;\">\n      <th></th>\n      <th>action</th>\n      <th>taxon_name</th>\n      <th>id</th>\n      <th>taxon_id</th>\n      <th>status</th>\n      <th>iucn_equivalent</th>\n      <th>authority</th>\n      <th>url</th>\n      <th>geoprivacy</th>\n      <th>place_id</th>\n      <th>username</th>\n      <th>description</th>\n    </tr>\n  </thead>\n  <tbody>\n    <tr>\n      <th>1</th>\n      <td>UPDATE</td>\n      <td>Acacia adinophylla</td>\n      <td>152923</td>\n      <td>898581</td>\n      <td>Priority 1: Poorly-known species</td>\n      <td>Endangered</td>\n      <td>WA Deparment of Biodiversity, Conservation and...</td>\n      <td>https://florabase.dpaw.wa.gov.au/browse/profil...</td>\n      <td>obscured</td>\n      <td>6827</td>\n      <td>peggydnew</td>\n      <td>Listed as Confidential - refer to https://www....</td>\n    </tr>\n    <tr>\n      <th>2</th>\n      <td>UPDATE</td>\n      <td>Acacia adjutrices</td>\n      <td>153375</td>\n      <td>898583</td>\n      <td>Priority 3: Poorly-known species</td>\n      <td>Endangered</td>\n      <td>WA Deparment of Biodiversity, Conservation and...</td>\n      <td>https://florabase.dpaw.wa.gov.au/browse/profil...</td>\n      <td>obscured</td>\n      <td>6827</td>\n      <td>peggydnew</td>\n      <td>Listed as Confidential - refer to https://www....</td>\n    </tr>\n    <tr>\n      <th>4</th>\n      <td>UPDATE</td>\n      <td>Acacia alexandri</td>\n      <td>153652</td>\n      <td>898592</td>\n      <td>Priority 3: Poorly-known species</td>\n      <td>Endangered</td>\n      <td>WA Deparment of Biodiversity, Conservation and...</td>\n      <td>https://florabase.dpaw.wa.gov.au/browse/profil...</td>\n      <td>obscured</td>\n      <td>6827</td>\n      <td>peggydnew</td>\n      <td>Listed as Confidential - refer to https://www....</td>\n    </tr>\n    <tr>\n      <th>5</th>\n      <td>UPDATE</td>\n      <td>Acacia ampliata</td>\n      <td>153206</td>\n      <td>827789</td>\n      <td>Priority 1: Poorly-known species</td>\n      <td>Endangered</td>\n      <td>WA Deparment of Biodiversity, Conservation and...</td>\n      <td>https://florabase.dpaw.wa.gov.au/browse/profil...</td>\n      <td>obscured</td>\n      <td>6827</td>\n      <td>peggydnew</td>\n      <td>Listed as Confidential - refer to https://www....</td>\n    </tr>\n    <tr>\n      <th>6</th>\n      <td>UPDATE</td>\n      <td>Acacia amyctica</td>\n      <td>153042</td>\n      <td>898602</td>\n      <td>Priority 2: Poorly-known species</td>\n      <td>Endangered</td>\n      <td>WA Deparment of Biodiversity, Conservation and...</td>\n      <td>https://florabase.dpaw.wa.gov.au/browse/profil...</td>\n      <td>obscured</td>\n      <td>6827</td>\n      <td>peggydnew</td>\n      <td>Listed as Confidential - refer to https://www....</td>\n    </tr>\n    <tr>\n      <th>...</th>\n      <td>...</td>\n      <td>...</td>\n      <td>...</td>\n      <td>...</td>\n      <td>...</td>\n      <td>...</td>\n      <td>...</td>\n      <td>...</td>\n      <td>...</td>\n      <td>...</td>\n      <td>...</td>\n      <td>...</td>\n    </tr>\n    <tr>\n      <th>3894</th>\n      <td>UPDATE</td>\n      <td>Zephyrarchaea melindae</td>\n      <td>153596</td>\n      <td>828667</td>\n      <td>Vulnerable</td>\n      <td>Vulnerable</td>\n      <td>WA Deparment of Biodiversity, Conservation and...</td>\n      <td>https://bie.ala.org.au/species/https://biodive...</td>\n      <td>obscured</td>\n      <td>6827</td>\n      <td>peggydnew</td>\n      <td>Listed as Confidential - refer to https://www....</td>\n    </tr>\n    <tr>\n      <th>3895</th>\n      <td>UPDATE</td>\n      <td>Zephyrarchaea robinsi</td>\n      <td>153176</td>\n      <td>828668</td>\n      <td>Vulnerable</td>\n      <td>Vulnerable</td>\n      <td>WA Deparment of Biodiversity, Conservation and...</td>\n      <td>https://bie.ala.org.au/species/https://biodive...</td>\n      <td>obscured</td>\n      <td>6827</td>\n      <td>peggydnew</td>\n      <td>Listed as Confidential - refer to https://www....</td>\n    </tr>\n    <tr>\n      <th>3314</th>\n      <td>UPDATE</td>\n      <td>Zeuxine oblonga</td>\n      <td>169907</td>\n      <td>369267</td>\n      <td>Priority 2: Poorly-known species</td>\n      <td>Vulnerable</td>\n      <td>WA Deparment of Biodiversity, Conservation and...</td>\n      <td>https://florabase.dpaw.wa.gov.au/browse/profil...</td>\n      <td>obscured</td>\n      <td>6827</td>\n      <td>peggydnew</td>\n      <td>Listed as Confidential - refer to https://www....</td>\n    </tr>\n    <tr>\n      <th>3315</th>\n      <td>UPDATE</td>\n      <td>Zeuxine oblonga</td>\n      <td>153758</td>\n      <td>369267</td>\n      <td>Priority 2: Poorly-known species</td>\n      <td>Vulnerable</td>\n      <td>WA Deparment of Biodiversity, Conservation and...</td>\n      <td>https://florabase.dpaw.wa.gov.au/browse/profil...</td>\n      <td>obscured</td>\n      <td>6827</td>\n      <td>peggydnew</td>\n      <td>Listed as Confidential - refer to https://www....</td>\n    </tr>\n    <tr>\n      <th>3896</th>\n      <td>UPDATE</td>\n      <td>Zyzomys pedunculatus</td>\n      <td>152903</td>\n      <td>45374</td>\n      <td>Critically Endangered</td>\n      <td>Critically Endangered</td>\n      <td>WA Deparment of Biodiversity, Conservation and...</td>\n      <td>https://bie.ala.org.au/species/https://biodive...</td>\n      <td>obscured</td>\n      <td>6827</td>\n      <td>peggydnew</td>\n      <td>Listed as Confidential - refer to https://www....</td>\n    </tr>\n  </tbody>\n</table>\n<p>873 rows × 12 columns</p>\n</div>"
     },
     "execution_count": 17,
     "metadata": {},
     "output_type": "execute_result"
    }
   ],
   "source": [
    "# updates - create the data frame\n",
    "# action,taxon_name,id,taxon_id,status,iucn_equivalent,authority,url,geoprivacy,place_id,username,description\n",
    "updates = pd.DataFrame(mergedstatuses[mergedstatuses['status_id'].notnull()])\n",
    "updates.sort_values('scientificName')\n",
    "updates['action'] = 'UPDATE'\n",
    "#updates.loc[:,'action'] = 'UPDATE'\n",
    "updates = updates[['action','scientificName','status_id','taxon_id','new_status','new_iucn_equivalent','new_authority','new_url','new_geoprivacy','new_place_id','new_username','new_description']]\n",
    "updates.columns = updates.columns.str.replace(\"new_\", \"\", regex=True)\n",
    "updates = updates.rename(columns={'scientificName':'taxon_name',\n",
    "                                  'status_id':'id'})\n",
    "updates"
   ],
   "metadata": {
    "collapsed": false,
    "pycharm": {
     "name": "#%%\n"
    }
   }
  },
  {
   "cell_type": "markdown",
   "source": [
    "## No status in iNaturalist via straight scientificName match\n",
    "The WA records that didn't match up to a status in iNaturalist"
   ],
   "metadata": {
    "collapsed": false,
    "pycharm": {
     "name": "#%% md\n"
    }
   }
  },
  {
   "cell_type": "code",
   "execution_count": 18,
   "outputs": [
    {
     "data": {
      "text/plain": "     wa_taxonID                     wa_scientificName  \\\n0         50593               Abildgaardia pachyptera   \n1         16110               Acacia alata platyptera   \n2         14585     Acacia ancistrophylla lissophylla   \n3         14048      Acacia ancistrophylla perarcuata   \n4         14725        Acacia ataxiphylla ataxiphylla   \n...         ...                                   ...   \n3019        NaN             Turnix varius scintillans   \n3020        NaN                      Tursiops aduncus   \n3021        NaN         Tyto novaehollandiae kimberli   \n3022        NaN  Tyto novaehollandiae novaehollandiae   \n3023        NaN                   Welesina kornickeri   \n\n                              wa_status new_geoprivacy  \\\n0      Priority 1: Poorly-known species       obscured   \n1     Priority 4: Rare, Near Threatened       obscured   \n2      Priority 2: Poorly-known species       obscured   \n3      Priority 3: Poorly-known species       obscured   \n4      Priority 3: Poorly-known species       obscured   \n...                                 ...            ...   \n3019                         Endangered       obscured   \n3020                          Migratory       obscured   \n3021   Priority 1: Poorly-known species       obscured   \n3022   Priority 3: Poorly-known species       obscured   \n3023              Critically Endangered       obscured   \n\n                                                   lsid status_id  \\\n0     https://id.biodiversity.org.au/name/apni/51389644       NaN   \n1      https://id.biodiversity.org.au/node/apni/2904348       NaN   \n2      https://id.biodiversity.org.au/node/apni/2916096       NaN   \n3      https://id.biodiversity.org.au/node/apni/2910813       NaN   \n4      https://id.biodiversity.org.au/node/apni/2903075       NaN   \n...                                                 ...       ...   \n3019  https://biodiversity.org.au/afd/taxa/a5f510c9-...       NaN   \n3020  https://biodiversity.org.au/afd/taxa/0cfe42e3-...       NaN   \n3021  https://biodiversity.org.au/afd/taxa/d1a27333-...       NaN   \n3022  https://biodiversity.org.au/afd/taxa/44488be2-...       NaN   \n3023  https://biodiversity.org.au/afd/taxa/d3f16f11-...       NaN   \n\n     scientificName_x taxon_id user_id description  ...          class  \\\n0                 NaN      NaN     NaN         NaN  ...            NaN   \n1                 NaN      NaN     NaN         NaN  ...  Magnoliopsida   \n2                 NaN      NaN     NaN         NaN  ...  Magnoliopsida   \n3                 NaN      NaN     NaN         NaN  ...  Magnoliopsida   \n4                 NaN      NaN     NaN         NaN  ...            NaN   \n...               ...      ...     ...         ...  ...            ...   \n3019              NaN      NaN     NaN         NaN  ...           Aves   \n3020              NaN      NaN     NaN         NaN  ...       Mammalia   \n3021              NaN      NaN     NaN         NaN  ...           Aves   \n3022              NaN      NaN     NaN         NaN  ...           Aves   \n3023              NaN      NaN     NaN         NaN  ...            NaN   \n\n                order       family     genus  specificEpithet  \\\n0                 NaN          NaN       NaN              NaN   \n1             Fabales     Fabaceae    Acacia            alata   \n2             Fabales     Fabaceae    Acacia   ancistrophylla   \n3             Fabales     Fabaceae    Acacia   ancistrophylla   \n4                 NaN          NaN       NaN              NaN   \n...               ...          ...       ...              ...   \n3019  Charadriiformes   Turnicidae    Turnix           varius   \n3020     Artiodactyla  Delphinidae  Tursiops          aduncus   \n3021     Strigiformes    Tytonidae      Tyto  novaehollandiae   \n3022     Strigiformes    Tytonidae      Tyto  novaehollandiae   \n3023              NaN          NaN       NaN              NaN   \n\n     infraspecificEpithet              modified  \\\n0                     NaN                   NaN   \n1              platyptera  2019-02-16T06:09:01Z   \n2             lissophylla  2022-03-07T22:20:25Z   \n3              perarcuata  2021-07-28T02:21:59Z   \n4                     NaN                   NaN   \n...                   ...                   ...   \n3019          scintillans  2018-12-19T06:54:39Z   \n3020                  NaN  2019-11-23T00:16:07Z   \n3021             kimberli  2018-12-19T08:22:30Z   \n3022      novaehollandiae  2018-12-19T08:22:32Z   \n3023                  NaN                   NaN   \n\n                          scientificName_y   taxonRank  \\\n0                                      NaN         NaN   \n1                  Acacia alata platyptera     variety   \n2        Acacia ancistrophylla lissophylla     variety   \n3         Acacia ancistrophylla perarcuata     variety   \n4                                      NaN         NaN   \n...                                    ...         ...   \n3019             Turnix varius scintillans  subspecies   \n3020                      Tursiops aduncus     species   \n3021         Tyto novaehollandiae kimberli  subspecies   \n3022  Tyto novaehollandiae novaehollandiae  subspecies   \n3023                                   NaN         NaN   \n\n                                             references  \n0                                                   NaN  \n1     http://www.ubio.org/browser/details.php?nameba...  \n2     https://powo.science.kew.org/taxon/urn:lsid:ip...  \n3                        https://eol.org/pages/50482478  \n4                                                   NaN  \n...                                                 ...  \n3019  http://www.birds.cornell.edu/clementschecklist...  \n3020  http://www.catalogueoflife.org/annual-checklis...  \n3021                                                NaN  \n3022                                                NaN  \n3023                                                NaN  \n\n[3024 rows x 39 columns]",
      "text/html": "<div>\n<style scoped>\n    .dataframe tbody tr th:only-of-type {\n        vertical-align: middle;\n    }\n\n    .dataframe tbody tr th {\n        vertical-align: top;\n    }\n\n    .dataframe thead th {\n        text-align: right;\n    }\n</style>\n<table border=\"1\" class=\"dataframe\">\n  <thead>\n    <tr style=\"text-align: right;\">\n      <th></th>\n      <th>wa_taxonID</th>\n      <th>wa_scientificName</th>\n      <th>wa_status</th>\n      <th>new_geoprivacy</th>\n      <th>lsid</th>\n      <th>status_id</th>\n      <th>scientificName_x</th>\n      <th>taxon_id</th>\n      <th>user_id</th>\n      <th>description</th>\n      <th>...</th>\n      <th>class</th>\n      <th>order</th>\n      <th>family</th>\n      <th>genus</th>\n      <th>specificEpithet</th>\n      <th>infraspecificEpithet</th>\n      <th>modified</th>\n      <th>scientificName_y</th>\n      <th>taxonRank</th>\n      <th>references</th>\n    </tr>\n  </thead>\n  <tbody>\n    <tr>\n      <th>0</th>\n      <td>50593</td>\n      <td>Abildgaardia pachyptera</td>\n      <td>Priority 1: Poorly-known species</td>\n      <td>obscured</td>\n      <td>https://id.biodiversity.org.au/name/apni/51389644</td>\n      <td>NaN</td>\n      <td>NaN</td>\n      <td>NaN</td>\n      <td>NaN</td>\n      <td>NaN</td>\n      <td>...</td>\n      <td>NaN</td>\n      <td>NaN</td>\n      <td>NaN</td>\n      <td>NaN</td>\n      <td>NaN</td>\n      <td>NaN</td>\n      <td>NaN</td>\n      <td>NaN</td>\n      <td>NaN</td>\n      <td>NaN</td>\n    </tr>\n    <tr>\n      <th>1</th>\n      <td>16110</td>\n      <td>Acacia alata platyptera</td>\n      <td>Priority 4: Rare, Near Threatened</td>\n      <td>obscured</td>\n      <td>https://id.biodiversity.org.au/node/apni/2904348</td>\n      <td>NaN</td>\n      <td>NaN</td>\n      <td>NaN</td>\n      <td>NaN</td>\n      <td>NaN</td>\n      <td>...</td>\n      <td>Magnoliopsida</td>\n      <td>Fabales</td>\n      <td>Fabaceae</td>\n      <td>Acacia</td>\n      <td>alata</td>\n      <td>platyptera</td>\n      <td>2019-02-16T06:09:01Z</td>\n      <td>Acacia alata platyptera</td>\n      <td>variety</td>\n      <td>http://www.ubio.org/browser/details.php?nameba...</td>\n    </tr>\n    <tr>\n      <th>2</th>\n      <td>14585</td>\n      <td>Acacia ancistrophylla lissophylla</td>\n      <td>Priority 2: Poorly-known species</td>\n      <td>obscured</td>\n      <td>https://id.biodiversity.org.au/node/apni/2916096</td>\n      <td>NaN</td>\n      <td>NaN</td>\n      <td>NaN</td>\n      <td>NaN</td>\n      <td>NaN</td>\n      <td>...</td>\n      <td>Magnoliopsida</td>\n      <td>Fabales</td>\n      <td>Fabaceae</td>\n      <td>Acacia</td>\n      <td>ancistrophylla</td>\n      <td>lissophylla</td>\n      <td>2022-03-07T22:20:25Z</td>\n      <td>Acacia ancistrophylla lissophylla</td>\n      <td>variety</td>\n      <td>https://powo.science.kew.org/taxon/urn:lsid:ip...</td>\n    </tr>\n    <tr>\n      <th>3</th>\n      <td>14048</td>\n      <td>Acacia ancistrophylla perarcuata</td>\n      <td>Priority 3: Poorly-known species</td>\n      <td>obscured</td>\n      <td>https://id.biodiversity.org.au/node/apni/2910813</td>\n      <td>NaN</td>\n      <td>NaN</td>\n      <td>NaN</td>\n      <td>NaN</td>\n      <td>NaN</td>\n      <td>...</td>\n      <td>Magnoliopsida</td>\n      <td>Fabales</td>\n      <td>Fabaceae</td>\n      <td>Acacia</td>\n      <td>ancistrophylla</td>\n      <td>perarcuata</td>\n      <td>2021-07-28T02:21:59Z</td>\n      <td>Acacia ancistrophylla perarcuata</td>\n      <td>variety</td>\n      <td>https://eol.org/pages/50482478</td>\n    </tr>\n    <tr>\n      <th>4</th>\n      <td>14725</td>\n      <td>Acacia ataxiphylla ataxiphylla</td>\n      <td>Priority 3: Poorly-known species</td>\n      <td>obscured</td>\n      <td>https://id.biodiversity.org.au/node/apni/2903075</td>\n      <td>NaN</td>\n      <td>NaN</td>\n      <td>NaN</td>\n      <td>NaN</td>\n      <td>NaN</td>\n      <td>...</td>\n      <td>NaN</td>\n      <td>NaN</td>\n      <td>NaN</td>\n      <td>NaN</td>\n      <td>NaN</td>\n      <td>NaN</td>\n      <td>NaN</td>\n      <td>NaN</td>\n      <td>NaN</td>\n      <td>NaN</td>\n    </tr>\n    <tr>\n      <th>...</th>\n      <td>...</td>\n      <td>...</td>\n      <td>...</td>\n      <td>...</td>\n      <td>...</td>\n      <td>...</td>\n      <td>...</td>\n      <td>...</td>\n      <td>...</td>\n      <td>...</td>\n      <td>...</td>\n      <td>...</td>\n      <td>...</td>\n      <td>...</td>\n      <td>...</td>\n      <td>...</td>\n      <td>...</td>\n      <td>...</td>\n      <td>...</td>\n      <td>...</td>\n      <td>...</td>\n    </tr>\n    <tr>\n      <th>3019</th>\n      <td>NaN</td>\n      <td>Turnix varius scintillans</td>\n      <td>Endangered</td>\n      <td>obscured</td>\n      <td>https://biodiversity.org.au/afd/taxa/a5f510c9-...</td>\n      <td>NaN</td>\n      <td>NaN</td>\n      <td>NaN</td>\n      <td>NaN</td>\n      <td>NaN</td>\n      <td>...</td>\n      <td>Aves</td>\n      <td>Charadriiformes</td>\n      <td>Turnicidae</td>\n      <td>Turnix</td>\n      <td>varius</td>\n      <td>scintillans</td>\n      <td>2018-12-19T06:54:39Z</td>\n      <td>Turnix varius scintillans</td>\n      <td>subspecies</td>\n      <td>http://www.birds.cornell.edu/clementschecklist...</td>\n    </tr>\n    <tr>\n      <th>3020</th>\n      <td>NaN</td>\n      <td>Tursiops aduncus</td>\n      <td>Migratory</td>\n      <td>obscured</td>\n      <td>https://biodiversity.org.au/afd/taxa/0cfe42e3-...</td>\n      <td>NaN</td>\n      <td>NaN</td>\n      <td>NaN</td>\n      <td>NaN</td>\n      <td>NaN</td>\n      <td>...</td>\n      <td>Mammalia</td>\n      <td>Artiodactyla</td>\n      <td>Delphinidae</td>\n      <td>Tursiops</td>\n      <td>aduncus</td>\n      <td>NaN</td>\n      <td>2019-11-23T00:16:07Z</td>\n      <td>Tursiops aduncus</td>\n      <td>species</td>\n      <td>http://www.catalogueoflife.org/annual-checklis...</td>\n    </tr>\n    <tr>\n      <th>3021</th>\n      <td>NaN</td>\n      <td>Tyto novaehollandiae kimberli</td>\n      <td>Priority 1: Poorly-known species</td>\n      <td>obscured</td>\n      <td>https://biodiversity.org.au/afd/taxa/d1a27333-...</td>\n      <td>NaN</td>\n      <td>NaN</td>\n      <td>NaN</td>\n      <td>NaN</td>\n      <td>NaN</td>\n      <td>...</td>\n      <td>Aves</td>\n      <td>Strigiformes</td>\n      <td>Tytonidae</td>\n      <td>Tyto</td>\n      <td>novaehollandiae</td>\n      <td>kimberli</td>\n      <td>2018-12-19T08:22:30Z</td>\n      <td>Tyto novaehollandiae kimberli</td>\n      <td>subspecies</td>\n      <td>NaN</td>\n    </tr>\n    <tr>\n      <th>3022</th>\n      <td>NaN</td>\n      <td>Tyto novaehollandiae novaehollandiae</td>\n      <td>Priority 3: Poorly-known species</td>\n      <td>obscured</td>\n      <td>https://biodiversity.org.au/afd/taxa/44488be2-...</td>\n      <td>NaN</td>\n      <td>NaN</td>\n      <td>NaN</td>\n      <td>NaN</td>\n      <td>NaN</td>\n      <td>...</td>\n      <td>Aves</td>\n      <td>Strigiformes</td>\n      <td>Tytonidae</td>\n      <td>Tyto</td>\n      <td>novaehollandiae</td>\n      <td>novaehollandiae</td>\n      <td>2018-12-19T08:22:32Z</td>\n      <td>Tyto novaehollandiae novaehollandiae</td>\n      <td>subspecies</td>\n      <td>NaN</td>\n    </tr>\n    <tr>\n      <th>3023</th>\n      <td>NaN</td>\n      <td>Welesina kornickeri</td>\n      <td>Critically Endangered</td>\n      <td>obscured</td>\n      <td>https://biodiversity.org.au/afd/taxa/d3f16f11-...</td>\n      <td>NaN</td>\n      <td>NaN</td>\n      <td>NaN</td>\n      <td>NaN</td>\n      <td>NaN</td>\n      <td>...</td>\n      <td>NaN</td>\n      <td>NaN</td>\n      <td>NaN</td>\n      <td>NaN</td>\n      <td>NaN</td>\n      <td>NaN</td>\n      <td>NaN</td>\n      <td>NaN</td>\n      <td>NaN</td>\n      <td>NaN</td>\n    </tr>\n  </tbody>\n</table>\n<p>3024 rows × 39 columns</p>\n</div>"
     },
     "execution_count": 18,
     "metadata": {},
     "output_type": "execute_result"
    }
   ],
   "source": [
    "# to add: those that have no inaturalist status - 532!!\n",
    "noinatstatus = mergedstatuses[mergedstatuses['status_id'].isnull()]\n",
    "# try to match the taxon name to something in inaturalist\n",
    "noinatstatus = noinatstatus.merge(inattaxa, how=\"left\", left_on=\"wa_scientificName\",right_on=\"scientificName\")\n",
    "noinatstatus"
   ],
   "metadata": {
    "collapsed": false,
    "pycharm": {
     "name": "#%%\n"
    }
   }
  },
  {
   "cell_type": "code",
   "execution_count": 19,
   "outputs": [
    {
     "data": {
      "text/plain": "     wa_taxonID                     wa_scientificName  \\\n1         16110               Acacia alata platyptera   \n2         14585     Acacia ancistrophylla lissophylla   \n3         14048      Acacia ancistrophylla perarcuata   \n6         31784                   Acacia barrettiorum   \n7         41461                        Acacia bartlei   \n...         ...                                   ...   \n3018        NaN           Turgenitubulus christenseni   \n3019        NaN             Turnix varius scintillans   \n3020        NaN                      Tursiops aduncus   \n3021        NaN         Tyto novaehollandiae kimberli   \n3022        NaN  Tyto novaehollandiae novaehollandiae   \n\n                              wa_status new_geoprivacy  \\\n1     Priority 4: Rare, Near Threatened       obscured   \n2      Priority 2: Poorly-known species       obscured   \n3      Priority 3: Poorly-known species       obscured   \n6      Priority 2: Poorly-known species       obscured   \n7      Priority 3: Poorly-known species       obscured   \n...                                 ...            ...   \n3018                         Endangered       obscured   \n3019                         Endangered       obscured   \n3020                          Migratory       obscured   \n3021   Priority 1: Poorly-known species       obscured   \n3022   Priority 3: Poorly-known species       obscured   \n\n                                                   lsid status_id  \\\n1      https://id.biodiversity.org.au/node/apni/2904348       NaN   \n2      https://id.biodiversity.org.au/node/apni/2916096       NaN   \n3      https://id.biodiversity.org.au/node/apni/2910813       NaN   \n6      https://id.biodiversity.org.au/node/apni/2917300       NaN   \n7      https://id.biodiversity.org.au/node/apni/2895538       NaN   \n...                                                 ...       ...   \n3018  https://biodiversity.org.au/afd/taxa/06192667-...       NaN   \n3019  https://biodiversity.org.au/afd/taxa/a5f510c9-...       NaN   \n3020  https://biodiversity.org.au/afd/taxa/0cfe42e3-...       NaN   \n3021  https://biodiversity.org.au/afd/taxa/d1a27333-...       NaN   \n3022  https://biodiversity.org.au/afd/taxa/44488be2-...       NaN   \n\n     scientificName_x taxon_id user_id description  ...          class  \\\n1                 NaN      NaN     NaN         NaN  ...  Magnoliopsida   \n2                 NaN      NaN     NaN         NaN  ...  Magnoliopsida   \n3                 NaN      NaN     NaN         NaN  ...  Magnoliopsida   \n6                 NaN      NaN     NaN         NaN  ...  Magnoliopsida   \n7                 NaN      NaN     NaN         NaN  ...  Magnoliopsida   \n...               ...      ...     ...         ...  ...            ...   \n3018              NaN      NaN     NaN         NaN  ...     Gastropoda   \n3019              NaN      NaN     NaN         NaN  ...           Aves   \n3020              NaN      NaN     NaN         NaN  ...       Mammalia   \n3021              NaN      NaN     NaN         NaN  ...           Aves   \n3022              NaN      NaN     NaN         NaN  ...           Aves   \n\n                order       family           genus  specificEpithet  \\\n1             Fabales     Fabaceae          Acacia            alata   \n2             Fabales     Fabaceae          Acacia   ancistrophylla   \n3             Fabales     Fabaceae          Acacia   ancistrophylla   \n6             Fabales     Fabaceae          Acacia     barrettiorum   \n7             Fabales     Fabaceae          Acacia          bartlei   \n...               ...          ...             ...              ...   \n3018  Stylommatophora   Camaenidae  Turgenitubulus     christenseni   \n3019  Charadriiformes   Turnicidae          Turnix           varius   \n3020     Artiodactyla  Delphinidae        Tursiops          aduncus   \n3021     Strigiformes    Tytonidae            Tyto  novaehollandiae   \n3022     Strigiformes    Tytonidae            Tyto  novaehollandiae   \n\n     infraspecificEpithet              modified  \\\n1              platyptera  2019-02-16T06:09:01Z   \n2             lissophylla  2022-03-07T22:20:25Z   \n3              perarcuata  2021-07-28T02:21:59Z   \n6                     NaN  2022-04-07T01:35:57Z   \n7                     NaN  2022-04-07T01:36:00Z   \n...                   ...                   ...   \n3018                  NaN  2021-10-29T18:32:13Z   \n3019          scintillans  2018-12-19T06:54:39Z   \n3020                  NaN  2019-11-23T00:16:07Z   \n3021             kimberli  2018-12-19T08:22:30Z   \n3022      novaehollandiae  2018-12-19T08:22:32Z   \n\n                          scientificName_y   taxonRank  \\\n1                  Acacia alata platyptera     variety   \n2        Acacia ancistrophylla lissophylla     variety   \n3         Acacia ancistrophylla perarcuata     variety   \n6                      Acacia barrettiorum     species   \n7                           Acacia bartlei     species   \n...                                    ...         ...   \n3018           Turgenitubulus christenseni     species   \n3019             Turnix varius scintillans  subspecies   \n3020                      Tursiops aduncus     species   \n3021         Tyto novaehollandiae kimberli  subspecies   \n3022  Tyto novaehollandiae novaehollandiae  subspecies   \n\n                                             references  \n1     http://www.ubio.org/browser/details.php?nameba...  \n2     https://powo.science.kew.org/taxon/urn:lsid:ip...  \n3                        https://eol.org/pages/50482478  \n6                        https://eol.org/pages/49426101  \n7                        https://eol.org/pages/49426080  \n...                                                 ...  \n3018  http://www.catalogueoflife.org/annual-checklis...  \n3019  http://www.birds.cornell.edu/clementschecklist...  \n3020  http://www.catalogueoflife.org/annual-checklis...  \n3021                                                NaN  \n3022                                                NaN  \n\n[1897 rows x 39 columns]",
      "text/html": "<div>\n<style scoped>\n    .dataframe tbody tr th:only-of-type {\n        vertical-align: middle;\n    }\n\n    .dataframe tbody tr th {\n        vertical-align: top;\n    }\n\n    .dataframe thead th {\n        text-align: right;\n    }\n</style>\n<table border=\"1\" class=\"dataframe\">\n  <thead>\n    <tr style=\"text-align: right;\">\n      <th></th>\n      <th>wa_taxonID</th>\n      <th>wa_scientificName</th>\n      <th>wa_status</th>\n      <th>new_geoprivacy</th>\n      <th>lsid</th>\n      <th>status_id</th>\n      <th>scientificName_x</th>\n      <th>taxon_id</th>\n      <th>user_id</th>\n      <th>description</th>\n      <th>...</th>\n      <th>class</th>\n      <th>order</th>\n      <th>family</th>\n      <th>genus</th>\n      <th>specificEpithet</th>\n      <th>infraspecificEpithet</th>\n      <th>modified</th>\n      <th>scientificName_y</th>\n      <th>taxonRank</th>\n      <th>references</th>\n    </tr>\n  </thead>\n  <tbody>\n    <tr>\n      <th>1</th>\n      <td>16110</td>\n      <td>Acacia alata platyptera</td>\n      <td>Priority 4: Rare, Near Threatened</td>\n      <td>obscured</td>\n      <td>https://id.biodiversity.org.au/node/apni/2904348</td>\n      <td>NaN</td>\n      <td>NaN</td>\n      <td>NaN</td>\n      <td>NaN</td>\n      <td>NaN</td>\n      <td>...</td>\n      <td>Magnoliopsida</td>\n      <td>Fabales</td>\n      <td>Fabaceae</td>\n      <td>Acacia</td>\n      <td>alata</td>\n      <td>platyptera</td>\n      <td>2019-02-16T06:09:01Z</td>\n      <td>Acacia alata platyptera</td>\n      <td>variety</td>\n      <td>http://www.ubio.org/browser/details.php?nameba...</td>\n    </tr>\n    <tr>\n      <th>2</th>\n      <td>14585</td>\n      <td>Acacia ancistrophylla lissophylla</td>\n      <td>Priority 2: Poorly-known species</td>\n      <td>obscured</td>\n      <td>https://id.biodiversity.org.au/node/apni/2916096</td>\n      <td>NaN</td>\n      <td>NaN</td>\n      <td>NaN</td>\n      <td>NaN</td>\n      <td>NaN</td>\n      <td>...</td>\n      <td>Magnoliopsida</td>\n      <td>Fabales</td>\n      <td>Fabaceae</td>\n      <td>Acacia</td>\n      <td>ancistrophylla</td>\n      <td>lissophylla</td>\n      <td>2022-03-07T22:20:25Z</td>\n      <td>Acacia ancistrophylla lissophylla</td>\n      <td>variety</td>\n      <td>https://powo.science.kew.org/taxon/urn:lsid:ip...</td>\n    </tr>\n    <tr>\n      <th>3</th>\n      <td>14048</td>\n      <td>Acacia ancistrophylla perarcuata</td>\n      <td>Priority 3: Poorly-known species</td>\n      <td>obscured</td>\n      <td>https://id.biodiversity.org.au/node/apni/2910813</td>\n      <td>NaN</td>\n      <td>NaN</td>\n      <td>NaN</td>\n      <td>NaN</td>\n      <td>NaN</td>\n      <td>...</td>\n      <td>Magnoliopsida</td>\n      <td>Fabales</td>\n      <td>Fabaceae</td>\n      <td>Acacia</td>\n      <td>ancistrophylla</td>\n      <td>perarcuata</td>\n      <td>2021-07-28T02:21:59Z</td>\n      <td>Acacia ancistrophylla perarcuata</td>\n      <td>variety</td>\n      <td>https://eol.org/pages/50482478</td>\n    </tr>\n    <tr>\n      <th>6</th>\n      <td>31784</td>\n      <td>Acacia barrettiorum</td>\n      <td>Priority 2: Poorly-known species</td>\n      <td>obscured</td>\n      <td>https://id.biodiversity.org.au/node/apni/2917300</td>\n      <td>NaN</td>\n      <td>NaN</td>\n      <td>NaN</td>\n      <td>NaN</td>\n      <td>NaN</td>\n      <td>...</td>\n      <td>Magnoliopsida</td>\n      <td>Fabales</td>\n      <td>Fabaceae</td>\n      <td>Acacia</td>\n      <td>barrettiorum</td>\n      <td>NaN</td>\n      <td>2022-04-07T01:35:57Z</td>\n      <td>Acacia barrettiorum</td>\n      <td>species</td>\n      <td>https://eol.org/pages/49426101</td>\n    </tr>\n    <tr>\n      <th>7</th>\n      <td>41461</td>\n      <td>Acacia bartlei</td>\n      <td>Priority 3: Poorly-known species</td>\n      <td>obscured</td>\n      <td>https://id.biodiversity.org.au/node/apni/2895538</td>\n      <td>NaN</td>\n      <td>NaN</td>\n      <td>NaN</td>\n      <td>NaN</td>\n      <td>NaN</td>\n      <td>...</td>\n      <td>Magnoliopsida</td>\n      <td>Fabales</td>\n      <td>Fabaceae</td>\n      <td>Acacia</td>\n      <td>bartlei</td>\n      <td>NaN</td>\n      <td>2022-04-07T01:36:00Z</td>\n      <td>Acacia bartlei</td>\n      <td>species</td>\n      <td>https://eol.org/pages/49426080</td>\n    </tr>\n    <tr>\n      <th>...</th>\n      <td>...</td>\n      <td>...</td>\n      <td>...</td>\n      <td>...</td>\n      <td>...</td>\n      <td>...</td>\n      <td>...</td>\n      <td>...</td>\n      <td>...</td>\n      <td>...</td>\n      <td>...</td>\n      <td>...</td>\n      <td>...</td>\n      <td>...</td>\n      <td>...</td>\n      <td>...</td>\n      <td>...</td>\n      <td>...</td>\n      <td>...</td>\n      <td>...</td>\n      <td>...</td>\n    </tr>\n    <tr>\n      <th>3018</th>\n      <td>NaN</td>\n      <td>Turgenitubulus christenseni</td>\n      <td>Endangered</td>\n      <td>obscured</td>\n      <td>https://biodiversity.org.au/afd/taxa/06192667-...</td>\n      <td>NaN</td>\n      <td>NaN</td>\n      <td>NaN</td>\n      <td>NaN</td>\n      <td>NaN</td>\n      <td>...</td>\n      <td>Gastropoda</td>\n      <td>Stylommatophora</td>\n      <td>Camaenidae</td>\n      <td>Turgenitubulus</td>\n      <td>christenseni</td>\n      <td>NaN</td>\n      <td>2021-10-29T18:32:13Z</td>\n      <td>Turgenitubulus christenseni</td>\n      <td>species</td>\n      <td>http://www.catalogueoflife.org/annual-checklis...</td>\n    </tr>\n    <tr>\n      <th>3019</th>\n      <td>NaN</td>\n      <td>Turnix varius scintillans</td>\n      <td>Endangered</td>\n      <td>obscured</td>\n      <td>https://biodiversity.org.au/afd/taxa/a5f510c9-...</td>\n      <td>NaN</td>\n      <td>NaN</td>\n      <td>NaN</td>\n      <td>NaN</td>\n      <td>NaN</td>\n      <td>...</td>\n      <td>Aves</td>\n      <td>Charadriiformes</td>\n      <td>Turnicidae</td>\n      <td>Turnix</td>\n      <td>varius</td>\n      <td>scintillans</td>\n      <td>2018-12-19T06:54:39Z</td>\n      <td>Turnix varius scintillans</td>\n      <td>subspecies</td>\n      <td>http://www.birds.cornell.edu/clementschecklist...</td>\n    </tr>\n    <tr>\n      <th>3020</th>\n      <td>NaN</td>\n      <td>Tursiops aduncus</td>\n      <td>Migratory</td>\n      <td>obscured</td>\n      <td>https://biodiversity.org.au/afd/taxa/0cfe42e3-...</td>\n      <td>NaN</td>\n      <td>NaN</td>\n      <td>NaN</td>\n      <td>NaN</td>\n      <td>NaN</td>\n      <td>...</td>\n      <td>Mammalia</td>\n      <td>Artiodactyla</td>\n      <td>Delphinidae</td>\n      <td>Tursiops</td>\n      <td>aduncus</td>\n      <td>NaN</td>\n      <td>2019-11-23T00:16:07Z</td>\n      <td>Tursiops aduncus</td>\n      <td>species</td>\n      <td>http://www.catalogueoflife.org/annual-checklis...</td>\n    </tr>\n    <tr>\n      <th>3021</th>\n      <td>NaN</td>\n      <td>Tyto novaehollandiae kimberli</td>\n      <td>Priority 1: Poorly-known species</td>\n      <td>obscured</td>\n      <td>https://biodiversity.org.au/afd/taxa/d1a27333-...</td>\n      <td>NaN</td>\n      <td>NaN</td>\n      <td>NaN</td>\n      <td>NaN</td>\n      <td>NaN</td>\n      <td>...</td>\n      <td>Aves</td>\n      <td>Strigiformes</td>\n      <td>Tytonidae</td>\n      <td>Tyto</td>\n      <td>novaehollandiae</td>\n      <td>kimberli</td>\n      <td>2018-12-19T08:22:30Z</td>\n      <td>Tyto novaehollandiae kimberli</td>\n      <td>subspecies</td>\n      <td>NaN</td>\n    </tr>\n    <tr>\n      <th>3022</th>\n      <td>NaN</td>\n      <td>Tyto novaehollandiae novaehollandiae</td>\n      <td>Priority 3: Poorly-known species</td>\n      <td>obscured</td>\n      <td>https://biodiversity.org.au/afd/taxa/44488be2-...</td>\n      <td>NaN</td>\n      <td>NaN</td>\n      <td>NaN</td>\n      <td>NaN</td>\n      <td>NaN</td>\n      <td>...</td>\n      <td>Aves</td>\n      <td>Strigiformes</td>\n      <td>Tytonidae</td>\n      <td>Tyto</td>\n      <td>novaehollandiae</td>\n      <td>novaehollandiae</td>\n      <td>2018-12-19T08:22:32Z</td>\n      <td>Tyto novaehollandiae novaehollandiae</td>\n      <td>subspecies</td>\n      <td>NaN</td>\n    </tr>\n  </tbody>\n</table>\n<p>1897 rows × 39 columns</p>\n</div>"
     },
     "execution_count": 19,
     "metadata": {},
     "output_type": "execute_result"
    }
   ],
   "source": [
    "noinatstatus[noinatstatus['id'].notna()] # there's no status but there is a matching inat taxon (id is the taxon id)\n",
    "# note: \"Dendrobium\" matches to both genus and section"
   ],
   "metadata": {
    "collapsed": false,
    "pycharm": {
     "name": "#%%\n"
    }
   }
  },
  {
   "cell_type": "code",
   "execution_count": 20,
   "outputs": [
    {
     "data": {
      "text/plain": "     action                            taxon_name   id taxon_id  \\\n1       ADD               Acacia alata platyptera  NaN   145423   \n2       ADD     Acacia ancistrophylla lissophylla  NaN  1361077   \n3       ADD      Acacia ancistrophylla perarcuata  NaN  1252488   \n6       ADD                   Acacia barrettiorum  NaN  1252534   \n7       ADD                        Acacia bartlei  NaN  1252535   \n...     ...                                   ...  ...      ...   \n3018    ADD           Turgenitubulus christenseni  NaN  1242615   \n3019    ADD             Turnix varius scintillans  NaN   708564   \n3020    ADD                      Tursiops aduncus  NaN    41481   \n3021    ADD         Tyto novaehollandiae kimberli  NaN   732085   \n3022    ADD  Tyto novaehollandiae novaehollandiae  NaN   732087   \n\n                                 status iucn_equivalent  \\\n1     Priority 4: Rare, Near Threatened      Vulnerable   \n2      Priority 2: Poorly-known species      Vulnerable   \n3      Priority 3: Poorly-known species      Vulnerable   \n6      Priority 2: Poorly-known species      Vulnerable   \n7      Priority 3: Poorly-known species      Vulnerable   \n...                                 ...             ...   \n3018                         Endangered      Vulnerable   \n3019                         Endangered      Vulnerable   \n3020                          Migratory      Vulnerable   \n3021   Priority 1: Poorly-known species      Vulnerable   \n3022   Priority 3: Poorly-known species      Vulnerable   \n\n                                              authority  \\\n1     WA Deparment of Biodiversity, Conservation and...   \n2     WA Deparment of Biodiversity, Conservation and...   \n3     WA Deparment of Biodiversity, Conservation and...   \n6     WA Deparment of Biodiversity, Conservation and...   \n7     WA Deparment of Biodiversity, Conservation and...   \n...                                                 ...   \n3018  WA Deparment of Biodiversity, Conservation and...   \n3019  WA Deparment of Biodiversity, Conservation and...   \n3020  WA Deparment of Biodiversity, Conservation and...   \n3021  WA Deparment of Biodiversity, Conservation and...   \n3022  WA Deparment of Biodiversity, Conservation and...   \n\n                                                    url geoprivacy place_id  \\\n1     https://florabase.dpaw.wa.gov.au/browse/profil...   obscured     6827   \n2     https://florabase.dpaw.wa.gov.au/browse/profil...   obscured     6827   \n3     https://florabase.dpaw.wa.gov.au/browse/profil...   obscured     6827   \n6     https://florabase.dpaw.wa.gov.au/browse/profil...   obscured     6827   \n7     https://florabase.dpaw.wa.gov.au/browse/profil...   obscured     6827   \n...                                                 ...        ...      ...   \n3018  https://bie.ala.org.au/species/https://biodive...   obscured     6827   \n3019  https://bie.ala.org.au/species/https://biodive...   obscured     6827   \n3020  https://bie.ala.org.au/species/https://biodive...   obscured     6827   \n3021  https://bie.ala.org.au/species/https://biodive...   obscured     6827   \n3022  https://bie.ala.org.au/species/https://biodive...   obscured     6827   \n\n       username                                        description  \n1     peggydnew  Listed as Confidential - refer to https://www....  \n2     peggydnew  Listed as Confidential - refer to https://www....  \n3     peggydnew  Listed as Confidential - refer to https://www....  \n6     peggydnew  Listed as Confidential - refer to https://www....  \n7     peggydnew  Listed as Confidential - refer to https://www....  \n...         ...                                                ...  \n3018  peggydnew  Listed as Confidential - refer to https://www....  \n3019  peggydnew  Listed as Confidential - refer to https://www....  \n3020  peggydnew  Listed as Confidential - refer to https://www....  \n3021  peggydnew  Listed as Confidential - refer to https://www....  \n3022  peggydnew  Listed as Confidential - refer to https://www....  \n\n[1897 rows x 12 columns]",
      "text/html": "<div>\n<style scoped>\n    .dataframe tbody tr th:only-of-type {\n        vertical-align: middle;\n    }\n\n    .dataframe tbody tr th {\n        vertical-align: top;\n    }\n\n    .dataframe thead th {\n        text-align: right;\n    }\n</style>\n<table border=\"1\" class=\"dataframe\">\n  <thead>\n    <tr style=\"text-align: right;\">\n      <th></th>\n      <th>action</th>\n      <th>taxon_name</th>\n      <th>id</th>\n      <th>taxon_id</th>\n      <th>status</th>\n      <th>iucn_equivalent</th>\n      <th>authority</th>\n      <th>url</th>\n      <th>geoprivacy</th>\n      <th>place_id</th>\n      <th>username</th>\n      <th>description</th>\n    </tr>\n  </thead>\n  <tbody>\n    <tr>\n      <th>1</th>\n      <td>ADD</td>\n      <td>Acacia alata platyptera</td>\n      <td>NaN</td>\n      <td>145423</td>\n      <td>Priority 4: Rare, Near Threatened</td>\n      <td>Vulnerable</td>\n      <td>WA Deparment of Biodiversity, Conservation and...</td>\n      <td>https://florabase.dpaw.wa.gov.au/browse/profil...</td>\n      <td>obscured</td>\n      <td>6827</td>\n      <td>peggydnew</td>\n      <td>Listed as Confidential - refer to https://www....</td>\n    </tr>\n    <tr>\n      <th>2</th>\n      <td>ADD</td>\n      <td>Acacia ancistrophylla lissophylla</td>\n      <td>NaN</td>\n      <td>1361077</td>\n      <td>Priority 2: Poorly-known species</td>\n      <td>Vulnerable</td>\n      <td>WA Deparment of Biodiversity, Conservation and...</td>\n      <td>https://florabase.dpaw.wa.gov.au/browse/profil...</td>\n      <td>obscured</td>\n      <td>6827</td>\n      <td>peggydnew</td>\n      <td>Listed as Confidential - refer to https://www....</td>\n    </tr>\n    <tr>\n      <th>3</th>\n      <td>ADD</td>\n      <td>Acacia ancistrophylla perarcuata</td>\n      <td>NaN</td>\n      <td>1252488</td>\n      <td>Priority 3: Poorly-known species</td>\n      <td>Vulnerable</td>\n      <td>WA Deparment of Biodiversity, Conservation and...</td>\n      <td>https://florabase.dpaw.wa.gov.au/browse/profil...</td>\n      <td>obscured</td>\n      <td>6827</td>\n      <td>peggydnew</td>\n      <td>Listed as Confidential - refer to https://www....</td>\n    </tr>\n    <tr>\n      <th>6</th>\n      <td>ADD</td>\n      <td>Acacia barrettiorum</td>\n      <td>NaN</td>\n      <td>1252534</td>\n      <td>Priority 2: Poorly-known species</td>\n      <td>Vulnerable</td>\n      <td>WA Deparment of Biodiversity, Conservation and...</td>\n      <td>https://florabase.dpaw.wa.gov.au/browse/profil...</td>\n      <td>obscured</td>\n      <td>6827</td>\n      <td>peggydnew</td>\n      <td>Listed as Confidential - refer to https://www....</td>\n    </tr>\n    <tr>\n      <th>7</th>\n      <td>ADD</td>\n      <td>Acacia bartlei</td>\n      <td>NaN</td>\n      <td>1252535</td>\n      <td>Priority 3: Poorly-known species</td>\n      <td>Vulnerable</td>\n      <td>WA Deparment of Biodiversity, Conservation and...</td>\n      <td>https://florabase.dpaw.wa.gov.au/browse/profil...</td>\n      <td>obscured</td>\n      <td>6827</td>\n      <td>peggydnew</td>\n      <td>Listed as Confidential - refer to https://www....</td>\n    </tr>\n    <tr>\n      <th>...</th>\n      <td>...</td>\n      <td>...</td>\n      <td>...</td>\n      <td>...</td>\n      <td>...</td>\n      <td>...</td>\n      <td>...</td>\n      <td>...</td>\n      <td>...</td>\n      <td>...</td>\n      <td>...</td>\n      <td>...</td>\n    </tr>\n    <tr>\n      <th>3018</th>\n      <td>ADD</td>\n      <td>Turgenitubulus christenseni</td>\n      <td>NaN</td>\n      <td>1242615</td>\n      <td>Endangered</td>\n      <td>Vulnerable</td>\n      <td>WA Deparment of Biodiversity, Conservation and...</td>\n      <td>https://bie.ala.org.au/species/https://biodive...</td>\n      <td>obscured</td>\n      <td>6827</td>\n      <td>peggydnew</td>\n      <td>Listed as Confidential - refer to https://www....</td>\n    </tr>\n    <tr>\n      <th>3019</th>\n      <td>ADD</td>\n      <td>Turnix varius scintillans</td>\n      <td>NaN</td>\n      <td>708564</td>\n      <td>Endangered</td>\n      <td>Vulnerable</td>\n      <td>WA Deparment of Biodiversity, Conservation and...</td>\n      <td>https://bie.ala.org.au/species/https://biodive...</td>\n      <td>obscured</td>\n      <td>6827</td>\n      <td>peggydnew</td>\n      <td>Listed as Confidential - refer to https://www....</td>\n    </tr>\n    <tr>\n      <th>3020</th>\n      <td>ADD</td>\n      <td>Tursiops aduncus</td>\n      <td>NaN</td>\n      <td>41481</td>\n      <td>Migratory</td>\n      <td>Vulnerable</td>\n      <td>WA Deparment of Biodiversity, Conservation and...</td>\n      <td>https://bie.ala.org.au/species/https://biodive...</td>\n      <td>obscured</td>\n      <td>6827</td>\n      <td>peggydnew</td>\n      <td>Listed as Confidential - refer to https://www....</td>\n    </tr>\n    <tr>\n      <th>3021</th>\n      <td>ADD</td>\n      <td>Tyto novaehollandiae kimberli</td>\n      <td>NaN</td>\n      <td>732085</td>\n      <td>Priority 1: Poorly-known species</td>\n      <td>Vulnerable</td>\n      <td>WA Deparment of Biodiversity, Conservation and...</td>\n      <td>https://bie.ala.org.au/species/https://biodive...</td>\n      <td>obscured</td>\n      <td>6827</td>\n      <td>peggydnew</td>\n      <td>Listed as Confidential - refer to https://www....</td>\n    </tr>\n    <tr>\n      <th>3022</th>\n      <td>ADD</td>\n      <td>Tyto novaehollandiae novaehollandiae</td>\n      <td>NaN</td>\n      <td>732087</td>\n      <td>Priority 3: Poorly-known species</td>\n      <td>Vulnerable</td>\n      <td>WA Deparment of Biodiversity, Conservation and...</td>\n      <td>https://bie.ala.org.au/species/https://biodive...</td>\n      <td>obscured</td>\n      <td>6827</td>\n      <td>peggydnew</td>\n      <td>Listed as Confidential - refer to https://www....</td>\n    </tr>\n  </tbody>\n</table>\n<p>1897 rows × 12 columns</p>\n</div>"
     },
     "execution_count": 20,
     "metadata": {},
     "output_type": "execute_result"
    }
   ],
   "source": [
    "# there's no status but there is a matching inat taxon (id is the taxon id)\n",
    "additions = pd.DataFrame(noinatstatus[noinatstatus['id'].notna()])\n",
    "additions['scientificName'] = additions['wa_scientificName']\n",
    "#additions['new_status'] = additions['wa_status']\n",
    "additions.sort_values(['scientificName'])\n",
    "additions['action'] = 'ADD'\n",
    "additions = additions[['action','scientificName','status_id','id','new_status','new_iucn_equivalent','new_authority','new_url','new_geoprivacy','new_place_id','new_username','new_description']]\n",
    "additions.columns = additions.columns.str.replace(\"new_\", \"\", regex=True)\n",
    "additions = additions.rename(columns={'scientificName':'taxon_name',\n",
    "                                      'id':'taxon_id',\n",
    "                                  'status_id':'id'})\n",
    "additions"
   ],
   "metadata": {
    "collapsed": false,
    "pycharm": {
     "name": "#%%\n"
    }
   }
  },
  {
   "cell_type": "code",
   "execution_count": 21,
   "outputs": [],
   "source": [
    "all = pd.concat([updates,additions])\n",
    "all.to_csv(sourcedir + \"wa.csv\", index=False )"
   ],
   "metadata": {
    "collapsed": false,
    "pycharm": {
     "name": "#%%\n"
    }
   }
  },
  {
   "cell_type": "markdown",
   "source": [
    "# Reports\n",
    "## Statuses with no matching taxon in iNaturalist\n",
    "Things that didn't match to a taxon:\n",
    "1.Those that didn't play nicely with the GBIF parser\n",
    "2.Those that there was no taxa match for."
   ],
   "metadata": {
    "collapsed": false
   }
  },
  {
   "cell_type": "code",
   "execution_count": 22,
   "outputs": [
    {
     "data": {
      "text/plain": "     Unnamed: 0       id                                              name  \\\n1             0  2818496            Abutilon sp. Hamelin (A.M. Ashby 2196)   \n2             0  2821218       Abutilon sp. Onslow (F. Smith s.n. 10/9/61)   \n3             0  2819452   Abutilon sp. Pritzelianum (S. van Leeuwen 5095)   \n4             0  2820137              Abutilon sp. Quobba (H. Demarz 3858)   \n5             0  2819481         Abutilon sp. Warburton (A.S. George 8164)   \n...         ...      ...                                               ...   \n4119          0  2819432            Ideoblothrus sp. 'Mesa A' (WAM T81374)   \n4162          0  2820631  Lagorchestes hirsutus subsp. (Central Australia)   \n4355          0  2821842                        Rhytidid sp. (WAM 2295-69)   \n4397          0  2820000                                 Teyl sp. (MYG693)   \n4430          0  2821723        Tyrannochthonius sp. 'Mesa A' (WAM T81480)   \n\n                                     commonName  \\\n1                                           NaN   \n2                                           NaN   \n3                                           NaN   \n4                                           NaN   \n5                                           NaN   \n...                                         ...   \n4119    An Ideoblothrus Pseudoscorpion (mesa A)   \n4162    Rufous Hare-wallaby (central Australia)   \n4355              Stirling Range Rhytidid Snail   \n4397                                        NaN   \n4430  A Tyrannochtonius Pseudoscorpion (mesa A)   \n\n                                      scientificName_x  \\\n1                Abutilon sp. Hamelin (A.M.Ashby 2196)   \n2          Abutilon sp. Onslow (F. Smith s.n. 10/9/61)   \n3       Abutilon sp. Pritzelianum (S.van Leeuwen 5095)   \n4                  Abutilon sp. Quobba (H.Demarz 3858)   \n5             Abutilon sp. Warburton (A.S.George 8164)   \n...                                                ...   \n4119            Ideoblothrus sp. 'Mesa A' (WAM T81374)   \n4162  Lagorchestes hirsutus subsp. (Central Australia)   \n4355                        Rhytidid sp. (WAM 2295-69)   \n4397                                              Teyl   \n4430        Tyrannochthonius sp. 'Mesa A' (WAM T81480)   \n\n                                                   lsid dataResourceUid  \\\n1      https://id.biodiversity.org.au/node/apni/2898729         dr18406   \n2                                       ALA_DR2201_3101         dr18406   \n3      https://id.biodiversity.org.au/node/apni/2905152         dr18406   \n4      https://id.biodiversity.org.au/node/apni/2920532         dr18406   \n5      https://id.biodiversity.org.au/node/apni/2890423         dr18406   \n...                                                 ...             ...   \n4119                                    ALA_DR2201_3612         dr18406   \n4162                                    ALA_DR2201_3947         dr18406   \n4355                                    ALA_DR2201_4164         dr18406   \n4397  https://biodiversity.org.au/afd/taxa/7cdbd74b-...         dr18406   \n4430                                    ALA_DR2201_3623         dr18406   \n\n                                              kvpValues taxonId W A  Status  \\\n1     [{'key': 'taxonId', 'value': '14112'}, {'key':...   14112           2   \n2     [{'key': 'taxonId', 'value': '14110'}, {'key':...   14110           3   \n3     [{'key': 'taxonId', 'value': '43021'}, {'key':...   43021           3   \n4     [{'key': 'taxonId', 'value': '14114'}, {'key':...   14114           2   \n5     [{'key': 'taxonId', 'value': '14155'}, {'key':...   14155           1   \n...                                                 ...     ...         ...   \n4119  [{'key': 'status', 'value': 'Priority 1: Poorl...     NaN         NaN   \n4162  [{'key': 'status', 'value': 'Endangered'}, {'k...     NaN         NaN   \n4355  [{'key': 'status', 'value': 'Critically Endang...     NaN         NaN   \n4397  [{'key': 'taxonRemarks', 'value': '30/09/2022 ...     NaN         NaN   \n4430  [{'key': 'status', 'value': 'Priority 1: Poorl...     NaN         NaN   \n\n      ...                                 status description category  \\\n1     ...  Priority 2: Poorly-known species - known from ...       P2   \n2     ...  Priority 3: Poorly-known species - known from ...       P3   \n3     ...  Priority 3: Poorly-known species - known from ...       P3   \n4     ...  Priority 2: Poorly-known species - known from ...       P2   \n5     ...  Priority 1: Poorly-known species - known from ...       P1   \n...   ...                                                ...      ...   \n4119  ...  Priority 1: Poorly-known species - known from ...       P1   \n4162  ...                                         Endangered       EN   \n4355  ...                              Critically Endangered       CR   \n4397  ...                              Critically Endangered       CR   \n4430  ...  Priority 1: Poorly-known species - known from ...       P1   \n\n     sensitivityZoneId W A  Rank  \\\n1                   WA       NaN   \n2                   WA       NaN   \n3                   WA       NaN   \n4                   WA       NaN   \n5                   WA       NaN   \n...                ...       ...   \n4119                WA       NaN   \n4162                WA       NaN   \n4355                WA       NaN   \n4397                WA       NaN   \n4430                WA       NaN   \n\n                                           taxonRemarks  \\\n1                                                   NaN   \n2                                                   NaN   \n3                                                   NaN   \n4                                                   NaN   \n5                                                   NaN   \n...                                                 ...   \n4119                                                NaN   \n4162                                                NaN   \n4355                                                NaN   \n4397  30/09/2022 Museum specimen reference number ch...   \n4430                                                NaN   \n\n                                      scientificName_y  \\\n1               Abutilon sp. Hamelin (A.M. Ashby 2196)   \n2          Abutilon sp. Onslow (F. Smith s.n. 10/9/61)   \n3      Abutilon sp. Pritzelianum (S. van Leeuwen 5095)   \n4                 Abutilon sp. Quobba (H. Demarz 3858)   \n5            Abutilon sp. Warburton (A.S. George 8164)   \n...                                                ...   \n4119            Ideoblothrus sp. 'Mesa A' (WAM T81374)   \n4162  Lagorchestes hirsutus subsp. (Central Australia)   \n4355                        Rhytidid sp. (WAM 2295-69)   \n4397                                 Teyl sp. (MYG693)   \n4430        Tyrannochthonius sp. 'Mesa A' (WAM T81480)   \n\n                     canonicalName          canonicalNameComplete      type  \\\n1                   Abutilon spec.         Abutilon spec. Hamelin  INFORMAL   \n2                   Abutilon spec.          Abutilon spec. Onslow  INFORMAL   \n3                   Abutilon spec.    Abutilon spec. Pritzelianum  INFORMAL   \n4                   Abutilon spec.          Abutilon spec. Quobba  INFORMAL   \n5                   Abutilon spec.       Abutilon spec. Warburton  INFORMAL   \n...                            ...                            ...       ...   \n4119            Ideoblothrus spec.      Ideoblothrus spec. Mesa A  INFORMAL   \n4162  Lagorchestes hirsutus subsp.   Lagorchestes hirsutus subsp.  INFORMAL   \n4355                Rhytidid spec.                 Rhytidid spec.  INFORMAL   \n4397                    Teyl spec.                     Teyl spec.  INFORMAL   \n4430        Tyrannochthonius spec.  Tyrannochthonius spec. Mesa A  INFORMAL   \n\n     rankMarker  \n1           sp.  \n2           sp.  \n3           sp.  \n4           sp.  \n5           sp.  \n...         ...  \n4119        sp.  \n4162     subsp.  \n4355        sp.  \n4397        sp.  \n4430        sp.  \n\n[560 rows x 24 columns]",
      "text/html": "<div>\n<style scoped>\n    .dataframe tbody tr th:only-of-type {\n        vertical-align: middle;\n    }\n\n    .dataframe tbody tr th {\n        vertical-align: top;\n    }\n\n    .dataframe thead th {\n        text-align: right;\n    }\n</style>\n<table border=\"1\" class=\"dataframe\">\n  <thead>\n    <tr style=\"text-align: right;\">\n      <th></th>\n      <th>Unnamed: 0</th>\n      <th>id</th>\n      <th>name</th>\n      <th>commonName</th>\n      <th>scientificName_x</th>\n      <th>lsid</th>\n      <th>dataResourceUid</th>\n      <th>kvpValues</th>\n      <th>taxonId</th>\n      <th>W A  Status</th>\n      <th>...</th>\n      <th>status description</th>\n      <th>category</th>\n      <th>sensitivityZoneId</th>\n      <th>W A  Rank</th>\n      <th>taxonRemarks</th>\n      <th>scientificName_y</th>\n      <th>canonicalName</th>\n      <th>canonicalNameComplete</th>\n      <th>type</th>\n      <th>rankMarker</th>\n    </tr>\n  </thead>\n  <tbody>\n    <tr>\n      <th>1</th>\n      <td>0</td>\n      <td>2818496</td>\n      <td>Abutilon sp. Hamelin (A.M. Ashby 2196)</td>\n      <td>NaN</td>\n      <td>Abutilon sp. Hamelin (A.M.Ashby 2196)</td>\n      <td>https://id.biodiversity.org.au/node/apni/2898729</td>\n      <td>dr18406</td>\n      <td>[{'key': 'taxonId', 'value': '14112'}, {'key':...</td>\n      <td>14112</td>\n      <td>2</td>\n      <td>...</td>\n      <td>Priority 2: Poorly-known species - known from ...</td>\n      <td>P2</td>\n      <td>WA</td>\n      <td>NaN</td>\n      <td>NaN</td>\n      <td>Abutilon sp. Hamelin (A.M. Ashby 2196)</td>\n      <td>Abutilon spec.</td>\n      <td>Abutilon spec. Hamelin</td>\n      <td>INFORMAL</td>\n      <td>sp.</td>\n    </tr>\n    <tr>\n      <th>2</th>\n      <td>0</td>\n      <td>2821218</td>\n      <td>Abutilon sp. Onslow (F. Smith s.n. 10/9/61)</td>\n      <td>NaN</td>\n      <td>Abutilon sp. Onslow (F. Smith s.n. 10/9/61)</td>\n      <td>ALA_DR2201_3101</td>\n      <td>dr18406</td>\n      <td>[{'key': 'taxonId', 'value': '14110'}, {'key':...</td>\n      <td>14110</td>\n      <td>3</td>\n      <td>...</td>\n      <td>Priority 3: Poorly-known species - known from ...</td>\n      <td>P3</td>\n      <td>WA</td>\n      <td>NaN</td>\n      <td>NaN</td>\n      <td>Abutilon sp. Onslow (F. Smith s.n. 10/9/61)</td>\n      <td>Abutilon spec.</td>\n      <td>Abutilon spec. Onslow</td>\n      <td>INFORMAL</td>\n      <td>sp.</td>\n    </tr>\n    <tr>\n      <th>3</th>\n      <td>0</td>\n      <td>2819452</td>\n      <td>Abutilon sp. Pritzelianum (S. van Leeuwen 5095)</td>\n      <td>NaN</td>\n      <td>Abutilon sp. Pritzelianum (S.van Leeuwen 5095)</td>\n      <td>https://id.biodiversity.org.au/node/apni/2905152</td>\n      <td>dr18406</td>\n      <td>[{'key': 'taxonId', 'value': '43021'}, {'key':...</td>\n      <td>43021</td>\n      <td>3</td>\n      <td>...</td>\n      <td>Priority 3: Poorly-known species - known from ...</td>\n      <td>P3</td>\n      <td>WA</td>\n      <td>NaN</td>\n      <td>NaN</td>\n      <td>Abutilon sp. Pritzelianum (S. van Leeuwen 5095)</td>\n      <td>Abutilon spec.</td>\n      <td>Abutilon spec. Pritzelianum</td>\n      <td>INFORMAL</td>\n      <td>sp.</td>\n    </tr>\n    <tr>\n      <th>4</th>\n      <td>0</td>\n      <td>2820137</td>\n      <td>Abutilon sp. Quobba (H. Demarz 3858)</td>\n      <td>NaN</td>\n      <td>Abutilon sp. Quobba (H.Demarz 3858)</td>\n      <td>https://id.biodiversity.org.au/node/apni/2920532</td>\n      <td>dr18406</td>\n      <td>[{'key': 'taxonId', 'value': '14114'}, {'key':...</td>\n      <td>14114</td>\n      <td>2</td>\n      <td>...</td>\n      <td>Priority 2: Poorly-known species - known from ...</td>\n      <td>P2</td>\n      <td>WA</td>\n      <td>NaN</td>\n      <td>NaN</td>\n      <td>Abutilon sp. Quobba (H. Demarz 3858)</td>\n      <td>Abutilon spec.</td>\n      <td>Abutilon spec. Quobba</td>\n      <td>INFORMAL</td>\n      <td>sp.</td>\n    </tr>\n    <tr>\n      <th>5</th>\n      <td>0</td>\n      <td>2819481</td>\n      <td>Abutilon sp. Warburton (A.S. George 8164)</td>\n      <td>NaN</td>\n      <td>Abutilon sp. Warburton (A.S.George 8164)</td>\n      <td>https://id.biodiversity.org.au/node/apni/2890423</td>\n      <td>dr18406</td>\n      <td>[{'key': 'taxonId', 'value': '14155'}, {'key':...</td>\n      <td>14155</td>\n      <td>1</td>\n      <td>...</td>\n      <td>Priority 1: Poorly-known species - known from ...</td>\n      <td>P1</td>\n      <td>WA</td>\n      <td>NaN</td>\n      <td>NaN</td>\n      <td>Abutilon sp. Warburton (A.S. George 8164)</td>\n      <td>Abutilon spec.</td>\n      <td>Abutilon spec. Warburton</td>\n      <td>INFORMAL</td>\n      <td>sp.</td>\n    </tr>\n    <tr>\n      <th>...</th>\n      <td>...</td>\n      <td>...</td>\n      <td>...</td>\n      <td>...</td>\n      <td>...</td>\n      <td>...</td>\n      <td>...</td>\n      <td>...</td>\n      <td>...</td>\n      <td>...</td>\n      <td>...</td>\n      <td>...</td>\n      <td>...</td>\n      <td>...</td>\n      <td>...</td>\n      <td>...</td>\n      <td>...</td>\n      <td>...</td>\n      <td>...</td>\n      <td>...</td>\n      <td>...</td>\n    </tr>\n    <tr>\n      <th>4119</th>\n      <td>0</td>\n      <td>2819432</td>\n      <td>Ideoblothrus sp. 'Mesa A' (WAM T81374)</td>\n      <td>An Ideoblothrus Pseudoscorpion (mesa A)</td>\n      <td>Ideoblothrus sp. 'Mesa A' (WAM T81374)</td>\n      <td>ALA_DR2201_3612</td>\n      <td>dr18406</td>\n      <td>[{'key': 'status', 'value': 'Priority 1: Poorl...</td>\n      <td>NaN</td>\n      <td>NaN</td>\n      <td>...</td>\n      <td>Priority 1: Poorly-known species - known from ...</td>\n      <td>P1</td>\n      <td>WA</td>\n      <td>NaN</td>\n      <td>NaN</td>\n      <td>Ideoblothrus sp. 'Mesa A' (WAM T81374)</td>\n      <td>Ideoblothrus spec.</td>\n      <td>Ideoblothrus spec. Mesa A</td>\n      <td>INFORMAL</td>\n      <td>sp.</td>\n    </tr>\n    <tr>\n      <th>4162</th>\n      <td>0</td>\n      <td>2820631</td>\n      <td>Lagorchestes hirsutus subsp. (Central Australia)</td>\n      <td>Rufous Hare-wallaby (central Australia)</td>\n      <td>Lagorchestes hirsutus subsp. (Central Australia)</td>\n      <td>ALA_DR2201_3947</td>\n      <td>dr18406</td>\n      <td>[{'key': 'status', 'value': 'Endangered'}, {'k...</td>\n      <td>NaN</td>\n      <td>NaN</td>\n      <td>...</td>\n      <td>Endangered</td>\n      <td>EN</td>\n      <td>WA</td>\n      <td>NaN</td>\n      <td>NaN</td>\n      <td>Lagorchestes hirsutus subsp. (Central Australia)</td>\n      <td>Lagorchestes hirsutus subsp.</td>\n      <td>Lagorchestes hirsutus subsp.</td>\n      <td>INFORMAL</td>\n      <td>subsp.</td>\n    </tr>\n    <tr>\n      <th>4355</th>\n      <td>0</td>\n      <td>2821842</td>\n      <td>Rhytidid sp. (WAM 2295-69)</td>\n      <td>Stirling Range Rhytidid Snail</td>\n      <td>Rhytidid sp. (WAM 2295-69)</td>\n      <td>ALA_DR2201_4164</td>\n      <td>dr18406</td>\n      <td>[{'key': 'status', 'value': 'Critically Endang...</td>\n      <td>NaN</td>\n      <td>NaN</td>\n      <td>...</td>\n      <td>Critically Endangered</td>\n      <td>CR</td>\n      <td>WA</td>\n      <td>NaN</td>\n      <td>NaN</td>\n      <td>Rhytidid sp. (WAM 2295-69)</td>\n      <td>Rhytidid spec.</td>\n      <td>Rhytidid spec.</td>\n      <td>INFORMAL</td>\n      <td>sp.</td>\n    </tr>\n    <tr>\n      <th>4397</th>\n      <td>0</td>\n      <td>2820000</td>\n      <td>Teyl sp. (MYG693)</td>\n      <td>NaN</td>\n      <td>Teyl</td>\n      <td>https://biodiversity.org.au/afd/taxa/7cdbd74b-...</td>\n      <td>dr18406</td>\n      <td>[{'key': 'taxonRemarks', 'value': '30/09/2022 ...</td>\n      <td>NaN</td>\n      <td>NaN</td>\n      <td>...</td>\n      <td>Critically Endangered</td>\n      <td>CR</td>\n      <td>WA</td>\n      <td>NaN</td>\n      <td>30/09/2022 Museum specimen reference number ch...</td>\n      <td>Teyl sp. (MYG693)</td>\n      <td>Teyl spec.</td>\n      <td>Teyl spec.</td>\n      <td>INFORMAL</td>\n      <td>sp.</td>\n    </tr>\n    <tr>\n      <th>4430</th>\n      <td>0</td>\n      <td>2821723</td>\n      <td>Tyrannochthonius sp. 'Mesa A' (WAM T81480)</td>\n      <td>A Tyrannochtonius Pseudoscorpion (mesa A)</td>\n      <td>Tyrannochthonius sp. 'Mesa A' (WAM T81480)</td>\n      <td>ALA_DR2201_3623</td>\n      <td>dr18406</td>\n      <td>[{'key': 'status', 'value': 'Priority 1: Poorl...</td>\n      <td>NaN</td>\n      <td>NaN</td>\n      <td>...</td>\n      <td>Priority 1: Poorly-known species - known from ...</td>\n      <td>P1</td>\n      <td>WA</td>\n      <td>NaN</td>\n      <td>NaN</td>\n      <td>Tyrannochthonius sp. 'Mesa A' (WAM T81480)</td>\n      <td>Tyrannochthonius spec.</td>\n      <td>Tyrannochthonius spec. Mesa A</td>\n      <td>INFORMAL</td>\n      <td>sp.</td>\n    </tr>\n  </tbody>\n</table>\n<p>560 rows × 24 columns</p>\n</div>"
     },
     "execution_count": 22,
     "metadata": {},
     "output_type": "execute_result"
    }
   ],
   "source": [
    "noncomply\n"
   ],
   "metadata": {
    "collapsed": false,
    "pycharm": {
     "name": "#%%\n"
    }
   }
  },
  {
   "cell_type": "code",
   "execution_count": 23,
   "outputs": [
    {
     "data": {
      "text/plain": "wa_status\nConservation Dependent                 1\nCritically Endangered                 51\nEndangered                            37\nExtinct                               11\nMigratory                              4\nPriority 1: Poorly-known species     354\nPriority 2: Poorly-known species     260\nPriority 3: Poorly-known species     274\nPriority 4: Rare, Near Threatened     67\nVulnerable                            68\ndtype: int64"
     },
     "execution_count": 23,
     "metadata": {},
     "output_type": "execute_result"
    }
   ],
   "source": [
    "# what didnt match to a taxon?\n",
    "unknownToInat = noinatstatus[noinatstatus['id'].isna()]\n",
    "unknownToInat.groupby('wa_status').size()"
   ],
   "metadata": {
    "collapsed": false,
    "pycharm": {
     "name": "#%%\n"
    }
   }
  },
  {
   "cell_type": "markdown",
   "source": [],
   "metadata": {
    "collapsed": false,
    "pycharm": {
     "name": "#%% md\n"
    }
   }
  },
  {
   "cell_type": "code",
   "execution_count": 24,
   "outputs": [],
   "source": [
    "# what didnt match to a taxon?\n",
    "pd.concat([noncomply,unknownToInat]).to_csv(sourcedir + \"wa-no-inat-taxa-match.csv\",index=False)"
   ],
   "metadata": {
    "collapsed": false,
    "pycharm": {
     "name": "#%%\n"
    }
   }
  },
  {
   "cell_type": "markdown",
   "source": [],
   "metadata": {
    "collapsed": false
   }
  },
  {
   "cell_type": "markdown",
   "source": [
    "## iNaturalist statuses unaffected by these changes\n",
    "Candidates for investigation and removal."
   ],
   "metadata": {
    "collapsed": false,
    "pycharm": {
     "name": "#%% md\n"
    }
   }
  },
  {
   "cell_type": "code",
   "execution_count": 25,
   "outputs": [
    {
     "data": {
      "text/plain": "     status_id taxon_id user_id place_id source_id  \\\n664     158009  1042669  708886     6827     16654   \n1801    153169   107044  708886     6827     16654   \n1947    153332   108173  708886     6827     16654   \n143     170015  1264437  708886     6827     16654   \n165     170012  1264442  708886     6827     16654   \n...        ...      ...     ...      ...       ...   \n1872    153220   866315  708886     6827     16654   \n1711    153064   878695  708886     6827     16654   \n1753    153112   898346  708886     6827     16654   \n1690    153038   898351  708886     6827     16654   \n870     154201   924320  708886     6827     16654   \n\n                                           authority                 status  \\\n664   WA Department of Environment and Convservation             endangered   \n1801  WA Department of Environment and Convservation  critically endangered   \n1947  WA Department of Environment and Convservation             endangered   \n143   WA Department of Environment and Convservation             endangered   \n165   WA Department of Environment and Convservation             vulnerable   \n...                                              ...                    ...   \n1872  WA Department of Environment and Convservation             endangered   \n1711  WA Department of Environment and Convservation             endangered   \n1753  WA Department of Environment and Convservation             endangered   \n1690  WA Department of Environment and Convservation             endangered   \n870   WA Department of Environment and Convservation             endangered   \n\n                                                    url description  \\\n664   https://lists.ala.org.au/speciesListItem/list/...               \n1801  https://lists.ala.org.au/speciesListItem/list/...               \n1947  https://lists.ala.org.au/speciesListItem/list/...               \n143   https://lists.ala.org.au/speciesListItem/list/...               \n165   https://lists.ala.org.au/speciesListItem/list/...               \n...                                                 ...         ...   \n1872  https://lists.ala.org.au/speciesListItem/list/...               \n1711  https://lists.ala.org.au/speciesListItem/list/...               \n1753  https://lists.ala.org.au/speciesListItem/list/...               \n1690  https://lists.ala.org.au/speciesListItem/list/...               \n870   https://lists.ala.org.au/speciesListItem/list/...               \n\n     geoprivacy  ...       genus     specificEpithet infraspecificEpithet  \\\n664    obscured  ...  Corinomala              tumida                        \n1801   obscured  ...  Ningbingia           australis                        \n1947   obscured  ...   Pachysaga             munggai                        \n143    obscured  ...                                                        \n165    obscured  ...                                                        \n...         ...  ...         ...                 ...                  ...   \n1872   obscured  ...      Acacia           deltoidea                        \n1711   obscured  ...  Youwanjela             wilsoni                        \n1753   obscured  ...   Euphorbia  occidentaustralica                        \n1690   obscured  ...   Euphorbia     inappendiculata                        \n870    obscured  ...     Fuirena        leptostachya            nudiflora   \n\n                  modified                  scientificName taxonRank  \\\n664   2021-10-29T05:06:21Z               Corinomala tumida   species   \n1801  2021-10-29T09:25:06Z            Ningbingia australis   species   \n1947  2011-08-04T08:56:40Z               Pachysaga munggai   species   \n143                                    Arctophoca forsteri             \n165                                  Arctophoca tropicalis             \n...                    ...                             ...       ...   \n1872  2022-04-07T01:42:14Z                Acacia deltoidea   species   \n1711  2021-10-29T14:01:16Z              Youwanjela wilsoni   species   \n1753  2020-02-19T16:40:34Z    Euphorbia occidentaustralica   species   \n1690  2020-02-19T16:40:42Z       Euphorbia inappendiculata   species   \n870   2019-08-25T22:40:45Z  Fuirena leptostachya nudiflora      form   \n\n                                             references  \\\n664                                                       \n1801  http://www.catalogueoflife.org/annual-checklis...   \n1947  http://www.catalogueoflife.org/annual-checklis...   \n143                                                       \n165                                                       \n...                                                 ...   \n1872                                                      \n1711                     https://eol.org/pages/49878898   \n1753                                                      \n1690                                                      \n870                                                       \n\n      preferred_common_name is_active current_synonymous_taxon_ids  \n664                                                                 \n1801                                                                \n1947                                                                \n143    New Zealand Fur Seal     False                      [41752]  \n165   Subantarctic Fur Seal     False                      [41753]  \n...                     ...       ...                          ...  \n1872                                                                \n1711                                                                \n1753                                                                \n1690                                                                \n870                                                                 \n\n[105 rows x 34 columns]",
      "text/html": "<div>\n<style scoped>\n    .dataframe tbody tr th:only-of-type {\n        vertical-align: middle;\n    }\n\n    .dataframe tbody tr th {\n        vertical-align: top;\n    }\n\n    .dataframe thead th {\n        text-align: right;\n    }\n</style>\n<table border=\"1\" class=\"dataframe\">\n  <thead>\n    <tr style=\"text-align: right;\">\n      <th></th>\n      <th>status_id</th>\n      <th>taxon_id</th>\n      <th>user_id</th>\n      <th>place_id</th>\n      <th>source_id</th>\n      <th>authority</th>\n      <th>status</th>\n      <th>url</th>\n      <th>description</th>\n      <th>geoprivacy</th>\n      <th>...</th>\n      <th>genus</th>\n      <th>specificEpithet</th>\n      <th>infraspecificEpithet</th>\n      <th>modified</th>\n      <th>scientificName</th>\n      <th>taxonRank</th>\n      <th>references</th>\n      <th>preferred_common_name</th>\n      <th>is_active</th>\n      <th>current_synonymous_taxon_ids</th>\n    </tr>\n  </thead>\n  <tbody>\n    <tr>\n      <th>664</th>\n      <td>158009</td>\n      <td>1042669</td>\n      <td>708886</td>\n      <td>6827</td>\n      <td>16654</td>\n      <td>WA Department of Environment and Convservation</td>\n      <td>endangered</td>\n      <td>https://lists.ala.org.au/speciesListItem/list/...</td>\n      <td></td>\n      <td>obscured</td>\n      <td>...</td>\n      <td>Corinomala</td>\n      <td>tumida</td>\n      <td></td>\n      <td>2021-10-29T05:06:21Z</td>\n      <td>Corinomala tumida</td>\n      <td>species</td>\n      <td></td>\n      <td></td>\n      <td></td>\n      <td></td>\n    </tr>\n    <tr>\n      <th>1801</th>\n      <td>153169</td>\n      <td>107044</td>\n      <td>708886</td>\n      <td>6827</td>\n      <td>16654</td>\n      <td>WA Department of Environment and Convservation</td>\n      <td>critically endangered</td>\n      <td>https://lists.ala.org.au/speciesListItem/list/...</td>\n      <td></td>\n      <td>obscured</td>\n      <td>...</td>\n      <td>Ningbingia</td>\n      <td>australis</td>\n      <td></td>\n      <td>2021-10-29T09:25:06Z</td>\n      <td>Ningbingia australis</td>\n      <td>species</td>\n      <td>http://www.catalogueoflife.org/annual-checklis...</td>\n      <td></td>\n      <td></td>\n      <td></td>\n    </tr>\n    <tr>\n      <th>1947</th>\n      <td>153332</td>\n      <td>108173</td>\n      <td>708886</td>\n      <td>6827</td>\n      <td>16654</td>\n      <td>WA Department of Environment and Convservation</td>\n      <td>endangered</td>\n      <td>https://lists.ala.org.au/speciesListItem/list/...</td>\n      <td></td>\n      <td>obscured</td>\n      <td>...</td>\n      <td>Pachysaga</td>\n      <td>munggai</td>\n      <td></td>\n      <td>2011-08-04T08:56:40Z</td>\n      <td>Pachysaga munggai</td>\n      <td>species</td>\n      <td>http://www.catalogueoflife.org/annual-checklis...</td>\n      <td></td>\n      <td></td>\n      <td></td>\n    </tr>\n    <tr>\n      <th>143</th>\n      <td>170015</td>\n      <td>1264437</td>\n      <td>708886</td>\n      <td>6827</td>\n      <td>16654</td>\n      <td>WA Department of Environment and Convservation</td>\n      <td>endangered</td>\n      <td>https://lists.ala.org.au/speciesListItem/list/...</td>\n      <td></td>\n      <td>obscured</td>\n      <td>...</td>\n      <td></td>\n      <td></td>\n      <td></td>\n      <td></td>\n      <td>Arctophoca forsteri</td>\n      <td></td>\n      <td></td>\n      <td>New Zealand Fur Seal</td>\n      <td>False</td>\n      <td>[41752]</td>\n    </tr>\n    <tr>\n      <th>165</th>\n      <td>170012</td>\n      <td>1264442</td>\n      <td>708886</td>\n      <td>6827</td>\n      <td>16654</td>\n      <td>WA Department of Environment and Convservation</td>\n      <td>vulnerable</td>\n      <td>https://lists.ala.org.au/speciesListItem/list/...</td>\n      <td></td>\n      <td>obscured</td>\n      <td>...</td>\n      <td></td>\n      <td></td>\n      <td></td>\n      <td></td>\n      <td>Arctophoca tropicalis</td>\n      <td></td>\n      <td></td>\n      <td>Subantarctic Fur Seal</td>\n      <td>False</td>\n      <td>[41753]</td>\n    </tr>\n    <tr>\n      <th>...</th>\n      <td>...</td>\n      <td>...</td>\n      <td>...</td>\n      <td>...</td>\n      <td>...</td>\n      <td>...</td>\n      <td>...</td>\n      <td>...</td>\n      <td>...</td>\n      <td>...</td>\n      <td>...</td>\n      <td>...</td>\n      <td>...</td>\n      <td>...</td>\n      <td>...</td>\n      <td>...</td>\n      <td>...</td>\n      <td>...</td>\n      <td>...</td>\n      <td>...</td>\n      <td>...</td>\n    </tr>\n    <tr>\n      <th>1872</th>\n      <td>153220</td>\n      <td>866315</td>\n      <td>708886</td>\n      <td>6827</td>\n      <td>16654</td>\n      <td>WA Department of Environment and Convservation</td>\n      <td>endangered</td>\n      <td>https://lists.ala.org.au/speciesListItem/list/...</td>\n      <td></td>\n      <td>obscured</td>\n      <td>...</td>\n      <td>Acacia</td>\n      <td>deltoidea</td>\n      <td></td>\n      <td>2022-04-07T01:42:14Z</td>\n      <td>Acacia deltoidea</td>\n      <td>species</td>\n      <td></td>\n      <td></td>\n      <td></td>\n      <td></td>\n    </tr>\n    <tr>\n      <th>1711</th>\n      <td>153064</td>\n      <td>878695</td>\n      <td>708886</td>\n      <td>6827</td>\n      <td>16654</td>\n      <td>WA Department of Environment and Convservation</td>\n      <td>endangered</td>\n      <td>https://lists.ala.org.au/speciesListItem/list/...</td>\n      <td></td>\n      <td>obscured</td>\n      <td>...</td>\n      <td>Youwanjela</td>\n      <td>wilsoni</td>\n      <td></td>\n      <td>2021-10-29T14:01:16Z</td>\n      <td>Youwanjela wilsoni</td>\n      <td>species</td>\n      <td>https://eol.org/pages/49878898</td>\n      <td></td>\n      <td></td>\n      <td></td>\n    </tr>\n    <tr>\n      <th>1753</th>\n      <td>153112</td>\n      <td>898346</td>\n      <td>708886</td>\n      <td>6827</td>\n      <td>16654</td>\n      <td>WA Department of Environment and Convservation</td>\n      <td>endangered</td>\n      <td>https://lists.ala.org.au/speciesListItem/list/...</td>\n      <td></td>\n      <td>obscured</td>\n      <td>...</td>\n      <td>Euphorbia</td>\n      <td>occidentaustralica</td>\n      <td></td>\n      <td>2020-02-19T16:40:34Z</td>\n      <td>Euphorbia occidentaustralica</td>\n      <td>species</td>\n      <td></td>\n      <td></td>\n      <td></td>\n      <td></td>\n    </tr>\n    <tr>\n      <th>1690</th>\n      <td>153038</td>\n      <td>898351</td>\n      <td>708886</td>\n      <td>6827</td>\n      <td>16654</td>\n      <td>WA Department of Environment and Convservation</td>\n      <td>endangered</td>\n      <td>https://lists.ala.org.au/speciesListItem/list/...</td>\n      <td></td>\n      <td>obscured</td>\n      <td>...</td>\n      <td>Euphorbia</td>\n      <td>inappendiculata</td>\n      <td></td>\n      <td>2020-02-19T16:40:42Z</td>\n      <td>Euphorbia inappendiculata</td>\n      <td>species</td>\n      <td></td>\n      <td></td>\n      <td></td>\n      <td></td>\n    </tr>\n    <tr>\n      <th>870</th>\n      <td>154201</td>\n      <td>924320</td>\n      <td>708886</td>\n      <td>6827</td>\n      <td>16654</td>\n      <td>WA Department of Environment and Convservation</td>\n      <td>endangered</td>\n      <td>https://lists.ala.org.au/speciesListItem/list/...</td>\n      <td></td>\n      <td>obscured</td>\n      <td>...</td>\n      <td>Fuirena</td>\n      <td>leptostachya</td>\n      <td>nudiflora</td>\n      <td>2019-08-25T22:40:45Z</td>\n      <td>Fuirena leptostachya nudiflora</td>\n      <td>form</td>\n      <td></td>\n      <td></td>\n      <td></td>\n      <td></td>\n    </tr>\n  </tbody>\n</table>\n<p>105 rows × 34 columns</p>\n</div>"
     },
     "execution_count": 25,
     "metadata": {},
     "output_type": "execute_result"
    }
   ],
   "source": [
    "# inat statuses that aren't in added or updated\n",
    "notaddedupdated = inatstatuses[~inatstatuses['taxon_id'].isin(updates['taxon_id'])]\n",
    "notaddedupdated = notaddedupdated[notaddedupdated['user_id'] == \"708886\"]\n",
    "notaddedupdated.to_csv(sourcedir + \"wa-outstanding-inat-statuses.csv\")\n",
    "notaddedupdated"
   ],
   "metadata": {
    "collapsed": false,
    "pycharm": {
     "name": "#%%\n"
    }
   }
  },
  {
   "cell_type": "code",
   "execution_count": 26,
   "outputs": [
    {
     "data": {
      "text/plain": "   Sensitive  Statelist merge  Species iNat Comply  Species iNat non-Comply  \\\n0       3895             3895                 3895                      560   \n\n   Duplicate Information  Updates  Additions  Not added updated  \\\n0                      0      873       1897                105   \n\n   No Inat Status  Unknown to Inat  \n0            3024             1127  ",
      "text/html": "<div>\n<style scoped>\n    .dataframe tbody tr th:only-of-type {\n        vertical-align: middle;\n    }\n\n    .dataframe tbody tr th {\n        vertical-align: top;\n    }\n\n    .dataframe thead th {\n        text-align: right;\n    }\n</style>\n<table border=\"1\" class=\"dataframe\">\n  <thead>\n    <tr style=\"text-align: right;\">\n      <th></th>\n      <th>Sensitive</th>\n      <th>Statelist merge</th>\n      <th>Species iNat Comply</th>\n      <th>Species iNat non-Comply</th>\n      <th>Duplicate Information</th>\n      <th>Updates</th>\n      <th>Additions</th>\n      <th>Not added updated</th>\n      <th>No Inat Status</th>\n      <th>Unknown to Inat</th>\n    </tr>\n  </thead>\n  <tbody>\n    <tr>\n      <th>0</th>\n      <td>3895</td>\n      <td>3895</td>\n      <td>3895</td>\n      <td>560</td>\n      <td>0</td>\n      <td>873</td>\n      <td>1897</td>\n      <td>105</td>\n      <td>3024</td>\n      <td>1127</td>\n    </tr>\n  </tbody>\n</table>\n</div>"
     },
     "execution_count": 26,
     "metadata": {},
     "output_type": "execute_result"
    }
   ],
   "source": [
    "# Stats\n",
    "numsensitive = len(alasensitivelist.index)\n",
    "# numconservation = len(conservationlist.index)\n",
    "numupdates  = len(updates.index)\n",
    "numadditions  = len(additions.index)\n",
    "numnoinatstatus = len(noinatstatus.index)\n",
    "numunknownToInat = len(unknownToInat.index)\n",
    "numnotaddedupdated = len(notaddedupdated.index)\n",
    "numnoncomply = len(noncomply.index)\n",
    "numcomply = len(statelist.index)\n",
    "numdupinfo = len(dupinformation.index)\n",
    "d = {'Sensitive': [numsensitive],\n",
    "    # 'Conservation': [numconservation],\n",
    "    'Statelist merge': [numfullstatelist],\n",
    "    'Species iNat Comply' : [numcomply],\n",
    "    'Species iNat non-Comply': [numnoncomply],\n",
    "    'Duplicate Information': [numdupinfo],\n",
    "    'Updates': [numupdates],\n",
    "    'Additions': [numadditions],\n",
    "    'Not added updated': [numnotaddedupdated],\n",
    "    'No Inat Status': [numnoinatstatus],\n",
    "    'Unknown to Inat': [numunknownToInat]}\n",
    "\n",
    "statsdf = pd.DataFrame(data=d)\n",
    "statsdf"
   ],
   "metadata": {
    "collapsed": false,
    "pycharm": {
     "name": "#%%\n"
    }
   }
  }
 ],
 "metadata": {
  "kernelspec": {
   "display_name": "Python 3",
   "language": "python",
   "name": "python3"
  },
  "language_info": {
   "codemirror_mode": {
    "name": "ipython",
    "version": 2
   },
   "file_extension": ".py",
   "mimetype": "text/x-python",
   "name": "python",
   "nbconvert_exporter": "python",
   "pygments_lexer": "ipython2",
   "version": "2.7.6"
  }
 },
 "nbformat": 4,
 "nbformat_minor": 0
}