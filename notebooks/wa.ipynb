{
 "cells": [
  {
   "cell_type": "markdown",
   "source": [
    "# iNaturalist status updates by state - WA\n",
    "\n",
    "Using the file produced in the collate-status-taxa.ipynb: `inat-aust-status-taxa.csv` (statuses joined to taxa names), generate lists to update iNaturalist statuses\n",
    "\n",
    "* Sensitive list: __[dr467](https://lists.ala.org.au/speciesListItem/list/dr467)__ (and [dr18406 in test](https://lists-test.ala.org.au/speciesListItem/list/dr18406))\n",
    "* Conservation list: __[dr2201](https://lists.ala.org.au/speciesListItem/list/dr2201)__ (and [dr2201 in test](https://lists-test.ala.org.au/speciesListItem/list/dr2201))\n",
    "\n",
    "## Prep - common to all states\n",
    "1. Read in the inaturalist statuses & filter out this state\n",
    "2. Read in the state conservation and sensitive lists\n",
    "3. Prep fields incl IUCN equivalent mappings and matching to iNat taxonomy  \n",
    "4. Merge and compare the state and inaturalist lists\n",
    "5. Create update/removals list\n",
    "6. Create additions list\n",
    "7. Save files\n",
    "\n",
    "## 1. Read in the inaturalist statuses & filter out WA\n"
   ],
   "metadata": {
    "collapsed": false,
    "pycharm": {
     "name": "#%% md\n"
    }
   }
  },
  {
   "cell_type": "code",
   "execution_count": 2,
   "metadata": {
    "collapsed": true,
    "pycharm": {
     "name": "#%%\n"
    },
    "ExecuteTime": {
     "end_time": "2024-01-20T04:07:41.772788Z",
     "start_time": "2024-01-20T04:07:41.579443Z"
    }
   },
   "outputs": [
    {
     "data": {
      "text/plain": "inat_status\nConservation Dependent                 5\nCritically Endangered                161\nEN                                     1\nEX                                     1\nEndangered                           161\nExtinct                               25\nMigratory                             92\nNT                                     3\nNot listed                             1\nOther Specially Protected              4\nP1                                    10\nP2                                    28\nP3                                    31\nP4                                    10\nPriority 1                             2\nPriority 1: Poorly-known species     535\nPriority 2: Poorly-known species     569\nPriority 3: Poorly-known species     707\nPriority 4: Rare, Near Threatened    332\nPriority Three                         1\nPriority Two                           1\nT                                      8\nVU                                     1\nVulnerable                           193\ncritically endangered                  2\nendangered                            91\npresumed extinct                       2\nvulnerable                            13\ndtype: int64"
     },
     "execution_count": 2,
     "metadata": {},
     "output_type": "execute_result"
    }
   ],
   "source": [
    "import pandas as pd\n",
    "import sys\n",
    "import os\n",
    "projectdir = os.path.dirname(os.getcwd()) + \"/\" # parent dir of cwd\n",
    "sourcedir = projectdir + \"data/in/\"\n",
    "sys.path.append(os.path.abspath(projectdir + \"notebooks/includes/\"))\n",
    "import list_functions  as lf\n",
    "\n",
    "# read in the statuses file\n",
    "taxastatus = pd.read_csv(sourcedir + \"inat-aust-status-taxa.csv\", encoding='UTF-8',na_filter=False,dtype=str)\n",
    "\n",
    "# filter out ACT entries\n",
    "def filter_state_statuses(stateregex: str, urlregex: str):\n",
    "    authoritydf = taxastatus['authority'].drop_duplicates().sort_values()\n",
    "    authoritydf = authoritydf[pd.Series(authoritydf).str.contains(stateregex)]\n",
    "    urldf = taxastatus['url'].drop_duplicates().sort_values()\n",
    "    urldf = urldf[pd.Series(urldf).str.contains(urlregex)]\n",
    "    placedisplaydf = taxastatus['place_display_name'].drop_duplicates().sort_values()\n",
    "    placedisplaydf = placedisplaydf[pd.Series(placedisplaydf).str.contains(stateregex)]\n",
    "    placedf = taxastatus['place_name'].drop_duplicates().sort_values()\n",
    "    placedf = placedf[pd.Series(placedf).str.contains(stateregex)]\n",
    "    # concat all and remove duplicates\n",
    "    statedf = pd.concat([taxastatus.apply(lambda row: row[taxastatus['place_display_name'].isin(placedisplaydf)]),\n",
    "                         taxastatus.apply(lambda row: row[taxastatus['place_name'].isin(placedf)]),\n",
    "                         taxastatus.apply(lambda row: row[taxastatus['url'].isin(urldf)]),\n",
    "                         taxastatus.apply(\n",
    "                             lambda row: row[taxastatus['authority'].isin(authoritydf)])]).drop_duplicates()\n",
    "    return statedf.sort_values(['taxon_id', 'user_id'])\n",
    "\n",
    "inatstatuses = filter_state_statuses(\" WA |WEST AUST|West Aust|WESTERN AUSTRALIA|Western Australia\", \".wa.gov.au\")\n",
    "inatstatuses = inatstatuses.add_prefix(\"inat_\")\n",
    "inatstatuses.groupby(['inat_status']).size()"
   ]
  },
  {
   "cell_type": "markdown",
   "source": [
    "### 3. State lists\n"
   ],
   "metadata": {
    "collapsed": false,
    "pycharm": {
     "name": "#%% md\n"
    }
   }
  },
  {
   "cell_type": "code",
   "execution_count": 14,
   "outputs": [],
   "source": [
    "# %%script echo skipping # comment this line to download dataset from lists.ala.org.au the web and save locally\n",
    "# dr18406 test, dr467 prod\n",
    "sensitivelist = lf.download_ala_specieslist(\"https://lists-test.ala.org.au/ws/speciesListItems/dr18406?max=10000&includeKVP=true\")\n",
    "sensitivelist = lf.kvp_to_columns(sensitivelist)\n",
    "sensitivelist.to_csv(sourcedir + \"state-lists/wa-ala-sensitive.csv\", index=False)\n",
    "\n",
    "conservationlist = lf.download_ala_specieslist(\"https://lists-test.ala.org.au/ws/speciesListItems/dr2201?max=10000&includeKVP=true\")\n",
    "conservationlist = lf.kvp_to_columns(conservationlist)\n",
    "conservationlist.to_csv(sourcedir + \"state-lists/wa-ala-conservation.csv\", index=False)\n"
   ],
   "metadata": {
    "collapsed": false,
    "pycharm": {
     "name": "#%%\n"
    },
    "ExecuteTime": {
     "end_time": "2024-01-22T07:10:38.814477Z",
     "start_time": "2024-01-22T07:10:14.953526Z"
    }
   }
  },
  {
   "cell_type": "code",
   "execution_count": 31,
   "outputs": [
    {
     "name": "stdout",
     "output_type": "stream",
     "text": [
      "Conservation list entries:4517\n",
      "Sensitive list entries:4517\n"
     ]
    },
    {
     "data": {
      "text/plain": "     state_id_conservation                             state_scientificName  \\\n0                  3677781                          Abildgaardia pachyptera   \n1                  3677168           Abutilon sp. Hamelin (A.M. Ashby 2196)   \n2                  3674446      Abutilon sp. Onslow (F. Smith s.n. 10/9/61)   \n3                  3677614  Abutilon sp. Pritzelianum (S. van Leeuwen 5095)   \n4                  3678483             Abutilon sp. Quobba (H. Demarz 3858)   \n...                    ...                                              ...   \n4512               3674910                             Zephyrarchaea mainae   \n4513               3676065                              Zephyrarchaea marki   \n4514               3675041                           Zephyrarchaea melindae   \n4515               3676991                            Zephyrarchaea robinsi   \n4516               3675021                             Zyzomys pedunculatus   \n\n                                state_lsid_conservation  \\\n0     https://id.biodiversity.org.au/name/apni/51389644   \n1      https://id.biodiversity.org.au/node/apni/2898729   \n2                                       ALA_DR2201_3101   \n3      https://id.biodiversity.org.au/node/apni/2905152   \n4      https://id.biodiversity.org.au/node/apni/2920532   \n...                                                 ...   \n4512  https://biodiversity.org.au/afd/taxa/61b8777b-...   \n4513  https://biodiversity.org.au/afd/taxa/c135a409-...   \n4514  https://biodiversity.org.au/afd/taxa/df8d4917-...   \n4515  https://biodiversity.org.au/afd/taxa/038e56d8-...   \n4516  https://biodiversity.org.au/afd/taxa/33ab483d-...   \n\n             state_status_conservation state_geoprivacy_conservation  \\\n0     Priority 1: Poorly-known species                          open   \n1     Priority 2: Poorly-known species                          open   \n2     Priority 3: Poorly-known species                          open   \n3     Priority 3: Poorly-known species                          open   \n4     Priority 2: Poorly-known species                          open   \n...                                ...                           ...   \n4512                        Vulnerable                          open   \n4513                        Vulnerable                          open   \n4514                        Vulnerable                          open   \n4515                        Vulnerable                          open   \n4516             Critically Endangered                          open   \n\n                           state_authority_conservation state_id_sensitive  \\\n0     WA Deparment of Biodiversity, Conservation and...            3680564   \n1     WA Deparment of Biodiversity, Conservation and...            3681471   \n2     WA Deparment of Biodiversity, Conservation and...            3682995   \n3     WA Deparment of Biodiversity, Conservation and...            3681444   \n4     WA Deparment of Biodiversity, Conservation and...            3680835   \n...                                                 ...                ...   \n4512  WA Deparment of Biodiversity, Conservation and...            3681166   \n4513  WA Deparment of Biodiversity, Conservation and...            3680450   \n4514  WA Deparment of Biodiversity, Conservation and...            3678900   \n4515  WA Deparment of Biodiversity, Conservation and...            3679768   \n4516  WA Deparment of Biodiversity, Conservation and...            3681489   \n\n                                   state_lsid_sensitive  \\\n0     https://id.biodiversity.org.au/name/apni/51389644   \n1      https://id.biodiversity.org.au/node/apni/2898729   \n2                                       ALA_DR2201_3101   \n3      https://id.biodiversity.org.au/node/apni/2905152   \n4      https://id.biodiversity.org.au/node/apni/2920532   \n...                                                 ...   \n4512  https://biodiversity.org.au/afd/taxa/61b8777b-...   \n4513  https://biodiversity.org.au/afd/taxa/c135a409-...   \n4514  https://biodiversity.org.au/afd/taxa/df8d4917-...   \n4515  https://biodiversity.org.au/afd/taxa/038e56d8-...   \n4516  https://biodiversity.org.au/afd/taxa/33ab483d-...   \n\n     state_geoprivacy_sensitive state_status_sensitive  \\\n0                      obscured              Sensitive   \n1                      obscured              Sensitive   \n2                      obscured              Sensitive   \n3                      obscured              Sensitive   \n4                      obscured              Sensitive   \n...                         ...                    ...   \n4512                   obscured              Sensitive   \n4513                   obscured              Sensitive   \n4514                   obscured              Sensitive   \n4515                   obscured              Sensitive   \n4516                   obscured              Sensitive   \n\n                              state_authority_sensitive  \\\n0     WA Deparment of Biodiversity, Conservation and...   \n1     WA Deparment of Biodiversity, Conservation and...   \n2     WA Deparment of Biodiversity, Conservation and...   \n3     WA Deparment of Biodiversity, Conservation and...   \n4     WA Deparment of Biodiversity, Conservation and...   \n...                                                 ...   \n4512  WA Deparment of Biodiversity, Conservation and...   \n4513  WA Deparment of Biodiversity, Conservation and...   \n4514  WA Deparment of Biodiversity, Conservation and...   \n4515  WA Deparment of Biodiversity, Conservation and...   \n4516  WA Deparment of Biodiversity, Conservation and...   \n\n                          state_status  \\\n0     Priority 1: Poorly-known species   \n1     Priority 2: Poorly-known species   \n2     Priority 3: Poorly-known species   \n3     Priority 3: Poorly-known species   \n4     Priority 2: Poorly-known species   \n...                                ...   \n4512                        Vulnerable   \n4513                        Vulnerable   \n4514                        Vulnerable   \n4515                        Vulnerable   \n4516             Critically Endangered   \n\n                                        state_authority state_geoprivacy  \n0     WA Deparment of Biodiversity, Conservation and...         obscured  \n1     WA Deparment of Biodiversity, Conservation and...         obscured  \n2     WA Deparment of Biodiversity, Conservation and...         obscured  \n3     WA Deparment of Biodiversity, Conservation and...         obscured  \n4     WA Deparment of Biodiversity, Conservation and...         obscured  \n...                                                 ...              ...  \n4512  WA Deparment of Biodiversity, Conservation and...         obscured  \n4513  WA Deparment of Biodiversity, Conservation and...         obscured  \n4514  WA Deparment of Biodiversity, Conservation and...         obscured  \n4515  WA Deparment of Biodiversity, Conservation and...         obscured  \n4516  WA Deparment of Biodiversity, Conservation and...         obscured  \n\n[4517 rows x 14 columns]",
      "text/html": "<div>\n<style scoped>\n    .dataframe tbody tr th:only-of-type {\n        vertical-align: middle;\n    }\n\n    .dataframe tbody tr th {\n        vertical-align: top;\n    }\n\n    .dataframe thead th {\n        text-align: right;\n    }\n</style>\n<table border=\"1\" class=\"dataframe\">\n  <thead>\n    <tr style=\"text-align: right;\">\n      <th></th>\n      <th>state_id_conservation</th>\n      <th>state_scientificName</th>\n      <th>state_lsid_conservation</th>\n      <th>state_status_conservation</th>\n      <th>state_geoprivacy_conservation</th>\n      <th>state_authority_conservation</th>\n      <th>state_id_sensitive</th>\n      <th>state_lsid_sensitive</th>\n      <th>state_geoprivacy_sensitive</th>\n      <th>state_status_sensitive</th>\n      <th>state_authority_sensitive</th>\n      <th>state_status</th>\n      <th>state_authority</th>\n      <th>state_geoprivacy</th>\n    </tr>\n  </thead>\n  <tbody>\n    <tr>\n      <th>0</th>\n      <td>3677781</td>\n      <td>Abildgaardia pachyptera</td>\n      <td>https://id.biodiversity.org.au/name/apni/51389644</td>\n      <td>Priority 1: Poorly-known species</td>\n      <td>open</td>\n      <td>WA Deparment of Biodiversity, Conservation and...</td>\n      <td>3680564</td>\n      <td>https://id.biodiversity.org.au/name/apni/51389644</td>\n      <td>obscured</td>\n      <td>Sensitive</td>\n      <td>WA Deparment of Biodiversity, Conservation and...</td>\n      <td>Priority 1: Poorly-known species</td>\n      <td>WA Deparment of Biodiversity, Conservation and...</td>\n      <td>obscured</td>\n    </tr>\n    <tr>\n      <th>1</th>\n      <td>3677168</td>\n      <td>Abutilon sp. Hamelin (A.M. Ashby 2196)</td>\n      <td>https://id.biodiversity.org.au/node/apni/2898729</td>\n      <td>Priority 2: Poorly-known species</td>\n      <td>open</td>\n      <td>WA Deparment of Biodiversity, Conservation and...</td>\n      <td>3681471</td>\n      <td>https://id.biodiversity.org.au/node/apni/2898729</td>\n      <td>obscured</td>\n      <td>Sensitive</td>\n      <td>WA Deparment of Biodiversity, Conservation and...</td>\n      <td>Priority 2: Poorly-known species</td>\n      <td>WA Deparment of Biodiversity, Conservation and...</td>\n      <td>obscured</td>\n    </tr>\n    <tr>\n      <th>2</th>\n      <td>3674446</td>\n      <td>Abutilon sp. Onslow (F. Smith s.n. 10/9/61)</td>\n      <td>ALA_DR2201_3101</td>\n      <td>Priority 3: Poorly-known species</td>\n      <td>open</td>\n      <td>WA Deparment of Biodiversity, Conservation and...</td>\n      <td>3682995</td>\n      <td>ALA_DR2201_3101</td>\n      <td>obscured</td>\n      <td>Sensitive</td>\n      <td>WA Deparment of Biodiversity, Conservation and...</td>\n      <td>Priority 3: Poorly-known species</td>\n      <td>WA Deparment of Biodiversity, Conservation and...</td>\n      <td>obscured</td>\n    </tr>\n    <tr>\n      <th>3</th>\n      <td>3677614</td>\n      <td>Abutilon sp. Pritzelianum (S. van Leeuwen 5095)</td>\n      <td>https://id.biodiversity.org.au/node/apni/2905152</td>\n      <td>Priority 3: Poorly-known species</td>\n      <td>open</td>\n      <td>WA Deparment of Biodiversity, Conservation and...</td>\n      <td>3681444</td>\n      <td>https://id.biodiversity.org.au/node/apni/2905152</td>\n      <td>obscured</td>\n      <td>Sensitive</td>\n      <td>WA Deparment of Biodiversity, Conservation and...</td>\n      <td>Priority 3: Poorly-known species</td>\n      <td>WA Deparment of Biodiversity, Conservation and...</td>\n      <td>obscured</td>\n    </tr>\n    <tr>\n      <th>4</th>\n      <td>3678483</td>\n      <td>Abutilon sp. Quobba (H. Demarz 3858)</td>\n      <td>https://id.biodiversity.org.au/node/apni/2920532</td>\n      <td>Priority 2: Poorly-known species</td>\n      <td>open</td>\n      <td>WA Deparment of Biodiversity, Conservation and...</td>\n      <td>3680835</td>\n      <td>https://id.biodiversity.org.au/node/apni/2920532</td>\n      <td>obscured</td>\n      <td>Sensitive</td>\n      <td>WA Deparment of Biodiversity, Conservation and...</td>\n      <td>Priority 2: Poorly-known species</td>\n      <td>WA Deparment of Biodiversity, Conservation and...</td>\n      <td>obscured</td>\n    </tr>\n    <tr>\n      <th>...</th>\n      <td>...</td>\n      <td>...</td>\n      <td>...</td>\n      <td>...</td>\n      <td>...</td>\n      <td>...</td>\n      <td>...</td>\n      <td>...</td>\n      <td>...</td>\n      <td>...</td>\n      <td>...</td>\n      <td>...</td>\n      <td>...</td>\n      <td>...</td>\n    </tr>\n    <tr>\n      <th>4512</th>\n      <td>3674910</td>\n      <td>Zephyrarchaea mainae</td>\n      <td>https://biodiversity.org.au/afd/taxa/61b8777b-...</td>\n      <td>Vulnerable</td>\n      <td>open</td>\n      <td>WA Deparment of Biodiversity, Conservation and...</td>\n      <td>3681166</td>\n      <td>https://biodiversity.org.au/afd/taxa/61b8777b-...</td>\n      <td>obscured</td>\n      <td>Sensitive</td>\n      <td>WA Deparment of Biodiversity, Conservation and...</td>\n      <td>Vulnerable</td>\n      <td>WA Deparment of Biodiversity, Conservation and...</td>\n      <td>obscured</td>\n    </tr>\n    <tr>\n      <th>4513</th>\n      <td>3676065</td>\n      <td>Zephyrarchaea marki</td>\n      <td>https://biodiversity.org.au/afd/taxa/c135a409-...</td>\n      <td>Vulnerable</td>\n      <td>open</td>\n      <td>WA Deparment of Biodiversity, Conservation and...</td>\n      <td>3680450</td>\n      <td>https://biodiversity.org.au/afd/taxa/c135a409-...</td>\n      <td>obscured</td>\n      <td>Sensitive</td>\n      <td>WA Deparment of Biodiversity, Conservation and...</td>\n      <td>Vulnerable</td>\n      <td>WA Deparment of Biodiversity, Conservation and...</td>\n      <td>obscured</td>\n    </tr>\n    <tr>\n      <th>4514</th>\n      <td>3675041</td>\n      <td>Zephyrarchaea melindae</td>\n      <td>https://biodiversity.org.au/afd/taxa/df8d4917-...</td>\n      <td>Vulnerable</td>\n      <td>open</td>\n      <td>WA Deparment of Biodiversity, Conservation and...</td>\n      <td>3678900</td>\n      <td>https://biodiversity.org.au/afd/taxa/df8d4917-...</td>\n      <td>obscured</td>\n      <td>Sensitive</td>\n      <td>WA Deparment of Biodiversity, Conservation and...</td>\n      <td>Vulnerable</td>\n      <td>WA Deparment of Biodiversity, Conservation and...</td>\n      <td>obscured</td>\n    </tr>\n    <tr>\n      <th>4515</th>\n      <td>3676991</td>\n      <td>Zephyrarchaea robinsi</td>\n      <td>https://biodiversity.org.au/afd/taxa/038e56d8-...</td>\n      <td>Vulnerable</td>\n      <td>open</td>\n      <td>WA Deparment of Biodiversity, Conservation and...</td>\n      <td>3679768</td>\n      <td>https://biodiversity.org.au/afd/taxa/038e56d8-...</td>\n      <td>obscured</td>\n      <td>Sensitive</td>\n      <td>WA Deparment of Biodiversity, Conservation and...</td>\n      <td>Vulnerable</td>\n      <td>WA Deparment of Biodiversity, Conservation and...</td>\n      <td>obscured</td>\n    </tr>\n    <tr>\n      <th>4516</th>\n      <td>3675021</td>\n      <td>Zyzomys pedunculatus</td>\n      <td>https://biodiversity.org.au/afd/taxa/33ab483d-...</td>\n      <td>Critically Endangered</td>\n      <td>open</td>\n      <td>WA Deparment of Biodiversity, Conservation and...</td>\n      <td>3681489</td>\n      <td>https://biodiversity.org.au/afd/taxa/33ab483d-...</td>\n      <td>obscured</td>\n      <td>Sensitive</td>\n      <td>WA Deparment of Biodiversity, Conservation and...</td>\n      <td>Critically Endangered</td>\n      <td>WA Deparment of Biodiversity, Conservation and...</td>\n      <td>obscured</td>\n    </tr>\n  </tbody>\n</table>\n<p>4517 rows × 14 columns</p>\n</div>"
     },
     "execution_count": 31,
     "metadata": {},
     "output_type": "execute_result"
    }
   ],
   "source": [
    "# Read sensitive list data\n",
    "sensitivelist = pd.read_csv(sourcedir + \"state-lists/wa-ala-sensitive.csv\", dtype=str)\n",
    "sensitivelist['geoprivacy'] = 'obscured'\n",
    "sensitivelist['status'] = 'Sensitive'\n",
    "sensitivelist['authority'] = \"WA Deparment of Biodiversity, Conservation and Attractions\"\n",
    "conservationlist = pd.read_csv(sourcedir + \"state-lists/wa-ala-conservation.csv\", dtype=str)\n",
    "conservationlist['geoprivacy'] = 'open'\n",
    "conservationlist['authority'] = \"WA Deparment of Biodiversity, Conservation and Attractions\"\n",
    "statelist = conservationlist[['id','name','lsid','status','geoprivacy','authority']].merge(sensitivelist[['id','name','lsid','geoprivacy','status','authority']], how=\"outer\",on='name',suffixes=('_conservation', '_sensitive'))\n",
    "statelist['status'] = statelist['status_conservation'].fillna(statelist['status_sensitive'])\n",
    "statelist['authority'] = statelist['authority_conservation'].fillna(statelist['authority_sensitive'])\n",
    "statelist['geoprivacy'] = statelist['geoprivacy_sensitive'].fillna(statelist['geoprivacy_conservation'])\n",
    "statelist = statelist.rename(columns = {'name':'scientificName'})\n",
    "statelist = statelist.add_prefix(\"state_\")\n",
    "print(\"Conservation list entries:\" + str(len(conservationlist)))\n",
    "print(\"Sensitive list entries:\" + str(len(sensitivelist)))\n",
    "statelist\n"
   ],
   "metadata": {
    "collapsed": false,
    "ExecuteTime": {
     "end_time": "2024-01-22T08:01:18.157988Z",
     "start_time": "2024-01-22T08:01:18.114094Z"
    }
   }
  },
  {
   "cell_type": "code",
   "execution_count": 32,
   "outputs": [
    {
     "data": {
      "text/plain": "state_status\nConservation Dependent                  7\nCritically Endangered                 228\nEndangered                            209\nExtinct                                38\nMigratory                              94\nOther Specially Protected               4\nPriority 1: Poorly-known species     1193\nPriority 2: Poorly-known species      985\nPriority 3: Poorly-known species     1085\nPriority 4: Rare, Near Threatened     418\nSensitive                               1\nVulnerable                            255\ndtype: int64"
     },
     "execution_count": 32,
     "metadata": {},
     "output_type": "execute_result"
    }
   ],
   "source": [
    "statelist.groupby('state_status',dropna=False).size()"
   ],
   "metadata": {
    "collapsed": false,
    "ExecuteTime": {
     "end_time": "2024-01-22T08:01:22.255285Z",
     "start_time": "2024-01-22T08:01:22.244335Z"
    }
   }
  },
  {
   "cell_type": "markdown",
   "source": [
    "### 4. Equivalent IUCN statuses\n",
    "The above list should have a mapping below"
   ],
   "metadata": {
    "collapsed": false,
    "pycharm": {
     "name": "#%% md\n"
    }
   }
  },
  {
   "cell_type": "code",
   "execution_count": 33,
   "outputs": [
    {
     "data": {
      "text/plain": "state_status\nConservation Dependent                  7\nCritically Endangered                 228\nEndangered                            209\nExtinct                                38\nMigratory                              94\nOther Specially Protected               4\nPriority 1: Poorly-known species     1193\nPriority 2: Poorly-known species      985\nPriority 3: Poorly-known species     1085\nPriority 4: Rare, Near Threatened     418\nSensitive                               1\nVulnerable                            255\nName: state_status, dtype: int64"
     },
     "execution_count": 33,
     "metadata": {},
     "output_type": "execute_result"
    }
   ],
   "source": [
    "# 'migratory':'Vulnerable',priority 3: poorly-known species':'Data Deficient',\n",
    "iucnStatusMappings = {\n",
    "    'Data Deficient':'5',\n",
    "    'Priority 1: Poorly-known species':'5',\n",
    "    'Priority 2: Poorly-known species':'5',\n",
    "    'Priority 3: Poorly-known species':'5',\n",
    "    'Least concern':'10',\n",
    "    'Special least concern':'10',\n",
    "    'Near Threatened':'20',\n",
    "    'Priority 4: Rare, Near Threatened':'20',\n",
    "    'Sensitive':'30',\n",
    "    'Rare':'30',\n",
    "    'Vulnerable':'30',\n",
    "    'Migratory':'30',\n",
    "    'Conservation Dependent':'30',\n",
    "    'Other Specially Protected':'30',\n",
    "    'Endangered':'40',\n",
    "    'Critically Endangered':'50',\n",
    "    'Extinct':'70',\n",
    "    'Extinct in the wild':'70'\n",
    "}\n",
    "statelist.groupby(['state_status'])['state_status'].count()"
   ],
   "metadata": {
    "collapsed": false,
    "pycharm": {
     "name": "#%%\n"
    },
    "ExecuteTime": {
     "end_time": "2024-01-22T08:01:25.442238Z",
     "start_time": "2024-01-22T08:01:25.431541Z"
    }
   }
  },
  {
   "cell_type": "code",
   "execution_count": 22,
   "outputs": [
    {
     "ename": "KeyError",
     "evalue": "'state_iucn'",
     "output_type": "error",
     "traceback": [
      "\u001B[0;31m---------------------------------------------------------------------------\u001B[0m",
      "\u001B[0;31mKeyError\u001B[0m                                  Traceback (most recent call last)",
      "Cell \u001B[0;32mIn[22], line 1\u001B[0m\n\u001B[0;32m----> 1\u001B[0m \u001B[43mstatelist\u001B[49m\u001B[38;5;241;43m.\u001B[39;49m\u001B[43mgroupby\u001B[49m\u001B[43m(\u001B[49m\u001B[43m[\u001B[49m\u001B[38;5;124;43m'\u001B[39;49m\u001B[38;5;124;43mstate_iucn\u001B[39;49m\u001B[38;5;124;43m'\u001B[39;49m\u001B[43m]\u001B[49m\u001B[43m,\u001B[49m\u001B[43mdropna\u001B[49m\u001B[38;5;241;43m=\u001B[39;49m\u001B[38;5;28;43;01mFalse\u001B[39;49;00m\u001B[43m)\u001B[49m[\u001B[38;5;124m'\u001B[39m\u001B[38;5;124mstate_iucn\u001B[39m\u001B[38;5;124m'\u001B[39m]\u001B[38;5;241m.\u001B[39mcount()\n",
      "File \u001B[0;32m~/IdeaProjects/inaturalist-statuses/venv/lib/python3.11/site-packages/pandas/core/frame.py:8869\u001B[0m, in \u001B[0;36mDataFrame.groupby\u001B[0;34m(self, by, axis, level, as_index, sort, group_keys, observed, dropna)\u001B[0m\n\u001B[1;32m   8866\u001B[0m \u001B[38;5;28;01mif\u001B[39;00m level \u001B[38;5;129;01mis\u001B[39;00m \u001B[38;5;28;01mNone\u001B[39;00m \u001B[38;5;129;01mand\u001B[39;00m by \u001B[38;5;129;01mis\u001B[39;00m \u001B[38;5;28;01mNone\u001B[39;00m:\n\u001B[1;32m   8867\u001B[0m     \u001B[38;5;28;01mraise\u001B[39;00m \u001B[38;5;167;01mTypeError\u001B[39;00m(\u001B[38;5;124m\"\u001B[39m\u001B[38;5;124mYou have to supply one of \u001B[39m\u001B[38;5;124m'\u001B[39m\u001B[38;5;124mby\u001B[39m\u001B[38;5;124m'\u001B[39m\u001B[38;5;124m and \u001B[39m\u001B[38;5;124m'\u001B[39m\u001B[38;5;124mlevel\u001B[39m\u001B[38;5;124m'\u001B[39m\u001B[38;5;124m\"\u001B[39m)\n\u001B[0;32m-> 8869\u001B[0m \u001B[38;5;28;01mreturn\u001B[39;00m \u001B[43mDataFrameGroupBy\u001B[49m\u001B[43m(\u001B[49m\n\u001B[1;32m   8870\u001B[0m \u001B[43m    \u001B[49m\u001B[43mobj\u001B[49m\u001B[38;5;241;43m=\u001B[39;49m\u001B[38;5;28;43mself\u001B[39;49m\u001B[43m,\u001B[49m\n\u001B[1;32m   8871\u001B[0m \u001B[43m    \u001B[49m\u001B[43mkeys\u001B[49m\u001B[38;5;241;43m=\u001B[39;49m\u001B[43mby\u001B[49m\u001B[43m,\u001B[49m\n\u001B[1;32m   8872\u001B[0m \u001B[43m    \u001B[49m\u001B[43maxis\u001B[49m\u001B[38;5;241;43m=\u001B[39;49m\u001B[43maxis\u001B[49m\u001B[43m,\u001B[49m\n\u001B[1;32m   8873\u001B[0m \u001B[43m    \u001B[49m\u001B[43mlevel\u001B[49m\u001B[38;5;241;43m=\u001B[39;49m\u001B[43mlevel\u001B[49m\u001B[43m,\u001B[49m\n\u001B[1;32m   8874\u001B[0m \u001B[43m    \u001B[49m\u001B[43mas_index\u001B[49m\u001B[38;5;241;43m=\u001B[39;49m\u001B[43mas_index\u001B[49m\u001B[43m,\u001B[49m\n\u001B[1;32m   8875\u001B[0m \u001B[43m    \u001B[49m\u001B[43msort\u001B[49m\u001B[38;5;241;43m=\u001B[39;49m\u001B[43msort\u001B[49m\u001B[43m,\u001B[49m\n\u001B[1;32m   8876\u001B[0m \u001B[43m    \u001B[49m\u001B[43mgroup_keys\u001B[49m\u001B[38;5;241;43m=\u001B[39;49m\u001B[43mgroup_keys\u001B[49m\u001B[43m,\u001B[49m\n\u001B[1;32m   8877\u001B[0m \u001B[43m    \u001B[49m\u001B[43mobserved\u001B[49m\u001B[38;5;241;43m=\u001B[39;49m\u001B[43mobserved\u001B[49m\u001B[43m,\u001B[49m\n\u001B[1;32m   8878\u001B[0m \u001B[43m    \u001B[49m\u001B[43mdropna\u001B[49m\u001B[38;5;241;43m=\u001B[39;49m\u001B[43mdropna\u001B[49m\u001B[43m,\u001B[49m\n\u001B[1;32m   8879\u001B[0m \u001B[43m\u001B[49m\u001B[43m)\u001B[49m\n",
      "File \u001B[0;32m~/IdeaProjects/inaturalist-statuses/venv/lib/python3.11/site-packages/pandas/core/groupby/groupby.py:1278\u001B[0m, in \u001B[0;36mGroupBy.__init__\u001B[0;34m(self, obj, keys, axis, level, grouper, exclusions, selection, as_index, sort, group_keys, observed, dropna)\u001B[0m\n\u001B[1;32m   1275\u001B[0m \u001B[38;5;28mself\u001B[39m\u001B[38;5;241m.\u001B[39mdropna \u001B[38;5;241m=\u001B[39m dropna\n\u001B[1;32m   1277\u001B[0m \u001B[38;5;28;01mif\u001B[39;00m grouper \u001B[38;5;129;01mis\u001B[39;00m \u001B[38;5;28;01mNone\u001B[39;00m:\n\u001B[0;32m-> 1278\u001B[0m     grouper, exclusions, obj \u001B[38;5;241m=\u001B[39m \u001B[43mget_grouper\u001B[49m\u001B[43m(\u001B[49m\n\u001B[1;32m   1279\u001B[0m \u001B[43m        \u001B[49m\u001B[43mobj\u001B[49m\u001B[43m,\u001B[49m\n\u001B[1;32m   1280\u001B[0m \u001B[43m        \u001B[49m\u001B[43mkeys\u001B[49m\u001B[43m,\u001B[49m\n\u001B[1;32m   1281\u001B[0m \u001B[43m        \u001B[49m\u001B[43maxis\u001B[49m\u001B[38;5;241;43m=\u001B[39;49m\u001B[43maxis\u001B[49m\u001B[43m,\u001B[49m\n\u001B[1;32m   1282\u001B[0m \u001B[43m        \u001B[49m\u001B[43mlevel\u001B[49m\u001B[38;5;241;43m=\u001B[39;49m\u001B[43mlevel\u001B[49m\u001B[43m,\u001B[49m\n\u001B[1;32m   1283\u001B[0m \u001B[43m        \u001B[49m\u001B[43msort\u001B[49m\u001B[38;5;241;43m=\u001B[39;49m\u001B[43msort\u001B[49m\u001B[43m,\u001B[49m\n\u001B[1;32m   1284\u001B[0m \u001B[43m        \u001B[49m\u001B[43mobserved\u001B[49m\u001B[38;5;241;43m=\u001B[39;49m\u001B[38;5;28;43;01mFalse\u001B[39;49;00m\u001B[43m \u001B[49m\u001B[38;5;28;43;01mif\u001B[39;49;00m\u001B[43m \u001B[49m\u001B[43mobserved\u001B[49m\u001B[43m \u001B[49m\u001B[38;5;129;43;01mis\u001B[39;49;00m\u001B[43m \u001B[49m\u001B[43mlib\u001B[49m\u001B[38;5;241;43m.\u001B[39;49m\u001B[43mno_default\u001B[49m\u001B[43m \u001B[49m\u001B[38;5;28;43;01melse\u001B[39;49;00m\u001B[43m \u001B[49m\u001B[43mobserved\u001B[49m\u001B[43m,\u001B[49m\n\u001B[1;32m   1285\u001B[0m \u001B[43m        \u001B[49m\u001B[43mdropna\u001B[49m\u001B[38;5;241;43m=\u001B[39;49m\u001B[38;5;28;43mself\u001B[39;49m\u001B[38;5;241;43m.\u001B[39;49m\u001B[43mdropna\u001B[49m\u001B[43m,\u001B[49m\n\u001B[1;32m   1286\u001B[0m \u001B[43m    \u001B[49m\u001B[43m)\u001B[49m\n\u001B[1;32m   1288\u001B[0m \u001B[38;5;28;01mif\u001B[39;00m observed \u001B[38;5;129;01mis\u001B[39;00m lib\u001B[38;5;241m.\u001B[39mno_default:\n\u001B[1;32m   1289\u001B[0m     \u001B[38;5;28;01mif\u001B[39;00m \u001B[38;5;28many\u001B[39m(ping\u001B[38;5;241m.\u001B[39m_passed_categorical \u001B[38;5;28;01mfor\u001B[39;00m ping \u001B[38;5;129;01min\u001B[39;00m grouper\u001B[38;5;241m.\u001B[39mgroupings):\n",
      "File \u001B[0;32m~/IdeaProjects/inaturalist-statuses/venv/lib/python3.11/site-packages/pandas/core/groupby/grouper.py:1009\u001B[0m, in \u001B[0;36mget_grouper\u001B[0;34m(obj, key, axis, level, sort, observed, validate, dropna)\u001B[0m\n\u001B[1;32m   1007\u001B[0m         in_axis, level, gpr \u001B[38;5;241m=\u001B[39m \u001B[38;5;28;01mFalse\u001B[39;00m, gpr, \u001B[38;5;28;01mNone\u001B[39;00m\n\u001B[1;32m   1008\u001B[0m     \u001B[38;5;28;01melse\u001B[39;00m:\n\u001B[0;32m-> 1009\u001B[0m         \u001B[38;5;28;01mraise\u001B[39;00m \u001B[38;5;167;01mKeyError\u001B[39;00m(gpr)\n\u001B[1;32m   1010\u001B[0m \u001B[38;5;28;01melif\u001B[39;00m \u001B[38;5;28misinstance\u001B[39m(gpr, Grouper) \u001B[38;5;129;01mand\u001B[39;00m gpr\u001B[38;5;241m.\u001B[39mkey \u001B[38;5;129;01mis\u001B[39;00m \u001B[38;5;129;01mnot\u001B[39;00m \u001B[38;5;28;01mNone\u001B[39;00m:\n\u001B[1;32m   1011\u001B[0m     \u001B[38;5;66;03m# Add key to exclusions\u001B[39;00m\n\u001B[1;32m   1012\u001B[0m     exclusions\u001B[38;5;241m.\u001B[39madd(gpr\u001B[38;5;241m.\u001B[39mkey)\n",
      "\u001B[0;31mKeyError\u001B[0m: 'state_iucn'"
     ]
    }
   ],
   "source": [
    "#statelist.groupby(['state_iucn'],dropna=False)['state_iucn'].count()"
   ],
   "metadata": {
    "collapsed": false,
    "ExecuteTime": {
     "end_time": "2024-01-22T07:55:32.384575Z",
     "start_time": "2024-01-22T07:55:32.355755Z"
    }
   }
  },
  {
   "cell_type": "markdown",
   "source": [
    "### 5. Determine best place ID to use"
   ],
   "metadata": {
    "collapsed": false,
    "pycharm": {
     "name": "#%% md\n"
    }
   }
  },
  {
   "cell_type": "code",
   "execution_count": 34,
   "outputs": [
    {
     "data": {
      "text/plain": "inat_place_id  inat_place_name    inat_place_display_name\n                                                                4\n6827           Western Australia  Western Australia, AU      2986\nName: inat_place_id, dtype: int64"
     },
     "execution_count": 34,
     "metadata": {},
     "output_type": "execute_result"
    }
   ],
   "source": [
    "inatstatuses.groupby(['inat_place_id','inat_place_name','inat_place_display_name'])['inat_place_id'].count()\n",
    "# looks like 6827 - note for extract\n"
   ],
   "metadata": {
    "collapsed": false,
    "pycharm": {
     "name": "#%%\n"
    },
    "ExecuteTime": {
     "end_time": "2024-01-22T08:01:39.981811Z",
     "start_time": "2024-01-22T08:01:39.977471Z"
    }
   }
  },
  {
   "cell_type": "markdown",
   "source": [
    "## Merge iNaturalist statuses with State lists on scientificName\n"
   ],
   "metadata": {
    "collapsed": false,
    "pycharm": {
     "name": "#%% md\n"
    }
   }
  },
  {
   "cell_type": "code",
   "execution_count": 35,
   "outputs": [
    {
     "data": {
      "text/plain": "                                 state_scientificName  \\\n0                             Abildgaardia pachyptera   \n1              Abutilon sp. Hamelin (A.M. Ashby 2196)   \n2         Abutilon sp. Onslow (F. Smith s.n. 10/9/61)   \n3     Abutilon sp. Pritzelianum (S. van Leeuwen 5095)   \n4                Abutilon sp. Quobba (H. Demarz 3858)   \n...                                               ...   \n4512                             Zephyrarchaea mainae   \n4513                              Zephyrarchaea marki   \n4514                           Zephyrarchaea melindae   \n4515                            Zephyrarchaea robinsi   \n4516                             Zyzomys pedunculatus   \n\n                          state_status state_geoprivacy  \\\n0     Priority 1: Poorly-known species         obscured   \n1     Priority 2: Poorly-known species         obscured   \n2     Priority 3: Poorly-known species         obscured   \n3     Priority 3: Poorly-known species         obscured   \n4     Priority 2: Poorly-known species         obscured   \n...                                ...              ...   \n4512                        Vulnerable         obscured   \n4513                        Vulnerable         obscured   \n4514                        Vulnerable         obscured   \n4515                        Vulnerable         obscured   \n4516             Critically Endangered         obscured   \n\n                                state_lsid_conservation  \\\n0     https://id.biodiversity.org.au/name/apni/51389644   \n1      https://id.biodiversity.org.au/node/apni/2898729   \n2                                       ALA_DR2201_3101   \n3      https://id.biodiversity.org.au/node/apni/2905152   \n4      https://id.biodiversity.org.au/node/apni/2920532   \n...                                                 ...   \n4512  https://biodiversity.org.au/afd/taxa/61b8777b-...   \n4513  https://biodiversity.org.au/afd/taxa/c135a409-...   \n4514  https://biodiversity.org.au/afd/taxa/df8d4917-...   \n4515  https://biodiversity.org.au/afd/taxa/038e56d8-...   \n4516  https://biodiversity.org.au/afd/taxa/33ab483d-...   \n\n                                   state_lsid_sensitive  \\\n0     https://id.biodiversity.org.au/name/apni/51389644   \n1      https://id.biodiversity.org.au/node/apni/2898729   \n2                                       ALA_DR2201_3101   \n3      https://id.biodiversity.org.au/node/apni/2905152   \n4      https://id.biodiversity.org.au/node/apni/2920532   \n...                                                 ...   \n4512  https://biodiversity.org.au/afd/taxa/61b8777b-...   \n4513  https://biodiversity.org.au/afd/taxa/c135a409-...   \n4514  https://biodiversity.org.au/afd/taxa/df8d4917-...   \n4515  https://biodiversity.org.au/afd/taxa/038e56d8-...   \n4516  https://biodiversity.org.au/afd/taxa/33ab483d-...   \n\n                                        state_authority inat_taxon_id  \\\n0     WA Deparment of Biodiversity, Conservation and...           NaN   \n1     WA Deparment of Biodiversity, Conservation and...           NaN   \n2     WA Deparment of Biodiversity, Conservation and...           NaN   \n3     WA Deparment of Biodiversity, Conservation and...           NaN   \n4     WA Deparment of Biodiversity, Conservation and...           NaN   \n...                                                 ...           ...   \n4512  WA Deparment of Biodiversity, Conservation and...        828663   \n4513  WA Deparment of Biodiversity, Conservation and...        828664   \n4514  WA Deparment of Biodiversity, Conservation and...        828667   \n4515  WA Deparment of Biodiversity, Conservation and...        828668   \n4516  WA Deparment of Biodiversity, Conservation and...         45374   \n\n             inat_taxon_name inat_rank inat_observations_count inat_is_active  \n0                        NaN       NaN                     NaN            NaN  \n1                        NaN       NaN                     NaN            NaN  \n2                        NaN       NaN                     NaN            NaN  \n3                        NaN       NaN                     NaN            NaN  \n4                        NaN       NaN                     NaN            NaN  \n...                      ...       ...                     ...            ...  \n4512    Zephyrarchaea mainae   species                       0              t  \n4513     Zephyrarchaea marki   species                       0              t  \n4514  Zephyrarchaea melindae   species                       0              t  \n4515   Zephyrarchaea robinsi   species                       0              t  \n4516    Zyzomys pedunculatus   species                       0              t  \n\n[4517 rows x 11 columns]",
      "text/html": "<div>\n<style scoped>\n    .dataframe tbody tr th:only-of-type {\n        vertical-align: middle;\n    }\n\n    .dataframe tbody tr th {\n        vertical-align: top;\n    }\n\n    .dataframe thead th {\n        text-align: right;\n    }\n</style>\n<table border=\"1\" class=\"dataframe\">\n  <thead>\n    <tr style=\"text-align: right;\">\n      <th></th>\n      <th>state_scientificName</th>\n      <th>state_status</th>\n      <th>state_geoprivacy</th>\n      <th>state_lsid_conservation</th>\n      <th>state_lsid_sensitive</th>\n      <th>state_authority</th>\n      <th>inat_taxon_id</th>\n      <th>inat_taxon_name</th>\n      <th>inat_rank</th>\n      <th>inat_observations_count</th>\n      <th>inat_is_active</th>\n    </tr>\n  </thead>\n  <tbody>\n    <tr>\n      <th>0</th>\n      <td>Abildgaardia pachyptera</td>\n      <td>Priority 1: Poorly-known species</td>\n      <td>obscured</td>\n      <td>https://id.biodiversity.org.au/name/apni/51389644</td>\n      <td>https://id.biodiversity.org.au/name/apni/51389644</td>\n      <td>WA Deparment of Biodiversity, Conservation and...</td>\n      <td>NaN</td>\n      <td>NaN</td>\n      <td>NaN</td>\n      <td>NaN</td>\n      <td>NaN</td>\n    </tr>\n    <tr>\n      <th>1</th>\n      <td>Abutilon sp. Hamelin (A.M. Ashby 2196)</td>\n      <td>Priority 2: Poorly-known species</td>\n      <td>obscured</td>\n      <td>https://id.biodiversity.org.au/node/apni/2898729</td>\n      <td>https://id.biodiversity.org.au/node/apni/2898729</td>\n      <td>WA Deparment of Biodiversity, Conservation and...</td>\n      <td>NaN</td>\n      <td>NaN</td>\n      <td>NaN</td>\n      <td>NaN</td>\n      <td>NaN</td>\n    </tr>\n    <tr>\n      <th>2</th>\n      <td>Abutilon sp. Onslow (F. Smith s.n. 10/9/61)</td>\n      <td>Priority 3: Poorly-known species</td>\n      <td>obscured</td>\n      <td>ALA_DR2201_3101</td>\n      <td>ALA_DR2201_3101</td>\n      <td>WA Deparment of Biodiversity, Conservation and...</td>\n      <td>NaN</td>\n      <td>NaN</td>\n      <td>NaN</td>\n      <td>NaN</td>\n      <td>NaN</td>\n    </tr>\n    <tr>\n      <th>3</th>\n      <td>Abutilon sp. Pritzelianum (S. van Leeuwen 5095)</td>\n      <td>Priority 3: Poorly-known species</td>\n      <td>obscured</td>\n      <td>https://id.biodiversity.org.au/node/apni/2905152</td>\n      <td>https://id.biodiversity.org.au/node/apni/2905152</td>\n      <td>WA Deparment of Biodiversity, Conservation and...</td>\n      <td>NaN</td>\n      <td>NaN</td>\n      <td>NaN</td>\n      <td>NaN</td>\n      <td>NaN</td>\n    </tr>\n    <tr>\n      <th>4</th>\n      <td>Abutilon sp. Quobba (H. Demarz 3858)</td>\n      <td>Priority 2: Poorly-known species</td>\n      <td>obscured</td>\n      <td>https://id.biodiversity.org.au/node/apni/2920532</td>\n      <td>https://id.biodiversity.org.au/node/apni/2920532</td>\n      <td>WA Deparment of Biodiversity, Conservation and...</td>\n      <td>NaN</td>\n      <td>NaN</td>\n      <td>NaN</td>\n      <td>NaN</td>\n      <td>NaN</td>\n    </tr>\n    <tr>\n      <th>...</th>\n      <td>...</td>\n      <td>...</td>\n      <td>...</td>\n      <td>...</td>\n      <td>...</td>\n      <td>...</td>\n      <td>...</td>\n      <td>...</td>\n      <td>...</td>\n      <td>...</td>\n      <td>...</td>\n    </tr>\n    <tr>\n      <th>4512</th>\n      <td>Zephyrarchaea mainae</td>\n      <td>Vulnerable</td>\n      <td>obscured</td>\n      <td>https://biodiversity.org.au/afd/taxa/61b8777b-...</td>\n      <td>https://biodiversity.org.au/afd/taxa/61b8777b-...</td>\n      <td>WA Deparment of Biodiversity, Conservation and...</td>\n      <td>828663</td>\n      <td>Zephyrarchaea mainae</td>\n      <td>species</td>\n      <td>0</td>\n      <td>t</td>\n    </tr>\n    <tr>\n      <th>4513</th>\n      <td>Zephyrarchaea marki</td>\n      <td>Vulnerable</td>\n      <td>obscured</td>\n      <td>https://biodiversity.org.au/afd/taxa/c135a409-...</td>\n      <td>https://biodiversity.org.au/afd/taxa/c135a409-...</td>\n      <td>WA Deparment of Biodiversity, Conservation and...</td>\n      <td>828664</td>\n      <td>Zephyrarchaea marki</td>\n      <td>species</td>\n      <td>0</td>\n      <td>t</td>\n    </tr>\n    <tr>\n      <th>4514</th>\n      <td>Zephyrarchaea melindae</td>\n      <td>Vulnerable</td>\n      <td>obscured</td>\n      <td>https://biodiversity.org.au/afd/taxa/df8d4917-...</td>\n      <td>https://biodiversity.org.au/afd/taxa/df8d4917-...</td>\n      <td>WA Deparment of Biodiversity, Conservation and...</td>\n      <td>828667</td>\n      <td>Zephyrarchaea melindae</td>\n      <td>species</td>\n      <td>0</td>\n      <td>t</td>\n    </tr>\n    <tr>\n      <th>4515</th>\n      <td>Zephyrarchaea robinsi</td>\n      <td>Vulnerable</td>\n      <td>obscured</td>\n      <td>https://biodiversity.org.au/afd/taxa/038e56d8-...</td>\n      <td>https://biodiversity.org.au/afd/taxa/038e56d8-...</td>\n      <td>WA Deparment of Biodiversity, Conservation and...</td>\n      <td>828668</td>\n      <td>Zephyrarchaea robinsi</td>\n      <td>species</td>\n      <td>0</td>\n      <td>t</td>\n    </tr>\n    <tr>\n      <th>4516</th>\n      <td>Zyzomys pedunculatus</td>\n      <td>Critically Endangered</td>\n      <td>obscured</td>\n      <td>https://biodiversity.org.au/afd/taxa/33ab483d-...</td>\n      <td>https://biodiversity.org.au/afd/taxa/33ab483d-...</td>\n      <td>WA Deparment of Biodiversity, Conservation and...</td>\n      <td>45374</td>\n      <td>Zyzomys pedunculatus</td>\n      <td>species</td>\n      <td>0</td>\n      <td>t</td>\n    </tr>\n  </tbody>\n</table>\n<p>4517 rows × 11 columns</p>\n</div>"
     },
     "execution_count": 35,
     "metadata": {},
     "output_type": "execute_result"
    }
   ],
   "source": [
    "# set placeid\n",
    "place_id = 6827\n",
    "# get the inaturalist taxonomy matches for additions \n",
    "inattaxa = pd.read_csv(sourcedir + \"inaturalist-australia-9/inaturalist-australia-9-taxa.csv\",dtype=str,usecols=['id','name','rank','observations_count','is_active'])\n",
    "inattaxa = inattaxa[(inattaxa['is_active'] == 't') & (inattaxa['rank'] == 'species')]\n",
    "inattaxa = inattaxa.rename(columns = {'id':'taxon_id','name':'taxon_name'})\n",
    "inattaxa = inattaxa.add_prefix(\"inat_\")\n",
    "statelist = statelist[['state_scientificName','state_status','state_geoprivacy', 'state_lsid_conservation','state_lsid_sensitive','state_authority']].merge(inattaxa,how=\"left\",left_on='state_scientificName',right_on='inat_taxon_name',suffixes=(None,'_inat'))\n",
    "statelist\n"
   ],
   "metadata": {
    "collapsed": false,
    "pycharm": {
     "name": "#%%\n"
    },
    "ExecuteTime": {
     "end_time": "2024-01-22T08:01:45.155667Z",
     "start_time": "2024-01-22T08:01:43.092330Z"
    }
   }
  },
  {
   "cell_type": "code",
   "execution_count": 36,
   "outputs": [
    {
     "data": {
      "text/plain": "Empty DataFrame\nColumns: [state_scientificName, state_status, state_geoprivacy, state_lsid_conservation, state_lsid_sensitive, state_authority, inat_taxon_id, inat_taxon_name, inat_rank, inat_observations_count, inat_is_active]\nIndex: []",
      "text/html": "<div>\n<style scoped>\n    .dataframe tbody tr th:only-of-type {\n        vertical-align: middle;\n    }\n\n    .dataframe tbody tr th {\n        vertical-align: top;\n    }\n\n    .dataframe thead th {\n        text-align: right;\n    }\n</style>\n<table border=\"1\" class=\"dataframe\">\n  <thead>\n    <tr style=\"text-align: right;\">\n      <th></th>\n      <th>state_scientificName</th>\n      <th>state_status</th>\n      <th>state_geoprivacy</th>\n      <th>state_lsid_conservation</th>\n      <th>state_lsid_sensitive</th>\n      <th>state_authority</th>\n      <th>inat_taxon_id</th>\n      <th>inat_taxon_name</th>\n      <th>inat_rank</th>\n      <th>inat_observations_count</th>\n      <th>inat_is_active</th>\n    </tr>\n  </thead>\n  <tbody>\n  </tbody>\n</table>\n</div>"
     },
     "execution_count": 36,
     "metadata": {},
     "output_type": "execute_result"
    }
   ],
   "source": [
    "# test for duplicates\n",
    "# statelist.groupby('state_scientificName').filter(lambda x: len(x) > 1)"
   ],
   "metadata": {
    "collapsed": false,
    "ExecuteTime": {
     "end_time": "2024-01-22T08:01:49.979226Z",
     "start_time": "2024-01-22T08:01:49.926837Z"
    }
   }
  },
  {
   "cell_type": "code",
   "execution_count": 37,
   "outputs": [
    {
     "data": {
      "text/plain": "action\nADD           175\nNO CHANGE     335\nNO MATCH     1860\nREMOVE        429\nUPDATE       2226\ndtype: int64"
     },
     "execution_count": 37,
     "metadata": {},
     "output_type": "execute_result"
    }
   ],
   "source": [
    "# prepare the export fields, common to New template and Update template\n",
    "mergedstatuses = statelist.merge(inatstatuses,how=\"outer\",left_on='state_scientificName',right_on='inat_scientificName')\n",
    "\n",
    "# add extra fields \n",
    "# add some extra fields\n",
    "mergedstatuses['place_id'] = str(place_id)\n",
    "mergedstatuses['username'] = 'peggydnew'\n",
    "mergedstatuses['description'] = \"Listed - refer to  https://www.dpaw.wa.gov.au/plants-and-animals/threatened-species-and-communities\"\n",
    "mergedstatuses['state_lsid_conservation'].fillna(mergedstatuses['state_lsid_sensitive'])\n",
    "mergedstatuses['state_url'] = \"https://bie.ala.org.au/species/\" + mergedstatuses['state_lsid_conservation']\n",
    "mergedstatuses['state_iucn_equivalent'] = mergedstatuses['state_status'].map(iucnStatusMappings)\n",
    "#mergedstatuses['state_status'] = mergedstatuses['state_status'].fillna('Sensitive')\n",
    "#mergedstatuses['state_geoprivacy'] = mergedstatuses['state_geoprivacy'].fillna('open')\n",
    "mergedstatuses['inat_taxon_id'] = mergedstatuses['inat_taxon_id_y'].fillna(mergedstatuses['inat_taxon_id_x'])\n",
    "mergedstatuses['inat_scientificName'] = mergedstatuses['inat_scientificName'].fillna(mergedstatuses['inat_taxon_name'])\n",
    "\n",
    "\n",
    "# UPDATE: inat status and state status both exist\n",
    "# REMOVE: inat status exists, state status does not\n",
    "# ADD: state status exists, inat status does not (matching taxon)\n",
    "# NO MATCH: state status exists, inat taxa not found\n",
    "mergedstatuses['action'] = 'na'\n",
    "mergedstatuses.loc[mergedstatuses['inat_id'].notnull() & mergedstatuses['state_scientificName'].notnull(), 'action'] = \"UPDATE\"\n",
    "mergedstatuses.loc[mergedstatuses['inat_id'].notnull() & mergedstatuses['state_scientificName'].isnull(), 'action'] = \"REMOVE\"\n",
    "mergedstatuses.loc[mergedstatuses['inat_id'].isnull() & mergedstatuses['inat_taxon_id'].notnull(), 'action'] = \"ADD\"\n",
    "mergedstatuses.loc[mergedstatuses['inat_id'].isnull() & mergedstatuses['inat_taxon_id'].isnull(), 'action'] = \"NO MATCH\"\n",
    "\n",
    "# only update those with different values \n",
    "mergedstatuses['action'] = mergedstatuses.apply(lambda x: \"NO CHANGE\" if (x['action'] == \"UPDATE\") & ((x['state_status'] == x['inat_status']) & (x['state_geoprivacy'] == x['inat_geoprivacy'] ) & (x['state_geoprivacy'] == x['inat_geoprivacy']) & (x['state_iucn_equivalent'] == x['inat_iucn'])) else x['action'], axis=1)\n",
    "\n",
    "# display\n",
    "mergedstatusesprintfriendly = mergedstatuses[['action','inat_id','inat_taxon_id','state_scientificName','inat_scientificName', 'state_status','inat_status','state_geoprivacy','inat_geoprivacy','state_iucn_equivalent','inat_iucn','state_authority','inat_authority','state_url','inat_url','inat_description','inat_place_display_name','inat_current_synonymous_taxon_ids']]\n",
    "mergedstatuses.groupby('action').size()\n",
    "\n"
   ],
   "metadata": {
    "collapsed": false,
    "pycharm": {
     "name": "#%%\n"
    },
    "ExecuteTime": {
     "end_time": "2024-01-22T08:03:53.476004Z",
     "start_time": "2024-01-22T08:03:53.356022Z"
    }
   }
  },
  {
   "cell_type": "code",
   "execution_count": 39,
   "outputs": [
    {
     "data": {
      "text/plain": "    state_scientificName                      state_status state_geoprivacy  \\\n121    Acacia incongesta  Priority 2: Poorly-known species         obscured   \n\n                              state_lsid_conservation  \\\n121  https://id.biodiversity.org.au/node/apni/2906554   \n\n                                 state_lsid_sensitive  \\\n121  https://id.biodiversity.org.au/node/apni/2906554   \n\n                                       state_authority inat_taxon_id_x  \\\n121  WA Deparment of Biodiversity, Conservation and...         1253857   \n\n       inat_taxon_name inat_rank inat_observations_count  ...  \\\n121  Acacia incongesta   species                       0  ...   \n\n    inat_preferred_common_name inat_is_active_y  \\\n121                        NaN              NaN   \n\n    inat_current_synonymous_taxon_ids place_id   username  \\\n121                               NaN     6827  peggydnew   \n\n                                           description  \\\n121  Listed - refer to  https://www.dpaw.wa.gov.au/...   \n\n                                             state_url state_iucn_equivalent  \\\n121  https://bie.ala.org.au/species/https://id.biod...                     5   \n\n    inat_taxon_id action  \n121       1253857    ADD  \n\n[1 rows x 52 columns]",
      "text/html": "<div>\n<style scoped>\n    .dataframe tbody tr th:only-of-type {\n        vertical-align: middle;\n    }\n\n    .dataframe tbody tr th {\n        vertical-align: top;\n    }\n\n    .dataframe thead th {\n        text-align: right;\n    }\n</style>\n<table border=\"1\" class=\"dataframe\">\n  <thead>\n    <tr style=\"text-align: right;\">\n      <th></th>\n      <th>state_scientificName</th>\n      <th>state_status</th>\n      <th>state_geoprivacy</th>\n      <th>state_lsid_conservation</th>\n      <th>state_lsid_sensitive</th>\n      <th>state_authority</th>\n      <th>inat_taxon_id_x</th>\n      <th>inat_taxon_name</th>\n      <th>inat_rank</th>\n      <th>inat_observations_count</th>\n      <th>...</th>\n      <th>inat_preferred_common_name</th>\n      <th>inat_is_active_y</th>\n      <th>inat_current_synonymous_taxon_ids</th>\n      <th>place_id</th>\n      <th>username</th>\n      <th>description</th>\n      <th>state_url</th>\n      <th>state_iucn_equivalent</th>\n      <th>inat_taxon_id</th>\n      <th>action</th>\n    </tr>\n  </thead>\n  <tbody>\n    <tr>\n      <th>121</th>\n      <td>Acacia incongesta</td>\n      <td>Priority 2: Poorly-known species</td>\n      <td>obscured</td>\n      <td>https://id.biodiversity.org.au/node/apni/2906554</td>\n      <td>https://id.biodiversity.org.au/node/apni/2906554</td>\n      <td>WA Deparment of Biodiversity, Conservation and...</td>\n      <td>1253857</td>\n      <td>Acacia incongesta</td>\n      <td>species</td>\n      <td>0</td>\n      <td>...</td>\n      <td>NaN</td>\n      <td>NaN</td>\n      <td>NaN</td>\n      <td>6827</td>\n      <td>peggydnew</td>\n      <td>Listed - refer to  https://www.dpaw.wa.gov.au/...</td>\n      <td>https://bie.ala.org.au/species/https://id.biod...</td>\n      <td>5</td>\n      <td>1253857</td>\n      <td>ADD</td>\n    </tr>\n  </tbody>\n</table>\n<p>1 rows × 52 columns</p>\n</div>"
     },
     "execution_count": 39,
     "metadata": {},
     "output_type": "execute_result"
    }
   ],
   "source": [
    "mergedstatuses[mergedstatuses['state_scientificName'] == 'Acacia incongesta']"
   ],
   "metadata": {
    "collapsed": false,
    "ExecuteTime": {
     "end_time": "2024-01-22T08:17:19.500232Z",
     "start_time": "2024-01-22T08:17:19.492491Z"
    }
   }
  },
  {
   "cell_type": "markdown",
   "source": [
    "## Create output files"
   ],
   "metadata": {
    "collapsed": false,
    "pycharm": {
     "name": "#%% md\n"
    }
   }
  },
  {
   "cell_type": "code",
   "execution_count": 38,
   "outputs": [],
   "source": [
    "# UPDATES\n",
    "# Headers: action,taxon_name,id,taxon_id,status,iucn_equivalent,authority,url,geoprivacy,place_id,username,description\n",
    "updates = pd.DataFrame(mergedstatuses[mergedstatuses['action'].isin(['UPDATE','REMOVE'])])\n",
    "updates = updates[['action','state_scientificName','inat_id','inat_taxon_id','state_status','state_iucn_equivalent','state_authority','state_url','state_geoprivacy','place_id','username','description']]\n",
    "updates.columns = updates.columns.str.replace(\"state_\", \"\", regex=True)\n",
    "updates.columns = updates.columns.str.replace(\"inat_\", \"\", regex=True)\n",
    "updates = updates.rename(columns={'scientificName':'taxon_name'})\n",
    "\n",
    "# ADDITIONS\n",
    "# Headers: Taxon_Name,Status,Authority,IUCN_equivalent,Description,iNaturalist_Place_ID,url,Taxon_Geoprivacy,Username,taxon_id\n",
    "additions = pd.DataFrame(mergedstatuses[mergedstatuses['action'] == \"ADD\"])\n",
    "additions = additions[['action','state_scientificName','inat_id','inat_taxon_id','state_status','state_iucn_equivalent','state_authority','state_url','state_geoprivacy','place_id','username','description']]\n",
    "additions = additions.rename(columns={'state_scientificName':'Taxon_Name',\n",
    "                                      'state_status':'Status',\n",
    "                                      'state_authority':'Authority',\n",
    "                                      'state_iucn_equivalent':'IUCN_equivalent',\n",
    "                                      'description':'Description',\n",
    "                                      'place_id':'iNaturalst_Place_ID',\n",
    "                                      'state_url':'url',\n",
    "                                      'state_geoprivacy':'taxon_Geoprivacy',\n",
    "                                      'inat_taxon_id':'taxon_id'})\n",
    "\n",
    "# WRITE TO FILE\n",
    "mergedstatusesprintfriendly.to_csv(projectdir + \"data/out/summaries/wa.csv\",index=False)\n",
    "updates.to_csv(projectdir + \"data/out/updates-wa.csv\", index=False)\n",
    "additions.to_csv(projectdir + \"data/out/additions-wa.csv\", index=False)"
   ],
   "metadata": {
    "collapsed": false,
    "ExecuteTime": {
     "end_time": "2024-01-22T08:04:41.762461Z",
     "start_time": "2024-01-22T08:04:41.639035Z"
    }
   }
  }
 ],
 "metadata": {
  "kernelspec": {
   "display_name": "Python 3",
   "language": "python",
   "name": "python3"
  },
  "language_info": {
   "codemirror_mode": {
    "name": "ipython",
    "version": 2
   },
   "file_extension": ".py",
   "mimetype": "text/x-python",
   "name": "python",
   "nbconvert_exporter": "python",
   "pygments_lexer": "ipython2",
   "version": "2.7.6"
  }
 },
 "nbformat": 4,
 "nbformat_minor": 0
}
