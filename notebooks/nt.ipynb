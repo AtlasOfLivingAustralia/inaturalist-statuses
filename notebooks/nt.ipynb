{
 "cells": [
  {
   "cell_type": "markdown",
   "source": [
    "# iNaturalist status updates by state\n",
    "\n",
    "Using the file produced in the collate-status-taxa.ipynb: `inat-aust-status-taxa.csv` (statuses joined to taxa names), generate lists to update iNaturalist statuses\n",
    "\n",
    "## Prep - common to all states\n",
    "1. Read in the inaturalist statuses & filter out this state\n",
    "2. Read in the state conservation and sensitive lists\n",
    "3. Prep fields incl IUCN equivalent mappings and matching to iNat taxonomy  \n",
    "4. Merge and compare the state and inaturalist lists\n",
    "5. Create update/removals list\n",
    "6. Create additions list\n",
    "7. Save files\n",
    "\n",
    "## 1. Read in the inaturalist statuses & filter out NT"
   ],
   "metadata": {
    "collapsed": false,
    "pycharm": {
     "name": "#%% md\n"
    }
   }
  },
  {
   "cell_type": "code",
   "execution_count": 1,
   "outputs": [
    {
     "data": {
      "text/plain": "inat_status\nEndangered         1\nLC                 3\nNT                 1\nThreatened       142\nVU                 1\nVulnerable         1\nendangered         6\nleast concern      1\ndtype: int64"
     },
     "execution_count": 1,
     "metadata": {},
     "output_type": "execute_result"
    }
   ],
   "source": [
    "import pandas as pd\n",
    "import sys\n",
    "import os\n",
    "projectdir = os.path.dirname(os.getcwd()) + \"/\" # parent dir of cwd\n",
    "sourcedir = projectdir + \"data/in/\"\n",
    "sys.path.append(os.path.abspath(projectdir + \"notebooks/includes/\"))\n",
    "import list_functions  as lf\n",
    "\n",
    "# read in the statuses file\n",
    "taxastatus = pd.read_csv(sourcedir + \"inat-aust-status-taxa.csv\", encoding='UTF-8',na_filter=False,dtype=str)\n",
    "\n",
    "# filter out ACT entries\n",
    "def filter_state_statuses(stateregex: str, urlregex: str):\n",
    "    authoritydf = taxastatus['authority'].drop_duplicates().sort_values()\n",
    "    authoritydf = authoritydf[pd.Series(authoritydf).str.contains(stateregex)]\n",
    "    urldf = taxastatus['url'].drop_duplicates().sort_values()\n",
    "    urldf = urldf[pd.Series(urldf).str.contains(urlregex)]\n",
    "    placedisplaydf = taxastatus['place_display_name'].drop_duplicates().sort_values()\n",
    "    placedisplaydf = placedisplaydf[pd.Series(placedisplaydf).str.contains(stateregex)]\n",
    "    placedf = taxastatus['place_name'].drop_duplicates().sort_values()\n",
    "    placedf = placedf[pd.Series(placedf).str.contains(stateregex)]\n",
    "    # concat all and remove duplicates\n",
    "    statedf = pd.concat([taxastatus.apply(lambda row: row[taxastatus['place_display_name'].isin(placedisplaydf)]),\n",
    "                         taxastatus.apply(lambda row: row[taxastatus['place_name'].isin(placedf)]),\n",
    "                         taxastatus.apply(lambda row: row[taxastatus['url'].isin(urldf)]),\n",
    "                         taxastatus.apply(\n",
    "                             lambda row: row[taxastatus['authority'].isin(authoritydf)])]).drop_duplicates()\n",
    "    return statedf.sort_values(['taxon_id', 'user_id'])\n",
    "\n",
    "inatstatuses = filter_state_statuses(\"Northern Territory|NT NRETAS\", \" \")\n",
    "inatstatuses = inatstatuses.add_prefix(\"inat_\")\n",
    "inatstatuses.groupby(['inat_status']).size()"
   ],
   "metadata": {
    "collapsed": false,
    "pycharm": {
     "name": "#%%\n"
    },
    "ExecuteTime": {
     "end_time": "2024-01-19T07:12:07.289547Z",
     "start_time": "2024-01-19T07:12:06.744234Z"
    }
   }
  },
  {
   "cell_type": "markdown",
   "source": [
    "## 2. Read in the State lists\n",
    "Read in the state lists \n",
    " * Set conservation list value `authority` = \"Territory Parks and Wildlife Conservation Act\"\n",
    " * Set sensitive list value: `geoprivacy` = `obscured`\n",
    "  * Northern Territory Department of Environment and Natural Resources \n",
    "    * https://nt.gov.au/environment"
   ],
   "metadata": {
    "collapsed": false,
    "pycharm": {
     "name": "#%% md\n"
    }
   }
  },
  {
   "cell_type": "code",
   "execution_count": 2,
   "outputs": [],
   "source": [
    "# %%script echo skipping # comment this line to download dataset from lists.ala.org.au the web and save locally\n",
    "# Download lists data. Retrieve binomial and trinomial names from GBIF. Save locally to CSV\n",
    "\n",
    "sensitivelist = lf.download_ala_specieslist(\"https://lists.ala.org.au/ws/speciesListItems/dr492?max=10000&includeKVP=true\")\n",
    "sensitivelist = lf.kvp_to_columns(sensitivelist)\n",
    "sensitivelist.to_csv(sourcedir + \"state-lists/nt-ala-sensitive.csv\", index=False)\n",
    "\n",
    "conservationlist = lf.download_ala_specieslist(\"https://lists.ala.org.au/ws/speciesListItems/dr651?max=10000&includeKVP=true\")\n",
    "conservationlist = lf.kvp_to_columns(conservationlist)\n",
    "conservationlist.to_csv(sourcedir + \"state-lists/nt-ala-conservation.csv\", index=False)"
   ],
   "metadata": {
    "collapsed": false,
    "pycharm": {
     "name": "#%%\n"
    },
    "ExecuteTime": {
     "end_time": "2024-01-19T07:12:08.474995Z",
     "start_time": "2024-01-19T07:12:07.290807Z"
    }
   }
  },
  {
   "cell_type": "markdown",
   "source": [],
   "metadata": {
    "collapsed": false
   }
  },
  {
   "cell_type": "code",
   "execution_count": 3,
   "outputs": [
    {
     "name": "stdout",
     "output_type": "stream",
     "text": [
      "Conservation list entries:204\n",
      "Sensitive list entries:11\n"
     ]
    },
    {
     "data": {
      "text/plain": "    state_id_conservation           state_scientificName  \\\n0                 4410476           Abrodictyum obscurum   \n1                 4410563           Acacia equisetifolia   \n2                 4410606                  Acacia latzii   \n3                 4410487                   Acacia peuce   \n4                 4410564            Acacia praetermissa   \n..                    ...                            ...   \n204                   NaN               Macroderma gigas   \n205                   NaN          Hipposideros stenotis   \n206                   NaN  Falco (Hierofalco) hypoleucos   \n207                   NaN            Chromolaena odorata   \n208                   NaN       Parthenium hysterophorus   \n\n                              state_lsid_conservation  \\\n0    https://id.biodiversity.org.au/node/apni/7402565   \n1    https://id.biodiversity.org.au/node/apni/2890781   \n2    https://id.biodiversity.org.au/node/apni/2906346   \n3    https://id.biodiversity.org.au/node/apni/2906202   \n4    https://id.biodiversity.org.au/node/apni/2894855   \n..                                                ...   \n204                                               NaN   \n205                                               NaN   \n206                                               NaN   \n207                                               NaN   \n208                                               NaN   \n\n    state_status_conservation state_geoprivacy_conservation  \\\n0                  Endangered                          open   \n1       Critically Endangered                          open   \n2                  Vulnerable                          open   \n3                  Endangered                          open   \n4                  Vulnerable                          open   \n..                        ...                           ...   \n204                       NaN                           NaN   \n205                       NaN                           NaN   \n206                       NaN                           NaN   \n207                       NaN                           NaN   \n208                       NaN                           NaN   \n\n                          state_authority_conservation state_id_sensitive  \\\n0    Territory Parks and Wildlife Conservation Act ...                NaN   \n1    Territory Parks and Wildlife Conservation Act ...                NaN   \n2    Territory Parks and Wildlife Conservation Act ...                NaN   \n3    Territory Parks and Wildlife Conservation Act ...                NaN   \n4    Territory Parks and Wildlife Conservation Act ...                NaN   \n..                                                 ...                ...   \n204                                                NaN            4931556   \n205                                                NaN            4931559   \n206                                                NaN            4931564   \n207                                                NaN            4931562   \n208                                                NaN            4931563   \n\n                                  state_lsid_sensitive  \\\n0                                                  NaN   \n1                                                  NaN   \n2                                                  NaN   \n3                                                  NaN   \n4                                                  NaN   \n..                                                 ...   \n204  https://biodiversity.org.au/afd/taxa/63bc796a-...   \n205  https://biodiversity.org.au/afd/taxa/26fe0f53-...   \n206  https://biodiversity.org.au/afd/taxa/4c73a934-...   \n207   https://id.biodiversity.org.au/node/apni/2910579   \n208   https://id.biodiversity.org.au/node/apni/2919468   \n\n    state_geoprivacy_sensitive state_status_sensitive  \\\n0                          NaN                    NaN   \n1                          NaN                    NaN   \n2                          NaN                    NaN   \n3                          NaN                    NaN   \n4                          NaN                    NaN   \n..                         ...                    ...   \n204                   obscured              Sensitive   \n205                   obscured              Sensitive   \n206                   obscured              Sensitive   \n207                   obscured              Sensitive   \n208                   obscured              Sensitive   \n\n                        state_authority_sensitive           state_status  \\\n0                                             NaN             Endangered   \n1                                             NaN  Critically Endangered   \n2                                             NaN             Vulnerable   \n3                                             NaN             Endangered   \n4                                             NaN             Vulnerable   \n..                                            ...                    ...   \n204  Northern Territory Department of Environment              Sensitive   \n205  Northern Territory Department of Environment              Sensitive   \n206  Northern Territory Department of Environment              Sensitive   \n207  Northern Territory Department of Environment              Sensitive   \n208  Northern Territory Department of Environment              Sensitive   \n\n                                       state_authority state_geoprivacy  \n0    Territory Parks and Wildlife Conservation Act ...             open  \n1    Territory Parks and Wildlife Conservation Act ...             open  \n2    Territory Parks and Wildlife Conservation Act ...             open  \n3    Territory Parks and Wildlife Conservation Act ...             open  \n4    Territory Parks and Wildlife Conservation Act ...             open  \n..                                                 ...              ...  \n204       Northern Territory Department of Environment         obscured  \n205       Northern Territory Department of Environment         obscured  \n206       Northern Territory Department of Environment         obscured  \n207       Northern Territory Department of Environment         obscured  \n208       Northern Territory Department of Environment         obscured  \n\n[209 rows x 14 columns]",
      "text/html": "<div>\n<style scoped>\n    .dataframe tbody tr th:only-of-type {\n        vertical-align: middle;\n    }\n\n    .dataframe tbody tr th {\n        vertical-align: top;\n    }\n\n    .dataframe thead th {\n        text-align: right;\n    }\n</style>\n<table border=\"1\" class=\"dataframe\">\n  <thead>\n    <tr style=\"text-align: right;\">\n      <th></th>\n      <th>state_id_conservation</th>\n      <th>state_scientificName</th>\n      <th>state_lsid_conservation</th>\n      <th>state_status_conservation</th>\n      <th>state_geoprivacy_conservation</th>\n      <th>state_authority_conservation</th>\n      <th>state_id_sensitive</th>\n      <th>state_lsid_sensitive</th>\n      <th>state_geoprivacy_sensitive</th>\n      <th>state_status_sensitive</th>\n      <th>state_authority_sensitive</th>\n      <th>state_status</th>\n      <th>state_authority</th>\n      <th>state_geoprivacy</th>\n    </tr>\n  </thead>\n  <tbody>\n    <tr>\n      <th>0</th>\n      <td>4410476</td>\n      <td>Abrodictyum obscurum</td>\n      <td>https://id.biodiversity.org.au/node/apni/7402565</td>\n      <td>Endangered</td>\n      <td>open</td>\n      <td>Territory Parks and Wildlife Conservation Act ...</td>\n      <td>NaN</td>\n      <td>NaN</td>\n      <td>NaN</td>\n      <td>NaN</td>\n      <td>NaN</td>\n      <td>Endangered</td>\n      <td>Territory Parks and Wildlife Conservation Act ...</td>\n      <td>open</td>\n    </tr>\n    <tr>\n      <th>1</th>\n      <td>4410563</td>\n      <td>Acacia equisetifolia</td>\n      <td>https://id.biodiversity.org.au/node/apni/2890781</td>\n      <td>Critically Endangered</td>\n      <td>open</td>\n      <td>Territory Parks and Wildlife Conservation Act ...</td>\n      <td>NaN</td>\n      <td>NaN</td>\n      <td>NaN</td>\n      <td>NaN</td>\n      <td>NaN</td>\n      <td>Critically Endangered</td>\n      <td>Territory Parks and Wildlife Conservation Act ...</td>\n      <td>open</td>\n    </tr>\n    <tr>\n      <th>2</th>\n      <td>4410606</td>\n      <td>Acacia latzii</td>\n      <td>https://id.biodiversity.org.au/node/apni/2906346</td>\n      <td>Vulnerable</td>\n      <td>open</td>\n      <td>Territory Parks and Wildlife Conservation Act ...</td>\n      <td>NaN</td>\n      <td>NaN</td>\n      <td>NaN</td>\n      <td>NaN</td>\n      <td>NaN</td>\n      <td>Vulnerable</td>\n      <td>Territory Parks and Wildlife Conservation Act ...</td>\n      <td>open</td>\n    </tr>\n    <tr>\n      <th>3</th>\n      <td>4410487</td>\n      <td>Acacia peuce</td>\n      <td>https://id.biodiversity.org.au/node/apni/2906202</td>\n      <td>Endangered</td>\n      <td>open</td>\n      <td>Territory Parks and Wildlife Conservation Act ...</td>\n      <td>NaN</td>\n      <td>NaN</td>\n      <td>NaN</td>\n      <td>NaN</td>\n      <td>NaN</td>\n      <td>Endangered</td>\n      <td>Territory Parks and Wildlife Conservation Act ...</td>\n      <td>open</td>\n    </tr>\n    <tr>\n      <th>4</th>\n      <td>4410564</td>\n      <td>Acacia praetermissa</td>\n      <td>https://id.biodiversity.org.au/node/apni/2894855</td>\n      <td>Vulnerable</td>\n      <td>open</td>\n      <td>Territory Parks and Wildlife Conservation Act ...</td>\n      <td>NaN</td>\n      <td>NaN</td>\n      <td>NaN</td>\n      <td>NaN</td>\n      <td>NaN</td>\n      <td>Vulnerable</td>\n      <td>Territory Parks and Wildlife Conservation Act ...</td>\n      <td>open</td>\n    </tr>\n    <tr>\n      <th>...</th>\n      <td>...</td>\n      <td>...</td>\n      <td>...</td>\n      <td>...</td>\n      <td>...</td>\n      <td>...</td>\n      <td>...</td>\n      <td>...</td>\n      <td>...</td>\n      <td>...</td>\n      <td>...</td>\n      <td>...</td>\n      <td>...</td>\n      <td>...</td>\n    </tr>\n    <tr>\n      <th>204</th>\n      <td>NaN</td>\n      <td>Macroderma gigas</td>\n      <td>NaN</td>\n      <td>NaN</td>\n      <td>NaN</td>\n      <td>NaN</td>\n      <td>4931556</td>\n      <td>https://biodiversity.org.au/afd/taxa/63bc796a-...</td>\n      <td>obscured</td>\n      <td>Sensitive</td>\n      <td>Northern Territory Department of Environment</td>\n      <td>Sensitive</td>\n      <td>Northern Territory Department of Environment</td>\n      <td>obscured</td>\n    </tr>\n    <tr>\n      <th>205</th>\n      <td>NaN</td>\n      <td>Hipposideros stenotis</td>\n      <td>NaN</td>\n      <td>NaN</td>\n      <td>NaN</td>\n      <td>NaN</td>\n      <td>4931559</td>\n      <td>https://biodiversity.org.au/afd/taxa/26fe0f53-...</td>\n      <td>obscured</td>\n      <td>Sensitive</td>\n      <td>Northern Territory Department of Environment</td>\n      <td>Sensitive</td>\n      <td>Northern Territory Department of Environment</td>\n      <td>obscured</td>\n    </tr>\n    <tr>\n      <th>206</th>\n      <td>NaN</td>\n      <td>Falco (Hierofalco) hypoleucos</td>\n      <td>NaN</td>\n      <td>NaN</td>\n      <td>NaN</td>\n      <td>NaN</td>\n      <td>4931564</td>\n      <td>https://biodiversity.org.au/afd/taxa/4c73a934-...</td>\n      <td>obscured</td>\n      <td>Sensitive</td>\n      <td>Northern Territory Department of Environment</td>\n      <td>Sensitive</td>\n      <td>Northern Territory Department of Environment</td>\n      <td>obscured</td>\n    </tr>\n    <tr>\n      <th>207</th>\n      <td>NaN</td>\n      <td>Chromolaena odorata</td>\n      <td>NaN</td>\n      <td>NaN</td>\n      <td>NaN</td>\n      <td>NaN</td>\n      <td>4931562</td>\n      <td>https://id.biodiversity.org.au/node/apni/2910579</td>\n      <td>obscured</td>\n      <td>Sensitive</td>\n      <td>Northern Territory Department of Environment</td>\n      <td>Sensitive</td>\n      <td>Northern Territory Department of Environment</td>\n      <td>obscured</td>\n    </tr>\n    <tr>\n      <th>208</th>\n      <td>NaN</td>\n      <td>Parthenium hysterophorus</td>\n      <td>NaN</td>\n      <td>NaN</td>\n      <td>NaN</td>\n      <td>NaN</td>\n      <td>4931563</td>\n      <td>https://id.biodiversity.org.au/node/apni/2919468</td>\n      <td>obscured</td>\n      <td>Sensitive</td>\n      <td>Northern Territory Department of Environment</td>\n      <td>Sensitive</td>\n      <td>Northern Territory Department of Environment</td>\n      <td>obscured</td>\n    </tr>\n  </tbody>\n</table>\n<p>209 rows × 14 columns</p>\n</div>"
     },
     "execution_count": 3,
     "metadata": {},
     "output_type": "execute_result"
    }
   ],
   "source": [
    "# Read state lists and merge\n",
    "sensitivelist = pd.read_csv(sourcedir + \"state-lists/nt-ala-sensitive.csv\", dtype=str)\n",
    "sensitivelist['status'] = 'Sensitive'\n",
    "sensitivelist['geoprivacy'] = 'obscured'\n",
    "sensitivelist['authority'] = 'Northern Territory Department of Environment'\n",
    "conservationlist = pd.read_csv(sourcedir + \"state-lists/nt-ala-conservation.csv\", dtype=str)\n",
    "conservationlist['geoprivacy'] = 'open'\n",
    "conservationlist['authority'] = 'Territory Parks and Wildlife Conservation Act 1976'\n",
    "statelist = conservationlist[['id','name','lsid','status','geoprivacy','authority']].merge(sensitivelist[['id','name','lsid','geoprivacy','status','authority']], how=\"outer\",on='name',suffixes=('_conservation', '_sensitive'))\n",
    "statelist['status'] = statelist['status_conservation'].fillna(statelist['status_sensitive'])\n",
    "statelist['authority'] = statelist['authority_conservation'].fillna(statelist['authority_sensitive'])\n",
    "statelist['geoprivacy'] = statelist['geoprivacy_sensitive'].fillna(statelist['geoprivacy_conservation'])\n",
    "statelist = statelist.rename(columns = {'name':'scientificName'})\n",
    "statelist = statelist.add_prefix(\"state_\")\n",
    "print(\"Conservation list entries:\" + str(len(conservationlist)))\n",
    "print(\"Sensitive list entries:\" + str(len(sensitivelist)))\n",
    "statelist"
   ],
   "metadata": {
    "collapsed": false,
    "pycharm": {
     "name": "#%%\n"
    },
    "ExecuteTime": {
     "end_time": "2024-01-19T07:12:08.491355Z",
     "start_time": "2024-01-19T07:12:08.476271Z"
    }
   }
  },
  {
   "cell_type": "code",
   "execution_count": 4,
   "outputs": [
    {
     "data": {
      "text/plain": "state_status\nCritically Endangered     20\nEndangered                52\nExtinct                   11\nSensitive                  5\nVulnerable               121\ndtype: int64"
     },
     "execution_count": 4,
     "metadata": {},
     "output_type": "execute_result"
    }
   ],
   "source": [
    "\n",
    "statelist.groupby('state_status',dropna=False).size()"
   ],
   "metadata": {
    "collapsed": false,
    "ExecuteTime": {
     "end_time": "2024-01-19T07:12:08.495661Z",
     "start_time": "2024-01-19T07:12:08.491439Z"
    }
   }
  },
  {
   "cell_type": "markdown",
   "source": [
    "### 3. Equivalent IUCN statuses \n",
    "* ensure the statuses from the state maps to an IUCN equivalent\n",
    "* ICUN statuses = {'Not Evaluated', 'Data Deficient', 'Least Concern', 'Near Threatened', 'Vulnerable', 'Endangered', 'Critically Endangered', 'Extinct in the Wild', 'Extinct'}"
   ],
   "metadata": {
    "collapsed": false
   }
  },
  {
   "cell_type": "code",
   "execution_count": 5,
   "outputs": [],
   "source": [
    "#(50:CE, 30:V, 40:E, 20:NT, EX:70)\n",
    "iucnStatusMappings = {\n",
    "    'Least concern':'10',\n",
    "    'Special least concern':'10',\n",
    "    'Critically Endangered':'50',\n",
    "    'Endangered':'40',\n",
    "    'Vulnerable':'30',\n",
    "    'Extinct':'70',\n",
    "    'Extinct in the wild':'70',\n",
    "    'Near Threatened':'20',\n",
    "    'Sensitive':'30'\n",
    "}"
   ],
   "metadata": {
    "collapsed": false,
    "ExecuteTime": {
     "end_time": "2024-01-19T07:12:08.504592Z",
     "start_time": "2024-01-19T07:12:08.494208Z"
    }
   }
  },
  {
   "cell_type": "markdown",
   "source": [
    "### 4. Determine best place ID to use"
   ],
   "metadata": {
    "collapsed": false,
    "pycharm": {
     "name": "#%% md\n"
    }
   }
  },
  {
   "cell_type": "code",
   "execution_count": 6,
   "outputs": [
    {
     "data": {
      "text/plain": "inat_place_id  inat_place_name     inat_place_display_name\n6744           Australia           Australia                    1\n9994           Northern Territory  Northern Territory, AU     155\nName: inat_place_id, dtype: int64"
     },
     "execution_count": 6,
     "metadata": {},
     "output_type": "execute_result"
    }
   ],
   "source": [
    "inatstatuses.groupby(['inat_place_id','inat_place_name','inat_place_display_name'])['inat_place_id'].count()"
   ],
   "metadata": {
    "collapsed": false,
    "pycharm": {
     "name": "#%%\n"
    },
    "ExecuteTime": {
     "end_time": "2024-01-19T07:12:08.504985Z",
     "start_time": "2024-01-19T07:12:08.498365Z"
    }
   }
  },
  {
   "cell_type": "markdown",
   "source": [
    "### 5. Merge iNaturalist statuses with State sensitive list on scientificName\n",
    "\n",
    "\n"
   ],
   "metadata": {
    "collapsed": false,
    "pycharm": {
     "name": "#%% md\n"
    }
   }
  },
  {
   "cell_type": "code",
   "execution_count": 7,
   "outputs": [
    {
     "data": {
      "text/plain": "              state_scientificName           state_status state_geoprivacy  \\\n0             Abrodictyum obscurum             Endangered             open   \n1             Acacia equisetifolia  Critically Endangered             open   \n2                    Acacia latzii             Vulnerable             open   \n3                     Acacia peuce             Endangered             open   \n4              Acacia praetermissa             Vulnerable             open   \n..                             ...                    ...              ...   \n204               Macroderma gigas              Sensitive         obscured   \n205          Hipposideros stenotis              Sensitive         obscured   \n206  Falco (Hierofalco) hypoleucos              Sensitive         obscured   \n207            Chromolaena odorata              Sensitive         obscured   \n208       Parthenium hysterophorus              Sensitive         obscured   \n\n                              state_lsid_conservation  \\\n0    https://id.biodiversity.org.au/node/apni/7402565   \n1    https://id.biodiversity.org.au/node/apni/2890781   \n2    https://id.biodiversity.org.au/node/apni/2906346   \n3    https://id.biodiversity.org.au/node/apni/2906202   \n4    https://id.biodiversity.org.au/node/apni/2894855   \n..                                                ...   \n204                                               NaN   \n205                                               NaN   \n206                                               NaN   \n207                                               NaN   \n208                                               NaN   \n\n                                  state_lsid_sensitive  \\\n0                                                  NaN   \n1                                                  NaN   \n2                                                  NaN   \n3                                                  NaN   \n4                                                  NaN   \n..                                                 ...   \n204  https://biodiversity.org.au/afd/taxa/63bc796a-...   \n205  https://biodiversity.org.au/afd/taxa/26fe0f53-...   \n206  https://biodiversity.org.au/afd/taxa/4c73a934-...   \n207   https://id.biodiversity.org.au/node/apni/2910579   \n208   https://id.biodiversity.org.au/node/apni/2919468   \n\n                                       state_authority inat_taxon_id  \\\n0    Territory Parks and Wildlife Conservation Act ...        503202   \n1    Territory Parks and Wildlife Conservation Act ...       1253756   \n2    Territory Parks and Wildlife Conservation Act ...       1254327   \n3    Territory Parks and Wildlife Conservation Act ...        465191   \n4    Territory Parks and Wildlife Conservation Act ...       1254561   \n..                                                 ...           ...   \n204       Northern Territory Department of Environment         41326   \n205       Northern Territory Department of Environment           NaN   \n206       Northern Territory Department of Environment           NaN   \n207       Northern Territory Department of Environment        199400   \n208       Northern Territory Department of Environment        126424   \n\n              inat_taxon_name inat_rank inat_observations_count inat_is_active  \n0        Abrodictyum obscurum   species                     102              t  \n1        Acacia equisetifolia   species                       1              t  \n2               Acacia latzii   species                       0              t  \n3                Acacia peuce   species                      35              t  \n4         Acacia praetermissa   species                       0              t  \n..                        ...       ...                     ...            ...  \n204          Macroderma gigas   species                      31              t  \n205                       NaN       NaN                     NaN            NaN  \n206                       NaN       NaN                     NaN            NaN  \n207       Chromolaena odorata   species                   10205              t  \n208  Parthenium hysterophorus   species                   14548              t  \n\n[209 rows x 11 columns]",
      "text/html": "<div>\n<style scoped>\n    .dataframe tbody tr th:only-of-type {\n        vertical-align: middle;\n    }\n\n    .dataframe tbody tr th {\n        vertical-align: top;\n    }\n\n    .dataframe thead th {\n        text-align: right;\n    }\n</style>\n<table border=\"1\" class=\"dataframe\">\n  <thead>\n    <tr style=\"text-align: right;\">\n      <th></th>\n      <th>state_scientificName</th>\n      <th>state_status</th>\n      <th>state_geoprivacy</th>\n      <th>state_lsid_conservation</th>\n      <th>state_lsid_sensitive</th>\n      <th>state_authority</th>\n      <th>inat_taxon_id</th>\n      <th>inat_taxon_name</th>\n      <th>inat_rank</th>\n      <th>inat_observations_count</th>\n      <th>inat_is_active</th>\n    </tr>\n  </thead>\n  <tbody>\n    <tr>\n      <th>0</th>\n      <td>Abrodictyum obscurum</td>\n      <td>Endangered</td>\n      <td>open</td>\n      <td>https://id.biodiversity.org.au/node/apni/7402565</td>\n      <td>NaN</td>\n      <td>Territory Parks and Wildlife Conservation Act ...</td>\n      <td>503202</td>\n      <td>Abrodictyum obscurum</td>\n      <td>species</td>\n      <td>102</td>\n      <td>t</td>\n    </tr>\n    <tr>\n      <th>1</th>\n      <td>Acacia equisetifolia</td>\n      <td>Critically Endangered</td>\n      <td>open</td>\n      <td>https://id.biodiversity.org.au/node/apni/2890781</td>\n      <td>NaN</td>\n      <td>Territory Parks and Wildlife Conservation Act ...</td>\n      <td>1253756</td>\n      <td>Acacia equisetifolia</td>\n      <td>species</td>\n      <td>1</td>\n      <td>t</td>\n    </tr>\n    <tr>\n      <th>2</th>\n      <td>Acacia latzii</td>\n      <td>Vulnerable</td>\n      <td>open</td>\n      <td>https://id.biodiversity.org.au/node/apni/2906346</td>\n      <td>NaN</td>\n      <td>Territory Parks and Wildlife Conservation Act ...</td>\n      <td>1254327</td>\n      <td>Acacia latzii</td>\n      <td>species</td>\n      <td>0</td>\n      <td>t</td>\n    </tr>\n    <tr>\n      <th>3</th>\n      <td>Acacia peuce</td>\n      <td>Endangered</td>\n      <td>open</td>\n      <td>https://id.biodiversity.org.au/node/apni/2906202</td>\n      <td>NaN</td>\n      <td>Territory Parks and Wildlife Conservation Act ...</td>\n      <td>465191</td>\n      <td>Acacia peuce</td>\n      <td>species</td>\n      <td>35</td>\n      <td>t</td>\n    </tr>\n    <tr>\n      <th>4</th>\n      <td>Acacia praetermissa</td>\n      <td>Vulnerable</td>\n      <td>open</td>\n      <td>https://id.biodiversity.org.au/node/apni/2894855</td>\n      <td>NaN</td>\n      <td>Territory Parks and Wildlife Conservation Act ...</td>\n      <td>1254561</td>\n      <td>Acacia praetermissa</td>\n      <td>species</td>\n      <td>0</td>\n      <td>t</td>\n    </tr>\n    <tr>\n      <th>...</th>\n      <td>...</td>\n      <td>...</td>\n      <td>...</td>\n      <td>...</td>\n      <td>...</td>\n      <td>...</td>\n      <td>...</td>\n      <td>...</td>\n      <td>...</td>\n      <td>...</td>\n      <td>...</td>\n    </tr>\n    <tr>\n      <th>204</th>\n      <td>Macroderma gigas</td>\n      <td>Sensitive</td>\n      <td>obscured</td>\n      <td>NaN</td>\n      <td>https://biodiversity.org.au/afd/taxa/63bc796a-...</td>\n      <td>Northern Territory Department of Environment</td>\n      <td>41326</td>\n      <td>Macroderma gigas</td>\n      <td>species</td>\n      <td>31</td>\n      <td>t</td>\n    </tr>\n    <tr>\n      <th>205</th>\n      <td>Hipposideros stenotis</td>\n      <td>Sensitive</td>\n      <td>obscured</td>\n      <td>NaN</td>\n      <td>https://biodiversity.org.au/afd/taxa/26fe0f53-...</td>\n      <td>Northern Territory Department of Environment</td>\n      <td>NaN</td>\n      <td>NaN</td>\n      <td>NaN</td>\n      <td>NaN</td>\n      <td>NaN</td>\n    </tr>\n    <tr>\n      <th>206</th>\n      <td>Falco (Hierofalco) hypoleucos</td>\n      <td>Sensitive</td>\n      <td>obscured</td>\n      <td>NaN</td>\n      <td>https://biodiversity.org.au/afd/taxa/4c73a934-...</td>\n      <td>Northern Territory Department of Environment</td>\n      <td>NaN</td>\n      <td>NaN</td>\n      <td>NaN</td>\n      <td>NaN</td>\n      <td>NaN</td>\n    </tr>\n    <tr>\n      <th>207</th>\n      <td>Chromolaena odorata</td>\n      <td>Sensitive</td>\n      <td>obscured</td>\n      <td>NaN</td>\n      <td>https://id.biodiversity.org.au/node/apni/2910579</td>\n      <td>Northern Territory Department of Environment</td>\n      <td>199400</td>\n      <td>Chromolaena odorata</td>\n      <td>species</td>\n      <td>10205</td>\n      <td>t</td>\n    </tr>\n    <tr>\n      <th>208</th>\n      <td>Parthenium hysterophorus</td>\n      <td>Sensitive</td>\n      <td>obscured</td>\n      <td>NaN</td>\n      <td>https://id.biodiversity.org.au/node/apni/2919468</td>\n      <td>Northern Territory Department of Environment</td>\n      <td>126424</td>\n      <td>Parthenium hysterophorus</td>\n      <td>species</td>\n      <td>14548</td>\n      <td>t</td>\n    </tr>\n  </tbody>\n</table>\n<p>209 rows × 11 columns</p>\n</div>"
     },
     "execution_count": 7,
     "metadata": {},
     "output_type": "execute_result"
    }
   ],
   "source": [
    "# set placeid\n",
    "place_id = 9994\n",
    "# get the inaturalist taxonomy matches for additions \n",
    "inattaxa = pd.read_csv(sourcedir + \"inaturalist-australia-9/inaturalist-australia-9-taxa.csv\",dtype=str,usecols=['id','name','rank','observations_count','is_active'])\n",
    "inattaxa = inattaxa[inattaxa['is_active'] == 't']\n",
    "inattaxa = inattaxa.rename(columns = {'id':'taxon_id','name':'taxon_name'})\n",
    "inattaxa = inattaxa.add_prefix(\"inat_\")\n",
    "statelist = statelist[['state_scientificName','state_status','state_geoprivacy', 'state_lsid_conservation','state_lsid_sensitive','state_authority']].merge(inattaxa,how=\"left\",left_on='state_scientificName',right_on='inat_taxon_name',suffixes=(None,'_inat'))\n",
    "statelist\n"
   ],
   "metadata": {
    "collapsed": false,
    "pycharm": {
     "name": "#%%\n"
    },
    "ExecuteTime": {
     "end_time": "2024-01-19T07:12:10.497823Z",
     "start_time": "2024-01-19T07:12:08.501355Z"
    }
   }
  },
  {
   "cell_type": "code",
   "execution_count": 13,
   "outputs": [
    {
     "data": {
      "text/plain": "action\nADD           4\nNO MATCH     62\nREMOVE       13\nUPDATE      143\ndtype: int64"
     },
     "execution_count": 13,
     "metadata": {},
     "output_type": "execute_result"
    }
   ],
   "source": [
    "# prepare the export fields, common to New template and Update template\n",
    "mergedstatuses = statelist.merge(inatstatuses,how=\"outer\",left_on='state_scientificName',right_on='inat_scientificName')\n",
    "\n",
    "# add extra fields \n",
    "# add some extra fields\n",
    "mergedstatuses['place_id'] = str(place_id)\n",
    "mergedstatuses['username'] = 'peggydnew'\n",
    "mergedstatuses['description'] = \"Listed - refer to https://nt.gov.au/environment\"\n",
    "mergedstatuses['state_lsid_conservation'].fillna(mergedstatuses['state_lsid_sensitive'])\n",
    "mergedstatuses['state_url'] = \"https://bie.ala.org.au/species/\" + mergedstatuses['state_lsid_conservation']\n",
    "mergedstatuses['state_iucn_equivalent'] = mergedstatuses['state_status'].map(iucnStatusMappings).fillna('30') # map to dictionary, Vulnerable default\n",
    "mergedstatuses['state_status'] = mergedstatuses['state_status'].fillna('Sensitive')\n",
    "mergedstatuses['state_geoprivacy'] = mergedstatuses['state_geoprivacy'].fillna('open')\n",
    "mergedstatuses['inat_taxon_id'] = mergedstatuses['inat_taxon_id_y'].fillna(mergedstatuses['inat_taxon_id_x'])\n",
    "mergedstatuses['inat_scientificName'] = mergedstatuses['inat_scientificName'].fillna(mergedstatuses['inat_taxon_name'])\n",
    "\n",
    "# UPDATE: inat status and state status both exist\n",
    "# REMOVE: inat status exists, state status does not\n",
    "# ADD: state status exists, inat status does not (matching taxon)\n",
    "# NO MATCH: state status exists, inat taxa not found\n",
    "mergedstatuses['action'] = 'na'\n",
    "mergedstatuses.loc[mergedstatuses['inat_id'].notnull() & mergedstatuses['state_scientificName'].notnull(), 'action'] = \"UPDATE\"\n",
    "mergedstatuses.loc[mergedstatuses['inat_id'].notnull() & mergedstatuses['state_scientificName'].isnull(), 'action'] = \"REMOVE\"\n",
    "mergedstatuses.loc[mergedstatuses['inat_id'].isnull() & mergedstatuses['inat_taxon_id'].notnull(), 'action'] = \"ADD\"\n",
    "mergedstatuses.loc[mergedstatuses['inat_id'].isnull() & mergedstatuses['inat_taxon_id'].isnull(), 'action'] = \"NO MATCH\"\n",
    "\n",
    "# only update those with different values \n",
    "mergedstatuses['action'] = mergedstatuses.apply(lambda x: \"NO CHANGE\" if (x['action'] == \"UPDATE\") & ((x['state_status'] == x['inat_status']) & (x['state_geoprivacy'] == x['inat_geoprivacy'] ) & (x['state_geoprivacy'] == x['inat_geoprivacy']) & (x['state_iucn_equivalent'] == x['inat_iucn'])) else x['action'], axis=1)\n",
    "\n",
    "\n",
    "# display\n",
    "mergedstatusesprintfriendly = mergedstatuses[['action','inat_id','inat_taxon_id','state_scientificName','inat_scientificName', 'state_status','inat_status','state_geoprivacy','inat_geoprivacy','state_iucn_equivalent','inat_iucn','state_authority','inat_authority','state_url','inat_url','inat_description','inat_place_display_name','inat_current_synonymous_taxon_ids']]\n",
    "\n",
    "mergedstatuses.groupby('action').size()"
   ],
   "metadata": {
    "collapsed": false,
    "pycharm": {
     "name": "#%%\n"
    },
    "ExecuteTime": {
     "end_time": "2024-01-19T07:31:01.075507Z",
     "start_time": "2024-01-19T07:31:01.060725Z"
    }
   }
  },
  {
   "cell_type": "markdown",
   "source": [
    "## Updates\n",
    "Updates match cleanly to an iNaturalist taxon and existing status. We'll only do an update if the status, geoprivacy or iucn values are different."
   ],
   "metadata": {
    "collapsed": false,
    "pycharm": {
     "name": "#%% md\n"
    }
   }
  },
  {
   "cell_type": "code",
   "execution_count": 14,
   "outputs": [
    {
     "data": {
      "text/plain": "     action            taxon_name      id taxon_id                 status  \\\n1    UPDATE  Acacia equisetifolia  270956  1253756  Critically Endangered   \n2    UPDATE         Acacia latzii  270957  1254327             Vulnerable   \n3    UPDATE          Acacia peuce  270958   465191             Endangered   \n4    UPDATE   Acacia praetermissa  270959  1254561             Vulnerable   \n5    UPDATE     Acacia undoolyana  270960  1254884             Vulnerable   \n..      ...                   ...     ...      ...                    ...   \n217  REMOVE                   NaN  271024    42951              Sensitive   \n218  REMOVE                   NaN  139906   698942              Sensitive   \n219  REMOVE                   NaN  271013   724093              Sensitive   \n220  REMOVE                   NaN  234788   918383              Sensitive   \n221  REMOVE                   NaN  270961    93063              Sensitive   \n\n    iucn_equivalent                                          authority  \\\n1                50  Territory Parks and Wildlife Conservation Act ...   \n2                30  Territory Parks and Wildlife Conservation Act ...   \n3                40  Territory Parks and Wildlife Conservation Act ...   \n4                30  Territory Parks and Wildlife Conservation Act ...   \n5                30  Territory Parks and Wildlife Conservation Act ...   \n..              ...                                                ...   \n217              30                                                NaN   \n218              30                                                NaN   \n219              30                                                NaN   \n220              30                                                NaN   \n221              30                                                NaN   \n\n                                                   url geoprivacy place_id  \\\n1    https://bie.ala.org.au/species/https://id.biod...       open     9994   \n2    https://bie.ala.org.au/species/https://id.biod...       open     9994   \n3    https://bie.ala.org.au/species/https://id.biod...       open     9994   \n4    https://bie.ala.org.au/species/https://id.biod...       open     9994   \n5    https://bie.ala.org.au/species/https://id.biod...       open     9994   \n..                                                 ...        ...      ...   \n217                                                NaN       open     9994   \n218                                                NaN       open     9994   \n219                                                NaN       open     9994   \n220                                                NaN       open     9994   \n221                                                NaN       open     9994   \n\n      username                                      description  \n1    peggydnew  Listed - refer to https://nt.gov.au/environment  \n2    peggydnew  Listed - refer to https://nt.gov.au/environment  \n3    peggydnew  Listed - refer to https://nt.gov.au/environment  \n4    peggydnew  Listed - refer to https://nt.gov.au/environment  \n5    peggydnew  Listed - refer to https://nt.gov.au/environment  \n..         ...                                              ...  \n217  peggydnew  Listed - refer to https://nt.gov.au/environment  \n218  peggydnew  Listed - refer to https://nt.gov.au/environment  \n219  peggydnew  Listed - refer to https://nt.gov.au/environment  \n220  peggydnew  Listed - refer to https://nt.gov.au/environment  \n221  peggydnew  Listed - refer to https://nt.gov.au/environment  \n\n[156 rows x 12 columns]",
      "text/html": "<div>\n<style scoped>\n    .dataframe tbody tr th:only-of-type {\n        vertical-align: middle;\n    }\n\n    .dataframe tbody tr th {\n        vertical-align: top;\n    }\n\n    .dataframe thead th {\n        text-align: right;\n    }\n</style>\n<table border=\"1\" class=\"dataframe\">\n  <thead>\n    <tr style=\"text-align: right;\">\n      <th></th>\n      <th>action</th>\n      <th>taxon_name</th>\n      <th>id</th>\n      <th>taxon_id</th>\n      <th>status</th>\n      <th>iucn_equivalent</th>\n      <th>authority</th>\n      <th>url</th>\n      <th>geoprivacy</th>\n      <th>place_id</th>\n      <th>username</th>\n      <th>description</th>\n    </tr>\n  </thead>\n  <tbody>\n    <tr>\n      <th>1</th>\n      <td>UPDATE</td>\n      <td>Acacia equisetifolia</td>\n      <td>270956</td>\n      <td>1253756</td>\n      <td>Critically Endangered</td>\n      <td>50</td>\n      <td>Territory Parks and Wildlife Conservation Act ...</td>\n      <td>https://bie.ala.org.au/species/https://id.biod...</td>\n      <td>open</td>\n      <td>9994</td>\n      <td>peggydnew</td>\n      <td>Listed - refer to https://nt.gov.au/environment</td>\n    </tr>\n    <tr>\n      <th>2</th>\n      <td>UPDATE</td>\n      <td>Acacia latzii</td>\n      <td>270957</td>\n      <td>1254327</td>\n      <td>Vulnerable</td>\n      <td>30</td>\n      <td>Territory Parks and Wildlife Conservation Act ...</td>\n      <td>https://bie.ala.org.au/species/https://id.biod...</td>\n      <td>open</td>\n      <td>9994</td>\n      <td>peggydnew</td>\n      <td>Listed - refer to https://nt.gov.au/environment</td>\n    </tr>\n    <tr>\n      <th>3</th>\n      <td>UPDATE</td>\n      <td>Acacia peuce</td>\n      <td>270958</td>\n      <td>465191</td>\n      <td>Endangered</td>\n      <td>40</td>\n      <td>Territory Parks and Wildlife Conservation Act ...</td>\n      <td>https://bie.ala.org.au/species/https://id.biod...</td>\n      <td>open</td>\n      <td>9994</td>\n      <td>peggydnew</td>\n      <td>Listed - refer to https://nt.gov.au/environment</td>\n    </tr>\n    <tr>\n      <th>4</th>\n      <td>UPDATE</td>\n      <td>Acacia praetermissa</td>\n      <td>270959</td>\n      <td>1254561</td>\n      <td>Vulnerable</td>\n      <td>30</td>\n      <td>Territory Parks and Wildlife Conservation Act ...</td>\n      <td>https://bie.ala.org.au/species/https://id.biod...</td>\n      <td>open</td>\n      <td>9994</td>\n      <td>peggydnew</td>\n      <td>Listed - refer to https://nt.gov.au/environment</td>\n    </tr>\n    <tr>\n      <th>5</th>\n      <td>UPDATE</td>\n      <td>Acacia undoolyana</td>\n      <td>270960</td>\n      <td>1254884</td>\n      <td>Vulnerable</td>\n      <td>30</td>\n      <td>Territory Parks and Wildlife Conservation Act ...</td>\n      <td>https://bie.ala.org.au/species/https://id.biod...</td>\n      <td>open</td>\n      <td>9994</td>\n      <td>peggydnew</td>\n      <td>Listed - refer to https://nt.gov.au/environment</td>\n    </tr>\n    <tr>\n      <th>...</th>\n      <td>...</td>\n      <td>...</td>\n      <td>...</td>\n      <td>...</td>\n      <td>...</td>\n      <td>...</td>\n      <td>...</td>\n      <td>...</td>\n      <td>...</td>\n      <td>...</td>\n      <td>...</td>\n      <td>...</td>\n    </tr>\n    <tr>\n      <th>217</th>\n      <td>REMOVE</td>\n      <td>NaN</td>\n      <td>271024</td>\n      <td>42951</td>\n      <td>Sensitive</td>\n      <td>30</td>\n      <td>NaN</td>\n      <td>NaN</td>\n      <td>open</td>\n      <td>9994</td>\n      <td>peggydnew</td>\n      <td>Listed - refer to https://nt.gov.au/environment</td>\n    </tr>\n    <tr>\n      <th>218</th>\n      <td>REMOVE</td>\n      <td>NaN</td>\n      <td>139906</td>\n      <td>698942</td>\n      <td>Sensitive</td>\n      <td>30</td>\n      <td>NaN</td>\n      <td>NaN</td>\n      <td>open</td>\n      <td>9994</td>\n      <td>peggydnew</td>\n      <td>Listed - refer to https://nt.gov.au/environment</td>\n    </tr>\n    <tr>\n      <th>219</th>\n      <td>REMOVE</td>\n      <td>NaN</td>\n      <td>271013</td>\n      <td>724093</td>\n      <td>Sensitive</td>\n      <td>30</td>\n      <td>NaN</td>\n      <td>NaN</td>\n      <td>open</td>\n      <td>9994</td>\n      <td>peggydnew</td>\n      <td>Listed - refer to https://nt.gov.au/environment</td>\n    </tr>\n    <tr>\n      <th>220</th>\n      <td>REMOVE</td>\n      <td>NaN</td>\n      <td>234788</td>\n      <td>918383</td>\n      <td>Sensitive</td>\n      <td>30</td>\n      <td>NaN</td>\n      <td>NaN</td>\n      <td>open</td>\n      <td>9994</td>\n      <td>peggydnew</td>\n      <td>Listed - refer to https://nt.gov.au/environment</td>\n    </tr>\n    <tr>\n      <th>221</th>\n      <td>REMOVE</td>\n      <td>NaN</td>\n      <td>270961</td>\n      <td>93063</td>\n      <td>Sensitive</td>\n      <td>30</td>\n      <td>NaN</td>\n      <td>NaN</td>\n      <td>open</td>\n      <td>9994</td>\n      <td>peggydnew</td>\n      <td>Listed - refer to https://nt.gov.au/environment</td>\n    </tr>\n  </tbody>\n</table>\n<p>156 rows × 12 columns</p>\n</div>"
     },
     "execution_count": 14,
     "metadata": {},
     "output_type": "execute_result"
    }
   ],
   "source": [
    "# Headers:\n",
    "# action,taxon_name,id,taxon_id,status,iucn_equivalent,authority,url,geoprivacy,place_id,username,description\n",
    "updates = pd.DataFrame(mergedstatuses[mergedstatuses['action'].isin(['UPDATE','REMOVE'])])\n",
    "updates = updates[['action','state_scientificName','inat_id','inat_taxon_id','state_status','state_iucn_equivalent','state_authority','state_url','state_geoprivacy','place_id','username','description']]\n",
    "updates.columns = updates.columns.str.replace(\"state_\", \"\", regex=True)\n",
    "updates.columns = updates.columns.str.replace(\"inat_\", \"\", regex=True)\n",
    "updates = updates.rename(columns={'scientificName':'taxon_name'})\n",
    "updates"
   ],
   "metadata": {
    "collapsed": false,
    "pycharm": {
     "name": "#%%\n"
    },
    "ExecuteTime": {
     "end_time": "2024-01-19T07:31:11.555525Z",
     "start_time": "2024-01-19T07:31:11.543998Z"
    }
   }
  },
  {
   "cell_type": "markdown",
   "source": [
    "## Additions\n",
    "Match to an inat taxon and have a new sensitive or conservation status "
   ],
   "metadata": {
    "collapsed": false,
    "pycharm": {
     "name": "#%% md\n"
    }
   }
  },
  {
   "cell_type": "code",
   "execution_count": 15,
   "outputs": [
    {
     "data": {
      "text/plain": "    action                Taxon_Name inat_id taxon_id      Status  \\\n0      ADD      Abrodictyum obscurum     NaN   503202  Endangered   \n55     ADD   Olearia macdonnellensis     NaN  1458331  Endangered   \n207    ADD       Chromolaena odorata     NaN   199400   Sensitive   \n208    ADD  Parthenium hysterophorus     NaN   126424   Sensitive   \n\n    IUCN_equivalent                                          Authority  \\\n0                40  Territory Parks and Wildlife Conservation Act ...   \n55               40  Territory Parks and Wildlife Conservation Act ...   \n207              30       Northern Territory Department of Environment   \n208              30       Northern Territory Department of Environment   \n\n                                                   url taxon_Geoprivacy  \\\n0    https://bie.ala.org.au/species/https://id.biod...             open   \n55   https://bie.ala.org.au/species/https://id.biod...             open   \n207                                                NaN         obscured   \n208                                                NaN         obscured   \n\n    iNaturalst_Place_ID   username  \\\n0                  9994  peggydnew   \n55                 9994  peggydnew   \n207                9994  peggydnew   \n208                9994  peggydnew   \n\n                                         Description  \n0    Listed - refer to https://nt.gov.au/environment  \n55   Listed - refer to https://nt.gov.au/environment  \n207  Listed - refer to https://nt.gov.au/environment  \n208  Listed - refer to https://nt.gov.au/environment  ",
      "text/html": "<div>\n<style scoped>\n    .dataframe tbody tr th:only-of-type {\n        vertical-align: middle;\n    }\n\n    .dataframe tbody tr th {\n        vertical-align: top;\n    }\n\n    .dataframe thead th {\n        text-align: right;\n    }\n</style>\n<table border=\"1\" class=\"dataframe\">\n  <thead>\n    <tr style=\"text-align: right;\">\n      <th></th>\n      <th>action</th>\n      <th>Taxon_Name</th>\n      <th>inat_id</th>\n      <th>taxon_id</th>\n      <th>Status</th>\n      <th>IUCN_equivalent</th>\n      <th>Authority</th>\n      <th>url</th>\n      <th>taxon_Geoprivacy</th>\n      <th>iNaturalst_Place_ID</th>\n      <th>username</th>\n      <th>Description</th>\n    </tr>\n  </thead>\n  <tbody>\n    <tr>\n      <th>0</th>\n      <td>ADD</td>\n      <td>Abrodictyum obscurum</td>\n      <td>NaN</td>\n      <td>503202</td>\n      <td>Endangered</td>\n      <td>40</td>\n      <td>Territory Parks and Wildlife Conservation Act ...</td>\n      <td>https://bie.ala.org.au/species/https://id.biod...</td>\n      <td>open</td>\n      <td>9994</td>\n      <td>peggydnew</td>\n      <td>Listed - refer to https://nt.gov.au/environment</td>\n    </tr>\n    <tr>\n      <th>55</th>\n      <td>ADD</td>\n      <td>Olearia macdonnellensis</td>\n      <td>NaN</td>\n      <td>1458331</td>\n      <td>Endangered</td>\n      <td>40</td>\n      <td>Territory Parks and Wildlife Conservation Act ...</td>\n      <td>https://bie.ala.org.au/species/https://id.biod...</td>\n      <td>open</td>\n      <td>9994</td>\n      <td>peggydnew</td>\n      <td>Listed - refer to https://nt.gov.au/environment</td>\n    </tr>\n    <tr>\n      <th>207</th>\n      <td>ADD</td>\n      <td>Chromolaena odorata</td>\n      <td>NaN</td>\n      <td>199400</td>\n      <td>Sensitive</td>\n      <td>30</td>\n      <td>Northern Territory Department of Environment</td>\n      <td>NaN</td>\n      <td>obscured</td>\n      <td>9994</td>\n      <td>peggydnew</td>\n      <td>Listed - refer to https://nt.gov.au/environment</td>\n    </tr>\n    <tr>\n      <th>208</th>\n      <td>ADD</td>\n      <td>Parthenium hysterophorus</td>\n      <td>NaN</td>\n      <td>126424</td>\n      <td>Sensitive</td>\n      <td>30</td>\n      <td>Northern Territory Department of Environment</td>\n      <td>NaN</td>\n      <td>obscured</td>\n      <td>9994</td>\n      <td>peggydnew</td>\n      <td>Listed - refer to https://nt.gov.au/environment</td>\n    </tr>\n  </tbody>\n</table>\n</div>"
     },
     "execution_count": 15,
     "metadata": {},
     "output_type": "execute_result"
    }
   ],
   "source": [
    "# Headers:\n",
    "# Taxon_Name,Status,Authority,IUCN_equivalent,Description,iNaturalist_Place_ID,url,Taxon_Geoprivacy,Username,taxon_id\n",
    "\n",
    "additions = pd.DataFrame(mergedstatuses[mergedstatuses['action'] == \"ADD\"])\n",
    "additions = additions[['action','state_scientificName','inat_id','inat_taxon_id','state_status','state_iucn_equivalent','state_authority','state_url','state_geoprivacy','place_id','username','description']]\n",
    "additions = additions.rename(columns={'state_scientificName':'Taxon_Name',\n",
    "                                      'state_status':'Status',\n",
    "                                      'state_authority':'Authority',\n",
    "                                      'state_iucn_equivalent':'IUCN_equivalent',\n",
    "                                      'description':'Description',\n",
    "                                      'place_id':'iNaturalst_Place_ID',\n",
    "                                      'state_url':'url',\n",
    "                                      'state_geoprivacy':'taxon_Geoprivacy',\n",
    "                                      'inat_taxon_id':'taxon_id'})\n",
    "additions"
   ],
   "metadata": {
    "collapsed": false,
    "pycharm": {
     "name": "#%%\n"
    },
    "ExecuteTime": {
     "end_time": "2024-01-19T07:31:15.224097Z",
     "start_time": "2024-01-19T07:31:15.218943Z"
    }
   }
  },
  {
   "cell_type": "code",
   "execution_count": 16,
   "outputs": [],
   "source": [
    "# write these to output files\n",
    "mergedstatusesprintfriendly.to_csv(projectdir + \"data/out/summaries/nt.csv\",index=False)\n",
    "updates.to_csv(projectdir + \"data/out/updates-nt.csv\", index=False)\n",
    "additions.to_csv(projectdir + \"data/out/additions-nt.csv\", index=False)"
   ],
   "metadata": {
    "collapsed": false,
    "ExecuteTime": {
     "end_time": "2024-01-19T07:31:17.959548Z",
     "start_time": "2024-01-19T07:31:17.948106Z"
    }
   }
  }
 ],
 "metadata": {
  "kernelspec": {
   "display_name": "Python 3",
   "language": "python",
   "name": "python3"
  },
  "language_info": {
   "codemirror_mode": {
    "name": "ipython",
    "version": 2
   },
   "file_extension": ".py",
   "mimetype": "text/x-python",
   "name": "python",
   "nbconvert_exporter": "python",
   "pygments_lexer": "ipython2",
   "version": "2.7.6"
  }
 },
 "nbformat": 4,
 "nbformat_minor": 0
}
