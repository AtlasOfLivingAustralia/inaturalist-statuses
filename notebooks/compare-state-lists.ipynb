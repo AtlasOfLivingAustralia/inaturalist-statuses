{
 "cells": [
  {
   "cell_type": "markdown",
   "source": [
    "# iNat Statuses \n",
    "\n",
    "Prereq:\n",
    "1. Run collate-status-taxa.ipynb which generates `inat-aust-status-taxa.csv` (Australian statuses joined to taxa names)\n",
    "\n",
    "This notebook:\n",
    "1. Setup & nominate the state\n",
    "2. Download sensitive and conservation lists \n",
    "    a. merge them into a single statelist\n",
    "    b. match to the inat taxonomy (left join)\n",
    "3. Filter `inat-aust-status-taxa.csv` for this state\n",
    "4. Merge the state and inat lists, outer join on inat_taxon_id. Apply these rules to set up the action:\n",
    "        UPDATE: inat status and state status both exist\n",
    "        REMOVE: inat status exists, state status does not\n",
    "        ADD: state status exists, inat status does not (on a matching taxon)\n",
    "        NO MATCH: state status exists, inat taxa not found\n"
   ],
   "metadata": {
    "collapsed": false
   },
   "id": "354861009dc17cf0"
  },
  {
   "cell_type": "markdown",
   "source": [
    "## 1. Set up and nominate the state"
   ],
   "metadata": {
    "collapsed": false
   },
   "id": "4bf60f10fca280f"
  },
  {
   "cell_type": "code",
   "execution_count": 8,
   "id": "initial_id",
   "metadata": {
    "collapsed": true,
    "ExecuteTime": {
     "end_time": "2025-01-09T22:47:58.726105Z",
     "start_time": "2025-01-09T22:47:58.710034Z"
    }
   },
   "outputs": [],
   "source": [
    "import pandas as pd\n",
    "import sys\n",
    "import os\n",
    "projectdir = os.path.dirname(os.getcwd()) + \"/\" # parent dir of cwd\n",
    "sourcedir = projectdir + \"data/in/\"\n",
    "sys.path.append(os.path.abspath(projectdir + \"notebooks/includes/\"))\n",
    "import list_functions  as lf\n",
    "\n",
    "state = \"wa\"\n",
    "\n",
    "if (state == \"qld\"):\n",
    "    stateregex = \"Qld|QLD|Queensland|QUEENSLAND|QL\"\n",
    "    stateurlregex = \".qld.\"\n",
    "    sensitivelistuid = \"dr493\"\n",
    "    conservationlistuid = \"dr652\"\n",
    "    conservationauthority = \"Queensland Nature Conservation Act 1992\"\n",
    "    sensitiveauthority = \"Qld Department of Environment and Science\"\n",
    "elif (state == \"nsw\"):\n",
    "    stateregex = \"NSW|New South Wales\"\n",
    "    stateurlregex = \".nsw.\"\n",
    "    sensitivelistuid = \"dr487\"\n",
    "    conservationlistuid = \"dr650\"\n",
    "    conservationauthority = \"Biodiversity Conservation Act 2016\"\n",
    "    sensitiveauthority = \"New South Wales Office of Environment and Heritage\"\n",
    "elif (state == \"act\"):\n",
    "    stateregex = \"ACT Government|Australian Capital Territory| ACT, AU\"\n",
    "    stateurlregex = \".act.gov\"\n",
    "    sensitivelistuid = \"dr2627\"\n",
    "    conservationlistuid = \"dr649\" \n",
    "    conservationauthority = \"Nature Conservation Act 2014 (ACT)\"\n",
    "    sensitiveauthority = \"ACT Government\"\n",
    "elif (state == \"nt\"):\n",
    "    stateregex = \"Northern Territory|NT NRETAS\"\n",
    "    stateurlregex = \" \"\n",
    "    sensitivelistuid = \"dr492\"\n",
    "    conservationlistuid = \"dr651\"\n",
    "    conservationauthority = \"Territory Parks and Wildlife Conservation Act\"\n",
    "    sensitiveauthority = \"Northern Territory Department of Environment and Natural Resources\"\n",
    "elif (state == \"sa\"):\n",
    "    stateregex = \" SA |South Australia|SOUTH AUSTRALIA\"\n",
    "    stateurlregex = \"sa.gov.au\"\n",
    "    sensitivelistuid = \"dr884\"\n",
    "    conservationlistuid = \"dr653\"\n",
    "    conservationauthority = \"\"\n",
    "    sensitiveauthority = \"\"\n",
    "elif (state == \"tas\"):\n",
    "    stateregex = \"Tasmania|TAS\"\n",
    "    stateurlregex = \".tas.gov\"\n",
    "    sensitivelistuid = \"dr491\"\n",
    "    conservationlistuid = \"dr654\"\n",
    "    conservationauthority = \"\"\n",
    "    sensitiveauthority = \"\"\n",
    "elif (state == \"vic\"):\n",
    "    stateregex = \" VIC |Victoria|VICTORIA|Vic\"\n",
    "    stateurlregex = \"vic.gov.au\"\n",
    "    sensitivelistuid = \"dr490\"\n",
    "    conservationlistuid = \"dr655\"\n",
    "    conservationauthority = \"Victorian Department of Energy, Environment and Climate Action\"\n",
    "    sensitiveauthority = \"Victorian Biodiversity Atlas\"\n",
    "elif (state == \"wa\"):\n",
    "    stateregex = \" WA |WEST AUST|West Aust|WESTERN AUSTRALIA|Western Australia\"\n",
    "    stateurlregex = \".wa.gov.au\"\n",
    "    sensitivelistuid = \"dr467\"\n",
    "    conservationlistuid = \"dr2201\"\n",
    "    conservationauthority = \"WA Deparment of Biodiversity, Conservation and Attractions\"\n",
    "    sensitiveauthority = \"WA Deparment of Biodiversity, Conservation and Attractions\"\n",
    "\n",
    "# functions\n",
    "def filter_inat_statuses(stateregex: str, urlregex: str):\n",
    "    taxastatus = pd.read_csv(sourcedir + \"inat-aust-status-taxa.csv\", encoding='UTF-8',na_filter=False,dtype=str)\n",
    "    authoritydf = taxastatus['authority'].drop_duplicates().sort_values()\n",
    "    authoritydf = authoritydf[pd.Series(authoritydf).str.contains(stateregex)]\n",
    "    urldf = taxastatus['url'].drop_duplicates().sort_values()\n",
    "    urldf = urldf[pd.Series(urldf).str.contains(urlregex)]\n",
    "    placedisplaydf = taxastatus['place_display_name'].drop_duplicates().sort_values()\n",
    "    placedisplaydf = placedisplaydf[pd.Series(placedisplaydf).str.contains(stateregex)]\n",
    "    placedf = taxastatus['place_name'].drop_duplicates().sort_values()\n",
    "    placedf = placedf[pd.Series(placedf).str.contains(stateregex)]\n",
    "    # concat all and remove duplicates\n",
    "    statedf = pd.concat([taxastatus.apply(lambda row: row[taxastatus['place_display_name'].isin(placedisplaydf)]),\n",
    "                         taxastatus.apply(lambda row: row[taxastatus['place_name'].isin(placedf)]),\n",
    "                         taxastatus.apply(lambda row: row[taxastatus['url'].isin(urldf)]),\n",
    "                         taxastatus.apply(\n",
    "                             lambda row: row[taxastatus['authority'].isin(authoritydf)])]).drop_duplicates()\n",
    "    # map the iucn statuses\n",
    "    iucn_map_num = {\n",
    "        '10':'Least Concern',\n",
    "        '20':'Near Threatened',\n",
    "        '30':'Vulnerable',\n",
    "        '40':'Endangered',\n",
    "        '50':'Critically Endangered',\n",
    "        '70':'Extinct'\n",
    "    }\n",
    "    icun_map_status = {\n",
    "        'Least concern':'10',\n",
    "        'Special least concern':'10',\n",
    "        'Critically Endangered':'50',\n",
    "        'Endangered':'40',\n",
    "        'Vulnerable':'30',\n",
    "        'Extinct':'70',\n",
    "        'Extinct in the wild':'70',\n",
    "        'Near Threatened':'20'\n",
    "    }\n",
    "    statedf['iucn_equiv'] = statedf['iucn'].map(iucn_map_num).fillna('na')\n",
    "    return statedf.sort_values(['taxon_id', 'user_id']).add_prefix(\"inatstatus_\")\n",
    "\n",
    "def download_ala_lists(state: str, conservationlistuid: str, sensitivelistuid: str):\n",
    "    sensitivelist = lf.download_ala_specieslist(\"https://lists.ala.org.au/ws/speciesListItems/\" + sensitivelistuid + \"?max=10000&includeKVP=true\")\n",
    "    sensitivelist = lf.kvp_to_columns(sensitivelist)\n",
    "    sensitivelist.to_csv(sourcedir + \"/state-lists/\" + state + \"-ala-sensitive.csv\", index=False)\n",
    "    \n",
    "    conservationlist = lf.download_ala_specieslist(\"https://lists.ala.org.au/ws/speciesListItems/\" + conservationlistuid + \"?max=10000&includeKVP=true\")\n",
    "    conservationlist = lf.kvp_to_columns(conservationlist)\n",
    "    conservationlist.to_csv(sourcedir + \"/state-lists/\" + state + \"-ala-conservation.csv\", index=False)\n"
   ]
  },
  {
   "cell_type": "markdown",
   "source": [
    "## 2. Download the lists from ALA "
   ],
   "metadata": {
    "collapsed": false
   },
   "id": "24771f38f9e6c025"
  },
  {
   "cell_type": "code",
   "execution_count": 9,
   "outputs": [],
   "source": [
    "# %%script echo skipping # comment this line to download dataset from lists.ala.org.au the web and save locally\n",
    "download_ala_lists(state,conservationlistuid,sensitivelistuid)"
   ],
   "metadata": {
    "collapsed": false,
    "ExecuteTime": {
     "end_time": "2025-01-09T22:48:23.431300Z",
     "start_time": "2025-01-09T22:48:05.545278Z"
    }
   },
   "id": "b1b331b34df14b8f"
  },
  {
   "cell_type": "code",
   "execution_count": 10,
   "outputs": [
    {
     "data": {
      "text/plain": "state_status                       state_geoprivacy\nConservation Dependent             obscured               7\nCritically Endangered              obscured             233\nEndangered                         obscured             210\nExtinct                            obscured              38\nMigratory                          obscured              94\nOther Specially Protected          obscured               4\nPriority 1: Poorly-known species   obscured            1204\nPriority 2: Poorly-known species   obscured             997\nPriority 3: Poorly-known species   obscured            1085\n                                   open                   1\nPriority 4: Rare, Near Threatened  obscured             425\nSensitive                          obscured               1\nVulnerable                         obscured             251\nName: state_name, dtype: int64"
     },
     "execution_count": 10,
     "metadata": {},
     "output_type": "execute_result"
    }
   ],
   "source": [
    "# A. Read lists and merge\n",
    "conservationlist = pd.read_csv(sourcedir + \"/state-lists/\" + state + \"-ala-conservation.csv\", dtype=str)\n",
    "sensitivelist = pd.read_csv(sourcedir + \"/state-lists/\" + state + \"-ala-sensitive.csv\", dtype=str)\n",
    "\n",
    "# add whether obscured|private to the sensitive list\n",
    "# manage nuance between lists\n",
    "\n",
    "sensitivemapping = {\n",
    "    \"100km\":\"private\",\n",
    "    \"WITHHOLD\":\"private\"\n",
    "}\n",
    "sensitivelist['geoprivacy'] = sensitivelist['generalisation'].str.strip().map(sensitivemapping).fillna(\"obscured\")\n",
    "\n",
    "if (state == \"sa\"):\n",
    "    conservationlist.rename(columns = {'IUCN_Equivalent_Status':'IUCN_equivalent_status'},inplace=True)\n",
    "\n",
    "statelist = sensitivelist.merge(conservationlist,how=\"outer\",on=\"name\")\n",
    "statelist['geoprivacy'] = statelist['geoprivacy'].fillna('open')\n",
    "statelist['status'] = statelist['status'].fillna('Sensitive') # no conservation status  \n",
    "statelist['IUCN_equivalent_status'] = statelist['IUCN_equivalent_status'].fillna('Vulnerable')\n",
    "statelist = statelist[['name','geoprivacy','status','IUCN_equivalent_status']].add_prefix(\"state_\")\n",
    "statelist.groupby(['state_status','state_geoprivacy'])['state_name'].size()"
   ],
   "metadata": {
    "collapsed": false,
    "ExecuteTime": {
     "end_time": "2025-01-09T22:48:26.926971Z",
     "start_time": "2025-01-09T22:48:26.812004Z"
    }
   },
   "id": "10bebc9a2d7fa874"
  },
  {
   "cell_type": "code",
   "execution_count": 11,
   "outputs": [
    {
     "data": {
      "text/plain": "                                             state_name state_geoprivacy  \\\n0                                        Acacia anomala         obscured   \n1                                        Acacia aphylla         obscured   \n2                                    Acacia auratiflora         obscured   \n3                                     Acacia brachypoda         obscured   \n4                                     Acacia caesariata         obscured   \n...                                                 ...              ...   \n4548  Baeckea sp. Crossroads (B.L.Rye & M.E.Trudgen ...         obscured   \n4549  Baeckea sp. Forrestania (K.R.Newbey 1105) WA H...         obscured   \n4550   Pterostylis sp. Paynes Find (G.Brockman GBB 526)         obscured   \n4551  Pterostylis sp. scooped sepals (G.Brockman GBB...         obscured   \n4552  Eucalyptus sp. Dunbar Road (D.Nicolle & M.Fren...             open   \n\n                          state_status      state_IUCN_equivalent_status  \\\n0                           Vulnerable                        Vulnerable   \n1                           Vulnerable                        Vulnerable   \n2                           Vulnerable                        Vulnerable   \n3                           Vulnerable                        Vulnerable   \n4                           Vulnerable                        Vulnerable   \n...                                ...                               ...   \n4548  Priority 2: Poorly-known species                        Vulnerable   \n4549  Priority 2: Poorly-known species                        Vulnerable   \n4550  Priority 3: Poorly-known species                        Vulnerable   \n4551  Priority 3: Poorly-known species                        Vulnerable   \n4552  Priority 3: Poorly-known species  Priority 3: Poorly-known species   \n\n     inattaxa_taxon_id inattaxa_taxon_name inattaxa_rank  \\\n0               898615      Acacia anomala       species   \n1               139888      Acacia aphylla       species   \n2               139905  Acacia auratiflora       species   \n3               139909   Acacia brachypoda       species   \n4              1252559   Acacia caesariata       species   \n...                ...                 ...           ...   \n4548               NaN                 NaN           NaN   \n4549               NaN                 NaN           NaN   \n4550               NaN                 NaN           NaN   \n4551               NaN                 NaN           NaN   \n4552               NaN                 NaN           NaN   \n\n     inattaxa_observations_count inattaxa_is_active  \n0                              0                  t  \n1                             39                  t  \n2                              0                  t  \n3                              0                  t  \n4                              0                  t  \n...                          ...                ...  \n4548                         NaN                NaN  \n4549                         NaN                NaN  \n4550                         NaN                NaN  \n4551                         NaN                NaN  \n4552                         NaN                NaN  \n\n[4553 rows x 9 columns]",
      "text/html": "<div>\n<style scoped>\n    .dataframe tbody tr th:only-of-type {\n        vertical-align: middle;\n    }\n\n    .dataframe tbody tr th {\n        vertical-align: top;\n    }\n\n    .dataframe thead th {\n        text-align: right;\n    }\n</style>\n<table border=\"1\" class=\"dataframe\">\n  <thead>\n    <tr style=\"text-align: right;\">\n      <th></th>\n      <th>state_name</th>\n      <th>state_geoprivacy</th>\n      <th>state_status</th>\n      <th>state_IUCN_equivalent_status</th>\n      <th>inattaxa_taxon_id</th>\n      <th>inattaxa_taxon_name</th>\n      <th>inattaxa_rank</th>\n      <th>inattaxa_observations_count</th>\n      <th>inattaxa_is_active</th>\n    </tr>\n  </thead>\n  <tbody>\n    <tr>\n      <th>0</th>\n      <td>Acacia anomala</td>\n      <td>obscured</td>\n      <td>Vulnerable</td>\n      <td>Vulnerable</td>\n      <td>898615</td>\n      <td>Acacia anomala</td>\n      <td>species</td>\n      <td>0</td>\n      <td>t</td>\n    </tr>\n    <tr>\n      <th>1</th>\n      <td>Acacia aphylla</td>\n      <td>obscured</td>\n      <td>Vulnerable</td>\n      <td>Vulnerable</td>\n      <td>139888</td>\n      <td>Acacia aphylla</td>\n      <td>species</td>\n      <td>39</td>\n      <td>t</td>\n    </tr>\n    <tr>\n      <th>2</th>\n      <td>Acacia auratiflora</td>\n      <td>obscured</td>\n      <td>Vulnerable</td>\n      <td>Vulnerable</td>\n      <td>139905</td>\n      <td>Acacia auratiflora</td>\n      <td>species</td>\n      <td>0</td>\n      <td>t</td>\n    </tr>\n    <tr>\n      <th>3</th>\n      <td>Acacia brachypoda</td>\n      <td>obscured</td>\n      <td>Vulnerable</td>\n      <td>Vulnerable</td>\n      <td>139909</td>\n      <td>Acacia brachypoda</td>\n      <td>species</td>\n      <td>0</td>\n      <td>t</td>\n    </tr>\n    <tr>\n      <th>4</th>\n      <td>Acacia caesariata</td>\n      <td>obscured</td>\n      <td>Vulnerable</td>\n      <td>Vulnerable</td>\n      <td>1252559</td>\n      <td>Acacia caesariata</td>\n      <td>species</td>\n      <td>0</td>\n      <td>t</td>\n    </tr>\n    <tr>\n      <th>...</th>\n      <td>...</td>\n      <td>...</td>\n      <td>...</td>\n      <td>...</td>\n      <td>...</td>\n      <td>...</td>\n      <td>...</td>\n      <td>...</td>\n      <td>...</td>\n    </tr>\n    <tr>\n      <th>4548</th>\n      <td>Baeckea sp. Crossroads (B.L.Rye &amp; M.E.Trudgen ...</td>\n      <td>obscured</td>\n      <td>Priority 2: Poorly-known species</td>\n      <td>Vulnerable</td>\n      <td>NaN</td>\n      <td>NaN</td>\n      <td>NaN</td>\n      <td>NaN</td>\n      <td>NaN</td>\n    </tr>\n    <tr>\n      <th>4549</th>\n      <td>Baeckea sp. Forrestania (K.R.Newbey 1105) WA H...</td>\n      <td>obscured</td>\n      <td>Priority 2: Poorly-known species</td>\n      <td>Vulnerable</td>\n      <td>NaN</td>\n      <td>NaN</td>\n      <td>NaN</td>\n      <td>NaN</td>\n      <td>NaN</td>\n    </tr>\n    <tr>\n      <th>4550</th>\n      <td>Pterostylis sp. Paynes Find (G.Brockman GBB 526)</td>\n      <td>obscured</td>\n      <td>Priority 3: Poorly-known species</td>\n      <td>Vulnerable</td>\n      <td>NaN</td>\n      <td>NaN</td>\n      <td>NaN</td>\n      <td>NaN</td>\n      <td>NaN</td>\n    </tr>\n    <tr>\n      <th>4551</th>\n      <td>Pterostylis sp. scooped sepals (G.Brockman GBB...</td>\n      <td>obscured</td>\n      <td>Priority 3: Poorly-known species</td>\n      <td>Vulnerable</td>\n      <td>NaN</td>\n      <td>NaN</td>\n      <td>NaN</td>\n      <td>NaN</td>\n      <td>NaN</td>\n    </tr>\n    <tr>\n      <th>4552</th>\n      <td>Eucalyptus sp. Dunbar Road (D.Nicolle &amp; M.Fren...</td>\n      <td>open</td>\n      <td>Priority 3: Poorly-known species</td>\n      <td>Priority 3: Poorly-known species</td>\n      <td>NaN</td>\n      <td>NaN</td>\n      <td>NaN</td>\n      <td>NaN</td>\n      <td>NaN</td>\n    </tr>\n  </tbody>\n</table>\n<p>4553 rows × 9 columns</p>\n</div>"
     },
     "execution_count": 11,
     "metadata": {},
     "output_type": "execute_result"
    }
   ],
   "source": [
    "# B. # get the inaturalist taxonomy matches for additions \n",
    "inattaxa = pd.read_csv(sourcedir + \"inaturalist-australia-9/inaturalist-australia-9-taxa.csv\",dtype=str,usecols=['id','name','rank','observations_count','is_active'])\n",
    "inattaxa = inattaxa[inattaxa['is_active'] == 't']\n",
    "inattaxa = inattaxa.rename(columns = {'id':'taxon_id','name':'taxon_name'})\n",
    "inattaxa = inattaxa.add_prefix(\"inattaxa_\")\n",
    "statelist = statelist.merge(inattaxa,how=\"left\",left_on='state_name',right_on='inattaxa_taxon_name')\n",
    "statelist"
   ],
   "metadata": {
    "collapsed": false,
    "ExecuteTime": {
     "end_time": "2025-01-09T22:49:47.783278Z",
     "start_time": "2025-01-09T22:49:45.608696Z"
    }
   },
   "id": "2363ac1b4b11d5b5"
  },
  {
   "cell_type": "markdown",
   "source": [
    "## 3. Filter iNat statuses for this state"
   ],
   "metadata": {
    "collapsed": false
   },
   "id": "2ac33b5060c5cafd"
  },
  {
   "cell_type": "code",
   "execution_count": 12,
   "outputs": [
    {
     "data": {
      "text/plain": "inatstatus_status\nBiosecurity Significant                1\nCR                                     1\nConservation Dependent                 5\nCritically Endangered                161\nEN                                     6\nEX                                     1\nEndangered                           161\nExtinct                               25\nMigratory                             93\nNT                                     3\nNot listed                             1\nOther Specially Protected              4\nP1                                    14\nP2                                    30\nP3                                    35\nP4                                    10\nPotentially sensitive locations        1\nPriority 1                             2\nPriority 1: Poorly-known species     539\nPriority 2                             1\nPriority 2: Poorly-known species     576\nPriority 3: Poorly-known species     712\nPriority 4: Rare, Near Threatened    334\nPriority Three                         1\nPriority Two                           1\nT                                      8\nThreatened                             1\nVU                                     4\nVulnerable                           192\ncritically endangered                  2\nendangered                            90\npresumed extinct                       1\nvulnerable                            12\ndtype: int64"
     },
     "execution_count": 12,
     "metadata": {},
     "output_type": "execute_result"
    }
   ],
   "source": [
    "inatstatuses = filter_inat_statuses(stateregex, stateurlregex)\n",
    "inatstatuses.groupby(['inatstatus_status']).size()"
   ],
   "metadata": {
    "collapsed": false,
    "ExecuteTime": {
     "end_time": "2025-01-09T22:49:55.870728Z",
     "start_time": "2025-01-09T22:49:55.729921Z"
    }
   },
   "id": "c28e8207ea2e8d4e"
  },
  {
   "cell_type": "markdown",
   "source": [
    "4. Merge the state and inat lists, outer join on inat_taxon_id. Apply these rules to set up the action:\n",
    "        UPDATE: inat status and state status both exist\n",
    "        REMOVE: inat status exists, state status does not\n",
    "        ADD: state status exists, inat status does not (on a matching taxon)\n",
    "        NO MATCH: state status exists, inat taxa not found"
   ],
   "metadata": {
    "collapsed": false
   },
   "id": "d0515e7c00fcb6b9"
  },
  {
   "cell_type": "code",
   "execution_count": 13,
   "outputs": [
    {
     "data": {
      "text/plain": "action\nADD                    273\nNO CHANGE              278\nNO INAT TAXA MATCH    1782\nNOT ON STATE LIST      452\nUPDATE                2301\ndtype: int64"
     },
     "execution_count": 13,
     "metadata": {},
     "output_type": "execute_result"
    }
   ],
   "source": [
    "mergedstatuses = statelist.merge(inatstatuses,how=\"outer\",left_on='state_name',right_on='inatstatus_scientificName')\n",
    "\n",
    "# UPDATE: inat status and state status both exist\n",
    "# REMOVE: inat status exists, state status does not\n",
    "# ADD: state status exists, inat status does not (matching taxon)\n",
    "# NO MATCH: state status exists, inat taxa not found\n",
    "\n",
    "mergedstatuses['action'] = 'na'\n",
    "mergedstatuses.loc[mergedstatuses['inatstatus_id'].notnull() & mergedstatuses['state_name'].notnull(), 'action'] = \"UPDATE\"\n",
    "mergedstatuses.loc[mergedstatuses['inatstatus_id'].isnull() & mergedstatuses['inattaxa_taxon_id'].notnull(), 'action'] = \"ADD\"\n",
    "mergedstatuses.loc[mergedstatuses['inatstatus_id'].notnull() & mergedstatuses['state_name'].isnull(), 'action'] = \"NOT ON STATE LIST\"\n",
    "mergedstatuses.loc[mergedstatuses['inatstatus_id'].isnull() & mergedstatuses['inattaxa_taxon_id'].isnull(), 'action'] = \"NO INAT TAXA MATCH\"\n",
    "\n",
    "#mergedstatuses['inat_taxa_name'] = mergedstatuses.apply(lambda x: x['inattaxa_taxon_name'] if (pd.notnull(['inattaxa_taxon_name'])) else x['inatstatus_scientificName'],axis=1)\n",
    "mergedstatuses['inat_taxa_name'] = mergedstatuses['inatstatus_scientificName'].fillna(mergedstatuses['inattaxa_taxon_name'])\n",
    "\n",
    "# only update those with different values \n",
    "mergedstatuses['action'] = mergedstatuses.apply(lambda x: \"NO CHANGE\" if (x['action'] == \"UPDATE\") & ((x['state_status'] == x['inatstatus_status']) & (x['state_geoprivacy'] == x['inatstatus_geoprivacy'] ) & (x['state_IUCN_equivalent_status'] == x['inatstatus_iucn_equiv'])) else x['action'], axis=1)\n",
    "\n",
    "mergedstatuses['inat_link'] = mergedstatuses.apply(lambda x: \"https://inaturalist.ala.org.au/conservation_statuses/\" + str(x['inatstatus_id']) + \"/edit\" if (x['action'] == \"UPDATE\") | (x['action'] == \"NOT ON STATE LIST\") else ( \"https://inaturalist.ala.org.au/taxa/\" + str(x['inattaxa_taxon_id']) + \"/conservation_statuses/new\" if(x['action'] == \"ADD\") else \"https://inaturalist.ala.org.au/taxa/\" + str(x['inattaxa_taxon_id'])), axis=1)\n",
    "\n",
    "# display\n",
    "mergedstatusesprintfriendly = mergedstatuses[['action','inatstatus_id','inattaxa_taxon_id','state_name','inat_taxa_name', 'state_status','inatstatus_status','state_geoprivacy','inatstatus_geoprivacy','state_IUCN_equivalent_status','inatstatus_iucn_equiv','inatstatus_description','inatstatus_references','inatstatus_place_display_name','inatstatus_current_synonymous_taxon_ids','inat_link']]\n",
    "# 'state_authority','inat_authority','state_url','inat_url',\n",
    "mergedstatusesprintfriendly.to_csv(projectdir + \"data/out/summaries/\" + state + \".csv\",index=False)\n",
    "mergedstatuses.groupby('action').size()"
   ],
   "metadata": {
    "collapsed": false,
    "ExecuteTime": {
     "end_time": "2025-01-09T22:50:07.511989Z",
     "start_time": "2025-01-09T22:50:07.405053Z"
    }
   },
   "id": "689aef5708f143e5"
  }
 ],
 "metadata": {
  "kernelspec": {
   "display_name": "Python 3",
   "language": "python",
   "name": "python3"
  },
  "language_info": {
   "codemirror_mode": {
    "name": "ipython",
    "version": 2
   },
   "file_extension": ".py",
   "mimetype": "text/x-python",
   "name": "python",
   "nbconvert_exporter": "python",
   "pygments_lexer": "ipython2",
   "version": "2.7.6"
  }
 },
 "nbformat": 4,
 "nbformat_minor": 5
}
