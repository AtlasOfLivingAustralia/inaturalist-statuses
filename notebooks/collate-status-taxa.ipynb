{
 "cells": [
  {
   "cell_type": "markdown",
   "metadata": {
    "collapsed": true,
    "pycharm": {
     "name": "#%% md\n"
    }
   },
   "source": [
    "# Collate iNaturalist taxon status data\n",
    "\n",
    "**Steps covered in this notebook:**\n",
    "1. Extract all the current statuses in Australian jurisdictions in the export (eg.AU or Australia place, .gov.au in the URL or user 708886)\n",
    "2. Resolve the taxon name for each using the iNaturalist Taxon DwCA at https://www.inaturalist.org/taxa/inaturalist-taxonomy.dwca.zip (~350MB) or the iNat taxon API (if the taxon is inactive in iNaturalist)\n",
    "\n",
    "File output: `inat-aust-status-taxa.csv` containing Australian conservation statuses,\n",
    "\n",
    "**Next steps:**\n",
    "State by state establish the changes that need to be made:\n",
    "    a. new - any new species that appear in the state lists but do not have a status in inaturalist (ADD)\n",
    "    b. updates - any changes to statuses (update template, action='UPDATE')\n",
    "    c. removals - any statuses which were added by us previously (user_id = 708886) list which are incorrect (update template, action='REMOVE')\n",
    "    d. flags - are there any statuses by other users that need to be flagged?"
   ]
  },
  {
   "cell_type": "markdown",
   "source": [
    "## 1. Read in the iNaturalist Conservation Statuses export\n",
    "Find the Australian statuses by querying:\n",
    "* place names and display place names containing `AU`, `Australia` etc\n",
    "* urls containing the string `.gov.au`\n",
    "* records with a user id 708886 (Peggy who submitted the last round of statuses)"
   ],
   "metadata": {
    "collapsed": false
   }
  },
  {
   "cell_type": "code",
   "execution_count": 5,
   "outputs": [
    {
     "data": {
      "text/plain": "            id taxon_id  user_id place_id source_id  \\\n0       210936    78570                               \n1       228106   219800   119123     6883             \n2       224080   239472    51061       50             \n3       228110   219828   119123     6834             \n4       294175  1433836  4350079     7236             \n...        ...      ...      ...      ...       ...   \n282266  298475   807416  4320069    10572             \n282267  298480  1249122  7739024                      \n282268  298481  1219541  7739024   130979             \n282269  294211   160210   887173                      \n282270  294212   160210   887173        9             \n\n                                               authority status  \\\n0                                          IUCN Red List     LC   \n1                                            NatureServe     S2   \n2                                            NatureServe   S2S3   \n3                                            NatureServe   S2S4   \n4                                                   BAFU     NT   \n...                                                  ...    ...   \n282266  Inventaire national du patrimoine naturel (INPN)     EN   \n282267         Espírito Santo, São Paulo, Rio de Janeiro     EN   \n282268       BANCO DE DATOS DE BIODIVERSIDAD DE CANARIAS     NE   \n282269                                       NatureServe     G1   \n282270                      New Mexico Forestry Division      E   \n\n                                                      url  \\\n0       https://www.iucnredlist.org/species/109716665/...   \n1                       https://explorer.natureserve.org/   \n2       https://explorer.natureserve.org/Taxon/ELEMENT...   \n3                       https://explorer.natureserve.org/   \n4         https://www.wsl.ch/map_fungi/search?taxon=32642   \n...                                                   ...   \n282266  https://inpn.mnhn.fr/espece/cd_nom/112293/tab/...   \n282267  https://proflora.jbrj.gov.br/html/Ischnosiphon...   \n282268  https://www.biodiversidadcanarias.es/biota/esp...   \n282269  https://explorer.natureserve.org/Taxon/ELEMENT...   \n282270  https://www.emnrd.nm.gov/sfd/rare-plants/state...   \n\n                                 description geoprivacy iucn  \\\n0                                                         10   \n1                                                         40   \n2                                                          0   \n3                                                         30   \n4                                                  open   20   \n...                                      ...        ...  ...   \n282266                                             open   40   \n282267                                         obscured   40   \n282268                                         obscured    0   \n282269                                         obscured   40   \n282270  https://nmrareplants.unm.edu/node/44   obscured   40   \n\n                        created_at                  updated_at  \\\n0       2021-09-28 11:12:51.830044  2021-12-21 04:53:02.568719   \n1       2021-12-16 19:59:11.692913   2021-12-21 13:14:46.38026   \n2        2021-11-24 18:14:30.91353   2021-11-24 18:14:30.91353   \n3       2021-12-16 19:59:12.175319  2021-12-21 13:18:11.648863   \n4       2024-10-03 23:22:32.375474  2024-10-03 23:22:32.375474   \n...                            ...                         ...   \n282266   2024-12-02 07:37:00.68641   2024-12-02 07:37:00.68641   \n282267  2024-12-02 16:08:05.561432  2024-12-02 16:16:38.386908   \n282268  2024-12-02 17:26:55.708176  2024-12-02 17:26:55.708176   \n282269   2024-10-04 17:46:00.77622  2024-12-02 23:10:38.292209   \n282270  2024-10-04 17:47:11.562697  2024-12-02 23:10:47.825765   \n\n                        place_name              place_display_name  \n0                                                                   \n1                          Ontario                     Ontario, CA  \n2                           Nevada                      Nevada, US  \n3                          Alberta                     Alberta, CA  \n4                      Switzerland                     Switzerland  \n...                            ...                             ...  \n282266                   Bourgogne                   Bourgogne, FR  \n282267                                                              \n282268  Canary Islands Archipelago  Canary Islands Archipelago, ES  \n282269                                                              \n282270                  New Mexico                  New Mexico, US  \n\n[282271 rows x 15 columns]",
      "text/html": "<div>\n<style scoped>\n    .dataframe tbody tr th:only-of-type {\n        vertical-align: middle;\n    }\n\n    .dataframe tbody tr th {\n        vertical-align: top;\n    }\n\n    .dataframe thead th {\n        text-align: right;\n    }\n</style>\n<table border=\"1\" class=\"dataframe\">\n  <thead>\n    <tr style=\"text-align: right;\">\n      <th></th>\n      <th>id</th>\n      <th>taxon_id</th>\n      <th>user_id</th>\n      <th>place_id</th>\n      <th>source_id</th>\n      <th>authority</th>\n      <th>status</th>\n      <th>url</th>\n      <th>description</th>\n      <th>geoprivacy</th>\n      <th>iucn</th>\n      <th>created_at</th>\n      <th>updated_at</th>\n      <th>place_name</th>\n      <th>place_display_name</th>\n    </tr>\n  </thead>\n  <tbody>\n    <tr>\n      <th>0</th>\n      <td>210936</td>\n      <td>78570</td>\n      <td></td>\n      <td></td>\n      <td></td>\n      <td>IUCN Red List</td>\n      <td>LC</td>\n      <td>https://www.iucnredlist.org/species/109716665/...</td>\n      <td></td>\n      <td></td>\n      <td>10</td>\n      <td>2021-09-28 11:12:51.830044</td>\n      <td>2021-12-21 04:53:02.568719</td>\n      <td></td>\n      <td></td>\n    </tr>\n    <tr>\n      <th>1</th>\n      <td>228106</td>\n      <td>219800</td>\n      <td>119123</td>\n      <td>6883</td>\n      <td></td>\n      <td>NatureServe</td>\n      <td>S2</td>\n      <td>https://explorer.natureserve.org/</td>\n      <td></td>\n      <td></td>\n      <td>40</td>\n      <td>2021-12-16 19:59:11.692913</td>\n      <td>2021-12-21 13:14:46.38026</td>\n      <td>Ontario</td>\n      <td>Ontario, CA</td>\n    </tr>\n    <tr>\n      <th>2</th>\n      <td>224080</td>\n      <td>239472</td>\n      <td>51061</td>\n      <td>50</td>\n      <td></td>\n      <td>NatureServe</td>\n      <td>S2S3</td>\n      <td>https://explorer.natureserve.org/Taxon/ELEMENT...</td>\n      <td></td>\n      <td></td>\n      <td>0</td>\n      <td>2021-11-24 18:14:30.91353</td>\n      <td>2021-11-24 18:14:30.91353</td>\n      <td>Nevada</td>\n      <td>Nevada, US</td>\n    </tr>\n    <tr>\n      <th>3</th>\n      <td>228110</td>\n      <td>219828</td>\n      <td>119123</td>\n      <td>6834</td>\n      <td></td>\n      <td>NatureServe</td>\n      <td>S2S4</td>\n      <td>https://explorer.natureserve.org/</td>\n      <td></td>\n      <td></td>\n      <td>30</td>\n      <td>2021-12-16 19:59:12.175319</td>\n      <td>2021-12-21 13:18:11.648863</td>\n      <td>Alberta</td>\n      <td>Alberta, CA</td>\n    </tr>\n    <tr>\n      <th>4</th>\n      <td>294175</td>\n      <td>1433836</td>\n      <td>4350079</td>\n      <td>7236</td>\n      <td></td>\n      <td>BAFU</td>\n      <td>NT</td>\n      <td>https://www.wsl.ch/map_fungi/search?taxon=32642</td>\n      <td></td>\n      <td>open</td>\n      <td>20</td>\n      <td>2024-10-03 23:22:32.375474</td>\n      <td>2024-10-03 23:22:32.375474</td>\n      <td>Switzerland</td>\n      <td>Switzerland</td>\n    </tr>\n    <tr>\n      <th>...</th>\n      <td>...</td>\n      <td>...</td>\n      <td>...</td>\n      <td>...</td>\n      <td>...</td>\n      <td>...</td>\n      <td>...</td>\n      <td>...</td>\n      <td>...</td>\n      <td>...</td>\n      <td>...</td>\n      <td>...</td>\n      <td>...</td>\n      <td>...</td>\n      <td>...</td>\n    </tr>\n    <tr>\n      <th>282266</th>\n      <td>298475</td>\n      <td>807416</td>\n      <td>4320069</td>\n      <td>10572</td>\n      <td></td>\n      <td>Inventaire national du patrimoine naturel (INPN)</td>\n      <td>EN</td>\n      <td>https://inpn.mnhn.fr/espece/cd_nom/112293/tab/...</td>\n      <td></td>\n      <td>open</td>\n      <td>40</td>\n      <td>2024-12-02 07:37:00.68641</td>\n      <td>2024-12-02 07:37:00.68641</td>\n      <td>Bourgogne</td>\n      <td>Bourgogne, FR</td>\n    </tr>\n    <tr>\n      <th>282267</th>\n      <td>298480</td>\n      <td>1249122</td>\n      <td>7739024</td>\n      <td></td>\n      <td></td>\n      <td>Espírito Santo, São Paulo, Rio de Janeiro</td>\n      <td>EN</td>\n      <td>https://proflora.jbrj.gov.br/html/Ischnosiphon...</td>\n      <td></td>\n      <td>obscured</td>\n      <td>40</td>\n      <td>2024-12-02 16:08:05.561432</td>\n      <td>2024-12-02 16:16:38.386908</td>\n      <td></td>\n      <td></td>\n    </tr>\n    <tr>\n      <th>282268</th>\n      <td>298481</td>\n      <td>1219541</td>\n      <td>7739024</td>\n      <td>130979</td>\n      <td></td>\n      <td>BANCO DE DATOS DE BIODIVERSIDAD DE CANARIAS</td>\n      <td>NE</td>\n      <td>https://www.biodiversidadcanarias.es/biota/esp...</td>\n      <td></td>\n      <td>obscured</td>\n      <td>0</td>\n      <td>2024-12-02 17:26:55.708176</td>\n      <td>2024-12-02 17:26:55.708176</td>\n      <td>Canary Islands Archipelago</td>\n      <td>Canary Islands Archipelago, ES</td>\n    </tr>\n    <tr>\n      <th>282269</th>\n      <td>294211</td>\n      <td>160210</td>\n      <td>887173</td>\n      <td></td>\n      <td></td>\n      <td>NatureServe</td>\n      <td>G1</td>\n      <td>https://explorer.natureserve.org/Taxon/ELEMENT...</td>\n      <td></td>\n      <td>obscured</td>\n      <td>40</td>\n      <td>2024-10-04 17:46:00.77622</td>\n      <td>2024-12-02 23:10:38.292209</td>\n      <td></td>\n      <td></td>\n    </tr>\n    <tr>\n      <th>282270</th>\n      <td>294212</td>\n      <td>160210</td>\n      <td>887173</td>\n      <td>9</td>\n      <td></td>\n      <td>New Mexico Forestry Division</td>\n      <td>E</td>\n      <td>https://www.emnrd.nm.gov/sfd/rare-plants/state...</td>\n      <td>https://nmrareplants.unm.edu/node/44</td>\n      <td>obscured</td>\n      <td>40</td>\n      <td>2024-10-04 17:47:11.562697</td>\n      <td>2024-12-02 23:10:47.825765</td>\n      <td>New Mexico</td>\n      <td>New Mexico, US</td>\n    </tr>\n  </tbody>\n</table>\n<p>282271 rows × 15 columns</p>\n</div>"
     },
     "execution_count": 5,
     "metadata": {},
     "output_type": "execute_result"
    }
   ],
   "source": [
    "import os\n",
    "import pandas as pd\n",
    "projectdir = os.path.dirname(os.getcwd()) # get the parent directory of the current directory\n",
    "dataindir = projectdir + \"/data/in/\"\n",
    "dataoutdir = projectdir + \"/data/out/\"\n",
    "df = pd.read_csv(dataindir + \"inaturalist-australia-9/inaturalist-australia-9-conservation_statuses.csv\", encoding='UTF-8', na_filter=False, dtype=str)\n",
    "df"
   ],
   "metadata": {
    "collapsed": false,
    "pycharm": {
     "name": "#%%\n"
    },
    "ExecuteTime": {
     "end_time": "2025-01-08T01:44:25.270098Z",
     "start_time": "2025-01-08T01:44:24.578267Z"
    }
   }
  },
  {
   "cell_type": "code",
   "execution_count": 6,
   "outputs": [
    {
     "data": {
      "text/plain": "96                                Australia\n85278     Australia Exclusive Economic Zone\n188        Australian Capital Territory, AU\n256627                Cairns - Pt B, QL, AU\n174033         Great Barrier Island, AU, NZ\n82086          Hobsons Bay - Altona, VI, AU\n270773             Lord Howe Island, NS, AU\n136457         Lower Eyre Peninsula, SA, AU\n492                     New South Wales, AU\n354                  Northern Territory, AU\n802                          Queensland, AU\n2810                    South Australia, AU\n174926       South Australia, marine waters\n248521        South East Queensland, QL, AU\n33968                          Tasmania, AU\n995                            Victoria, AU\n779                   Western Australia, AU\n281854                     Yarrabah, QL, AU\nName: place_display_name, dtype: object"
     },
     "execution_count": 6,
     "metadata": {},
     "output_type": "execute_result"
    }
   ],
   "source": [
    "# list of unique Aust place display names\n",
    "placedisplaydf = df['place_display_name'].drop_duplicates().sort_values()\n",
    "placedisplaydf = placedisplaydf[pd.Series(placedisplaydf).str.contains(\"AU|Australia|AUSTRALIA\")]\n",
    "placedisplaydf"
   ],
   "metadata": {
    "collapsed": false,
    "pycharm": {
     "name": "#%%\n"
    },
    "ExecuteTime": {
     "end_time": "2025-01-08T01:44:41.910886Z",
     "start_time": "2025-01-08T01:44:41.904152Z"
    }
   }
  },
  {
   "cell_type": "code",
   "execution_count": 9,
   "outputs": [
    {
     "data": {
      "text/plain": "96                                Australia\n85278     Australia Exclusive Economic Zone\n188            Australian Capital Territory\n2810                        South Australia\n174926       South Australia, marine waters\n779                       Western Australia\nName: place_name, dtype: object"
     },
     "execution_count": 9,
     "metadata": {},
     "output_type": "execute_result"
    }
   ],
   "source": [
    "# list of unique Aust place names\n",
    "placedf = df['place_name'].drop_duplicates().sort_values()\n",
    "placedf = placedf[pd.Series(placedf).str.contains(\", AU|Australia|AUSTRALIA\")]\n",
    "placedf"
   ],
   "metadata": {
    "collapsed": false,
    "pycharm": {
     "name": "#%%\n"
    },
    "ExecuteTime": {
     "end_time": "2025-01-08T01:46:35.967409Z",
     "start_time": "2025-01-08T01:46:35.961763Z"
    }
   }
  },
  {
   "cell_type": "code",
   "execution_count": 10,
   "outputs": [
    {
     "data": {
      "text/plain": "249018     https://www.environment.gov.au/epbc/about/epb...\n5906      http://environment.gov.au/cgi-bin/sprat/public...\n214589    http://environment.gov.au/cgi-bin/sprat/public...\n2447      http://www.environment.gov.au/biodiversity/thr...\n175253    http://www.environment.gov.au/biodiversity/thr...\n                                ...                        \n995       https://www.environment.vic.gov.au/conserving-...\n4850      https://www.legislation.qld.gov.au/view/html/i...\n76468     https://www.legislation.sa.gov.au/LZ/C/A/NATIO...\n268873    https://www.legislation.sa.gov.au/lz?path=%2FC...\n270581    https://www.threatenedspecieslink.tas.gov.au/P...\nName: url, Length: 5340, dtype: object"
     },
     "execution_count": 10,
     "metadata": {},
     "output_type": "execute_result"
    }
   ],
   "source": [
    "# list of unique Aust Govt urls\n",
    "urldf = df['url'].drop_duplicates().sort_values()\n",
    "urldf = urldf[pd.Series(urldf).str.contains(\".gov.au\")]\n",
    "urldf"
   ],
   "metadata": {
    "collapsed": false,
    "pycharm": {
     "name": "#%%\n"
    },
    "ExecuteTime": {
     "end_time": "2025-01-08T01:47:09.313774Z",
     "start_time": "2025-01-08T01:47:09.131242Z"
    }
   }
  },
  {
   "cell_type": "code",
   "execution_count": 11,
   "outputs": [
    {
     "data": {
      "text/plain": "            id taxon_id  user_id place_id source_id  \\\n106543  268186   100080  1138587     6744             \n101073  268138   100118  1138587     6744             \n105016  268168   100127  1138587     6744             \n257382  271765  1002188   708886     7308             \n256764  271143  1002207   708886     7308             \n...        ...      ...      ...      ...       ...   \n259909  264607    99971  3249428     7830             \n259287  273522    99972   708886     6829             \n261170  153613    99973   708886     6827     16654   \n239129  153742    99974   708886     6827     16654   \n239024  153597    99977   708886     6827     16654   \n\n                                                authority  \\\n106543                                                      \n101073                                                      \n105016                                                      \n257382          Qld Department of Environment and Science   \n256764          Qld Department of Environment and Science   \n...                                                   ...   \n259909  Victorian Department of Energy, Environment an...   \n259287             Threatened Species Protection Act 1995   \n261170  WA Deparment of Biodiversity, Conservation and...   \n239129  WA Deparment of Biodiversity, Conservation and...   \n239024  WA Deparment of Biodiversity, Conservation and...   \n\n                       status  \\\n106543             Not listed   \n101073             Not listed   \n105016             Not listed   \n257382  Critically Endangered   \n256764  Special least concern   \n...                       ...   \n259909             Endangered   \n259287             Vulnerable   \n261170  Critically Endangered   \n239129             Endangered   \n239024             Endangered   \n\n                                                      url description  \\\n106543                                                                  \n101073                                                                  \n105016                                                                  \n257382  https://apps.des.qld.gov.au/species-search/det...               \n256764  https://apps.des.qld.gov.au/species-search/det...               \n...                                                   ...         ...   \n259909  https://bie.ala.org.au/species/https://biodive...               \n259287  https://bie.ala.org.au/species/https://biodive...               \n261170  https://bie.ala.org.au/species/https://biodive...               \n239129  https://bie.ala.org.au/species/https://biodive...               \n239024  https://bie.ala.org.au/species/https://biodive...               \n\n       geoprivacy iucn                  created_at  \\\n106543       open   10  2022-10-25 05:20:17.532504   \n101073       open   10  2022-10-25 03:32:38.344862   \n105016       open   10  2022-10-25 03:58:15.923985   \n257382   obscured   30  2023-02-09 20:05:05.626344   \n256764       open   30    2023-02-09 20:04:04.4041   \n...           ...  ...                         ...   \n259909       open   40  2022-06-06 17:00:58.905798   \n259287       open   30  2023-02-09 20:08:14.660235   \n261170   obscured   50   2019-07-23 00:12:11.19598   \n239129   obscured   40  2019-07-23 00:12:41.014669   \n239024   obscured   40  2019-07-23 00:12:07.820529   \n\n                        updated_at         place_name     place_display_name  \n106543  2022-10-25 05:20:17.532504          Australia              Australia  \n101073  2022-10-25 03:32:38.344862          Australia              Australia  \n105016  2022-10-25 03:58:15.923985          Australia              Australia  \n257382  2023-02-09 20:05:05.626344         Queensland         Queensland, AU  \n256764    2023-02-09 20:04:04.4041         Queensland         Queensland, AU  \n...                            ...                ...                    ...  \n259909  2023-02-09 20:09:32.699567           Victoria           Victoria, AU  \n259287  2023-11-09 07:18:29.894362           Tasmania           Tasmania, AU  \n261170  2023-02-09 20:12:22.866063  Western Australia  Western Australia, AU  \n239129  2023-02-09 20:12:23.102495  Western Australia  Western Australia, AU  \n239024  2023-02-09 20:12:23.153812  Western Australia  Western Australia, AU  \n\n[10072 rows x 15 columns]",
      "text/html": "<div>\n<style scoped>\n    .dataframe tbody tr th:only-of-type {\n        vertical-align: middle;\n    }\n\n    .dataframe tbody tr th {\n        vertical-align: top;\n    }\n\n    .dataframe thead th {\n        text-align: right;\n    }\n</style>\n<table border=\"1\" class=\"dataframe\">\n  <thead>\n    <tr style=\"text-align: right;\">\n      <th></th>\n      <th>id</th>\n      <th>taxon_id</th>\n      <th>user_id</th>\n      <th>place_id</th>\n      <th>source_id</th>\n      <th>authority</th>\n      <th>status</th>\n      <th>url</th>\n      <th>description</th>\n      <th>geoprivacy</th>\n      <th>iucn</th>\n      <th>created_at</th>\n      <th>updated_at</th>\n      <th>place_name</th>\n      <th>place_display_name</th>\n    </tr>\n  </thead>\n  <tbody>\n    <tr>\n      <th>106543</th>\n      <td>268186</td>\n      <td>100080</td>\n      <td>1138587</td>\n      <td>6744</td>\n      <td></td>\n      <td></td>\n      <td>Not listed</td>\n      <td></td>\n      <td></td>\n      <td>open</td>\n      <td>10</td>\n      <td>2022-10-25 05:20:17.532504</td>\n      <td>2022-10-25 05:20:17.532504</td>\n      <td>Australia</td>\n      <td>Australia</td>\n    </tr>\n    <tr>\n      <th>101073</th>\n      <td>268138</td>\n      <td>100118</td>\n      <td>1138587</td>\n      <td>6744</td>\n      <td></td>\n      <td></td>\n      <td>Not listed</td>\n      <td></td>\n      <td></td>\n      <td>open</td>\n      <td>10</td>\n      <td>2022-10-25 03:32:38.344862</td>\n      <td>2022-10-25 03:32:38.344862</td>\n      <td>Australia</td>\n      <td>Australia</td>\n    </tr>\n    <tr>\n      <th>105016</th>\n      <td>268168</td>\n      <td>100127</td>\n      <td>1138587</td>\n      <td>6744</td>\n      <td></td>\n      <td></td>\n      <td>Not listed</td>\n      <td></td>\n      <td></td>\n      <td>open</td>\n      <td>10</td>\n      <td>2022-10-25 03:58:15.923985</td>\n      <td>2022-10-25 03:58:15.923985</td>\n      <td>Australia</td>\n      <td>Australia</td>\n    </tr>\n    <tr>\n      <th>257382</th>\n      <td>271765</td>\n      <td>1002188</td>\n      <td>708886</td>\n      <td>7308</td>\n      <td></td>\n      <td>Qld Department of Environment and Science</td>\n      <td>Critically Endangered</td>\n      <td>https://apps.des.qld.gov.au/species-search/det...</td>\n      <td></td>\n      <td>obscured</td>\n      <td>30</td>\n      <td>2023-02-09 20:05:05.626344</td>\n      <td>2023-02-09 20:05:05.626344</td>\n      <td>Queensland</td>\n      <td>Queensland, AU</td>\n    </tr>\n    <tr>\n      <th>256764</th>\n      <td>271143</td>\n      <td>1002207</td>\n      <td>708886</td>\n      <td>7308</td>\n      <td></td>\n      <td>Qld Department of Environment and Science</td>\n      <td>Special least concern</td>\n      <td>https://apps.des.qld.gov.au/species-search/det...</td>\n      <td></td>\n      <td>open</td>\n      <td>30</td>\n      <td>2023-02-09 20:04:04.4041</td>\n      <td>2023-02-09 20:04:04.4041</td>\n      <td>Queensland</td>\n      <td>Queensland, AU</td>\n    </tr>\n    <tr>\n      <th>...</th>\n      <td>...</td>\n      <td>...</td>\n      <td>...</td>\n      <td>...</td>\n      <td>...</td>\n      <td>...</td>\n      <td>...</td>\n      <td>...</td>\n      <td>...</td>\n      <td>...</td>\n      <td>...</td>\n      <td>...</td>\n      <td>...</td>\n      <td>...</td>\n      <td>...</td>\n    </tr>\n    <tr>\n      <th>259909</th>\n      <td>264607</td>\n      <td>99971</td>\n      <td>3249428</td>\n      <td>7830</td>\n      <td></td>\n      <td>Victorian Department of Energy, Environment an...</td>\n      <td>Endangered</td>\n      <td>https://bie.ala.org.au/species/https://biodive...</td>\n      <td></td>\n      <td>open</td>\n      <td>40</td>\n      <td>2022-06-06 17:00:58.905798</td>\n      <td>2023-02-09 20:09:32.699567</td>\n      <td>Victoria</td>\n      <td>Victoria, AU</td>\n    </tr>\n    <tr>\n      <th>259287</th>\n      <td>273522</td>\n      <td>99972</td>\n      <td>708886</td>\n      <td>6829</td>\n      <td></td>\n      <td>Threatened Species Protection Act 1995</td>\n      <td>Vulnerable</td>\n      <td>https://bie.ala.org.au/species/https://biodive...</td>\n      <td></td>\n      <td>open</td>\n      <td>30</td>\n      <td>2023-02-09 20:08:14.660235</td>\n      <td>2023-11-09 07:18:29.894362</td>\n      <td>Tasmania</td>\n      <td>Tasmania, AU</td>\n    </tr>\n    <tr>\n      <th>261170</th>\n      <td>153613</td>\n      <td>99973</td>\n      <td>708886</td>\n      <td>6827</td>\n      <td>16654</td>\n      <td>WA Deparment of Biodiversity, Conservation and...</td>\n      <td>Critically Endangered</td>\n      <td>https://bie.ala.org.au/species/https://biodive...</td>\n      <td></td>\n      <td>obscured</td>\n      <td>50</td>\n      <td>2019-07-23 00:12:11.19598</td>\n      <td>2023-02-09 20:12:22.866063</td>\n      <td>Western Australia</td>\n      <td>Western Australia, AU</td>\n    </tr>\n    <tr>\n      <th>239129</th>\n      <td>153742</td>\n      <td>99974</td>\n      <td>708886</td>\n      <td>6827</td>\n      <td>16654</td>\n      <td>WA Deparment of Biodiversity, Conservation and...</td>\n      <td>Endangered</td>\n      <td>https://bie.ala.org.au/species/https://biodive...</td>\n      <td></td>\n      <td>obscured</td>\n      <td>40</td>\n      <td>2019-07-23 00:12:41.014669</td>\n      <td>2023-02-09 20:12:23.102495</td>\n      <td>Western Australia</td>\n      <td>Western Australia, AU</td>\n    </tr>\n    <tr>\n      <th>239024</th>\n      <td>153597</td>\n      <td>99977</td>\n      <td>708886</td>\n      <td>6827</td>\n      <td>16654</td>\n      <td>WA Deparment of Biodiversity, Conservation and...</td>\n      <td>Endangered</td>\n      <td>https://bie.ala.org.au/species/https://biodive...</td>\n      <td></td>\n      <td>obscured</td>\n      <td>40</td>\n      <td>2019-07-23 00:12:07.820529</td>\n      <td>2023-02-09 20:12:23.153812</td>\n      <td>Western Australia</td>\n      <td>Western Australia, AU</td>\n    </tr>\n  </tbody>\n</table>\n<p>10072 rows × 15 columns</p>\n</div>"
     },
     "execution_count": 11,
     "metadata": {},
     "output_type": "execute_result"
    }
   ],
   "source": [
    "# filter out all of these concat all, along with any records created by us (user id=708886) and remove duplicates\n",
    "dfaus = pd.concat([df.apply(lambda row: row[df['place_display_name'].isin(placedisplaydf)]),\n",
    "                   df.apply(lambda row: row[df['place_name'].isin(placedf)]),\n",
    "                   df.apply(lambda row: row[df['url'].isin(urldf)]),\n",
    "                   df.apply(lambda row: row[df['user_id'] == '708886'])]).drop_duplicates()\n",
    "dfaus.sort_values(['taxon_id','user_id'])"
   ],
   "metadata": {
    "collapsed": false,
    "pycharm": {
     "name": "#%%\n"
    },
    "ExecuteTime": {
     "end_time": "2025-01-08T01:47:29.011560Z",
     "start_time": "2025-01-08T01:47:28.623827Z"
    }
   }
  },
  {
   "cell_type": "markdown",
   "source": [
    "## Retrieve taxon info from iNaturalist\n",
    "The above file contains only the taxon identifier. Retrieve the full taxon name and classifications."
   ],
   "metadata": {
    "collapsed": false
   }
  },
  {
   "cell_type": "code",
   "execution_count": 14,
   "outputs": [],
   "source": [
    "%%script echo skipping # comment this line to download dataset from the web and save locally - add inaturalist-taxonomy.dwca.zip to .gitignore\n",
    "\n",
    "# save the file to the source data directory\n",
    "import requests\n",
    "\n",
    "url = \"https://www.inaturalist.org/taxa/inaturalist-taxonomy.dwca.zip\"\n",
    "filename = url.split(\"/\")[-1]\n",
    "\n",
    "r = requests.get(url)\n",
    "with open(dataindir + filename, 'wb') as f:\n",
    "    f.write(r.content)\n",
    "# reminder: add inaturalist-taxonomy.dwca.zip to .gitignore"
   ],
   "metadata": {
    "collapsed": false,
    "ExecuteTime": {
     "end_time": "2023-12-19T02:31:54.026162Z",
     "start_time": "2023-12-19T02:31:30.881896Z"
    }
   }
  },
  {
   "cell_type": "code",
   "execution_count": 12,
   "outputs": [
    {
     "data": {
      "text/plain": "   id                              taxonID  \\\n0   1   https://www.inaturalist.org/taxa/1   \n1   2   https://www.inaturalist.org/taxa/2   \n2   3   https://www.inaturalist.org/taxa/3   \n3   4   https://www.inaturalist.org/taxa/4   \n4   5   https://www.inaturalist.org/taxa/5   \n5   6   https://www.inaturalist.org/taxa/6   \n6   7   https://www.inaturalist.org/taxa/7   \n7  12  https://www.inaturalist.org/taxa/12   \n8  13  https://www.inaturalist.org/taxa/13   \n9  14  https://www.inaturalist.org/taxa/14   \n\n                            identifier  \\\n0   https://www.inaturalist.org/taxa/1   \n1   https://www.inaturalist.org/taxa/2   \n2   https://www.inaturalist.org/taxa/3   \n3   https://www.inaturalist.org/taxa/4   \n4   https://www.inaturalist.org/taxa/5   \n5   https://www.inaturalist.org/taxa/6   \n6   https://www.inaturalist.org/taxa/7   \n7  https://www.inaturalist.org/taxa/12   \n8  https://www.inaturalist.org/taxa/13   \n9  https://www.inaturalist.org/taxa/14   \n\n                         parentNameUsageID   kingdom    phylum class  \\\n0   https://www.inaturalist.org/taxa/48460  Animalia       NaN   NaN   \n1       https://www.inaturalist.org/taxa/1  Animalia  Chordata   NaN   \n2  https://www.inaturalist.org/taxa/355675  Animalia  Chordata  Aves   \n3       https://www.inaturalist.org/taxa/3  Animalia  Chordata  Aves   \n4       https://www.inaturalist.org/taxa/4  Animalia  Chordata  Aves   \n5       https://www.inaturalist.org/taxa/5  Animalia  Chordata  Aves   \n6       https://www.inaturalist.org/taxa/6  Animalia  Chordata  Aves   \n7   https://www.inaturalist.org/taxa/71262  Animalia  Chordata  Aves   \n8      https://www.inaturalist.org/taxa/12  Animalia  Chordata  Aves   \n9      https://www.inaturalist.org/taxa/13  Animalia  Chordata  Aves   \n\n           order      family    genus specificEpithet infraspecificEpithet  \\\n0            NaN         NaN      NaN             NaN                  NaN   \n1            NaN         NaN      NaN             NaN                  NaN   \n2            NaN         NaN      NaN             NaN                  NaN   \n3     Gruiformes         NaN      NaN             NaN                  NaN   \n4     Gruiformes    Aramidae      NaN             NaN                  NaN   \n5     Gruiformes    Aramidae   Aramus             NaN                  NaN   \n6     Gruiformes    Aramidae   Aramus        guarauna                  NaN   \n7  Cariamiformes  Cariamidae      NaN             NaN                  NaN   \n8  Cariamiformes  Cariamidae  Cariama             NaN                  NaN   \n9  Cariamiformes  Cariamidae  Cariama        cristata                  NaN   \n\n               modified    scientificName taxonRank  \\\n0  2021-11-02T06:05:44Z          Animalia   kingdom   \n1  2021-11-23T00:40:18Z          Chordata    phylum   \n2  2023-04-18T02:04:33Z              Aves     class   \n3  2019-10-19T15:14:18Z        Gruiformes     order   \n4  2022-03-24T16:38:28Z          Aramidae    family   \n5  2020-02-11T06:43:19Z            Aramus     genus   \n6  2022-03-30T18:35:55Z   Aramus guarauna   species   \n7  2022-03-24T16:37:54Z        Cariamidae    family   \n8  2018-12-19T08:58:24Z           Cariama     genus   \n9  2021-07-06T02:04:43Z  Cariama cristata   species   \n\n                                          references  \n0  http://www.catalogueoflife.org/annual-checklis...  \n1  http://www.catalogueoflife.org/annual-checklis...  \n2  http://www.catalogueoflife.org/annual-checklis...  \n3  http://www.catalogueoflife.org/annual-checklis...  \n4  http://www.birdlife.org/datazone/speciessearch...  \n5  http://www.birdlife.org/datazone/speciessearch...  \n6  http://www.birdlife.org/datazone/speciesfactsh...  \n7  http://www.birdlife.org/datazone/speciessearch...  \n8  http://www.birdlife.org/datazone/speciessearch...  \n9  http://www.birdlife.org/datazone/speciesfactsh...  ",
      "text/html": "<div>\n<style scoped>\n    .dataframe tbody tr th:only-of-type {\n        vertical-align: middle;\n    }\n\n    .dataframe tbody tr th {\n        vertical-align: top;\n    }\n\n    .dataframe thead th {\n        text-align: right;\n    }\n</style>\n<table border=\"1\" class=\"dataframe\">\n  <thead>\n    <tr style=\"text-align: right;\">\n      <th></th>\n      <th>id</th>\n      <th>taxonID</th>\n      <th>identifier</th>\n      <th>parentNameUsageID</th>\n      <th>kingdom</th>\n      <th>phylum</th>\n      <th>class</th>\n      <th>order</th>\n      <th>family</th>\n      <th>genus</th>\n      <th>specificEpithet</th>\n      <th>infraspecificEpithet</th>\n      <th>modified</th>\n      <th>scientificName</th>\n      <th>taxonRank</th>\n      <th>references</th>\n    </tr>\n  </thead>\n  <tbody>\n    <tr>\n      <th>0</th>\n      <td>1</td>\n      <td>https://www.inaturalist.org/taxa/1</td>\n      <td>https://www.inaturalist.org/taxa/1</td>\n      <td>https://www.inaturalist.org/taxa/48460</td>\n      <td>Animalia</td>\n      <td>NaN</td>\n      <td>NaN</td>\n      <td>NaN</td>\n      <td>NaN</td>\n      <td>NaN</td>\n      <td>NaN</td>\n      <td>NaN</td>\n      <td>2021-11-02T06:05:44Z</td>\n      <td>Animalia</td>\n      <td>kingdom</td>\n      <td>http://www.catalogueoflife.org/annual-checklis...</td>\n    </tr>\n    <tr>\n      <th>1</th>\n      <td>2</td>\n      <td>https://www.inaturalist.org/taxa/2</td>\n      <td>https://www.inaturalist.org/taxa/2</td>\n      <td>https://www.inaturalist.org/taxa/1</td>\n      <td>Animalia</td>\n      <td>Chordata</td>\n      <td>NaN</td>\n      <td>NaN</td>\n      <td>NaN</td>\n      <td>NaN</td>\n      <td>NaN</td>\n      <td>NaN</td>\n      <td>2021-11-23T00:40:18Z</td>\n      <td>Chordata</td>\n      <td>phylum</td>\n      <td>http://www.catalogueoflife.org/annual-checklis...</td>\n    </tr>\n    <tr>\n      <th>2</th>\n      <td>3</td>\n      <td>https://www.inaturalist.org/taxa/3</td>\n      <td>https://www.inaturalist.org/taxa/3</td>\n      <td>https://www.inaturalist.org/taxa/355675</td>\n      <td>Animalia</td>\n      <td>Chordata</td>\n      <td>Aves</td>\n      <td>NaN</td>\n      <td>NaN</td>\n      <td>NaN</td>\n      <td>NaN</td>\n      <td>NaN</td>\n      <td>2023-04-18T02:04:33Z</td>\n      <td>Aves</td>\n      <td>class</td>\n      <td>http://www.catalogueoflife.org/annual-checklis...</td>\n    </tr>\n    <tr>\n      <th>3</th>\n      <td>4</td>\n      <td>https://www.inaturalist.org/taxa/4</td>\n      <td>https://www.inaturalist.org/taxa/4</td>\n      <td>https://www.inaturalist.org/taxa/3</td>\n      <td>Animalia</td>\n      <td>Chordata</td>\n      <td>Aves</td>\n      <td>Gruiformes</td>\n      <td>NaN</td>\n      <td>NaN</td>\n      <td>NaN</td>\n      <td>NaN</td>\n      <td>2019-10-19T15:14:18Z</td>\n      <td>Gruiformes</td>\n      <td>order</td>\n      <td>http://www.catalogueoflife.org/annual-checklis...</td>\n    </tr>\n    <tr>\n      <th>4</th>\n      <td>5</td>\n      <td>https://www.inaturalist.org/taxa/5</td>\n      <td>https://www.inaturalist.org/taxa/5</td>\n      <td>https://www.inaturalist.org/taxa/4</td>\n      <td>Animalia</td>\n      <td>Chordata</td>\n      <td>Aves</td>\n      <td>Gruiformes</td>\n      <td>Aramidae</td>\n      <td>NaN</td>\n      <td>NaN</td>\n      <td>NaN</td>\n      <td>2022-03-24T16:38:28Z</td>\n      <td>Aramidae</td>\n      <td>family</td>\n      <td>http://www.birdlife.org/datazone/speciessearch...</td>\n    </tr>\n    <tr>\n      <th>5</th>\n      <td>6</td>\n      <td>https://www.inaturalist.org/taxa/6</td>\n      <td>https://www.inaturalist.org/taxa/6</td>\n      <td>https://www.inaturalist.org/taxa/5</td>\n      <td>Animalia</td>\n      <td>Chordata</td>\n      <td>Aves</td>\n      <td>Gruiformes</td>\n      <td>Aramidae</td>\n      <td>Aramus</td>\n      <td>NaN</td>\n      <td>NaN</td>\n      <td>2020-02-11T06:43:19Z</td>\n      <td>Aramus</td>\n      <td>genus</td>\n      <td>http://www.birdlife.org/datazone/speciessearch...</td>\n    </tr>\n    <tr>\n      <th>6</th>\n      <td>7</td>\n      <td>https://www.inaturalist.org/taxa/7</td>\n      <td>https://www.inaturalist.org/taxa/7</td>\n      <td>https://www.inaturalist.org/taxa/6</td>\n      <td>Animalia</td>\n      <td>Chordata</td>\n      <td>Aves</td>\n      <td>Gruiformes</td>\n      <td>Aramidae</td>\n      <td>Aramus</td>\n      <td>guarauna</td>\n      <td>NaN</td>\n      <td>2022-03-30T18:35:55Z</td>\n      <td>Aramus guarauna</td>\n      <td>species</td>\n      <td>http://www.birdlife.org/datazone/speciesfactsh...</td>\n    </tr>\n    <tr>\n      <th>7</th>\n      <td>12</td>\n      <td>https://www.inaturalist.org/taxa/12</td>\n      <td>https://www.inaturalist.org/taxa/12</td>\n      <td>https://www.inaturalist.org/taxa/71262</td>\n      <td>Animalia</td>\n      <td>Chordata</td>\n      <td>Aves</td>\n      <td>Cariamiformes</td>\n      <td>Cariamidae</td>\n      <td>NaN</td>\n      <td>NaN</td>\n      <td>NaN</td>\n      <td>2022-03-24T16:37:54Z</td>\n      <td>Cariamidae</td>\n      <td>family</td>\n      <td>http://www.birdlife.org/datazone/speciessearch...</td>\n    </tr>\n    <tr>\n      <th>8</th>\n      <td>13</td>\n      <td>https://www.inaturalist.org/taxa/13</td>\n      <td>https://www.inaturalist.org/taxa/13</td>\n      <td>https://www.inaturalist.org/taxa/12</td>\n      <td>Animalia</td>\n      <td>Chordata</td>\n      <td>Aves</td>\n      <td>Cariamiformes</td>\n      <td>Cariamidae</td>\n      <td>Cariama</td>\n      <td>NaN</td>\n      <td>NaN</td>\n      <td>2018-12-19T08:58:24Z</td>\n      <td>Cariama</td>\n      <td>genus</td>\n      <td>http://www.birdlife.org/datazone/speciessearch...</td>\n    </tr>\n    <tr>\n      <th>9</th>\n      <td>14</td>\n      <td>https://www.inaturalist.org/taxa/14</td>\n      <td>https://www.inaturalist.org/taxa/14</td>\n      <td>https://www.inaturalist.org/taxa/13</td>\n      <td>Animalia</td>\n      <td>Chordata</td>\n      <td>Aves</td>\n      <td>Cariamiformes</td>\n      <td>Cariamidae</td>\n      <td>Cariama</td>\n      <td>cristata</td>\n      <td>NaN</td>\n      <td>2021-07-06T02:04:43Z</td>\n      <td>Cariama cristata</td>\n      <td>species</td>\n      <td>http://www.birdlife.org/datazone/speciesfactsh...</td>\n    </tr>\n  </tbody>\n</table>\n</div>"
     },
     "execution_count": 12,
     "metadata": {},
     "output_type": "execute_result"
    }
   ],
   "source": [
    "# open the file in the source data directory and read the taxa.csv file\n",
    "import zipfile\n",
    "url = \"https://www.inaturalist.org/taxa/inaturalist-taxonomy.dwca.zip\"\n",
    "filename = url.split(\"/\")[-1]\n",
    "\n",
    "z=zipfile.ZipFile(dataindir + filename)\n",
    "\n",
    "with z.open('taxa.csv') as from_archive:\n",
    "    inattaxa = pd.read_csv(from_archive)\n",
    "z.close()\n",
    "\n",
    "inattaxa.head(10)"
   ],
   "metadata": {
    "collapsed": false,
    "pycharm": {
     "name": "#%%\n"
    },
    "ExecuteTime": {
     "end_time": "2025-01-08T01:48:30.979394Z",
     "start_time": "2025-01-08T01:48:27.196339Z"
    }
   }
  },
  {
   "cell_type": "code",
   "execution_count": 13,
   "outputs": [
    {
     "data": {
      "text/plain": "1344422"
     },
     "execution_count": 13,
     "metadata": {},
     "output_type": "execute_result"
    }
   ],
   "source": [
    "len(inattaxa) # it's quite big"
   ],
   "metadata": {
    "collapsed": false,
    "pycharm": {
     "name": "#%%\n"
    },
    "ExecuteTime": {
     "end_time": "2025-01-08T01:48:35.705043Z",
     "start_time": "2025-01-08T01:48:35.693382Z"
    }
   }
  },
  {
   "cell_type": "code",
   "execution_count": 14,
   "outputs": [
    {
     "data": {
      "text/plain": "     taxon_id       id                                   taxonID  \\\n302    100080   100080   https://www.inaturalist.org/taxa/100080   \n262    100118   100118   https://www.inaturalist.org/taxa/100118   \n287    100127   100127   https://www.inaturalist.org/taxa/100127   \n3402  1002188  1002188  https://www.inaturalist.org/taxa/1002188   \n2944  1002207  1002207  https://www.inaturalist.org/taxa/1002207   \n...       ...      ...                                       ...   \n8151  1289564      NaN                                       NaN   \n8164   904699      NaN                                       NaN   \n8172  1556562      NaN                                       NaN   \n8297   123102      NaN                                       NaN   \n8300    50744      NaN                                       NaN   \n\n                                    identifier  \\\n302    https://www.inaturalist.org/taxa/100080   \n262    https://www.inaturalist.org/taxa/100118   \n287    https://www.inaturalist.org/taxa/100127   \n3402  https://www.inaturalist.org/taxa/1002188   \n2944  https://www.inaturalist.org/taxa/1002207   \n...                                        ...   \n8151                                       NaN   \n8164                                       NaN   \n8172                                       NaN   \n8297                                       NaN   \n8300                                       NaN   \n\n                            parentNameUsageID   kingdom        phylum  \\\n302    https://www.inaturalist.org/taxa/49497  Animalia      Chordata   \n262    https://www.inaturalist.org/taxa/49497  Animalia      Chordata   \n287    https://www.inaturalist.org/taxa/49497  Animalia      Chordata   \n3402   https://www.inaturalist.org/taxa/60445   Plantae  Tracheophyta   \n2944  https://www.inaturalist.org/taxa/142600   Plantae  Tracheophyta   \n...                                       ...       ...           ...   \n8151                                      NaN       NaN           NaN   \n8164                                      NaN       NaN           NaN   \n8172                                      NaN       NaN           NaN   \n8297                                      NaN       NaN           NaN   \n8300                                      NaN       NaN           NaN   \n\n               class            order            family          genus  \\\n302   Actinopterygii      Perciformes     Epinephelidae    Epinephelus   \n262   Actinopterygii      Perciformes     Epinephelidae    Epinephelus   \n287   Actinopterygii      Perciformes     Epinephelidae    Epinephelus   \n3402  Polypodiopsida  Hymenophyllales  Hymenophyllaceae  Hymenophyllum   \n2944  Polypodiopsida      Schizaeales      Schizaeaceae  Actinostachys   \n...              ...              ...               ...            ...   \n8151             NaN              NaN               NaN            NaN   \n8164             NaN              NaN               NaN            NaN   \n8172             NaN              NaN               NaN            NaN   \n8297             NaN              NaN               NaN            NaN   \n8300             NaN              NaN               NaN            NaN   \n\n     specificEpithet infraspecificEpithet              modified  \\\n302         bleekeri                  NaN  2019-11-24T03:20:37Z   \n262      malabaricus                  NaN  2019-11-23T03:14:55Z   \n287    polyphekadion                  NaN  2019-02-06T23:51:50Z   \n3402          whitei                  NaN  2020-01-11T06:34:24Z   \n2944         wagneri                  NaN  2024-06-08T16:08:26Z   \n...              ...                  ...                   ...   \n8151             NaN                  NaN                   NaN   \n8164             NaN                  NaN                   NaN   \n8172             NaN                  NaN                   NaN   \n8297             NaN                  NaN                   NaN   \n8300             NaN                  NaN                   NaN   \n\n                 scientificName taxonRank               references  \n302        Epinephelus bleekeri   species  http://www.fishbase.org  \n262     Epinephelus malabaricus   species  http://www.fishbase.org  \n287   Epinephelus polyphekadion   species  http://www.fishbase.org  \n3402       Hymenophyllum whitei   species                      NaN  \n2944      Actinostachys wagneri   species                      NaN  \n...                         ...       ...                      ...  \n8151                        NaN       NaN                      NaN  \n8164                        NaN       NaN                      NaN  \n8172                        NaN       NaN                      NaN  \n8297                        NaN       NaN                      NaN  \n8300                        NaN       NaN                      NaN  \n\n[8310 rows x 17 columns]",
      "text/html": "<div>\n<style scoped>\n    .dataframe tbody tr th:only-of-type {\n        vertical-align: middle;\n    }\n\n    .dataframe tbody tr th {\n        vertical-align: top;\n    }\n\n    .dataframe thead th {\n        text-align: right;\n    }\n</style>\n<table border=\"1\" class=\"dataframe\">\n  <thead>\n    <tr style=\"text-align: right;\">\n      <th></th>\n      <th>taxon_id</th>\n      <th>id</th>\n      <th>taxonID</th>\n      <th>identifier</th>\n      <th>parentNameUsageID</th>\n      <th>kingdom</th>\n      <th>phylum</th>\n      <th>class</th>\n      <th>order</th>\n      <th>family</th>\n      <th>genus</th>\n      <th>specificEpithet</th>\n      <th>infraspecificEpithet</th>\n      <th>modified</th>\n      <th>scientificName</th>\n      <th>taxonRank</th>\n      <th>references</th>\n    </tr>\n  </thead>\n  <tbody>\n    <tr>\n      <th>302</th>\n      <td>100080</td>\n      <td>100080</td>\n      <td>https://www.inaturalist.org/taxa/100080</td>\n      <td>https://www.inaturalist.org/taxa/100080</td>\n      <td>https://www.inaturalist.org/taxa/49497</td>\n      <td>Animalia</td>\n      <td>Chordata</td>\n      <td>Actinopterygii</td>\n      <td>Perciformes</td>\n      <td>Epinephelidae</td>\n      <td>Epinephelus</td>\n      <td>bleekeri</td>\n      <td>NaN</td>\n      <td>2019-11-24T03:20:37Z</td>\n      <td>Epinephelus bleekeri</td>\n      <td>species</td>\n      <td>http://www.fishbase.org</td>\n    </tr>\n    <tr>\n      <th>262</th>\n      <td>100118</td>\n      <td>100118</td>\n      <td>https://www.inaturalist.org/taxa/100118</td>\n      <td>https://www.inaturalist.org/taxa/100118</td>\n      <td>https://www.inaturalist.org/taxa/49497</td>\n      <td>Animalia</td>\n      <td>Chordata</td>\n      <td>Actinopterygii</td>\n      <td>Perciformes</td>\n      <td>Epinephelidae</td>\n      <td>Epinephelus</td>\n      <td>malabaricus</td>\n      <td>NaN</td>\n      <td>2019-11-23T03:14:55Z</td>\n      <td>Epinephelus malabaricus</td>\n      <td>species</td>\n      <td>http://www.fishbase.org</td>\n    </tr>\n    <tr>\n      <th>287</th>\n      <td>100127</td>\n      <td>100127</td>\n      <td>https://www.inaturalist.org/taxa/100127</td>\n      <td>https://www.inaturalist.org/taxa/100127</td>\n      <td>https://www.inaturalist.org/taxa/49497</td>\n      <td>Animalia</td>\n      <td>Chordata</td>\n      <td>Actinopterygii</td>\n      <td>Perciformes</td>\n      <td>Epinephelidae</td>\n      <td>Epinephelus</td>\n      <td>polyphekadion</td>\n      <td>NaN</td>\n      <td>2019-02-06T23:51:50Z</td>\n      <td>Epinephelus polyphekadion</td>\n      <td>species</td>\n      <td>http://www.fishbase.org</td>\n    </tr>\n    <tr>\n      <th>3402</th>\n      <td>1002188</td>\n      <td>1002188</td>\n      <td>https://www.inaturalist.org/taxa/1002188</td>\n      <td>https://www.inaturalist.org/taxa/1002188</td>\n      <td>https://www.inaturalist.org/taxa/60445</td>\n      <td>Plantae</td>\n      <td>Tracheophyta</td>\n      <td>Polypodiopsida</td>\n      <td>Hymenophyllales</td>\n      <td>Hymenophyllaceae</td>\n      <td>Hymenophyllum</td>\n      <td>whitei</td>\n      <td>NaN</td>\n      <td>2020-01-11T06:34:24Z</td>\n      <td>Hymenophyllum whitei</td>\n      <td>species</td>\n      <td>NaN</td>\n    </tr>\n    <tr>\n      <th>2944</th>\n      <td>1002207</td>\n      <td>1002207</td>\n      <td>https://www.inaturalist.org/taxa/1002207</td>\n      <td>https://www.inaturalist.org/taxa/1002207</td>\n      <td>https://www.inaturalist.org/taxa/142600</td>\n      <td>Plantae</td>\n      <td>Tracheophyta</td>\n      <td>Polypodiopsida</td>\n      <td>Schizaeales</td>\n      <td>Schizaeaceae</td>\n      <td>Actinostachys</td>\n      <td>wagneri</td>\n      <td>NaN</td>\n      <td>2024-06-08T16:08:26Z</td>\n      <td>Actinostachys wagneri</td>\n      <td>species</td>\n      <td>NaN</td>\n    </tr>\n    <tr>\n      <th>...</th>\n      <td>...</td>\n      <td>...</td>\n      <td>...</td>\n      <td>...</td>\n      <td>...</td>\n      <td>...</td>\n      <td>...</td>\n      <td>...</td>\n      <td>...</td>\n      <td>...</td>\n      <td>...</td>\n      <td>...</td>\n      <td>...</td>\n      <td>...</td>\n      <td>...</td>\n      <td>...</td>\n      <td>...</td>\n    </tr>\n    <tr>\n      <th>8151</th>\n      <td>1289564</td>\n      <td>NaN</td>\n      <td>NaN</td>\n      <td>NaN</td>\n      <td>NaN</td>\n      <td>NaN</td>\n      <td>NaN</td>\n      <td>NaN</td>\n      <td>NaN</td>\n      <td>NaN</td>\n      <td>NaN</td>\n      <td>NaN</td>\n      <td>NaN</td>\n      <td>NaN</td>\n      <td>NaN</td>\n      <td>NaN</td>\n      <td>NaN</td>\n    </tr>\n    <tr>\n      <th>8164</th>\n      <td>904699</td>\n      <td>NaN</td>\n      <td>NaN</td>\n      <td>NaN</td>\n      <td>NaN</td>\n      <td>NaN</td>\n      <td>NaN</td>\n      <td>NaN</td>\n      <td>NaN</td>\n      <td>NaN</td>\n      <td>NaN</td>\n      <td>NaN</td>\n      <td>NaN</td>\n      <td>NaN</td>\n      <td>NaN</td>\n      <td>NaN</td>\n      <td>NaN</td>\n    </tr>\n    <tr>\n      <th>8172</th>\n      <td>1556562</td>\n      <td>NaN</td>\n      <td>NaN</td>\n      <td>NaN</td>\n      <td>NaN</td>\n      <td>NaN</td>\n      <td>NaN</td>\n      <td>NaN</td>\n      <td>NaN</td>\n      <td>NaN</td>\n      <td>NaN</td>\n      <td>NaN</td>\n      <td>NaN</td>\n      <td>NaN</td>\n      <td>NaN</td>\n      <td>NaN</td>\n      <td>NaN</td>\n    </tr>\n    <tr>\n      <th>8297</th>\n      <td>123102</td>\n      <td>NaN</td>\n      <td>NaN</td>\n      <td>NaN</td>\n      <td>NaN</td>\n      <td>NaN</td>\n      <td>NaN</td>\n      <td>NaN</td>\n      <td>NaN</td>\n      <td>NaN</td>\n      <td>NaN</td>\n      <td>NaN</td>\n      <td>NaN</td>\n      <td>NaN</td>\n      <td>NaN</td>\n      <td>NaN</td>\n      <td>NaN</td>\n    </tr>\n    <tr>\n      <th>8300</th>\n      <td>50744</td>\n      <td>NaN</td>\n      <td>NaN</td>\n      <td>NaN</td>\n      <td>NaN</td>\n      <td>NaN</td>\n      <td>NaN</td>\n      <td>NaN</td>\n      <td>NaN</td>\n      <td>NaN</td>\n      <td>NaN</td>\n      <td>NaN</td>\n      <td>NaN</td>\n      <td>NaN</td>\n      <td>NaN</td>\n      <td>NaN</td>\n      <td>NaN</td>\n    </tr>\n  </tbody>\n</table>\n<p>8310 rows × 17 columns</p>\n</div>"
     },
     "execution_count": 14,
     "metadata": {},
     "output_type": "execute_result"
    }
   ],
   "source": [
    "# left join to filter just the taxon that have statuses that we're interested in\n",
    "austtaxaids = dfaus['taxon_id'].drop_duplicates()\n",
    "inattaxa['id'] = inattaxa['id'].astype(str)\n",
    "inataustaxa = pd.merge(austtaxaids, inattaxa, how=\"left\", left_on='taxon_id', right_on='id')\n",
    "inataustaxa.sort_values('id')"
   ],
   "metadata": {
    "collapsed": false,
    "pycharm": {
     "name": "#%%\n"
    },
    "ExecuteTime": {
     "end_time": "2025-01-08T01:48:43.313011Z",
     "start_time": "2025-01-08T01:48:42.790984Z"
    }
   }
  },
  {
   "cell_type": "markdown",
   "source": [
    "## Retrieve inactive taxa names from API"
   ],
   "metadata": {
    "collapsed": false
   }
  },
  {
   "cell_type": "code",
   "execution_count": 15,
   "outputs": [
    {
     "data": {
      "text/plain": "8       1262199\n14       993605\n28       634763\n71      1264437\n79      1264442\n         ...   \n8151    1289564\n8164     904699\n8172    1556562\n8297     123102\n8300      50744\nName: taxon_id, Length: 224, dtype: object"
     },
     "execution_count": 15,
     "metadata": {},
     "output_type": "execute_result"
    }
   ],
   "source": [
    "# looking at those that didn't match in the left join - Inactive or problem taxon - need to go to the API to get the detail\n",
    "unmatchedtaxonids = inataustaxa[inataustaxa['id'].isna()]['taxon_id']\n",
    "unmatchedtaxonids"
   ],
   "metadata": {
    "collapsed": false,
    "pycharm": {
     "name": "#%%\n"
    },
    "ExecuteTime": {
     "end_time": "2025-01-08T01:48:53.992683Z",
     "start_time": "2025-01-08T01:48:53.989509Z"
    }
   }
  },
  {
   "cell_type": "code",
   "execution_count": 16,
   "outputs": [
    {
     "name": "stdout",
     "output_type": "stream",
     "text": [
      "1 1262199\n",
      "2 993605\n",
      "3 634763\n",
      "4 1264437\n",
      "5 1264442\n",
      "6 370219\n",
      "7 1202976\n",
      "8 892273\n",
      "9 334722\n",
      "10 1522400\n",
      "11 1522401\n",
      "12 1061113\n",
      "13 1522416\n",
      "14 1522427\n",
      "15 116845\n",
      "16 850736\n",
      "17 538087\n",
      "18 1064159\n",
      "19 4075\n",
      "20 319393\n",
      "21 1094414\n",
      "22 954413\n",
      "23 586067\n",
      "24 937255\n",
      "25 937256\n",
      "26 937266\n",
      "27 508987\n",
      "28 405825\n",
      "29 966091\n",
      "30 1136642\n",
      "31 1275718\n",
      "32 1535105\n",
      "33 869830\n",
      "34 145357\n",
      "35 403648\n",
      "36 491475\n",
      "37 899197\n",
      "38 138100\n",
      "39 32164\n",
      "40 654262\n",
      "41 158801\n",
      "42 37279\n",
      "43 140695\n",
      "44 109170\n",
      "45 602508\n",
      "46 162565\n",
      "47 634645\n",
      "48 144454\n",
      "49 369372\n",
      "50 770039\n",
      "51 770117\n",
      "52 83595\n",
      "53 770200\n",
      "54 339972\n",
      "55 770008\n",
      "56 769948\n",
      "57 770189\n",
      "58 45206\n",
      "59 427051\n",
      "60 42773\n",
      "61 769981\n",
      "62 508990\n",
      "63 770032\n",
      "64 769943\n",
      "65 425785\n",
      "66 851155\n",
      "67 145672\n",
      "68 880603\n",
      "69 770132\n",
      "70 541617\n",
      "71 103669\n",
      "72 4072\n",
      "73 369374\n",
      "74 851221\n",
      "75 40199\n",
      "76 770186\n",
      "77 103668\n",
      "78 369320\n",
      "79 109527\n",
      "80 769954\n",
      "81 770111\n",
      "82 25242\n",
      "83 145456\n",
      "84 770035\n",
      "85 318740\n",
      "86 208141\n",
      "87 42959\n",
      "88 323867\n",
      "89 1091300\n",
      "90 1170290\n",
      "91 1038965\n",
      "92 525439\n",
      "93 1132352\n",
      "94 413471\n",
      "95 733329\n",
      "96 460983\n",
      "97 560655\n",
      "98 534404\n",
      "99 5003\n",
      "100 1248896\n",
      "101 1248989\n",
      "102 1431118\n",
      "103 323944\n",
      "104 19245\n",
      "105 1251731\n",
      "106 4812\n",
      "107 19010\n",
      "108 4785\n",
      "109 369278\n",
      "110 1074504\n",
      "111 1230875\n",
      "112 1276243\n",
      "113 1108936\n",
      "114 5315\n",
      "115 42886\n",
      "116 42887\n",
      "117 958237\n",
      "118 421575\n",
      "119 870447\n",
      "120 323753\n",
      "121 345560\n",
      "122 880595\n",
      "123 506956\n",
      "124 538090\n",
      "125 405033\n",
      "126 189947\n",
      "127 4826\n",
      "128 4811\n",
      "129 4810\n",
      "130 461597\n",
      "131 370493\n",
      "132 50381\n",
      "133 558114\n",
      "134 723110\n",
      "135 1303269\n",
      "136 1303276\n",
      "137 725528\n",
      "138 912132\n",
      "139 19008\n",
      "140 1057403\n",
      "141 490896\n",
      "142 437639\n",
      "143 204452\n",
      "144 1290080\n",
      "145 559002\n",
      "146 413431\n",
      "147 338992\n",
      "148 413443\n",
      "149 42877\n",
      "150 412835\n",
      "151 1250098\n",
      "152 1289565\n",
      "153 4091\n",
      "154 880604\n",
      "155 722388\n",
      "156 628005\n",
      "157 437546\n",
      "158 952472\n",
      "159 876587\n",
      "160 1251759\n",
      "161 1132364\n",
      "162 972690\n",
      "163 1092262\n",
      "164 1303267\n",
      "165 787843\n",
      "166 321158\n",
      "167 404220\n",
      "168 460984\n",
      "169 93797\n",
      "170 708193\n",
      "171 849232\n",
      "172 849226\n",
      "173 1255178\n",
      "174 1089580\n",
      "175 1132359\n",
      "176 235929\n",
      "177 181674\n",
      "178 1084240\n",
      "179 1092416\n",
      "180 1132376\n",
      "181 1251857\n",
      "182 820620\n",
      "183 1251861\n",
      "184 1132386\n",
      "185 1060195\n",
      "186 1071303\n",
      "187 1132392\n",
      "188 1118065\n",
      "189 404337\n",
      "190 99973\n",
      "191 208015\n",
      "192 436388\n",
      "193 25244\n",
      "194 25247\n",
      "195 1123428\n",
      "196 1293532\n",
      "197 1178665\n",
      "198 1251720\n",
      "199 1251735\n",
      "200 1251736\n",
      "201 1185551\n",
      "202 1132366\n",
      "203 1076724\n",
      "204 1251810\n",
      "205 1354025\n",
      "206 1251860\n",
      "207 1076433\n",
      "208 1231363\n",
      "209 1289021\n",
      "210 980641\n",
      "211 1303260\n",
      "212 1303263\n",
      "213 1303268\n",
      "214 724964\n",
      "215 1251881\n",
      "216 1505599\n",
      "217 1038963\n",
      "218 1505722\n",
      "219 1520218\n",
      "220 1289564\n",
      "221 904699\n",
      "222 1556562\n",
      "223 123102\n",
      "224 50744\n"
     ]
    }
   ],
   "source": [
    "# %%script echo skipping # comment this line to download dataset from the web and save locally - add inaturalist-taxonomy.dwca.zip to .gitignore\n",
    "\n",
    "# to go the API to retrieve taxon names\n",
    "import requests\n",
    "import json\n",
    "from time import sleep\n",
    "\n",
    "apiurlbase = \"https://api.inaturalist.org/v1/taxa/\"\n",
    "taxonlist = []\n",
    "i = 1\n",
    "for unmatchedid in unmatchedtaxonids:\n",
    "    print(str(i) + \" \" + unmatchedid)\n",
    "    apiurl = apiurlbase + str(unmatchedid)\n",
    "    response = requests.request(\"GET\", apiurl)\n",
    "    payload = json.loads(response.text)\n",
    "    if (payload['total_results'] == 1):\n",
    "        r = payload['results'][0]\n",
    "        try:\n",
    "            common_name = r['preferred_common_name']\n",
    "        except KeyError:\n",
    "            common_name = \"\"\n",
    "        taxonlist.append({'taxon_id': unmatchedid,\n",
    "                      'name':r['name'],\n",
    "                      'preferred_common_name':common_name,\n",
    "                      'is_active':r['is_active'],\n",
    "                      'observation_count':r['observations_count'],'current_synonymous_taxon_ids':r['current_synonymous_taxon_ids']})\n",
    "    else:\n",
    "        print(\"Warning: taxon_id \" + unmatchedid + \"returns more than one result from inaturalist\")\n",
    "    sleep(1)\n",
    "    i+=1\n",
    "\n",
    "pd.DataFrame(taxonlist).to_csv(dataindir + \"inat-aust-inactive-taxon.csv\",index = False)"
   ],
   "metadata": {
    "collapsed": false,
    "pycharm": {
     "name": "#%%\n"
    },
    "ExecuteTime": {
     "end_time": "2025-01-08T01:56:54.033555Z",
     "start_time": "2025-01-08T01:49:30.060366Z"
    }
   }
  },
  {
   "cell_type": "code",
   "execution_count": 17,
   "outputs": [
    {
     "data": {
      "text/plain": "    taxon_id                                 name    preferred_common_name  \\\n0    1262199                      Caleana dixonii    Sandplain Duck Orchid   \n1     993605              Acianthus amplexicaulis                      NaN   \n2     634763           Rutidosis leptorhynchoides       button wrinklewort   \n3    1264437                  Arctophoca forsteri     New Zealand Fur Seal   \n4    1264442                Arctophoca tropicalis    Subantarctic Fur Seal   \n..       ...                                  ...                      ...   \n219  1289564          Parvipsitta porphyrocephala  Purple-crowned Lorikeet   \n220   904699                Zeugodacus cucurbitae                Melon Fly   \n221  1556562             Carcharhinus spallanzani           Spottail Shark   \n222   123102  Turdus poliocephalus erythropleurus  Christmas Island Thrush   \n223    50744                      Stiphodon allen          Opal Cling-Goby   \n\n    is_active observation_count current_synonymous_taxon_ids  \n0       False                 0                           []  \n1       False                 0                    [1580371]  \n2       False                 0                    [1255168]  \n3       False                 0                      [41752]  \n4       False                 0                      [41753]  \n..        ...               ...                          ...  \n219     False                 0                    [1584102]  \n220     False                 0                     [448876]  \n221     False                 0                      [96767]  \n222     False                 0                    [1574874]  \n223     False                 0                           []  \n\n[224 rows x 6 columns]",
      "text/html": "<div>\n<style scoped>\n    .dataframe tbody tr th:only-of-type {\n        vertical-align: middle;\n    }\n\n    .dataframe tbody tr th {\n        vertical-align: top;\n    }\n\n    .dataframe thead th {\n        text-align: right;\n    }\n</style>\n<table border=\"1\" class=\"dataframe\">\n  <thead>\n    <tr style=\"text-align: right;\">\n      <th></th>\n      <th>taxon_id</th>\n      <th>name</th>\n      <th>preferred_common_name</th>\n      <th>is_active</th>\n      <th>observation_count</th>\n      <th>current_synonymous_taxon_ids</th>\n    </tr>\n  </thead>\n  <tbody>\n    <tr>\n      <th>0</th>\n      <td>1262199</td>\n      <td>Caleana dixonii</td>\n      <td>Sandplain Duck Orchid</td>\n      <td>False</td>\n      <td>0</td>\n      <td>[]</td>\n    </tr>\n    <tr>\n      <th>1</th>\n      <td>993605</td>\n      <td>Acianthus amplexicaulis</td>\n      <td>NaN</td>\n      <td>False</td>\n      <td>0</td>\n      <td>[1580371]</td>\n    </tr>\n    <tr>\n      <th>2</th>\n      <td>634763</td>\n      <td>Rutidosis leptorhynchoides</td>\n      <td>button wrinklewort</td>\n      <td>False</td>\n      <td>0</td>\n      <td>[1255168]</td>\n    </tr>\n    <tr>\n      <th>3</th>\n      <td>1264437</td>\n      <td>Arctophoca forsteri</td>\n      <td>New Zealand Fur Seal</td>\n      <td>False</td>\n      <td>0</td>\n      <td>[41752]</td>\n    </tr>\n    <tr>\n      <th>4</th>\n      <td>1264442</td>\n      <td>Arctophoca tropicalis</td>\n      <td>Subantarctic Fur Seal</td>\n      <td>False</td>\n      <td>0</td>\n      <td>[41753]</td>\n    </tr>\n    <tr>\n      <th>...</th>\n      <td>...</td>\n      <td>...</td>\n      <td>...</td>\n      <td>...</td>\n      <td>...</td>\n      <td>...</td>\n    </tr>\n    <tr>\n      <th>219</th>\n      <td>1289564</td>\n      <td>Parvipsitta porphyrocephala</td>\n      <td>Purple-crowned Lorikeet</td>\n      <td>False</td>\n      <td>0</td>\n      <td>[1584102]</td>\n    </tr>\n    <tr>\n      <th>220</th>\n      <td>904699</td>\n      <td>Zeugodacus cucurbitae</td>\n      <td>Melon Fly</td>\n      <td>False</td>\n      <td>0</td>\n      <td>[448876]</td>\n    </tr>\n    <tr>\n      <th>221</th>\n      <td>1556562</td>\n      <td>Carcharhinus spallanzani</td>\n      <td>Spottail Shark</td>\n      <td>False</td>\n      <td>0</td>\n      <td>[96767]</td>\n    </tr>\n    <tr>\n      <th>222</th>\n      <td>123102</td>\n      <td>Turdus poliocephalus erythropleurus</td>\n      <td>Christmas Island Thrush</td>\n      <td>False</td>\n      <td>0</td>\n      <td>[1574874]</td>\n    </tr>\n    <tr>\n      <th>223</th>\n      <td>50744</td>\n      <td>Stiphodon allen</td>\n      <td>Opal Cling-Goby</td>\n      <td>False</td>\n      <td>0</td>\n      <td>[]</td>\n    </tr>\n  </tbody>\n</table>\n<p>224 rows × 6 columns</p>\n</div>"
     },
     "execution_count": 17,
     "metadata": {},
     "output_type": "execute_result"
    }
   ],
   "source": [
    "inactivetaxa = pd.read_csv(dataindir+\"inat-aust-inactive-taxon.csv\", dtype=str)\n",
    "inactivetaxa"
   ],
   "metadata": {
    "collapsed": false,
    "pycharm": {
     "name": "#%%\n"
    },
    "ExecuteTime": {
     "end_time": "2025-01-08T02:34:39.112871Z",
     "start_time": "2025-01-08T02:34:39.101806Z"
    }
   }
  },
  {
   "cell_type": "markdown",
   "source": [
    "The taxa above are typically marked as inactive, which means they have no observations in iNaturalist. Collate them into the taxa list, and merge the name into the scientificName field for later use.\n"
   ],
   "metadata": {
    "collapsed": false
   }
  },
  {
   "cell_type": "code",
   "execution_count": 18,
   "outputs": [
    {
     "data": {
      "text/plain": "     taxon_id       id                                   taxonID  \\\n0       46311    46311    https://www.inaturalist.org/taxa/46311   \n1      517069   517069   https://www.inaturalist.org/taxa/517069   \n2      918383   918383   https://www.inaturalist.org/taxa/918383   \n3     1247288  1247288  https://www.inaturalist.org/taxa/1247288   \n4     1448721  1448721  https://www.inaturalist.org/taxa/1448721   \n...       ...      ...                                       ...   \n8305  1467834  1467834  https://www.inaturalist.org/taxa/1467834   \n8306   402778   402778   https://www.inaturalist.org/taxa/402778   \n8307   552264   552264   https://www.inaturalist.org/taxa/552264   \n8308  1574874  1574874  https://www.inaturalist.org/taxa/1574874   \n8309  1431865  1431865  https://www.inaturalist.org/taxa/1431865   \n\n                                    identifier  \\\n0       https://www.inaturalist.org/taxa/46311   \n1      https://www.inaturalist.org/taxa/517069   \n2      https://www.inaturalist.org/taxa/918383   \n3     https://www.inaturalist.org/taxa/1247288   \n4     https://www.inaturalist.org/taxa/1448721   \n...                                        ...   \n8305  https://www.inaturalist.org/taxa/1467834   \n8306   https://www.inaturalist.org/taxa/402778   \n8307   https://www.inaturalist.org/taxa/552264   \n8308  https://www.inaturalist.org/taxa/1574874   \n8309  https://www.inaturalist.org/taxa/1431865   \n\n                             parentNameUsageID   kingdom        phylum  \\\n0       https://www.inaturalist.org/taxa/46310  Animalia      Chordata   \n1      https://www.inaturalist.org/taxa/517030  Animalia      Chordata   \n2      https://www.inaturalist.org/taxa/430819   Plantae  Tracheophyta   \n3      https://www.inaturalist.org/taxa/184926   Plantae  Tracheophyta   \n4     https://www.inaturalist.org/taxa/1448501   Plantae  Tracheophyta   \n...                                        ...       ...           ...   \n8305    https://www.inaturalist.org/taxa/83598   Plantae  Tracheophyta   \n8306   https://www.inaturalist.org/taxa/379024   Plantae  Tracheophyta   \n8307   https://www.inaturalist.org/taxa/552260  Animalia      Chordata   \n8308    https://www.inaturalist.org/taxa/12705  Animalia      Chordata   \n8309    https://www.inaturalist.org/taxa/43278  Animalia      Chordata   \n\n              class            order         family          genus  \\\n0          Mammalia          Sirenia     Dugongidae         Dugong   \n1          Amphibia            Anura        Hylidae       Ranoidea   \n2        Liliopsida      Asparagales    Orchidaceae   Chiloschista   \n3     Magnoliopsida          Rosales     Rhamnaceae     Pomaderris   \n4     Magnoliopsida      Gentianales    Apocynaceae   Leichhardtia   \n...             ...              ...            ...            ...   \n8305  Magnoliopsida      Dilleniales   Dilleniaceae      Hibbertia   \n8306  Magnoliopsida       Santalales   Loranthaceae     Ileostylus   \n8307       Reptilia         Squamata      Scincidae  Carinascincus   \n8308           Aves    Passeriformes       Turdidae         Turdus   \n8309       Mammalia  Peramelemorphia  Chaeropodidae      Chaeropus   \n\n     specificEpithet infraspecificEpithet              modified  \\\n0              dugon                  NaN  2020-05-04T14:42:25Z   \n1              aurea                  NaN  2023-09-23T05:53:18Z   \n2        phyllorhiza                  NaN  2023-09-27T02:32:53Z   \n3            bodalla                  NaN  2021-08-27T06:18:35Z   \n4       glandulifera                  NaN  2023-02-12T02:51:48Z   \n...              ...                  ...                   ...   \n8305       charlesii                  NaN  2023-05-15T23:10:33Z   \n8306      micranthus                  NaN  2023-06-16T06:48:05Z   \n8307      orocryptus                  NaN  2018-11-18T00:17:16Z   \n8308  erythropleurus                  NaN  2024-12-16T19:18:57Z   \n8309        yirratji                  NaN  2022-12-06T23:41:35Z   \n\n                 scientificName taxonRank  \\\n0                  Dugong dugon   species   \n1                Ranoidea aurea   species   \n2      Chiloschista phyllorhiza   species   \n3            Pomaderris bodalla   species   \n4     Leichhardtia glandulifera   species   \n...                         ...       ...   \n8305        Hibbertia charlesii   species   \n8306      Ileostylus micranthus   species   \n8307   Carinascincus orocryptus   species   \n8308      Turdus erythropleurus   species   \n8309         Chaeropus yirratji   species   \n\n                                             references preferred_common_name  \\\n0     http://www.catalogueoflife.org/annual-checklis...                   NaN   \n1     http://research.amnh.org/vz/herpetology/amphibia/                   NaN   \n2     http://www.catalogueoflife.org/annual-checklis...                   NaN   \n3                        https://eol.org/pages/49432063                   NaN   \n4     https://powo.science.kew.org/taxon/urn:lsid:ip...                   NaN   \n...                                                 ...                   ...   \n8305                                                NaN                   NaN   \n8306                                                NaN                   NaN   \n8307                                                NaN                   NaN   \n8308                                                NaN                   NaN   \n8309                                                NaN                   NaN   \n\n     is_active current_synonymous_taxon_ids  \n0          NaN                          NaN  \n1          NaN                          NaN  \n2          NaN                          NaN  \n3          NaN                          NaN  \n4          NaN                          NaN  \n...        ...                          ...  \n8305       NaN                          NaN  \n8306       NaN                          NaN  \n8307       NaN                          NaN  \n8308       NaN                          NaN  \n8309       NaN                          NaN  \n\n[8310 rows x 20 columns]",
      "text/html": "<div>\n<style scoped>\n    .dataframe tbody tr th:only-of-type {\n        vertical-align: middle;\n    }\n\n    .dataframe tbody tr th {\n        vertical-align: top;\n    }\n\n    .dataframe thead th {\n        text-align: right;\n    }\n</style>\n<table border=\"1\" class=\"dataframe\">\n  <thead>\n    <tr style=\"text-align: right;\">\n      <th></th>\n      <th>taxon_id</th>\n      <th>id</th>\n      <th>taxonID</th>\n      <th>identifier</th>\n      <th>parentNameUsageID</th>\n      <th>kingdom</th>\n      <th>phylum</th>\n      <th>class</th>\n      <th>order</th>\n      <th>family</th>\n      <th>genus</th>\n      <th>specificEpithet</th>\n      <th>infraspecificEpithet</th>\n      <th>modified</th>\n      <th>scientificName</th>\n      <th>taxonRank</th>\n      <th>references</th>\n      <th>preferred_common_name</th>\n      <th>is_active</th>\n      <th>current_synonymous_taxon_ids</th>\n    </tr>\n  </thead>\n  <tbody>\n    <tr>\n      <th>0</th>\n      <td>46311</td>\n      <td>46311</td>\n      <td>https://www.inaturalist.org/taxa/46311</td>\n      <td>https://www.inaturalist.org/taxa/46311</td>\n      <td>https://www.inaturalist.org/taxa/46310</td>\n      <td>Animalia</td>\n      <td>Chordata</td>\n      <td>Mammalia</td>\n      <td>Sirenia</td>\n      <td>Dugongidae</td>\n      <td>Dugong</td>\n      <td>dugon</td>\n      <td>NaN</td>\n      <td>2020-05-04T14:42:25Z</td>\n      <td>Dugong dugon</td>\n      <td>species</td>\n      <td>http://www.catalogueoflife.org/annual-checklis...</td>\n      <td>NaN</td>\n      <td>NaN</td>\n      <td>NaN</td>\n    </tr>\n    <tr>\n      <th>1</th>\n      <td>517069</td>\n      <td>517069</td>\n      <td>https://www.inaturalist.org/taxa/517069</td>\n      <td>https://www.inaturalist.org/taxa/517069</td>\n      <td>https://www.inaturalist.org/taxa/517030</td>\n      <td>Animalia</td>\n      <td>Chordata</td>\n      <td>Amphibia</td>\n      <td>Anura</td>\n      <td>Hylidae</td>\n      <td>Ranoidea</td>\n      <td>aurea</td>\n      <td>NaN</td>\n      <td>2023-09-23T05:53:18Z</td>\n      <td>Ranoidea aurea</td>\n      <td>species</td>\n      <td>http://research.amnh.org/vz/herpetology/amphibia/</td>\n      <td>NaN</td>\n      <td>NaN</td>\n      <td>NaN</td>\n    </tr>\n    <tr>\n      <th>2</th>\n      <td>918383</td>\n      <td>918383</td>\n      <td>https://www.inaturalist.org/taxa/918383</td>\n      <td>https://www.inaturalist.org/taxa/918383</td>\n      <td>https://www.inaturalist.org/taxa/430819</td>\n      <td>Plantae</td>\n      <td>Tracheophyta</td>\n      <td>Liliopsida</td>\n      <td>Asparagales</td>\n      <td>Orchidaceae</td>\n      <td>Chiloschista</td>\n      <td>phyllorhiza</td>\n      <td>NaN</td>\n      <td>2023-09-27T02:32:53Z</td>\n      <td>Chiloschista phyllorhiza</td>\n      <td>species</td>\n      <td>http://www.catalogueoflife.org/annual-checklis...</td>\n      <td>NaN</td>\n      <td>NaN</td>\n      <td>NaN</td>\n    </tr>\n    <tr>\n      <th>3</th>\n      <td>1247288</td>\n      <td>1247288</td>\n      <td>https://www.inaturalist.org/taxa/1247288</td>\n      <td>https://www.inaturalist.org/taxa/1247288</td>\n      <td>https://www.inaturalist.org/taxa/184926</td>\n      <td>Plantae</td>\n      <td>Tracheophyta</td>\n      <td>Magnoliopsida</td>\n      <td>Rosales</td>\n      <td>Rhamnaceae</td>\n      <td>Pomaderris</td>\n      <td>bodalla</td>\n      <td>NaN</td>\n      <td>2021-08-27T06:18:35Z</td>\n      <td>Pomaderris bodalla</td>\n      <td>species</td>\n      <td>https://eol.org/pages/49432063</td>\n      <td>NaN</td>\n      <td>NaN</td>\n      <td>NaN</td>\n    </tr>\n    <tr>\n      <th>4</th>\n      <td>1448721</td>\n      <td>1448721</td>\n      <td>https://www.inaturalist.org/taxa/1448721</td>\n      <td>https://www.inaturalist.org/taxa/1448721</td>\n      <td>https://www.inaturalist.org/taxa/1448501</td>\n      <td>Plantae</td>\n      <td>Tracheophyta</td>\n      <td>Magnoliopsida</td>\n      <td>Gentianales</td>\n      <td>Apocynaceae</td>\n      <td>Leichhardtia</td>\n      <td>glandulifera</td>\n      <td>NaN</td>\n      <td>2023-02-12T02:51:48Z</td>\n      <td>Leichhardtia glandulifera</td>\n      <td>species</td>\n      <td>https://powo.science.kew.org/taxon/urn:lsid:ip...</td>\n      <td>NaN</td>\n      <td>NaN</td>\n      <td>NaN</td>\n    </tr>\n    <tr>\n      <th>...</th>\n      <td>...</td>\n      <td>...</td>\n      <td>...</td>\n      <td>...</td>\n      <td>...</td>\n      <td>...</td>\n      <td>...</td>\n      <td>...</td>\n      <td>...</td>\n      <td>...</td>\n      <td>...</td>\n      <td>...</td>\n      <td>...</td>\n      <td>...</td>\n      <td>...</td>\n      <td>...</td>\n      <td>...</td>\n      <td>...</td>\n      <td>...</td>\n      <td>...</td>\n    </tr>\n    <tr>\n      <th>8305</th>\n      <td>1467834</td>\n      <td>1467834</td>\n      <td>https://www.inaturalist.org/taxa/1467834</td>\n      <td>https://www.inaturalist.org/taxa/1467834</td>\n      <td>https://www.inaturalist.org/taxa/83598</td>\n      <td>Plantae</td>\n      <td>Tracheophyta</td>\n      <td>Magnoliopsida</td>\n      <td>Dilleniales</td>\n      <td>Dilleniaceae</td>\n      <td>Hibbertia</td>\n      <td>charlesii</td>\n      <td>NaN</td>\n      <td>2023-05-15T23:10:33Z</td>\n      <td>Hibbertia charlesii</td>\n      <td>species</td>\n      <td>NaN</td>\n      <td>NaN</td>\n      <td>NaN</td>\n      <td>NaN</td>\n    </tr>\n    <tr>\n      <th>8306</th>\n      <td>402778</td>\n      <td>402778</td>\n      <td>https://www.inaturalist.org/taxa/402778</td>\n      <td>https://www.inaturalist.org/taxa/402778</td>\n      <td>https://www.inaturalist.org/taxa/379024</td>\n      <td>Plantae</td>\n      <td>Tracheophyta</td>\n      <td>Magnoliopsida</td>\n      <td>Santalales</td>\n      <td>Loranthaceae</td>\n      <td>Ileostylus</td>\n      <td>micranthus</td>\n      <td>NaN</td>\n      <td>2023-06-16T06:48:05Z</td>\n      <td>Ileostylus micranthus</td>\n      <td>species</td>\n      <td>NaN</td>\n      <td>NaN</td>\n      <td>NaN</td>\n      <td>NaN</td>\n    </tr>\n    <tr>\n      <th>8307</th>\n      <td>552264</td>\n      <td>552264</td>\n      <td>https://www.inaturalist.org/taxa/552264</td>\n      <td>https://www.inaturalist.org/taxa/552264</td>\n      <td>https://www.inaturalist.org/taxa/552260</td>\n      <td>Animalia</td>\n      <td>Chordata</td>\n      <td>Reptilia</td>\n      <td>Squamata</td>\n      <td>Scincidae</td>\n      <td>Carinascincus</td>\n      <td>orocryptus</td>\n      <td>NaN</td>\n      <td>2018-11-18T00:17:16Z</td>\n      <td>Carinascincus orocryptus</td>\n      <td>species</td>\n      <td>NaN</td>\n      <td>NaN</td>\n      <td>NaN</td>\n      <td>NaN</td>\n    </tr>\n    <tr>\n      <th>8308</th>\n      <td>1574874</td>\n      <td>1574874</td>\n      <td>https://www.inaturalist.org/taxa/1574874</td>\n      <td>https://www.inaturalist.org/taxa/1574874</td>\n      <td>https://www.inaturalist.org/taxa/12705</td>\n      <td>Animalia</td>\n      <td>Chordata</td>\n      <td>Aves</td>\n      <td>Passeriformes</td>\n      <td>Turdidae</td>\n      <td>Turdus</td>\n      <td>erythropleurus</td>\n      <td>NaN</td>\n      <td>2024-12-16T19:18:57Z</td>\n      <td>Turdus erythropleurus</td>\n      <td>species</td>\n      <td>NaN</td>\n      <td>NaN</td>\n      <td>NaN</td>\n      <td>NaN</td>\n    </tr>\n    <tr>\n      <th>8309</th>\n      <td>1431865</td>\n      <td>1431865</td>\n      <td>https://www.inaturalist.org/taxa/1431865</td>\n      <td>https://www.inaturalist.org/taxa/1431865</td>\n      <td>https://www.inaturalist.org/taxa/43278</td>\n      <td>Animalia</td>\n      <td>Chordata</td>\n      <td>Mammalia</td>\n      <td>Peramelemorphia</td>\n      <td>Chaeropodidae</td>\n      <td>Chaeropus</td>\n      <td>yirratji</td>\n      <td>NaN</td>\n      <td>2022-12-06T23:41:35Z</td>\n      <td>Chaeropus yirratji</td>\n      <td>species</td>\n      <td>NaN</td>\n      <td>NaN</td>\n      <td>NaN</td>\n      <td>NaN</td>\n    </tr>\n  </tbody>\n</table>\n<p>8310 rows × 20 columns</p>\n</div>"
     },
     "execution_count": 18,
     "metadata": {},
     "output_type": "execute_result"
    }
   ],
   "source": [
    "# collate the status and the taxon info into a single file to use for the state work\n",
    "# scientificName is 1. if id field is null, the name field or 2. else it's scientificName\n",
    "alltaxa = pd.merge(inataustaxa, inactivetaxa, how=\"left\")\n",
    "alltaxa['scientificName'] = alltaxa.apply(lambda x: x['name'] if pd.isnull(x['id']) else x['scientificName'],axis=1)\n",
    "alltaxa = alltaxa.drop(['name','observation_count'],axis=1)\n",
    "alltaxa\n"
   ],
   "metadata": {
    "collapsed": false,
    "pycharm": {
     "name": "#%%\n"
    },
    "ExecuteTime": {
     "end_time": "2025-01-08T02:34:51.378225Z",
     "start_time": "2025-01-08T02:34:51.268794Z"
    }
   }
  },
  {
   "cell_type": "code",
   "execution_count": 19,
   "outputs": [
    {
     "data": {
      "text/plain": "           id taxon_id  user_id place_id source_id  \\\n0      285391    46311  1138587     6744             \n1      285328   517069  1138587    12986             \n2      234788   918383   702203     9994             \n3      285396    46311  1138587     9994             \n4      180721  1247288   222137     6825             \n...       ...      ...      ...      ...       ...   \n10067  285267   402778  1138587     7333             \n10068  159365    40179   425992   144315             \n10069  290896   552264   702203                      \n10070  294806  1574874  2366151     7616             \n10071  276276  1431865   708886                      \n\n                                               authority       status  \\\n0                                                          Not listed   \n1                     Nature Conservation Act 2014 (ACT)           VU   \n2                              Atlas of Living Australia          NT    \n3                                                          Not listed   \n4      New South Wales Office of Environment and Heri...   Vulnerable   \n...                                                  ...          ...   \n10067  Environment Protection and Biodiversity Conser...           VU   \n10068                              Brisbane City Council  Significant   \n10069                      Autralian Government EPBC Act           EN   \n10070  Environmental Protection and Biodiversity Cons...   Endangered   \n10071  WA Deparment of Biodiversity, Conservation and...      Extinct   \n\n                                                     url description  \\\n0                                                                      \n1                                                                      \n2      https://bie.ala.org.au/species/https://id.biod...               \n3                                                                      \n4      https://www.environment.nsw.gov.au/threateneds...               \n...                                                  ...         ...   \n10067  https://www.environment.gov.au/cgi-bin/sprat/p...               \n10068  https://www.brisbane.qld.gov.au/sites/default/...               \n10069  https://www.environment.gov.au/cgi-bin/sprat/p...  Endangered   \n10070  http://www.environment.gov.au/cgi-bin/sprat/pu...               \n10071  https://bie.ala.org.au/species/https://biodive...               \n\n      geoprivacy  ...          genus specificEpithet infraspecificEpithet  \\\n0           open  ...         Dugong           dugon                  NaN   \n1       obscured  ...       Ranoidea           aurea                  NaN   \n2                 ...   Chiloschista     phyllorhiza                  NaN   \n3           open  ...         Dugong           dugon                  NaN   \n4           open  ...     Pomaderris         bodalla                  NaN   \n...          ...  ...            ...             ...                  ...   \n10067       open  ...     Ileostylus      micranthus                  NaN   \n10068       open  ...     Phascogale       tapoatafa                  NaN   \n10069       open  ...  Carinascincus      orocryptus                  NaN   \n10070   obscured  ...         Turdus  erythropleurus                  NaN   \n10071   obscured  ...      Chaeropus        yirratji                  NaN   \n\n                   modified            scientificName taxonRank  \\\n0      2020-05-04T14:42:25Z              Dugong dugon   species   \n1      2023-09-23T05:53:18Z            Ranoidea aurea   species   \n2      2023-09-27T02:32:53Z  Chiloschista phyllorhiza   species   \n3      2020-05-04T14:42:25Z              Dugong dugon   species   \n4      2021-08-27T06:18:35Z        Pomaderris bodalla   species   \n...                     ...                       ...       ...   \n10067  2023-06-16T06:48:05Z     Ileostylus micranthus   species   \n10068  2023-06-06T12:22:39Z      Phascogale tapoatafa   species   \n10069  2018-11-18T00:17:16Z  Carinascincus orocryptus   species   \n10070  2024-12-16T19:18:57Z     Turdus erythropleurus   species   \n10071  2022-12-06T23:41:35Z        Chaeropus yirratji   species   \n\n                                              references  \\\n0      http://www.catalogueoflife.org/annual-checklis...   \n1      http://research.amnh.org/vz/herpetology/amphibia/   \n2      http://www.catalogueoflife.org/annual-checklis...   \n3      http://www.catalogueoflife.org/annual-checklis...   \n4                         https://eol.org/pages/49432063   \n...                                                  ...   \n10067                                                NaN   \n10068  http://www.catalogueoflife.org/annual-checklis...   \n10069                                                NaN   \n10070                                                NaN   \n10071                                                NaN   \n\n      preferred_common_name is_active current_synonymous_taxon_ids  \n0                       NaN       NaN                          NaN  \n1                       NaN       NaN                          NaN  \n2                       NaN       NaN                          NaN  \n3                       NaN       NaN                          NaN  \n4                       NaN       NaN                          NaN  \n...                     ...       ...                          ...  \n10067                   NaN       NaN                          NaN  \n10068                   NaN       NaN                          NaN  \n10069                   NaN       NaN                          NaN  \n10070                   NaN       NaN                          NaN  \n10071                   NaN       NaN                          NaN  \n\n[10072 rows x 34 columns]",
      "text/html": "<div>\n<style scoped>\n    .dataframe tbody tr th:only-of-type {\n        vertical-align: middle;\n    }\n\n    .dataframe tbody tr th {\n        vertical-align: top;\n    }\n\n    .dataframe thead th {\n        text-align: right;\n    }\n</style>\n<table border=\"1\" class=\"dataframe\">\n  <thead>\n    <tr style=\"text-align: right;\">\n      <th></th>\n      <th>id</th>\n      <th>taxon_id</th>\n      <th>user_id</th>\n      <th>place_id</th>\n      <th>source_id</th>\n      <th>authority</th>\n      <th>status</th>\n      <th>url</th>\n      <th>description</th>\n      <th>geoprivacy</th>\n      <th>...</th>\n      <th>genus</th>\n      <th>specificEpithet</th>\n      <th>infraspecificEpithet</th>\n      <th>modified</th>\n      <th>scientificName</th>\n      <th>taxonRank</th>\n      <th>references</th>\n      <th>preferred_common_name</th>\n      <th>is_active</th>\n      <th>current_synonymous_taxon_ids</th>\n    </tr>\n  </thead>\n  <tbody>\n    <tr>\n      <th>0</th>\n      <td>285391</td>\n      <td>46311</td>\n      <td>1138587</td>\n      <td>6744</td>\n      <td></td>\n      <td></td>\n      <td>Not listed</td>\n      <td></td>\n      <td></td>\n      <td>open</td>\n      <td>...</td>\n      <td>Dugong</td>\n      <td>dugon</td>\n      <td>NaN</td>\n      <td>2020-05-04T14:42:25Z</td>\n      <td>Dugong dugon</td>\n      <td>species</td>\n      <td>http://www.catalogueoflife.org/annual-checklis...</td>\n      <td>NaN</td>\n      <td>NaN</td>\n      <td>NaN</td>\n    </tr>\n    <tr>\n      <th>1</th>\n      <td>285328</td>\n      <td>517069</td>\n      <td>1138587</td>\n      <td>12986</td>\n      <td></td>\n      <td>Nature Conservation Act 2014 (ACT)</td>\n      <td>VU</td>\n      <td></td>\n      <td></td>\n      <td>obscured</td>\n      <td>...</td>\n      <td>Ranoidea</td>\n      <td>aurea</td>\n      <td>NaN</td>\n      <td>2023-09-23T05:53:18Z</td>\n      <td>Ranoidea aurea</td>\n      <td>species</td>\n      <td>http://research.amnh.org/vz/herpetology/amphibia/</td>\n      <td>NaN</td>\n      <td>NaN</td>\n      <td>NaN</td>\n    </tr>\n    <tr>\n      <th>2</th>\n      <td>234788</td>\n      <td>918383</td>\n      <td>702203</td>\n      <td>9994</td>\n      <td></td>\n      <td>Atlas of Living Australia</td>\n      <td>NT</td>\n      <td>https://bie.ala.org.au/species/https://id.biod...</td>\n      <td></td>\n      <td></td>\n      <td>...</td>\n      <td>Chiloschista</td>\n      <td>phyllorhiza</td>\n      <td>NaN</td>\n      <td>2023-09-27T02:32:53Z</td>\n      <td>Chiloschista phyllorhiza</td>\n      <td>species</td>\n      <td>http://www.catalogueoflife.org/annual-checklis...</td>\n      <td>NaN</td>\n      <td>NaN</td>\n      <td>NaN</td>\n    </tr>\n    <tr>\n      <th>3</th>\n      <td>285396</td>\n      <td>46311</td>\n      <td>1138587</td>\n      <td>9994</td>\n      <td></td>\n      <td></td>\n      <td>Not listed</td>\n      <td></td>\n      <td></td>\n      <td>open</td>\n      <td>...</td>\n      <td>Dugong</td>\n      <td>dugon</td>\n      <td>NaN</td>\n      <td>2020-05-04T14:42:25Z</td>\n      <td>Dugong dugon</td>\n      <td>species</td>\n      <td>http://www.catalogueoflife.org/annual-checklis...</td>\n      <td>NaN</td>\n      <td>NaN</td>\n      <td>NaN</td>\n    </tr>\n    <tr>\n      <th>4</th>\n      <td>180721</td>\n      <td>1247288</td>\n      <td>222137</td>\n      <td>6825</td>\n      <td></td>\n      <td>New South Wales Office of Environment and Heri...</td>\n      <td>Vulnerable</td>\n      <td>https://www.environment.nsw.gov.au/threateneds...</td>\n      <td></td>\n      <td>open</td>\n      <td>...</td>\n      <td>Pomaderris</td>\n      <td>bodalla</td>\n      <td>NaN</td>\n      <td>2021-08-27T06:18:35Z</td>\n      <td>Pomaderris bodalla</td>\n      <td>species</td>\n      <td>https://eol.org/pages/49432063</td>\n      <td>NaN</td>\n      <td>NaN</td>\n      <td>NaN</td>\n    </tr>\n    <tr>\n      <th>...</th>\n      <td>...</td>\n      <td>...</td>\n      <td>...</td>\n      <td>...</td>\n      <td>...</td>\n      <td>...</td>\n      <td>...</td>\n      <td>...</td>\n      <td>...</td>\n      <td>...</td>\n      <td>...</td>\n      <td>...</td>\n      <td>...</td>\n      <td>...</td>\n      <td>...</td>\n      <td>...</td>\n      <td>...</td>\n      <td>...</td>\n      <td>...</td>\n      <td>...</td>\n      <td>...</td>\n    </tr>\n    <tr>\n      <th>10067</th>\n      <td>285267</td>\n      <td>402778</td>\n      <td>1138587</td>\n      <td>7333</td>\n      <td></td>\n      <td>Environment Protection and Biodiversity Conser...</td>\n      <td>VU</td>\n      <td>https://www.environment.gov.au/cgi-bin/sprat/p...</td>\n      <td></td>\n      <td>open</td>\n      <td>...</td>\n      <td>Ileostylus</td>\n      <td>micranthus</td>\n      <td>NaN</td>\n      <td>2023-06-16T06:48:05Z</td>\n      <td>Ileostylus micranthus</td>\n      <td>species</td>\n      <td>NaN</td>\n      <td>NaN</td>\n      <td>NaN</td>\n      <td>NaN</td>\n    </tr>\n    <tr>\n      <th>10068</th>\n      <td>159365</td>\n      <td>40179</td>\n      <td>425992</td>\n      <td>144315</td>\n      <td></td>\n      <td>Brisbane City Council</td>\n      <td>Significant</td>\n      <td>https://www.brisbane.qld.gov.au/sites/default/...</td>\n      <td></td>\n      <td>open</td>\n      <td>...</td>\n      <td>Phascogale</td>\n      <td>tapoatafa</td>\n      <td>NaN</td>\n      <td>2023-06-06T12:22:39Z</td>\n      <td>Phascogale tapoatafa</td>\n      <td>species</td>\n      <td>http://www.catalogueoflife.org/annual-checklis...</td>\n      <td>NaN</td>\n      <td>NaN</td>\n      <td>NaN</td>\n    </tr>\n    <tr>\n      <th>10069</th>\n      <td>290896</td>\n      <td>552264</td>\n      <td>702203</td>\n      <td></td>\n      <td></td>\n      <td>Autralian Government EPBC Act</td>\n      <td>EN</td>\n      <td>https://www.environment.gov.au/cgi-bin/sprat/p...</td>\n      <td>Endangered</td>\n      <td>open</td>\n      <td>...</td>\n      <td>Carinascincus</td>\n      <td>orocryptus</td>\n      <td>NaN</td>\n      <td>2018-11-18T00:17:16Z</td>\n      <td>Carinascincus orocryptus</td>\n      <td>species</td>\n      <td>NaN</td>\n      <td>NaN</td>\n      <td>NaN</td>\n      <td>NaN</td>\n    </tr>\n    <tr>\n      <th>10070</th>\n      <td>294806</td>\n      <td>1574874</td>\n      <td>2366151</td>\n      <td>7616</td>\n      <td></td>\n      <td>Environmental Protection and Biodiversity Cons...</td>\n      <td>Endangered</td>\n      <td>http://www.environment.gov.au/cgi-bin/sprat/pu...</td>\n      <td></td>\n      <td>obscured</td>\n      <td>...</td>\n      <td>Turdus</td>\n      <td>erythropleurus</td>\n      <td>NaN</td>\n      <td>2024-12-16T19:18:57Z</td>\n      <td>Turdus erythropleurus</td>\n      <td>species</td>\n      <td>NaN</td>\n      <td>NaN</td>\n      <td>NaN</td>\n      <td>NaN</td>\n    </tr>\n    <tr>\n      <th>10071</th>\n      <td>276276</td>\n      <td>1431865</td>\n      <td>708886</td>\n      <td></td>\n      <td></td>\n      <td>WA Deparment of Biodiversity, Conservation and...</td>\n      <td>Extinct</td>\n      <td>https://bie.ala.org.au/species/https://biodive...</td>\n      <td></td>\n      <td>obscured</td>\n      <td>...</td>\n      <td>Chaeropus</td>\n      <td>yirratji</td>\n      <td>NaN</td>\n      <td>2022-12-06T23:41:35Z</td>\n      <td>Chaeropus yirratji</td>\n      <td>species</td>\n      <td>NaN</td>\n      <td>NaN</td>\n      <td>NaN</td>\n      <td>NaN</td>\n    </tr>\n  </tbody>\n</table>\n<p>10072 rows × 34 columns</p>\n</div>"
     },
     "execution_count": 19,
     "metadata": {},
     "output_type": "execute_result"
    }
   ],
   "source": [
    "# now merge back with the original australian statuses and save locally\n",
    "taxastatus = pd.merge(dfaus,alltaxa,how=\"left\", on=\"taxon_id\")\n",
    "#taxastatus\n",
    "#taxastatus.drop(['id_y'])\n",
    "taxastatus = taxastatus.rename(columns={'id_x':'id'})\n",
    "taxastatus"
   ],
   "metadata": {
    "collapsed": false,
    "pycharm": {
     "name": "#%%\n"
    },
    "ExecuteTime": {
     "end_time": "2025-01-08T02:34:58.738004Z",
     "start_time": "2025-01-08T02:34:58.686350Z"
    }
   }
  },
  {
   "cell_type": "code",
   "execution_count": 20,
   "outputs": [],
   "source": [
    "taxastatus.to_csv(dataindir + \"inat-aust-status-taxa.csv\", index=False)"
   ],
   "metadata": {
    "collapsed": false,
    "pycharm": {
     "name": "#%%\n"
    },
    "ExecuteTime": {
     "end_time": "2025-01-08T02:35:05.038095Z",
     "start_time": "2025-01-08T02:35:04.943149Z"
    }
   }
  },
  {
   "cell_type": "code",
   "execution_count": 21,
   "outputs": [
    {
     "data": {
      "text/plain": "taxonRank\ncomplex          2\nform             1\ngenus            2\nhybrid          21\nspecies       8814\nsubspecies     808\nvariety        142\nName: taxonRank, dtype: int64"
     },
     "execution_count": 21,
     "metadata": {},
     "output_type": "execute_result"
    }
   ],
   "source": [
    "taxastatus.groupby(['taxonRank'])['taxonRank'].count()"
   ],
   "metadata": {
    "collapsed": false,
    "pycharm": {
     "name": "#%%\n"
    },
    "ExecuteTime": {
     "end_time": "2025-01-08T02:35:08.042757Z",
     "start_time": "2025-01-08T02:35:08.039164Z"
    }
   }
  },
  {
   "cell_type": "markdown",
   "source": [
    "## Notes about conservation status inheritance in inaturalist:\n",
    "Adding a conservation status for a higher level taxon affects observations of all the species in this taxon. Please do not add statuses for taxa that contain species that have no status because that will incorrectly obscure coordinates for observations of those species.\n",
    "\n",
    "### Example:\n",
    "Genus Acriopsis - https://www.inaturalist.org/taxa/425476-Acriopsis\n",
    "\n",
    "The inherited species records are not in the export and can't be edited, but they do appear on the species pages.\n",
    "The changes are to set _Acriopsis emarginata_ to Vulnerable. The rest will remain least concern."
   ],
   "metadata": {
    "collapsed": false
   }
  },
  {
   "cell_type": "code",
   "execution_count": 22,
   "outputs": [
    {
     "data": {
      "text/plain": "   TaxonID                  Name       Status     Rank iNat species page  \\\n1   425476             Acriopsis  LC/obscured    genus               No    \n2  1141144  Acriopsis emarginata  LC/obscured  species               Yes   \n3   425475  Acriopsis liliifolia  LC/obscured  species               Yes   \n4   427833     Acriopsis ridleyi  LC/obscured  species               Yes   \n5  1037999      Acriopsis indica  LC/obscured  Species               Yes   \n\n  iNat edit taxon Export  \n1             Yes    Yes  \n2              No     No  \n3              No     No  \n4              No     No  \n5              No     No  ",
      "text/html": "<div>\n<style scoped>\n    .dataframe tbody tr th:only-of-type {\n        vertical-align: middle;\n    }\n\n    .dataframe tbody tr th {\n        vertical-align: top;\n    }\n\n    .dataframe thead th {\n        text-align: right;\n    }\n</style>\n<table border=\"1\" class=\"dataframe\">\n  <thead>\n    <tr style=\"text-align: right;\">\n      <th></th>\n      <th>TaxonID</th>\n      <th>Name</th>\n      <th>Status</th>\n      <th>Rank</th>\n      <th>iNat species page</th>\n      <th>iNat edit taxon</th>\n      <th>Export</th>\n    </tr>\n  </thead>\n  <tbody>\n    <tr>\n      <th>1</th>\n      <td>425476</td>\n      <td>Acriopsis</td>\n      <td>LC/obscured</td>\n      <td>genus</td>\n      <td>No</td>\n      <td>Yes</td>\n      <td>Yes</td>\n    </tr>\n    <tr>\n      <th>2</th>\n      <td>1141144</td>\n      <td>Acriopsis emarginata</td>\n      <td>LC/obscured</td>\n      <td>species</td>\n      <td>Yes</td>\n      <td>No</td>\n      <td>No</td>\n    </tr>\n    <tr>\n      <th>3</th>\n      <td>425475</td>\n      <td>Acriopsis liliifolia</td>\n      <td>LC/obscured</td>\n      <td>species</td>\n      <td>Yes</td>\n      <td>No</td>\n      <td>No</td>\n    </tr>\n    <tr>\n      <th>4</th>\n      <td>427833</td>\n      <td>Acriopsis ridleyi</td>\n      <td>LC/obscured</td>\n      <td>species</td>\n      <td>Yes</td>\n      <td>No</td>\n      <td>No</td>\n    </tr>\n    <tr>\n      <th>5</th>\n      <td>1037999</td>\n      <td>Acriopsis indica</td>\n      <td>LC/obscured</td>\n      <td>Species</td>\n      <td>Yes</td>\n      <td>No</td>\n      <td>No</td>\n    </tr>\n  </tbody>\n</table>\n</div>"
     },
     "execution_count": 22,
     "metadata": {},
     "output_type": "execute_result"
    }
   ],
   "source": [
    "eg = pd.DataFrame(columns=('TaxonID', 'Name', 'Status','Rank','iNat species page','iNat edit taxon','Export'))\n",
    "eg.loc[1]=['425476','Acriopsis','LC/obscured','genus','No ','Yes','Yes']\n",
    "eg.loc[2]=['1141144','Acriopsis emarginata','LC/obscured','species','Yes','No','No']\n",
    "eg.loc[3]=['425475','Acriopsis liliifolia','LC/obscured','species','Yes','No','No']\n",
    "eg.loc[4]=['427833','Acriopsis ridleyi','LC/obscured','species','Yes','No','No']\n",
    "eg.loc[5]=['1037999','Acriopsis indica','LC/obscured','Species','Yes','No','No']\n",
    "eg"
   ],
   "metadata": {
    "collapsed": false,
    "pycharm": {
     "name": "#%%\n"
    },
    "ExecuteTime": {
     "end_time": "2025-01-08T02:35:37.723567Z",
     "start_time": "2025-01-08T02:35:37.716711Z"
    }
   }
  }
 ],
 "metadata": {
  "kernelspec": {
   "display_name": "Python 3",
   "language": "python",
   "name": "python3"
  },
  "language_info": {
   "codemirror_mode": {
    "name": "ipython",
    "version": 2
   },
   "file_extension": ".py",
   "mimetype": "text/x-python",
   "name": "python",
   "nbconvert_exporter": "python",
   "pygments_lexer": "ipython2",
   "version": "2.7.6"
  }
 },
 "nbformat": 4,
 "nbformat_minor": 0
}
