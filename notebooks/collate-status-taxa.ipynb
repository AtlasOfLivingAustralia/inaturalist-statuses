{
 "cells": [
  {
   "cell_type": "markdown",
   "metadata": {
    "collapsed": true,
    "pycharm": {
     "name": "#%% md\n"
    }
   },
   "source": [
    "# Collate iNaturalist taxon status data\n",
    "\n",
    "Taxa in iNaturalist have conservation statuses that the ALA is responsible for maintaining. The process for bulk loads is to submit the data to iNaturalist in December/January using these [templates and checklists](https://docs.google.com/spreadsheets/d/1yTwWh4d-lHeaBGCB9m70-HKEMtvrquHsPu3Zrgz9BcE/edit#gid=1531097917)\n",
    "\n",
    "Current statuses per iNaturalist taxonID are available in the iNaturalist site export, accessible via an iNaturalist AU site admin and in this repository (inaturalist-australia-9-conservation_statuses.xls)\n",
    "\n",
    "**Steps covered in this notebook:**\n",
    "1. Extract all the current statuses in Australian jurisdictions in the export (eg.AU or Australia place, .gov.au in the URL or user 708886)\n",
    "2. Resolve the taxon name for each using the iNaturalist Taxon DwCA at https://www.inaturalist.org/taxa/inaturalist-taxonomy.dwca.zip (~350MB) or the iNat taxon API (if the taxon is inactive in iNaturalist)\n",
    "\n",
    "File output: `inat-aust-status-taxa.csv` containing Australian conservation statuses,\n",
    "\n",
    "**Next steps:**\n",
    "State by state establish the changes that need to be made:\n",
    "    a. new - any new species that appear in the state lists but do not have a status in inaturalist (ADD)\n",
    "    b. updates - any changes to statuses (update template, action='UPDATE')\n",
    "    c. removals - any statuses which were added by us previously (user_id = 708886) list which are incorrect (update template, action='REMOVE')\n",
    "    d. flags - are there any statuses by other users that need to be flagged?"
   ]
  },
  {
   "cell_type": "code",
   "execution_count": 1,
   "outputs": [],
   "source": [
    "# setup\n",
    "import pandas as pd\n",
    "# projectdir = \"/Users/oco115/PycharmProjects/authoritative-lists/\" # basedir for this gh project\n",
    "projectdir = \"/Users/new330/IdeaProjects/authoritative-lists/\" # basedir for this gh project\n",
    "sourcedir = projectdir + \"source-data/inaturalist-statuses/\"\n",
    "listdir = projectdir + \"current-lists/inaturalist-statuses\""
   ],
   "metadata": {
    "collapsed": false,
    "pycharm": {
     "name": "#%%\n"
    }
   }
  },
  {
   "cell_type": "markdown",
   "source": [
    "## Read in the iNaturalist Conservation Statuses export\n",
    "Find the Australian statuses by querying:\n",
    "* place names and display place names containing `AU`, `Australia` etc\n",
    "* urls containing the string `.gov.au`\n",
    "* records with a user id 708886 (Peggy who submitted the last round of statuses)"
   ],
   "metadata": {
    "collapsed": false
   }
  },
  {
   "cell_type": "code",
   "execution_count": 2,
   "outputs": [
    {
     "data": {
      "text/plain": "            id taxon_id  user_id place_id source_id  \\\n0       210936    78570                               \n1       228106   219800   119123     6883             \n2       224080   239472    51061       50             \n3       228110   219828   119123     6834             \n4       223126   155851              6815             \n...        ...      ...      ...      ...       ...   \n253484  268980  1430390                               \n253485  268981  1430381                               \n253486  268982  1425294  1368063     7190             \n253487  268983   926017       28                      \n253488  268984   926018   702203                      \n\n                                                authority      status  \\\n0                                           IUCN Red List          LC   \n1                                             NatureServe          S2   \n2                                             NatureServe        S2S3   \n3                                             NatureServe        S2S4   \n4                                              Tatzpiteva          VU   \n...                                                   ...         ...   \n253484                                      IUCN Red List          LC   \n253485                                      IUCN Red List          LC   \n253486  Ministerio de Ambiente y Desarrollo Sustentabl...          IC   \n253487               San Diego Society of Natural History  Threatened   \n253488                                        Mark Dodero          NE   \n\n                                                      url  \\\n0       https://www.iucnredlist.org/species/109716665/...   \n1                       https://explorer.natureserve.org/   \n2       https://explorer.natureserve.org/Taxon/ELEMENT...   \n3                       https://explorer.natureserve.org/   \n4                               http://tatzpiteva.org.il/   \n...                                                   ...   \n253484  https://www.iucnredlist.org/species/22725894/1...   \n253485  https://www.iucnredlist.org/species/22725888/1...   \n253486  https://avesargentinas.org.ar/sites/default/fi...   \n253487  https://sdplantatlas.org/pdffiles/BajaChecklis...   \n253488  https://www.inaturalist.org/flags/565874#activ...   \n\n                                              description geoprivacy iucn  \\\n0                                                                      10   \n1                                                                      40   \n2                                                                       0   \n3                                                                      30   \n4                                                           obscured   30   \n...                                                   ...        ...  ...   \n253484                                                          open   10   \n253485                                                          open   10   \n253486                         Insuficientemente conocido       open    5   \n253487  Plants rare, threatened, or endangered in Cali...   obscured   30   \n253488                                                      obscured    0   \n\n                        created_at                  updated_at place_name  \\\n0       2021-09-28 11:12:51.830044  2021-12-21 04:53:02.568719              \n1       2021-12-16 19:59:11.692913   2021-12-21 13:14:46.38026    Ontario   \n2        2021-11-24 18:14:30.91353   2021-11-24 18:14:30.91353     Nevada   \n3       2021-12-16 19:59:12.175319  2021-12-21 13:18:11.648863    Alberta   \n4       2021-10-03 01:25:45.177631  2021-10-03 01:25:45.177631     Israel   \n...                            ...                         ...        ...   \n253484  2022-12-02 18:17:39.897104  2022-12-02 18:17:39.897104              \n253485  2022-12-02 18:18:40.547528  2022-12-02 18:18:40.547528              \n253486  2022-12-02 18:47:31.444653  2022-12-02 18:47:31.444653  Argentina   \n253487  2022-12-02 21:33:56.076056  2022-12-02 21:33:56.076056              \n253488  2022-12-03 02:55:38.940015  2022-12-03 02:55:38.940015              \n\n       place_display_name  \n0                          \n1             Ontario, CA  \n2              Nevada, US  \n3             Alberta, CA  \n4                  Israel  \n...                   ...  \n253484                     \n253485                     \n253486          Argentina  \n253487                     \n253488                     \n\n[253489 rows x 15 columns]",
      "text/html": "<div>\n<style scoped>\n    .dataframe tbody tr th:only-of-type {\n        vertical-align: middle;\n    }\n\n    .dataframe tbody tr th {\n        vertical-align: top;\n    }\n\n    .dataframe thead th {\n        text-align: right;\n    }\n</style>\n<table border=\"1\" class=\"dataframe\">\n  <thead>\n    <tr style=\"text-align: right;\">\n      <th></th>\n      <th>id</th>\n      <th>taxon_id</th>\n      <th>user_id</th>\n      <th>place_id</th>\n      <th>source_id</th>\n      <th>authority</th>\n      <th>status</th>\n      <th>url</th>\n      <th>description</th>\n      <th>geoprivacy</th>\n      <th>iucn</th>\n      <th>created_at</th>\n      <th>updated_at</th>\n      <th>place_name</th>\n      <th>place_display_name</th>\n    </tr>\n  </thead>\n  <tbody>\n    <tr>\n      <th>0</th>\n      <td>210936</td>\n      <td>78570</td>\n      <td></td>\n      <td></td>\n      <td></td>\n      <td>IUCN Red List</td>\n      <td>LC</td>\n      <td>https://www.iucnredlist.org/species/109716665/...</td>\n      <td></td>\n      <td></td>\n      <td>10</td>\n      <td>2021-09-28 11:12:51.830044</td>\n      <td>2021-12-21 04:53:02.568719</td>\n      <td></td>\n      <td></td>\n    </tr>\n    <tr>\n      <th>1</th>\n      <td>228106</td>\n      <td>219800</td>\n      <td>119123</td>\n      <td>6883</td>\n      <td></td>\n      <td>NatureServe</td>\n      <td>S2</td>\n      <td>https://explorer.natureserve.org/</td>\n      <td></td>\n      <td></td>\n      <td>40</td>\n      <td>2021-12-16 19:59:11.692913</td>\n      <td>2021-12-21 13:14:46.38026</td>\n      <td>Ontario</td>\n      <td>Ontario, CA</td>\n    </tr>\n    <tr>\n      <th>2</th>\n      <td>224080</td>\n      <td>239472</td>\n      <td>51061</td>\n      <td>50</td>\n      <td></td>\n      <td>NatureServe</td>\n      <td>S2S3</td>\n      <td>https://explorer.natureserve.org/Taxon/ELEMENT...</td>\n      <td></td>\n      <td></td>\n      <td>0</td>\n      <td>2021-11-24 18:14:30.91353</td>\n      <td>2021-11-24 18:14:30.91353</td>\n      <td>Nevada</td>\n      <td>Nevada, US</td>\n    </tr>\n    <tr>\n      <th>3</th>\n      <td>228110</td>\n      <td>219828</td>\n      <td>119123</td>\n      <td>6834</td>\n      <td></td>\n      <td>NatureServe</td>\n      <td>S2S4</td>\n      <td>https://explorer.natureserve.org/</td>\n      <td></td>\n      <td></td>\n      <td>30</td>\n      <td>2021-12-16 19:59:12.175319</td>\n      <td>2021-12-21 13:18:11.648863</td>\n      <td>Alberta</td>\n      <td>Alberta, CA</td>\n    </tr>\n    <tr>\n      <th>4</th>\n      <td>223126</td>\n      <td>155851</td>\n      <td></td>\n      <td>6815</td>\n      <td></td>\n      <td>Tatzpiteva</td>\n      <td>VU</td>\n      <td>http://tatzpiteva.org.il/</td>\n      <td></td>\n      <td>obscured</td>\n      <td>30</td>\n      <td>2021-10-03 01:25:45.177631</td>\n      <td>2021-10-03 01:25:45.177631</td>\n      <td>Israel</td>\n      <td>Israel</td>\n    </tr>\n    <tr>\n      <th>...</th>\n      <td>...</td>\n      <td>...</td>\n      <td>...</td>\n      <td>...</td>\n      <td>...</td>\n      <td>...</td>\n      <td>...</td>\n      <td>...</td>\n      <td>...</td>\n      <td>...</td>\n      <td>...</td>\n      <td>...</td>\n      <td>...</td>\n      <td>...</td>\n      <td>...</td>\n    </tr>\n    <tr>\n      <th>253484</th>\n      <td>268980</td>\n      <td>1430390</td>\n      <td></td>\n      <td></td>\n      <td></td>\n      <td>IUCN Red List</td>\n      <td>LC</td>\n      <td>https://www.iucnredlist.org/species/22725894/1...</td>\n      <td></td>\n      <td>open</td>\n      <td>10</td>\n      <td>2022-12-02 18:17:39.897104</td>\n      <td>2022-12-02 18:17:39.897104</td>\n      <td></td>\n      <td></td>\n    </tr>\n    <tr>\n      <th>253485</th>\n      <td>268981</td>\n      <td>1430381</td>\n      <td></td>\n      <td></td>\n      <td></td>\n      <td>IUCN Red List</td>\n      <td>LC</td>\n      <td>https://www.iucnredlist.org/species/22725888/1...</td>\n      <td></td>\n      <td>open</td>\n      <td>10</td>\n      <td>2022-12-02 18:18:40.547528</td>\n      <td>2022-12-02 18:18:40.547528</td>\n      <td></td>\n      <td></td>\n    </tr>\n    <tr>\n      <th>253486</th>\n      <td>268982</td>\n      <td>1425294</td>\n      <td>1368063</td>\n      <td>7190</td>\n      <td></td>\n      <td>Ministerio de Ambiente y Desarrollo Sustentabl...</td>\n      <td>IC</td>\n      <td>https://avesargentinas.org.ar/sites/default/fi...</td>\n      <td>Insuficientemente conocido</td>\n      <td>open</td>\n      <td>5</td>\n      <td>2022-12-02 18:47:31.444653</td>\n      <td>2022-12-02 18:47:31.444653</td>\n      <td>Argentina</td>\n      <td>Argentina</td>\n    </tr>\n    <tr>\n      <th>253487</th>\n      <td>268983</td>\n      <td>926017</td>\n      <td>28</td>\n      <td></td>\n      <td></td>\n      <td>San Diego Society of Natural History</td>\n      <td>Threatened</td>\n      <td>https://sdplantatlas.org/pdffiles/BajaChecklis...</td>\n      <td>Plants rare, threatened, or endangered in Cali...</td>\n      <td>obscured</td>\n      <td>30</td>\n      <td>2022-12-02 21:33:56.076056</td>\n      <td>2022-12-02 21:33:56.076056</td>\n      <td></td>\n      <td></td>\n    </tr>\n    <tr>\n      <th>253488</th>\n      <td>268984</td>\n      <td>926018</td>\n      <td>702203</td>\n      <td></td>\n      <td></td>\n      <td>Mark Dodero</td>\n      <td>NE</td>\n      <td>https://www.inaturalist.org/flags/565874#activ...</td>\n      <td></td>\n      <td>obscured</td>\n      <td>0</td>\n      <td>2022-12-03 02:55:38.940015</td>\n      <td>2022-12-03 02:55:38.940015</td>\n      <td></td>\n      <td></td>\n    </tr>\n  </tbody>\n</table>\n<p>253489 rows × 15 columns</p>\n</div>"
     },
     "execution_count": 2,
     "metadata": {},
     "output_type": "execute_result"
    }
   ],
   "source": [
    "df = pd.read_csv(sourcedir + \"inaturalist-australia-9-conservation_statuses.csv\", encoding='UTF-8', na_filter=False, dtype=str)\n",
    "df"
   ],
   "metadata": {
    "collapsed": false,
    "pycharm": {
     "name": "#%%\n"
    }
   }
  },
  {
   "cell_type": "code",
   "execution_count": 4,
   "outputs": [
    {
     "data": {
      "text/plain": "778                               Australia\n84785     Australia Exclusive Economic Zone\n2716       Australian Capital Territory, AU\n129631                Cairns - Pt B, QL, AU\n173650         Great Barrier Island, AU, NZ\n136230         Lower Eyre Peninsula, SA, AU\n457                     New South Wales, AU\n352                  Northern Territory, AU\n381                          Queensland, AU\n175360                  Rottnest Island, AU\n3751                    South Australia, AU\n174509       South Australia, marine waters\n247882        South East Queensland, QL, AU\n4878                           Tasmania, AU\n248                            Victoria, AU\n982                   Western Australia, AU\n129741                     Yarrabah, QL, AU\nName: place_display_name, dtype: object"
     },
     "execution_count": 4,
     "metadata": {},
     "output_type": "execute_result"
    }
   ],
   "source": [
    "# list of unique Aust place display names\n",
    "placedisplaydf = df['place_display_name'].drop_duplicates().sort_values()\n",
    "placedisplaydf = placedisplaydf[pd.Series(placedisplaydf).str.contains(\"AU|Australia|AUSTRALIA\")]\n",
    "placedisplaydf"
   ],
   "metadata": {
    "collapsed": false,
    "pycharm": {
     "name": "#%%\n"
    }
   }
  },
  {
   "cell_type": "code",
   "execution_count": 5,
   "outputs": [
    {
     "data": {
      "text/plain": "778                               Australia\n84785     Australia Exclusive Economic Zone\n2716           Australian Capital Territory\n3751                        South Australia\n174509       South Australia, marine waters\n982                       Western Australia\nName: place_name, dtype: object"
     },
     "execution_count": 5,
     "metadata": {},
     "output_type": "execute_result"
    }
   ],
   "source": [
    "# list of unique Aust place names\n",
    "placedf = df['place_name'].drop_duplicates().sort_values()\n",
    "placedf = placedf[pd.Series(placedf).str.contains(\"AU|Australia|AUSTRALIA\")]\n",
    "placedf"
   ],
   "metadata": {
    "collapsed": false,
    "pycharm": {
     "name": "#%%\n"
    }
   }
  },
  {
   "cell_type": "code",
   "execution_count": 6,
   "outputs": [
    {
     "data": {
      "text/plain": "205924     https://apps.des.qld.gov.au/species-search/de...\n248380     https://www.environment.gov.au/epbc/about/epb...\n5803      http://environment.gov.au/cgi-bin/sprat/public...\n213823    http://environment.gov.au/cgi-bin/sprat/public...\n2431      http://www.environment.gov.au/biodiversity/thr...\n                                ...                        \n173380    https://www.qld.gov.au/environment/plants-anim...\n247223    https://www.threatenedspecieslink.tas.gov.au/P...\n175392    https://www.threatenedspecieslink.tas.gov.au/P...\n5905      https://www.threatenedspecieslink.tas.gov.au/P...\n140039    https://www.threatenedspecieslink.tas.gov.au/P...\nName: url, Length: 672, dtype: object"
     },
     "execution_count": 6,
     "metadata": {},
     "output_type": "execute_result"
    }
   ],
   "source": [
    "# list of unique Aust Govt urls\n",
    "urldf = df['url'].drop_duplicates().sort_values()\n",
    "urldf = urldf[pd.Series(urldf).str.contains(\".gov.au\")]\n",
    "urldf"
   ],
   "metadata": {
    "collapsed": false,
    "pycharm": {
     "name": "#%%\n"
    }
   }
  },
  {
   "cell_type": "code",
   "execution_count": 7,
   "outputs": [
    {
     "data": {
      "text/plain": "            id taxon_id  user_id place_id source_id  \\\n106342  268186   100080  1138587     6744             \n100874  268138   100118  1138587     6744             \n104815  268168   100127  1138587     6744             \n96905   223098  1003032  3669610     7308             \n232091  223099  1003032  3669610     6744             \n...        ...      ...      ...      ...       ...   \n244087  153828    99970   708886     7830     16656   \n5576    264607    99971  3249428     7830             \n238419  153613    99973   708886     6827     16654   \n238550  153742    99974   708886     6827     16654   \n238402  153597    99977   708886     6827     16654   \n\n                                                authority  \\\n106342                                                      \n100874                                                      \n104815                                                      \n96905             Queensland Nature Conservation Act 1992   \n232091  Environment Protection and Biodiversity Conser...   \n...                                                   ...   \n244087        Victoria Flora and Fauna Guarantee Act 1988   \n5576          Victoria Flora and Fauna Guarantee Act 1988   \n238419     WA Department of Environment and Convservation   \n238550     WA Department of Environment and Convservation   \n238402     WA Department of Environment and Convservation   \n\n                       status  \\\n106342             Not listed   \n100874             Not listed   \n104815             Not listed   \n96905                      CE   \n232091                     CE   \n...                       ...   \n244087  Critically Endangered   \n5576               Endangered   \n238419  critically endangered   \n238550             endangered   \n238402             endangered   \n\n                                                      url description  \\\n106342                                                                  \n100874                                                                  \n104815                                                                  \n96905   https://apps.des.qld.gov.au/species-search/det...               \n232091  https://www.environment.gov.au/cgi-bin/sprat/p...               \n...                                                   ...         ...   \n244087  https://www.environment.vic.gov.au/conserving-...               \n5576    https://www.environment.vic.gov.au/conserving-...               \n238419  https://lists.ala.org.au/speciesListItem/list/...               \n238550  https://lists.ala.org.au/speciesListItem/list/...               \n238402  https://lists.ala.org.au/speciesListItem/list/...               \n\n       geoprivacy iucn                  created_at  \\\n106342       open   10  2022-10-25 05:20:17.532504   \n100874       open   10  2022-10-25 03:32:38.344862   \n104815       open   10  2022-10-25 03:58:15.923985   \n96905    obscured   50  2021-10-01 10:37:36.857571   \n232091   obscured   50  2021-10-01 10:37:36.919705   \n...           ...  ...                         ...   \n244087   obscured   50  2019-07-23 00:13:02.234163   \n5576     obscured   40  2022-06-06 17:00:58.905798   \n238419   obscured   50   2019-07-23 00:12:11.19598   \n238550   obscured   40  2019-07-23 00:12:41.014669   \n238402   obscured   40  2019-07-23 00:12:07.820529   \n\n                        updated_at         place_name     place_display_name  \n106342  2022-10-25 05:20:17.532504          Australia              Australia  \n100874  2022-10-25 03:32:38.344862          Australia              Australia  \n104815  2022-10-25 03:58:15.923985          Australia              Australia  \n96905   2022-02-09 09:34:29.493507         Queensland         Queensland, AU  \n232091  2022-07-11 09:27:11.063411          Australia              Australia  \n...                            ...                ...                    ...  \n244087   2022-06-10 15:22:49.67085           Victoria           Victoria, AU  \n5576    2022-06-06 17:04:18.766421           Victoria           Victoria, AU  \n238419   2019-07-23 00:12:11.19598  Western Australia  Western Australia, AU  \n238550  2019-07-23 00:12:41.014669  Western Australia  Western Australia, AU  \n238402  2019-07-23 00:12:07.820529  Western Australia  Western Australia, AU  \n\n[3453 rows x 15 columns]",
      "text/html": "<div>\n<style scoped>\n    .dataframe tbody tr th:only-of-type {\n        vertical-align: middle;\n    }\n\n    .dataframe tbody tr th {\n        vertical-align: top;\n    }\n\n    .dataframe thead th {\n        text-align: right;\n    }\n</style>\n<table border=\"1\" class=\"dataframe\">\n  <thead>\n    <tr style=\"text-align: right;\">\n      <th></th>\n      <th>id</th>\n      <th>taxon_id</th>\n      <th>user_id</th>\n      <th>place_id</th>\n      <th>source_id</th>\n      <th>authority</th>\n      <th>status</th>\n      <th>url</th>\n      <th>description</th>\n      <th>geoprivacy</th>\n      <th>iucn</th>\n      <th>created_at</th>\n      <th>updated_at</th>\n      <th>place_name</th>\n      <th>place_display_name</th>\n    </tr>\n  </thead>\n  <tbody>\n    <tr>\n      <th>106342</th>\n      <td>268186</td>\n      <td>100080</td>\n      <td>1138587</td>\n      <td>6744</td>\n      <td></td>\n      <td></td>\n      <td>Not listed</td>\n      <td></td>\n      <td></td>\n      <td>open</td>\n      <td>10</td>\n      <td>2022-10-25 05:20:17.532504</td>\n      <td>2022-10-25 05:20:17.532504</td>\n      <td>Australia</td>\n      <td>Australia</td>\n    </tr>\n    <tr>\n      <th>100874</th>\n      <td>268138</td>\n      <td>100118</td>\n      <td>1138587</td>\n      <td>6744</td>\n      <td></td>\n      <td></td>\n      <td>Not listed</td>\n      <td></td>\n      <td></td>\n      <td>open</td>\n      <td>10</td>\n      <td>2022-10-25 03:32:38.344862</td>\n      <td>2022-10-25 03:32:38.344862</td>\n      <td>Australia</td>\n      <td>Australia</td>\n    </tr>\n    <tr>\n      <th>104815</th>\n      <td>268168</td>\n      <td>100127</td>\n      <td>1138587</td>\n      <td>6744</td>\n      <td></td>\n      <td></td>\n      <td>Not listed</td>\n      <td></td>\n      <td></td>\n      <td>open</td>\n      <td>10</td>\n      <td>2022-10-25 03:58:15.923985</td>\n      <td>2022-10-25 03:58:15.923985</td>\n      <td>Australia</td>\n      <td>Australia</td>\n    </tr>\n    <tr>\n      <th>96905</th>\n      <td>223098</td>\n      <td>1003032</td>\n      <td>3669610</td>\n      <td>7308</td>\n      <td></td>\n      <td>Queensland Nature Conservation Act 1992</td>\n      <td>CE</td>\n      <td>https://apps.des.qld.gov.au/species-search/det...</td>\n      <td></td>\n      <td>obscured</td>\n      <td>50</td>\n      <td>2021-10-01 10:37:36.857571</td>\n      <td>2022-02-09 09:34:29.493507</td>\n      <td>Queensland</td>\n      <td>Queensland, AU</td>\n    </tr>\n    <tr>\n      <th>232091</th>\n      <td>223099</td>\n      <td>1003032</td>\n      <td>3669610</td>\n      <td>6744</td>\n      <td></td>\n      <td>Environment Protection and Biodiversity Conser...</td>\n      <td>CE</td>\n      <td>https://www.environment.gov.au/cgi-bin/sprat/p...</td>\n      <td></td>\n      <td>obscured</td>\n      <td>50</td>\n      <td>2021-10-01 10:37:36.919705</td>\n      <td>2022-07-11 09:27:11.063411</td>\n      <td>Australia</td>\n      <td>Australia</td>\n    </tr>\n    <tr>\n      <th>...</th>\n      <td>...</td>\n      <td>...</td>\n      <td>...</td>\n      <td>...</td>\n      <td>...</td>\n      <td>...</td>\n      <td>...</td>\n      <td>...</td>\n      <td>...</td>\n      <td>...</td>\n      <td>...</td>\n      <td>...</td>\n      <td>...</td>\n      <td>...</td>\n      <td>...</td>\n    </tr>\n    <tr>\n      <th>244087</th>\n      <td>153828</td>\n      <td>99970</td>\n      <td>708886</td>\n      <td>7830</td>\n      <td>16656</td>\n      <td>Victoria Flora and Fauna Guarantee Act 1988</td>\n      <td>Critically Endangered</td>\n      <td>https://www.environment.vic.gov.au/conserving-...</td>\n      <td></td>\n      <td>obscured</td>\n      <td>50</td>\n      <td>2019-07-23 00:13:02.234163</td>\n      <td>2022-06-10 15:22:49.67085</td>\n      <td>Victoria</td>\n      <td>Victoria, AU</td>\n    </tr>\n    <tr>\n      <th>5576</th>\n      <td>264607</td>\n      <td>99971</td>\n      <td>3249428</td>\n      <td>7830</td>\n      <td></td>\n      <td>Victoria Flora and Fauna Guarantee Act 1988</td>\n      <td>Endangered</td>\n      <td>https://www.environment.vic.gov.au/conserving-...</td>\n      <td></td>\n      <td>obscured</td>\n      <td>40</td>\n      <td>2022-06-06 17:00:58.905798</td>\n      <td>2022-06-06 17:04:18.766421</td>\n      <td>Victoria</td>\n      <td>Victoria, AU</td>\n    </tr>\n    <tr>\n      <th>238419</th>\n      <td>153613</td>\n      <td>99973</td>\n      <td>708886</td>\n      <td>6827</td>\n      <td>16654</td>\n      <td>WA Department of Environment and Convservation</td>\n      <td>critically endangered</td>\n      <td>https://lists.ala.org.au/speciesListItem/list/...</td>\n      <td></td>\n      <td>obscured</td>\n      <td>50</td>\n      <td>2019-07-23 00:12:11.19598</td>\n      <td>2019-07-23 00:12:11.19598</td>\n      <td>Western Australia</td>\n      <td>Western Australia, AU</td>\n    </tr>\n    <tr>\n      <th>238550</th>\n      <td>153742</td>\n      <td>99974</td>\n      <td>708886</td>\n      <td>6827</td>\n      <td>16654</td>\n      <td>WA Department of Environment and Convservation</td>\n      <td>endangered</td>\n      <td>https://lists.ala.org.au/speciesListItem/list/...</td>\n      <td></td>\n      <td>obscured</td>\n      <td>40</td>\n      <td>2019-07-23 00:12:41.014669</td>\n      <td>2019-07-23 00:12:41.014669</td>\n      <td>Western Australia</td>\n      <td>Western Australia, AU</td>\n    </tr>\n    <tr>\n      <th>238402</th>\n      <td>153597</td>\n      <td>99977</td>\n      <td>708886</td>\n      <td>6827</td>\n      <td>16654</td>\n      <td>WA Department of Environment and Convservation</td>\n      <td>endangered</td>\n      <td>https://lists.ala.org.au/speciesListItem/list/...</td>\n      <td></td>\n      <td>obscured</td>\n      <td>40</td>\n      <td>2019-07-23 00:12:07.820529</td>\n      <td>2019-07-23 00:12:07.820529</td>\n      <td>Western Australia</td>\n      <td>Western Australia, AU</td>\n    </tr>\n  </tbody>\n</table>\n<p>3453 rows × 15 columns</p>\n</div>"
     },
     "execution_count": 7,
     "metadata": {},
     "output_type": "execute_result"
    }
   ],
   "source": [
    "# filter out all of these concat all, along with any records created by us (user id=708886) and remove duplicates\n",
    "dfaus = pd.concat([df.apply(lambda row: row[df['place_display_name'].isin(placedisplaydf)]),\n",
    "                   df.apply(lambda row: row[df['place_name'].isin(placedf)]),\n",
    "                   df.apply(lambda row: row[df['url'].isin(urldf)]),\n",
    "                   df.apply(lambda row: row[df['user_id'] == '708886'])]).drop_duplicates()\n",
    "dfaus.sort_values(['taxon_id','user_id'])"
   ],
   "metadata": {
    "collapsed": false,
    "pycharm": {
     "name": "#%%\n"
    }
   }
  },
  {
   "cell_type": "markdown",
   "source": [
    "## Retrieve taxon info from iNaturalist\n",
    "The above file contains only the taxon identifier. Retrieve the full taxon name and classifications."
   ],
   "metadata": {
    "collapsed": false
   }
  },
  {
   "cell_type": "code",
   "execution_count": 8,
   "outputs": [
    {
     "name": "stdout",
     "output_type": "stream",
     "text": [
      "skipping # comment this line to download dataset from the web and save locally - add inaturalist-taxonomy.dwca.zip to .gitignore\n"
     ]
    }
   ],
   "source": [
    "%%script echo skipping # comment this line to download dataset from the web and save locally - add inaturalist-taxonomy.dwca.zip to .gitignore\n",
    "\n",
    "# save the file to the source data directory\n",
    "import requests\n",
    "\n",
    "url = \"https://www.inaturalist.org/taxa/inaturalist-taxonomy.dwca.zip\"\n",
    "filename = url.split(\"/\")[-1]\n",
    "\n",
    "r = requests.get(url)\n",
    "with open(sourcedir + filename, 'wb') as f:\n",
    "    f.write(r.content)\n",
    "# reminder: add inaturalist-taxonomy.dwca.zip to .gitignore"
   ],
   "metadata": {
    "collapsed": false,
    "pycharm": {
     "name": "#%%\n"
    }
   }
  },
  {
   "cell_type": "code",
   "execution_count": 9,
   "outputs": [
    {
     "data": {
      "text/plain": "   id                              taxonID  \\\n0   1   https://www.inaturalist.org/taxa/1   \n1   2   https://www.inaturalist.org/taxa/2   \n2   3   https://www.inaturalist.org/taxa/3   \n3   4   https://www.inaturalist.org/taxa/4   \n4   5   https://www.inaturalist.org/taxa/5   \n5   6   https://www.inaturalist.org/taxa/6   \n6   7   https://www.inaturalist.org/taxa/7   \n7  12  https://www.inaturalist.org/taxa/12   \n8  13  https://www.inaturalist.org/taxa/13   \n9  14  https://www.inaturalist.org/taxa/14   \n\n                            identifier  \\\n0   https://www.inaturalist.org/taxa/1   \n1   https://www.inaturalist.org/taxa/2   \n2   https://www.inaturalist.org/taxa/3   \n3   https://www.inaturalist.org/taxa/4   \n4   https://www.inaturalist.org/taxa/5   \n5   https://www.inaturalist.org/taxa/6   \n6   https://www.inaturalist.org/taxa/7   \n7  https://www.inaturalist.org/taxa/12   \n8  https://www.inaturalist.org/taxa/13   \n9  https://www.inaturalist.org/taxa/14   \n\n                         parentNameUsageID   kingdom    phylum class  \\\n0   https://www.inaturalist.org/taxa/48460  Animalia       NaN   NaN   \n1       https://www.inaturalist.org/taxa/1  Animalia  Chordata   NaN   \n2  https://www.inaturalist.org/taxa/355675  Animalia  Chordata  Aves   \n3       https://www.inaturalist.org/taxa/3  Animalia  Chordata  Aves   \n4       https://www.inaturalist.org/taxa/4  Animalia  Chordata  Aves   \n5       https://www.inaturalist.org/taxa/5  Animalia  Chordata  Aves   \n6       https://www.inaturalist.org/taxa/6  Animalia  Chordata  Aves   \n7   https://www.inaturalist.org/taxa/71262  Animalia  Chordata  Aves   \n8      https://www.inaturalist.org/taxa/12  Animalia  Chordata  Aves   \n9      https://www.inaturalist.org/taxa/13  Animalia  Chordata  Aves   \n\n           order      family    genus specificEpithet infraspecificEpithet  \\\n0            NaN         NaN      NaN             NaN                  NaN   \n1            NaN         NaN      NaN             NaN                  NaN   \n2            NaN         NaN      NaN             NaN                  NaN   \n3     Gruiformes         NaN      NaN             NaN                  NaN   \n4     Gruiformes    Aramidae      NaN             NaN                  NaN   \n5     Gruiformes    Aramidae   Aramus             NaN                  NaN   \n6     Gruiformes    Aramidae   Aramus        guarauna                  NaN   \n7  Cariamiformes  Cariamidae      NaN             NaN                  NaN   \n8  Cariamiformes  Cariamidae  Cariama             NaN                  NaN   \n9  Cariamiformes  Cariamidae  Cariama        cristata                  NaN   \n\n               modified    scientificName taxonRank  \\\n0  2021-11-02T06:05:44Z          Animalia   kingdom   \n1  2021-11-23T00:40:18Z          Chordata    phylum   \n2  2022-12-27T07:33:16Z              Aves     class   \n3  2019-10-19T15:14:18Z        Gruiformes     order   \n4  2022-03-24T16:38:28Z          Aramidae    family   \n5  2020-02-11T06:43:19Z            Aramus     genus   \n6  2022-03-30T18:35:55Z   Aramus guarauna   species   \n7  2022-03-24T16:37:54Z        Cariamidae    family   \n8  2018-12-19T08:58:24Z           Cariama     genus   \n9  2021-07-06T02:04:43Z  Cariama cristata   species   \n\n                                          references  \n0  http://www.catalogueoflife.org/annual-checklis...  \n1  http://www.catalogueoflife.org/annual-checklis...  \n2  http://www.catalogueoflife.org/annual-checklis...  \n3  http://www.catalogueoflife.org/annual-checklis...  \n4  http://www.birdlife.org/datazone/speciessearch...  \n5  http://www.birdlife.org/datazone/speciessearch...  \n6  http://www.birdlife.org/datazone/speciesfactsh...  \n7  http://www.birdlife.org/datazone/speciessearch...  \n8  http://www.birdlife.org/datazone/speciessearch...  \n9  http://www.birdlife.org/datazone/speciesfactsh...  ",
      "text/html": "<div>\n<style scoped>\n    .dataframe tbody tr th:only-of-type {\n        vertical-align: middle;\n    }\n\n    .dataframe tbody tr th {\n        vertical-align: top;\n    }\n\n    .dataframe thead th {\n        text-align: right;\n    }\n</style>\n<table border=\"1\" class=\"dataframe\">\n  <thead>\n    <tr style=\"text-align: right;\">\n      <th></th>\n      <th>id</th>\n      <th>taxonID</th>\n      <th>identifier</th>\n      <th>parentNameUsageID</th>\n      <th>kingdom</th>\n      <th>phylum</th>\n      <th>class</th>\n      <th>order</th>\n      <th>family</th>\n      <th>genus</th>\n      <th>specificEpithet</th>\n      <th>infraspecificEpithet</th>\n      <th>modified</th>\n      <th>scientificName</th>\n      <th>taxonRank</th>\n      <th>references</th>\n    </tr>\n  </thead>\n  <tbody>\n    <tr>\n      <th>0</th>\n      <td>1</td>\n      <td>https://www.inaturalist.org/taxa/1</td>\n      <td>https://www.inaturalist.org/taxa/1</td>\n      <td>https://www.inaturalist.org/taxa/48460</td>\n      <td>Animalia</td>\n      <td>NaN</td>\n      <td>NaN</td>\n      <td>NaN</td>\n      <td>NaN</td>\n      <td>NaN</td>\n      <td>NaN</td>\n      <td>NaN</td>\n      <td>2021-11-02T06:05:44Z</td>\n      <td>Animalia</td>\n      <td>kingdom</td>\n      <td>http://www.catalogueoflife.org/annual-checklis...</td>\n    </tr>\n    <tr>\n      <th>1</th>\n      <td>2</td>\n      <td>https://www.inaturalist.org/taxa/2</td>\n      <td>https://www.inaturalist.org/taxa/2</td>\n      <td>https://www.inaturalist.org/taxa/1</td>\n      <td>Animalia</td>\n      <td>Chordata</td>\n      <td>NaN</td>\n      <td>NaN</td>\n      <td>NaN</td>\n      <td>NaN</td>\n      <td>NaN</td>\n      <td>NaN</td>\n      <td>2021-11-23T00:40:18Z</td>\n      <td>Chordata</td>\n      <td>phylum</td>\n      <td>http://www.catalogueoflife.org/annual-checklis...</td>\n    </tr>\n    <tr>\n      <th>2</th>\n      <td>3</td>\n      <td>https://www.inaturalist.org/taxa/3</td>\n      <td>https://www.inaturalist.org/taxa/3</td>\n      <td>https://www.inaturalist.org/taxa/355675</td>\n      <td>Animalia</td>\n      <td>Chordata</td>\n      <td>Aves</td>\n      <td>NaN</td>\n      <td>NaN</td>\n      <td>NaN</td>\n      <td>NaN</td>\n      <td>NaN</td>\n      <td>2022-12-27T07:33:16Z</td>\n      <td>Aves</td>\n      <td>class</td>\n      <td>http://www.catalogueoflife.org/annual-checklis...</td>\n    </tr>\n    <tr>\n      <th>3</th>\n      <td>4</td>\n      <td>https://www.inaturalist.org/taxa/4</td>\n      <td>https://www.inaturalist.org/taxa/4</td>\n      <td>https://www.inaturalist.org/taxa/3</td>\n      <td>Animalia</td>\n      <td>Chordata</td>\n      <td>Aves</td>\n      <td>Gruiformes</td>\n      <td>NaN</td>\n      <td>NaN</td>\n      <td>NaN</td>\n      <td>NaN</td>\n      <td>2019-10-19T15:14:18Z</td>\n      <td>Gruiformes</td>\n      <td>order</td>\n      <td>http://www.catalogueoflife.org/annual-checklis...</td>\n    </tr>\n    <tr>\n      <th>4</th>\n      <td>5</td>\n      <td>https://www.inaturalist.org/taxa/5</td>\n      <td>https://www.inaturalist.org/taxa/5</td>\n      <td>https://www.inaturalist.org/taxa/4</td>\n      <td>Animalia</td>\n      <td>Chordata</td>\n      <td>Aves</td>\n      <td>Gruiformes</td>\n      <td>Aramidae</td>\n      <td>NaN</td>\n      <td>NaN</td>\n      <td>NaN</td>\n      <td>2022-03-24T16:38:28Z</td>\n      <td>Aramidae</td>\n      <td>family</td>\n      <td>http://www.birdlife.org/datazone/speciessearch...</td>\n    </tr>\n    <tr>\n      <th>5</th>\n      <td>6</td>\n      <td>https://www.inaturalist.org/taxa/6</td>\n      <td>https://www.inaturalist.org/taxa/6</td>\n      <td>https://www.inaturalist.org/taxa/5</td>\n      <td>Animalia</td>\n      <td>Chordata</td>\n      <td>Aves</td>\n      <td>Gruiformes</td>\n      <td>Aramidae</td>\n      <td>Aramus</td>\n      <td>NaN</td>\n      <td>NaN</td>\n      <td>2020-02-11T06:43:19Z</td>\n      <td>Aramus</td>\n      <td>genus</td>\n      <td>http://www.birdlife.org/datazone/speciessearch...</td>\n    </tr>\n    <tr>\n      <th>6</th>\n      <td>7</td>\n      <td>https://www.inaturalist.org/taxa/7</td>\n      <td>https://www.inaturalist.org/taxa/7</td>\n      <td>https://www.inaturalist.org/taxa/6</td>\n      <td>Animalia</td>\n      <td>Chordata</td>\n      <td>Aves</td>\n      <td>Gruiformes</td>\n      <td>Aramidae</td>\n      <td>Aramus</td>\n      <td>guarauna</td>\n      <td>NaN</td>\n      <td>2022-03-30T18:35:55Z</td>\n      <td>Aramus guarauna</td>\n      <td>species</td>\n      <td>http://www.birdlife.org/datazone/speciesfactsh...</td>\n    </tr>\n    <tr>\n      <th>7</th>\n      <td>12</td>\n      <td>https://www.inaturalist.org/taxa/12</td>\n      <td>https://www.inaturalist.org/taxa/12</td>\n      <td>https://www.inaturalist.org/taxa/71262</td>\n      <td>Animalia</td>\n      <td>Chordata</td>\n      <td>Aves</td>\n      <td>Cariamiformes</td>\n      <td>Cariamidae</td>\n      <td>NaN</td>\n      <td>NaN</td>\n      <td>NaN</td>\n      <td>2022-03-24T16:37:54Z</td>\n      <td>Cariamidae</td>\n      <td>family</td>\n      <td>http://www.birdlife.org/datazone/speciessearch...</td>\n    </tr>\n    <tr>\n      <th>8</th>\n      <td>13</td>\n      <td>https://www.inaturalist.org/taxa/13</td>\n      <td>https://www.inaturalist.org/taxa/13</td>\n      <td>https://www.inaturalist.org/taxa/12</td>\n      <td>Animalia</td>\n      <td>Chordata</td>\n      <td>Aves</td>\n      <td>Cariamiformes</td>\n      <td>Cariamidae</td>\n      <td>Cariama</td>\n      <td>NaN</td>\n      <td>NaN</td>\n      <td>2018-12-19T08:58:24Z</td>\n      <td>Cariama</td>\n      <td>genus</td>\n      <td>http://www.birdlife.org/datazone/speciessearch...</td>\n    </tr>\n    <tr>\n      <th>9</th>\n      <td>14</td>\n      <td>https://www.inaturalist.org/taxa/14</td>\n      <td>https://www.inaturalist.org/taxa/14</td>\n      <td>https://www.inaturalist.org/taxa/13</td>\n      <td>Animalia</td>\n      <td>Chordata</td>\n      <td>Aves</td>\n      <td>Cariamiformes</td>\n      <td>Cariamidae</td>\n      <td>Cariama</td>\n      <td>cristata</td>\n      <td>NaN</td>\n      <td>2021-07-06T02:04:43Z</td>\n      <td>Cariama cristata</td>\n      <td>species</td>\n      <td>http://www.birdlife.org/datazone/speciesfactsh...</td>\n    </tr>\n  </tbody>\n</table>\n</div>"
     },
     "execution_count": 9,
     "metadata": {},
     "output_type": "execute_result"
    }
   ],
   "source": [
    "# open the file in the source data directory and read the taxa.csv file\n",
    "import zipfile\n",
    "url = \"https://www.inaturalist.org/taxa/inaturalist-taxonomy.dwca.zip\"\n",
    "filename = url.split(\"/\")[-1]\n",
    "\n",
    "z=zipfile.ZipFile(sourcedir + filename)\n",
    "\n",
    "with z.open('taxa.csv') as from_archive:\n",
    "    inattaxa = pd.read_csv(from_archive)\n",
    "z.close()\n",
    "\n",
    "inattaxa.head(10)"
   ],
   "metadata": {
    "collapsed": false,
    "pycharm": {
     "name": "#%%\n"
    }
   }
  },
  {
   "cell_type": "code",
   "execution_count": 12,
   "outputs": [
    {
     "data": {
      "text/plain": "1216979"
     },
     "execution_count": 12,
     "metadata": {},
     "output_type": "execute_result"
    }
   ],
   "source": [
    "len(inattaxa) # it's quite big"
   ],
   "metadata": {
    "collapsed": false,
    "pycharm": {
     "name": "#%%\n"
    }
   }
  },
  {
   "cell_type": "code",
   "execution_count": 13,
   "outputs": [
    {
     "data": {
      "text/plain": "     taxon_id       id                                   taxonID  \\\n477    100080   100080   https://www.inaturalist.org/taxa/100080   \n437    100118   100118   https://www.inaturalist.org/taxa/100118   \n462    100127   100127   https://www.inaturalist.org/taxa/100127   \n431   1003032  1003032  https://www.inaturalist.org/taxa/1003032   \n102   1004434  1004434  https://www.inaturalist.org/taxa/1004434   \n...       ...      ...                                       ...   \n2333  1091300      NaN                                       NaN   \n2335   538090      NaN                                       NaN   \n2503  1038965      NaN                                       NaN   \n2617   733329      NaN                                       NaN   \n3040    50744      NaN                                       NaN   \n\n                                    identifier  \\\n477    https://www.inaturalist.org/taxa/100080   \n437    https://www.inaturalist.org/taxa/100118   \n462    https://www.inaturalist.org/taxa/100127   \n431   https://www.inaturalist.org/taxa/1003032   \n102   https://www.inaturalist.org/taxa/1004434   \n...                                        ...   \n2333                                       NaN   \n2335                                       NaN   \n2503                                       NaN   \n2617                                       NaN   \n3040                                       NaN   \n\n                            parentNameUsageID   kingdom        phylum  \\\n477    https://www.inaturalist.org/taxa/49497  Animalia      Chordata   \n437    https://www.inaturalist.org/taxa/49497  Animalia      Chordata   \n462    https://www.inaturalist.org/taxa/49497  Animalia      Chordata   \n431   https://www.inaturalist.org/taxa/142613   Plantae  Tracheophyta   \n102   https://www.inaturalist.org/taxa/140567   Plantae  Tracheophyta   \n...                                       ...       ...           ...   \n2333                                      NaN       NaN           NaN   \n2335                                      NaN       NaN           NaN   \n2503                                      NaN       NaN           NaN   \n2617                                      NaN       NaN           NaN   \n3040                                      NaN       NaN           NaN   \n\n               class         order         family        genus  \\\n477   Actinopterygii   Perciformes  Epinephelidae  Epinephelus   \n437   Actinopterygii   Perciformes  Epinephelidae  Epinephelus   \n462   Actinopterygii   Perciformes  Epinephelidae  Epinephelus   \n431   Polypodiopsida  Polypodiales    Pteridaceae   Antrophyum   \n102       Liliopsida   Asparagales    Orchidaceae     Oberonia   \n...              ...           ...            ...          ...   \n2333             NaN           NaN            NaN          NaN   \n2335             NaN           NaN            NaN          NaN   \n2503             NaN           NaN            NaN          NaN   \n2617             NaN           NaN            NaN          NaN   \n3040             NaN           NaN            NaN          NaN   \n\n           specificEpithet infraspecificEpithet              modified  \\\n477               bleekeri                  NaN  2019-11-24T03:20:37Z   \n437            malabaricus                  NaN  2019-11-23T03:14:55Z   \n462          polyphekadion                  NaN  2019-02-06T23:51:50Z   \n431   austroqueenslandicum                  NaN  2021-10-01T10:37:36Z   \n102          crateriformis                  NaN  2021-07-18T09:05:24Z   \n...                    ...                  ...                   ...   \n2333                   NaN                  NaN                   NaN   \n2335                   NaN                  NaN                   NaN   \n2503                   NaN                  NaN                   NaN   \n2617                   NaN                  NaN                   NaN   \n3040                   NaN                  NaN                   NaN   \n\n                       scientificName taxonRank  \\\n477              Epinephelus bleekeri   species   \n437           Epinephelus malabaricus   species   \n462         Epinephelus polyphekadion   species   \n431   Antrophyum austroqueenslandicum   species   \n102            Oberonia crateriformis   species   \n...                               ...       ...   \n2333                              NaN       NaN   \n2335                              NaN       NaN   \n2503                              NaN       NaN   \n2617                              NaN       NaN   \n3040                              NaN       NaN   \n\n                                             references  \n477                             http://www.fishbase.org  \n437                             http://www.fishbase.org  \n462                             http://www.fishbase.org  \n431                                                 NaN  \n102   http://www.catalogueoflife.org/annual-checklis...  \n...                                                 ...  \n2333                                                NaN  \n2335                                                NaN  \n2503                                                NaN  \n2617                                                NaN  \n3040                                                NaN  \n\n[3043 rows x 17 columns]",
      "text/html": "<div>\n<style scoped>\n    .dataframe tbody tr th:only-of-type {\n        vertical-align: middle;\n    }\n\n    .dataframe tbody tr th {\n        vertical-align: top;\n    }\n\n    .dataframe thead th {\n        text-align: right;\n    }\n</style>\n<table border=\"1\" class=\"dataframe\">\n  <thead>\n    <tr style=\"text-align: right;\">\n      <th></th>\n      <th>taxon_id</th>\n      <th>id</th>\n      <th>taxonID</th>\n      <th>identifier</th>\n      <th>parentNameUsageID</th>\n      <th>kingdom</th>\n      <th>phylum</th>\n      <th>class</th>\n      <th>order</th>\n      <th>family</th>\n      <th>genus</th>\n      <th>specificEpithet</th>\n      <th>infraspecificEpithet</th>\n      <th>modified</th>\n      <th>scientificName</th>\n      <th>taxonRank</th>\n      <th>references</th>\n    </tr>\n  </thead>\n  <tbody>\n    <tr>\n      <th>477</th>\n      <td>100080</td>\n      <td>100080</td>\n      <td>https://www.inaturalist.org/taxa/100080</td>\n      <td>https://www.inaturalist.org/taxa/100080</td>\n      <td>https://www.inaturalist.org/taxa/49497</td>\n      <td>Animalia</td>\n      <td>Chordata</td>\n      <td>Actinopterygii</td>\n      <td>Perciformes</td>\n      <td>Epinephelidae</td>\n      <td>Epinephelus</td>\n      <td>bleekeri</td>\n      <td>NaN</td>\n      <td>2019-11-24T03:20:37Z</td>\n      <td>Epinephelus bleekeri</td>\n      <td>species</td>\n      <td>http://www.fishbase.org</td>\n    </tr>\n    <tr>\n      <th>437</th>\n      <td>100118</td>\n      <td>100118</td>\n      <td>https://www.inaturalist.org/taxa/100118</td>\n      <td>https://www.inaturalist.org/taxa/100118</td>\n      <td>https://www.inaturalist.org/taxa/49497</td>\n      <td>Animalia</td>\n      <td>Chordata</td>\n      <td>Actinopterygii</td>\n      <td>Perciformes</td>\n      <td>Epinephelidae</td>\n      <td>Epinephelus</td>\n      <td>malabaricus</td>\n      <td>NaN</td>\n      <td>2019-11-23T03:14:55Z</td>\n      <td>Epinephelus malabaricus</td>\n      <td>species</td>\n      <td>http://www.fishbase.org</td>\n    </tr>\n    <tr>\n      <th>462</th>\n      <td>100127</td>\n      <td>100127</td>\n      <td>https://www.inaturalist.org/taxa/100127</td>\n      <td>https://www.inaturalist.org/taxa/100127</td>\n      <td>https://www.inaturalist.org/taxa/49497</td>\n      <td>Animalia</td>\n      <td>Chordata</td>\n      <td>Actinopterygii</td>\n      <td>Perciformes</td>\n      <td>Epinephelidae</td>\n      <td>Epinephelus</td>\n      <td>polyphekadion</td>\n      <td>NaN</td>\n      <td>2019-02-06T23:51:50Z</td>\n      <td>Epinephelus polyphekadion</td>\n      <td>species</td>\n      <td>http://www.fishbase.org</td>\n    </tr>\n    <tr>\n      <th>431</th>\n      <td>1003032</td>\n      <td>1003032</td>\n      <td>https://www.inaturalist.org/taxa/1003032</td>\n      <td>https://www.inaturalist.org/taxa/1003032</td>\n      <td>https://www.inaturalist.org/taxa/142613</td>\n      <td>Plantae</td>\n      <td>Tracheophyta</td>\n      <td>Polypodiopsida</td>\n      <td>Polypodiales</td>\n      <td>Pteridaceae</td>\n      <td>Antrophyum</td>\n      <td>austroqueenslandicum</td>\n      <td>NaN</td>\n      <td>2021-10-01T10:37:36Z</td>\n      <td>Antrophyum austroqueenslandicum</td>\n      <td>species</td>\n      <td>NaN</td>\n    </tr>\n    <tr>\n      <th>102</th>\n      <td>1004434</td>\n      <td>1004434</td>\n      <td>https://www.inaturalist.org/taxa/1004434</td>\n      <td>https://www.inaturalist.org/taxa/1004434</td>\n      <td>https://www.inaturalist.org/taxa/140567</td>\n      <td>Plantae</td>\n      <td>Tracheophyta</td>\n      <td>Liliopsida</td>\n      <td>Asparagales</td>\n      <td>Orchidaceae</td>\n      <td>Oberonia</td>\n      <td>crateriformis</td>\n      <td>NaN</td>\n      <td>2021-07-18T09:05:24Z</td>\n      <td>Oberonia crateriformis</td>\n      <td>species</td>\n      <td>http://www.catalogueoflife.org/annual-checklis...</td>\n    </tr>\n    <tr>\n      <th>...</th>\n      <td>...</td>\n      <td>...</td>\n      <td>...</td>\n      <td>...</td>\n      <td>...</td>\n      <td>...</td>\n      <td>...</td>\n      <td>...</td>\n      <td>...</td>\n      <td>...</td>\n      <td>...</td>\n      <td>...</td>\n      <td>...</td>\n      <td>...</td>\n      <td>...</td>\n      <td>...</td>\n      <td>...</td>\n    </tr>\n    <tr>\n      <th>2333</th>\n      <td>1091300</td>\n      <td>NaN</td>\n      <td>NaN</td>\n      <td>NaN</td>\n      <td>NaN</td>\n      <td>NaN</td>\n      <td>NaN</td>\n      <td>NaN</td>\n      <td>NaN</td>\n      <td>NaN</td>\n      <td>NaN</td>\n      <td>NaN</td>\n      <td>NaN</td>\n      <td>NaN</td>\n      <td>NaN</td>\n      <td>NaN</td>\n      <td>NaN</td>\n    </tr>\n    <tr>\n      <th>2335</th>\n      <td>538090</td>\n      <td>NaN</td>\n      <td>NaN</td>\n      <td>NaN</td>\n      <td>NaN</td>\n      <td>NaN</td>\n      <td>NaN</td>\n      <td>NaN</td>\n      <td>NaN</td>\n      <td>NaN</td>\n      <td>NaN</td>\n      <td>NaN</td>\n      <td>NaN</td>\n      <td>NaN</td>\n      <td>NaN</td>\n      <td>NaN</td>\n      <td>NaN</td>\n    </tr>\n    <tr>\n      <th>2503</th>\n      <td>1038965</td>\n      <td>NaN</td>\n      <td>NaN</td>\n      <td>NaN</td>\n      <td>NaN</td>\n      <td>NaN</td>\n      <td>NaN</td>\n      <td>NaN</td>\n      <td>NaN</td>\n      <td>NaN</td>\n      <td>NaN</td>\n      <td>NaN</td>\n      <td>NaN</td>\n      <td>NaN</td>\n      <td>NaN</td>\n      <td>NaN</td>\n      <td>NaN</td>\n    </tr>\n    <tr>\n      <th>2617</th>\n      <td>733329</td>\n      <td>NaN</td>\n      <td>NaN</td>\n      <td>NaN</td>\n      <td>NaN</td>\n      <td>NaN</td>\n      <td>NaN</td>\n      <td>NaN</td>\n      <td>NaN</td>\n      <td>NaN</td>\n      <td>NaN</td>\n      <td>NaN</td>\n      <td>NaN</td>\n      <td>NaN</td>\n      <td>NaN</td>\n      <td>NaN</td>\n      <td>NaN</td>\n    </tr>\n    <tr>\n      <th>3040</th>\n      <td>50744</td>\n      <td>NaN</td>\n      <td>NaN</td>\n      <td>NaN</td>\n      <td>NaN</td>\n      <td>NaN</td>\n      <td>NaN</td>\n      <td>NaN</td>\n      <td>NaN</td>\n      <td>NaN</td>\n      <td>NaN</td>\n      <td>NaN</td>\n      <td>NaN</td>\n      <td>NaN</td>\n      <td>NaN</td>\n      <td>NaN</td>\n      <td>NaN</td>\n    </tr>\n  </tbody>\n</table>\n<p>3043 rows × 17 columns</p>\n</div>"
     },
     "execution_count": 13,
     "metadata": {},
     "output_type": "execute_result"
    }
   ],
   "source": [
    "# left join to filter just the taxon that have statuses that we're interested in\n",
    "austtaxaids = dfaus['taxon_id'].drop_duplicates()\n",
    "inattaxa['id'] = inattaxa['id'].astype(str)\n",
    "inataustaxa = pd.merge(austtaxaids, inattaxa, how=\"left\", left_on='taxon_id', right_on='id')\n",
    "inataustaxa.sort_values('id')"
   ],
   "metadata": {
    "collapsed": false,
    "pycharm": {
     "name": "#%%\n"
    }
   }
  },
  {
   "cell_type": "markdown",
   "source": [
    "## Retrieve inactive taxa names from API"
   ],
   "metadata": {
    "collapsed": false
   }
  },
  {
   "cell_type": "code",
   "execution_count": 14,
   "outputs": [
    {
     "data": {
      "text/plain": "11      1262199\n113     1264437\n132     1264442\n187      952472\n293     1202976\n         ...   \n2333    1091300\n2335     538090\n2503    1038965\n2617     733329\n3040      50744\nName: taxon_id, Length: 81, dtype: object"
     },
     "execution_count": 14,
     "metadata": {},
     "output_type": "execute_result"
    }
   ],
   "source": [
    "# looking at those that didn't match in the left join - Inactive or problem taxon - need to go to the API to get the detail\n",
    "unmatchedtaxonids = inataustaxa[inataustaxa['id'].isna()]['taxon_id']\n",
    "unmatchedtaxonids"
   ],
   "metadata": {
    "collapsed": false,
    "pycharm": {
     "name": "#%%\n"
    }
   }
  },
  {
   "cell_type": "code",
   "execution_count": 15,
   "outputs": [
    {
     "name": "stdout",
     "output_type": "stream",
     "text": [
      "skipping # comment this line to download dataset from the web and save locally - add inaturalist-taxonomy.dwca.zip to .gitignore\n"
     ]
    }
   ],
   "source": [
    "%%script echo skipping # comment this line to download dataset from the web and save locally - add inaturalist-taxonomy.dwca.zip to .gitignore\n",
    "\n",
    "# to go the API to retrieve taxon names\n",
    "import requests\n",
    "import json\n",
    "from time import sleep\n",
    "\n",
    "apiurlbase = \"https://api.inaturalist.org/v1/taxa/\"\n",
    "taxonlist = []\n",
    "i = 1\n",
    "for unmatchedid in unmatchedtaxonids:\n",
    "    print(str(i) + \" \" + unmatchedid)\n",
    "    apiurl = apiurlbase + str(unmatchedid)\n",
    "    response = requests.request(\"GET\", apiurl)\n",
    "    payload = json.loads(response.text)\n",
    "    if (payload['total_results'] == 1):\n",
    "        r = payload['results'][0]\n",
    "        try:\n",
    "            common_name = r['preferred_common_name']\n",
    "        except KeyError:\n",
    "            common_name = \"\"\n",
    "        taxonlist.append({'taxon_id': unmatchedid,\n",
    "                      'name':r['name'],\n",
    "                      'preferred_common_name':common_name,\n",
    "                      'is_active':r['is_active'],\n",
    "                      'observation_count':r['observations_count'],'current_synonymous_taxon_ids':r['current_synonymous_taxon_ids']})\n",
    "    else:\n",
    "        print(\"Warning: taxon_id \" + unmatchedid + \"returns more than one result from inaturalist\")\n",
    "    sleep(1)\n",
    "    i+=1\n",
    "\n",
    "pd.DataFrame(taxonlist).to_csv(sourcedir + \"inat-aust-inactive-taxon.csv\",index = False)"
   ],
   "metadata": {
    "collapsed": false,
    "pycharm": {
     "name": "#%%\n"
    }
   }
  },
  {
   "cell_type": "code",
   "execution_count": 16,
   "outputs": [
    {
     "data": {
      "text/plain": "   taxon_id                             name   preferred_common_name  \\\n0   1262199                  Caleana dixonii   Sandplain Duck Orchid   \n1   1264437              Arctophoca forsteri    New Zealand Fur Seal   \n2   1264442            Arctophoca tropicalis   Subantarctic Fur Seal   \n3    952472               Blechnum deltoides                     NaN   \n4   1202976           Petauroides armillatus  Central Greater Glider   \n..      ...                              ...                     ...   \n76  1091300        Plectranthus habrophyllus                     NaN   \n77   538090       Pararistolochia praevenosa                     NaN   \n78  1038965  Boronia anemonifolia variabilis                     NaN   \n79   733329               Leucopogon woodsii       Broom Beard-heath   \n80    50744                  Stiphodon allen         Opal Cling-Goby   \n\n   is_active observation_count current_synonymous_taxon_ids  \n0      False                 0                           []  \n1      False                 0                      [41752]  \n2      False                 0                      [41753]  \n3      False                 0                    [1348449]  \n4      False                 0                      [42783]  \n..       ...               ...                          ...  \n76     False                 0                    [1278873]  \n77     False                 0                     [866782]  \n78     False                 0                    [1426173]  \n79     False                 0                    [1399666]  \n80     False                 0                           []  \n\n[81 rows x 6 columns]",
      "text/html": "<div>\n<style scoped>\n    .dataframe tbody tr th:only-of-type {\n        vertical-align: middle;\n    }\n\n    .dataframe tbody tr th {\n        vertical-align: top;\n    }\n\n    .dataframe thead th {\n        text-align: right;\n    }\n</style>\n<table border=\"1\" class=\"dataframe\">\n  <thead>\n    <tr style=\"text-align: right;\">\n      <th></th>\n      <th>taxon_id</th>\n      <th>name</th>\n      <th>preferred_common_name</th>\n      <th>is_active</th>\n      <th>observation_count</th>\n      <th>current_synonymous_taxon_ids</th>\n    </tr>\n  </thead>\n  <tbody>\n    <tr>\n      <th>0</th>\n      <td>1262199</td>\n      <td>Caleana dixonii</td>\n      <td>Sandplain Duck Orchid</td>\n      <td>False</td>\n      <td>0</td>\n      <td>[]</td>\n    </tr>\n    <tr>\n      <th>1</th>\n      <td>1264437</td>\n      <td>Arctophoca forsteri</td>\n      <td>New Zealand Fur Seal</td>\n      <td>False</td>\n      <td>0</td>\n      <td>[41752]</td>\n    </tr>\n    <tr>\n      <th>2</th>\n      <td>1264442</td>\n      <td>Arctophoca tropicalis</td>\n      <td>Subantarctic Fur Seal</td>\n      <td>False</td>\n      <td>0</td>\n      <td>[41753]</td>\n    </tr>\n    <tr>\n      <th>3</th>\n      <td>952472</td>\n      <td>Blechnum deltoides</td>\n      <td>NaN</td>\n      <td>False</td>\n      <td>0</td>\n      <td>[1348449]</td>\n    </tr>\n    <tr>\n      <th>4</th>\n      <td>1202976</td>\n      <td>Petauroides armillatus</td>\n      <td>Central Greater Glider</td>\n      <td>False</td>\n      <td>0</td>\n      <td>[42783]</td>\n    </tr>\n    <tr>\n      <th>...</th>\n      <td>...</td>\n      <td>...</td>\n      <td>...</td>\n      <td>...</td>\n      <td>...</td>\n      <td>...</td>\n    </tr>\n    <tr>\n      <th>76</th>\n      <td>1091300</td>\n      <td>Plectranthus habrophyllus</td>\n      <td>NaN</td>\n      <td>False</td>\n      <td>0</td>\n      <td>[1278873]</td>\n    </tr>\n    <tr>\n      <th>77</th>\n      <td>538090</td>\n      <td>Pararistolochia praevenosa</td>\n      <td>NaN</td>\n      <td>False</td>\n      <td>0</td>\n      <td>[866782]</td>\n    </tr>\n    <tr>\n      <th>78</th>\n      <td>1038965</td>\n      <td>Boronia anemonifolia variabilis</td>\n      <td>NaN</td>\n      <td>False</td>\n      <td>0</td>\n      <td>[1426173]</td>\n    </tr>\n    <tr>\n      <th>79</th>\n      <td>733329</td>\n      <td>Leucopogon woodsii</td>\n      <td>Broom Beard-heath</td>\n      <td>False</td>\n      <td>0</td>\n      <td>[1399666]</td>\n    </tr>\n    <tr>\n      <th>80</th>\n      <td>50744</td>\n      <td>Stiphodon allen</td>\n      <td>Opal Cling-Goby</td>\n      <td>False</td>\n      <td>0</td>\n      <td>[]</td>\n    </tr>\n  </tbody>\n</table>\n<p>81 rows × 6 columns</p>\n</div>"
     },
     "execution_count": 16,
     "metadata": {},
     "output_type": "execute_result"
    }
   ],
   "source": [
    "inactivetaxa = pd.read_csv(sourcedir+\"inat-aust-inactive-taxon.csv\", dtype=str)\n",
    "inactivetaxa"
   ],
   "metadata": {
    "collapsed": false,
    "pycharm": {
     "name": "#%%\n"
    }
   }
  },
  {
   "cell_type": "markdown",
   "source": [
    "The taxa above are typically marked as inactive, which means they have no observations in iNaturalist. Collate them into the taxa list, and merge the name into the scientificName field for later use.\n"
   ],
   "metadata": {
    "collapsed": false
   }
  },
  {
   "cell_type": "code",
   "execution_count": 17,
   "outputs": [
    {
     "data": {
      "text/plain": "     taxon_id       id                                   taxonID  \\\n0       38493    38493    https://www.inaturalist.org/taxa/38493   \n1      918383   918383   https://www.inaturalist.org/taxa/918383   \n2     1033183  1033183  https://www.inaturalist.org/taxa/1033183   \n3     1247288  1247288  https://www.inaturalist.org/taxa/1247288   \n4     1255510  1255510  https://www.inaturalist.org/taxa/1255510   \n...       ...      ...                                       ...   \n3038  1363122  1363122  https://www.inaturalist.org/taxa/1363122   \n3039  1182117  1182117  https://www.inaturalist.org/taxa/1182117   \n3040    50744      NaN                                       NaN   \n3041   924263   924263   https://www.inaturalist.org/taxa/924263   \n3042   779693   779693   https://www.inaturalist.org/taxa/779693   \n\n                                    identifier  \\\n0       https://www.inaturalist.org/taxa/38493   \n1      https://www.inaturalist.org/taxa/918383   \n2     https://www.inaturalist.org/taxa/1033183   \n3     https://www.inaturalist.org/taxa/1247288   \n4     https://www.inaturalist.org/taxa/1255510   \n...                                        ...   \n3038  https://www.inaturalist.org/taxa/1363122   \n3039  https://www.inaturalist.org/taxa/1182117   \n3040                                       NaN   \n3041   https://www.inaturalist.org/taxa/924263   \n3042   https://www.inaturalist.org/taxa/779693   \n\n                             parentNameUsageID   kingdom        phylum  \\\n0       https://www.inaturalist.org/taxa/38479  Animalia      Chordata   \n1      https://www.inaturalist.org/taxa/430819   Plantae  Tracheophyta   \n2      https://www.inaturalist.org/taxa/624221   Plantae  Tracheophyta   \n3      https://www.inaturalist.org/taxa/184926   Plantae  Tracheophyta   \n4      https://www.inaturalist.org/taxa/321172   Plantae  Tracheophyta   \n...                                        ...       ...           ...   \n3038  https://www.inaturalist.org/taxa/1069166   Plantae  Tracheophyta   \n3039   https://www.inaturalist.org/taxa/142081   Plantae  Tracheophyta   \n3040                                       NaN       NaN           NaN   \n3041   https://www.inaturalist.org/taxa/576828   Plantae  Tracheophyta   \n3042   https://www.inaturalist.org/taxa/421546  Animalia    Arthropoda   \n\n              class           order         family         genus  \\\n0          Reptilia        Squamata      Scincidae     Eulamprus   \n1        Liliopsida     Asparagales    Orchidaceae  Chiloschista   \n2     Magnoliopsida       Proteales     Proteaceae      Eidothea   \n3     Magnoliopsida         Rosales     Rhamnaceae    Pomaderris   \n4     Magnoliopsida      Sapindales       Rutaceae      Leionema   \n...             ...             ...            ...           ...   \n3038  Magnoliopsida        Lamiales      Lamiaceae        Coleus   \n3039  Magnoliopsida  Caryophyllales  Amaranthaceae   Achyranthes   \n3040            NaN             NaN            NaN           NaN   \n3041     Liliopsida          Poales     Cyperaceae        Reedia   \n3042      Arachnida         Araneae  Theraphosidae  Selenocosmia   \n\n     specificEpithet infraspecificEpithet              modified  \\\n0         kosciuskoi                  NaN  2021-03-01T10:35:01Z   \n1        phyllorhiza                  NaN  2022-01-08T03:30:36Z   \n2         hardeniana                  NaN  2021-02-22T07:21:17Z   \n3            bodalla                  NaN  2021-08-27T06:18:35Z   \n4            gracile                  NaN  2021-10-18T22:35:58Z   \n...              ...                  ...                   ...   \n3038         leiperi                  NaN  2022-03-05T05:49:07Z   \n3039    margaretarum                  NaN  2021-02-12T19:39:39Z   \n3040             NaN                  NaN                   NaN   \n3041       spathacea                  NaN  2020-09-27T12:27:42Z   \n3042       crassipes                  NaN  2020-12-20T02:39:27Z   \n\n                scientificName taxonRank  \\\n0         Eulamprus kosciuskoi   species   \n1     Chiloschista phyllorhiza   species   \n2          Eidothea hardeniana   species   \n3           Pomaderris bodalla   species   \n4             Leionema gracile   species   \n...                        ...       ...   \n3038            Coleus leiperi   species   \n3039  Achyranthes margaretarum   species   \n3040           Stiphodon allen       NaN   \n3041          Reedia spathacea   species   \n3042    Selenocosmia crassipes   species   \n\n                                             references preferred_common_name  \\\n0     http://reptile-database.reptarium.cz/search.ph...                   NaN   \n1     http://www.catalogueoflife.org/annual-checklis...                   NaN   \n2                                                   NaN                   NaN   \n3                        https://eol.org/pages/49432063                   NaN   \n4                        https://eol.org/pages/47126412                   NaN   \n...                                                 ...                   ...   \n3038  https://powo.science.kew.org/taxon/urn:lsid:ip...                   NaN   \n3039  http://plantsoftheworldonline.org/taxon/urn:ls...                   NaN   \n3040                                                NaN       Opal Cling-Goby   \n3041                                                NaN                   NaN   \n3042                                                NaN                   NaN   \n\n     is_active current_synonymous_taxon_ids  \n0          NaN                          NaN  \n1          NaN                          NaN  \n2          NaN                          NaN  \n3          NaN                          NaN  \n4          NaN                          NaN  \n...        ...                          ...  \n3038       NaN                          NaN  \n3039       NaN                          NaN  \n3040     False                           []  \n3041       NaN                          NaN  \n3042       NaN                          NaN  \n\n[3043 rows x 20 columns]",
      "text/html": "<div>\n<style scoped>\n    .dataframe tbody tr th:only-of-type {\n        vertical-align: middle;\n    }\n\n    .dataframe tbody tr th {\n        vertical-align: top;\n    }\n\n    .dataframe thead th {\n        text-align: right;\n    }\n</style>\n<table border=\"1\" class=\"dataframe\">\n  <thead>\n    <tr style=\"text-align: right;\">\n      <th></th>\n      <th>taxon_id</th>\n      <th>id</th>\n      <th>taxonID</th>\n      <th>identifier</th>\n      <th>parentNameUsageID</th>\n      <th>kingdom</th>\n      <th>phylum</th>\n      <th>class</th>\n      <th>order</th>\n      <th>family</th>\n      <th>genus</th>\n      <th>specificEpithet</th>\n      <th>infraspecificEpithet</th>\n      <th>modified</th>\n      <th>scientificName</th>\n      <th>taxonRank</th>\n      <th>references</th>\n      <th>preferred_common_name</th>\n      <th>is_active</th>\n      <th>current_synonymous_taxon_ids</th>\n    </tr>\n  </thead>\n  <tbody>\n    <tr>\n      <th>0</th>\n      <td>38493</td>\n      <td>38493</td>\n      <td>https://www.inaturalist.org/taxa/38493</td>\n      <td>https://www.inaturalist.org/taxa/38493</td>\n      <td>https://www.inaturalist.org/taxa/38479</td>\n      <td>Animalia</td>\n      <td>Chordata</td>\n      <td>Reptilia</td>\n      <td>Squamata</td>\n      <td>Scincidae</td>\n      <td>Eulamprus</td>\n      <td>kosciuskoi</td>\n      <td>NaN</td>\n      <td>2021-03-01T10:35:01Z</td>\n      <td>Eulamprus kosciuskoi</td>\n      <td>species</td>\n      <td>http://reptile-database.reptarium.cz/search.ph...</td>\n      <td>NaN</td>\n      <td>NaN</td>\n      <td>NaN</td>\n    </tr>\n    <tr>\n      <th>1</th>\n      <td>918383</td>\n      <td>918383</td>\n      <td>https://www.inaturalist.org/taxa/918383</td>\n      <td>https://www.inaturalist.org/taxa/918383</td>\n      <td>https://www.inaturalist.org/taxa/430819</td>\n      <td>Plantae</td>\n      <td>Tracheophyta</td>\n      <td>Liliopsida</td>\n      <td>Asparagales</td>\n      <td>Orchidaceae</td>\n      <td>Chiloschista</td>\n      <td>phyllorhiza</td>\n      <td>NaN</td>\n      <td>2022-01-08T03:30:36Z</td>\n      <td>Chiloschista phyllorhiza</td>\n      <td>species</td>\n      <td>http://www.catalogueoflife.org/annual-checklis...</td>\n      <td>NaN</td>\n      <td>NaN</td>\n      <td>NaN</td>\n    </tr>\n    <tr>\n      <th>2</th>\n      <td>1033183</td>\n      <td>1033183</td>\n      <td>https://www.inaturalist.org/taxa/1033183</td>\n      <td>https://www.inaturalist.org/taxa/1033183</td>\n      <td>https://www.inaturalist.org/taxa/624221</td>\n      <td>Plantae</td>\n      <td>Tracheophyta</td>\n      <td>Magnoliopsida</td>\n      <td>Proteales</td>\n      <td>Proteaceae</td>\n      <td>Eidothea</td>\n      <td>hardeniana</td>\n      <td>NaN</td>\n      <td>2021-02-22T07:21:17Z</td>\n      <td>Eidothea hardeniana</td>\n      <td>species</td>\n      <td>NaN</td>\n      <td>NaN</td>\n      <td>NaN</td>\n      <td>NaN</td>\n    </tr>\n    <tr>\n      <th>3</th>\n      <td>1247288</td>\n      <td>1247288</td>\n      <td>https://www.inaturalist.org/taxa/1247288</td>\n      <td>https://www.inaturalist.org/taxa/1247288</td>\n      <td>https://www.inaturalist.org/taxa/184926</td>\n      <td>Plantae</td>\n      <td>Tracheophyta</td>\n      <td>Magnoliopsida</td>\n      <td>Rosales</td>\n      <td>Rhamnaceae</td>\n      <td>Pomaderris</td>\n      <td>bodalla</td>\n      <td>NaN</td>\n      <td>2021-08-27T06:18:35Z</td>\n      <td>Pomaderris bodalla</td>\n      <td>species</td>\n      <td>https://eol.org/pages/49432063</td>\n      <td>NaN</td>\n      <td>NaN</td>\n      <td>NaN</td>\n    </tr>\n    <tr>\n      <th>4</th>\n      <td>1255510</td>\n      <td>1255510</td>\n      <td>https://www.inaturalist.org/taxa/1255510</td>\n      <td>https://www.inaturalist.org/taxa/1255510</td>\n      <td>https://www.inaturalist.org/taxa/321172</td>\n      <td>Plantae</td>\n      <td>Tracheophyta</td>\n      <td>Magnoliopsida</td>\n      <td>Sapindales</td>\n      <td>Rutaceae</td>\n      <td>Leionema</td>\n      <td>gracile</td>\n      <td>NaN</td>\n      <td>2021-10-18T22:35:58Z</td>\n      <td>Leionema gracile</td>\n      <td>species</td>\n      <td>https://eol.org/pages/47126412</td>\n      <td>NaN</td>\n      <td>NaN</td>\n      <td>NaN</td>\n    </tr>\n    <tr>\n      <th>...</th>\n      <td>...</td>\n      <td>...</td>\n      <td>...</td>\n      <td>...</td>\n      <td>...</td>\n      <td>...</td>\n      <td>...</td>\n      <td>...</td>\n      <td>...</td>\n      <td>...</td>\n      <td>...</td>\n      <td>...</td>\n      <td>...</td>\n      <td>...</td>\n      <td>...</td>\n      <td>...</td>\n      <td>...</td>\n      <td>...</td>\n      <td>...</td>\n      <td>...</td>\n    </tr>\n    <tr>\n      <th>3038</th>\n      <td>1363122</td>\n      <td>1363122</td>\n      <td>https://www.inaturalist.org/taxa/1363122</td>\n      <td>https://www.inaturalist.org/taxa/1363122</td>\n      <td>https://www.inaturalist.org/taxa/1069166</td>\n      <td>Plantae</td>\n      <td>Tracheophyta</td>\n      <td>Magnoliopsida</td>\n      <td>Lamiales</td>\n      <td>Lamiaceae</td>\n      <td>Coleus</td>\n      <td>leiperi</td>\n      <td>NaN</td>\n      <td>2022-03-05T05:49:07Z</td>\n      <td>Coleus leiperi</td>\n      <td>species</td>\n      <td>https://powo.science.kew.org/taxon/urn:lsid:ip...</td>\n      <td>NaN</td>\n      <td>NaN</td>\n      <td>NaN</td>\n    </tr>\n    <tr>\n      <th>3039</th>\n      <td>1182117</td>\n      <td>1182117</td>\n      <td>https://www.inaturalist.org/taxa/1182117</td>\n      <td>https://www.inaturalist.org/taxa/1182117</td>\n      <td>https://www.inaturalist.org/taxa/142081</td>\n      <td>Plantae</td>\n      <td>Tracheophyta</td>\n      <td>Magnoliopsida</td>\n      <td>Caryophyllales</td>\n      <td>Amaranthaceae</td>\n      <td>Achyranthes</td>\n      <td>margaretarum</td>\n      <td>NaN</td>\n      <td>2021-02-12T19:39:39Z</td>\n      <td>Achyranthes margaretarum</td>\n      <td>species</td>\n      <td>http://plantsoftheworldonline.org/taxon/urn:ls...</td>\n      <td>NaN</td>\n      <td>NaN</td>\n      <td>NaN</td>\n    </tr>\n    <tr>\n      <th>3040</th>\n      <td>50744</td>\n      <td>NaN</td>\n      <td>NaN</td>\n      <td>NaN</td>\n      <td>NaN</td>\n      <td>NaN</td>\n      <td>NaN</td>\n      <td>NaN</td>\n      <td>NaN</td>\n      <td>NaN</td>\n      <td>NaN</td>\n      <td>NaN</td>\n      <td>NaN</td>\n      <td>NaN</td>\n      <td>Stiphodon allen</td>\n      <td>NaN</td>\n      <td>NaN</td>\n      <td>Opal Cling-Goby</td>\n      <td>False</td>\n      <td>[]</td>\n    </tr>\n    <tr>\n      <th>3041</th>\n      <td>924263</td>\n      <td>924263</td>\n      <td>https://www.inaturalist.org/taxa/924263</td>\n      <td>https://www.inaturalist.org/taxa/924263</td>\n      <td>https://www.inaturalist.org/taxa/576828</td>\n      <td>Plantae</td>\n      <td>Tracheophyta</td>\n      <td>Liliopsida</td>\n      <td>Poales</td>\n      <td>Cyperaceae</td>\n      <td>Reedia</td>\n      <td>spathacea</td>\n      <td>NaN</td>\n      <td>2020-09-27T12:27:42Z</td>\n      <td>Reedia spathacea</td>\n      <td>species</td>\n      <td>NaN</td>\n      <td>NaN</td>\n      <td>NaN</td>\n      <td>NaN</td>\n    </tr>\n    <tr>\n      <th>3042</th>\n      <td>779693</td>\n      <td>779693</td>\n      <td>https://www.inaturalist.org/taxa/779693</td>\n      <td>https://www.inaturalist.org/taxa/779693</td>\n      <td>https://www.inaturalist.org/taxa/421546</td>\n      <td>Animalia</td>\n      <td>Arthropoda</td>\n      <td>Arachnida</td>\n      <td>Araneae</td>\n      <td>Theraphosidae</td>\n      <td>Selenocosmia</td>\n      <td>crassipes</td>\n      <td>NaN</td>\n      <td>2020-12-20T02:39:27Z</td>\n      <td>Selenocosmia crassipes</td>\n      <td>species</td>\n      <td>NaN</td>\n      <td>NaN</td>\n      <td>NaN</td>\n      <td>NaN</td>\n    </tr>\n  </tbody>\n</table>\n<p>3043 rows × 20 columns</p>\n</div>"
     },
     "execution_count": 17,
     "metadata": {},
     "output_type": "execute_result"
    }
   ],
   "source": [
    "# collate the status and the taxon info into a single file to use for the state work\n",
    "# scientificName is 1. if id field is null, the name field or 2. else it's scientificName\n",
    "alltaxa = pd.merge(inataustaxa, inactivetaxa, how=\"left\")\n",
    "alltaxa['scientificName'] = alltaxa.apply(lambda x: x['name'] if pd.isnull(x['id']) else x['scientificName'],axis=1)\n",
    "alltaxa = alltaxa.drop(['name','observation_count'],axis=1)\n",
    "alltaxa\n"
   ],
   "metadata": {
    "collapsed": false,
    "pycharm": {
     "name": "#%%\n"
    }
   }
  },
  {
   "cell_type": "code",
   "execution_count": 18,
   "outputs": [
    {
     "data": {
      "text/plain": "          id taxon_id  user_id place_id source_id  \\\n0     166449    38493  1138587     7830             \n1     234788   918383   702203     9994             \n2     234789   918383   702203     7308             \n3     166416  1033183  3669610     6825             \n4     180721  1247288   222137     6825             \n...      ...      ...      ...      ...       ...   \n3448  165697  1182117  3669610    73684             \n3449  130966   508985                               \n3450  161226    50744   516268                      \n3451  162783   924263   764897                      \n3452  152695   779693   708886              16653   \n\n                                              authority  \\\n0                    Flora and Fauna Guarantee Act 1988   \n1                             Atlas of Living Australia   \n2                             Atlas of Living Australia   \n3                  NSW Office of Environment & Heritage   \n4           NSW Threatened Species Scientific Committee   \n...                                                 ...   \n3448                              Australian Government   \n3449                                                      \n3450          DAWE Species Profile and Threats Database   \n3451  Department of Biodiversity, Conservation and A...   \n3452                                           QLD DEHP   \n\n                     status  \\\n0                        CR   \n1                       NT    \n2                        LC   \n3                        EN   \n4                        vu   \n...                     ...   \n3448                     CR   \n3449  critically endangered   \n3450                     CR   \n3451                     EN   \n3452             endangered   \n\n                                                    url description  \\\n0                                                                     \n1     https://bie.ala.org.au/species/https://id.biod...               \n2     https://bie.ala.org.au/species/https://id.biod...               \n3     https://www.environment.nsw.gov.au/threateneds...               \n4     https://www.environment.nsw.gov.au/topics/anim...               \n...                                                 ...         ...   \n3448  http://www.environment.gov.au/biodiversity/thr...               \n3449  http://environment.gov.au/cgi-bin/sprat/public...               \n3450  https://www.environment.gov.au/cgi-bin/sprat/p...               \n3451  https://www.dpaw.wa.gov.au/images/documents/pl...               \n3452  https://data.qld.gov.au/dataset/conservation-s...               \n\n     geoprivacy  ...          genus specificEpithet infraspecificEpithet  \\\n0      obscured  ...      Eulamprus      kosciuskoi                  NaN   \n1                ...   Chiloschista     phyllorhiza                  NaN   \n2                ...   Chiloschista     phyllorhiza                  NaN   \n3      obscured  ...       Eidothea      hardeniana                  NaN   \n4      obscured  ...     Pomaderris         bodalla                  NaN   \n...         ...  ...            ...             ...                  ...   \n3448             ...    Achyranthes    margaretarum                  NaN   \n3449   obscured  ...  Lichenostomus        melanops             cassidix   \n3450   obscured  ...            NaN             NaN                  NaN   \n3451   obscured  ...         Reedia       spathacea                  NaN   \n3452   obscured  ...   Selenocosmia       crassipes                  NaN   \n\n                  modified                   scientificName   taxonRank  \\\n0     2021-03-01T10:35:01Z             Eulamprus kosciuskoi     species   \n1     2022-01-08T03:30:36Z         Chiloschista phyllorhiza     species   \n2     2022-01-08T03:30:36Z         Chiloschista phyllorhiza     species   \n3     2021-02-22T07:21:17Z              Eidothea hardeniana     species   \n4     2021-08-27T06:18:35Z               Pomaderris bodalla     species   \n...                    ...                              ...         ...   \n3448  2021-02-12T19:39:39Z         Achyranthes margaretarum     species   \n3449  2022-06-11T03:51:49Z  Lichenostomus melanops cassidix  subspecies   \n3450                   NaN                  Stiphodon allen         NaN   \n3451  2020-09-27T12:27:42Z                 Reedia spathacea     species   \n3452  2020-12-20T02:39:27Z           Selenocosmia crassipes     species   \n\n                                             references preferred_common_name  \\\n0     http://reptile-database.reptarium.cz/search.ph...                   NaN   \n1     http://www.catalogueoflife.org/annual-checklis...                   NaN   \n2     http://www.catalogueoflife.org/annual-checklis...                   NaN   \n3                                                   NaN                   NaN   \n4                        https://eol.org/pages/49432063                   NaN   \n...                                                 ...                   ...   \n3448  http://plantsoftheworldonline.org/taxon/urn:ls...                   NaN   \n3449  http://www.birds.cornell.edu/clementschecklist...                   NaN   \n3450                                                NaN       Opal Cling-Goby   \n3451                                                NaN                   NaN   \n3452                                                NaN                   NaN   \n\n     is_active current_synonymous_taxon_ids  \n0          NaN                          NaN  \n1          NaN                          NaN  \n2          NaN                          NaN  \n3          NaN                          NaN  \n4          NaN                          NaN  \n...        ...                          ...  \n3448       NaN                          NaN  \n3449       NaN                          NaN  \n3450     False                           []  \n3451       NaN                          NaN  \n3452       NaN                          NaN  \n\n[3453 rows x 34 columns]",
      "text/html": "<div>\n<style scoped>\n    .dataframe tbody tr th:only-of-type {\n        vertical-align: middle;\n    }\n\n    .dataframe tbody tr th {\n        vertical-align: top;\n    }\n\n    .dataframe thead th {\n        text-align: right;\n    }\n</style>\n<table border=\"1\" class=\"dataframe\">\n  <thead>\n    <tr style=\"text-align: right;\">\n      <th></th>\n      <th>id</th>\n      <th>taxon_id</th>\n      <th>user_id</th>\n      <th>place_id</th>\n      <th>source_id</th>\n      <th>authority</th>\n      <th>status</th>\n      <th>url</th>\n      <th>description</th>\n      <th>geoprivacy</th>\n      <th>...</th>\n      <th>genus</th>\n      <th>specificEpithet</th>\n      <th>infraspecificEpithet</th>\n      <th>modified</th>\n      <th>scientificName</th>\n      <th>taxonRank</th>\n      <th>references</th>\n      <th>preferred_common_name</th>\n      <th>is_active</th>\n      <th>current_synonymous_taxon_ids</th>\n    </tr>\n  </thead>\n  <tbody>\n    <tr>\n      <th>0</th>\n      <td>166449</td>\n      <td>38493</td>\n      <td>1138587</td>\n      <td>7830</td>\n      <td></td>\n      <td>Flora and Fauna Guarantee Act 1988</td>\n      <td>CR</td>\n      <td></td>\n      <td></td>\n      <td>obscured</td>\n      <td>...</td>\n      <td>Eulamprus</td>\n      <td>kosciuskoi</td>\n      <td>NaN</td>\n      <td>2021-03-01T10:35:01Z</td>\n      <td>Eulamprus kosciuskoi</td>\n      <td>species</td>\n      <td>http://reptile-database.reptarium.cz/search.ph...</td>\n      <td>NaN</td>\n      <td>NaN</td>\n      <td>NaN</td>\n    </tr>\n    <tr>\n      <th>1</th>\n      <td>234788</td>\n      <td>918383</td>\n      <td>702203</td>\n      <td>9994</td>\n      <td></td>\n      <td>Atlas of Living Australia</td>\n      <td>NT</td>\n      <td>https://bie.ala.org.au/species/https://id.biod...</td>\n      <td></td>\n      <td></td>\n      <td>...</td>\n      <td>Chiloschista</td>\n      <td>phyllorhiza</td>\n      <td>NaN</td>\n      <td>2022-01-08T03:30:36Z</td>\n      <td>Chiloschista phyllorhiza</td>\n      <td>species</td>\n      <td>http://www.catalogueoflife.org/annual-checklis...</td>\n      <td>NaN</td>\n      <td>NaN</td>\n      <td>NaN</td>\n    </tr>\n    <tr>\n      <th>2</th>\n      <td>234789</td>\n      <td>918383</td>\n      <td>702203</td>\n      <td>7308</td>\n      <td></td>\n      <td>Atlas of Living Australia</td>\n      <td>LC</td>\n      <td>https://bie.ala.org.au/species/https://id.biod...</td>\n      <td></td>\n      <td></td>\n      <td>...</td>\n      <td>Chiloschista</td>\n      <td>phyllorhiza</td>\n      <td>NaN</td>\n      <td>2022-01-08T03:30:36Z</td>\n      <td>Chiloschista phyllorhiza</td>\n      <td>species</td>\n      <td>http://www.catalogueoflife.org/annual-checklis...</td>\n      <td>NaN</td>\n      <td>NaN</td>\n      <td>NaN</td>\n    </tr>\n    <tr>\n      <th>3</th>\n      <td>166416</td>\n      <td>1033183</td>\n      <td>3669610</td>\n      <td>6825</td>\n      <td></td>\n      <td>NSW Office of Environment &amp; Heritage</td>\n      <td>EN</td>\n      <td>https://www.environment.nsw.gov.au/threateneds...</td>\n      <td></td>\n      <td>obscured</td>\n      <td>...</td>\n      <td>Eidothea</td>\n      <td>hardeniana</td>\n      <td>NaN</td>\n      <td>2021-02-22T07:21:17Z</td>\n      <td>Eidothea hardeniana</td>\n      <td>species</td>\n      <td>NaN</td>\n      <td>NaN</td>\n      <td>NaN</td>\n      <td>NaN</td>\n    </tr>\n    <tr>\n      <th>4</th>\n      <td>180721</td>\n      <td>1247288</td>\n      <td>222137</td>\n      <td>6825</td>\n      <td></td>\n      <td>NSW Threatened Species Scientific Committee</td>\n      <td>vu</td>\n      <td>https://www.environment.nsw.gov.au/topics/anim...</td>\n      <td></td>\n      <td>obscured</td>\n      <td>...</td>\n      <td>Pomaderris</td>\n      <td>bodalla</td>\n      <td>NaN</td>\n      <td>2021-08-27T06:18:35Z</td>\n      <td>Pomaderris bodalla</td>\n      <td>species</td>\n      <td>https://eol.org/pages/49432063</td>\n      <td>NaN</td>\n      <td>NaN</td>\n      <td>NaN</td>\n    </tr>\n    <tr>\n      <th>...</th>\n      <td>...</td>\n      <td>...</td>\n      <td>...</td>\n      <td>...</td>\n      <td>...</td>\n      <td>...</td>\n      <td>...</td>\n      <td>...</td>\n      <td>...</td>\n      <td>...</td>\n      <td>...</td>\n      <td>...</td>\n      <td>...</td>\n      <td>...</td>\n      <td>...</td>\n      <td>...</td>\n      <td>...</td>\n      <td>...</td>\n      <td>...</td>\n      <td>...</td>\n      <td>...</td>\n    </tr>\n    <tr>\n      <th>3448</th>\n      <td>165697</td>\n      <td>1182117</td>\n      <td>3669610</td>\n      <td>73684</td>\n      <td></td>\n      <td>Australian Government</td>\n      <td>CR</td>\n      <td>http://www.environment.gov.au/biodiversity/thr...</td>\n      <td></td>\n      <td></td>\n      <td>...</td>\n      <td>Achyranthes</td>\n      <td>margaretarum</td>\n      <td>NaN</td>\n      <td>2021-02-12T19:39:39Z</td>\n      <td>Achyranthes margaretarum</td>\n      <td>species</td>\n      <td>http://plantsoftheworldonline.org/taxon/urn:ls...</td>\n      <td>NaN</td>\n      <td>NaN</td>\n      <td>NaN</td>\n    </tr>\n    <tr>\n      <th>3449</th>\n      <td>130966</td>\n      <td>508985</td>\n      <td></td>\n      <td></td>\n      <td></td>\n      <td></td>\n      <td>critically endangered</td>\n      <td>http://environment.gov.au/cgi-bin/sprat/public...</td>\n      <td></td>\n      <td>obscured</td>\n      <td>...</td>\n      <td>Lichenostomus</td>\n      <td>melanops</td>\n      <td>cassidix</td>\n      <td>2022-06-11T03:51:49Z</td>\n      <td>Lichenostomus melanops cassidix</td>\n      <td>subspecies</td>\n      <td>http://www.birds.cornell.edu/clementschecklist...</td>\n      <td>NaN</td>\n      <td>NaN</td>\n      <td>NaN</td>\n    </tr>\n    <tr>\n      <th>3450</th>\n      <td>161226</td>\n      <td>50744</td>\n      <td>516268</td>\n      <td></td>\n      <td></td>\n      <td>DAWE Species Profile and Threats Database</td>\n      <td>CR</td>\n      <td>https://www.environment.gov.au/cgi-bin/sprat/p...</td>\n      <td></td>\n      <td>obscured</td>\n      <td>...</td>\n      <td>NaN</td>\n      <td>NaN</td>\n      <td>NaN</td>\n      <td>NaN</td>\n      <td>Stiphodon allen</td>\n      <td>NaN</td>\n      <td>NaN</td>\n      <td>Opal Cling-Goby</td>\n      <td>False</td>\n      <td>[]</td>\n    </tr>\n    <tr>\n      <th>3451</th>\n      <td>162783</td>\n      <td>924263</td>\n      <td>764897</td>\n      <td></td>\n      <td></td>\n      <td>Department of Biodiversity, Conservation and A...</td>\n      <td>EN</td>\n      <td>https://www.dpaw.wa.gov.au/images/documents/pl...</td>\n      <td></td>\n      <td>obscured</td>\n      <td>...</td>\n      <td>Reedia</td>\n      <td>spathacea</td>\n      <td>NaN</td>\n      <td>2020-09-27T12:27:42Z</td>\n      <td>Reedia spathacea</td>\n      <td>species</td>\n      <td>NaN</td>\n      <td>NaN</td>\n      <td>NaN</td>\n      <td>NaN</td>\n    </tr>\n    <tr>\n      <th>3452</th>\n      <td>152695</td>\n      <td>779693</td>\n      <td>708886</td>\n      <td></td>\n      <td>16653</td>\n      <td>QLD DEHP</td>\n      <td>endangered</td>\n      <td>https://data.qld.gov.au/dataset/conservation-s...</td>\n      <td></td>\n      <td>obscured</td>\n      <td>...</td>\n      <td>Selenocosmia</td>\n      <td>crassipes</td>\n      <td>NaN</td>\n      <td>2020-12-20T02:39:27Z</td>\n      <td>Selenocosmia crassipes</td>\n      <td>species</td>\n      <td>NaN</td>\n      <td>NaN</td>\n      <td>NaN</td>\n      <td>NaN</td>\n    </tr>\n  </tbody>\n</table>\n<p>3453 rows × 34 columns</p>\n</div>"
     },
     "execution_count": 18,
     "metadata": {},
     "output_type": "execute_result"
    }
   ],
   "source": [
    "# now merge back with the original australian statuses and save locally\n",
    "taxastatus = pd.merge(dfaus,alltaxa,how=\"left\", on=\"taxon_id\")\n",
    "#taxastatus\n",
    "#taxastatus.drop(['id_y'])\n",
    "taxastatus = taxastatus.rename(columns={'id_x':'id'})\n",
    "taxastatus"
   ],
   "metadata": {
    "collapsed": false,
    "pycharm": {
     "name": "#%%\n"
    }
   }
  },
  {
   "cell_type": "code",
   "execution_count": 19,
   "outputs": [],
   "source": [
    "taxastatus.to_csv(sourcedir + \"inat-aust-status-taxa.csv\", index=False)"
   ],
   "metadata": {
    "collapsed": false,
    "pycharm": {
     "name": "#%%\n"
    }
   }
  },
  {
   "cell_type": "code",
   "execution_count": 20,
   "outputs": [
    {
     "data": {
      "text/plain": "taxonRank\ncomplex          2\nform             1\ngenus           42\nhybrid           4\norder            1\nspecies       3239\nsubspecies      68\nvariety         11\nName: taxonRank, dtype: int64"
     },
     "execution_count": 20,
     "metadata": {},
     "output_type": "execute_result"
    }
   ],
   "source": [
    "taxastatus.groupby(['taxonRank'])['taxonRank'].count()"
   ],
   "metadata": {
    "collapsed": false,
    "pycharm": {
     "name": "#%%\n"
    }
   }
  },
  {
   "cell_type": "markdown",
   "source": [
    "## Notes about conservation status inheritance in inaturalist:\n",
    "Adding a conservation status for a higher level taxon affects observations of all the species in this taxon. Please do not add statuses for taxa that contain species that have no status because that will incorrectly obscure coordinates for observations of those species.\n",
    "\n",
    "### Example:\n",
    "Genus Acriopsis - https://www.inaturalist.org/taxa/425476-Acriopsis\n",
    "\n",
    "The inherited species records are not in the export and can't be edited, but they do appear on the species pages.\n",
    "The changes are to set _Acriopsis emarginata_ to Vulnerable. The rest will remain least concern."
   ],
   "metadata": {
    "collapsed": false
   }
  },
  {
   "cell_type": "code",
   "execution_count": 21,
   "outputs": [
    {
     "data": {
      "text/plain": "   TaxonID                  Name       Status     Rank iNat species page  \\\n1   425476             Acriopsis  LC/obscured    genus               No    \n2  1141144  Acriopsis emarginata  LC/obscured  species               Yes   \n3   425475  Acriopsis liliifolia  LC/obscured  species               Yes   \n4   427833     Acriopsis ridleyi  LC/obscured  species               Yes   \n5  1037999      Acriopsis indica  LC/obscured  Species               Yes   \n\n  iNat edit taxon Export  \n1             Yes    Yes  \n2              No     No  \n3              No     No  \n4              No     No  \n5              No     No  ",
      "text/html": "<div>\n<style scoped>\n    .dataframe tbody tr th:only-of-type {\n        vertical-align: middle;\n    }\n\n    .dataframe tbody tr th {\n        vertical-align: top;\n    }\n\n    .dataframe thead th {\n        text-align: right;\n    }\n</style>\n<table border=\"1\" class=\"dataframe\">\n  <thead>\n    <tr style=\"text-align: right;\">\n      <th></th>\n      <th>TaxonID</th>\n      <th>Name</th>\n      <th>Status</th>\n      <th>Rank</th>\n      <th>iNat species page</th>\n      <th>iNat edit taxon</th>\n      <th>Export</th>\n    </tr>\n  </thead>\n  <tbody>\n    <tr>\n      <th>1</th>\n      <td>425476</td>\n      <td>Acriopsis</td>\n      <td>LC/obscured</td>\n      <td>genus</td>\n      <td>No</td>\n      <td>Yes</td>\n      <td>Yes</td>\n    </tr>\n    <tr>\n      <th>2</th>\n      <td>1141144</td>\n      <td>Acriopsis emarginata</td>\n      <td>LC/obscured</td>\n      <td>species</td>\n      <td>Yes</td>\n      <td>No</td>\n      <td>No</td>\n    </tr>\n    <tr>\n      <th>3</th>\n      <td>425475</td>\n      <td>Acriopsis liliifolia</td>\n      <td>LC/obscured</td>\n      <td>species</td>\n      <td>Yes</td>\n      <td>No</td>\n      <td>No</td>\n    </tr>\n    <tr>\n      <th>4</th>\n      <td>427833</td>\n      <td>Acriopsis ridleyi</td>\n      <td>LC/obscured</td>\n      <td>species</td>\n      <td>Yes</td>\n      <td>No</td>\n      <td>No</td>\n    </tr>\n    <tr>\n      <th>5</th>\n      <td>1037999</td>\n      <td>Acriopsis indica</td>\n      <td>LC/obscured</td>\n      <td>Species</td>\n      <td>Yes</td>\n      <td>No</td>\n      <td>No</td>\n    </tr>\n  </tbody>\n</table>\n</div>"
     },
     "execution_count": 21,
     "metadata": {},
     "output_type": "execute_result"
    }
   ],
   "source": [
    "eg = pd.DataFrame(columns=('TaxonID', 'Name', 'Status','Rank','iNat species page','iNat edit taxon','Export'))\n",
    "eg.loc[1]=['425476','Acriopsis','LC/obscured','genus','No ','Yes','Yes']\n",
    "eg.loc[2]=['1141144','Acriopsis emarginata','LC/obscured','species','Yes','No','No']\n",
    "eg.loc[3]=['425475','Acriopsis liliifolia','LC/obscured','species','Yes','No','No']\n",
    "eg.loc[4]=['427833','Acriopsis ridleyi','LC/obscured','species','Yes','No','No']\n",
    "eg.loc[5]=['1037999','Acriopsis indica','LC/obscured','Species','Yes','No','No']\n",
    "eg"
   ],
   "metadata": {
    "collapsed": false,
    "pycharm": {
     "name": "#%%\n"
    }
   }
  }
 ],
 "metadata": {
  "kernelspec": {
   "display_name": "Python 3",
   "language": "python",
   "name": "python3"
  },
  "language_info": {
   "codemirror_mode": {
    "name": "ipython",
    "version": 2
   },
   "file_extension": ".py",
   "mimetype": "text/x-python",
   "name": "python",
   "nbconvert_exporter": "python",
   "pygments_lexer": "ipython2",
   "version": "2.7.6"
  }
 },
 "nbformat": 4,
 "nbformat_minor": 0
}