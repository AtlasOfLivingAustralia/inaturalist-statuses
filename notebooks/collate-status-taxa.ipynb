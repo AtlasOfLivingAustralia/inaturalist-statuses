{
 "cells": [
  {
   "cell_type": "markdown",
   "metadata": {
    "collapsed": true,
    "pycharm": {
     "name": "#%% md\n"
    }
   },
   "source": [
    "# Collate iNaturalist taxon status data\n",
    "\n",
    "**Steps covered in this notebook:**\n",
    "1. Extract all the current statuses in Australian jurisdictions in the export (eg.AU or Australia place, .gov.au in the URL or user 708886)\n",
    "2. Resolve the taxon name for each using the iNaturalist Taxon DwCA at https://www.inaturalist.org/taxa/inaturalist-taxonomy.dwca.zip (~350MB) or the iNat taxon API (if the taxon is inactive in iNaturalist)\n",
    "\n",
    "File output: `inat-aust-status-taxa.csv` containing Australian conservation statuses,\n",
    "\n",
    "**Next steps:**\n",
    "State by state establish the changes that need to be made:\n",
    "    a. new - any new species that appear in the state lists but do not have a status in inaturalist (ADD)\n",
    "    b. updates - any changes to statuses (update template, action='UPDATE')\n",
    "    c. removals - any statuses which were added by us previously (user_id = 708886) list which are incorrect (update template, action='REMOVE')\n",
    "    d. flags - are there any statuses by other users that need to be flagged?"
   ]
  },
  {
   "cell_type": "markdown",
   "source": [
    "## 1. Read in the iNaturalist Conservation Statuses export\n",
    "Find the Australian statuses by querying:\n",
    "* place names and display place names containing `AU`, `Australia` etc\n",
    "* urls containing the string `.gov.au`\n",
    "* records with a user id 708886 (Peggy who submitted the last round of statuses)"
   ],
   "metadata": {
    "collapsed": false
   }
  },
  {
   "cell_type": "code",
   "execution_count": 12,
   "outputs": [
    {
     "data": {
      "text/plain": "            id taxon_id  user_id place_id source_id  \\\n0       210936    78570                               \n1       228106   219800   119123     6883             \n2       224080   239472    51061       50             \n3       228110   219828   119123     6834             \n4       223126   155851              6815             \n...        ...      ...      ...      ...       ...   \n269077  262347    35912  2059107    10581             \n269078  284899    26888  2059107    10581             \n269079  284904    39976  2059107    10581             \n269080  284962   488343  2059107     6753             \n269081  284972    52658  2082824     7399             \n\n                                                authority status  \\\n0                                           IUCN Red List     LC   \n1                                             NatureServe     S2   \n2                                             NatureServe   S2S3   \n3                                             NatureServe   S2S4   \n4                                              Tatzpiteva     VU   \n...                                                   ...    ...   \n269077                               LPO Pays de la Loire     CR   \n269078                               LPO Pays de la Loire     VU   \n269079                                                        NE   \n269080                               UICN Comité Français     NT   \n269081  Red list of the vascular flora of Hungary. Vör...      V   \n\n                                                      url  \\\n0       https://www.iucnredlist.org/species/109716665/...   \n1                       https://explorer.natureserve.org/   \n2       https://explorer.natureserve.org/Taxon/ELEMENT...   \n3                       https://explorer.natureserve.org/   \n4                               http://tatzpiteva.org.il/   \n...                                                   ...   \n269077  http://www.pays-de-la-loire.developpement-dura...   \n269078  https://cdnfiles1.biolovision.net/www.faune-an...   \n269079                                                      \n269080  https://inpn.mnhn.fr/docs/LR_FCE/Dossier_press...   \n269081  https://www.researchgate.net/publication/25683...   \n\n                                              description geoprivacy iucn  \\\n0                                                                      10   \n1                                                                      40   \n2                                                                       0   \n3                                                                      30   \n4                                                           obscured   30   \n...                                                   ...        ...  ...   \n269077                                                          open   50   \n269078  Découverte récemment sur l’île d’Yeu en Vendée...       open   30   \n269079                                                          open    0   \n269080                                                          open   20   \n269081                                          protected   obscured   40   \n\n                        created_at                  updated_at  \\\n0       2021-09-28 11:12:51.830044  2021-12-21 04:53:02.568719   \n1       2021-12-16 19:59:11.692913   2021-12-21 13:14:46.38026   \n2        2021-11-24 18:14:30.91353   2021-11-24 18:14:30.91353   \n3       2021-12-16 19:59:12.175319  2021-12-21 13:18:11.648863   \n4       2021-10-03 01:25:45.177631  2021-10-03 01:25:45.177631   \n...                            ...                         ...   \n269077   2022-03-18 13:45:53.32241  2023-11-30 10:26:38.484467   \n269078  2023-11-30 10:33:27.810836  2023-11-30 10:33:27.810836   \n269079  2023-11-30 10:45:35.322235  2023-11-30 10:45:35.322235   \n269080  2023-12-05 11:35:07.775826  2023-12-05 11:35:07.775826   \n269081  2023-12-06 20:38:21.637649  2023-12-06 20:38:21.637649   \n\n              place_name    place_display_name  \n0                                               \n1                Ontario           Ontario, CA  \n2                 Nevada            Nevada, US  \n3                Alberta           Alberta, CA  \n4                 Israel                Israel  \n...                  ...                   ...  \n269077  Pays de la Loire  Pays de la Loire, FR  \n269078  Pays de la Loire  Pays de la Loire, FR  \n269079  Pays de la Loire  Pays de la Loire, FR  \n269080            France                France  \n269081           Hungary               Hungary  \n\n[269082 rows x 15 columns]",
      "text/html": "<div>\n<style scoped>\n    .dataframe tbody tr th:only-of-type {\n        vertical-align: middle;\n    }\n\n    .dataframe tbody tr th {\n        vertical-align: top;\n    }\n\n    .dataframe thead th {\n        text-align: right;\n    }\n</style>\n<table border=\"1\" class=\"dataframe\">\n  <thead>\n    <tr style=\"text-align: right;\">\n      <th></th>\n      <th>id</th>\n      <th>taxon_id</th>\n      <th>user_id</th>\n      <th>place_id</th>\n      <th>source_id</th>\n      <th>authority</th>\n      <th>status</th>\n      <th>url</th>\n      <th>description</th>\n      <th>geoprivacy</th>\n      <th>iucn</th>\n      <th>created_at</th>\n      <th>updated_at</th>\n      <th>place_name</th>\n      <th>place_display_name</th>\n    </tr>\n  </thead>\n  <tbody>\n    <tr>\n      <th>0</th>\n      <td>210936</td>\n      <td>78570</td>\n      <td></td>\n      <td></td>\n      <td></td>\n      <td>IUCN Red List</td>\n      <td>LC</td>\n      <td>https://www.iucnredlist.org/species/109716665/...</td>\n      <td></td>\n      <td></td>\n      <td>10</td>\n      <td>2021-09-28 11:12:51.830044</td>\n      <td>2021-12-21 04:53:02.568719</td>\n      <td></td>\n      <td></td>\n    </tr>\n    <tr>\n      <th>1</th>\n      <td>228106</td>\n      <td>219800</td>\n      <td>119123</td>\n      <td>6883</td>\n      <td></td>\n      <td>NatureServe</td>\n      <td>S2</td>\n      <td>https://explorer.natureserve.org/</td>\n      <td></td>\n      <td></td>\n      <td>40</td>\n      <td>2021-12-16 19:59:11.692913</td>\n      <td>2021-12-21 13:14:46.38026</td>\n      <td>Ontario</td>\n      <td>Ontario, CA</td>\n    </tr>\n    <tr>\n      <th>2</th>\n      <td>224080</td>\n      <td>239472</td>\n      <td>51061</td>\n      <td>50</td>\n      <td></td>\n      <td>NatureServe</td>\n      <td>S2S3</td>\n      <td>https://explorer.natureserve.org/Taxon/ELEMENT...</td>\n      <td></td>\n      <td></td>\n      <td>0</td>\n      <td>2021-11-24 18:14:30.91353</td>\n      <td>2021-11-24 18:14:30.91353</td>\n      <td>Nevada</td>\n      <td>Nevada, US</td>\n    </tr>\n    <tr>\n      <th>3</th>\n      <td>228110</td>\n      <td>219828</td>\n      <td>119123</td>\n      <td>6834</td>\n      <td></td>\n      <td>NatureServe</td>\n      <td>S2S4</td>\n      <td>https://explorer.natureserve.org/</td>\n      <td></td>\n      <td></td>\n      <td>30</td>\n      <td>2021-12-16 19:59:12.175319</td>\n      <td>2021-12-21 13:18:11.648863</td>\n      <td>Alberta</td>\n      <td>Alberta, CA</td>\n    </tr>\n    <tr>\n      <th>4</th>\n      <td>223126</td>\n      <td>155851</td>\n      <td></td>\n      <td>6815</td>\n      <td></td>\n      <td>Tatzpiteva</td>\n      <td>VU</td>\n      <td>http://tatzpiteva.org.il/</td>\n      <td></td>\n      <td>obscured</td>\n      <td>30</td>\n      <td>2021-10-03 01:25:45.177631</td>\n      <td>2021-10-03 01:25:45.177631</td>\n      <td>Israel</td>\n      <td>Israel</td>\n    </tr>\n    <tr>\n      <th>...</th>\n      <td>...</td>\n      <td>...</td>\n      <td>...</td>\n      <td>...</td>\n      <td>...</td>\n      <td>...</td>\n      <td>...</td>\n      <td>...</td>\n      <td>...</td>\n      <td>...</td>\n      <td>...</td>\n      <td>...</td>\n      <td>...</td>\n      <td>...</td>\n      <td>...</td>\n    </tr>\n    <tr>\n      <th>269077</th>\n      <td>262347</td>\n      <td>35912</td>\n      <td>2059107</td>\n      <td>10581</td>\n      <td></td>\n      <td>LPO Pays de la Loire</td>\n      <td>CR</td>\n      <td>http://www.pays-de-la-loire.developpement-dura...</td>\n      <td></td>\n      <td>open</td>\n      <td>50</td>\n      <td>2022-03-18 13:45:53.32241</td>\n      <td>2023-11-30 10:26:38.484467</td>\n      <td>Pays de la Loire</td>\n      <td>Pays de la Loire, FR</td>\n    </tr>\n    <tr>\n      <th>269078</th>\n      <td>284899</td>\n      <td>26888</td>\n      <td>2059107</td>\n      <td>10581</td>\n      <td></td>\n      <td>LPO Pays de la Loire</td>\n      <td>VU</td>\n      <td>https://cdnfiles1.biolovision.net/www.faune-an...</td>\n      <td>Découverte récemment sur l’île d’Yeu en Vendée...</td>\n      <td>open</td>\n      <td>30</td>\n      <td>2023-11-30 10:33:27.810836</td>\n      <td>2023-11-30 10:33:27.810836</td>\n      <td>Pays de la Loire</td>\n      <td>Pays de la Loire, FR</td>\n    </tr>\n    <tr>\n      <th>269079</th>\n      <td>284904</td>\n      <td>39976</td>\n      <td>2059107</td>\n      <td>10581</td>\n      <td></td>\n      <td></td>\n      <td>NE</td>\n      <td></td>\n      <td></td>\n      <td>open</td>\n      <td>0</td>\n      <td>2023-11-30 10:45:35.322235</td>\n      <td>2023-11-30 10:45:35.322235</td>\n      <td>Pays de la Loire</td>\n      <td>Pays de la Loire, FR</td>\n    </tr>\n    <tr>\n      <th>269080</th>\n      <td>284962</td>\n      <td>488343</td>\n      <td>2059107</td>\n      <td>6753</td>\n      <td></td>\n      <td>UICN Comité Français</td>\n      <td>NT</td>\n      <td>https://inpn.mnhn.fr/docs/LR_FCE/Dossier_press...</td>\n      <td></td>\n      <td>open</td>\n      <td>20</td>\n      <td>2023-12-05 11:35:07.775826</td>\n      <td>2023-12-05 11:35:07.775826</td>\n      <td>France</td>\n      <td>France</td>\n    </tr>\n    <tr>\n      <th>269081</th>\n      <td>284972</td>\n      <td>52658</td>\n      <td>2082824</td>\n      <td>7399</td>\n      <td></td>\n      <td>Red list of the vascular flora of Hungary. Vör...</td>\n      <td>V</td>\n      <td>https://www.researchgate.net/publication/25683...</td>\n      <td>protected</td>\n      <td>obscured</td>\n      <td>40</td>\n      <td>2023-12-06 20:38:21.637649</td>\n      <td>2023-12-06 20:38:21.637649</td>\n      <td>Hungary</td>\n      <td>Hungary</td>\n    </tr>\n  </tbody>\n</table>\n<p>269082 rows × 15 columns</p>\n</div>"
     },
     "execution_count": 12,
     "metadata": {},
     "output_type": "execute_result"
    }
   ],
   "source": [
    "import os\n",
    "import pandas as pd\n",
    "projectdir = os.path.dirname(os.getcwd()) # get the parent directory of the current directory\n",
    "dataindir = projectdir + \"data/in/\"\n",
    "dataoutdir = projectdir + \"data/out/\"\n",
    "df = pd.read_csv(projectdir + \"data/in/inaturalist-australia-9/inaturalist-australia-9-conservation_statuses.csv\", encoding='UTF-8', na_filter=False, dtype=str)\n",
    "df"
   ],
   "metadata": {
    "collapsed": false,
    "pycharm": {
     "name": "#%%\n"
    },
    "ExecuteTime": {
     "end_time": "2023-12-19T02:29:42.078504Z",
     "start_time": "2023-12-19T02:29:41.446090Z"
    }
   }
  },
  {
   "cell_type": "code",
   "execution_count": 7,
   "outputs": [
    {
     "data": {
      "text/plain": "779                               Australia\n84944     Australia Exclusive Economic Zone\n237563     Australian Capital Territory, AU\n256396                Cairns - Pt B, QL, AU\n174004         Great Barrier Island, AU, NZ\n82078          Hobsons Bay - Altona, VI, AU\n136436         Lower Eyre Peninsula, SA, AU\n490                     New South Wales, AU\n353                  Northern Territory, AU\n799                          Queensland, AU\n175763                  Rottnest Island, AU\n3977                    South Australia, AU\n174885       South Australia, marine waters\n248336        South East Queensland, QL, AU\n69569                          Tasmania, AU\n992                            Victoria, AU\n777                   Western Australia, AU\n256395                     Yarrabah, QL, AU\nName: place_display_name, dtype: object"
     },
     "execution_count": 7,
     "metadata": {},
     "output_type": "execute_result"
    }
   ],
   "source": [
    "# list of unique Aust place display names\n",
    "placedisplaydf = df['place_display_name'].drop_duplicates().sort_values()\n",
    "placedisplaydf = placedisplaydf[pd.Series(placedisplaydf).str.contains(\"AU|Australia|AUSTRALIA\")]\n",
    "placedisplaydf"
   ],
   "metadata": {
    "collapsed": false,
    "pycharm": {
     "name": "#%%\n"
    },
    "ExecuteTime": {
     "end_time": "2023-12-19T02:25:52.245081Z",
     "start_time": "2023-12-19T02:25:52.240225Z"
    }
   }
  },
  {
   "cell_type": "code",
   "execution_count": 9,
   "outputs": [
    {
     "data": {
      "text/plain": "779                               Australia\n84944     Australia Exclusive Economic Zone\n237563         Australian Capital Territory\n3977                        South Australia\n174885       South Australia, marine waters\n777                       Western Australia\nName: place_name, dtype: object"
     },
     "execution_count": 9,
     "metadata": {},
     "output_type": "execute_result"
    }
   ],
   "source": [
    "# list of unique Aust place names\n",
    "placedf = df['place_name'].drop_duplicates().sort_values()\n",
    "placedf = placedf[pd.Series(placedf).str.contains(\"AU|Australia|AUSTRALIA\")]\n",
    "placedf"
   ],
   "metadata": {
    "collapsed": false,
    "pycharm": {
     "name": "#%%\n"
    },
    "ExecuteTime": {
     "end_time": "2023-12-19T02:25:59.928020Z",
     "start_time": "2023-12-19T02:25:59.923155Z"
    }
   }
  },
  {
   "cell_type": "code",
   "execution_count": 10,
   "outputs": [
    {
     "data": {
      "text/plain": "248834     https://www.environment.gov.au/epbc/about/epb...\n5851      http://environment.gov.au/cgi-bin/sprat/public...\n214467    http://environment.gov.au/cgi-bin/sprat/public...\n2438      http://www.environment.gov.au/biodiversity/thr...\n175194    http://www.environment.gov.au/biodiversity/thr...\n                                ...                        \n4765      https://www.environment.vic.gov.au/__data/asse...\n992       https://www.environment.vic.gov.au/conserving-...\n4820      https://www.legislation.qld.gov.au/view/html/i...\n76459     https://www.legislation.sa.gov.au/LZ/C/A/NATIO...\n268574    https://www.legislation.sa.gov.au/lz?path=%2FC...\nName: url, Length: 5262, dtype: object"
     },
     "execution_count": 10,
     "metadata": {},
     "output_type": "execute_result"
    }
   ],
   "source": [
    "# list of unique Aust Govt urls\n",
    "urldf = df['url'].drop_duplicates().sort_values()\n",
    "urldf = urldf[pd.Series(urldf).str.contains(\".gov.au\")]\n",
    "urldf"
   ],
   "metadata": {
    "collapsed": false,
    "pycharm": {
     "name": "#%%\n"
    },
    "ExecuteTime": {
     "end_time": "2023-12-19T02:26:07.492419Z",
     "start_time": "2023-12-19T02:26:07.313683Z"
    }
   }
  },
  {
   "cell_type": "code",
   "execution_count": 11,
   "outputs": [
    {
     "data": {
      "text/plain": "            id taxon_id  user_id place_id source_id  \\\n106517  268186   100080  1138587     6744             \n101049  268138   100118  1138587     6744             \n104990  268168   100127  1138587     6744             \n257147  271765  1002188   708886     7308             \n256530  271143  1002207   708886     7308             \n...        ...      ...      ...      ...       ...   \n259659  264607    99971  3249428     7830             \n259041  273522    99972   708886     6829             \n260913  153613    99973   708886     6827     16654   \n238963  153742    99974   708886     6827     16654   \n238859  153597    99977   708886     6827     16654   \n\n                                                authority  \\\n106517                                                      \n101049                                                      \n104990                                                      \n257147          Qld Department of Environment and Science   \n256530          Qld Department of Environment and Science   \n...                                                   ...   \n259659  Victorian Department of Energy, Environment an...   \n259041             Threatened Species Protection Act 1995   \n260913  WA Deparment of Biodiversity, Conservation and...   \n238963  WA Deparment of Biodiversity, Conservation and...   \n238859  WA Deparment of Biodiversity, Conservation and...   \n\n                       status  \\\n106517             Not listed   \n101049             Not listed   \n104990             Not listed   \n257147  Critically Endangered   \n256530  Special least concern   \n...                       ...   \n259659             Endangered   \n259041             Vulnerable   \n260913  Critically Endangered   \n238963             Endangered   \n238859             Endangered   \n\n                                                      url description  \\\n106517                                                                  \n101049                                                                  \n104990                                                                  \n257147  https://apps.des.qld.gov.au/species-search/det...               \n256530  https://apps.des.qld.gov.au/species-search/det...               \n...                                                   ...         ...   \n259659  https://bie.ala.org.au/species/https://biodive...               \n259041  https://bie.ala.org.au/species/https://biodive...               \n260913  https://bie.ala.org.au/species/https://biodive...               \n238963  https://bie.ala.org.au/species/https://biodive...               \n238859  https://bie.ala.org.au/species/https://biodive...               \n\n       geoprivacy iucn                  created_at  \\\n106517       open   10  2022-10-25 05:20:17.532504   \n101049       open   10  2022-10-25 03:32:38.344862   \n104990       open   10  2022-10-25 03:58:15.923985   \n257147   obscured   30  2023-02-09 20:05:05.626344   \n256530       open   30    2023-02-09 20:04:04.4041   \n...           ...  ...                         ...   \n259659       open   40  2022-06-06 17:00:58.905798   \n259041       open   30  2023-02-09 20:08:14.660235   \n260913   obscured   50   2019-07-23 00:12:11.19598   \n238963   obscured   40  2019-07-23 00:12:41.014669   \n238859   obscured   40  2019-07-23 00:12:07.820529   \n\n                        updated_at         place_name     place_display_name  \n106517  2022-10-25 05:20:17.532504          Australia              Australia  \n101049  2022-10-25 03:32:38.344862          Australia              Australia  \n104990  2022-10-25 03:58:15.923985          Australia              Australia  \n257147  2023-02-09 20:05:05.626344         Queensland         Queensland, AU  \n256530    2023-02-09 20:04:04.4041         Queensland         Queensland, AU  \n...                            ...                ...                    ...  \n259659  2023-02-09 20:09:32.699567           Victoria           Victoria, AU  \n259041  2023-11-09 07:18:29.894362           Tasmania           Tasmania, AU  \n260913  2023-02-09 20:12:22.866063  Western Australia  Western Australia, AU  \n238963  2023-02-09 20:12:23.102495  Western Australia  Western Australia, AU  \n238859  2023-02-09 20:12:23.153812  Western Australia  Western Australia, AU  \n\n[9801 rows x 15 columns]",
      "text/html": "<div>\n<style scoped>\n    .dataframe tbody tr th:only-of-type {\n        vertical-align: middle;\n    }\n\n    .dataframe tbody tr th {\n        vertical-align: top;\n    }\n\n    .dataframe thead th {\n        text-align: right;\n    }\n</style>\n<table border=\"1\" class=\"dataframe\">\n  <thead>\n    <tr style=\"text-align: right;\">\n      <th></th>\n      <th>id</th>\n      <th>taxon_id</th>\n      <th>user_id</th>\n      <th>place_id</th>\n      <th>source_id</th>\n      <th>authority</th>\n      <th>status</th>\n      <th>url</th>\n      <th>description</th>\n      <th>geoprivacy</th>\n      <th>iucn</th>\n      <th>created_at</th>\n      <th>updated_at</th>\n      <th>place_name</th>\n      <th>place_display_name</th>\n    </tr>\n  </thead>\n  <tbody>\n    <tr>\n      <th>106517</th>\n      <td>268186</td>\n      <td>100080</td>\n      <td>1138587</td>\n      <td>6744</td>\n      <td></td>\n      <td></td>\n      <td>Not listed</td>\n      <td></td>\n      <td></td>\n      <td>open</td>\n      <td>10</td>\n      <td>2022-10-25 05:20:17.532504</td>\n      <td>2022-10-25 05:20:17.532504</td>\n      <td>Australia</td>\n      <td>Australia</td>\n    </tr>\n    <tr>\n      <th>101049</th>\n      <td>268138</td>\n      <td>100118</td>\n      <td>1138587</td>\n      <td>6744</td>\n      <td></td>\n      <td></td>\n      <td>Not listed</td>\n      <td></td>\n      <td></td>\n      <td>open</td>\n      <td>10</td>\n      <td>2022-10-25 03:32:38.344862</td>\n      <td>2022-10-25 03:32:38.344862</td>\n      <td>Australia</td>\n      <td>Australia</td>\n    </tr>\n    <tr>\n      <th>104990</th>\n      <td>268168</td>\n      <td>100127</td>\n      <td>1138587</td>\n      <td>6744</td>\n      <td></td>\n      <td></td>\n      <td>Not listed</td>\n      <td></td>\n      <td></td>\n      <td>open</td>\n      <td>10</td>\n      <td>2022-10-25 03:58:15.923985</td>\n      <td>2022-10-25 03:58:15.923985</td>\n      <td>Australia</td>\n      <td>Australia</td>\n    </tr>\n    <tr>\n      <th>257147</th>\n      <td>271765</td>\n      <td>1002188</td>\n      <td>708886</td>\n      <td>7308</td>\n      <td></td>\n      <td>Qld Department of Environment and Science</td>\n      <td>Critically Endangered</td>\n      <td>https://apps.des.qld.gov.au/species-search/det...</td>\n      <td></td>\n      <td>obscured</td>\n      <td>30</td>\n      <td>2023-02-09 20:05:05.626344</td>\n      <td>2023-02-09 20:05:05.626344</td>\n      <td>Queensland</td>\n      <td>Queensland, AU</td>\n    </tr>\n    <tr>\n      <th>256530</th>\n      <td>271143</td>\n      <td>1002207</td>\n      <td>708886</td>\n      <td>7308</td>\n      <td></td>\n      <td>Qld Department of Environment and Science</td>\n      <td>Special least concern</td>\n      <td>https://apps.des.qld.gov.au/species-search/det...</td>\n      <td></td>\n      <td>open</td>\n      <td>30</td>\n      <td>2023-02-09 20:04:04.4041</td>\n      <td>2023-02-09 20:04:04.4041</td>\n      <td>Queensland</td>\n      <td>Queensland, AU</td>\n    </tr>\n    <tr>\n      <th>...</th>\n      <td>...</td>\n      <td>...</td>\n      <td>...</td>\n      <td>...</td>\n      <td>...</td>\n      <td>...</td>\n      <td>...</td>\n      <td>...</td>\n      <td>...</td>\n      <td>...</td>\n      <td>...</td>\n      <td>...</td>\n      <td>...</td>\n      <td>...</td>\n      <td>...</td>\n    </tr>\n    <tr>\n      <th>259659</th>\n      <td>264607</td>\n      <td>99971</td>\n      <td>3249428</td>\n      <td>7830</td>\n      <td></td>\n      <td>Victorian Department of Energy, Environment an...</td>\n      <td>Endangered</td>\n      <td>https://bie.ala.org.au/species/https://biodive...</td>\n      <td></td>\n      <td>open</td>\n      <td>40</td>\n      <td>2022-06-06 17:00:58.905798</td>\n      <td>2023-02-09 20:09:32.699567</td>\n      <td>Victoria</td>\n      <td>Victoria, AU</td>\n    </tr>\n    <tr>\n      <th>259041</th>\n      <td>273522</td>\n      <td>99972</td>\n      <td>708886</td>\n      <td>6829</td>\n      <td></td>\n      <td>Threatened Species Protection Act 1995</td>\n      <td>Vulnerable</td>\n      <td>https://bie.ala.org.au/species/https://biodive...</td>\n      <td></td>\n      <td>open</td>\n      <td>30</td>\n      <td>2023-02-09 20:08:14.660235</td>\n      <td>2023-11-09 07:18:29.894362</td>\n      <td>Tasmania</td>\n      <td>Tasmania, AU</td>\n    </tr>\n    <tr>\n      <th>260913</th>\n      <td>153613</td>\n      <td>99973</td>\n      <td>708886</td>\n      <td>6827</td>\n      <td>16654</td>\n      <td>WA Deparment of Biodiversity, Conservation and...</td>\n      <td>Critically Endangered</td>\n      <td>https://bie.ala.org.au/species/https://biodive...</td>\n      <td></td>\n      <td>obscured</td>\n      <td>50</td>\n      <td>2019-07-23 00:12:11.19598</td>\n      <td>2023-02-09 20:12:22.866063</td>\n      <td>Western Australia</td>\n      <td>Western Australia, AU</td>\n    </tr>\n    <tr>\n      <th>238963</th>\n      <td>153742</td>\n      <td>99974</td>\n      <td>708886</td>\n      <td>6827</td>\n      <td>16654</td>\n      <td>WA Deparment of Biodiversity, Conservation and...</td>\n      <td>Endangered</td>\n      <td>https://bie.ala.org.au/species/https://biodive...</td>\n      <td></td>\n      <td>obscured</td>\n      <td>40</td>\n      <td>2019-07-23 00:12:41.014669</td>\n      <td>2023-02-09 20:12:23.102495</td>\n      <td>Western Australia</td>\n      <td>Western Australia, AU</td>\n    </tr>\n    <tr>\n      <th>238859</th>\n      <td>153597</td>\n      <td>99977</td>\n      <td>708886</td>\n      <td>6827</td>\n      <td>16654</td>\n      <td>WA Deparment of Biodiversity, Conservation and...</td>\n      <td>Endangered</td>\n      <td>https://bie.ala.org.au/species/https://biodive...</td>\n      <td></td>\n      <td>obscured</td>\n      <td>40</td>\n      <td>2019-07-23 00:12:07.820529</td>\n      <td>2023-02-09 20:12:23.153812</td>\n      <td>Western Australia</td>\n      <td>Western Australia, AU</td>\n    </tr>\n  </tbody>\n</table>\n<p>9801 rows × 15 columns</p>\n</div>"
     },
     "execution_count": 11,
     "metadata": {},
     "output_type": "execute_result"
    }
   ],
   "source": [
    "# filter out all of these concat all, along with any records created by us (user id=708886) and remove duplicates\n",
    "dfaus = pd.concat([df.apply(lambda row: row[df['place_display_name'].isin(placedisplaydf)]),\n",
    "                   df.apply(lambda row: row[df['place_name'].isin(placedf)]),\n",
    "                   df.apply(lambda row: row[df['url'].isin(urldf)]),\n",
    "                   df.apply(lambda row: row[df['user_id'] == '708886'])]).drop_duplicates()\n",
    "dfaus.sort_values(['taxon_id','user_id'])"
   ],
   "metadata": {
    "collapsed": false,
    "pycharm": {
     "name": "#%%\n"
    },
    "ExecuteTime": {
     "end_time": "2023-12-19T02:26:21.900604Z",
     "start_time": "2023-12-19T02:26:21.527096Z"
    }
   }
  },
  {
   "cell_type": "markdown",
   "source": [
    "## Retrieve taxon info from iNaturalist\n",
    "The above file contains only the taxon identifier. Retrieve the full taxon name and classifications."
   ],
   "metadata": {
    "collapsed": false
   }
  },
  {
   "cell_type": "code",
   "execution_count": 14,
   "outputs": [],
   "source": [
    "%%script echo skipping # comment this line to download dataset from the web and save locally - add inaturalist-taxonomy.dwca.zip to .gitignore\n",
    "\n",
    "# save the file to the source data directory\n",
    "import requests\n",
    "\n",
    "url = \"https://www.inaturalist.org/taxa/inaturalist-taxonomy.dwca.zip\"\n",
    "filename = url.split(\"/\")[-1]\n",
    "\n",
    "r = requests.get(url)\n",
    "with open(dataindir + filename, 'wb') as f:\n",
    "    f.write(r.content)\n",
    "# reminder: add inaturalist-taxonomy.dwca.zip to .gitignore"
   ],
   "metadata": {
    "collapsed": false,
    "ExecuteTime": {
     "end_time": "2023-12-19T02:31:54.026162Z",
     "start_time": "2023-12-19T02:31:30.881896Z"
    }
   }
  },
  {
   "cell_type": "code",
   "execution_count": 15,
   "outputs": [
    {
     "data": {
      "text/plain": "   id                              taxonID  \\\n0   1   https://www.inaturalist.org/taxa/1   \n1   2   https://www.inaturalist.org/taxa/2   \n2   3   https://www.inaturalist.org/taxa/3   \n3   4   https://www.inaturalist.org/taxa/4   \n4   5   https://www.inaturalist.org/taxa/5   \n5   6   https://www.inaturalist.org/taxa/6   \n6   7   https://www.inaturalist.org/taxa/7   \n7  12  https://www.inaturalist.org/taxa/12   \n8  13  https://www.inaturalist.org/taxa/13   \n9  14  https://www.inaturalist.org/taxa/14   \n\n                            identifier  \\\n0   https://www.inaturalist.org/taxa/1   \n1   https://www.inaturalist.org/taxa/2   \n2   https://www.inaturalist.org/taxa/3   \n3   https://www.inaturalist.org/taxa/4   \n4   https://www.inaturalist.org/taxa/5   \n5   https://www.inaturalist.org/taxa/6   \n6   https://www.inaturalist.org/taxa/7   \n7  https://www.inaturalist.org/taxa/12   \n8  https://www.inaturalist.org/taxa/13   \n9  https://www.inaturalist.org/taxa/14   \n\n                         parentNameUsageID   kingdom    phylum class  \\\n0   https://www.inaturalist.org/taxa/48460  Animalia       NaN   NaN   \n1       https://www.inaturalist.org/taxa/1  Animalia  Chordata   NaN   \n2  https://www.inaturalist.org/taxa/355675  Animalia  Chordata  Aves   \n3       https://www.inaturalist.org/taxa/3  Animalia  Chordata  Aves   \n4       https://www.inaturalist.org/taxa/4  Animalia  Chordata  Aves   \n5       https://www.inaturalist.org/taxa/5  Animalia  Chordata  Aves   \n6       https://www.inaturalist.org/taxa/6  Animalia  Chordata  Aves   \n7   https://www.inaturalist.org/taxa/71262  Animalia  Chordata  Aves   \n8      https://www.inaturalist.org/taxa/12  Animalia  Chordata  Aves   \n9      https://www.inaturalist.org/taxa/13  Animalia  Chordata  Aves   \n\n           order      family    genus specificEpithet infraspecificEpithet  \\\n0            NaN         NaN      NaN             NaN                  NaN   \n1            NaN         NaN      NaN             NaN                  NaN   \n2            NaN         NaN      NaN             NaN                  NaN   \n3     Gruiformes         NaN      NaN             NaN                  NaN   \n4     Gruiformes    Aramidae      NaN             NaN                  NaN   \n5     Gruiformes    Aramidae   Aramus             NaN                  NaN   \n6     Gruiformes    Aramidae   Aramus        guarauna                  NaN   \n7  Cariamiformes  Cariamidae      NaN             NaN                  NaN   \n8  Cariamiformes  Cariamidae  Cariama             NaN                  NaN   \n9  Cariamiformes  Cariamidae  Cariama        cristata                  NaN   \n\n               modified    scientificName taxonRank  \\\n0  2021-11-02T06:05:44Z          Animalia   kingdom   \n1  2021-11-23T00:40:18Z          Chordata    phylum   \n2  2023-04-18T02:04:33Z              Aves     class   \n3  2019-10-19T15:14:18Z        Gruiformes     order   \n4  2022-03-24T16:38:28Z          Aramidae    family   \n5  2020-02-11T06:43:19Z            Aramus     genus   \n6  2022-03-30T18:35:55Z   Aramus guarauna   species   \n7  2022-03-24T16:37:54Z        Cariamidae    family   \n8  2018-12-19T08:58:24Z           Cariama     genus   \n9  2021-07-06T02:04:43Z  Cariama cristata   species   \n\n                                          references  \n0  http://www.catalogueoflife.org/annual-checklis...  \n1  http://www.catalogueoflife.org/annual-checklis...  \n2  http://www.catalogueoflife.org/annual-checklis...  \n3  http://www.catalogueoflife.org/annual-checklis...  \n4  http://www.birdlife.org/datazone/speciessearch...  \n5  http://www.birdlife.org/datazone/speciessearch...  \n6  http://www.birdlife.org/datazone/speciesfactsh...  \n7  http://www.birdlife.org/datazone/speciessearch...  \n8  http://www.birdlife.org/datazone/speciessearch...  \n9  http://www.birdlife.org/datazone/speciesfactsh...  ",
      "text/html": "<div>\n<style scoped>\n    .dataframe tbody tr th:only-of-type {\n        vertical-align: middle;\n    }\n\n    .dataframe tbody tr th {\n        vertical-align: top;\n    }\n\n    .dataframe thead th {\n        text-align: right;\n    }\n</style>\n<table border=\"1\" class=\"dataframe\">\n  <thead>\n    <tr style=\"text-align: right;\">\n      <th></th>\n      <th>id</th>\n      <th>taxonID</th>\n      <th>identifier</th>\n      <th>parentNameUsageID</th>\n      <th>kingdom</th>\n      <th>phylum</th>\n      <th>class</th>\n      <th>order</th>\n      <th>family</th>\n      <th>genus</th>\n      <th>specificEpithet</th>\n      <th>infraspecificEpithet</th>\n      <th>modified</th>\n      <th>scientificName</th>\n      <th>taxonRank</th>\n      <th>references</th>\n    </tr>\n  </thead>\n  <tbody>\n    <tr>\n      <th>0</th>\n      <td>1</td>\n      <td>https://www.inaturalist.org/taxa/1</td>\n      <td>https://www.inaturalist.org/taxa/1</td>\n      <td>https://www.inaturalist.org/taxa/48460</td>\n      <td>Animalia</td>\n      <td>NaN</td>\n      <td>NaN</td>\n      <td>NaN</td>\n      <td>NaN</td>\n      <td>NaN</td>\n      <td>NaN</td>\n      <td>NaN</td>\n      <td>2021-11-02T06:05:44Z</td>\n      <td>Animalia</td>\n      <td>kingdom</td>\n      <td>http://www.catalogueoflife.org/annual-checklis...</td>\n    </tr>\n    <tr>\n      <th>1</th>\n      <td>2</td>\n      <td>https://www.inaturalist.org/taxa/2</td>\n      <td>https://www.inaturalist.org/taxa/2</td>\n      <td>https://www.inaturalist.org/taxa/1</td>\n      <td>Animalia</td>\n      <td>Chordata</td>\n      <td>NaN</td>\n      <td>NaN</td>\n      <td>NaN</td>\n      <td>NaN</td>\n      <td>NaN</td>\n      <td>NaN</td>\n      <td>2021-11-23T00:40:18Z</td>\n      <td>Chordata</td>\n      <td>phylum</td>\n      <td>http://www.catalogueoflife.org/annual-checklis...</td>\n    </tr>\n    <tr>\n      <th>2</th>\n      <td>3</td>\n      <td>https://www.inaturalist.org/taxa/3</td>\n      <td>https://www.inaturalist.org/taxa/3</td>\n      <td>https://www.inaturalist.org/taxa/355675</td>\n      <td>Animalia</td>\n      <td>Chordata</td>\n      <td>Aves</td>\n      <td>NaN</td>\n      <td>NaN</td>\n      <td>NaN</td>\n      <td>NaN</td>\n      <td>NaN</td>\n      <td>2023-04-18T02:04:33Z</td>\n      <td>Aves</td>\n      <td>class</td>\n      <td>http://www.catalogueoflife.org/annual-checklis...</td>\n    </tr>\n    <tr>\n      <th>3</th>\n      <td>4</td>\n      <td>https://www.inaturalist.org/taxa/4</td>\n      <td>https://www.inaturalist.org/taxa/4</td>\n      <td>https://www.inaturalist.org/taxa/3</td>\n      <td>Animalia</td>\n      <td>Chordata</td>\n      <td>Aves</td>\n      <td>Gruiformes</td>\n      <td>NaN</td>\n      <td>NaN</td>\n      <td>NaN</td>\n      <td>NaN</td>\n      <td>2019-10-19T15:14:18Z</td>\n      <td>Gruiformes</td>\n      <td>order</td>\n      <td>http://www.catalogueoflife.org/annual-checklis...</td>\n    </tr>\n    <tr>\n      <th>4</th>\n      <td>5</td>\n      <td>https://www.inaturalist.org/taxa/5</td>\n      <td>https://www.inaturalist.org/taxa/5</td>\n      <td>https://www.inaturalist.org/taxa/4</td>\n      <td>Animalia</td>\n      <td>Chordata</td>\n      <td>Aves</td>\n      <td>Gruiformes</td>\n      <td>Aramidae</td>\n      <td>NaN</td>\n      <td>NaN</td>\n      <td>NaN</td>\n      <td>2022-03-24T16:38:28Z</td>\n      <td>Aramidae</td>\n      <td>family</td>\n      <td>http://www.birdlife.org/datazone/speciessearch...</td>\n    </tr>\n    <tr>\n      <th>5</th>\n      <td>6</td>\n      <td>https://www.inaturalist.org/taxa/6</td>\n      <td>https://www.inaturalist.org/taxa/6</td>\n      <td>https://www.inaturalist.org/taxa/5</td>\n      <td>Animalia</td>\n      <td>Chordata</td>\n      <td>Aves</td>\n      <td>Gruiformes</td>\n      <td>Aramidae</td>\n      <td>Aramus</td>\n      <td>NaN</td>\n      <td>NaN</td>\n      <td>2020-02-11T06:43:19Z</td>\n      <td>Aramus</td>\n      <td>genus</td>\n      <td>http://www.birdlife.org/datazone/speciessearch...</td>\n    </tr>\n    <tr>\n      <th>6</th>\n      <td>7</td>\n      <td>https://www.inaturalist.org/taxa/7</td>\n      <td>https://www.inaturalist.org/taxa/7</td>\n      <td>https://www.inaturalist.org/taxa/6</td>\n      <td>Animalia</td>\n      <td>Chordata</td>\n      <td>Aves</td>\n      <td>Gruiformes</td>\n      <td>Aramidae</td>\n      <td>Aramus</td>\n      <td>guarauna</td>\n      <td>NaN</td>\n      <td>2022-03-30T18:35:55Z</td>\n      <td>Aramus guarauna</td>\n      <td>species</td>\n      <td>http://www.birdlife.org/datazone/speciesfactsh...</td>\n    </tr>\n    <tr>\n      <th>7</th>\n      <td>12</td>\n      <td>https://www.inaturalist.org/taxa/12</td>\n      <td>https://www.inaturalist.org/taxa/12</td>\n      <td>https://www.inaturalist.org/taxa/71262</td>\n      <td>Animalia</td>\n      <td>Chordata</td>\n      <td>Aves</td>\n      <td>Cariamiformes</td>\n      <td>Cariamidae</td>\n      <td>NaN</td>\n      <td>NaN</td>\n      <td>NaN</td>\n      <td>2022-03-24T16:37:54Z</td>\n      <td>Cariamidae</td>\n      <td>family</td>\n      <td>http://www.birdlife.org/datazone/speciessearch...</td>\n    </tr>\n    <tr>\n      <th>8</th>\n      <td>13</td>\n      <td>https://www.inaturalist.org/taxa/13</td>\n      <td>https://www.inaturalist.org/taxa/13</td>\n      <td>https://www.inaturalist.org/taxa/12</td>\n      <td>Animalia</td>\n      <td>Chordata</td>\n      <td>Aves</td>\n      <td>Cariamiformes</td>\n      <td>Cariamidae</td>\n      <td>Cariama</td>\n      <td>NaN</td>\n      <td>NaN</td>\n      <td>2018-12-19T08:58:24Z</td>\n      <td>Cariama</td>\n      <td>genus</td>\n      <td>http://www.birdlife.org/datazone/speciessearch...</td>\n    </tr>\n    <tr>\n      <th>9</th>\n      <td>14</td>\n      <td>https://www.inaturalist.org/taxa/14</td>\n      <td>https://www.inaturalist.org/taxa/14</td>\n      <td>https://www.inaturalist.org/taxa/13</td>\n      <td>Animalia</td>\n      <td>Chordata</td>\n      <td>Aves</td>\n      <td>Cariamiformes</td>\n      <td>Cariamidae</td>\n      <td>Cariama</td>\n      <td>cristata</td>\n      <td>NaN</td>\n      <td>2021-07-06T02:04:43Z</td>\n      <td>Cariama cristata</td>\n      <td>species</td>\n      <td>http://www.birdlife.org/datazone/speciesfactsh...</td>\n    </tr>\n  </tbody>\n</table>\n</div>"
     },
     "execution_count": 15,
     "metadata": {},
     "output_type": "execute_result"
    }
   ],
   "source": [
    "# open the file in the source data directory and read the taxa.csv file\n",
    "import zipfile\n",
    "url = \"https://www.inaturalist.org/taxa/inaturalist-taxonomy.dwca.zip\"\n",
    "filename = url.split(\"/\")[-1]\n",
    "\n",
    "z=zipfile.ZipFile(dataindir + filename)\n",
    "\n",
    "with z.open('taxa.csv') as from_archive:\n",
    "    inattaxa = pd.read_csv(from_archive)\n",
    "z.close()\n",
    "\n",
    "inattaxa.head(10)"
   ],
   "metadata": {
    "collapsed": false,
    "pycharm": {
     "name": "#%%\n"
    },
    "ExecuteTime": {
     "end_time": "2023-12-19T02:34:18.005246Z",
     "start_time": "2023-12-19T02:34:14.047534Z"
    }
   }
  },
  {
   "cell_type": "code",
   "execution_count": 16,
   "outputs": [
    {
     "data": {
      "text/plain": "1277616"
     },
     "execution_count": 16,
     "metadata": {},
     "output_type": "execute_result"
    }
   ],
   "source": [
    "len(inattaxa) # it's quite big"
   ],
   "metadata": {
    "collapsed": false,
    "pycharm": {
     "name": "#%%\n"
    },
    "ExecuteTime": {
     "end_time": "2023-12-19T02:34:26.331087Z",
     "start_time": "2023-12-19T02:34:26.326453Z"
    }
   }
  },
  {
   "cell_type": "code",
   "execution_count": 17,
   "outputs": [
    {
     "data": {
      "text/plain": "     taxon_id       id                                   taxonID  \\\n269    100080   100080   https://www.inaturalist.org/taxa/100080   \n229    100118   100118   https://www.inaturalist.org/taxa/100118   \n254    100127   100127   https://www.inaturalist.org/taxa/100127   \n3388  1002188  1002188  https://www.inaturalist.org/taxa/1002188   \n2906  1002207  1002207  https://www.inaturalist.org/taxa/1002207   \n...       ...      ...                                       ...   \n7037  1076724      NaN                                       NaN   \n7038  1251810      NaN                                       NaN   \n7062  1251860      NaN                                       NaN   \n7087  1076433      NaN                                       NaN   \n8122    50744      NaN                                       NaN   \n\n                                    identifier  \\\n269    https://www.inaturalist.org/taxa/100080   \n229    https://www.inaturalist.org/taxa/100118   \n254    https://www.inaturalist.org/taxa/100127   \n3388  https://www.inaturalist.org/taxa/1002188   \n2906  https://www.inaturalist.org/taxa/1002207   \n...                                        ...   \n7037                                       NaN   \n7038                                       NaN   \n7062                                       NaN   \n7087                                       NaN   \n8122                                       NaN   \n\n                            parentNameUsageID   kingdom        phylum  \\\n269    https://www.inaturalist.org/taxa/49497  Animalia      Chordata   \n229    https://www.inaturalist.org/taxa/49497  Animalia      Chordata   \n254    https://www.inaturalist.org/taxa/49497  Animalia      Chordata   \n3388   https://www.inaturalist.org/taxa/60445   Plantae  Tracheophyta   \n2906  https://www.inaturalist.org/taxa/142600   Plantae  Tracheophyta   \n...                                       ...       ...           ...   \n7037                                      NaN       NaN           NaN   \n7038                                      NaN       NaN           NaN   \n7062                                      NaN       NaN           NaN   \n7087                                      NaN       NaN           NaN   \n8122                                      NaN       NaN           NaN   \n\n               class            order            family          genus  \\\n269   Actinopterygii      Perciformes     Epinephelidae    Epinephelus   \n229   Actinopterygii      Perciformes     Epinephelidae    Epinephelus   \n254   Actinopterygii      Perciformes     Epinephelidae    Epinephelus   \n3388  Polypodiopsida  Hymenophyllales  Hymenophyllaceae  Hymenophyllum   \n2906  Polypodiopsida      Schizaeales      Schizaeaceae  Actinostachys   \n...              ...              ...               ...            ...   \n7037             NaN              NaN               NaN            NaN   \n7038             NaN              NaN               NaN            NaN   \n7062             NaN              NaN               NaN            NaN   \n7087             NaN              NaN               NaN            NaN   \n8122             NaN              NaN               NaN            NaN   \n\n     specificEpithet infraspecificEpithet              modified  \\\n269         bleekeri                  NaN  2019-11-24T03:20:37Z   \n229      malabaricus                  NaN  2019-11-23T03:14:55Z   \n254    polyphekadion                  NaN  2019-02-06T23:51:50Z   \n3388          whitei                  NaN  2020-01-11T06:34:24Z   \n2906         wagneri                  NaN  2020-01-11T06:34:46Z   \n...              ...                  ...                   ...   \n7037             NaN                  NaN                   NaN   \n7038             NaN                  NaN                   NaN   \n7062             NaN                  NaN                   NaN   \n7087             NaN                  NaN                   NaN   \n8122             NaN                  NaN                   NaN   \n\n                 scientificName taxonRank               references  \n269        Epinephelus bleekeri   species  http://www.fishbase.org  \n229     Epinephelus malabaricus   species  http://www.fishbase.org  \n254   Epinephelus polyphekadion   species  http://www.fishbase.org  \n3388       Hymenophyllum whitei   species                      NaN  \n2906      Actinostachys wagneri   species                      NaN  \n...                         ...       ...                      ...  \n7037                        NaN       NaN                      NaN  \n7038                        NaN       NaN                      NaN  \n7062                        NaN       NaN                      NaN  \n7087                        NaN       NaN                      NaN  \n8122                        NaN       NaN                      NaN  \n\n[8132 rows x 17 columns]",
      "text/html": "<div>\n<style scoped>\n    .dataframe tbody tr th:only-of-type {\n        vertical-align: middle;\n    }\n\n    .dataframe tbody tr th {\n        vertical-align: top;\n    }\n\n    .dataframe thead th {\n        text-align: right;\n    }\n</style>\n<table border=\"1\" class=\"dataframe\">\n  <thead>\n    <tr style=\"text-align: right;\">\n      <th></th>\n      <th>taxon_id</th>\n      <th>id</th>\n      <th>taxonID</th>\n      <th>identifier</th>\n      <th>parentNameUsageID</th>\n      <th>kingdom</th>\n      <th>phylum</th>\n      <th>class</th>\n      <th>order</th>\n      <th>family</th>\n      <th>genus</th>\n      <th>specificEpithet</th>\n      <th>infraspecificEpithet</th>\n      <th>modified</th>\n      <th>scientificName</th>\n      <th>taxonRank</th>\n      <th>references</th>\n    </tr>\n  </thead>\n  <tbody>\n    <tr>\n      <th>269</th>\n      <td>100080</td>\n      <td>100080</td>\n      <td>https://www.inaturalist.org/taxa/100080</td>\n      <td>https://www.inaturalist.org/taxa/100080</td>\n      <td>https://www.inaturalist.org/taxa/49497</td>\n      <td>Animalia</td>\n      <td>Chordata</td>\n      <td>Actinopterygii</td>\n      <td>Perciformes</td>\n      <td>Epinephelidae</td>\n      <td>Epinephelus</td>\n      <td>bleekeri</td>\n      <td>NaN</td>\n      <td>2019-11-24T03:20:37Z</td>\n      <td>Epinephelus bleekeri</td>\n      <td>species</td>\n      <td>http://www.fishbase.org</td>\n    </tr>\n    <tr>\n      <th>229</th>\n      <td>100118</td>\n      <td>100118</td>\n      <td>https://www.inaturalist.org/taxa/100118</td>\n      <td>https://www.inaturalist.org/taxa/100118</td>\n      <td>https://www.inaturalist.org/taxa/49497</td>\n      <td>Animalia</td>\n      <td>Chordata</td>\n      <td>Actinopterygii</td>\n      <td>Perciformes</td>\n      <td>Epinephelidae</td>\n      <td>Epinephelus</td>\n      <td>malabaricus</td>\n      <td>NaN</td>\n      <td>2019-11-23T03:14:55Z</td>\n      <td>Epinephelus malabaricus</td>\n      <td>species</td>\n      <td>http://www.fishbase.org</td>\n    </tr>\n    <tr>\n      <th>254</th>\n      <td>100127</td>\n      <td>100127</td>\n      <td>https://www.inaturalist.org/taxa/100127</td>\n      <td>https://www.inaturalist.org/taxa/100127</td>\n      <td>https://www.inaturalist.org/taxa/49497</td>\n      <td>Animalia</td>\n      <td>Chordata</td>\n      <td>Actinopterygii</td>\n      <td>Perciformes</td>\n      <td>Epinephelidae</td>\n      <td>Epinephelus</td>\n      <td>polyphekadion</td>\n      <td>NaN</td>\n      <td>2019-02-06T23:51:50Z</td>\n      <td>Epinephelus polyphekadion</td>\n      <td>species</td>\n      <td>http://www.fishbase.org</td>\n    </tr>\n    <tr>\n      <th>3388</th>\n      <td>1002188</td>\n      <td>1002188</td>\n      <td>https://www.inaturalist.org/taxa/1002188</td>\n      <td>https://www.inaturalist.org/taxa/1002188</td>\n      <td>https://www.inaturalist.org/taxa/60445</td>\n      <td>Plantae</td>\n      <td>Tracheophyta</td>\n      <td>Polypodiopsida</td>\n      <td>Hymenophyllales</td>\n      <td>Hymenophyllaceae</td>\n      <td>Hymenophyllum</td>\n      <td>whitei</td>\n      <td>NaN</td>\n      <td>2020-01-11T06:34:24Z</td>\n      <td>Hymenophyllum whitei</td>\n      <td>species</td>\n      <td>NaN</td>\n    </tr>\n    <tr>\n      <th>2906</th>\n      <td>1002207</td>\n      <td>1002207</td>\n      <td>https://www.inaturalist.org/taxa/1002207</td>\n      <td>https://www.inaturalist.org/taxa/1002207</td>\n      <td>https://www.inaturalist.org/taxa/142600</td>\n      <td>Plantae</td>\n      <td>Tracheophyta</td>\n      <td>Polypodiopsida</td>\n      <td>Schizaeales</td>\n      <td>Schizaeaceae</td>\n      <td>Actinostachys</td>\n      <td>wagneri</td>\n      <td>NaN</td>\n      <td>2020-01-11T06:34:46Z</td>\n      <td>Actinostachys wagneri</td>\n      <td>species</td>\n      <td>NaN</td>\n    </tr>\n    <tr>\n      <th>...</th>\n      <td>...</td>\n      <td>...</td>\n      <td>...</td>\n      <td>...</td>\n      <td>...</td>\n      <td>...</td>\n      <td>...</td>\n      <td>...</td>\n      <td>...</td>\n      <td>...</td>\n      <td>...</td>\n      <td>...</td>\n      <td>...</td>\n      <td>...</td>\n      <td>...</td>\n      <td>...</td>\n      <td>...</td>\n    </tr>\n    <tr>\n      <th>7037</th>\n      <td>1076724</td>\n      <td>NaN</td>\n      <td>NaN</td>\n      <td>NaN</td>\n      <td>NaN</td>\n      <td>NaN</td>\n      <td>NaN</td>\n      <td>NaN</td>\n      <td>NaN</td>\n      <td>NaN</td>\n      <td>NaN</td>\n      <td>NaN</td>\n      <td>NaN</td>\n      <td>NaN</td>\n      <td>NaN</td>\n      <td>NaN</td>\n      <td>NaN</td>\n    </tr>\n    <tr>\n      <th>7038</th>\n      <td>1251810</td>\n      <td>NaN</td>\n      <td>NaN</td>\n      <td>NaN</td>\n      <td>NaN</td>\n      <td>NaN</td>\n      <td>NaN</td>\n      <td>NaN</td>\n      <td>NaN</td>\n      <td>NaN</td>\n      <td>NaN</td>\n      <td>NaN</td>\n      <td>NaN</td>\n      <td>NaN</td>\n      <td>NaN</td>\n      <td>NaN</td>\n      <td>NaN</td>\n    </tr>\n    <tr>\n      <th>7062</th>\n      <td>1251860</td>\n      <td>NaN</td>\n      <td>NaN</td>\n      <td>NaN</td>\n      <td>NaN</td>\n      <td>NaN</td>\n      <td>NaN</td>\n      <td>NaN</td>\n      <td>NaN</td>\n      <td>NaN</td>\n      <td>NaN</td>\n      <td>NaN</td>\n      <td>NaN</td>\n      <td>NaN</td>\n      <td>NaN</td>\n      <td>NaN</td>\n      <td>NaN</td>\n    </tr>\n    <tr>\n      <th>7087</th>\n      <td>1076433</td>\n      <td>NaN</td>\n      <td>NaN</td>\n      <td>NaN</td>\n      <td>NaN</td>\n      <td>NaN</td>\n      <td>NaN</td>\n      <td>NaN</td>\n      <td>NaN</td>\n      <td>NaN</td>\n      <td>NaN</td>\n      <td>NaN</td>\n      <td>NaN</td>\n      <td>NaN</td>\n      <td>NaN</td>\n      <td>NaN</td>\n      <td>NaN</td>\n    </tr>\n    <tr>\n      <th>8122</th>\n      <td>50744</td>\n      <td>NaN</td>\n      <td>NaN</td>\n      <td>NaN</td>\n      <td>NaN</td>\n      <td>NaN</td>\n      <td>NaN</td>\n      <td>NaN</td>\n      <td>NaN</td>\n      <td>NaN</td>\n      <td>NaN</td>\n      <td>NaN</td>\n      <td>NaN</td>\n      <td>NaN</td>\n      <td>NaN</td>\n      <td>NaN</td>\n      <td>NaN</td>\n    </tr>\n  </tbody>\n</table>\n<p>8132 rows × 17 columns</p>\n</div>"
     },
     "execution_count": 17,
     "metadata": {},
     "output_type": "execute_result"
    }
   ],
   "source": [
    "# left join to filter just the taxon that have statuses that we're interested in\n",
    "austtaxaids = dfaus['taxon_id'].drop_duplicates()\n",
    "inattaxa['id'] = inattaxa['id'].astype(str)\n",
    "inataustaxa = pd.merge(austtaxaids, inattaxa, how=\"left\", left_on='taxon_id', right_on='id')\n",
    "inataustaxa.sort_values('id')"
   ],
   "metadata": {
    "collapsed": false,
    "pycharm": {
     "name": "#%%\n"
    },
    "ExecuteTime": {
     "end_time": "2023-12-19T02:34:36.302269Z",
     "start_time": "2023-12-19T02:34:35.781701Z"
    }
   }
  },
  {
   "cell_type": "markdown",
   "source": [
    "## Retrieve inactive taxa names from API"
   ],
   "metadata": {
    "collapsed": false
   }
  },
  {
   "cell_type": "code",
   "execution_count": 18,
   "outputs": [
    {
     "data": {
      "text/plain": "7       1262199\n30       508987\n67      1264437\n75      1264442\n81       370219\n         ...   \n7037    1076724\n7038    1251810\n7062    1251860\n7087    1076433\n8122      50744\nName: taxon_id, Length: 164, dtype: object"
     },
     "execution_count": 18,
     "metadata": {},
     "output_type": "execute_result"
    }
   ],
   "source": [
    "# looking at those that didn't match in the left join - Inactive or problem taxon - need to go to the API to get the detail\n",
    "unmatchedtaxonids = inataustaxa[inataustaxa['id'].isna()]['taxon_id']\n",
    "unmatchedtaxonids"
   ],
   "metadata": {
    "collapsed": false,
    "pycharm": {
     "name": "#%%\n"
    },
    "ExecuteTime": {
     "end_time": "2023-12-19T02:34:44.090849Z",
     "start_time": "2023-12-19T02:34:44.085541Z"
    }
   }
  },
  {
   "cell_type": "code",
   "execution_count": 20,
   "outputs": [
    {
     "name": "stdout",
     "output_type": "stream",
     "text": [
      "1 1262199\n",
      "2 508987\n",
      "3 1264437\n",
      "4 1264442\n",
      "5 370219\n",
      "6 1202976\n",
      "7 1061113\n",
      "8 116845\n",
      "9 538087\n",
      "10 1064159\n",
      "11 4075\n",
      "12 319393\n",
      "13 1094414\n",
      "14 954413\n",
      "15 586067\n",
      "16 144487\n",
      "17 937255\n",
      "18 937256\n",
      "19 937266\n",
      "20 405825\n",
      "21 1136642\n",
      "22 1275718\n",
      "23 869830\n",
      "24 145357\n",
      "25 403648\n",
      "26 491475\n",
      "27 899197\n",
      "28 138100\n",
      "29 32164\n",
      "30 340741\n",
      "31 654262\n",
      "32 158801\n",
      "33 37279\n",
      "34 140695\n",
      "35 109170\n",
      "36 602508\n",
      "37 162565\n",
      "38 634645\n",
      "39 369372\n",
      "40 770039\n",
      "41 770117\n",
      "42 83595\n",
      "43 770200\n",
      "44 339972\n",
      "45 770008\n",
      "46 769948\n",
      "47 40743\n",
      "48 770189\n",
      "49 45206\n",
      "50 427051\n",
      "51 769981\n",
      "52 770032\n",
      "53 769943\n",
      "54 425785\n",
      "55 851155\n",
      "56 145672\n",
      "57 770132\n",
      "58 541617\n",
      "59 103669\n",
      "60 4072\n",
      "61 369374\n",
      "62 851221\n",
      "63 770186\n",
      "64 103668\n",
      "65 369320\n",
      "66 109527\n",
      "67 769954\n",
      "68 770111\n",
      "69 25242\n",
      "70 145456\n",
      "71 770035\n",
      "72 318740\n",
      "73 208141\n",
      "74 42959\n",
      "75 323867\n",
      "76 1091300\n",
      "77 1038965\n",
      "78 525439\n",
      "79 1132352\n",
      "80 733329\n",
      "81 460983\n",
      "82 560655\n",
      "83 534404\n",
      "84 323944\n",
      "85 19245\n",
      "86 1251731\n",
      "87 4812\n",
      "88 19010\n",
      "89 4785\n",
      "90 369278\n",
      "91 1074504\n",
      "92 1230875\n",
      "93 1276243\n",
      "94 1108936\n",
      "95 5315\n",
      "96 42886\n",
      "97 42887\n",
      "98 870447\n",
      "99 323753\n",
      "100 441245\n",
      "101 506956\n",
      "102 538090\n",
      "103 405033\n",
      "104 4826\n",
      "105 4810\n",
      "106 50381\n",
      "107 723110\n",
      "108 725528\n",
      "109 19008\n",
      "110 437639\n",
      "111 559002\n",
      "112 413431\n",
      "113 338992\n",
      "114 413443\n",
      "115 42877\n",
      "116 412835\n",
      "117 1250098\n",
      "118 4091\n",
      "119 628005\n",
      "120 437546\n",
      "121 952472\n",
      "122 876587\n",
      "123 1132364\n",
      "124 972690\n",
      "125 1092262\n",
      "126 404220\n",
      "127 460984\n",
      "128 708193\n",
      "129 849232\n",
      "130 849226\n",
      "131 1255178\n",
      "132 1089580\n",
      "133 1132359\n",
      "134 235929\n",
      "135 181674\n",
      "136 1084240\n",
      "137 1092416\n",
      "138 1132376\n",
      "139 1251857\n",
      "140 820620\n",
      "141 1251861\n",
      "142 1132386\n",
      "143 1060195\n",
      "144 1071303\n",
      "145 1132392\n",
      "146 404337\n",
      "147 99973\n",
      "148 208015\n",
      "149 436388\n",
      "150 25244\n",
      "151 25247\n",
      "152 1123428\n",
      "153 1293532\n",
      "154 1178665\n",
      "155 1251720\n",
      "156 1251735\n",
      "157 1251736\n",
      "158 1185551\n",
      "159 1132366\n",
      "160 1076724\n",
      "161 1251810\n",
      "162 1251860\n",
      "163 1076433\n",
      "164 50744\n"
     ]
    }
   ],
   "source": [
    "# %%script echo skipping # comment this line to download dataset from the web and save locally - add inaturalist-taxonomy.dwca.zip to .gitignore\n",
    "\n",
    "# to go the API to retrieve taxon names\n",
    "import requests\n",
    "import json\n",
    "from time import sleep\n",
    "\n",
    "apiurlbase = \"https://api.inaturalist.org/v1/taxa/\"\n",
    "taxonlist = []\n",
    "i = 1\n",
    "for unmatchedid in unmatchedtaxonids:\n",
    "    print(str(i) + \" \" + unmatchedid)\n",
    "    apiurl = apiurlbase + str(unmatchedid)\n",
    "    response = requests.request(\"GET\", apiurl)\n",
    "    payload = json.loads(response.text)\n",
    "    if (payload['total_results'] == 1):\n",
    "        r = payload['results'][0]\n",
    "        try:\n",
    "            common_name = r['preferred_common_name']\n",
    "        except KeyError:\n",
    "            common_name = \"\"\n",
    "        taxonlist.append({'taxon_id': unmatchedid,\n",
    "                      'name':r['name'],\n",
    "                      'preferred_common_name':common_name,\n",
    "                      'is_active':r['is_active'],\n",
    "                      'observation_count':r['observations_count'],'current_synonymous_taxon_ids':r['current_synonymous_taxon_ids']})\n",
    "    else:\n",
    "        print(\"Warning: taxon_id \" + unmatchedid + \"returns more than one result from inaturalist\")\n",
    "    sleep(1)\n",
    "    i+=1\n",
    "\n",
    "pd.DataFrame(taxonlist).to_csv(dataindir + \"inat-aust-inactive-taxon.csv\",index = False)"
   ],
   "metadata": {
    "collapsed": false,
    "pycharm": {
     "name": "#%%\n"
    },
    "ExecuteTime": {
     "end_time": "2023-12-19T02:42:15.180829Z",
     "start_time": "2023-12-19T02:37:06.743651Z"
    }
   }
  },
  {
   "cell_type": "code",
   "execution_count": 21,
   "outputs": [
    {
     "data": {
      "text/plain": "    taxon_id                    name    preferred_common_name is_active  \\\n0    1262199         Caleana dixonii    Sandplain Duck Orchid     False   \n1     508987     Diomedea epomophora          Royal Albatross     False   \n2    1264437     Arctophoca forsteri     New Zealand Fur Seal     False   \n3    1264442   Arctophoca tropicalis    Subantarctic Fur Seal     False   \n4     370219    Geodorum densiflorum  Shepherd's Crook Orchid     False   \n..       ...                     ...                      ...       ...   \n159  1076724   Eucalyptus lateritica                      NaN     False   \n160  1251810  Eucalyptus leprophloia                      NaN     False   \n161  1251860  Eucalyptus pruiniramis                      NaN     False   \n162  1076433  Eucalyptus erectifolia                      NaN     False   \n163    50744         Stiphodon allen          Opal Cling-Goby     False   \n\n    observation_count current_synonymous_taxon_ids  \n0                   0                           []  \n1                   0              [4124, 1506470]  \n2                   0                      [41752]  \n3                   0                      [41753]  \n4                   1                    [1453516]  \n..                ...                          ...  \n159                 0                    [1472798]  \n160                 0                    [1472799]  \n161                 0                    [1472826]  \n162                 0                    [1472783]  \n163                 0                           []  \n\n[164 rows x 6 columns]",
      "text/html": "<div>\n<style scoped>\n    .dataframe tbody tr th:only-of-type {\n        vertical-align: middle;\n    }\n\n    .dataframe tbody tr th {\n        vertical-align: top;\n    }\n\n    .dataframe thead th {\n        text-align: right;\n    }\n</style>\n<table border=\"1\" class=\"dataframe\">\n  <thead>\n    <tr style=\"text-align: right;\">\n      <th></th>\n      <th>taxon_id</th>\n      <th>name</th>\n      <th>preferred_common_name</th>\n      <th>is_active</th>\n      <th>observation_count</th>\n      <th>current_synonymous_taxon_ids</th>\n    </tr>\n  </thead>\n  <tbody>\n    <tr>\n      <th>0</th>\n      <td>1262199</td>\n      <td>Caleana dixonii</td>\n      <td>Sandplain Duck Orchid</td>\n      <td>False</td>\n      <td>0</td>\n      <td>[]</td>\n    </tr>\n    <tr>\n      <th>1</th>\n      <td>508987</td>\n      <td>Diomedea epomophora</td>\n      <td>Royal Albatross</td>\n      <td>False</td>\n      <td>0</td>\n      <td>[4124, 1506470]</td>\n    </tr>\n    <tr>\n      <th>2</th>\n      <td>1264437</td>\n      <td>Arctophoca forsteri</td>\n      <td>New Zealand Fur Seal</td>\n      <td>False</td>\n      <td>0</td>\n      <td>[41752]</td>\n    </tr>\n    <tr>\n      <th>3</th>\n      <td>1264442</td>\n      <td>Arctophoca tropicalis</td>\n      <td>Subantarctic Fur Seal</td>\n      <td>False</td>\n      <td>0</td>\n      <td>[41753]</td>\n    </tr>\n    <tr>\n      <th>4</th>\n      <td>370219</td>\n      <td>Geodorum densiflorum</td>\n      <td>Shepherd's Crook Orchid</td>\n      <td>False</td>\n      <td>1</td>\n      <td>[1453516]</td>\n    </tr>\n    <tr>\n      <th>...</th>\n      <td>...</td>\n      <td>...</td>\n      <td>...</td>\n      <td>...</td>\n      <td>...</td>\n      <td>...</td>\n    </tr>\n    <tr>\n      <th>159</th>\n      <td>1076724</td>\n      <td>Eucalyptus lateritica</td>\n      <td>NaN</td>\n      <td>False</td>\n      <td>0</td>\n      <td>[1472798]</td>\n    </tr>\n    <tr>\n      <th>160</th>\n      <td>1251810</td>\n      <td>Eucalyptus leprophloia</td>\n      <td>NaN</td>\n      <td>False</td>\n      <td>0</td>\n      <td>[1472799]</td>\n    </tr>\n    <tr>\n      <th>161</th>\n      <td>1251860</td>\n      <td>Eucalyptus pruiniramis</td>\n      <td>NaN</td>\n      <td>False</td>\n      <td>0</td>\n      <td>[1472826]</td>\n    </tr>\n    <tr>\n      <th>162</th>\n      <td>1076433</td>\n      <td>Eucalyptus erectifolia</td>\n      <td>NaN</td>\n      <td>False</td>\n      <td>0</td>\n      <td>[1472783]</td>\n    </tr>\n    <tr>\n      <th>163</th>\n      <td>50744</td>\n      <td>Stiphodon allen</td>\n      <td>Opal Cling-Goby</td>\n      <td>False</td>\n      <td>0</td>\n      <td>[]</td>\n    </tr>\n  </tbody>\n</table>\n<p>164 rows × 6 columns</p>\n</div>"
     },
     "execution_count": 21,
     "metadata": {},
     "output_type": "execute_result"
    }
   ],
   "source": [
    "inactivetaxa = pd.read_csv(dataindir+\"inat-aust-inactive-taxon.csv\", dtype=str)\n",
    "inactivetaxa"
   ],
   "metadata": {
    "collapsed": false,
    "pycharm": {
     "name": "#%%\n"
    },
    "ExecuteTime": {
     "end_time": "2023-12-19T02:42:58.098873Z",
     "start_time": "2023-12-19T02:42:58.089353Z"
    }
   }
  },
  {
   "cell_type": "markdown",
   "source": [
    "The taxa above are typically marked as inactive, which means they have no observations in iNaturalist. Collate them into the taxa list, and merge the name into the scientificName field for later use.\n"
   ],
   "metadata": {
    "collapsed": false
   }
  },
  {
   "cell_type": "code",
   "execution_count": 22,
   "outputs": [
    {
     "data": {
      "text/plain": "     taxon_id       id                                   taxonID  \\\n0      918383   918383   https://www.inaturalist.org/taxa/918383   \n1     1247288  1247288  https://www.inaturalist.org/taxa/1247288   \n2     1448721  1448721  https://www.inaturalist.org/taxa/1448721   \n3     1120831  1120831  https://www.inaturalist.org/taxa/1120831   \n4      577809   577809   https://www.inaturalist.org/taxa/577809   \n...       ...      ...                                       ...   \n8127   779693   779693   https://www.inaturalist.org/taxa/779693   \n8128  1244660  1244660  https://www.inaturalist.org/taxa/1244660   \n8129  1467834  1467834  https://www.inaturalist.org/taxa/1467834   \n8130  1504913  1504913  https://www.inaturalist.org/taxa/1504913   \n8131  1431865  1431865  https://www.inaturalist.org/taxa/1431865   \n\n                                    identifier  \\\n0      https://www.inaturalist.org/taxa/918383   \n1     https://www.inaturalist.org/taxa/1247288   \n2     https://www.inaturalist.org/taxa/1448721   \n3     https://www.inaturalist.org/taxa/1120831   \n4      https://www.inaturalist.org/taxa/577809   \n...                                        ...   \n8127   https://www.inaturalist.org/taxa/779693   \n8128  https://www.inaturalist.org/taxa/1244660   \n8129  https://www.inaturalist.org/taxa/1467834   \n8130  https://www.inaturalist.org/taxa/1504913   \n8131  https://www.inaturalist.org/taxa/1431865   \n\n                             parentNameUsageID   kingdom        phylum  \\\n0      https://www.inaturalist.org/taxa/430819   Plantae  Tracheophyta   \n1      https://www.inaturalist.org/taxa/184926   Plantae  Tracheophyta   \n2     https://www.inaturalist.org/taxa/1448501   Plantae  Tracheophyta   \n3      https://www.inaturalist.org/taxa/576108   Plantae  Tracheophyta   \n4      https://www.inaturalist.org/taxa/543990   Plantae  Tracheophyta   \n...                                        ...       ...           ...   \n8127   https://www.inaturalist.org/taxa/421546  Animalia    Arthropoda   \n8128    https://www.inaturalist.org/taxa/92930   Plantae  Tracheophyta   \n8129    https://www.inaturalist.org/taxa/83598   Plantae  Tracheophyta   \n8130   https://www.inaturalist.org/taxa/324014   Plantae  Tracheophyta   \n8131    https://www.inaturalist.org/taxa/43278  Animalia      Chordata   \n\n              class            order         family         genus  \\\n0        Liliopsida      Asparagales    Orchidaceae  Chiloschista   \n1     Magnoliopsida          Rosales     Rhamnaceae    Pomaderris   \n2     Magnoliopsida      Gentianales    Apocynaceae  Leichhardtia   \n3     Magnoliopsida       Oxalidales    Cunoniaceae   Acrophyllum   \n4     Magnoliopsida         Myrtales      Myrtaceae     Lenwebbia   \n...             ...              ...            ...           ...   \n8127      Arachnida          Araneae  Theraphosidae  Selenocosmia   \n8128  Magnoliopsida       Sapindales       Rutaceae        Zieria   \n8129  Magnoliopsida      Dilleniales   Dilleniaceae     Hibbertia   \n8130     Liliopsida      Asparagales  Asphodelaceae        Caesia   \n8131       Mammalia  Peramelemorphia  Chaeropodidae     Chaeropus   \n\n     specificEpithet infraspecificEpithet              modified  \\\n0        phyllorhiza                  NaN  2023-09-27T02:32:53Z   \n1            bodalla                  NaN  2021-08-27T06:18:35Z   \n2       glandulifera                  NaN  2023-02-12T02:51:48Z   \n3           australe                  NaN  2021-03-14T08:51:19Z   \n4          prominens                  NaN  2022-07-05T21:45:25Z   \n...              ...                  ...                   ...   \n8127       crassipes                  NaN  2020-12-20T02:39:27Z   \n8128      gymnocarpa                  NaN  2021-07-28T04:47:17Z   \n8129       charlesii                  NaN  2023-05-15T23:10:33Z   \n8130         arcuata                  NaN  2023-10-26T00:54:40Z   \n8131        yirratji                  NaN  2022-12-06T23:41:35Z   \n\n                 scientificName taxonRank  \\\n0      Chiloschista phyllorhiza   species   \n1            Pomaderris bodalla   species   \n2     Leichhardtia glandulifera   species   \n3          Acrophyllum australe   species   \n4           Lenwebbia prominens   species   \n...                         ...       ...   \n8127     Selenocosmia crassipes   species   \n8128          Zieria gymnocarpa   species   \n8129        Hibbertia charlesii   species   \n8130             Caesia arcuata   species   \n8131         Chaeropus yirratji   species   \n\n                                             references preferred_common_name  \\\n0     http://www.catalogueoflife.org/annual-checklis...                   NaN   \n1                        https://eol.org/pages/49432063                   NaN   \n2     https://powo.science.kew.org/taxon/urn:lsid:ip...                   NaN   \n3                    http://plantsoftheworldonline.org/                   NaN   \n4     http://www.catalogueoflife.org/annual-checklis...                   NaN   \n...                                                 ...                   ...   \n8127                                                NaN                   NaN   \n8128                                                NaN                   NaN   \n8129                                                NaN                   NaN   \n8130  https://powo.science.kew.org/taxon/urn:lsid:ip...                   NaN   \n8131                                                NaN                   NaN   \n\n     is_active current_synonymous_taxon_ids  \n0          NaN                          NaN  \n1          NaN                          NaN  \n2          NaN                          NaN  \n3          NaN                          NaN  \n4          NaN                          NaN  \n...        ...                          ...  \n8127       NaN                          NaN  \n8128       NaN                          NaN  \n8129       NaN                          NaN  \n8130       NaN                          NaN  \n8131       NaN                          NaN  \n\n[8132 rows x 20 columns]",
      "text/html": "<div>\n<style scoped>\n    .dataframe tbody tr th:only-of-type {\n        vertical-align: middle;\n    }\n\n    .dataframe tbody tr th {\n        vertical-align: top;\n    }\n\n    .dataframe thead th {\n        text-align: right;\n    }\n</style>\n<table border=\"1\" class=\"dataframe\">\n  <thead>\n    <tr style=\"text-align: right;\">\n      <th></th>\n      <th>taxon_id</th>\n      <th>id</th>\n      <th>taxonID</th>\n      <th>identifier</th>\n      <th>parentNameUsageID</th>\n      <th>kingdom</th>\n      <th>phylum</th>\n      <th>class</th>\n      <th>order</th>\n      <th>family</th>\n      <th>genus</th>\n      <th>specificEpithet</th>\n      <th>infraspecificEpithet</th>\n      <th>modified</th>\n      <th>scientificName</th>\n      <th>taxonRank</th>\n      <th>references</th>\n      <th>preferred_common_name</th>\n      <th>is_active</th>\n      <th>current_synonymous_taxon_ids</th>\n    </tr>\n  </thead>\n  <tbody>\n    <tr>\n      <th>0</th>\n      <td>918383</td>\n      <td>918383</td>\n      <td>https://www.inaturalist.org/taxa/918383</td>\n      <td>https://www.inaturalist.org/taxa/918383</td>\n      <td>https://www.inaturalist.org/taxa/430819</td>\n      <td>Plantae</td>\n      <td>Tracheophyta</td>\n      <td>Liliopsida</td>\n      <td>Asparagales</td>\n      <td>Orchidaceae</td>\n      <td>Chiloschista</td>\n      <td>phyllorhiza</td>\n      <td>NaN</td>\n      <td>2023-09-27T02:32:53Z</td>\n      <td>Chiloschista phyllorhiza</td>\n      <td>species</td>\n      <td>http://www.catalogueoflife.org/annual-checklis...</td>\n      <td>NaN</td>\n      <td>NaN</td>\n      <td>NaN</td>\n    </tr>\n    <tr>\n      <th>1</th>\n      <td>1247288</td>\n      <td>1247288</td>\n      <td>https://www.inaturalist.org/taxa/1247288</td>\n      <td>https://www.inaturalist.org/taxa/1247288</td>\n      <td>https://www.inaturalist.org/taxa/184926</td>\n      <td>Plantae</td>\n      <td>Tracheophyta</td>\n      <td>Magnoliopsida</td>\n      <td>Rosales</td>\n      <td>Rhamnaceae</td>\n      <td>Pomaderris</td>\n      <td>bodalla</td>\n      <td>NaN</td>\n      <td>2021-08-27T06:18:35Z</td>\n      <td>Pomaderris bodalla</td>\n      <td>species</td>\n      <td>https://eol.org/pages/49432063</td>\n      <td>NaN</td>\n      <td>NaN</td>\n      <td>NaN</td>\n    </tr>\n    <tr>\n      <th>2</th>\n      <td>1448721</td>\n      <td>1448721</td>\n      <td>https://www.inaturalist.org/taxa/1448721</td>\n      <td>https://www.inaturalist.org/taxa/1448721</td>\n      <td>https://www.inaturalist.org/taxa/1448501</td>\n      <td>Plantae</td>\n      <td>Tracheophyta</td>\n      <td>Magnoliopsida</td>\n      <td>Gentianales</td>\n      <td>Apocynaceae</td>\n      <td>Leichhardtia</td>\n      <td>glandulifera</td>\n      <td>NaN</td>\n      <td>2023-02-12T02:51:48Z</td>\n      <td>Leichhardtia glandulifera</td>\n      <td>species</td>\n      <td>https://powo.science.kew.org/taxon/urn:lsid:ip...</td>\n      <td>NaN</td>\n      <td>NaN</td>\n      <td>NaN</td>\n    </tr>\n    <tr>\n      <th>3</th>\n      <td>1120831</td>\n      <td>1120831</td>\n      <td>https://www.inaturalist.org/taxa/1120831</td>\n      <td>https://www.inaturalist.org/taxa/1120831</td>\n      <td>https://www.inaturalist.org/taxa/576108</td>\n      <td>Plantae</td>\n      <td>Tracheophyta</td>\n      <td>Magnoliopsida</td>\n      <td>Oxalidales</td>\n      <td>Cunoniaceae</td>\n      <td>Acrophyllum</td>\n      <td>australe</td>\n      <td>NaN</td>\n      <td>2021-03-14T08:51:19Z</td>\n      <td>Acrophyllum australe</td>\n      <td>species</td>\n      <td>http://plantsoftheworldonline.org/</td>\n      <td>NaN</td>\n      <td>NaN</td>\n      <td>NaN</td>\n    </tr>\n    <tr>\n      <th>4</th>\n      <td>577809</td>\n      <td>577809</td>\n      <td>https://www.inaturalist.org/taxa/577809</td>\n      <td>https://www.inaturalist.org/taxa/577809</td>\n      <td>https://www.inaturalist.org/taxa/543990</td>\n      <td>Plantae</td>\n      <td>Tracheophyta</td>\n      <td>Magnoliopsida</td>\n      <td>Myrtales</td>\n      <td>Myrtaceae</td>\n      <td>Lenwebbia</td>\n      <td>prominens</td>\n      <td>NaN</td>\n      <td>2022-07-05T21:45:25Z</td>\n      <td>Lenwebbia prominens</td>\n      <td>species</td>\n      <td>http://www.catalogueoflife.org/annual-checklis...</td>\n      <td>NaN</td>\n      <td>NaN</td>\n      <td>NaN</td>\n    </tr>\n    <tr>\n      <th>...</th>\n      <td>...</td>\n      <td>...</td>\n      <td>...</td>\n      <td>...</td>\n      <td>...</td>\n      <td>...</td>\n      <td>...</td>\n      <td>...</td>\n      <td>...</td>\n      <td>...</td>\n      <td>...</td>\n      <td>...</td>\n      <td>...</td>\n      <td>...</td>\n      <td>...</td>\n      <td>...</td>\n      <td>...</td>\n      <td>...</td>\n      <td>...</td>\n      <td>...</td>\n    </tr>\n    <tr>\n      <th>8127</th>\n      <td>779693</td>\n      <td>779693</td>\n      <td>https://www.inaturalist.org/taxa/779693</td>\n      <td>https://www.inaturalist.org/taxa/779693</td>\n      <td>https://www.inaturalist.org/taxa/421546</td>\n      <td>Animalia</td>\n      <td>Arthropoda</td>\n      <td>Arachnida</td>\n      <td>Araneae</td>\n      <td>Theraphosidae</td>\n      <td>Selenocosmia</td>\n      <td>crassipes</td>\n      <td>NaN</td>\n      <td>2020-12-20T02:39:27Z</td>\n      <td>Selenocosmia crassipes</td>\n      <td>species</td>\n      <td>NaN</td>\n      <td>NaN</td>\n      <td>NaN</td>\n      <td>NaN</td>\n    </tr>\n    <tr>\n      <th>8128</th>\n      <td>1244660</td>\n      <td>1244660</td>\n      <td>https://www.inaturalist.org/taxa/1244660</td>\n      <td>https://www.inaturalist.org/taxa/1244660</td>\n      <td>https://www.inaturalist.org/taxa/92930</td>\n      <td>Plantae</td>\n      <td>Tracheophyta</td>\n      <td>Magnoliopsida</td>\n      <td>Sapindales</td>\n      <td>Rutaceae</td>\n      <td>Zieria</td>\n      <td>gymnocarpa</td>\n      <td>NaN</td>\n      <td>2021-07-28T04:47:17Z</td>\n      <td>Zieria gymnocarpa</td>\n      <td>species</td>\n      <td>NaN</td>\n      <td>NaN</td>\n      <td>NaN</td>\n      <td>NaN</td>\n    </tr>\n    <tr>\n      <th>8129</th>\n      <td>1467834</td>\n      <td>1467834</td>\n      <td>https://www.inaturalist.org/taxa/1467834</td>\n      <td>https://www.inaturalist.org/taxa/1467834</td>\n      <td>https://www.inaturalist.org/taxa/83598</td>\n      <td>Plantae</td>\n      <td>Tracheophyta</td>\n      <td>Magnoliopsida</td>\n      <td>Dilleniales</td>\n      <td>Dilleniaceae</td>\n      <td>Hibbertia</td>\n      <td>charlesii</td>\n      <td>NaN</td>\n      <td>2023-05-15T23:10:33Z</td>\n      <td>Hibbertia charlesii</td>\n      <td>species</td>\n      <td>NaN</td>\n      <td>NaN</td>\n      <td>NaN</td>\n      <td>NaN</td>\n    </tr>\n    <tr>\n      <th>8130</th>\n      <td>1504913</td>\n      <td>1504913</td>\n      <td>https://www.inaturalist.org/taxa/1504913</td>\n      <td>https://www.inaturalist.org/taxa/1504913</td>\n      <td>https://www.inaturalist.org/taxa/324014</td>\n      <td>Plantae</td>\n      <td>Tracheophyta</td>\n      <td>Liliopsida</td>\n      <td>Asparagales</td>\n      <td>Asphodelaceae</td>\n      <td>Caesia</td>\n      <td>arcuata</td>\n      <td>NaN</td>\n      <td>2023-10-26T00:54:40Z</td>\n      <td>Caesia arcuata</td>\n      <td>species</td>\n      <td>https://powo.science.kew.org/taxon/urn:lsid:ip...</td>\n      <td>NaN</td>\n      <td>NaN</td>\n      <td>NaN</td>\n    </tr>\n    <tr>\n      <th>8131</th>\n      <td>1431865</td>\n      <td>1431865</td>\n      <td>https://www.inaturalist.org/taxa/1431865</td>\n      <td>https://www.inaturalist.org/taxa/1431865</td>\n      <td>https://www.inaturalist.org/taxa/43278</td>\n      <td>Animalia</td>\n      <td>Chordata</td>\n      <td>Mammalia</td>\n      <td>Peramelemorphia</td>\n      <td>Chaeropodidae</td>\n      <td>Chaeropus</td>\n      <td>yirratji</td>\n      <td>NaN</td>\n      <td>2022-12-06T23:41:35Z</td>\n      <td>Chaeropus yirratji</td>\n      <td>species</td>\n      <td>NaN</td>\n      <td>NaN</td>\n      <td>NaN</td>\n      <td>NaN</td>\n    </tr>\n  </tbody>\n</table>\n<p>8132 rows × 20 columns</p>\n</div>"
     },
     "execution_count": 22,
     "metadata": {},
     "output_type": "execute_result"
    }
   ],
   "source": [
    "# collate the status and the taxon info into a single file to use for the state work\n",
    "# scientificName is 1. if id field is null, the name field or 2. else it's scientificName\n",
    "alltaxa = pd.merge(inataustaxa, inactivetaxa, how=\"left\")\n",
    "alltaxa['scientificName'] = alltaxa.apply(lambda x: x['name'] if pd.isnull(x['id']) else x['scientificName'],axis=1)\n",
    "alltaxa = alltaxa.drop(['name','observation_count'],axis=1)\n",
    "alltaxa\n"
   ],
   "metadata": {
    "collapsed": false,
    "pycharm": {
     "name": "#%%\n"
    },
    "ExecuteTime": {
     "end_time": "2023-12-19T02:43:11.626142Z",
     "start_time": "2023-12-19T02:43:11.579365Z"
    }
   }
  },
  {
   "cell_type": "code",
   "execution_count": 23,
   "outputs": [
    {
     "data": {
      "text/plain": "          id taxon_id  user_id place_id source_id  \\\n0     234788   918383   702203     9994             \n1     180721  1247288   222137     6825             \n2     276823  1448721   708886     6827     16654   \n3     166610  1120831  3669610     6744             \n4     164339   577809    58320     7308             \n...      ...      ...      ...      ...       ...   \n9796  169061  1244660   409010                      \n9797  278759  1467834   624851                      \n9798  280488  1251881    84719                      \n9799  283824  1504913  1138587                      \n9800  276276  1431865   708886                      \n\n                                              authority  \\\n0                             Atlas of Living Australia   \n1     New South Wales Office of Environment and Heri...   \n2        WA Department of Environment and Convservation   \n3                                 Australian Government   \n4             Qld Department of Environment and Science   \n...                                                 ...   \n9796          Qld Department of Environment and Science   \n9797   Western Australian Herbarium, Biodiversity an...   \n9798  New South Wales Office of Environment and Heri...   \n9799    Conservation Codes for Western Australian Flora   \n9800  WA Deparment of Biodiversity, Conservation and...   \n\n                     status  \\\n0                       NT    \n1                Vulnerable   \n2                endangered   \n3                        VU   \n4           Near Threatened   \n...                     ...   \n9796  Critically Endangered   \n9797           Priority Two   \n9798             Endangered   \n9799             Priority 1   \n9800                Extinct   \n\n                                                    url  \\\n0     https://bie.ala.org.au/species/https://id.biod...   \n1     https://www.environment.nsw.gov.au/threateneds...   \n2     https://lists.ala.org.au/speciesListItem/list/...   \n3                    http://www.environment.gov.au/epbc   \n4     https://apps.des.qld.gov.au/species-search/det...   \n...                                                 ...   \n9796  https://apps.des.qld.gov.au/species-search/det...   \n9797  https://florabase.dpaw.wa.gov.au/browse/profil...   \n9798  https://www.environment.nsw.gov.au/threateneds...   \n9799  https://florabase.dbca.wa.gov.au/browse/profil...   \n9800  https://bie.ala.org.au/species/https://biodive...   \n\n                                            description geoprivacy  ...  \\\n0                                                                   ...   \n1                                                             open  ...   \n2                                                         obscured  ...   \n3                                                                   ...   \n4                                                                   ...   \n...                                                 ...        ...  ...   \n9796                                                                ...   \n9797  Poorly known, some records from Conservation a...   obscured  ...   \n9798                                                      obscured  ...   \n9799                                                      obscured  ...   \n9800                                                      obscured  ...   \n\n             genus specificEpithet infraspecificEpithet              modified  \\\n0     Chiloschista     phyllorhiza                  NaN  2023-09-27T02:32:53Z   \n1       Pomaderris         bodalla                  NaN  2021-08-27T06:18:35Z   \n2     Leichhardtia    glandulifera                  NaN  2023-02-12T02:51:48Z   \n3      Acrophyllum        australe                  NaN  2021-03-14T08:51:19Z   \n4        Lenwebbia       prominens                  NaN  2022-07-05T21:45:25Z   \n...            ...             ...                  ...                   ...   \n9796        Zieria      gymnocarpa                  NaN  2021-07-28T04:47:17Z   \n9797     Hibbertia       charlesii                  NaN  2023-05-15T23:10:33Z   \n9798    Eucalyptus      pachycalyx             banyabba  2021-07-28T03:30:28Z   \n9799        Caesia         arcuata                  NaN  2023-10-26T00:54:40Z   \n9800     Chaeropus        yirratji                  NaN  2022-12-06T23:41:35Z   \n\n                      scientificName   taxonRank  \\\n0           Chiloschista phyllorhiza     species   \n1                 Pomaderris bodalla     species   \n2          Leichhardtia glandulifera     species   \n3               Acrophyllum australe     species   \n4                Lenwebbia prominens     species   \n...                              ...         ...   \n9796               Zieria gymnocarpa     species   \n9797             Hibbertia charlesii     species   \n9798  Eucalyptus pachycalyx banyabba  subspecies   \n9799                  Caesia arcuata     species   \n9800              Chaeropus yirratji     species   \n\n                                             references preferred_common_name  \\\n0     http://www.catalogueoflife.org/annual-checklis...                   NaN   \n1                        https://eol.org/pages/49432063                   NaN   \n2     https://powo.science.kew.org/taxon/urn:lsid:ip...                   NaN   \n3                    http://plantsoftheworldonline.org/                   NaN   \n4     http://www.catalogueoflife.org/annual-checklis...                   NaN   \n...                                                 ...                   ...   \n9796                                                NaN                   NaN   \n9797                                                NaN                   NaN   \n9798                     https://eol.org/pages/50186382                   NaN   \n9799  https://powo.science.kew.org/taxon/urn:lsid:ip...                   NaN   \n9800                                                NaN                   NaN   \n\n     is_active current_synonymous_taxon_ids  \n0          NaN                          NaN  \n1          NaN                          NaN  \n2          NaN                          NaN  \n3          NaN                          NaN  \n4          NaN                          NaN  \n...        ...                          ...  \n9796       NaN                          NaN  \n9797       NaN                          NaN  \n9798       NaN                          NaN  \n9799       NaN                          NaN  \n9800       NaN                          NaN  \n\n[9801 rows x 34 columns]",
      "text/html": "<div>\n<style scoped>\n    .dataframe tbody tr th:only-of-type {\n        vertical-align: middle;\n    }\n\n    .dataframe tbody tr th {\n        vertical-align: top;\n    }\n\n    .dataframe thead th {\n        text-align: right;\n    }\n</style>\n<table border=\"1\" class=\"dataframe\">\n  <thead>\n    <tr style=\"text-align: right;\">\n      <th></th>\n      <th>id</th>\n      <th>taxon_id</th>\n      <th>user_id</th>\n      <th>place_id</th>\n      <th>source_id</th>\n      <th>authority</th>\n      <th>status</th>\n      <th>url</th>\n      <th>description</th>\n      <th>geoprivacy</th>\n      <th>...</th>\n      <th>genus</th>\n      <th>specificEpithet</th>\n      <th>infraspecificEpithet</th>\n      <th>modified</th>\n      <th>scientificName</th>\n      <th>taxonRank</th>\n      <th>references</th>\n      <th>preferred_common_name</th>\n      <th>is_active</th>\n      <th>current_synonymous_taxon_ids</th>\n    </tr>\n  </thead>\n  <tbody>\n    <tr>\n      <th>0</th>\n      <td>234788</td>\n      <td>918383</td>\n      <td>702203</td>\n      <td>9994</td>\n      <td></td>\n      <td>Atlas of Living Australia</td>\n      <td>NT</td>\n      <td>https://bie.ala.org.au/species/https://id.biod...</td>\n      <td></td>\n      <td></td>\n      <td>...</td>\n      <td>Chiloschista</td>\n      <td>phyllorhiza</td>\n      <td>NaN</td>\n      <td>2023-09-27T02:32:53Z</td>\n      <td>Chiloschista phyllorhiza</td>\n      <td>species</td>\n      <td>http://www.catalogueoflife.org/annual-checklis...</td>\n      <td>NaN</td>\n      <td>NaN</td>\n      <td>NaN</td>\n    </tr>\n    <tr>\n      <th>1</th>\n      <td>180721</td>\n      <td>1247288</td>\n      <td>222137</td>\n      <td>6825</td>\n      <td></td>\n      <td>New South Wales Office of Environment and Heri...</td>\n      <td>Vulnerable</td>\n      <td>https://www.environment.nsw.gov.au/threateneds...</td>\n      <td></td>\n      <td>open</td>\n      <td>...</td>\n      <td>Pomaderris</td>\n      <td>bodalla</td>\n      <td>NaN</td>\n      <td>2021-08-27T06:18:35Z</td>\n      <td>Pomaderris bodalla</td>\n      <td>species</td>\n      <td>https://eol.org/pages/49432063</td>\n      <td>NaN</td>\n      <td>NaN</td>\n      <td>NaN</td>\n    </tr>\n    <tr>\n      <th>2</th>\n      <td>276823</td>\n      <td>1448721</td>\n      <td>708886</td>\n      <td>6827</td>\n      <td>16654</td>\n      <td>WA Department of Environment and Convservation</td>\n      <td>endangered</td>\n      <td>https://lists.ala.org.au/speciesListItem/list/...</td>\n      <td></td>\n      <td>obscured</td>\n      <td>...</td>\n      <td>Leichhardtia</td>\n      <td>glandulifera</td>\n      <td>NaN</td>\n      <td>2023-02-12T02:51:48Z</td>\n      <td>Leichhardtia glandulifera</td>\n      <td>species</td>\n      <td>https://powo.science.kew.org/taxon/urn:lsid:ip...</td>\n      <td>NaN</td>\n      <td>NaN</td>\n      <td>NaN</td>\n    </tr>\n    <tr>\n      <th>3</th>\n      <td>166610</td>\n      <td>1120831</td>\n      <td>3669610</td>\n      <td>6744</td>\n      <td></td>\n      <td>Australian Government</td>\n      <td>VU</td>\n      <td>http://www.environment.gov.au/epbc</td>\n      <td></td>\n      <td></td>\n      <td>...</td>\n      <td>Acrophyllum</td>\n      <td>australe</td>\n      <td>NaN</td>\n      <td>2021-03-14T08:51:19Z</td>\n      <td>Acrophyllum australe</td>\n      <td>species</td>\n      <td>http://plantsoftheworldonline.org/</td>\n      <td>NaN</td>\n      <td>NaN</td>\n      <td>NaN</td>\n    </tr>\n    <tr>\n      <th>4</th>\n      <td>164339</td>\n      <td>577809</td>\n      <td>58320</td>\n      <td>7308</td>\n      <td></td>\n      <td>Qld Department of Environment and Science</td>\n      <td>Near Threatened</td>\n      <td>https://apps.des.qld.gov.au/species-search/det...</td>\n      <td></td>\n      <td></td>\n      <td>...</td>\n      <td>Lenwebbia</td>\n      <td>prominens</td>\n      <td>NaN</td>\n      <td>2022-07-05T21:45:25Z</td>\n      <td>Lenwebbia prominens</td>\n      <td>species</td>\n      <td>http://www.catalogueoflife.org/annual-checklis...</td>\n      <td>NaN</td>\n      <td>NaN</td>\n      <td>NaN</td>\n    </tr>\n    <tr>\n      <th>...</th>\n      <td>...</td>\n      <td>...</td>\n      <td>...</td>\n      <td>...</td>\n      <td>...</td>\n      <td>...</td>\n      <td>...</td>\n      <td>...</td>\n      <td>...</td>\n      <td>...</td>\n      <td>...</td>\n      <td>...</td>\n      <td>...</td>\n      <td>...</td>\n      <td>...</td>\n      <td>...</td>\n      <td>...</td>\n      <td>...</td>\n      <td>...</td>\n      <td>...</td>\n      <td>...</td>\n    </tr>\n    <tr>\n      <th>9796</th>\n      <td>169061</td>\n      <td>1244660</td>\n      <td>409010</td>\n      <td></td>\n      <td></td>\n      <td>Qld Department of Environment and Science</td>\n      <td>Critically Endangered</td>\n      <td>https://apps.des.qld.gov.au/species-search/det...</td>\n      <td></td>\n      <td></td>\n      <td>...</td>\n      <td>Zieria</td>\n      <td>gymnocarpa</td>\n      <td>NaN</td>\n      <td>2021-07-28T04:47:17Z</td>\n      <td>Zieria gymnocarpa</td>\n      <td>species</td>\n      <td>NaN</td>\n      <td>NaN</td>\n      <td>NaN</td>\n      <td>NaN</td>\n    </tr>\n    <tr>\n      <th>9797</th>\n      <td>278759</td>\n      <td>1467834</td>\n      <td>624851</td>\n      <td></td>\n      <td></td>\n      <td>Western Australian Herbarium, Biodiversity an...</td>\n      <td>Priority Two</td>\n      <td>https://florabase.dpaw.wa.gov.au/browse/profil...</td>\n      <td>Poorly known, some records from Conservation a...</td>\n      <td>obscured</td>\n      <td>...</td>\n      <td>Hibbertia</td>\n      <td>charlesii</td>\n      <td>NaN</td>\n      <td>2023-05-15T23:10:33Z</td>\n      <td>Hibbertia charlesii</td>\n      <td>species</td>\n      <td>NaN</td>\n      <td>NaN</td>\n      <td>NaN</td>\n      <td>NaN</td>\n    </tr>\n    <tr>\n      <th>9798</th>\n      <td>280488</td>\n      <td>1251881</td>\n      <td>84719</td>\n      <td></td>\n      <td></td>\n      <td>New South Wales Office of Environment and Heri...</td>\n      <td>Endangered</td>\n      <td>https://www.environment.nsw.gov.au/threateneds...</td>\n      <td></td>\n      <td>obscured</td>\n      <td>...</td>\n      <td>Eucalyptus</td>\n      <td>pachycalyx</td>\n      <td>banyabba</td>\n      <td>2021-07-28T03:30:28Z</td>\n      <td>Eucalyptus pachycalyx banyabba</td>\n      <td>subspecies</td>\n      <td>https://eol.org/pages/50186382</td>\n      <td>NaN</td>\n      <td>NaN</td>\n      <td>NaN</td>\n    </tr>\n    <tr>\n      <th>9799</th>\n      <td>283824</td>\n      <td>1504913</td>\n      <td>1138587</td>\n      <td></td>\n      <td></td>\n      <td>Conservation Codes for Western Australian Flora</td>\n      <td>Priority 1</td>\n      <td>https://florabase.dbca.wa.gov.au/browse/profil...</td>\n      <td></td>\n      <td>obscured</td>\n      <td>...</td>\n      <td>Caesia</td>\n      <td>arcuata</td>\n      <td>NaN</td>\n      <td>2023-10-26T00:54:40Z</td>\n      <td>Caesia arcuata</td>\n      <td>species</td>\n      <td>https://powo.science.kew.org/taxon/urn:lsid:ip...</td>\n      <td>NaN</td>\n      <td>NaN</td>\n      <td>NaN</td>\n    </tr>\n    <tr>\n      <th>9800</th>\n      <td>276276</td>\n      <td>1431865</td>\n      <td>708886</td>\n      <td></td>\n      <td></td>\n      <td>WA Deparment of Biodiversity, Conservation and...</td>\n      <td>Extinct</td>\n      <td>https://bie.ala.org.au/species/https://biodive...</td>\n      <td></td>\n      <td>obscured</td>\n      <td>...</td>\n      <td>Chaeropus</td>\n      <td>yirratji</td>\n      <td>NaN</td>\n      <td>2022-12-06T23:41:35Z</td>\n      <td>Chaeropus yirratji</td>\n      <td>species</td>\n      <td>NaN</td>\n      <td>NaN</td>\n      <td>NaN</td>\n      <td>NaN</td>\n    </tr>\n  </tbody>\n</table>\n<p>9801 rows × 34 columns</p>\n</div>"
     },
     "execution_count": 23,
     "metadata": {},
     "output_type": "execute_result"
    }
   ],
   "source": [
    "# now merge back with the original australian statuses and save locally\n",
    "taxastatus = pd.merge(dfaus,alltaxa,how=\"left\", on=\"taxon_id\")\n",
    "#taxastatus\n",
    "#taxastatus.drop(['id_y'])\n",
    "taxastatus = taxastatus.rename(columns={'id_x':'id'})\n",
    "taxastatus"
   ],
   "metadata": {
    "collapsed": false,
    "pycharm": {
     "name": "#%%\n"
    },
    "ExecuteTime": {
     "end_time": "2023-12-19T02:43:23.708765Z",
     "start_time": "2023-12-19T02:43:23.677225Z"
    }
   }
  },
  {
   "cell_type": "code",
   "execution_count": 24,
   "outputs": [],
   "source": [
    "taxastatus.to_csv(dataindir + \"inat-aust-status-taxa.csv\", index=False)"
   ],
   "metadata": {
    "collapsed": false,
    "pycharm": {
     "name": "#%%\n"
    },
    "ExecuteTime": {
     "end_time": "2023-12-19T02:43:51.776788Z",
     "start_time": "2023-12-19T02:43:51.530159Z"
    }
   }
  },
  {
   "cell_type": "code",
   "execution_count": 25,
   "outputs": [
    {
     "data": {
      "text/plain": "taxonRank\ncomplex          2\nform             1\ngenus            2\nhybrid          20\nspecies       8636\nsubspecies     790\nvariety        148\nName: taxonRank, dtype: int64"
     },
     "execution_count": 25,
     "metadata": {},
     "output_type": "execute_result"
    }
   ],
   "source": [
    "taxastatus.groupby(['taxonRank'])['taxonRank'].count()"
   ],
   "metadata": {
    "collapsed": false,
    "pycharm": {
     "name": "#%%\n"
    },
    "ExecuteTime": {
     "end_time": "2023-12-19T02:43:54.712909Z",
     "start_time": "2023-12-19T02:43:54.707285Z"
    }
   }
  },
  {
   "cell_type": "markdown",
   "source": [
    "## Notes about conservation status inheritance in inaturalist:\n",
    "Adding a conservation status for a higher level taxon affects observations of all the species in this taxon. Please do not add statuses for taxa that contain species that have no status because that will incorrectly obscure coordinates for observations of those species.\n",
    "\n",
    "### Example:\n",
    "Genus Acriopsis - https://www.inaturalist.org/taxa/425476-Acriopsis\n",
    "\n",
    "The inherited species records are not in the export and can't be edited, but they do appear on the species pages.\n",
    "The changes are to set _Acriopsis emarginata_ to Vulnerable. The rest will remain least concern."
   ],
   "metadata": {
    "collapsed": false
   }
  },
  {
   "cell_type": "code",
   "execution_count": 26,
   "outputs": [
    {
     "data": {
      "text/plain": "   TaxonID                  Name       Status     Rank iNat species page  \\\n1   425476             Acriopsis  LC/obscured    genus               No    \n2  1141144  Acriopsis emarginata  LC/obscured  species               Yes   \n3   425475  Acriopsis liliifolia  LC/obscured  species               Yes   \n4   427833     Acriopsis ridleyi  LC/obscured  species               Yes   \n5  1037999      Acriopsis indica  LC/obscured  Species               Yes   \n\n  iNat edit taxon Export  \n1             Yes    Yes  \n2              No     No  \n3              No     No  \n4              No     No  \n5              No     No  ",
      "text/html": "<div>\n<style scoped>\n    .dataframe tbody tr th:only-of-type {\n        vertical-align: middle;\n    }\n\n    .dataframe tbody tr th {\n        vertical-align: top;\n    }\n\n    .dataframe thead th {\n        text-align: right;\n    }\n</style>\n<table border=\"1\" class=\"dataframe\">\n  <thead>\n    <tr style=\"text-align: right;\">\n      <th></th>\n      <th>TaxonID</th>\n      <th>Name</th>\n      <th>Status</th>\n      <th>Rank</th>\n      <th>iNat species page</th>\n      <th>iNat edit taxon</th>\n      <th>Export</th>\n    </tr>\n  </thead>\n  <tbody>\n    <tr>\n      <th>1</th>\n      <td>425476</td>\n      <td>Acriopsis</td>\n      <td>LC/obscured</td>\n      <td>genus</td>\n      <td>No</td>\n      <td>Yes</td>\n      <td>Yes</td>\n    </tr>\n    <tr>\n      <th>2</th>\n      <td>1141144</td>\n      <td>Acriopsis emarginata</td>\n      <td>LC/obscured</td>\n      <td>species</td>\n      <td>Yes</td>\n      <td>No</td>\n      <td>No</td>\n    </tr>\n    <tr>\n      <th>3</th>\n      <td>425475</td>\n      <td>Acriopsis liliifolia</td>\n      <td>LC/obscured</td>\n      <td>species</td>\n      <td>Yes</td>\n      <td>No</td>\n      <td>No</td>\n    </tr>\n    <tr>\n      <th>4</th>\n      <td>427833</td>\n      <td>Acriopsis ridleyi</td>\n      <td>LC/obscured</td>\n      <td>species</td>\n      <td>Yes</td>\n      <td>No</td>\n      <td>No</td>\n    </tr>\n    <tr>\n      <th>5</th>\n      <td>1037999</td>\n      <td>Acriopsis indica</td>\n      <td>LC/obscured</td>\n      <td>Species</td>\n      <td>Yes</td>\n      <td>No</td>\n      <td>No</td>\n    </tr>\n  </tbody>\n</table>\n</div>"
     },
     "execution_count": 26,
     "metadata": {},
     "output_type": "execute_result"
    }
   ],
   "source": [
    "eg = pd.DataFrame(columns=('TaxonID', 'Name', 'Status','Rank','iNat species page','iNat edit taxon','Export'))\n",
    "eg.loc[1]=['425476','Acriopsis','LC/obscured','genus','No ','Yes','Yes']\n",
    "eg.loc[2]=['1141144','Acriopsis emarginata','LC/obscured','species','Yes','No','No']\n",
    "eg.loc[3]=['425475','Acriopsis liliifolia','LC/obscured','species','Yes','No','No']\n",
    "eg.loc[4]=['427833','Acriopsis ridleyi','LC/obscured','species','Yes','No','No']\n",
    "eg.loc[5]=['1037999','Acriopsis indica','LC/obscured','Species','Yes','No','No']\n",
    "eg"
   ],
   "metadata": {
    "collapsed": false,
    "pycharm": {
     "name": "#%%\n"
    },
    "ExecuteTime": {
     "end_time": "2023-12-19T02:44:23.565768Z",
     "start_time": "2023-12-19T02:44:23.554119Z"
    }
   }
  }
 ],
 "metadata": {
  "kernelspec": {
   "display_name": "Python 3",
   "language": "python",
   "name": "python3"
  },
  "language_info": {
   "codemirror_mode": {
    "name": "ipython",
    "version": 2
   },
   "file_extension": ".py",
   "mimetype": "text/x-python",
   "name": "python",
   "nbconvert_exporter": "python",
   "pygments_lexer": "ipython2",
   "version": "2.7.6"
  }
 },
 "nbformat": 4,
 "nbformat_minor": 0
}
